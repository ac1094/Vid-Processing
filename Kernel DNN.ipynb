{
 "cells": [
  {
   "cell_type": "code",
   "execution_count": 1,
   "id": "15620fde",
   "metadata": {},
   "outputs": [
    {
     "name": "stdout",
     "output_type": "stream",
     "text": [
      "importing Jupyter notebook from ConsistencyIndexes.ipynb\n",
      "importing Jupyter notebook from Functions.ipynb\n"
     ]
    }
   ],
   "source": [
    "import import_ipynb\n",
    "from ConsistencyIndexes import *\n",
    "import torch\n",
    "import torch.nn.functional as F\n",
    "from matplotlib import pyplot as plt\n",
    "from IPython.display import clear_output\n",
    "import torch.optim as optim\n",
    "from torch.nn.functional import mse_loss\n",
    "from torch import nn\n",
    "import os"
   ]
  },
  {
   "cell_type": "markdown",
   "id": "ec229e5d",
   "metadata": {},
   "source": [
    "# DNN Architecture"
   ]
  },
  {
   "cell_type": "code",
   "execution_count": 156,
   "id": "bc725649",
   "metadata": {},
   "outputs": [],
   "source": [
    "def apply_kernels(input_image, kernels1, kernels2=None):\n",
    "    out = input_image.clone()\n",
    "    out2 = None\n",
    "    for k in kernels1:\n",
    "        out = F.conv2d(out, k, padding='same', stride=1)  \n",
    "    if kernels2 is not None:\n",
    "        out2 = input_image.clone()\n",
    "        for k in kernels2:\n",
    "            out2 = F.conv2d(out2, k, padding='same', stride=1)\n",
    "        out = out*out2\n",
    "    return out,out2\n",
    "\n",
    "def predict(input_image, kernels1, kernels2=None):\n",
    "    input_image = torch.tensor(input_image / 255.0, dtype=torch.float32).permute(2, 0, 1).unsqueeze(0)\n",
    "    with torch.no_grad():\n",
    "        output_image,_ = apply_kernels(input_image, kernels1, kernels2)\n",
    "        output_image *= 255.0\n",
    "    return output_image.squeeze(0).permute(1, 2, 0).cpu().numpy().astype(np.uint8)\n",
    "\n",
    "def generate_kernels(Nk1,Nk2=None):\n",
    "    K1 = [torch.rand(3, 3, 5, 5, requires_grad=True)]\n",
    "    if Nk2 is not None:\n",
    "        K2 = [torch.rand(3, 3, 3, 3, requires_grad=True)]\n",
    "        return K1,K2\n",
    "    return K1\n",
    "\n",
    "def train_model(input_images, target_images, target_edges, kernels1=None, kernels2=None, Nk1=1, Nk2=1 , epochs=10, lr=0.01):\n",
    "    oimg = input_images.copy()\n",
    "    L = []\n",
    "    # Normalize input and target images (to 0-1)\n",
    "    input_images = [img / 255.0 for img in input_images]\n",
    "    target_images = [img / 255.0 for img in target_images]  \n",
    "    target_edges = [img / 255.0 for img in target_edges]  \n",
    "    # Convert input and target images to tensors\n",
    "    input_images = torch.stack([torch.tensor(img, dtype=torch.float32) for img in input_images])\n",
    "    target_images = torch.stack([torch.tensor(img, dtype=torch.float32) for img in target_images])  \n",
    "    target_edges = torch.stack([torch.tensor(img, dtype=torch.float32) for img in target_edges]) \n",
    "    # Initialize kernels\n",
    "    if kernels1 is None:\n",
    "        kernels1 = generate_kernels(Nk1)\n",
    "    if kernels2 is None and Nk2 is not None:\n",
    "        kernels2 = generate_kernels(Nk2)\n",
    "    # Define optimizer\n",
    "    if kernels2 is not None:\n",
    "        optimizer = optim.Adam(kernels1 + kernels2, lr=lr)\n",
    "    else: \n",
    "        optimizer = optim.Adam(kernels1, lr=lr)\n",
    "    # Training loop\n",
    "    for epoch in range(epochs):\n",
    "        total_loss = 0.0\n",
    "        for input_image, target_image, ed, o in zip(input_images, target_images, target_edges,oimg):\n",
    "            cv2.imshow(\"Predicted\", np.clip(predict(o, kernels1, kernels2), 0, 255))  # Display Image\n",
    "            input_image = input_image.permute(2, 0, 1).unsqueeze(0)  # Add batch dimension\n",
    "            target_image = target_image.permute(2, 0, 1).unsqueeze(0) \n",
    "            ed = ed.permute(2, 0, 1).unsqueeze(0) \n",
    "            optimizer.zero_grad()   \n",
    "            output_image,edges = apply_kernels(input_image, kernels1, kernels2)\n",
    "            if kernels2 is None:\n",
    "                    loss = F.mse_loss(output_image,target_image)\n",
    "            else:\n",
    "                loss = F.mse_loss(output_image,target_image)#+0.2*F.mse_loss(edges,ed)\n",
    "            loss.backward()\n",
    "            optimizer.step()          \n",
    "            total_loss += loss.item() \n",
    "            cv2.waitKey(10)\n",
    "        L.append(total_loss/len(input_images))\n",
    "        clear_output()\n",
    "        print(f'Epoch [{epoch+1}/{epochs}], Loss: {total_loss/len(input_images):.8f}')\n",
    "        if len(L) > 2:\n",
    "            print('+',abs(L[-2]-L[-1])) if L[-1]>L[-2] else print('-',abs(L[-1]-L[-2]))\n",
    "         #   if abs(L[-2] - L[-1]) < 1e-6:\n",
    "          #      break\n",
    "    print('Training complete.')\n",
    "    cv2.destroyAllWindows()\n",
    "    return kernels1, kernels2, L"
   ]
  },
  {
   "cell_type": "code",
   "execution_count": 138,
   "id": "1091d85d",
   "metadata": {},
   "outputs": [],
   "source": [
    "def read_first_10_frames_from_videos(directory,N):\n",
    "    video_frames = []  # Dictionary to store video names and their first 10 frames\n",
    "    for filename in os.listdir(directory):\n",
    "        if filename.endswith(\".mp4\"):  # Check for video file extensions\n",
    "            video_path = os.path.join(directory, filename)\n",
    "            cap = cv2.VideoCapture(video_path)\n",
    "            frames = []\n",
    "            frame_count = 0\n",
    "            while frame_count < N and cap.isOpened():\n",
    "                ret, frame = cap.read()\n",
    "                if not ret:\n",
    "                    break  # If the video ends before 10 frames\n",
    "                frames.append(frame)\n",
    "                frame_count += 1\n",
    "            cap.release()  # Release the video capture object\n",
    "            video_frames += frames  # Store the frames with the video name\n",
    "    return video_frames"
   ]
  },
  {
   "cell_type": "code",
   "execution_count": 62,
   "id": "30c14c50",
   "metadata": {},
   "outputs": [],
   "source": [
    "def save_kernels(kernels1, kernels2, file_path):\n",
    "    torch.save({'kernels1': kernels1, 'kernels2': kernels2}, file_path)\n",
    "    print(f'Kernels saved to {file_path}')\n",
    "def load_kernels(file_path):\n",
    "    checkpoint = torch.load(file_path)\n",
    "    kernels1 = checkpoint['kernels1']\n",
    "    kernels2 = checkpoint['kernels2']\n",
    "    print(f'Kernels loaded from {file_path}')\n",
    "    return kernels1, kernels2"
   ]
  },
  {
   "cell_type": "code",
   "execution_count": 190,
   "id": "a0521cfc",
   "metadata": {},
   "outputs": [],
   "source": [
    "directory_path = 'Uncartoonized/'\n",
    "org = read_first_10_frames_from_videos(directory_path,40)\n",
    "#ThroughFrames(orgs)"
   ]
  },
  {
   "cell_type": "code",
   "execution_count": 191,
   "id": "141cfaca",
   "metadata": {},
   "outputs": [],
   "source": [
    "directory_path = 'Cartoonized/'\n",
    "cart = read_first_10_frames_from_videos(directory_path,40)\n",
    "#ThroughFrames(carts)"
   ]
  },
  {
   "cell_type": "code",
   "execution_count": 192,
   "id": "8d95c624",
   "metadata": {},
   "outputs": [],
   "source": [
    "edges = [canny_edge(k,inverted=False) for k in org]"
   ]
  },
  {
   "cell_type": "code",
   "execution_count": 193,
   "id": "eb108a53",
   "metadata": {},
   "outputs": [],
   "source": [
    "org = [cv2.resize(o,(640,320)) for o in org]\n",
    "cart = [cv2.resize(o,(640,320)) for o in cart]\n",
    "edges = [cv2.resize(o,(640,320)) for o in edges]"
   ]
  },
  {
   "cell_type": "code",
   "execution_count": 194,
   "id": "8efcb344",
   "metadata": {},
   "outputs": [
    {
     "data": {
      "text/plain": [
       "259"
      ]
     },
     "execution_count": 194,
     "metadata": {},
     "output_type": "execute_result"
    }
   ],
   "source": [
    "len(org)"
   ]
  },
  {
   "cell_type": "code",
   "execution_count": 195,
   "id": "2cdd6f12",
   "metadata": {},
   "outputs": [],
   "source": [
    "edges =  [np.stack((e,e,e),axis=2) for e in edges]"
   ]
  },
  {
   "cell_type": "code",
   "execution_count": 196,
   "id": "dc69c8f1",
   "metadata": {},
   "outputs": [
    {
     "data": {
      "text/plain": [
       "((320, 640, 3), (320, 640, 3))"
      ]
     },
     "execution_count": 196,
     "metadata": {},
     "output_type": "execute_result"
    }
   ],
   "source": [
    "edges[0].shape,org[0].shape"
   ]
  },
  {
   "cell_type": "code",
   "execution_count": 197,
   "id": "9aa58d02",
   "metadata": {},
   "outputs": [
    {
     "name": "stdout",
     "output_type": "stream",
     "text": [
      "Epoch [20/20], Loss: 0.020401\n",
      "- 1.3824746472948513e-07\n",
      "Training complete.\n"
     ]
    }
   ],
   "source": [
    "kernels1, kernels2, Losses = train_model(org, cart,edges, kernels1,kernels2,Nk1=10, Nk2=10,epochs=20, lr=1e-7)"
   ]
  },
  {
   "cell_type": "code",
   "execution_count": 198,
   "id": "2e3a68f3",
   "metadata": {},
   "outputs": [
    {
     "data": {
      "text/plain": [
       "[<matplotlib.lines.Line2D at 0x2072c6a5648>]"
      ]
     },
     "execution_count": 198,
     "metadata": {},
     "output_type": "execute_result"
    },
    {
     "data": {
      "image/png": "[encoded data removed]",
      "text/plain": [
       "<Figure size 432x288 with 1 Axes>"
      ]
     },
     "metadata": {
      "needs_background": "light"
     },
     "output_type": "display_data"
    }
   ],
   "source": [
    "plt.plot(Losses)"
   ]
  },
  {
   "cell_type": "code",
   "execution_count": 199,
   "id": "7fdff92e",
   "metadata": {},
   "outputs": [
    {
     "name": "stdout",
     "output_type": "stream",
     "text": [
      "Kernels saved to trained_kernels10.pth\n",
      "Kernels loaded from trained_kernels10.pth\n"
     ]
    }
   ],
   "source": [
    "save_kernels(kernels1, kernels2, 'trained_kernels10.pth')\n",
    "kernels1, kernels2 = load_kernels('trained_kernels10.pth')"
   ]
  },
  {
   "cell_type": "code",
   "execution_count": 203,
   "id": "c5a8bbc2",
   "metadata": {},
   "outputs": [],
   "source": [
    "Predicted = [predict(o,kernels1,kernels2) for o in org]"
   ]
  },
  {
   "cell_type": "code",
   "execution_count": 204,
   "id": "df616d53",
   "metadata": {},
   "outputs": [],
   "source": [
    "ThroughFrames(Predicted)"
   ]
  },
  {
   "cell_type": "code",
   "execution_count": 207,
   "id": "874067fb",
   "metadata": {},
   "outputs": [],
   "source": [
    "save_vid(Predicted,\"Predicted/org_pred10.mp4\",20)"
   ]
  },
  {
   "cell_type": "code",
   "execution_count": 211,
   "id": "2bcfba4f",
   "metadata": {},
   "outputs": [
    {
     "name": "stdout",
     "output_type": "stream",
     "text": [
      "Width:  640\n",
      "Height:  360\n",
      "FPS:  30.0\n",
      "Frame Count:  852\n"
     ]
    }
   ],
   "source": [
    "cap0 = open_vid(\"VDB/bunny.mp4\")\n",
    "org0 = get_frames(cap0)\n",
    "h,w,fps,c = get_props(cap0)"
   ]
  },
  {
   "cell_type": "code",
   "execution_count": 212,
   "id": "4246cc65",
   "metadata": {},
   "outputs": [],
   "source": [
    "Predicted0 = [predict(o,kernels1,kernels2) for o in org0]"
   ]
  },
  {
   "cell_type": "code",
   "execution_count": 213,
   "id": "b02a1278",
   "metadata": {},
   "outputs": [],
   "source": [
    "ThroughFrames(Predicted0)"
   ]
  },
  {
   "cell_type": "code",
   "execution_count": 214,
   "id": "564b1e3f",
   "metadata": {},
   "outputs": [],
   "source": [
    "save_vid(Predicted0,\"Predicted/bunny_pred10.mp4\",fps)"
   ]
  },
  {
   "cell_type": "code",
   "execution_count": 215,
   "id": "77527cb2",
   "metadata": {},
   "outputs": [],
   "source": [
    "Predict1 = [predict(o,kernels1) for o in org0]"
   ]
  },
  {
   "cell_type": "code",
   "execution_count": 217,
   "id": "0a5eccb6",
   "metadata": {},
   "outputs": [],
   "source": [
    "ThroughFrames(Predict1)"
   ]
  },
  {
   "cell_type": "code",
   "execution_count": 219,
   "id": "2a1d0eae",
   "metadata": {},
   "outputs": [],
   "source": [
    "save_vid(Predict1,\"Predicted/bunny_pred10_1.mp4\",fps)"
   ]
  },
  {
   "cell_type": "code",
   "execution_count": 220,
   "id": "db33d486",
   "metadata": {},
   "outputs": [],
   "source": [
    "Predict2 = [predict(o,kernels2) for o in org0]"
   ]
  },
  {
   "cell_type": "code",
   "execution_count": null,
   "id": "5f7de60e",
   "metadata": {},
   "outputs": [],
   "source": [
    "ThroughFrames(Predict2)"
   ]
  },
  {
   "cell_type": "code",
   "execution_count": 221,
   "id": "556f8912",
   "metadata": {},
   "outputs": [],
   "source": [
    "save_vid(Predict2,\"Predicted/bunny_pred10_2.mp4\",fps)"
   ]
  },
  {
   "cell_type": "code",
   "execution_count": null,
   "id": "d3a8cbcc",
   "metadata": {},
   "outputs": [],
   "source": [
    "## Apply kernels over filtered image\n",
    "## Border detector and Smoother\n",
    "## Different kernel sizes\n",
    "## Border detector small\n",
    "## Smoother larger\n",
    "## Check what happens if a kernel is omited\n",
    "## Use past and future frames\n",
    "## Formalize the problem\n",
    "## What's the main objective of project?\n",
    "## Other DNN structures: GAN, Graphic Transformer"
   ]
  }
 ],
 "metadata": {
  "kernelspec": {
   "display_name": "Python 3",
   "language": "python",
   "name": "python3"
  },
  "language_info": {
   "codemirror_mode": {
    "name": "ipython",
    "version": 3
   },
   "file_extension": ".py",
   "mimetype": "text/x-python",
   "name": "python",
   "nbconvert_exporter": "python",
   "pygments_lexer": "ipython3",
   "version": "3.7.6"
  }
 },
 "nbformat": 4,
 "nbformat_minor": 5
}
