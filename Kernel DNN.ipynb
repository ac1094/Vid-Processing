{
 "cells": [
  {
   "cell_type": "code",
   "execution_count": 1,
   "id": "4c54ec09",
   "metadata": {},
   "outputs": [
    {
     "name": "stdout",
     "output_type": "stream",
     "text": [
      "importing Jupyter notebook from ConsistencyIndexes.ipynb\n",
      "importing Jupyter notebook from Functions.ipynb\n"
     ]
    }
   ],
   "source": [
    "import import_ipynb\n",
    "from ConsistencyIndexes import *\n",
    "import torch\n",
    "import torch.nn.functional as F\n",
    "from matplotlib import pyplot as plt\n",
    "from IPython.display import clear_output\n",
    "import torch.optim as optim\n",
    "from torch.nn.functional import mse_loss\n",
    "from torch import nn\n",
    "import os"
   ]
  },
  {
   "cell_type": "markdown",
   "id": "75833401",
   "metadata": {},
   "source": [
    "# DNN Architecture"
   ]
  },
  {
   "cell_type": "markdown",
   "id": "071b0e65",
   "metadata": {},
   "source": [
    "Loss Function:<br>\n",
    "<center>$L = MSE\\left(T,\\sum_{i=0}^{N} W_i*Conv(I,K_i)\\right)$</center><br>\n",
    "Where:<br>\n",
    "<ul>\n",
    "    <li><b>$L$</b> is the loss function.\n",
    "    <li><b>$T$</b> is the target image.\n",
    "    <li><b>$I$</b> is the original image.\n",
    "    <li><b>$N$</b> is the number of kernels and weights.\n",
    "    <li><b>$K_i$</b> is the ith kernel.\n",
    "    <li><b>$W_i$</b> is the weight for the kernel $K_i$.\n",
    "    <li><b>$Conv$</b> is the convolution function.\n",
    "    <li><b>$MSE$</b> is the mean squared error function.\n",
    "</ul>\n",
    "The gradients and parameters are calculated and updated in every pair of images for a single epoch."
   ]
  },
  {
   "cell_type": "code",
   "execution_count": 2,
   "id": "81c5f8ff",
   "metadata": {},
   "outputs": [],
   "source": [
    "def apply_kernels(input_image, kernels1, kernels2=None):\n",
    "    out = input_image.clone()\n",
    "    for k in kernels1:\n",
    "        out = F.conv2d(out, k, padding='same', stride=1)  \n",
    "    if kernels2 is not None:\n",
    "        out2 = input_image.clone()\n",
    "        for k in kernels2:\n",
    "            out2 = F.conv2d(out2, k, padding='same', stride=1)\n",
    "        out = (out+out2)/2\n",
    "    return out\n",
    "\n",
    "def predict(input_image, kernels1, kernels2):\n",
    "    input_image = torch.tensor(input_image / 255.0, dtype=torch.float32).permute(2, 0, 1).unsqueeze(0)\n",
    "    with torch.no_grad():\n",
    "        output_image = apply_kernels(input_image, kernels1, kernels2) * 255\n",
    "    return output_image.squeeze(0).permute(1, 2, 0).cpu().numpy().astype(np.uint8)\n",
    "\n",
    "def generate_kernels(Nk):\n",
    "    K = []\n",
    "    for i in range(Nk):\n",
    "        r = random.randint(3, 9)\n",
    "        while r % 2 > 0:\n",
    "            r = random.randint(3, 5)\n",
    "        K.append(torch.rand(3, 3, r, r, requires_grad=True))  # Changed kernel size to 3x3 to match input channels\n",
    "    return K\n",
    "\n",
    "def train_model(input_images, target_images, kernels1, kernels2, num_kernels=1, epochs=10, lr=0.01):\n",
    "    oimg = input_images.copy()\n",
    "    L = []\n",
    "    # Normalize input and target images (to 0-1)\n",
    "    input_images = [img / 255.0 for img in input_images]\n",
    "    target_images = [img / 255.0 for img in target_images]    \n",
    "    # Convert input and target images to tensors\n",
    "    input_images = torch.stack([torch.tensor(img, dtype=torch.float32) for img in input_images])\n",
    "    target_images = torch.stack([torch.tensor(img, dtype=torch.float32) for img in target_images])  \n",
    "    # Initialize kernels\n",
    "    if kernels1 is None:\n",
    "        kernels1 = generate_kernels(num_kernels)\n",
    "    if kernels2 is None:\n",
    "        kernels2 = generate_kernels(num_kernels)\n",
    "    # Define optimizer\n",
    "    optimizer = optim.Adam(kernels1 + kernels2, lr=lr)\n",
    "    # Training loop\n",
    "    for epoch in range(epochs):\n",
    "        total_loss = 0.0\n",
    "        for input_image, target_image, o in zip(input_images, target_images, oimg):\n",
    "            cv2.imshow(\"Predicted\", np.clip(predict(o, kernels1, kernels2), 0, 255))  # Display Image\n",
    "            input_image = input_image.permute(2, 0, 1).unsqueeze(0)  # Add batch dimension\n",
    "            target_image = target_image.permute(2, 0, 1).unsqueeze(0)         \n",
    "            optimizer.zero_grad()   \n",
    "            output_image = apply_kernels(input_image, kernels1, kernels2)\n",
    "            loss = F.mse_loss(output_image,target_image)\n",
    "            loss.backward()\n",
    "            optimizer.step()          \n",
    "            total_loss += loss.item() \n",
    "            cv2.waitKey(10)\n",
    "        L.append(total_loss)\n",
    "        clear_output()\n",
    "        print(f'Epoch [{epoch+1}/{epochs}], Loss: {total_loss/len(input_images):.4f}')\n",
    "        if len(L) > 2:\n",
    "            if abs(L[-2] - L[-1]) < 1e-6:\n",
    "                break\n",
    "    print('Training complete.')\n",
    "    cv2.destroyAllWindows()\n",
    "    return kernels1, kernels2, L"
   ]
  },
  {
   "cell_type": "code",
   "execution_count": 3,
   "id": "16ba2b05",
   "metadata": {},
   "outputs": [],
   "source": [
    "## L = w1*mse(t_border,R_border)+w2*mse(t_discrete,R_discrete)+w3*mse(t_all,R_all)"
   ]
  },
  {
   "cell_type": "code",
   "execution_count": 4,
   "id": "aea2ca74",
   "metadata": {},
   "outputs": [],
   "source": [
    "def read_first_10_frames_from_videos(directory,N):\n",
    "    video_frames = []  # Dictionary to store video names and their first 10 frames\n",
    "    for filename in os.listdir(directory):\n",
    "        if filename.endswith(\".mp4\"):  # Check for video file extensions\n",
    "            video_path = os.path.join(directory, filename)\n",
    "            cap = cv2.VideoCapture(video_path)\n",
    "            frames = []\n",
    "            frame_count = 0\n",
    "            while frame_count < N and cap.isOpened():\n",
    "                ret, frame = cap.read()\n",
    "                if not ret:\n",
    "                    break  # If the video ends before 10 frames\n",
    "                frames.append(frame)\n",
    "                frame_count += 1\n",
    "            cap.release()  # Release the video capture object\n",
    "            video_frames += frames  # Store the frames with the video name\n",
    "    return video_frames"
   ]
  },
  {
   "cell_type": "code",
   "execution_count": 5,
   "id": "08d8fde3",
   "metadata": {},
   "outputs": [],
   "source": [
    "directory_path = 'Uncartoonized/'\n",
    "org = read_first_10_frames_from_videos(directory_path,3)\n",
    "#ThroughFrames(orgs)"
   ]
  },
  {
   "cell_type": "code",
   "execution_count": 6,
   "id": "0e96dc23",
   "metadata": {},
   "outputs": [],
   "source": [
    "directory_path = 'Cartoonized/'\n",
    "cart = read_first_10_frames_from_videos(directory_path,3)\n",
    "#ThroughFrames(carts)"
   ]
  },
  {
   "cell_type": "code",
   "execution_count": 7,
   "id": "06749040",
   "metadata": {},
   "outputs": [],
   "source": [
    "org = [cv2.resize(o,(640,320)) for o in org]\n",
    "cart = [cv2.resize(o,(640,320)) for o in cart]"
   ]
  },
  {
   "cell_type": "code",
   "execution_count": 8,
   "id": "a830dda3",
   "metadata": {},
   "outputs": [
    {
     "data": {
      "text/plain": [
       "(21, 21)"
      ]
     },
     "execution_count": 8,
     "metadata": {},
     "output_type": "execute_result"
    }
   ],
   "source": [
    "len(org),len(cart)"
   ]
  },
  {
   "cell_type": "code",
   "execution_count": 21,
   "id": "93790424",
   "metadata": {},
   "outputs": [
    {
     "name": "stdout",
     "output_type": "stream",
     "text": [
      "Epoch [100/100], Loss: 0.0282\n",
      "Training complete.\n"
     ]
    }
   ],
   "source": [
    "kernels1, kernels2, Losses = train_model(org, cart, kernels1,kernels2,num_kernels=2,epochs=100, lr=1e-1)"
   ]
  },
  {
   "cell_type": "code",
   "execution_count": 22,
   "id": "48e4576a",
   "metadata": {},
   "outputs": [
    {
     "data": {
      "text/plain": [
       "[<matplotlib.lines.Line2D at 0x181b8dba448>]"
      ]
     },
     "execution_count": 22,
     "metadata": {},
     "output_type": "execute_result"
    },
    {
     "data": {
      "image/png": "[encoded data removed]",
      "text/plain": [
       "<Figure size 432x288 with 1 Axes>"
      ]
     },
     "metadata": {
      "needs_background": "light"
     },
     "output_type": "display_data"
    }
   ],
   "source": [
    "plt.plot(Losses)"
   ]
  },
  {
   "cell_type": "code",
   "execution_count": 23,
   "id": "97e67396",
   "metadata": {},
   "outputs": [],
   "source": [
    "Predicted = [predict(o,kernels1,kernels2) for o in org[:100]]"
   ]
  },
  {
   "cell_type": "code",
   "execution_count": 24,
   "id": "37681aa8",
   "metadata": {},
   "outputs": [],
   "source": [
    "ThroughFrames(Predicted)"
   ]
  },
  {
   "cell_type": "code",
   "execution_count": 25,
   "id": "abc26e14",
   "metadata": {},
   "outputs": [],
   "source": [
    "save_vid(Predicted,\"Predicted/org_pred.mp4\",24)"
   ]
  },
  {
   "cell_type": "code",
   "execution_count": 26,
   "id": "fb8970e8",
   "metadata": {},
   "outputs": [],
   "source": [
    "def save_kernels(kernels1, kernels2, file_path):\n",
    "    torch.save({'kernels1': kernels1, 'kernels2': kernels2}, file_path)\n",
    "    print(f'Kernels saved to {file_path}')\n",
    "def load_kernels(file_path):\n",
    "    checkpoint = torch.load(file_path)\n",
    "    kernels1 = checkpoint['kernels1']\n",
    "    kernels2 = checkpoint['kernels2']\n",
    "    print(f'Kernels loaded from {file_path}')\n",
    "    return kernels1, kernels2"
   ]
  },
  {
   "cell_type": "code",
   "execution_count": 27,
   "id": "deb47328",
   "metadata": {},
   "outputs": [
    {
     "name": "stdout",
     "output_type": "stream",
     "text": [
      "Kernels saved to trained_kernels.pth\n",
      "Kernels loaded from trained_kernels.pth\n"
     ]
    }
   ],
   "source": [
    "save_kernels(kernels1, kernels2, 'trained_kernels.pth')\n",
    "kernels1, kernels2 = load_kernels('trained_kernels.pth')"
   ]
  },
  {
   "cell_type": "code",
   "execution_count": 28,
   "id": "751f3007",
   "metadata": {},
   "outputs": [],
   "source": [
    "cap0 = open_vid(\"VDB/U.mp4\")\n",
    "org0 = get_frames(cap0)"
   ]
  },
  {
   "cell_type": "code",
   "execution_count": 29,
   "id": "4904e9f8",
   "metadata": {},
   "outputs": [],
   "source": [
    "Predicted0 = [predict(o,kernels1,kernels2) for o in org0]"
   ]
  },
  {
   "cell_type": "code",
   "execution_count": 30,
   "id": "0b8845c0",
   "metadata": {},
   "outputs": [],
   "source": [
    "ThroughFrames(Predicted0)"
   ]
  },
  {
   "cell_type": "code",
   "execution_count": 31,
   "id": "6857eeda",
   "metadata": {},
   "outputs": [],
   "source": [
    "save_vid(Predicted0,\"Predicted/UU_pred.mp4\",24)"
   ]
  },
  {
   "cell_type": "code",
   "execution_count": null,
   "id": "1fc2d5dd",
   "metadata": {},
   "outputs": [],
   "source": [
    "## Apply kernels over filtered image\n",
    "## Border detector and Smoother\n",
    "## Different kernel sizes\n",
    "## Border detector small\n",
    "## Smoother larger\n",
    "## Check what happens if a kernel is omited\n",
    "## Use past and future frames\n",
    "## Formalize the problem\n",
    "## What's the main objective of project?\n",
    "## Other DNN strictures: GAN, Graphic Transformer"
   ]
  }
 ],
 "metadata": {
  "kernelspec": {
   "display_name": "Python 3",
   "language": "python",
   "name": "python3"
  },
  "language_info": {
   "codemirror_mode": {
    "name": "ipython",
    "version": 3
   },
   "file_extension": ".py",
   "mimetype": "text/x-python",
   "name": "python",
   "nbconvert_exporter": "python",
   "pygments_lexer": "ipython3",
   "version": "3.7.6"
  }
 },
 "nbformat": 4,
 "nbformat_minor": 5
}
