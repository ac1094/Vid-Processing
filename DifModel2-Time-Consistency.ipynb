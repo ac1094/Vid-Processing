{
 "cells": [
  {
   "cell_type": "code",
   "execution_count": 1,
   "id": "44d19706",
   "metadata": {},
   "outputs": [
    {
     "name": "stdout",
     "output_type": "stream",
     "text": [
      "importing Jupyter notebook from ConsistencyIndexes.ipynb\n",
      "importing Jupyter notebook from Functions.ipynb\n"
     ]
    }
   ],
   "source": [
    "import import_ipynb\n",
    "from ConsistencyIndexes import *\n",
    "import torch.nn.functional as Fun\n",
    "import torch\n",
    "from torch import optim\n",
    "import matplotlib.pyplot as plt"
   ]
  },
  {
   "cell_type": "code",
   "execution_count": 129,
   "id": "fcdbb0c6",
   "metadata": {},
   "outputs": [],
   "source": [
    "#Extract kernels and weights from Parameters\n",
    "def Extract(Params):\n",
    "    k_cod = Params['k_cod']\n",
    "    k_dec = Params['k_dec']\n",
    "    k_cons = Params['k_cons']\n",
    "    w_time = Params['w_time'] \n",
    "    return k_cod,k_dec,k_cons,w_time"
   ]
  },
  {
   "cell_type": "code",
   "execution_count": 175,
   "id": "d9412cde",
   "metadata": {},
   "outputs": [],
   "source": [
    "def create_weights(in_channels, out_channels, kernel_size):\n",
    "    return torch.randn(out_channels, in_channels, kernel_size, kernel_size, requires_grad=True)"
   ]
  },
  {
   "cell_type": "code",
   "execution_count": 250,
   "id": "0ec74cdb",
   "metadata": {},
   "outputs": [],
   "source": [
    "def Gen_Params(N):\n",
    "    # Encoder\n",
    "    k_cod = [create_weights(3, 16, 3), create_weights(16, 32, 3), create_weights(32, 64, 3)]     \n",
    "    # Decoder\n",
    "    k_dec = [create_weights(32, 64, 3), create_weights(16, 32, 3), create_weights(3, 16, 3)]\n",
    "    # Kernels for Temporal Consistency\n",
    "    k_cons = [[create_weights(3, 16, 3),create_weights(16, 32, 3),create_weights(32, 64, 3)]  for _ in range(2*N)]\n",
    "    # Weights for temporal consistency\n",
    "    w_time = [torch.rand(1, requires_grad=True) for _ in range(2*N)]\n",
    "    return k_cod, k_dec, k_cons, w_time"
   ]
  },
  {
   "cell_type": "code",
   "execution_count": 377,
   "id": "32f1cc7a",
   "metadata": {},
   "outputs": [],
   "source": [
    "def ObjFun(V,x,k_cod,k_dec,k_cons,w_time):\n",
    "    N = len(w_time)\n",
    "    encodes = V[:N//2]+V[N//2+1:]\n",
    "    #encodes = [e.unsqueeze(0) for e in encodes]\n",
    "    # Encoder\n",
    "    for k in k_cod:\n",
    "        x = Fun.relu(Fun.conv2d(x,k,stride=2,padding=1))\n",
    "    # Temporal Encoder\n",
    "    for i in range(len(encodes)):\n",
    "        for k in k_cons[i]:  \n",
    "            encodes[i] = Fun.relu(Fun.conv2d(encodes[i],k,stride=2,padding=1))\n",
    "    for e in encodes:\n",
    "        x = x + e\n",
    "    # Decoder\n",
    "    for k in k_dec:\n",
    "        x = Fun.relu(Fun.conv_transpose2d(x,k,stride=2,padding=1,output_padding=1))\n",
    "    return x"
   ]
  },
  {
   "cell_type": "code",
   "execution_count": 378,
   "id": "64713ea3",
   "metadata": {},
   "outputs": [],
   "source": [
    "#Add a random inconsistency\n",
    "def AddOneInc1(F):\n",
    "    # Convert to NumPy Array\n",
    "    F = F.squeeze(0).permute(1, 2, 0).cpu().numpy() * 255\n",
    "    # Copy of original array\n",
    "    I = F.astype(np.uint8).copy()\n",
    "    # Random location\n",
    "    x, y = random.randint(0, 2 * I.shape[0] // 3), random.randint(0, 2 * I.shape[1] // 3)\n",
    "    # Random size\n",
    "    l = random.randint(5,I.shape[1]//20)\n",
    "    # Random option\n",
    "    Op = random.randint(0, 5)\n",
    "    if Op == 0:\n",
    "        I[x:x + l, y:y + l] = change_range_colors(I[x:x + l, y:y + l], (random.randint(30, 140), random.randint(30, 140), random.randint(30, 140)), (random.randint(150, 255), random.randint(150, 255), random.randint(150, 255)))\n",
    "    elif Op == 1:\n",
    "        R, G, B = random.randint(0, 255), random.randint(0, 255), random.randint(0, 255)\n",
    "        I[x:x + l, y:y + l] = change_range_colors(I[x:x + l, y:y + l], (R, G, B), (R, G, B))\n",
    "    elif Op == 2:\n",
    "        Thick = random.randint(1, 10)\n",
    "        l2 = random.randint(5, I.shape[1]//15)\n",
    "        I = cv2.line(I, (x, y), (x + l, y + l2), (random.randint(0, 255), random.randint(0, 255), random.randint(0, 255)), Thick)\n",
    "    elif Op == 3:\n",
    "        Thick = random.randint(1, 5)\n",
    "        l2 = random.randint(5, I.shape[1]//20)\n",
    "        I = cv2.line(I, (x, y), (x + l, y + l2), (0, 0, 0), Thick)  \n",
    "    elif Op == 4:\n",
    "        I[x:x+l,y:y+l] = I[x:x+l,y:y+l] + np.random.random_integers(-10,10,I[x:x+l,y:y+l].shape)\n",
    "    else:\n",
    "        kernel = np.random.rand(3,3)\n",
    "        I[x:x+l,y:y+l] = cv2.filter2D(I[x:x+l,y:y+l],-1,kernel)\n",
    "    # Convert back to tensor\n",
    "    I_tensor = torch.tensor(I, dtype=torch.float32).permute(2, 0, 1).unsqueeze(0)/255.0\n",
    "    return I_tensor"
   ]
  },
  {
   "cell_type": "code",
   "execution_count": 379,
   "id": "c11aefdd",
   "metadata": {},
   "outputs": [],
   "source": [
    "def train(Input, Params=None, N=1, Epochs=10, Steps=10, LR=1e-3):\n",
    "    if N>len(Input[0])//2:\n",
    "        print(\"Not enough frames for size \",N)\n",
    "        return None,None,None\n",
    "    # Ensure inputs are float32 and have correct shape (batch_size, channels, height, width)  \n",
    "    if Params is None:\n",
    "        k_cod,k_dec,k_cons,w_time = Gen_Params(N)\n",
    "    else:\n",
    "        k_cod,k_dec,k_cons,w_time = Extract(Params)  \n",
    "    # Ensure the optimizer is handling float32 parameters\n",
    "    optimizer = optim.NAdam([p for p in k_cod + k_dec + w_time], lr=LR)   \n",
    "    Loss = []\n",
    "    LossAll = []    \n",
    "    In = [[torch.tensor(cv2.resize(i,(320,320),interpolation=cv2.INTER_AREA),\n",
    "                              dtype=torch.float32).permute(2,0,1).unsqueeze(0)/255.0 for i in v] for v in Input]\n",
    "    for epoch in range(Epochs):\n",
    "        total_loss = 0.0\n",
    "        random.shuffle(In)      \n",
    "        for v in range(len(In)):\n",
    "            for f in range(len(In[v])-2):\n",
    "                first,current,last = f,f+len(w_time)//2,f+len(w_time)\n",
    "                Inc = In[v][current].clone()\n",
    "                for s in range(Steps):\n",
    "                    optimizer.zero_grad()  \n",
    "                    if s!=0:  \n",
    "                        Inc = AddOneInc1(Inc)               \n",
    "                    # Perform forward pass\n",
    "                    Pred = ObjFun(In[v][first:last],Inc,k_cod,k_dec,k_cons,w_time)                \n",
    "                    # Compute loss\n",
    "                    loss = Fun.mse_loss(In[v][current]*255,Pred*255)                \n",
    "                    # Backpropagation\n",
    "                    loss.backward()\n",
    "                    optimizer.step()                \n",
    "                    LossAll.append(loss.item())                \n",
    "                    print(f'Epoch [{epoch+1}/{Epochs}] Video [{v+1}/{len(In)}] Frame [{f+1}/{len(In[v])-2}] Step [{s+1}/{Steps}] Loss: {loss.item():.6f}', end='\\r')                \n",
    "                    total_loss += loss.item()                \n",
    "                    # Visualization\n",
    "                    cv2.imshow(\"Original\",(In[v][current]*255).squeeze(0).permute(1, 2, 0).detach().numpy().astype(np.uint8))\n",
    "                    cv2.imshow(\"Inconsistent\",(Inc[0]*255).squeeze(0).permute(1, 2, 0).detach().numpy().astype(np.uint8))\n",
    "                    cv2.imshow(\"Predicted\", (Pred[0]*255).squeeze(0).permute(1, 2, 0).detach().numpy().astype(np.uint8))\n",
    "                    cv2.waitKey(1)      \n",
    "        Loss.append(total_loss / len(Input))\n",
    "        print(f'Epoch [{epoch + 1}/{Epochs}], Loss: {total_loss / len(Input):.6f}')  \n",
    "    cv2.destroyAllWindows() \n",
    "    return {'k_cod': k_cod, 'k_dec': k_dec, 'w_time': w_time}, Loss, LossAll"
   ]
  },
  {
   "cell_type": "code",
   "execution_count": 380,
   "id": "77bf3b0e",
   "metadata": {},
   "outputs": [
    {
     "data": {
      "text/plain": [
       "(28, 5)"
      ]
     },
     "execution_count": 380,
     "metadata": {},
     "output_type": "execute_result"
    }
   ],
   "source": [
    "Consec = 5\n",
    "Frames = read_first_frames(\"VDB\",Consec)\n",
    "Vids = [[Frames[j*Consec+i] for i in range(Consec)] for j in range(len(Frames)//Consec)]\n",
    "len(Vids),len(Vids[0])"
   ]
  },
  {
   "cell_type": "code",
   "execution_count": 381,
   "id": "08a286d3",
   "metadata": {},
   "outputs": [],
   "source": [
    "cv2.destroyAllWindows()"
   ]
  },
  {
   "cell_type": "code",
   "execution_count": 382,
   "id": "442fbdfc",
   "metadata": {},
   "outputs": [],
   "source": [
    "Parameters = None#torch.load(\"paramstime1.pth\")"
   ]
  },
  {
   "cell_type": "code",
   "execution_count": 383,
   "id": "a6d9ffe0",
   "metadata": {},
   "outputs": [
    {
     "name": "stdout",
     "output_type": "stream",
     "text": [
      "Epoch [1/1], Loss: 226400157280250.843750p [5/5] Loss: 1504633159680.0000000\n"
     ]
    }
   ],
   "source": [
    "Parameters,L,LA = train(Vids,Params=Parameters,N=2,Epochs=1,Steps=5,LR=1e-3)"
   ]
  },
  {
   "cell_type": "code",
   "execution_count": null,
   "id": "3d1ae3a8",
   "metadata": {},
   "outputs": [],
   "source": [
    "torch.save(Parameters,\"paramstime2.pth\")\n",
    "Parameters = torch.load(\"paramstime2.pth\")"
   ]
  },
  {
   "cell_type": "code",
   "execution_count": 231,
   "id": "0177b572",
   "metadata": {},
   "outputs": [
    {
     "data": {
      "text/plain": [
       "[<matplotlib.lines.Line2D at 0x2f418324f48>]"
      ]
     },
     "execution_count": 231,
     "metadata": {},
     "output_type": "execute_result"
    },
    {
     "data": {
      "image/png": "[encoded data removed]",
      "text/plain": [
       "<Figure size 432x288 with 1 Axes>"
      ]
     },
     "metadata": {
      "needs_background": "light"
     },
     "output_type": "display_data"
    }
   ],
   "source": [
    "plt.plot(L[0:])"
   ]
  },
  {
   "cell_type": "code",
   "execution_count": 232,
   "id": "8ec73d1f",
   "metadata": {},
   "outputs": [
    {
     "data": {
      "text/plain": [
       "[<matplotlib.lines.Line2D at 0x2f417e6ff08>]"
      ]
     },
     "execution_count": 232,
     "metadata": {},
     "output_type": "execute_result"
    },
    {
     "data": {
      "image/png": "[encoded data removed]",
      "text/plain": [
       "<Figure size 432x288 with 1 Axes>"
      ]
     },
     "metadata": {
      "needs_background": "light"
     },
     "output_type": "display_data"
    }
   ],
   "source": [
    "r = 1\n",
    "plt.plot([sum(LA[i:i+r])/r for i in range(0,len(LA),r)])"
   ]
  },
  {
   "cell_type": "code",
   "execution_count": null,
   "id": "e8b0333d",
   "metadata": {},
   "outputs": [],
   "source": [
    "##Add with no inconsistencies in training\n",
    "##Add detail error, MSE of full image only minimizes general pixel distribution\n",
    "##Add more training examples\n",
    "##Add N previous and N post current inconsistence image\n",
    "##Add optical flow, frequencies or other features for temporal consistency\n",
    "##Different kernel sizes\n",
    "##Add Gaisian Noise\n",
    "##Reconstruct image with kernel middle between encoder and decofer\n",
    "##Use data with less loss value, selection\n",
    "##How to combine data with less error and with more error?\n",
    "##Localize area and correct error"
   ]
  },
  {
   "cell_type": "code",
   "execution_count": 252,
   "id": "c90827fe",
   "metadata": {},
   "outputs": [],
   "source": [
    "def Prediction(Vid,Params):\n",
    "    P = []\n",
    "    V = [torch.tensor(cv2.resize(i,(320,320),interpolation=cv2.INTER_AREA),\n",
    "                              dtype=torch.float32).permute(2,0,1).unsqueeze(0)/255.0 for i in Vid]\n",
    "    k_cod,k_dec,w_time = Extract(Params)\n",
    "    for f in range(len(V)-2):\n",
    "        first,current,last = f,f+len(w_time)//2,f+len(w_time)\n",
    "        Pred = ObjFun(V[first:last],V[current],k_cod,k_dec,w_time) \n",
    "        Pred = (Pred[0]*255).squeeze(0).permute(1, 2, 0).detach().numpy().astype(np.uint8)\n",
    "        P.append(cv2.resize(Pred,(Vid[0].shape[1],Vid[0].shape[0]),interpolation=cv2.INTER_AREA))\n",
    "    return P"
   ]
  },
  {
   "cell_type": "code",
   "execution_count": 253,
   "id": "11e14eca",
   "metadata": {},
   "outputs": [],
   "source": [
    "cap = open_vid(\"AI Gen/movie(1).mp4\")\n",
    "Video = get_frames(cap)"
   ]
  },
  {
   "cell_type": "code",
   "execution_count": 254,
   "id": "c5b9c32a",
   "metadata": {},
   "outputs": [],
   "source": [
    "PVid = Prediction(Video,Parameters)"
   ]
  },
  {
   "cell_type": "code",
   "execution_count": 255,
   "id": "67baed98",
   "metadata": {},
   "outputs": [],
   "source": [
    "ThroughFrames(PVid)"
   ]
  },
  {
   "cell_type": "code",
   "execution_count": 374,
   "id": "034394d2",
   "metadata": {},
   "outputs": [
    {
     "data": {
      "text/plain": [
       "[0, 1, 2, 3, 4]"
      ]
     },
     "execution_count": 374,
     "metadata": {},
     "output_type": "execute_result"
    }
   ],
   "source": [
    "A = list(range(5))\n",
    "A"
   ]
  },
  {
   "cell_type": "code",
   "execution_count": 375,
   "id": "702c4543",
   "metadata": {},
   "outputs": [
    {
     "data": {
      "text/plain": [
       "[0, 1, 3, 4]"
      ]
     },
     "execution_count": 375,
     "metadata": {},
     "output_type": "execute_result"
    }
   ],
   "source": [
    "N = 5\n",
    "B = A[:N//2]+A[N//2+1:]\n",
    "B"
   ]
  },
  {
   "cell_type": "code",
   "execution_count": null,
   "id": "f18da3ca",
   "metadata": {},
   "outputs": [],
   "source": []
  }
 ],
 "metadata": {
  "kernelspec": {
   "display_name": "Python 3",
   "language": "python",
   "name": "python3"
  },
  "language_info": {
   "codemirror_mode": {
    "name": "ipython",
    "version": 3
   },
   "file_extension": ".py",
   "mimetype": "text/x-python",
   "name": "python",
   "nbconvert_exporter": "python",
   "pygments_lexer": "ipython3",
   "version": "3.7.6"
  }
 },
 "nbformat": 4,
 "nbformat_minor": 5
}
