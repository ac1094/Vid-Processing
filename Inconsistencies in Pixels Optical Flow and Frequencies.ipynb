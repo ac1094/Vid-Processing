{
 "cells": [
  {
   "cell_type": "code",
   "execution_count": 8,
   "id": "6b75f662",
   "metadata": {},
   "outputs": [],
   "source": [
    "import import_ipynb\n",
    "from Functions import *"
   ]
  },
  {
   "cell_type": "markdown",
   "id": "7b744290",
   "metadata": {},
   "source": [
    "# Read Frames as Tensors & Add Inconsistencies"
   ]
  },
  {
   "cell_type": "code",
   "execution_count": 9,
   "id": "8eb8084d",
   "metadata": {},
   "outputs": [],
   "source": [
    "Frames = get_video_frames(\"VDB\",13,(200,200))\n",
    "for _ in range(3):\n",
    "    Frames[1] = AddOneInc1(Frames[1],Op=10,x=50,y=20,l=20)\n",
    "    Frames[2] = AddOneInc1(Frames[2],Op=10,x=50,y=20,l=20)\n",
    "    Frames[5] = AddOneInc1(Frames[4],Op=6,x=10,y=80,l=30)\n",
    "    Frames[6] = AddOneInc1(Frames[5],Op=6,x=10,y=80,l=30)\n",
    "    Frames[9] = AddOneInc1(Frames[9],x=100,y=100,l=40)\n",
    "    Frames[10] = AddOneInc1(Frames[10],x=100,y=100,l=40)"
   ]
  },
  {
   "cell_type": "markdown",
   "id": "ec68585a",
   "metadata": {},
   "source": [
    "# To Numpy"
   ]
  },
  {
   "cell_type": "code",
   "execution_count": 60,
   "id": "d1edab1e",
   "metadata": {},
   "outputs": [],
   "source": [
    "ThroughFrames([f.permute(1,2,0).numpy() for f in Frames])"
   ]
  },
  {
   "cell_type": "markdown",
   "id": "8af9789e",
   "metadata": {},
   "source": [
    "# Calculate Optical Flow"
   ]
  },
  {
   "cell_type": "code",
   "execution_count": 61,
   "id": "e6743b10",
   "metadata": {},
   "outputs": [
    {
     "ename": "KeyboardInterrupt",
     "evalue": "",
     "output_type": "error",
     "traceback": [
      "\u001b[1;31m---------------------------------------------------------------------------\u001b[0m",
      "\u001b[1;31mKeyboardInterrupt\u001b[0m                         Traceback (most recent call last)",
      "\u001b[1;32m<ipython-input-61-ea3c6cc6273a>\u001b[0m in \u001b[0;36m<module>\u001b[1;34m\u001b[0m\n\u001b[1;32m----> 1\u001b[1;33m \u001b[0mOptflow\u001b[0m \u001b[1;33m=\u001b[0m \u001b[1;33m[\u001b[0m\u001b[0mOF_tensor1\u001b[0m\u001b[1;33m(\u001b[0m\u001b[0mFrames\u001b[0m\u001b[1;33m[\u001b[0m\u001b[0mi\u001b[0m\u001b[1;33m]\u001b[0m\u001b[1;33m,\u001b[0m\u001b[0mFrames\u001b[0m\u001b[1;33m[\u001b[0m\u001b[0mi\u001b[0m\u001b[1;33m+\u001b[0m\u001b[1;36m1\u001b[0m\u001b[1;33m]\u001b[0m\u001b[1;33m,\u001b[0m\u001b[0mkernel_size\u001b[0m\u001b[1;33m=\u001b[0m\u001b[1;36m11\u001b[0m\u001b[1;33m)\u001b[0m \u001b[1;32mfor\u001b[0m \u001b[0mi\u001b[0m \u001b[1;32min\u001b[0m \u001b[0mrange\u001b[0m\u001b[1;33m(\u001b[0m\u001b[0mlen\u001b[0m\u001b[1;33m(\u001b[0m\u001b[0mFrames\u001b[0m\u001b[1;33m)\u001b[0m\u001b[1;33m-\u001b[0m\u001b[1;36m1\u001b[0m\u001b[1;33m)\u001b[0m\u001b[1;33m]\u001b[0m\u001b[1;33m\u001b[0m\u001b[1;33m\u001b[0m\u001b[0m\n\u001b[0m",
      "\u001b[1;32m<ipython-input-61-ea3c6cc6273a>\u001b[0m in \u001b[0;36m<listcomp>\u001b[1;34m(.0)\u001b[0m\n\u001b[1;32m----> 1\u001b[1;33m \u001b[0mOptflow\u001b[0m \u001b[1;33m=\u001b[0m \u001b[1;33m[\u001b[0m\u001b[0mOF_tensor1\u001b[0m\u001b[1;33m(\u001b[0m\u001b[0mFrames\u001b[0m\u001b[1;33m[\u001b[0m\u001b[0mi\u001b[0m\u001b[1;33m]\u001b[0m\u001b[1;33m,\u001b[0m\u001b[0mFrames\u001b[0m\u001b[1;33m[\u001b[0m\u001b[0mi\u001b[0m\u001b[1;33m+\u001b[0m\u001b[1;36m1\u001b[0m\u001b[1;33m]\u001b[0m\u001b[1;33m,\u001b[0m\u001b[0mkernel_size\u001b[0m\u001b[1;33m=\u001b[0m\u001b[1;36m11\u001b[0m\u001b[1;33m)\u001b[0m \u001b[1;32mfor\u001b[0m \u001b[0mi\u001b[0m \u001b[1;32min\u001b[0m \u001b[0mrange\u001b[0m\u001b[1;33m(\u001b[0m\u001b[0mlen\u001b[0m\u001b[1;33m(\u001b[0m\u001b[0mFrames\u001b[0m\u001b[1;33m)\u001b[0m\u001b[1;33m-\u001b[0m\u001b[1;36m1\u001b[0m\u001b[1;33m)\u001b[0m\u001b[1;33m]\u001b[0m\u001b[1;33m\u001b[0m\u001b[1;33m\u001b[0m\u001b[0m\n\u001b[0m",
      "\u001b[1;32m~\\Desktop\\Video Processing\\Functions.ipynb\u001b[0m in \u001b[0;36mOF_tensor1\u001b[1;34m(img1, img2, alpha, iterations, kernel_size)\u001b[0m\n",
      "\u001b[1;31mKeyboardInterrupt\u001b[0m: "
     ]
    }
   ],
   "source": [
    "Optflow = [OF_tensor1(Frames[i],Frames[i+1],kernel_size=11) for i in range(len(Frames)-1)]"
   ]
  },
  {
   "cell_type": "markdown",
   "id": "9524ac4f",
   "metadata": {},
   "source": [
    "# Draw Optical Flow"
   ]
  },
  {
   "cell_type": "code",
   "execution_count": 62,
   "id": "001e19c5",
   "metadata": {},
   "outputs": [],
   "source": [
    "Flow = [draw_optical_flow1(Frames[i],Optflow[i],step=11,scale=100.0) for i in range(len(Optflow))]"
   ]
  },
  {
   "cell_type": "markdown",
   "id": "8041d33d",
   "metadata": {},
   "source": [
    "# Display Flow"
   ]
  },
  {
   "cell_type": "code",
   "execution_count": 13,
   "id": "6ad58ea3",
   "metadata": {},
   "outputs": [],
   "source": [
    "#################    1     ########"
   ]
  },
  {
   "cell_type": "code",
   "execution_count": 63,
   "id": "a5be58df",
   "metadata": {},
   "outputs": [],
   "source": [
    "ThroughFrames(Flow)"
   ]
  },
  {
   "cell_type": "markdown",
   "id": "e546cecb",
   "metadata": {},
   "source": [
    "# Differences in Optical Flow"
   ]
  },
  {
   "cell_type": "code",
   "execution_count": 15,
   "id": "51e0184a",
   "metadata": {},
   "outputs": [],
   "source": [
    "dflow = [Optflow[i+1]-Optflow[i] for i in range(len(Optflow)-1)]"
   ]
  },
  {
   "cell_type": "markdown",
   "id": "06b35960",
   "metadata": {},
   "source": [
    "# Draw Optical Flow Differences"
   ]
  },
  {
   "cell_type": "code",
   "execution_count": 64,
   "id": "9d3478e9",
   "metadata": {},
   "outputs": [],
   "source": [
    "DifFlow = [draw_optical_flow1(Frames[i],dflow[i],step=11,scale=100.0) for i in range(len(dflow))]"
   ]
  },
  {
   "cell_type": "markdown",
   "id": "ff25da8c",
   "metadata": {},
   "source": [
    "# Display Differential OF"
   ]
  },
  {
   "cell_type": "code",
   "execution_count": 17,
   "id": "08a07eda",
   "metadata": {},
   "outputs": [],
   "source": [
    "##############        1        ########"
   ]
  },
  {
   "cell_type": "code",
   "execution_count": 65,
   "id": "8b39433c",
   "metadata": {},
   "outputs": [],
   "source": [
    "ThroughFrames(DifFlow)"
   ]
  },
  {
   "cell_type": "markdown",
   "id": "a7265efd",
   "metadata": {},
   "source": [
    "# Frames Differences to Numpy"
   ]
  },
  {
   "cell_type": "code",
   "execution_count": 67,
   "id": "fe4428ba",
   "metadata": {},
   "outputs": [],
   "source": [
    "Diff = [Frames[i]-Frames[i+1] for i in range(len(Frames)-1)]\n",
    "Diff = [d.permute(1,2,0).numpy() for d in Diff]\n",
    "Diff = [((d-np.min(d))/(np.max(d)-np.min(d))*255).clip(0,255).astype(np.uint8) for d in Diff]"
   ]
  },
  {
   "cell_type": "markdown",
   "id": "7f1d9ef4",
   "metadata": {},
   "source": [
    "# Display Frames Differences"
   ]
  },
  {
   "cell_type": "code",
   "execution_count": 68,
   "id": "e58ab566",
   "metadata": {},
   "outputs": [],
   "source": [
    "##########            3        ##########"
   ]
  },
  {
   "cell_type": "code",
   "execution_count": 69,
   "id": "03bf2f4a",
   "metadata": {},
   "outputs": [],
   "source": [
    "ThroughFrames(Diff)"
   ]
  },
  {
   "cell_type": "markdown",
   "id": "8592aa73",
   "metadata": {},
   "source": [
    "# Frames Differences to Tensor"
   ]
  },
  {
   "cell_type": "code",
   "execution_count": 22,
   "id": "73076a13",
   "metadata": {},
   "outputs": [],
   "source": [
    "Diff = [torch.from_numpy(d).permute(2,0,1) for d in Diff]"
   ]
  },
  {
   "cell_type": "markdown",
   "id": "1b34c089",
   "metadata": {},
   "source": [
    "# Draw Flow in Frames Differences"
   ]
  },
  {
   "cell_type": "code",
   "execution_count": 23,
   "id": "b5455609",
   "metadata": {},
   "outputs": [],
   "source": [
    "FlowDiff = [draw_optical_flow1(Diff[i],OF_tensor1(Diff[i],Diff[i+1]),step=10,scale=1.0) for i in range(len(Diff)-1)]"
   ]
  },
  {
   "cell_type": "markdown",
   "id": "882c6d24",
   "metadata": {},
   "source": [
    "# Display Flow in Frame Differences"
   ]
  },
  {
   "cell_type": "code",
   "execution_count": 24,
   "id": "38664fe0",
   "metadata": {},
   "outputs": [],
   "source": [
    "############           1     #########"
   ]
  },
  {
   "cell_type": "code",
   "execution_count": 70,
   "id": "3e01127d",
   "metadata": {},
   "outputs": [],
   "source": [
    "ThroughFrames(FlowDiff)"
   ]
  },
  {
   "cell_type": "markdown",
   "id": "df1d37c8",
   "metadata": {},
   "source": [
    "# Calculate Frequencies"
   ]
  },
  {
   "cell_type": "code",
   "execution_count": 26,
   "id": "076a4a3e",
   "metadata": {},
   "outputs": [],
   "source": [
    "Freqs = [torch.fft.fft2(f) for f in Frames]"
   ]
  },
  {
   "cell_type": "markdown",
   "id": "007b1c08",
   "metadata": {},
   "source": [
    "# Display Frequencies"
   ]
  },
  {
   "cell_type": "code",
   "execution_count": 27,
   "id": "8f3afe46",
   "metadata": {},
   "outputs": [],
   "source": [
    "DFreqs = [display_frequency_image(f) for f in Freqs]"
   ]
  },
  {
   "cell_type": "code",
   "execution_count": 71,
   "id": "22099658",
   "metadata": {},
   "outputs": [],
   "source": [
    "ThroughFrames(DFreqs)"
   ]
  },
  {
   "cell_type": "markdown",
   "id": "7d41f0fd",
   "metadata": {},
   "source": [
    "# Calculate Differences in Frequencies"
   ]
  },
  {
   "cell_type": "code",
   "execution_count": 29,
   "id": "754c5d49",
   "metadata": {},
   "outputs": [],
   "source": [
    "DifFreqs = [Freqs[i]-Freqs[i+1] for i in range(len(Freqs)-1)]"
   ]
  },
  {
   "cell_type": "markdown",
   "id": "6ebfd95c",
   "metadata": {},
   "source": [
    "# Display Differences in Frequencies"
   ]
  },
  {
   "cell_type": "code",
   "execution_count": 30,
   "id": "8b886308",
   "metadata": {},
   "outputs": [],
   "source": [
    "DDiffFreqs = [display_frequency_image(d) for d in DifFreqs]"
   ]
  },
  {
   "cell_type": "code",
   "execution_count": 31,
   "id": "3960b94f",
   "metadata": {},
   "outputs": [],
   "source": [
    "###########      2      ############"
   ]
  },
  {
   "cell_type": "code",
   "execution_count": 72,
   "id": "ee4af527",
   "metadata": {},
   "outputs": [],
   "source": [
    "ThroughFrames(DDiffFreqs)"
   ]
  },
  {
   "cell_type": "markdown",
   "id": "4ae815c9",
   "metadata": {},
   "source": [
    "# Calculate Frequencies in Pixel Differences"
   ]
  },
  {
   "cell_type": "code",
   "execution_count": 33,
   "id": "3f98a2b4",
   "metadata": {},
   "outputs": [],
   "source": [
    "PixDifFreqs = [torch.fft.fft2(d) for d in Diff]"
   ]
  },
  {
   "cell_type": "markdown",
   "id": "d831d7b7",
   "metadata": {},
   "source": [
    "# Display Frequencies in Pixel Differences"
   ]
  },
  {
   "cell_type": "code",
   "execution_count": 34,
   "id": "9442143c",
   "metadata": {},
   "outputs": [],
   "source": [
    "DDPix = [display_frequency_image(d) for d in PixDifFreqs]"
   ]
  },
  {
   "cell_type": "code",
   "execution_count": 35,
   "id": "ae0a3626",
   "metadata": {},
   "outputs": [],
   "source": [
    "#############           2           ###########"
   ]
  },
  {
   "cell_type": "code",
   "execution_count": 73,
   "id": "e912181d",
   "metadata": {},
   "outputs": [],
   "source": [
    "ThroughFrames(DDPix)"
   ]
  },
  {
   "cell_type": "markdown",
   "id": "6aa72e91",
   "metadata": {},
   "source": [
    "# Edges"
   ]
  },
  {
   "cell_type": "code",
   "execution_count": 37,
   "id": "c991e080",
   "metadata": {},
   "outputs": [],
   "source": [
    "Edges = [Frame2Numpy(Edges_tensor(f)) for f in Frames]"
   ]
  },
  {
   "cell_type": "code",
   "execution_count": 38,
   "id": "c52f4ca8",
   "metadata": {},
   "outputs": [],
   "source": [
    "###########         1          #############"
   ]
  },
  {
   "cell_type": "code",
   "execution_count": 74,
   "id": "d9ee076f",
   "metadata": {},
   "outputs": [],
   "source": [
    "ThroughFrames(Edges)"
   ]
  },
  {
   "cell_type": "markdown",
   "id": "8aa695b1",
   "metadata": {},
   "source": [
    "# Edges Differences"
   ]
  },
  {
   "cell_type": "code",
   "execution_count": 40,
   "id": "af81f136",
   "metadata": {},
   "outputs": [],
   "source": [
    "EdDif = [Edges[i]-Edges[i+1] for i in range(len(Edges)-1)]"
   ]
  },
  {
   "cell_type": "code",
   "execution_count": 41,
   "id": "342dddad",
   "metadata": {},
   "outputs": [],
   "source": [
    "##############            3          #############"
   ]
  },
  {
   "cell_type": "code",
   "execution_count": 75,
   "id": "5de2b3f5",
   "metadata": {},
   "outputs": [],
   "source": [
    "ThroughFrames(EdDif)"
   ]
  },
  {
   "cell_type": "markdown",
   "id": "0c1632c4",
   "metadata": {},
   "source": [
    "# Edges Flow"
   ]
  },
  {
   "cell_type": "code",
   "execution_count": 43,
   "id": "ee3f37cf",
   "metadata": {},
   "outputs": [],
   "source": [
    "EdgesT = [Frame2Torch(e).squeeze(0) for e in Edges]\n",
    "EdOF = [OF_tensor1(EdgesT[i],EdgesT[i+1],kernel_size=11) for i in range(len(EdgesT)-1)]"
   ]
  },
  {
   "cell_type": "code",
   "execution_count": 44,
   "id": "1d7e06fd",
   "metadata": {},
   "outputs": [],
   "source": [
    "DrawEdgOF = [draw_optical_flow1(Frames[i],EdOF[i],step=11,scale=20.0) for i in range(len(EdOF))]"
   ]
  },
  {
   "cell_type": "code",
   "execution_count": 45,
   "id": "cb1b120d",
   "metadata": {},
   "outputs": [],
   "source": [
    "#########               2        ########"
   ]
  },
  {
   "cell_type": "code",
   "execution_count": 76,
   "id": "e5798df7",
   "metadata": {},
   "outputs": [],
   "source": [
    "ThroughFrames(DrawEdgOF)"
   ]
  },
  {
   "cell_type": "markdown",
   "id": "a3379f04",
   "metadata": {},
   "source": [
    "# SSIM"
   ]
  },
  {
   "cell_type": "code",
   "execution_count": 47,
   "id": "dce31ccf",
   "metadata": {},
   "outputs": [],
   "source": [
    "def create_gaussian_window(window_size, channels, sigma):\n",
    "    # Create a 1D Gaussian kernel\n",
    "    x = torch.arange(window_size, dtype=torch.float32) - (window_size - 1) / 2\n",
    "    gauss = torch.exp(-(x**2) / (2 * sigma**2))\n",
    "    gauss /= gauss.sum()  # Normalize the 1D kernel to ensure the sum is 1\n",
    "\n",
    "    # Create a 2D Gaussian kernel by taking the outer product\n",
    "    gauss_2d = gauss[:, None] * gauss[None, :]\n",
    "\n",
    "    # Reshape the kernel to be compatible with conv2d\n",
    "    kernel = gauss_2d.expand(channels, 1, window_size, window_size)\n",
    "\n",
    "    return kernel"
   ]
  },
  {
   "cell_type": "code",
   "execution_count": 48,
   "id": "f134b735",
   "metadata": {},
   "outputs": [],
   "source": [
    "def TSSIM(img1, img2, window_size=11, sigma=1.5, C1=0.01**2, C2=0.03**2):\n",
    "\n",
    "    channels = img1.size(1)\n",
    "    gaussian_window = create_gaussian_window(window_size, channels, sigma).to(img1.device)\n",
    "\n",
    "    # Compute local means using Gaussian filter\n",
    "    mu1 = Fun.conv2d(img1, gaussian_window, padding=window_size // 2, groups=channels)\n",
    "    mu2 = Fun.conv2d(img2, gaussian_window, padding=window_size // 2, groups=channels)\n",
    "\n",
    "    # Compute local variances and covariance\n",
    "    mu1_sq = mu1 ** 2\n",
    "    mu2_sq = mu2 ** 2\n",
    "    mu1_mu2 = mu1 * mu2\n",
    "\n",
    "    sigma1_sq = Fun.conv2d(img1 * img1, gaussian_window, padding=window_size // 2, groups=channels) - mu1_sq\n",
    "    sigma2_sq = Fun.conv2d(img2 * img2, gaussian_window, padding=window_size // 2, groups=channels) - mu2_sq\n",
    "    sigma12 = Fun.conv2d(img1 * img2, gaussian_window, padding=window_size // 2, groups=channels) - mu1_mu2\n",
    "\n",
    "    # Compute SSIM map\n",
    "    ssim_map = ((2 * mu1_mu2 + C1) * (2 * sigma12 + C2)) / (\n",
    "        (mu1_sq + mu2_sq + C1) * (sigma1_sq + sigma2_sq + C2)\n",
    "    )\n",
    "\n",
    "    mean_ssim = ssim_map.mean()  # Compute the mean SSIM value\n",
    "\n",
    "    return mean_ssim, ssim_map  # Return both mean SSIM and SSIM map"
   ]
  },
  {
   "cell_type": "code",
   "execution_count": 49,
   "id": "491dd337",
   "metadata": {},
   "outputs": [],
   "source": [
    "TScores = [TSSIM(Frames[i].unsqueeze(0),Frames[i+1].unsqueeze(0)) for i in range(len(Frames)-1)]\n",
    "TScore = [t[0].item() for t in TScores]\n",
    "TPixScores = [t[1] for t in TScores]"
   ]
  },
  {
   "cell_type": "code",
   "execution_count": 50,
   "id": "8479ba49",
   "metadata": {},
   "outputs": [
    {
     "data": {
      "text/plain": [
       "[0.8996657133102417,\n",
       " 0.9880629181861877,\n",
       " 0.9062681198120117,\n",
       " 0.9278402328491211,\n",
       " 0.9978240728378296,\n",
       " 0.9976814985275269,\n",
       " 0.8129255175590515,\n",
       " 0.9855190515518188,\n",
       " 0.8816332221031189,\n",
       " 0.957511305809021,\n",
       " 0.9729323983192444,\n",
       " 0.8441409468650818]"
      ]
     },
     "execution_count": 50,
     "metadata": {},
     "output_type": "execute_result"
    }
   ],
   "source": [
    "TScore"
   ]
  },
  {
   "cell_type": "code",
   "execution_count": 51,
   "id": "cb772656",
   "metadata": {},
   "outputs": [],
   "source": [
    "TPixImg = [Frame2Numpy(t) for t in TPixScores]"
   ]
  },
  {
   "cell_type": "code",
   "execution_count": 52,
   "id": "b7be5516",
   "metadata": {},
   "outputs": [],
   "source": [
    "#########            3             ###########3"
   ]
  },
  {
   "cell_type": "code",
   "execution_count": 77,
   "id": "52cc5296",
   "metadata": {},
   "outputs": [],
   "source": [
    "ThroughFrames(TPixImg)"
   ]
  },
  {
   "cell_type": "code",
   "execution_count": 54,
   "id": "8954f1e1",
   "metadata": {},
   "outputs": [
    {
     "data": {
      "text/plain": [
       "(200, 200, 3)"
      ]
     },
     "execution_count": 54,
     "metadata": {},
     "output_type": "execute_result"
    }
   ],
   "source": [
    "TPixImg[0].shape"
   ]
  },
  {
   "cell_type": "markdown",
   "id": "3fad1a17",
   "metadata": {},
   "source": [
    "# Object Detection"
   ]
  },
  {
   "cell_type": "code",
   "execution_count": 55,
   "id": "49e6158c",
   "metadata": {},
   "outputs": [],
   "source": [
    "from torchvision.models.detection import fasterrcnn_resnet50_fpn\n",
    "from torchvision.transforms import functional as TrFun\n",
    "\n",
    "model = fasterrcnn_resnet50_fpn(pretrained=True).eval()\n",
    "\n",
    "COCO_LABELS = {\n",
    "    1: \"Person\", 2: \"Bicycle\", 3: \"Car\", 4: \"Motorcycle\", 5: \"Airplane\", 6: \"Bus\", 7: \"Train\", \n",
    "    8: \"Truck\", 9: \"Boat\", 10: \"Traffic Light\", 11: \"Fire Hydrant\", 13: \"Stop Sign\", 14: \"Parking Meter\", \n",
    "    15: \"Bench\", 16: \"Bird\", 17: \"Cat\", 18: \"Dog\", 19: \"Horse\", 20: \"Sheep\", 21: \"Cow\", 22: \"Elephant\", \n",
    "    23: \"Bear\", 24: \"Zebra\", 25: \"Giraffe\", 27: \"Backpack\", 28: \"Umbrella\", 31: \"Handbag\", 32: \"Tie\", \n",
    "    33: \"Suitcase\", 34: \"Frisbee\", 35: \"Skis\", 36: \"Snowboard\", 37: \"Sports Ball\", 38: \"Kite\", \n",
    "    39: \"Baseball Bat\", 40: \"Baseball Glove\", 41: \"Skateboard\", 42: \"Surfboard\", 43: \"Tennis Racket\", \n",
    "    44: \"Bottle\", 46: \"Wine Glass\", 47: \"Cup\", 48: \"Fork\", 49: \"Knife\", 50: \"Spoon\", 51: \"Bowl\", \n",
    "    52: \"Banana\", 53: \"Apple\", 54: \"Sandwich\", 55: \"Orange\", 56: \"Broccoli\", 57: \"Carrot\", 58: \"Hot Dog\", \n",
    "    59: \"Pizza\", 60: \"Donut\", 61: \"Cake\", 62: \"Chair\", 63: \"Couch\", 64: \"Potted Plant\", 65: \"Bed\", \n",
    "    67: \"Dining Table\", 70: \"Toilet\", 72: \"TV\", 73: \"Laptop\", 74: \"Mouse\", 75: \"Remote\", 76: \"Keyboard\", \n",
    "    77: \"Cell Phone\", 78: \"Microwave\", 79: \"Oven\", 80: \"Toaster\", 81: \"Sink\", 82: \"Refrigerator\", \n",
    "    84: \"Book\", 85: \"Clock\", 86: \"Vase\", 87: \"Scissors\", 88: \"Teddy Bear\", 89: \"Hair Drier\", 90: \"Toothbrush\"\n",
    "}\n",
    "\n",
    "def detect_objects(frame):\n",
    "    frame_tensor = TrFun.to_tensor(frame).unsqueeze(0)\n",
    "    predictions = model(frame_tensor)\n",
    "    return predictions[0]['boxes'], predictions[0]['labels'],predictions[0]['scores']"
   ]
  },
  {
   "cell_type": "code",
   "execution_count": 56,
   "id": "8735f7eb",
   "metadata": {},
   "outputs": [],
   "source": [
    "Boxes,Labels,Prob = detect_objects(Frame2Numpy(Frames[8]))"
   ]
  },
  {
   "cell_type": "code",
   "execution_count": 57,
   "id": "f687a119",
   "metadata": {},
   "outputs": [
    {
     "data": {
      "text/plain": [
       "(tensor([[[109.7835,  17.1182, 197.9163, 193.3935]],\n",
       " \n",
       "         [[ 49.7932,  41.6467, 125.4709, 157.3019]],\n",
       " \n",
       "         [[124.8270,  50.6015, 172.8132,  84.5231]],\n",
       " \n",
       "         [[ 65.8218,  25.0697, 178.8323, 185.6025]]], grad_fn=<IndexBackward0>),\n",
       " tensor([[ 1],\n",
       "         [ 1],\n",
       "         [43],\n",
       "         [ 1]]))"
      ]
     },
     "execution_count": 57,
     "metadata": {},
     "output_type": "execute_result"
    }
   ],
   "source": [
    "Boxes[torch.nonzero(Prob>0.5)],Labels[torch.nonzero(Prob>0.5)]"
   ]
  },
  {
   "cell_type": "code",
   "execution_count": 58,
   "id": "b36cbed5",
   "metadata": {},
   "outputs": [],
   "source": [
    "def Draw_objects(Frames):\n",
    "    Draw = [cv2.cvtColor(Frame2Numpy(f.clone()),cv2.COLOR_BGR2RGB) for f in Frames]\n",
    "    for idx, d in enumerate(Draw):\n",
    "        Boxes, Labels, Prob = detect_objects(d)\n",
    "        mask = Prob > 0.75\n",
    "        Boxes = Boxes[mask]\n",
    "        Labels = Labels[mask]\n",
    "        for b, l in zip(Boxes, Labels):\n",
    "            x1, y1, x2, y2 = int(b[0].item()), int(b[1].item()), int(b[2].item()), int(b[3].item())\n",
    "            label_id = int(l.item())\n",
    "            label_name = COCO_LABELS.get(label_id, f\"Unknown ({label_id})\")\n",
    "            label_text = f\"{label_name}\"\n",
    "            cv2.rectangle(d, (x1, y1), (x2, y2), (0, 255, 0), 2)\n",
    "            text_size = cv2.getTextSize(label_text, cv2.FONT_HERSHEY_SIMPLEX, 0.5, 1)[0]\n",
    "            text_x = x1\n",
    "            text_y = y1 - 10 if y1 - 10 > 10 else y1 + 10\n",
    "            cv2.rectangle(d, (text_x, text_y - text_size[1] - 4), (text_x + text_size[0], text_y), (0, 255, 0), -1)\n",
    "            cv2.putText(d, label_text, (text_x, text_y - 2), cv2.FONT_HERSHEY_SIMPLEX, 0.5, (0, 0, 0), 1)\n",
    "    return [cv2.cvtColor(d,cv2.COLOR_RGB2BGR) for d in Draw]"
   ]
  },
  {
   "cell_type": "code",
   "execution_count": 59,
   "id": "dd28d770",
   "metadata": {},
   "outputs": [
    {
     "ename": "KeyboardInterrupt",
     "evalue": "",
     "output_type": "error",
     "traceback": [
      "\u001b[1;31m---------------------------------------------------------------------------\u001b[0m",
      "\u001b[1;31mKeyboardInterrupt\u001b[0m                         Traceback (most recent call last)",
      "\u001b[1;32m<ipython-input-59-608b721c4b98>\u001b[0m in \u001b[0;36m<module>\u001b[1;34m\u001b[0m\n\u001b[1;32m----> 1\u001b[1;33m \u001b[0mDetectObjImg\u001b[0m \u001b[1;33m=\u001b[0m \u001b[0mDraw_objects\u001b[0m\u001b[1;33m(\u001b[0m\u001b[0mFrames\u001b[0m\u001b[1;33m)\u001b[0m\u001b[1;33m\u001b[0m\u001b[1;33m\u001b[0m\u001b[0m\n\u001b[0m",
      "\u001b[1;32m<ipython-input-58-880e0a3d28fa>\u001b[0m in \u001b[0;36mDraw_objects\u001b[1;34m(Frames)\u001b[0m\n\u001b[0;32m      2\u001b[0m     \u001b[0mDraw\u001b[0m \u001b[1;33m=\u001b[0m \u001b[1;33m[\u001b[0m\u001b[0mcv2\u001b[0m\u001b[1;33m.\u001b[0m\u001b[0mcvtColor\u001b[0m\u001b[1;33m(\u001b[0m\u001b[0mFrame2Numpy\u001b[0m\u001b[1;33m(\u001b[0m\u001b[0mf\u001b[0m\u001b[1;33m.\u001b[0m\u001b[0mclone\u001b[0m\u001b[1;33m(\u001b[0m\u001b[1;33m)\u001b[0m\u001b[1;33m)\u001b[0m\u001b[1;33m,\u001b[0m\u001b[0mcv2\u001b[0m\u001b[1;33m.\u001b[0m\u001b[0mCOLOR_BGR2RGB\u001b[0m\u001b[1;33m)\u001b[0m \u001b[1;32mfor\u001b[0m \u001b[0mf\u001b[0m \u001b[1;32min\u001b[0m \u001b[0mFrames\u001b[0m\u001b[1;33m]\u001b[0m\u001b[1;33m\u001b[0m\u001b[1;33m\u001b[0m\u001b[0m\n\u001b[0;32m      3\u001b[0m     \u001b[1;32mfor\u001b[0m \u001b[0midx\u001b[0m\u001b[1;33m,\u001b[0m \u001b[0md\u001b[0m \u001b[1;32min\u001b[0m \u001b[0menumerate\u001b[0m\u001b[1;33m(\u001b[0m\u001b[0mDraw\u001b[0m\u001b[1;33m)\u001b[0m\u001b[1;33m:\u001b[0m\u001b[1;33m\u001b[0m\u001b[1;33m\u001b[0m\u001b[0m\n\u001b[1;32m----> 4\u001b[1;33m         \u001b[0mBoxes\u001b[0m\u001b[1;33m,\u001b[0m \u001b[0mLabels\u001b[0m\u001b[1;33m,\u001b[0m \u001b[0mProb\u001b[0m \u001b[1;33m=\u001b[0m \u001b[0mdetect_objects\u001b[0m\u001b[1;33m(\u001b[0m\u001b[0md\u001b[0m\u001b[1;33m)\u001b[0m\u001b[1;33m\u001b[0m\u001b[1;33m\u001b[0m\u001b[0m\n\u001b[0m\u001b[0;32m      5\u001b[0m         \u001b[0mmask\u001b[0m \u001b[1;33m=\u001b[0m \u001b[0mProb\u001b[0m \u001b[1;33m>\u001b[0m \u001b[1;36m0.75\u001b[0m\u001b[1;33m\u001b[0m\u001b[1;33m\u001b[0m\u001b[0m\n\u001b[0;32m      6\u001b[0m         \u001b[0mBoxes\u001b[0m \u001b[1;33m=\u001b[0m \u001b[0mBoxes\u001b[0m\u001b[1;33m[\u001b[0m\u001b[0mmask\u001b[0m\u001b[1;33m]\u001b[0m\u001b[1;33m\u001b[0m\u001b[1;33m\u001b[0m\u001b[0m\n",
      "\u001b[1;32m<ipython-input-55-015b58fd4372>\u001b[0m in \u001b[0;36mdetect_objects\u001b[1;34m(frame)\u001b[0m\n\u001b[0;32m     21\u001b[0m \u001b[1;32mdef\u001b[0m \u001b[0mdetect_objects\u001b[0m\u001b[1;33m(\u001b[0m\u001b[0mframe\u001b[0m\u001b[1;33m)\u001b[0m\u001b[1;33m:\u001b[0m\u001b[1;33m\u001b[0m\u001b[1;33m\u001b[0m\u001b[0m\n\u001b[0;32m     22\u001b[0m     \u001b[0mframe_tensor\u001b[0m \u001b[1;33m=\u001b[0m \u001b[0mTrFun\u001b[0m\u001b[1;33m.\u001b[0m\u001b[0mto_tensor\u001b[0m\u001b[1;33m(\u001b[0m\u001b[0mframe\u001b[0m\u001b[1;33m)\u001b[0m\u001b[1;33m.\u001b[0m\u001b[0munsqueeze\u001b[0m\u001b[1;33m(\u001b[0m\u001b[1;36m0\u001b[0m\u001b[1;33m)\u001b[0m\u001b[1;33m\u001b[0m\u001b[1;33m\u001b[0m\u001b[0m\n\u001b[1;32m---> 23\u001b[1;33m     \u001b[0mpredictions\u001b[0m \u001b[1;33m=\u001b[0m \u001b[0mmodel\u001b[0m\u001b[1;33m(\u001b[0m\u001b[0mframe_tensor\u001b[0m\u001b[1;33m)\u001b[0m\u001b[1;33m\u001b[0m\u001b[1;33m\u001b[0m\u001b[0m\n\u001b[0m\u001b[0;32m     24\u001b[0m     \u001b[1;32mreturn\u001b[0m \u001b[0mpredictions\u001b[0m\u001b[1;33m[\u001b[0m\u001b[1;36m0\u001b[0m\u001b[1;33m]\u001b[0m\u001b[1;33m[\u001b[0m\u001b[1;34m'boxes'\u001b[0m\u001b[1;33m]\u001b[0m\u001b[1;33m,\u001b[0m \u001b[0mpredictions\u001b[0m\u001b[1;33m[\u001b[0m\u001b[1;36m0\u001b[0m\u001b[1;33m]\u001b[0m\u001b[1;33m[\u001b[0m\u001b[1;34m'labels'\u001b[0m\u001b[1;33m]\u001b[0m\u001b[1;33m,\u001b[0m\u001b[0mpredictions\u001b[0m\u001b[1;33m[\u001b[0m\u001b[1;36m0\u001b[0m\u001b[1;33m]\u001b[0m\u001b[1;33m[\u001b[0m\u001b[1;34m'scores'\u001b[0m\u001b[1;33m]\u001b[0m\u001b[1;33m\u001b[0m\u001b[1;33m\u001b[0m\u001b[0m\n",
      "\u001b[1;32m~\\anaconda3\\lib\\site-packages\\torch\\nn\\modules\\module.py\u001b[0m in \u001b[0;36m_call_impl\u001b[1;34m(self, *input, **kwargs)\u001b[0m\n\u001b[0;32m   1192\u001b[0m         if not (self._backward_hooks or self._forward_hooks or self._forward_pre_hooks or _global_backward_hooks\n\u001b[0;32m   1193\u001b[0m                 or _global_forward_hooks or _global_forward_pre_hooks):\n\u001b[1;32m-> 1194\u001b[1;33m             \u001b[1;32mreturn\u001b[0m \u001b[0mforward_call\u001b[0m\u001b[1;33m(\u001b[0m\u001b[1;33m*\u001b[0m\u001b[0minput\u001b[0m\u001b[1;33m,\u001b[0m \u001b[1;33m**\u001b[0m\u001b[0mkwargs\u001b[0m\u001b[1;33m)\u001b[0m\u001b[1;33m\u001b[0m\u001b[1;33m\u001b[0m\u001b[0m\n\u001b[0m\u001b[0;32m   1195\u001b[0m         \u001b[1;31m# Do not call functions when jit is used\u001b[0m\u001b[1;33m\u001b[0m\u001b[1;33m\u001b[0m\u001b[1;33m\u001b[0m\u001b[0m\n\u001b[0;32m   1196\u001b[0m         \u001b[0mfull_backward_hooks\u001b[0m\u001b[1;33m,\u001b[0m \u001b[0mnon_full_backward_hooks\u001b[0m \u001b[1;33m=\u001b[0m \u001b[1;33m[\u001b[0m\u001b[1;33m]\u001b[0m\u001b[1;33m,\u001b[0m \u001b[1;33m[\u001b[0m\u001b[1;33m]\u001b[0m\u001b[1;33m\u001b[0m\u001b[1;33m\u001b[0m\u001b[0m\n",
      "\u001b[1;32m~\\anaconda3\\lib\\site-packages\\torchvision\\models\\detection\\generalized_rcnn.py\u001b[0m in \u001b[0;36mforward\u001b[1;34m(self, images, targets)\u001b[0m\n\u001b[0;32m     99\u001b[0m                     )\n\u001b[0;32m    100\u001b[0m \u001b[1;33m\u001b[0m\u001b[0m\n\u001b[1;32m--> 101\u001b[1;33m         \u001b[0mfeatures\u001b[0m \u001b[1;33m=\u001b[0m \u001b[0mself\u001b[0m\u001b[1;33m.\u001b[0m\u001b[0mbackbone\u001b[0m\u001b[1;33m(\u001b[0m\u001b[0mimages\u001b[0m\u001b[1;33m.\u001b[0m\u001b[0mtensors\u001b[0m\u001b[1;33m)\u001b[0m\u001b[1;33m\u001b[0m\u001b[1;33m\u001b[0m\u001b[0m\n\u001b[0m\u001b[0;32m    102\u001b[0m         \u001b[1;32mif\u001b[0m \u001b[0misinstance\u001b[0m\u001b[1;33m(\u001b[0m\u001b[0mfeatures\u001b[0m\u001b[1;33m,\u001b[0m \u001b[0mtorch\u001b[0m\u001b[1;33m.\u001b[0m\u001b[0mTensor\u001b[0m\u001b[1;33m)\u001b[0m\u001b[1;33m:\u001b[0m\u001b[1;33m\u001b[0m\u001b[1;33m\u001b[0m\u001b[0m\n\u001b[0;32m    103\u001b[0m             \u001b[0mfeatures\u001b[0m \u001b[1;33m=\u001b[0m \u001b[0mOrderedDict\u001b[0m\u001b[1;33m(\u001b[0m\u001b[1;33m[\u001b[0m\u001b[1;33m(\u001b[0m\u001b[1;34m\"0\"\u001b[0m\u001b[1;33m,\u001b[0m \u001b[0mfeatures\u001b[0m\u001b[1;33m)\u001b[0m\u001b[1;33m]\u001b[0m\u001b[1;33m)\u001b[0m\u001b[1;33m\u001b[0m\u001b[1;33m\u001b[0m\u001b[0m\n",
      "\u001b[1;32m~\\anaconda3\\lib\\site-packages\\torch\\nn\\modules\\module.py\u001b[0m in \u001b[0;36m_call_impl\u001b[1;34m(self, *input, **kwargs)\u001b[0m\n\u001b[0;32m   1192\u001b[0m         if not (self._backward_hooks or self._forward_hooks or self._forward_pre_hooks or _global_backward_hooks\n\u001b[0;32m   1193\u001b[0m                 or _global_forward_hooks or _global_forward_pre_hooks):\n\u001b[1;32m-> 1194\u001b[1;33m             \u001b[1;32mreturn\u001b[0m \u001b[0mforward_call\u001b[0m\u001b[1;33m(\u001b[0m\u001b[1;33m*\u001b[0m\u001b[0minput\u001b[0m\u001b[1;33m,\u001b[0m \u001b[1;33m**\u001b[0m\u001b[0mkwargs\u001b[0m\u001b[1;33m)\u001b[0m\u001b[1;33m\u001b[0m\u001b[1;33m\u001b[0m\u001b[0m\n\u001b[0m\u001b[0;32m   1195\u001b[0m         \u001b[1;31m# Do not call functions when jit is used\u001b[0m\u001b[1;33m\u001b[0m\u001b[1;33m\u001b[0m\u001b[1;33m\u001b[0m\u001b[0m\n\u001b[0;32m   1196\u001b[0m         \u001b[0mfull_backward_hooks\u001b[0m\u001b[1;33m,\u001b[0m \u001b[0mnon_full_backward_hooks\u001b[0m \u001b[1;33m=\u001b[0m \u001b[1;33m[\u001b[0m\u001b[1;33m]\u001b[0m\u001b[1;33m,\u001b[0m \u001b[1;33m[\u001b[0m\u001b[1;33m]\u001b[0m\u001b[1;33m\u001b[0m\u001b[1;33m\u001b[0m\u001b[0m\n",
      "\u001b[1;32m~\\anaconda3\\lib\\site-packages\\torchvision\\models\\detection\\backbone_utils.py\u001b[0m in \u001b[0;36mforward\u001b[1;34m(self, x)\u001b[0m\n\u001b[0;32m     56\u001b[0m     \u001b[1;32mdef\u001b[0m \u001b[0mforward\u001b[0m\u001b[1;33m(\u001b[0m\u001b[0mself\u001b[0m\u001b[1;33m,\u001b[0m \u001b[0mx\u001b[0m\u001b[1;33m:\u001b[0m \u001b[0mTensor\u001b[0m\u001b[1;33m)\u001b[0m \u001b[1;33m->\u001b[0m \u001b[0mDict\u001b[0m\u001b[1;33m[\u001b[0m\u001b[0mstr\u001b[0m\u001b[1;33m,\u001b[0m \u001b[0mTensor\u001b[0m\u001b[1;33m]\u001b[0m\u001b[1;33m:\u001b[0m\u001b[1;33m\u001b[0m\u001b[1;33m\u001b[0m\u001b[0m\n\u001b[0;32m     57\u001b[0m         \u001b[0mx\u001b[0m \u001b[1;33m=\u001b[0m \u001b[0mself\u001b[0m\u001b[1;33m.\u001b[0m\u001b[0mbody\u001b[0m\u001b[1;33m(\u001b[0m\u001b[0mx\u001b[0m\u001b[1;33m)\u001b[0m\u001b[1;33m\u001b[0m\u001b[1;33m\u001b[0m\u001b[0m\n\u001b[1;32m---> 58\u001b[1;33m         \u001b[0mx\u001b[0m \u001b[1;33m=\u001b[0m \u001b[0mself\u001b[0m\u001b[1;33m.\u001b[0m\u001b[0mfpn\u001b[0m\u001b[1;33m(\u001b[0m\u001b[0mx\u001b[0m\u001b[1;33m)\u001b[0m\u001b[1;33m\u001b[0m\u001b[1;33m\u001b[0m\u001b[0m\n\u001b[0m\u001b[0;32m     59\u001b[0m         \u001b[1;32mreturn\u001b[0m \u001b[0mx\u001b[0m\u001b[1;33m\u001b[0m\u001b[1;33m\u001b[0m\u001b[0m\n\u001b[0;32m     60\u001b[0m \u001b[1;33m\u001b[0m\u001b[0m\n",
      "\u001b[1;32m~\\anaconda3\\lib\\site-packages\\torch\\nn\\modules\\module.py\u001b[0m in \u001b[0;36m_call_impl\u001b[1;34m(self, *input, **kwargs)\u001b[0m\n\u001b[0;32m   1192\u001b[0m         if not (self._backward_hooks or self._forward_hooks or self._forward_pre_hooks or _global_backward_hooks\n\u001b[0;32m   1193\u001b[0m                 or _global_forward_hooks or _global_forward_pre_hooks):\n\u001b[1;32m-> 1194\u001b[1;33m             \u001b[1;32mreturn\u001b[0m \u001b[0mforward_call\u001b[0m\u001b[1;33m(\u001b[0m\u001b[1;33m*\u001b[0m\u001b[0minput\u001b[0m\u001b[1;33m,\u001b[0m \u001b[1;33m**\u001b[0m\u001b[0mkwargs\u001b[0m\u001b[1;33m)\u001b[0m\u001b[1;33m\u001b[0m\u001b[1;33m\u001b[0m\u001b[0m\n\u001b[0m\u001b[0;32m   1195\u001b[0m         \u001b[1;31m# Do not call functions when jit is used\u001b[0m\u001b[1;33m\u001b[0m\u001b[1;33m\u001b[0m\u001b[1;33m\u001b[0m\u001b[0m\n\u001b[0;32m   1196\u001b[0m         \u001b[0mfull_backward_hooks\u001b[0m\u001b[1;33m,\u001b[0m \u001b[0mnon_full_backward_hooks\u001b[0m \u001b[1;33m=\u001b[0m \u001b[1;33m[\u001b[0m\u001b[1;33m]\u001b[0m\u001b[1;33m,\u001b[0m \u001b[1;33m[\u001b[0m\u001b[1;33m]\u001b[0m\u001b[1;33m\u001b[0m\u001b[1;33m\u001b[0m\u001b[0m\n",
      "\u001b[1;32m~\\anaconda3\\lib\\site-packages\\torchvision\\ops\\feature_pyramid_network.py\u001b[0m in \u001b[0;36mforward\u001b[1;34m(self, x)\u001b[0m\n\u001b[0;32m    194\u001b[0m             \u001b[0minner_top_down\u001b[0m \u001b[1;33m=\u001b[0m \u001b[0mF\u001b[0m\u001b[1;33m.\u001b[0m\u001b[0minterpolate\u001b[0m\u001b[1;33m(\u001b[0m\u001b[0mlast_inner\u001b[0m\u001b[1;33m,\u001b[0m \u001b[0msize\u001b[0m\u001b[1;33m=\u001b[0m\u001b[0mfeat_shape\u001b[0m\u001b[1;33m,\u001b[0m \u001b[0mmode\u001b[0m\u001b[1;33m=\u001b[0m\u001b[1;34m\"nearest\"\u001b[0m\u001b[1;33m)\u001b[0m\u001b[1;33m\u001b[0m\u001b[1;33m\u001b[0m\u001b[0m\n\u001b[0;32m    195\u001b[0m             \u001b[0mlast_inner\u001b[0m \u001b[1;33m=\u001b[0m \u001b[0minner_lateral\u001b[0m \u001b[1;33m+\u001b[0m \u001b[0minner_top_down\u001b[0m\u001b[1;33m\u001b[0m\u001b[1;33m\u001b[0m\u001b[0m\n\u001b[1;32m--> 196\u001b[1;33m             \u001b[0mresults\u001b[0m\u001b[1;33m.\u001b[0m\u001b[0minsert\u001b[0m\u001b[1;33m(\u001b[0m\u001b[1;36m0\u001b[0m\u001b[1;33m,\u001b[0m \u001b[0mself\u001b[0m\u001b[1;33m.\u001b[0m\u001b[0mget_result_from_layer_blocks\u001b[0m\u001b[1;33m(\u001b[0m\u001b[0mlast_inner\u001b[0m\u001b[1;33m,\u001b[0m \u001b[0midx\u001b[0m\u001b[1;33m)\u001b[0m\u001b[1;33m)\u001b[0m\u001b[1;33m\u001b[0m\u001b[1;33m\u001b[0m\u001b[0m\n\u001b[0m\u001b[0;32m    197\u001b[0m \u001b[1;33m\u001b[0m\u001b[0m\n\u001b[0;32m    198\u001b[0m         \u001b[1;32mif\u001b[0m \u001b[0mself\u001b[0m\u001b[1;33m.\u001b[0m\u001b[0mextra_blocks\u001b[0m \u001b[1;32mis\u001b[0m \u001b[1;32mnot\u001b[0m \u001b[1;32mNone\u001b[0m\u001b[1;33m:\u001b[0m\u001b[1;33m\u001b[0m\u001b[1;33m\u001b[0m\u001b[0m\n",
      "\u001b[1;32m~\\anaconda3\\lib\\site-packages\\torchvision\\ops\\feature_pyramid_network.py\u001b[0m in \u001b[0;36mget_result_from_layer_blocks\u001b[1;34m(self, x, idx)\u001b[0m\n\u001b[0;32m    167\u001b[0m         \u001b[1;32mfor\u001b[0m \u001b[0mi\u001b[0m\u001b[1;33m,\u001b[0m \u001b[0mmodule\u001b[0m \u001b[1;32min\u001b[0m \u001b[0menumerate\u001b[0m\u001b[1;33m(\u001b[0m\u001b[0mself\u001b[0m\u001b[1;33m.\u001b[0m\u001b[0mlayer_blocks\u001b[0m\u001b[1;33m)\u001b[0m\u001b[1;33m:\u001b[0m\u001b[1;33m\u001b[0m\u001b[1;33m\u001b[0m\u001b[0m\n\u001b[0;32m    168\u001b[0m             \u001b[1;32mif\u001b[0m \u001b[0mi\u001b[0m \u001b[1;33m==\u001b[0m \u001b[0midx\u001b[0m\u001b[1;33m:\u001b[0m\u001b[1;33m\u001b[0m\u001b[1;33m\u001b[0m\u001b[0m\n\u001b[1;32m--> 169\u001b[1;33m                 \u001b[0mout\u001b[0m \u001b[1;33m=\u001b[0m \u001b[0mmodule\u001b[0m\u001b[1;33m(\u001b[0m\u001b[0mx\u001b[0m\u001b[1;33m)\u001b[0m\u001b[1;33m\u001b[0m\u001b[1;33m\u001b[0m\u001b[0m\n\u001b[0m\u001b[0;32m    170\u001b[0m         \u001b[1;32mreturn\u001b[0m \u001b[0mout\u001b[0m\u001b[1;33m\u001b[0m\u001b[1;33m\u001b[0m\u001b[0m\n\u001b[0;32m    171\u001b[0m \u001b[1;33m\u001b[0m\u001b[0m\n",
      "\u001b[1;32m~\\anaconda3\\lib\\site-packages\\torch\\nn\\modules\\module.py\u001b[0m in \u001b[0;36m_call_impl\u001b[1;34m(self, *input, **kwargs)\u001b[0m\n\u001b[0;32m   1192\u001b[0m         if not (self._backward_hooks or self._forward_hooks or self._forward_pre_hooks or _global_backward_hooks\n\u001b[0;32m   1193\u001b[0m                 or _global_forward_hooks or _global_forward_pre_hooks):\n\u001b[1;32m-> 1194\u001b[1;33m             \u001b[1;32mreturn\u001b[0m \u001b[0mforward_call\u001b[0m\u001b[1;33m(\u001b[0m\u001b[1;33m*\u001b[0m\u001b[0minput\u001b[0m\u001b[1;33m,\u001b[0m \u001b[1;33m**\u001b[0m\u001b[0mkwargs\u001b[0m\u001b[1;33m)\u001b[0m\u001b[1;33m\u001b[0m\u001b[1;33m\u001b[0m\u001b[0m\n\u001b[0m\u001b[0;32m   1195\u001b[0m         \u001b[1;31m# Do not call functions when jit is used\u001b[0m\u001b[1;33m\u001b[0m\u001b[1;33m\u001b[0m\u001b[1;33m\u001b[0m\u001b[0m\n\u001b[0;32m   1196\u001b[0m         \u001b[0mfull_backward_hooks\u001b[0m\u001b[1;33m,\u001b[0m \u001b[0mnon_full_backward_hooks\u001b[0m \u001b[1;33m=\u001b[0m \u001b[1;33m[\u001b[0m\u001b[1;33m]\u001b[0m\u001b[1;33m,\u001b[0m \u001b[1;33m[\u001b[0m\u001b[1;33m]\u001b[0m\u001b[1;33m\u001b[0m\u001b[1;33m\u001b[0m\u001b[0m\n",
      "\u001b[1;32m~\\anaconda3\\lib\\site-packages\\torch\\nn\\modules\\container.py\u001b[0m in \u001b[0;36mforward\u001b[1;34m(self, input)\u001b[0m\n\u001b[0;32m    202\u001b[0m     \u001b[1;32mdef\u001b[0m \u001b[0mforward\u001b[0m\u001b[1;33m(\u001b[0m\u001b[0mself\u001b[0m\u001b[1;33m,\u001b[0m \u001b[0minput\u001b[0m\u001b[1;33m)\u001b[0m\u001b[1;33m:\u001b[0m\u001b[1;33m\u001b[0m\u001b[1;33m\u001b[0m\u001b[0m\n\u001b[0;32m    203\u001b[0m         \u001b[1;32mfor\u001b[0m \u001b[0mmodule\u001b[0m \u001b[1;32min\u001b[0m \u001b[0mself\u001b[0m\u001b[1;33m:\u001b[0m\u001b[1;33m\u001b[0m\u001b[1;33m\u001b[0m\u001b[0m\n\u001b[1;32m--> 204\u001b[1;33m             \u001b[0minput\u001b[0m \u001b[1;33m=\u001b[0m \u001b[0mmodule\u001b[0m\u001b[1;33m(\u001b[0m\u001b[0minput\u001b[0m\u001b[1;33m)\u001b[0m\u001b[1;33m\u001b[0m\u001b[1;33m\u001b[0m\u001b[0m\n\u001b[0m\u001b[0;32m    205\u001b[0m         \u001b[1;32mreturn\u001b[0m \u001b[0minput\u001b[0m\u001b[1;33m\u001b[0m\u001b[1;33m\u001b[0m\u001b[0m\n\u001b[0;32m    206\u001b[0m \u001b[1;33m\u001b[0m\u001b[0m\n",
      "\u001b[1;32m~\\anaconda3\\lib\\site-packages\\torch\\nn\\modules\\module.py\u001b[0m in \u001b[0;36m_call_impl\u001b[1;34m(self, *input, **kwargs)\u001b[0m\n\u001b[0;32m   1192\u001b[0m         if not (self._backward_hooks or self._forward_hooks or self._forward_pre_hooks or _global_backward_hooks\n\u001b[0;32m   1193\u001b[0m                 or _global_forward_hooks or _global_forward_pre_hooks):\n\u001b[1;32m-> 1194\u001b[1;33m             \u001b[1;32mreturn\u001b[0m \u001b[0mforward_call\u001b[0m\u001b[1;33m(\u001b[0m\u001b[1;33m*\u001b[0m\u001b[0minput\u001b[0m\u001b[1;33m,\u001b[0m \u001b[1;33m**\u001b[0m\u001b[0mkwargs\u001b[0m\u001b[1;33m)\u001b[0m\u001b[1;33m\u001b[0m\u001b[1;33m\u001b[0m\u001b[0m\n\u001b[0m\u001b[0;32m   1195\u001b[0m         \u001b[1;31m# Do not call functions when jit is used\u001b[0m\u001b[1;33m\u001b[0m\u001b[1;33m\u001b[0m\u001b[1;33m\u001b[0m\u001b[0m\n\u001b[0;32m   1196\u001b[0m         \u001b[0mfull_backward_hooks\u001b[0m\u001b[1;33m,\u001b[0m \u001b[0mnon_full_backward_hooks\u001b[0m \u001b[1;33m=\u001b[0m \u001b[1;33m[\u001b[0m\u001b[1;33m]\u001b[0m\u001b[1;33m,\u001b[0m \u001b[1;33m[\u001b[0m\u001b[1;33m]\u001b[0m\u001b[1;33m\u001b[0m\u001b[1;33m\u001b[0m\u001b[0m\n",
      "\u001b[1;32m~\\anaconda3\\lib\\site-packages\\torch\\nn\\modules\\conv.py\u001b[0m in \u001b[0;36mforward\u001b[1;34m(self, input)\u001b[0m\n\u001b[0;32m    461\u001b[0m \u001b[1;33m\u001b[0m\u001b[0m\n\u001b[0;32m    462\u001b[0m     \u001b[1;32mdef\u001b[0m \u001b[0mforward\u001b[0m\u001b[1;33m(\u001b[0m\u001b[0mself\u001b[0m\u001b[1;33m,\u001b[0m \u001b[0minput\u001b[0m\u001b[1;33m:\u001b[0m \u001b[0mTensor\u001b[0m\u001b[1;33m)\u001b[0m \u001b[1;33m->\u001b[0m \u001b[0mTensor\u001b[0m\u001b[1;33m:\u001b[0m\u001b[1;33m\u001b[0m\u001b[1;33m\u001b[0m\u001b[0m\n\u001b[1;32m--> 463\u001b[1;33m         \u001b[1;32mreturn\u001b[0m \u001b[0mself\u001b[0m\u001b[1;33m.\u001b[0m\u001b[0m_conv_forward\u001b[0m\u001b[1;33m(\u001b[0m\u001b[0minput\u001b[0m\u001b[1;33m,\u001b[0m \u001b[0mself\u001b[0m\u001b[1;33m.\u001b[0m\u001b[0mweight\u001b[0m\u001b[1;33m,\u001b[0m \u001b[0mself\u001b[0m\u001b[1;33m.\u001b[0m\u001b[0mbias\u001b[0m\u001b[1;33m)\u001b[0m\u001b[1;33m\u001b[0m\u001b[1;33m\u001b[0m\u001b[0m\n\u001b[0m\u001b[0;32m    464\u001b[0m \u001b[1;33m\u001b[0m\u001b[0m\n\u001b[0;32m    465\u001b[0m \u001b[1;32mclass\u001b[0m \u001b[0mConv3d\u001b[0m\u001b[1;33m(\u001b[0m\u001b[0m_ConvNd\u001b[0m\u001b[1;33m)\u001b[0m\u001b[1;33m:\u001b[0m\u001b[1;33m\u001b[0m\u001b[1;33m\u001b[0m\u001b[0m\n",
      "\u001b[1;32m~\\anaconda3\\lib\\site-packages\\torch\\nn\\modules\\conv.py\u001b[0m in \u001b[0;36m_conv_forward\u001b[1;34m(self, input, weight, bias)\u001b[0m\n\u001b[0;32m    458\u001b[0m                             _pair(0), self.dilation, self.groups)\n\u001b[0;32m    459\u001b[0m         return F.conv2d(input, weight, bias, self.stride,\n\u001b[1;32m--> 460\u001b[1;33m                         self.padding, self.dilation, self.groups)\n\u001b[0m\u001b[0;32m    461\u001b[0m \u001b[1;33m\u001b[0m\u001b[0m\n\u001b[0;32m    462\u001b[0m     \u001b[1;32mdef\u001b[0m \u001b[0mforward\u001b[0m\u001b[1;33m(\u001b[0m\u001b[0mself\u001b[0m\u001b[1;33m,\u001b[0m \u001b[0minput\u001b[0m\u001b[1;33m:\u001b[0m \u001b[0mTensor\u001b[0m\u001b[1;33m)\u001b[0m \u001b[1;33m->\u001b[0m \u001b[0mTensor\u001b[0m\u001b[1;33m:\u001b[0m\u001b[1;33m\u001b[0m\u001b[1;33m\u001b[0m\u001b[0m\n",
      "\u001b[1;31mKeyboardInterrupt\u001b[0m: "
     ]
    }
   ],
   "source": [
    "DetectObjImg = Draw_objects(Frames)"
   ]
  },
  {
   "cell_type": "code",
   "execution_count": null,
   "id": "c42ab2b5",
   "metadata": {},
   "outputs": [],
   "source": [
    "########         1        ########"
   ]
  },
  {
   "cell_type": "code",
   "execution_count": null,
   "id": "b2fa1e25",
   "metadata": {},
   "outputs": [],
   "source": [
    "ThroughFrames(DetectObjImg)"
   ]
  },
  {
   "cell_type": "markdown",
   "id": "102d87e2",
   "metadata": {},
   "source": [
    "# Entropy"
   ]
  },
  {
   "cell_type": "code",
   "execution_count": 78,
   "id": "302f4d8b",
   "metadata": {},
   "outputs": [],
   "source": [
    "def entropy_map(image_tensor: torch.Tensor, window_size: int) -> torch.Tensor:\n",
    "    assert image_tensor.ndim == 3 and image_tensor.shape[0] == 3, \\\n",
    "        \"Input tensor must have shape (3, H, W).\"\n",
    "    padding = window_size // 2\n",
    "    padded_tensor = torch.nn.functional.pad(image_tensor, (padding, padding, padding, padding), mode='reflect')\n",
    "    def compute_entropy(channel):\n",
    "        entropy_map = torch.zeros_like(channel)\n",
    "        for i in range(channel.shape[0]):\n",
    "            for j in range(channel.shape[1]):\n",
    "                window = padded_tensor[0, i:i + window_size, j:j + window_size]\n",
    "                hist = torch.histc(window, bins=256, min=0, max=1)\n",
    "                hist = hist / hist.sum()\n",
    "                entropy = -torch.sum(hist * torch.log2(hist + 1e-12))\n",
    "                entropy_map[i, j] = entropy\n",
    "        return entropy_map\n",
    "    entropy_maps = torch.stack([compute_entropy(image_tensor[c]) for c in range(3)])\n",
    "    return entropy_maps"
   ]
  },
  {
   "cell_type": "code",
   "execution_count": 79,
   "id": "e2216850",
   "metadata": {},
   "outputs": [],
   "source": [
    "Entropies = []\n",
    "for f in Frames:\n",
    "    entropy_maps = entropy_map(f,10)\n",
    "    Entropy = entropy_maps.permute(1,2,0).numpy()\n",
    "    Entropy1 = cv2.normalize(Entropy, None, 0, 255, cv2.NORM_MINMAX).astype(np.uint8)\n",
    "    Entropies.append(Entropy1)"
   ]
  },
  {
   "cell_type": "code",
   "execution_count": 80,
   "id": "24438c3a",
   "metadata": {},
   "outputs": [],
   "source": [
    "#########       1        ############"
   ]
  },
  {
   "cell_type": "code",
   "execution_count": 81,
   "id": "6d6aafdc",
   "metadata": {},
   "outputs": [],
   "source": [
    "ThroughFrames(Entropies)"
   ]
  },
  {
   "cell_type": "code",
   "execution_count": null,
   "id": "cb5e0aa8",
   "metadata": {},
   "outputs": [],
   "source": []
  }
 ],
 "metadata": {
  "kernelspec": {
   "display_name": "Python 3",
   "language": "python",
   "name": "python3"
  },
  "language_info": {
   "codemirror_mode": {
    "name": "ipython",
    "version": 3
   },
   "file_extension": ".py",
   "mimetype": "text/x-python",
   "name": "python",
   "nbconvert_exporter": "python",
   "pygments_lexer": "ipython3",
   "version": "3.7.6"
  }
 },
 "nbformat": 4,
 "nbformat_minor": 5
}
