{
 "cells": [
  {
   "cell_type": "code",
   "execution_count": 1,
   "id": "780a5745",
   "metadata": {},
   "outputs": [],
   "source": [
    "#%run Vid_Processing.ipynb"
   ]
  },
  {
   "cell_type": "code",
   "execution_count": 2,
   "id": "732a49bc",
   "metadata": {},
   "outputs": [
    {
     "name": "stdout",
     "output_type": "stream",
     "text": [
      "importing Jupyter notebook from Functions.ipynb\n"
     ]
    }
   ],
   "source": [
    "import import_ipynb\n",
    "from Functions import *"
   ]
  },
  {
   "cell_type": "markdown",
   "id": "f6511356",
   "metadata": {},
   "source": [
    "cap = open_vid('VDB\\V.mp4')\n",
    "Frames = get_frames(cap)\n",
    "print(\"FPS: \",cap.get(cv2.CAP_PROP_FPS))\n",
    "F = Frames.copy()\n",
    "loc=[[150,50]]\n",
    "sizes = [[50,100]]\n",
    "N = 15\n",
    "F[N] = occlusions(F[N],loc=loc,sizes=sizes,shapes=['rectangle'], colors=(200,100,50))\n",
    "F[N+1] = occlusions(F[N+1],loc=loc,sizes=sizes,shapes=['rectangle'], colors=(200,100,50))\n",
    "F[N+2] = occlusions(F[N+2],loc=loc,sizes=sizes,shapes=['rectangle'], colors=(200,100,50))\n",
    "_ = OFM(F)\n",
    "_ = OFV(F,15)\n",
    "_ = OFLK(F,15)"
   ]
  },
  {
   "cell_type": "markdown",
   "id": "ef929d42",
   "metadata": {},
   "source": [
    "file = 'IDB/coast.jpg'\n",
    "img = cv2.imread(file)\n",
    "toon = cartoonize_image(img,10,10)\n",
    "toon1 = cartoonize_image(img,10,10)\n",
    "cv2.imshow('toon',toon)\n",
    "cv2.imshow('toon1',toon1)\n",
    "cv2.waitKey(0)\n",
    "cv2.destroyAllWindows()"
   ]
  },
  {
   "cell_type": "markdown",
   "id": "2efdc35e",
   "metadata": {},
   "source": [
    "cap = open_vid('VDB/U.mp4')\n",
    "Frames = get_frames(cap)\n",
    "fps = cap.get(cv2.CAP_PROP_FPS)\n",
    "h = int(cap.get(cv2.CAP_PROP_FRAME_HEIGHT))\n",
    "w = int(cap.get(cv2.CAP_PROP_FRAME_WIDTH))\n",
    "Toon = [cv2.resize(cartoonize_image(cv2.resize(f,(600,600))),(w,h)) for f in Frames]\n",
    "save_vid(Toon,'Cartoonized/U_toonzz.mp4',fps)"
   ]
  },
  {
   "cell_type": "markdown",
   "id": "58b21825",
   "metadata": {},
   "source": [
    "cap = open_vid('VDB/U.mp4')\n",
    "fps = cap.get(cv2.CAP_PROP_FPS)\n",
    "Frames = get_frames(cap)\n",
    "cap = open_vid('Cartoonized/U_toon.mp4')\n",
    "Toon = get_frames(cap)\n",
    "play_frames(Frames,fps)\n",
    "play_frames(Toon,fps)\n",
    "_ = OFV(Frames,20)\n",
    "_ = OFV(Toon,20)"
   ]
  },
  {
   "cell_type": "markdown",
   "id": "cddc4326",
   "metadata": {},
   "source": [
    "img = cv2.imread('IDB/bunny.jpg')\n",
    "display_frame(img)\n",
    "display_frame(cartoonize_image(cv2.resize(img,(500,500))))"
   ]
  },
  {
   "cell_type": "code",
   "execution_count": 8,
   "id": "aef008cb",
   "metadata": {},
   "outputs": [
    {
     "name": "stdout",
     "output_type": "stream",
     "text": [
      "Width:  640\n",
      "Height:  296\n",
      "FPS:  30.0\n",
      "Frame Count:  346\n"
     ]
    }
   ],
   "source": [
    "cap = open_vid('VDB\\M.mp4')\n",
    "_,_,fps,_ = get_props(cap)\n",
    "Frames = get_frames(cap)"
   ]
  },
  {
   "cell_type": "code",
   "execution_count": 13,
   "id": "ebc5fc5e",
   "metadata": {},
   "outputs": [],
   "source": [
    "_ = OFV(Frames[100:200],20)"
   ]
  },
  {
   "cell_type": "code",
   "execution_count": 5,
   "id": "f1e02b49",
   "metadata": {},
   "outputs": [],
   "source": [
    "#Explicar con texto\n",
    "#Cambiar en cada escena\n",
    "#Indices de variabilidad\n",
    "#Reconocer cosas en imagen\n",
    "#Escenas con poca variabilidad\n",
    "#Cambiar kernels y parametros\n",
    "#Entorno/Interfaz"
   ]
  }
 ],
 "metadata": {
  "kernelspec": {
   "display_name": "Python 3",
   "language": "python",
   "name": "python3"
  },
  "language_info": {
   "codemirror_mode": {
    "name": "ipython",
    "version": 3
   },
   "file_extension": ".py",
   "mimetype": "text/x-python",
   "name": "python",
   "nbconvert_exporter": "python",
   "pygments_lexer": "ipython3",
   "version": "3.7.6"
  }
 },
 "nbformat": 4,
 "nbformat_minor": 5
}
