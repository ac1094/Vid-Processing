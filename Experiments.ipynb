{
 "cells": [
  {
   "cell_type": "markdown",
   "id": "9a08db40",
   "metadata": {},
   "source": [
    "# Experiments"
   ]
  },
  {
   "cell_type": "markdown",
   "id": "c30adc4c",
   "metadata": {},
   "source": [
    "This Jupyter Notebook presents different experiments done to videos. This experiments focus on the temporal consistency in cartoon-like videos. We focus on using the optical flow to see how consecutive frames change."
   ]
  },
  {
   "cell_type": "markdown",
   "id": "9c6d33af",
   "metadata": {},
   "source": [
    "First, we import the functions needed from the notebook called \"Functions\"."
   ]
  },
  {
   "cell_type": "code",
   "execution_count": 20,
   "id": "cf18a83c",
   "metadata": {},
   "outputs": [],
   "source": [
    "#%run Functions.ipynb"
   ]
  },
  {
   "cell_type": "code",
   "execution_count": 1,
   "id": "51938b6f",
   "metadata": {},
   "outputs": [
    {
     "name": "stdout",
     "output_type": "stream",
     "text": [
      "importing Jupyter notebook from Functions.ipynb\n"
     ]
    }
   ],
   "source": [
    "import import_ipynb\n",
    "from Functions import *"
   ]
  },
  {
   "cell_type": "markdown",
   "id": "ee875971",
   "metadata": {},
   "source": [
    "We load a video and store its frames in a list to then add occlusions to 3 consecutive frames."
   ]
  },
  {
   "cell_type": "code",
   "execution_count": 2,
   "id": "741fb2cd",
   "metadata": {},
   "outputs": [
    {
     "name": "stdout",
     "output_type": "stream",
     "text": [
      "Width:  640\n",
      "Height:  360\n",
      "FPS:  23.976023976023978\n",
      "Frame Count:  2326\n"
     ]
    }
   ],
   "source": [
    "cap = open_vid('VDB\\L.mp4')\n",
    "Frames = get_frames(cap)\n",
    "_,_,fps,_ = get_props(cap)\n",
    "F = Frames.copy()\n",
    "loc=[[150,50]]\n",
    "sizes = [[50,100]]\n",
    "N = 15\n",
    "F[N] = occlusions(F[N],loc=loc,sizes=sizes,shapes=['rectangle'], colors=(200,100,50))\n",
    "F[N+1] = occlusions(F[N+1],loc=loc,sizes=sizes,shapes=['rectangle'], colors=(200,100,50))\n",
    "F[N+2] = occlusions(F[N+2],loc=loc,sizes=sizes,shapes=['rectangle'], colors=(200,100,50))"
   ]
  },
  {
   "cell_type": "markdown",
   "id": "a00b1d42",
   "metadata": {},
   "source": [
    "We play the video to see the occlusions.<br>\n",
    "Use 'q' to stop and close window at any time."
   ]
  },
  {
   "cell_type": "code",
   "execution_count": 3,
   "id": "25b2e0db",
   "metadata": {},
   "outputs": [
    {
     "name": "stdout",
     "output_type": "stream",
     "text": [
      "Delay:  41\n"
     ]
    }
   ],
   "source": [
    "play_frames(F[:30],fps)"
   ]
  },
  {
   "cell_type": "markdown",
   "id": "f9902889",
   "metadata": {},
   "source": [
    "Then we calculate different properties in the series of frames."
   ]
  },
  {
   "cell_type": "markdown",
   "id": "54fead48",
   "metadata": {},
   "source": [
    "First, we calculate and display the magnitude of the optical flow by using Furneback's method.<br>\n",
    "Use the arrows to move forward or backward in the frame sequence.<br>\n",
    "Use 'q' at any time to stop and close windows."
   ]
  },
  {
   "cell_type": "code",
   "execution_count": 8,
   "id": "51168d66",
   "metadata": {},
   "outputs": [
    {
     "name": "stdout",
     "output_type": "stream",
     "text": [
      "0\r"
     ]
    }
   ],
   "source": [
    "_ = OFM(F[:30])"
   ]
  },
  {
   "cell_type": "markdown",
   "id": "61882dbd",
   "metadata": {},
   "source": [
    "We can also see the vector field of the optical flow in with the green arrows. Also, we see the sum of these vectors as the red arrow."
   ]
  },
  {
   "cell_type": "code",
   "execution_count": 6,
   "id": "12f9153a",
   "metadata": {},
   "outputs": [],
   "source": [
    "_ = OFV(F[:30])"
   ]
  },
  {
   "cell_type": "markdown",
   "id": "635b9ddf",
   "metadata": {},
   "source": [
    "We can also use the Lucas-Kanade method to calculate the optical flow."
   ]
  },
  {
   "cell_type": "code",
   "execution_count": 7,
   "id": "bc897fc4",
   "metadata": {},
   "outputs": [],
   "source": [
    "_ = OFLK(F[:30])"
   ]
  },
  {
   "cell_type": "markdown",
   "id": "c3b9f4b0",
   "metadata": {},
   "source": [
    "And finally, we can compute the optical flow using Phase Correlation."
   ]
  },
  {
   "cell_type": "code",
   "execution_count": 9,
   "id": "258b1583",
   "metadata": {},
   "outputs": [],
   "source": [
    "_ = PhaseC(F[:30])"
   ]
  },
  {
   "cell_type": "markdown",
   "id": "c072024b",
   "metadata": {},
   "source": [
    "Another way to se how consecutive frames change from one to another, we can calculate its difference."
   ]
  },
  {
   "cell_type": "markdown",
   "id": "31ed8777",
   "metadata": {},
   "source": [
    "First, we calculate the difference between a pair of consecutive frames and use a threshold to create a binary image that shows the region with most changes."
   ]
  },
  {
   "cell_type": "code",
   "execution_count": 10,
   "id": "007af6e5",
   "metadata": {},
   "outputs": [],
   "source": [
    "_ = frame_dif(F[:30])"
   ]
  },
  {
   "cell_type": "markdown",
   "id": "7c7e3ade",
   "metadata": {},
   "source": [
    "But for more simplicity, we can just calculate the differences and normalize them."
   ]
  },
  {
   "cell_type": "code",
   "execution_count": 11,
   "id": "20f7567f",
   "metadata": {},
   "outputs": [],
   "source": [
    "_ = frame_dif1(F[:30])"
   ]
  },
  {
   "cell_type": "markdown",
   "id": "ab8735f8",
   "metadata": {},
   "source": [
    "Now, lets try to cartoonize an image."
   ]
  },
  {
   "cell_type": "code",
   "execution_count": 2,
   "id": "62968638",
   "metadata": {},
   "outputs": [],
   "source": [
    "file = 'IDB/therock.jpg'\n",
    "img = cv2.imread(file)\n",
    "toon = cartoonize_image(img,kc=3)\n",
    "display_images([img,toon])"
   ]
  },
  {
   "cell_type": "markdown",
   "id": "742ad5ac",
   "metadata": {},
   "source": [
    "What about cartoonizing a video?<br>\n",
    "To speed up the cartoonization, the frames in the video are resized to smaller ones and then returned to their original size. Take in consideration that this will also degrade the quality of the cartoonized video."
   ]
  },
  {
   "cell_type": "code",
   "execution_count": 35,
   "id": "a26ef255",
   "metadata": {},
   "outputs": [
    {
     "name": "stdout",
     "output_type": "stream",
     "text": [
      "Width:  640\n",
      "Height:  320\n",
      "FPS:  24.0\n",
      "Frame Count:  69\n"
     ]
    }
   ],
   "source": [
    "cap = open_vid('VDB/U.mp4')\n",
    "Frames = get_frames(cap)\n",
    "w,h,fps,_ = get_props(cap)\n",
    "Toon = [cv2.resize(cartoonize_image(cv2.resize(f,(200,200),interpolation=cv2.INTER_AREA)),(w,h),interpolation=cv2.INTER_CUBIC) for f in Frames]\n",
    "#save_vid(Toon,'Cartoonized/U_toonzz.mp4',fps)"
   ]
  },
  {
   "cell_type": "markdown",
   "id": "8bfe41e7",
   "metadata": {},
   "source": [
    "Lets see the original video."
   ]
  },
  {
   "cell_type": "code",
   "execution_count": 33,
   "id": "d07d79f6",
   "metadata": {},
   "outputs": [
    {
     "name": "stdout",
     "output_type": "stream",
     "text": [
      "Delay:  41\n"
     ]
    }
   ],
   "source": [
    "play_frames(Frames,fps)"
   ]
  },
  {
   "cell_type": "markdown",
   "id": "1dbeff93",
   "metadata": {},
   "source": [
    "Lets see the cartoonized video now."
   ]
  },
  {
   "cell_type": "code",
   "execution_count": 36,
   "id": "f8232bf5",
   "metadata": {},
   "outputs": [
    {
     "name": "stdout",
     "output_type": "stream",
     "text": [
      "Delay:  41\n"
     ]
    }
   ],
   "source": [
    "play_frames(Toon,fps)"
   ]
  },
  {
   "cell_type": "markdown",
   "id": "bdf89733",
   "metadata": {},
   "source": [
    "Now lets see how the optical flow behave for the original video and the cartoonized video."
   ]
  },
  {
   "cell_type": "code",
   "execution_count": 4,
   "id": "99b20e8c",
   "metadata": {},
   "outputs": [
    {
     "name": "stdout",
     "output_type": "stream",
     "text": [
      "Delay:  41\n",
      "Delay:  41\n"
     ]
    }
   ],
   "source": [
    "cap = open_vid('VDB/U.mp4')\n",
    "fps = cap.get(cv2.CAP_PROP_FPS)\n",
    "Frames = get_frames(cap)\n",
    "cap = open_vid('Cartoonized/U_toon.mp4')\n",
    "Toon = get_frames(cap)\n",
    "play_frames(Frames,fps)\n",
    "play_frames(Toon,fps)\n",
    "_ = OFV(Frames,20)\n",
    "_ = OFV(Toon,20)"
   ]
  },
  {
   "cell_type": "markdown",
   "id": "e7c61096",
   "metadata": {},
   "source": [
    "To have more control over the optical flow, lets capture the video frames from the webcam and display it in real time."
   ]
  },
  {
   "cell_type": "code",
   "execution_count": 11,
   "id": "a9864e52",
   "metadata": {},
   "outputs": [],
   "source": [
    "cap_of()"
   ]
  },
  {
   "cell_type": "markdown",
   "id": "24a9e1e4",
   "metadata": {},
   "source": [
    "We can compute different variability indexes of the pixel of an image. Some of these are calculated below as the relative luminance, the color variace and a variability index based on neighboring pixels. The greater the variability index, the more variability there is."
   ]
  },
  {
   "cell_type": "code",
   "execution_count": 10,
   "id": "b1af5792",
   "metadata": {},
   "outputs": [
    {
     "name": "stdout",
     "output_type": "stream",
     "text": [
      "0.5007049189404322\n",
      "0.003574134719467966\n",
      "0.7609107919731268\n"
     ]
    }
   ],
   "source": [
    "file = 'IDB/party.jpg'\n",
    "img = cv2.imread(file)\n",
    "print(relative_luminance(img))\n",
    "print(color_variance(img))\n",
    "print(calculate_variability(img))\n",
    "display_frame(img)"
   ]
  },
  {
   "cell_type": "code",
   "execution_count": null,
   "id": "0ac3607b",
   "metadata": {},
   "outputs": [],
   "source": []
  },
  {
   "cell_type": "code",
   "execution_count": 5,
   "id": "eab71172",
   "metadata": {},
   "outputs": [],
   "source": [
    "#Entorno/Interfaz"
   ]
  },
  {
   "cell_type": "code",
   "execution_count": null,
   "id": "aa4eb80e",
   "metadata": {},
   "outputs": [],
   "source": []
  }
 ],
 "metadata": {
  "kernelspec": {
   "display_name": "Python 3",
   "language": "python",
   "name": "python3"
  },
  "language_info": {
   "codemirror_mode": {
    "name": "ipython",
    "version": 3
   },
   "file_extension": ".py",
   "mimetype": "text/x-python",
   "name": "python",
   "nbconvert_exporter": "python",
   "pygments_lexer": "ipython3",
   "version": "3.7.6"
  }
 },
 "nbformat": 4,
 "nbformat_minor": 5
}
