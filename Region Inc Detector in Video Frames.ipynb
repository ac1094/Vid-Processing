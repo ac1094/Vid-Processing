{
 "cells": [
  {
   "cell_type": "code",
   "execution_count": 110,
   "id": "f8fab218",
   "metadata": {},
   "outputs": [],
   "source": [
    "import import_ipynb\n",
    "from Functions import *"
   ]
  },
  {
   "cell_type": "markdown",
   "id": "f94192ee",
   "metadata": {},
   "source": [
    "# Binary CNN"
   ]
  },
  {
   "cell_type": "code",
   "execution_count": 111,
   "id": "e28e485e",
   "metadata": {},
   "outputs": [],
   "source": [
    "class BinCNN(nn.Module):\n",
    "    def __init__(self, num_classes=2):\n",
    "        super(BinCNN, self).__init__()\n",
    "        self.features = nn.Sequential(\n",
    "            nn.Conv2d(3, 64, kernel_size=11, stride=4, padding=2),\n",
    "            nn.ReLU(inplace=True),\n",
    "            nn.MaxPool2d(kernel_size=3, stride=2),\n",
    "            nn.Conv2d(64, 192, kernel_size=5, padding=2),\n",
    "            nn.ReLU(inplace=True),\n",
    "            nn.MaxPool2d(kernel_size=3, stride=2),\n",
    "            nn.Conv2d(192, 384, kernel_size=3, padding=1),\n",
    "            nn.ReLU(inplace=True),\n",
    "            nn.Conv2d(384, 256, kernel_size=3, padding=1),\n",
    "            nn.ReLU(inplace=True),\n",
    "            nn.Conv2d(256, 256, kernel_size=3, padding=1),\n",
    "            nn.ReLU(inplace=True),\n",
    "            nn.MaxPool2d(kernel_size=3, stride=2),\n",
    "        )\n",
    "        \n",
    "        # Placeholder for the classifier; initialized later dynamically\n",
    "        self.classifier = None\n",
    "        self.num_classes = num_classes\n",
    "\n",
    "    def initialize_classifier(self, input_shape):\n",
    "        # Pass a dummy tensor to the features to get the output size\n",
    "        with torch.no_grad():\n",
    "            dummy_input = torch.zeros(1, *input_shape)  # Batch size of 1\n",
    "            feature_map = self.features(dummy_input)\n",
    "            flattened_size = feature_map.numel()\n",
    "        \n",
    "        self.classifier = nn.Sequential(\n",
    "            nn.Dropout(),\n",
    "            nn.Linear(flattened_size, 4096),\n",
    "            nn.ReLU(inplace=True),\n",
    "            nn.Dropout(),\n",
    "            nn.Linear(4096, 4096),\n",
    "            nn.ReLU(inplace=True),\n",
    "            nn.Linear(4096, self.num_classes),\n",
    "        )\n",
    "\n",
    "    def forward(self, x):\n",
    "        if self.classifier is None:\n",
    "            self.initialize_classifier(x.shape[1:])  # Dynamically initialize based on input shape\n",
    "        x = self.features(x)\n",
    "        x = torch.flatten(x, 1)  # Flatten the feature map\n",
    "        x = self.classifier(x)\n",
    "        return Fun.softmax(torch.sum(x,dim=0))"
   ]
  },
  {
   "cell_type": "markdown",
   "id": "142acddd",
   "metadata": {},
   "source": [
    "# Main Model"
   ]
  },
  {
   "cell_type": "code",
   "execution_count": 112,
   "id": "c4cd27e6",
   "metadata": {},
   "outputs": [],
   "source": [
    "class RegionCNN(nn.Module):\n",
    "    def __init__(self, n: int):\n",
    "        super(RegionCNN, self).__init__()\n",
    "        \n",
    "        # Convolutional layers with pooling and dropout\n",
    "        self.conv1 = nn.Conv2d(in_channels=3, out_channels=16, kernel_size=3, stride=1, padding=1)  # Output: (16, 300, 300)\n",
    "        self.conv2 = nn.Conv2d(in_channels=16, out_channels=32, kernel_size=3, stride=1, padding=1) # Output: (32, 300, 300)\n",
    "        self.pool1 = nn.MaxPool2d(kernel_size=2, stride=2, padding=0)                              # Output: (32, 150, 150)\n",
    "        self.drop1 = nn.Dropout(p=0.25)\n",
    "        \n",
    "        self.conv3 = nn.Conv2d(in_channels=32, out_channels=64, kernel_size=3, stride=1, padding=1) # Output: (64, 150, 150)\n",
    "        self.conv4 = nn.Conv2d(in_channels=64, out_channels=128, kernel_size=3, stride=1, padding=1) # Output: (128, 150, 150)\n",
    "        self.pool2 = nn.MaxPool2d(kernel_size=2, stride=2, padding=0)                              # Output: (128, 75, 75)\n",
    "        self.drop2 = nn.Dropout(p=0.25)\n",
    "        \n",
    "        # Adaptive pooling\n",
    "        self.global_pool = nn.AdaptiveAvgPool2d((10, 5))  # Reduce spatial dimensions to (10, 5)\n",
    "\n",
    "        # Fully connected layers\n",
    "        self.flatten = nn.Flatten(0)\n",
    "        self.l1 = nn.Linear(2*n*128 * 10 * 5, 500)\n",
    "        self.drop3 = nn.Dropout(p=0.5)\n",
    "        self.l2 = nn.Linear(500, 25)\n",
    "        \n",
    "    def forward(self, x):\n",
    "        x = Fun.relu(self.conv1(x))\n",
    "        x = Fun.relu(self.conv2(x))\n",
    "        x = self.pool1(x)  # Apply first pooling\n",
    "        x = self.drop1(x)  # Apply dropout\n",
    "\n",
    "        x = Fun.relu(self.conv3(x))\n",
    "        x = Fun.relu(self.conv4(x))\n",
    "        x = self.pool2(x)  # Apply second pooling\n",
    "        x = self.drop2(x)  # Apply dropout\n",
    "\n",
    "        x = self.global_pool(x)  # Adaptive pooling to (10, 5)\n",
    "        #print(x.shape)\n",
    "        x = self.flatten(x)\n",
    "        #print(x.shape)\n",
    "        x = Fun.relu(self.l1(x))\n",
    "        #print(x.shape)\n",
    "        x = self.drop3(x)  # Apply dropout\n",
    "        #print(x.shape)\n",
    "        x = self.l2(x)\n",
    "        #print(x.shape)\n",
    "        return x.view(5, 5)  # Reshape output to match the target shape"
   ]
  },
  {
   "cell_type": "code",
   "execution_count": 176,
   "id": "e2978d5e",
   "metadata": {},
   "outputs": [],
   "source": [
    "def Draw_BoundingBoxes(img,Boxes,Threshold=0.5):\n",
    "    if torch.is_tensor(img):\n",
    "        img = Frame2Numpy(Img).copy()\n",
    "    X = img.shape[1]\n",
    "    Y = img.shape[0]\n",
    "    for i in range(len(Boxes)):\n",
    "        if Boxes[i][4]>Threshold:\n",
    "            x = int(Boxes[i][0]*X)\n",
    "            y = int(Boxes[i][1]*Y)\n",
    "            xl = int(Boxes[i][2]*X)\n",
    "            yl = int(Boxes[i][3]*Y)\n",
    "            img = cv2.rectangle(img,(x,y),(xl,yl),(0,255,0),2)\n",
    "            #print(x,y,xl,yl,Boxes[i][4].item())\n",
    "    return img"
   ]
  },
  {
   "cell_type": "code",
   "execution_count": 114,
   "id": "17b0de35",
   "metadata": {},
   "outputs": [],
   "source": [
    "# Add content of box\n",
    "def loss_function(Pred, Target, Img):\n",
    "    X = Img.shape[2]\n",
    "    Y = Img.shape[1]\n",
    "    MinIndex = []\n",
    "    criterion = nn.MSELoss()\n",
    "    for v in range(len(Pred)):\n",
    "        mv = float('inf')\n",
    "        mi = 0\n",
    "        for h in range(len(Target)):\n",
    "            if h not in MinIndex:\n",
    "                d = criterion(Pred[v][:-1],Target[h][:-1])\n",
    "                if d < mv:\n",
    "                    mv = d\n",
    "                    mi = h\n",
    "        MinIndex.append(mi)\n",
    "    MinIndex = torch.tensor(MinIndex, dtype=torch.long)\n",
    "    loss = 0\n",
    "    for v in range(len(MinIndex)):\n",
    "        dx = criterion((Pred[v][1]-Pred[v][3])**2,(Target[MinIndex[v]][1]-Target[MinIndex[v]][3])**2)\n",
    "        dy = criterion(Pred[v][0]-Pred[v][2],Target[MinIndex[v]][0]-Target[MinIndex[v]][2])\n",
    "        cx = criterion((Pred[v][1]+Pred[v][3])/2.0,(Target[MinIndex[v]][1]+Target[MinIndex[v]][3])/2)\n",
    "        cy = criterion((Pred[v][0]+Pred[v][2])/2.0,(Target[MinIndex[v]][0]+Target[MinIndex[v]][2])/2)\n",
    "        #if torch.all(Pred[v]>0) and torch.all(Pred[v]<1):\n",
    "         #   pcontent = Img[:][int(Pred[v][0]*Y):int(Pred[v][2]*Y)][int(Pred[v][1]*X):int(Pred[v][3]*X)]\n",
    "          #  tcontent = Img[:][int(Target[MinIndex[v]][0]*Y):int(Target[MinIndex[v]][2]*Y)][int(Target[MinIndex[v]][1]*X):int(Target[MinIndex[v]][3]*X)]\n",
    "           # content = criterion(pcontent,tcontent)\n",
    "        #else:\n",
    "         #   content = 10\n",
    "        loss += criterion(Pred[v][:4],Target[MinIndex[v]][:4])+criterion(Pred[v][-1],Target[MinIndex[v]][-1])+dx+dy+cx+cy#+content\n",
    "    return loss"
   ]
  },
  {
   "cell_type": "markdown",
   "id": "ab9c77bc",
   "metadata": {},
   "source": [
    "# Training Function"
   ]
  },
  {
   "cell_type": "code",
   "execution_count": 115,
   "id": "07287454",
   "metadata": {},
   "outputs": [],
   "source": [
    "def train(Path, State=None, N=3, Batch=10, Epochs=10, LR=1e-4):\n",
    "    Model = RegionCNN(N)\n",
    "    Size = (300,300)\n",
    "    \n",
    "    if State is not None:\n",
    "        Model.load_state_dict(States)\n",
    "        Model.eval();\n",
    "        \n",
    "    Loss = []\n",
    "    LMin = 1e20\n",
    "\n",
    "    start_time = time.time()  # Start timer\n",
    "\n",
    "    for epoch in range(Epochs):\n",
    "        epoch_start_time = time.time()  # Timer for each epoch\n",
    "        optimizer = optim.Adam(Model.parameters(), lr=LR)\n",
    "        total_loss = 0.0\n",
    "\n",
    "        for batch in range(Batch):\n",
    "            optimizer.zero_grad()\n",
    "            \n",
    "            Frames = get_video_frames(Path, N, Size)\n",
    "            Frames = torch.stack(Frames)\n",
    "            \n",
    "            Target = torch.zeros(5,5,dtype=torch.float)\n",
    "            steps = random.randint(0,5)\n",
    "            for s in range(steps):\n",
    "                x,y,xl,yl = random.randint(0,3*Size[1]//4),random.randint(0,3*Size[0]//4),random.randint(10,Size[1]//5),random.randint(10,Size[1]//5)\n",
    "                Target[s][0] = float(x/Size[1])\n",
    "                Target[s][1] = float(y/Size[0])\n",
    "                Target[s][2] = float((x+xl)/Size[1])\n",
    "                Target[s][3] = float((y+yl)/Size[0])\n",
    "                Target[s][4] = 1.0\n",
    "                for p in range(N):\n",
    "                    if random.random()>=0.5:\n",
    "                        Frames[p] = AddOneInc1(Frames[p],x=x,y=y,xl=xl,yl=yl)\n",
    "                Frames[N // 2] = AddOneInc1(Frames[N // 2],x=x,y=y,xl=xl,yl=yl)\n",
    "                       \n",
    "            # Pixel Differences \n",
    "            diff_pix = [Frames[i]-Frames[i+1] for i in range(len(Frames)-1)]\n",
    "            diff_pix = torch.stack(diff_pix)\n",
    "            #print(diff_pix.shape)\n",
    "            \n",
    "            # Edges Frames\n",
    "            edge_frames = [Edges_tensor(Frames[i])-Edges_tensor(Frames[i+1]) for i in range(len(Frames)-1)]\n",
    "            edge_frames = torch.stack(edge_frames)\n",
    "            #print(edge_frames.shape)\n",
    "            \n",
    "            Scores = [TSSIM(Frames[i].unsqueeze(0),Frames[i+1].unsqueeze(0)) for i in range(len(Frames)-1)]\n",
    "            Score = [t[0].item() for t in Scores]\n",
    "            SimScores = [t[1].squeeze(0) for t in Scores]\n",
    "            SimScores = torch.stack(SimScores)\n",
    "            #print(SimScores.shape)\n",
    "            \n",
    "            All = torch.cat((diff_pix,edge_frames,SimScores),dim=0)\n",
    "            #print(All.shape)\n",
    "            \n",
    "            # Forward pass\n",
    "            Pred = Model(All)\n",
    "            \n",
    "            # Calculate loss\n",
    "            loss = loss_function(Pred,Target,Frames[N//2])\n",
    "\n",
    "            loss.backward()\n",
    "            optimizer.step()\n",
    "            \n",
    "\n",
    "            total_loss += loss.item()\n",
    "                        \n",
    "            elapsed_time = time.time() - start_time\n",
    "            avg_time_per_iter = elapsed_time / ((epoch * Batch) + batch + 1)\n",
    "            remaining_iters = (Epochs * Batch) - ((epoch * Batch) + batch + 1)\n",
    "            remaining_time = avg_time_per_iter * remaining_iters\n",
    "            Mins = int(remaining_time//60)\n",
    "            Secs = int(remaining_time%60)\n",
    "            print(f'LR: {LR:0.4} Batch [{batch+1}/{Batch}], Loss: {loss.item():.4f} Time:{Mins}:{Secs:02}', end='\\r')\n",
    "\n",
    "            # Display predictions on the frame\n",
    "            Img = Frames[N//2].unsqueeze(0)\n",
    "            img = Draw_BoundingBoxes(Img,Pred,0.5)\n",
    "            cv2.imshow(\"Prediction\", img)\n",
    "            cv2.waitKey(1)\n",
    "\n",
    "        Loss.append(total_loss/Batch)\n",
    "        print(f'\\nEpoch [{epoch + 1}/{Epochs}], Loss: {total_loss / Batch:.6f}')\n",
    "        \n",
    "        LR *= 0.8\n",
    "    \n",
    "    States = Model.state_dict()\n",
    "    \n",
    "    cv2.destroyAllWindows()\n",
    "    return Loss,States"
   ]
  },
  {
   "cell_type": "markdown",
   "id": "114723de",
   "metadata": {},
   "source": [
    "# Training"
   ]
  },
  {
   "cell_type": "code",
   "execution_count": 116,
   "id": "c055e3c1",
   "metadata": {},
   "outputs": [],
   "source": [
    "cv2.destroyAllWindows()"
   ]
  },
  {
   "cell_type": "code",
   "execution_count": 117,
   "id": "a0df0805",
   "metadata": {},
   "outputs": [],
   "source": [
    "State = None"
   ]
  },
  {
   "cell_type": "code",
   "execution_count": 118,
   "id": "d138ec27",
   "metadata": {},
   "outputs": [],
   "source": [
    "# Add Unordered target boxes in loss"
   ]
  },
  {
   "cell_type": "code",
   "execution_count": 119,
   "id": "11c4833c",
   "metadata": {},
   "outputs": [
    {
     "name": "stdout",
     "output_type": "stream",
     "text": [
      "LR: 1e-05 Batch [50/50], Loss: 2.4078 Time:51:52\n",
      "Epoch [1/10], Loss: 3.231855\n",
      "LR: 8e-06 Batch [50/50], Loss: 0.9580 Time:54:10\n",
      "Epoch [2/10], Loss: 2.444542\n",
      "LR: 6.4e-06 Batch [50/50], Loss: 1.5721 Time:49:09\n",
      "Epoch [3/10], Loss: 2.091382\n",
      "LR: 5.12e-06 Batch [50/50], Loss: 1.8496 Time:48:19\n",
      "Epoch [4/10], Loss: 2.234083\n",
      "LR: 4.096e-06 Batch [50/50], Loss: 2.0342 Time:35:04\n",
      "Epoch [5/10], Loss: 2.374458\n",
      "LR: 3.277e-06 Batch [50/50], Loss: 2.5181 Time:24:53\n",
      "Epoch [6/10], Loss: 2.273149\n",
      "LR: 2.621e-06 Batch [50/50], Loss: 1.5717 Time:17:06\n",
      "Epoch [7/10], Loss: 2.400728\n",
      "LR: 2.097e-06 Batch [50/50], Loss: 2.0899 Time:10:31\n",
      "Epoch [8/10], Loss: 2.272801\n",
      "LR: 1.678e-06 Batch [50/50], Loss: 3.4783 Time:4:55\n",
      "Epoch [9/10], Loss: 2.264990\n",
      "LR: 1.342e-06 Batch [50/50], Loss: 2.0148 Time:0:00\n",
      "Epoch [10/10], Loss: 2.243658\n"
     ]
    }
   ],
   "source": [
    "L,States = train('VDB',Batch=50,State=State,N=3,Epochs=10,LR=1e-5)"
   ]
  },
  {
   "cell_type": "code",
   "execution_count": 124,
   "id": "3af9f54e",
   "metadata": {},
   "outputs": [
    {
     "data": {
      "text/plain": [
       "[<matplotlib.lines.Line2D at 0x180c3a4d5c8>]"
      ]
     },
     "execution_count": 124,
     "metadata": {},
     "output_type": "execute_result"
    },
    {
     "data": {
      "image/png": "[encoded data removed]",
      "text/plain": [
       "<Figure size 432x288 with 1 Axes>"
      ]
     },
     "metadata": {
      "needs_background": "light"
     },
     "output_type": "display_data"
    }
   ],
   "source": [
    "plt.plot(L) ##Cambios de Escenas"
   ]
  },
  {
   "cell_type": "code",
   "execution_count": 121,
   "id": "fed5b300",
   "metadata": {},
   "outputs": [],
   "source": [
    "#torch.save(States,\"StatesRID3N300x300.pth\")"
   ]
  },
  {
   "cell_type": "markdown",
   "id": "2daa6fcd",
   "metadata": {},
   "source": [
    "# Load and Predict"
   ]
  },
  {
   "cell_type": "code",
   "execution_count": 125,
   "id": "b96769db",
   "metadata": {},
   "outputs": [],
   "source": [
    "StatesR = torch.load(\"StatesRID3N300x300.pth\")\n",
    "StatesB = torch.load(\"StatesBID3N300x300.pth\")"
   ]
  },
  {
   "cell_type": "code",
   "execution_count": 126,
   "id": "4b0492db",
   "metadata": {},
   "outputs": [],
   "source": [
    "Size = (300,300)\n",
    "N = 3\n",
    "Model = BinCNN(2)\n",
    "dummy = torch.rand((N-1)*3,3,Size[0],Size[1])\n",
    "Model(dummy)\n",
    "Model.load_state_dict(StatesB)\n",
    "Model.eval();"
   ]
  },
  {
   "cell_type": "code",
   "execution_count": 191,
   "id": "99d08d03",
   "metadata": {},
   "outputs": [],
   "source": [
    "RIDModel = RegionCNN(3)\n",
    "RIDModel.load_state_dict(StatesR)\n",
    "RIDModel.eval();"
   ]
  },
  {
   "cell_type": "markdown",
   "id": "2b6662ab",
   "metadata": {},
   "source": [
    "# Predict"
   ]
  },
  {
   "cell_type": "code",
   "execution_count": 217,
   "id": "3d140857",
   "metadata": {},
   "outputs": [],
   "source": [
    "Frames = get_video_frames(\"AI Gen\",N,(300,300))\n",
    "diff_pix = [Frames[i]-Frames[i+1] for i in range(len(Frames)-1)]\n",
    "diff_pix = torch.stack(diff_pix)\n",
    "edge_frames = [Edges_tensor(Frames[i])-Edges_tensor(Frames[i+1]) for i in range(len(Frames)-1)]\n",
    "edge_frames = torch.stack(edge_frames)\n",
    "Scores = [TSSIM(Frames[i].unsqueeze(0),Frames[i+1].unsqueeze(0)) for i in range(len(Frames)-1)]\n",
    "Score = [t[0].item() for t in Scores]\n",
    "SimScores = [t[1].squeeze(0) for t in Scores]\n",
    "SimScores = torch.stack(SimScores)\n",
    "All = torch.cat((diff_pix,edge_frames,SimScores),dim=0)"
   ]
  },
  {
   "cell_type": "code",
   "execution_count": 218,
   "id": "bfb93ce9",
   "metadata": {},
   "outputs": [
    {
     "name": "stdout",
     "output_type": "stream",
     "text": [
      "Probability of Inconsistency: 0.4114\n",
      "Prediction: 0\n"
     ]
    }
   ],
   "source": [
    "Pred = Model(All)\n",
    "print(f'Probability of Inconsistency: {Pred[0].item():.4f}')\n",
    "print(f'Prediction: {round(Pred[0].item())}')"
   ]
  },
  {
   "cell_type": "code",
   "execution_count": 212,
   "id": "ff796709",
   "metadata": {},
   "outputs": [],
   "source": [
    "Frames_Np = [cv2.cvtColor(Frames[n].permute(1, 2, 0).numpy(), cv2.COLOR_BGR2RGB) for n in range(len(Frames))]"
   ]
  },
  {
   "cell_type": "code",
   "execution_count": 213,
   "id": "c8dca3c7",
   "metadata": {},
   "outputs": [],
   "source": [
    "ThroughFrames(Frames_Np)"
   ]
  },
  {
   "cell_type": "code",
   "execution_count": 214,
   "id": "b59e0d3c",
   "metadata": {},
   "outputs": [],
   "source": [
    "Coord = RIDModel(All)"
   ]
  },
  {
   "cell_type": "code",
   "execution_count": 215,
   "id": "65292d5c",
   "metadata": {},
   "outputs": [],
   "source": [
    "Frames_Np[N//2] = Draw_BoundingBoxes(Frames_Np[N//2],Coord,0.5)"
   ]
  },
  {
   "cell_type": "code",
   "execution_count": 216,
   "id": "b66adacf",
   "metadata": {},
   "outputs": [],
   "source": [
    "ThroughFrames(Frames_Np)"
   ]
  },
  {
   "cell_type": "code",
   "execution_count": 122,
   "id": "d57d5ef9",
   "metadata": {},
   "outputs": [],
   "source": [
    "#Que hace el mecanismo de atencion en procesamiento de imagenes\n",
    "#Sino en PLN\n",
    "#Embeding/Classes\n",
    "#Cambios de Escenas con escena anterior (COnsecutivo)"
   ]
  },
  {
   "cell_type": "code",
   "execution_count": 123,
   "id": "4a2b94a6",
   "metadata": {},
   "outputs": [],
   "source": [
    "# Autoencoders y comparacion"
   ]
  }
 ],
 "metadata": {
  "kernelspec": {
   "display_name": "Python 3",
   "language": "python",
   "name": "python3"
  },
  "language_info": {
   "codemirror_mode": {
    "name": "ipython",
    "version": 3
   },
   "file_extension": ".py",
   "mimetype": "text/x-python",
   "name": "python",
   "nbconvert_exporter": "python",
   "pygments_lexer": "ipython3",
   "version": "3.7.6"
  }
 },
 "nbformat": 4,
 "nbformat_minor": 5
}
