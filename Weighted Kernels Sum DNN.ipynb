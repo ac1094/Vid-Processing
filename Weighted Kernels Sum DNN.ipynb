{
 "cells": [
  {
   "cell_type": "code",
   "execution_count": 3,
   "id": "3ad926f2",
   "metadata": {},
   "outputs": [
    {
     "name": "stdout",
     "output_type": "stream",
     "text": [
      "importing Jupyter notebook from ConsistencyIndexes.ipynb\n",
      "importing Jupyter notebook from Functions.ipynb\n"
     ]
    }
   ],
   "source": [
    "import import_ipynb\n",
    "from ConsistencyIndexes import *\n",
    "import torch\n",
    "import torch.nn.functional as F\n",
    "from matplotlib import pyplot as plt\n",
    "from IPython.display import clear_output\n",
    "import torch.optim as optim\n",
    "from torch.nn.functional import mse_loss\n",
    "from torchvision import transforms\n",
    "from torch import nn"
   ]
  },
  {
   "cell_type": "code",
   "execution_count": 4,
   "id": "b1175e94",
   "metadata": {},
   "outputs": [],
   "source": [
    "cap = open_vid(\"VDB/WID.mp4\")\n",
    "org = get_frames(cap)\n",
    "cap = open_vid(\"Cartoonized/WID_toon.mp4\")\n",
    "car = get_frames(cap)"
   ]
  },
  {
   "cell_type": "code",
   "execution_count": 5,
   "id": "c2d8476c",
   "metadata": {},
   "outputs": [],
   "source": [
    "# Function to create convolutional kernels and weights\n",
    "def create_kernels_weights(num_kernels, kernel_size):\n",
    "    kernels = [torch.rand(1, 3, kernel_size, kernel_size, requires_grad=True) for _ in range(num_kernels)]\n",
    "    weights = [torch.randn(1) for _ in range(num_kernels)]\n",
    "    return kernels, weights\n",
    "\n",
    "# Function to perform convolution and compute the weighted sum\n",
    "def apply_kernels(input_image, kernels, weights):\n",
    "    print(weights[0].shape,input_image.shape,kernels[0].shape,len(kernels),kernels[0].shape[-1])\n",
    "    output = sum(weights[i] * F.conv2d(input_image, kernels[i], padding=kernels[i].shape[-1]//2) for i in range(len(kernels)))\n",
    "    return output\n",
    "\n",
    "# Main function\n",
    "def train_model(input_images, target_images, num_kernels, kernel_size=3, epochs=100, lr=0.01):\n",
    "    # Normalize input and target images (to 0-1)\n",
    "    input_images = [img / 255.0 for img in input_images]\n",
    "    target_images = [img / 255.0 for img in target_images]    \n",
    "    # Convert input and target images to tensors\n",
    "    input_images = torch.stack([torch.tensor(img, dtype=torch.float32) for img in input_images])\n",
    "    target_images = torch.stack([torch.tensor(img, dtype=torch.float32) for img in target_images])  \n",
    "    #Initialize kernels and weights\n",
    "    kernels, weights = create_kernels_weights(num_kernels, kernel_size)\n",
    "    # Define optimizer\n",
    "    optimizer = optim.Adam(kernels+weights, lr=lr)\n",
    "    # Training loop\n",
    "    for epoch in range(epochs):\n",
    "        total_loss = 0.0\n",
    "        for input_image, target_image in zip(input_images, target_images):\n",
    "            input_image = input_image.permute(2,0,1).unsqueeze(0)  # Add batch dimension\n",
    "            target_image = target_image.permute(2,0,1).unsqueeze(0)         \n",
    "            optimizer.zero_grad()   \n",
    "            output_image = apply_kernels(input_image, kernels, weights)\n",
    "            print(output_image.shape)\n",
    "            loss = mse_loss(output_image, target_image)\n",
    "            loss.backward()\n",
    "            optimizer.step()          \n",
    "            total_loss += loss.item()       \n",
    "        # Print epoch and loss\n",
    "        clear_output(wait=True)\n",
    "        print(f'Epoch [{epoch+1}/{epochs}], Loss: {total_loss/len(input_images):.4f}')   \n",
    "    print('Training complete.')\n",
    "    return kernels, weights\n",
    "\n",
    "# Function to apply kernels and display the result\n",
    "def predict_and_display(input_image, kernels, weights):\n",
    "    input_image = torch.tensor(input_image, dtype=torch.float32).permute(2,0,1).unsqueeze(0)\n",
    "    with torch.no_grad():\n",
    "        output_image = apply_kernels(input_image, kernels, weights)\n",
    "        print(output_image.shape)\n",
    "    return output_image.cpu().numpy()"
   ]
  },
  {
   "cell_type": "code",
   "execution_count": 6,
   "id": "0f4dde30",
   "metadata": {},
   "outputs": [
    {
     "name": "stdout",
     "output_type": "stream",
     "text": [
      "Epoch [5/5], Loss: 57.8355\n",
      "Training complete.\n"
     ]
    }
   ],
   "source": [
    "limit = 20\n",
    "# Example usage:\n",
    "# Assuming input_images and target_images are lists of PyTorch tensors with shape [C, H, W]\n",
    "kernels, weights = train_model(org[:limit], car[:limit], num_kernels=2,epochs=5, lr=1e-3)"
   ]
  },
  {
   "cell_type": "code",
   "execution_count": 5,
   "id": "2a412f23",
   "metadata": {},
   "outputs": [
    {
     "name": "stdout",
     "output_type": "stream",
     "text": [
      "torch.Size([1, 1, 296, 640])\n"
     ]
    },
    {
     "ename": "TypeError",
     "evalue": "Expected Ptr<cv::UMat> for argument 'mat'",
     "output_type": "error",
     "traceback": [
      "\u001b[1;31m---------------------------------------------------------------------------\u001b[0m",
      "\u001b[1;31mTypeError\u001b[0m                                 Traceback (most recent call last)",
      "\u001b[1;32m<ipython-input-5-f725e77d3047>\u001b[0m in \u001b[0;36m<module>\u001b[1;34m\u001b[0m\n\u001b[0;32m      1\u001b[0m \u001b[0mPredicted\u001b[0m \u001b[1;33m=\u001b[0m \u001b[0mpredict_and_display\u001b[0m\u001b[1;33m(\u001b[0m\u001b[0morg\u001b[0m\u001b[1;33m[\u001b[0m\u001b[1;36m0\u001b[0m\u001b[1;33m]\u001b[0m\u001b[1;33m,\u001b[0m\u001b[0mkernels\u001b[0m\u001b[1;33m,\u001b[0m\u001b[0mweights\u001b[0m\u001b[1;33m)\u001b[0m\u001b[1;31m#.cpu().numpy()\u001b[0m\u001b[1;33m\u001b[0m\u001b[1;33m\u001b[0m\u001b[0m\n\u001b[0;32m      2\u001b[0m \u001b[0mprint\u001b[0m\u001b[1;33m(\u001b[0m\u001b[0mPredicted\u001b[0m\u001b[1;33m.\u001b[0m\u001b[0mshape\u001b[0m\u001b[1;33m)\u001b[0m\u001b[1;33m\u001b[0m\u001b[1;33m\u001b[0m\u001b[0m\n\u001b[1;32m----> 3\u001b[1;33m \u001b[0mdisplay_frame\u001b[0m\u001b[1;33m(\u001b[0m\u001b[0mPredicted\u001b[0m\u001b[1;33m)\u001b[0m\u001b[1;33m\u001b[0m\u001b[1;33m\u001b[0m\u001b[0m\n\u001b[0m",
      "\u001b[1;32m~\\Desktop\\Video Processing\\Functions.ipynb\u001b[0m in \u001b[0;36mdisplay_frame\u001b[1;34m(I)\u001b[0m\n",
      "\u001b[1;31mTypeError\u001b[0m: Expected Ptr<cv::UMat> for argument 'mat'"
     ]
    }
   ],
   "source": [
    "Predicted = predict_and_display(org[0],kernels,weights)#.cpu().numpy()\n",
    "print(Predicted.shape)\n",
    "display_frame(Predicted)"
   ]
  },
  {
   "cell_type": "code",
   "execution_count": 9,
   "id": "87938642",
   "metadata": {},
   "outputs": [
    {
     "data": {
      "text/plain": [
       "torch.Size([1, 3, 296, 640])"
      ]
     },
     "execution_count": 9,
     "metadata": {},
     "output_type": "execute_result"
    }
   ],
   "source": [
    "t = torch.tensor(org[0]).permute(2,0,1).unsqueeze(0)\n",
    "t.shape"
   ]
  },
  {
   "cell_type": "code",
   "execution_count": 54,
   "id": "7dc61b12",
   "metadata": {},
   "outputs": [
    {
     "data": {
      "text/plain": [
       "torch.Size([1, 3, 3, 3])"
      ]
     },
     "execution_count": 54,
     "metadata": {},
     "output_type": "execute_result"
    }
   ],
   "source": [
    "k = [torch.tensor([[[0,-1,0],\n",
    "                  [-1,4,-1],\n",
    "                  [0,-1,0]],\n",
    "                  [[0,-1,0],\n",
    "                  [-1,4,-1],\n",
    "                  [0,-1,0]],\n",
    "                 [[0,-1,0],\n",
    "                  [-1,4,-1],\n",
    "                  [0,-1,0]]]).unsqueeze(0).float()]\n",
    "k[0].shape"
   ]
  },
  {
   "cell_type": "code",
   "execution_count": 55,
   "id": "145bba34",
   "metadata": {},
   "outputs": [
    {
     "data": {
      "text/plain": [
       "torch.Size([1])"
      ]
     },
     "execution_count": 55,
     "metadata": {},
     "output_type": "execute_result"
    }
   ],
   "source": [
    "w = [torch.tensor([1/3]).float()]\n",
    "w[0].shape"
   ]
  },
  {
   "cell_type": "code",
   "execution_count": 64,
   "id": "f90c5cc0",
   "metadata": {},
   "outputs": [
    {
     "name": "stdout",
     "output_type": "stream",
     "text": [
      "torch.Size([1]) torch.Size([1, 3, 296, 640]) torch.Size([1, 3, 3, 3]) 1 3\n",
      "torch.Size([1, 1, 296, 640])\n"
     ]
    }
   ],
   "source": [
    "P = predict_and_display(org[0],k,w)"
   ]
  },
  {
   "cell_type": "code",
   "execution_count": 65,
   "id": "50f19d01",
   "metadata": {},
   "outputs": [
    {
     "ename": "error",
     "evalue": "OpenCV(4.5.1) C:\\Users\\appveyor\\AppData\\Local\\Temp\\1\\pip-req-build-oduouqig\\opencv\\modules\\core\\src\\array.cpp:2492: error: (-206:Bad flag (parameter or structure field)) Unrecognized or unsupported array type in function 'cvGetMat'\n",
     "output_type": "error",
     "traceback": [
      "\u001b[1;31m---------------------------------------------------------------------------\u001b[0m",
      "\u001b[1;31merror\u001b[0m                                     Traceback (most recent call last)",
      "\u001b[1;32m<ipython-input-65-1021eeb37907>\u001b[0m in \u001b[0;36m<module>\u001b[1;34m\u001b[0m\n\u001b[1;32m----> 1\u001b[1;33m \u001b[0mdisplay_frame\u001b[0m\u001b[1;33m(\u001b[0m\u001b[0mP\u001b[0m\u001b[1;33m)\u001b[0m\u001b[1;33m\u001b[0m\u001b[1;33m\u001b[0m\u001b[0m\n\u001b[0m",
      "\u001b[1;32m~\\Desktop\\Video Processing\\Functions.ipynb\u001b[0m in \u001b[0;36mdisplay_frame\u001b[1;34m(I)\u001b[0m\n",
      "\u001b[1;31merror\u001b[0m: OpenCV(4.5.1) C:\\Users\\appveyor\\AppData\\Local\\Temp\\1\\pip-req-build-oduouqig\\opencv\\modules\\core\\src\\array.cpp:2492: error: (-206:Bad flag (parameter or structure field)) Unrecognized or unsupported array type in function 'cvGetMat'\n"
     ]
    }
   ],
   "source": [
    "display_frame(P)"
   ]
  },
  {
   "cell_type": "code",
   "execution_count": null,
   "id": "d61b0059",
   "metadata": {},
   "outputs": [],
   "source": []
  }
 ],
 "metadata": {
  "kernelspec": {
   "display_name": "Python 3",
   "language": "python",
   "name": "python3"
  },
  "language_info": {
   "codemirror_mode": {
    "name": "ipython",
    "version": 3
   },
   "file_extension": ".py",
   "mimetype": "text/x-python",
   "name": "python",
   "nbconvert_exporter": "python",
   "pygments_lexer": "ipython3",
   "version": "3.7.6"
  }
 },
 "nbformat": 4,
 "nbformat_minor": 5
}
