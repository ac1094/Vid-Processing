{
 "cells": [
  {
   "cell_type": "code",
   "execution_count": 2,
   "id": "ca3d62e8",
   "metadata": {},
   "outputs": [
    {
     "name": "stdout",
     "output_type": "stream",
     "text": [
      "importing Jupyter notebook from ConsistencyIndexes.ipynb\n",
      "importing Jupyter notebook from Functions.ipynb\n"
     ]
    }
   ],
   "source": [
    "import import_ipynb\n",
    "from ConsistencyIndexes import *\n",
    "import torch\n",
    "import torch.nn.functional as F\n",
    "from matplotlib import pyplot as plt\n",
    "from IPython.display import clear_output\n",
    "import torch.optim as optim\n",
    "from torch.nn.functional import mse_loss\n",
    "from torch import nn"
   ]
  },
  {
   "cell_type": "markdown",
   "id": "122da974",
   "metadata": {},
   "source": [
    "# DNN Architecture"
   ]
  },
  {
   "cell_type": "markdown",
   "id": "b6d44987",
   "metadata": {},
   "source": [
    "Loss Function:<br>\n",
    "<center>$L = \\left(T-\\sum_{i=0}^{N} W_i*Conv(I,K_i)\\right)^2$</center><br>\n",
    "Where:<br>\n",
    "<ul>\n",
    "    <li><b>$T$</b> is the target image.\n",
    "    <li><b>$I$</b> is the original image.\n",
    "    <li><b>$N$</b> is the number of kernels and weights.\n",
    "    <li><b>$K_i$</b> is the ith kernel.\n",
    "    <li><b>$W_i$</b> is the weight for the kernel $K_i$.\n",
    "    <li><b>$Conv$</b> is the convolution function."
   ]
  },
  {
   "cell_type": "code",
   "execution_count": 3,
   "id": "c70373cc",
   "metadata": {},
   "outputs": [],
   "source": [
    "# Function to create convolutional kernels and weights\n",
    "def create_kernels_weights(num_kernels, kernel_size):\n",
    "    # Create kernels with 3 output channels instead of 1\n",
    "    kernels = [torch.rand(3, 3, kernel_size, kernel_size, requires_grad=True) for _ in range(num_kernels)]\n",
    "    weights = [torch.randn(1) for _ in range(num_kernels)]\n",
    "    return kernels, weights\n",
    "\n",
    "# Function to perform convolution and compute the weighted sum\n",
    "def apply_kernels(input_image, kernels, weights):\n",
    "    # Perform convolution with 3-channel output and sum results\n",
    "    output = sum(weights[i] * F.conv2d(input_image, kernels[i], padding=kernels[i].shape[-1]//2) for i in range(len(kernels)))\n",
    "    return output\n",
    "\n",
    "# Function to apply kernels and display the result\n",
    "def predict_and_display(input_image, kernels, weights):\n",
    "    input_image = torch.tensor(input_image, dtype=torch.float32).permute(2,0,1).unsqueeze(0)\n",
    "    with torch.no_grad():\n",
    "        output_image = apply_kernels(input_image, kernels, weights)\n",
    "    return output_image.squeeze(0).permute(1,2,0).cpu().numpy().astype(np.uint8)\n",
    "\n",
    "# Main function\n",
    "def train_model(input_images, target_images, num_kernels, kernel_size=3, epochs=100, lr=0.01):\n",
    "    oimg = input_images.copy()\n",
    "    L = []\n",
    "    # Normalize input and target images (to 0-1)\n",
    "    input_images = [img / 255.0 for img in input_images]\n",
    "    target_images = [img / 255.0 for img in target_images]    \n",
    "    # Convert input and target images to tensors\n",
    "    input_images = torch.stack([torch.tensor(img, dtype=torch.float32) for img in input_images])\n",
    "    target_images = torch.stack([torch.tensor(img, dtype=torch.float32) for img in target_images])  \n",
    "    #Initialize kernels and weights\n",
    "    kernels, weights = create_kernels_weights(num_kernels, kernel_size)\n",
    "    # Define optimizer\n",
    "    optimizer = optim.Adam(kernels+weights, lr=lr)\n",
    "    # Training loop\n",
    "    for epoch in range(epochs):\n",
    "        total_loss = 0.0\n",
    "        cv2.imshow('I', np.clip(predict_and_display(oimg[0],kernels,weights),0,255))  #Display Image\n",
    "        for input_image, target_image in zip(input_images, target_images):\n",
    "            input_image = input_image.permute(2,0,1).unsqueeze(0)  # Add batch dimension\n",
    "            target_image = target_image.permute(2,0,1).unsqueeze(0)         \n",
    "            optimizer.zero_grad()   \n",
    "            output_image = apply_kernels(input_image, kernels, weights)\n",
    "            loss = mse_loss(output_image, target_image)\n",
    "            loss.backward()\n",
    "            optimizer.step()          \n",
    "            total_loss += loss.item() \n",
    "        L.append(total_loss)\n",
    "        # Print epoch and loss\n",
    "        clear_output(wait=True)\n",
    "        print(f'Epoch [{epoch+1}/{epochs}], Loss: {total_loss/len(input_images):.4f}') \n",
    "        cv2.waitKey(10) #Press any key to stop displaying\n",
    "    print('Training complete.')\n",
    "    cv2.destroyAllWindows()\n",
    "    return kernels, weights,L"
   ]
  },
  {
   "cell_type": "code",
   "execution_count": 4,
   "id": "96d0d140",
   "metadata": {},
   "outputs": [],
   "source": [
    "cap = open_vid(\"VDB/puppies.mp4\")\n",
    "org = get_frames(cap)\n",
    "cap = open_vid(\"Cartoonized/puppiestoon.mp4\")\n",
    "car = get_frames(cap)"
   ]
  },
  {
   "cell_type": "code",
   "execution_count": 5,
   "id": "48fc1519",
   "metadata": {},
   "outputs": [
    {
     "data": {
      "text/plain": [
       "(1152, 100)"
      ]
     },
     "execution_count": 5,
     "metadata": {},
     "output_type": "execute_result"
    }
   ],
   "source": [
    "len(org),len(car)"
   ]
  },
  {
   "cell_type": "code",
   "execution_count": 6,
   "id": "20a43f2f",
   "metadata": {},
   "outputs": [
    {
     "name": "stdout",
     "output_type": "stream",
     "text": [
      "Epoch [100/100], Loss: 0.0437\n",
      "Training complete.\n"
     ]
    }
   ],
   "source": [
    "limit = 20#len(car)\n",
    "# Example usage:\n",
    "# Assuming input_images and target_images are lists of PyTorch tensors with shape [C, H, W]\n",
    "kernels, weights, Losses = train_model(org[:limit], car[:limit], num_kernels=5,epochs=100, lr=1e-3)"
   ]
  },
  {
   "cell_type": "code",
   "execution_count": 7,
   "id": "c5643e87",
   "metadata": {},
   "outputs": [
    {
     "data": {
      "text/plain": [
       "[tensor([[[[-0.1809,  0.0268,  0.0628],\n",
       "           [ 0.3375,  0.0148, -0.0330],\n",
       "           [ 0.2404,  0.4742,  0.1381]],\n",
       " \n",
       "          [[ 0.2211, -0.0498,  0.3629],\n",
       "           [ 0.1284, -0.0408,  0.3324],\n",
       "           [ 0.0559,  0.2763, -0.1645]],\n",
       " \n",
       "          [[ 0.0480, -0.0421,  0.1987],\n",
       "           [ 0.0542, -0.4664, -0.1059],\n",
       "           [ 0.0435,  0.3583,  0.4387]]],\n",
       " \n",
       " \n",
       "         [[[ 0.2920, -0.4935, -0.1458],\n",
       "           [-0.2950, -0.3822, -0.3274],\n",
       "           [-0.0765, -0.1900, -0.0238]],\n",
       " \n",
       "          [[-0.2472, -0.4840, -0.1479],\n",
       "           [ 0.3557, -0.2474,  0.1997],\n",
       "           [ 0.4505,  0.3360, -0.2654]],\n",
       " \n",
       "          [[ 0.1712, -0.0403,  0.0046],\n",
       "           [-0.3222, -0.4214, -0.1689],\n",
       "           [-0.0094, -0.2466, -0.4497]]],\n",
       " \n",
       " \n",
       "         [[[ 0.1302, -0.5190, -0.1458],\n",
       "           [ 0.0902, -0.5031,  0.2496],\n",
       "           [-0.2639,  0.0266, -0.3086]],\n",
       " \n",
       "          [[-0.0800, -0.1677,  0.3827],\n",
       "           [ 0.0608,  0.0226, -0.1720],\n",
       "           [-0.4535, -0.0450,  0.0674]],\n",
       " \n",
       "          [[ 0.0088,  0.4246, -0.1758],\n",
       "           [ 0.3559,  0.0137, -0.0814],\n",
       "           [-0.2075, -0.0012,  0.2846]]]], requires_grad=True),\n",
       " tensor([[[[-0.4228, -0.2986,  0.3302],\n",
       "           [-0.3617, -0.2222,  0.2446],\n",
       "           [-0.4628,  0.0906,  0.0184]],\n",
       " \n",
       "          [[ 0.2715,  0.2519, -0.1739],\n",
       "           [-0.3358, -0.0452,  0.0273],\n",
       "           [-0.4426, -0.1247,  0.1543]],\n",
       " \n",
       "          [[-0.4643, -0.0781, -0.0624],\n",
       "           [-0.1791,  0.0681,  0.4789],\n",
       "           [ 0.1808, -0.3264,  0.1529]]],\n",
       " \n",
       " \n",
       "         [[[ 0.4019,  0.3401,  0.3874],\n",
       "           [ 0.0052,  0.2963, -0.4994],\n",
       "           [-0.0808, -0.4226, -0.3237]],\n",
       " \n",
       "          [[ 0.2305,  0.3409,  0.1849],\n",
       "           [ 0.4865, -0.4751,  0.4481],\n",
       "           [-0.1079,  0.2788,  0.4021]],\n",
       " \n",
       "          [[-0.2740, -0.1827,  0.4902],\n",
       "           [ 0.3898, -0.0374,  0.0332],\n",
       "           [-0.0062, -0.1352,  0.1863]]],\n",
       " \n",
       " \n",
       "         [[[-0.5143,  0.0431,  0.1531],\n",
       "           [ 0.1909,  0.4233, -0.5114],\n",
       "           [ 0.1087, -0.2284,  0.1577]],\n",
       " \n",
       "          [[ 0.0832,  0.4217, -0.0053],\n",
       "           [-0.3846,  0.0883,  0.2883],\n",
       "           [-0.4106,  0.2808, -0.0693]],\n",
       " \n",
       "          [[-0.0410,  0.0496,  0.4280],\n",
       "           [ 0.0645, -0.3747,  0.0041],\n",
       "           [ 0.3771,  0.1068,  0.1447]]]], requires_grad=True),\n",
       " tensor([[[[-0.4763,  0.0827,  0.1165],\n",
       "           [-0.0893,  0.2026,  0.0085],\n",
       "           [ 0.1227, -0.0938,  0.0807]],\n",
       " \n",
       "          [[ 0.3724, -0.1508, -0.0825],\n",
       "           [-0.2188,  0.1548, -0.0454],\n",
       "           [ 0.1247, -0.0189, -0.0471]],\n",
       " \n",
       "          [[-0.2456,  0.1064,  0.1443],\n",
       "           [-0.1522,  0.0039, -0.4332],\n",
       "           [ 0.3452, -0.3628,  0.3282]]],\n",
       " \n",
       " \n",
       "         [[[ 0.1585, -0.1024, -0.3075],\n",
       "           [-0.3109,  0.3576,  0.1459],\n",
       "           [ 0.1046,  0.3718, -0.3327]],\n",
       " \n",
       "          [[-0.2324,  0.3639,  0.4654],\n",
       "           [ 0.2898,  0.1731, -0.4558],\n",
       "           [-0.4473, -0.4516, -0.1283]],\n",
       " \n",
       "          [[-0.0437,  0.0951, -0.3709],\n",
       "           [-0.3076,  0.4121, -0.4179],\n",
       "           [ 0.4825, -0.3983,  0.3344]]],\n",
       " \n",
       " \n",
       "         [[[ 0.0737, -0.2347, -0.3672],\n",
       "           [ 0.2298,  0.1980, -0.3410],\n",
       "           [ 0.3110,  0.0608, -0.2159]],\n",
       " \n",
       "          [[-0.0527,  0.1208, -0.4126],\n",
       "           [ 0.3972,  0.3651,  0.3544],\n",
       "           [-0.4356, -0.4643,  0.3882]],\n",
       " \n",
       "          [[ 0.2947, -0.4683, -0.2235],\n",
       "           [ 0.4720,  0.4195,  0.1303],\n",
       "           [ 0.1562,  0.0855, -0.0450]]]], requires_grad=True),\n",
       " tensor([[[[-0.1107, -0.1182, -0.3291],\n",
       "           [ 0.3803,  0.4711, -0.0956],\n",
       "           [-0.4395, -0.2111,  0.2805]],\n",
       " \n",
       "          [[-0.3124, -0.4576, -0.3581],\n",
       "           [-0.3058,  0.2661, -0.4773],\n",
       "           [-0.4727, -0.3256, -0.0648]],\n",
       " \n",
       "          [[ 0.4613,  0.4213, -0.3646],\n",
       "           [ 0.0909, -0.0128,  0.1326],\n",
       "           [ 0.2190,  0.1578, -0.0382]]],\n",
       " \n",
       " \n",
       "         [[[ 0.3634,  0.3537, -0.2171],\n",
       "           [-0.4177,  0.0102, -0.3516],\n",
       "           [-0.4319, -0.3256,  0.0729]],\n",
       " \n",
       "          [[-0.3881, -0.1184,  0.2249],\n",
       "           [-0.3954, -0.4826,  0.4459],\n",
       "           [ 0.3551,  0.3869, -0.4614]],\n",
       " \n",
       "          [[ 0.0579,  0.1654,  0.1895],\n",
       "           [ 0.1064, -0.4286,  0.4706],\n",
       "           [ 0.1655, -0.1086,  0.3298]]],\n",
       " \n",
       " \n",
       "         [[[-0.1413,  0.1602,  0.1167],\n",
       "           [ 0.0666,  0.1911, -0.5086],\n",
       "           [ 0.2191, -0.3913,  0.0215]],\n",
       " \n",
       "          [[ 0.3542, -0.4598, -0.2865],\n",
       "           [-0.1456, -0.2369, -0.1573],\n",
       "           [ 0.3761, -0.4329, -0.3388]],\n",
       " \n",
       "          [[ 0.0661, -0.0753,  0.3705],\n",
       "           [-0.0107, -0.3689,  0.2170],\n",
       "           [ 0.3615, -0.0688,  0.2507]]]], requires_grad=True),\n",
       " tensor([[[[ 0.4265, -0.3268, -0.4441],\n",
       "           [-0.0501,  0.4900, -0.2398],\n",
       "           [-0.1126,  0.0388,  0.1292]],\n",
       " \n",
       "          [[-0.1001,  0.4612, -0.2554],\n",
       "           [ 0.2394,  0.1453, -0.1440],\n",
       "           [-0.1955,  0.0550,  0.0711]],\n",
       " \n",
       "          [[-0.4700,  0.3242,  0.5117],\n",
       "           [ 0.0175, -0.1519,  0.1485],\n",
       "           [ 0.4295, -0.1519, -0.0889]]],\n",
       " \n",
       " \n",
       "         [[[ 0.1591,  0.3009, -0.1585],\n",
       "           [-0.4429,  0.2959, -0.4803],\n",
       "           [-0.4108,  0.2311,  0.1132]],\n",
       " \n",
       "          [[ 0.2071,  0.1326, -0.1384],\n",
       "           [-0.2491,  0.2384,  0.2154],\n",
       "           [-0.1349,  0.0570,  0.4509]],\n",
       " \n",
       "          [[ 0.3337,  0.1477, -0.4911],\n",
       "           [ 0.2070, -0.1962,  0.1924],\n",
       "           [-0.0036,  0.1801,  0.4388]]],\n",
       " \n",
       " \n",
       "         [[[ 0.3392,  0.2300,  0.1491],\n",
       "           [-0.2788, -0.0125,  0.1180],\n",
       "           [-0.3463,  0.2331, -0.2749]],\n",
       " \n",
       "          [[ 0.4209, -0.1292,  0.2242],\n",
       "           [-0.0113, -0.1639, -0.4037],\n",
       "           [-0.0806,  0.1072, -0.3661]],\n",
       " \n",
       "          [[-0.2587,  0.1074, -0.1518],\n",
       "           [ 0.3740,  0.1508,  0.0029],\n",
       "           [ 0.1918,  0.3965, -0.4152]]]], requires_grad=True)]"
      ]
     },
     "execution_count": 7,
     "metadata": {},
     "output_type": "execute_result"
    }
   ],
   "source": [
    "kernels"
   ]
  },
  {
   "cell_type": "code",
   "execution_count": 8,
   "id": "e68d8b95",
   "metadata": {},
   "outputs": [
    {
     "data": {
      "text/plain": [
       "[tensor([-1.0434]),\n",
       " tensor([-1.0530]),\n",
       " tensor([-0.5466]),\n",
       " tensor([-1.6035]),\n",
       " tensor([-0.8413])]"
      ]
     },
     "execution_count": 8,
     "metadata": {},
     "output_type": "execute_result"
    }
   ],
   "source": [
    "weights"
   ]
  },
  {
   "cell_type": "code",
   "execution_count": 9,
   "id": "08e836f3",
   "metadata": {},
   "outputs": [
    {
     "data": {
      "text/plain": [
       "[<matplotlib.lines.Line2D at 0x21ec27b8b08>]"
      ]
     },
     "execution_count": 9,
     "metadata": {},
     "output_type": "execute_result"
    },
    {
     "data": {
      "image/png": "[encoded data removed]",
      "text/plain": [
       "<Figure size 432x288 with 1 Axes>"
      ]
     },
     "metadata": {
      "needs_background": "light"
     },
     "output_type": "display_data"
    }
   ],
   "source": [
    "plt.plot(Losses)"
   ]
  },
  {
   "cell_type": "code",
   "execution_count": 12,
   "id": "f848499c",
   "metadata": {},
   "outputs": [],
   "source": [
    "Predicted = [predict_and_display(o,kernels,weights) for o in org[:100]]"
   ]
  },
  {
   "cell_type": "code",
   "execution_count": 16,
   "id": "b029f05d",
   "metadata": {},
   "outputs": [],
   "source": [
    "ThroughFrames(Predicted)"
   ]
  },
  {
   "cell_type": "code",
   "execution_count": null,
   "id": "a9abb88f",
   "metadata": {},
   "outputs": [],
   "source": []
  }
 ],
 "metadata": {
  "kernelspec": {
   "display_name": "Python 3",
   "language": "python",
   "name": "python3"
  },
  "language_info": {
   "codemirror_mode": {
    "name": "ipython",
    "version": 3
   },
   "file_extension": ".py",
   "mimetype": "text/x-python",
   "name": "python",
   "nbconvert_exporter": "python",
   "pygments_lexer": "ipython3",
   "version": "3.7.6"
  }
 },
 "nbformat": 4,
 "nbformat_minor": 5
}
