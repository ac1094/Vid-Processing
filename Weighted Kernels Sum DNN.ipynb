{
 "cells": [
  {
   "cell_type": "code",
   "execution_count": 1,
   "id": "347f130e",
   "metadata": {},
   "outputs": [
    {
     "name": "stdout",
     "output_type": "stream",
     "text": [
      "importing Jupyter notebook from ConsistencyIndexes.ipynb\n",
      "importing Jupyter notebook from Functions.ipynb\n"
     ]
    }
   ],
   "source": [
    "import import_ipynb\n",
    "from ConsistencyIndexes import *\n",
    "import torch\n",
    "import torch.nn.functional as F\n",
    "from matplotlib import pyplot as plt\n",
    "from IPython.display import clear_output\n",
    "import torch.optim as optim\n",
    "from torch.nn.functional import mse_loss\n",
    "from torchvision import transforms\n",
    "from torch import nn"
   ]
  },
  {
   "cell_type": "code",
   "execution_count": 2,
   "id": "3149b24d",
   "metadata": {},
   "outputs": [],
   "source": [
    "cap = open_vid(\"VDB/WID.mp4\")\n",
    "org = get_frames(cap)\n",
    "cap = open_vid(\"Cartoonized/WID_toon.mp4\")\n",
    "car = get_frames(cap)"
   ]
  },
  {
   "cell_type": "code",
   "execution_count": 106,
   "id": "12ab8b12",
   "metadata": {},
   "outputs": [],
   "source": [
    "# Function to create convolutional kernels and weights\n",
    "def create_kernels_weights(num_kernels, kernel_size):\n",
    "    kernels = [torch.rand(1, 3, kernel_size, kernel_size, requires_grad=True) for _ in range(num_kernels)]\n",
    "    weights = [torch.randn(1) for _ in range(num_kernels)]\n",
    "    return kernels, weights\n",
    "\n",
    "# Function to perform convolution and compute the weighted sum\n",
    "def apply_kernels(input_image, kernels, weights):\n",
    "    output = sum(weights[i] * F.conv2d(input_image, kernels[i], padding=kernels[i].shape[-1]//2) for i in range(len(kernels)))\n",
    "    return output\n",
    "\n",
    "# Main function\n",
    "def train_model(input_images, target_images, num_kernels, kernel_size=3, epochs=100, lr=0.01):\n",
    "    # Normalize input and target images (to 0-1)\n",
    "    input_images = [img / 255.0 for img in input_images]\n",
    "    target_images = [img / 255.0 for img in target_images]    \n",
    "    # Convert input and target images to tensors\n",
    "    input_images = torch.stack([torch.tensor(img, dtype=torch.float32) for img in input_images])\n",
    "    target_images = torch.stack([torch.tensor(img, dtype=torch.float32) for img in target_images])  \n",
    "    #Initialize kernels and weights\n",
    "    kernels, weights = create_kernels_weights(num_kernels, kernel_size)\n",
    "    # Define optimizer\n",
    "    optimizer = optim.Adam(kernels+weights, lr=lr)\n",
    "    # Training loop\n",
    "    for epoch in range(epochs):\n",
    "        total_loss = 0.0\n",
    "        for input_image, target_image in zip(input_images, target_images):\n",
    "            input_image = input_image.permute(2,0,1).unsqueeze(0)  # Add batch dimension\n",
    "            target_image = target_image.permute(2,0,1).unsqueeze(0)         \n",
    "            optimizer.zero_grad()      \n",
    "            output_image = apply_kernels(input_image, kernels, weights)\n",
    "            loss = mse_loss(output_image, target_image)\n",
    "            loss.backward()\n",
    "            optimizer.step()          \n",
    "            total_loss += loss.item()       \n",
    "        # Print epoch and loss\n",
    "        clear_output(wait=True)\n",
    "        print(f'Epoch [{epoch+1}/{epochs}], Loss: {total_loss/len(input_images):.4f}')   \n",
    "    print('Training complete.')\n",
    "    return kernels, weights\n",
    "\n",
    "# Function to apply kernels and display the result\n",
    "def predict_and_display(input_image, kernels, weights):\n",
    "    input_image = torch.tensor(input_image, dtype=torch.float32).permute(2,0,1).unsqueeze(0)\n",
    "    with torch.no_grad():\n",
    "        output_image = apply_kernels(input_image, kernels, weights)\n",
    "    return (output_image*255.0)#.permute(1,2,0).cpu().numpy()"
   ]
  },
  {
   "cell_type": "code",
   "execution_count": 100,
   "id": "6c92450a",
   "metadata": {},
   "outputs": [
    {
     "name": "stdout",
     "output_type": "stream",
     "text": [
      "Epoch [50/50], Loss: 0.0119\n",
      "Training complete.\n"
     ]
    }
   ],
   "source": [
    "limit = 20\n",
    "# Example usage:\n",
    "# Assuming input_images and target_images are lists of PyTorch tensors with shape [C, H, W]\n",
    "kernels, weights = train_model(org[:limit], car[:limit], num_kernels=5,epochs=50, lr=1e-3)"
   ]
  },
  {
   "cell_type": "code",
   "execution_count": 107,
   "id": "a4fd3f88",
   "metadata": {},
   "outputs": [
    {
     "name": "stdout",
     "output_type": "stream",
     "text": [
      "torch.Size([1, 1, 296, 640])\n"
     ]
    },
    {
     "ename": "TypeError",
     "evalue": "Expected Ptr<cv::UMat> for argument 'mat'",
     "output_type": "error",
     "traceback": [
      "\u001b[1;31m---------------------------------------------------------------------------\u001b[0m",
      "\u001b[1;31mTypeError\u001b[0m                                 Traceback (most recent call last)",
      "\u001b[1;32m<ipython-input-107-f725e77d3047>\u001b[0m in \u001b[0;36m<module>\u001b[1;34m\u001b[0m\n\u001b[0;32m      1\u001b[0m \u001b[0mPredicted\u001b[0m \u001b[1;33m=\u001b[0m \u001b[0mpredict_and_display\u001b[0m\u001b[1;33m(\u001b[0m\u001b[0morg\u001b[0m\u001b[1;33m[\u001b[0m\u001b[1;36m0\u001b[0m\u001b[1;33m]\u001b[0m\u001b[1;33m,\u001b[0m\u001b[0mkernels\u001b[0m\u001b[1;33m,\u001b[0m\u001b[0mweights\u001b[0m\u001b[1;33m)\u001b[0m\u001b[1;31m#.cpu().numpy()\u001b[0m\u001b[1;33m\u001b[0m\u001b[1;33m\u001b[0m\u001b[0m\n\u001b[0;32m      2\u001b[0m \u001b[0mprint\u001b[0m\u001b[1;33m(\u001b[0m\u001b[0mPredicted\u001b[0m\u001b[1;33m.\u001b[0m\u001b[0mshape\u001b[0m\u001b[1;33m)\u001b[0m\u001b[1;33m\u001b[0m\u001b[1;33m\u001b[0m\u001b[0m\n\u001b[1;32m----> 3\u001b[1;33m \u001b[0mdisplay_frame\u001b[0m\u001b[1;33m(\u001b[0m\u001b[0mPredicted\u001b[0m\u001b[1;33m)\u001b[0m\u001b[1;33m\u001b[0m\u001b[1;33m\u001b[0m\u001b[0m\n\u001b[0m",
      "\u001b[1;32m~\\Desktop\\Video Processing\\Functions.ipynb\u001b[0m in \u001b[0;36mdisplay_frame\u001b[1;34m(I)\u001b[0m\n",
      "\u001b[1;31mTypeError\u001b[0m: Expected Ptr<cv::UMat> for argument 'mat'"
     ]
    }
   ],
   "source": [
    "Predicted = predict_and_display(org[0],kernels,weights)#.cpu().numpy()\n",
    "print(Predicted.shape)\n",
    "display_frame(Predicted)"
   ]
  },
  {
   "cell_type": "code",
   "execution_count": null,
   "id": "1d58551f",
   "metadata": {},
   "outputs": [],
   "source": []
  }
 ],
 "metadata": {
  "kernelspec": {
   "display_name": "Python 3",
   "language": "python",
   "name": "python3"
  },
  "language_info": {
   "codemirror_mode": {
    "name": "ipython",
    "version": 3
   },
   "file_extension": ".py",
   "mimetype": "text/x-python",
   "name": "python",
   "nbconvert_exporter": "python",
   "pygments_lexer": "ipython3",
   "version": "3.7.6"
  }
 },
 "nbformat": 4,
 "nbformat_minor": 5
}
