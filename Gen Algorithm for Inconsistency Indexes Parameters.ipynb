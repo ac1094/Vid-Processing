{
 "cells": [
  {
   "cell_type": "code",
   "execution_count": 166,
   "id": "01fde296",
   "metadata": {},
   "outputs": [],
   "source": [
    "import import_ipynb\n",
    "from ConsistencyIndexes import *"
   ]
  },
  {
   "cell_type": "code",
   "execution_count": 167,
   "id": "9134a73f",
   "metadata": {},
   "outputs": [],
   "source": [
    "class ParamInvividual:\n",
    "    def __init__(self,N=2,idx=[CRC,Border_Err],W=[1,1],M=\"mean\"):\n",
    "        self.NIdx = N\n",
    "        self.Idx = idx\n",
    "        self.Weights = W\n",
    "        self.Mode = M\n",
    "        self.Score = 0"
   ]
  },
  {
   "cell_type": "code",
   "execution_count": 168,
   "id": "c359d648",
   "metadata": {},
   "outputs": [],
   "source": [
    "def CopyIndv(Inv):\n",
    "    return ParamInvividual(Inv.NIdx,Inv.Idx,Inv.Weights,Inv.Mode)"
   ]
  },
  {
   "cell_type": "code",
   "execution_count": 169,
   "id": "580c1e82",
   "metadata": {},
   "outputs": [],
   "source": [
    "def Generator():\n",
    "    Indexes = [TSNR,Abs_Dif,OF_EPE,OF_AE,Gray_Dif,TSSIM,MSE,Border_Err,CRC,Entopy_Dif]\n",
    "    Modes = [\"mean\",\"log\",\"norm\",\"Z\"]\n",
    "    Nindex = random.sample(range(0,len(Indexes)),random.randint(2,len(Indexes)))\n",
    "    Idx = [Indexes[i] for i in range(len(Nindex))]\n",
    "    W = [random.uniform(0.1, 10) for _ in range(len(Nindex))]\n",
    "    M = Modes[random.randint(0,len(Modes)-1)]\n",
    "    return ParamInvividual(len(Nindex),Idx,W,M)"
   ]
  },
  {
   "cell_type": "code",
   "execution_count": 170,
   "id": "29729f35",
   "metadata": {},
   "outputs": [],
   "source": [
    "def Gen_Population(N=100):\n",
    "    return [Generator() for _ in range(N)]"
   ]
  },
  {
   "cell_type": "code",
   "execution_count": 171,
   "id": "84bb9433",
   "metadata": {},
   "outputs": [],
   "source": [
    "def Evaluation(Individual,Frames,Targets):\n",
    "    Inc,Metric = InconsistentRegion(Frames,Mix_Metrics,Individual.Mode,Individual.Idx,Individual.Weights)\n",
    "    Inc = Inc[1:]\n",
    "    Dif = [abs(Inc[i]-Targets[i]) for i in range(len(Inc))]\n",
    "    return np.mean(sum(Dif)/len(Dif))# + Metric)"
   ]
  },
  {
   "cell_type": "code",
   "execution_count": 172,
   "id": "9be1137b",
   "metadata": {},
   "outputs": [],
   "source": [
    "def Evaluate_Population(Population,Frames,Targets):\n",
    "    for i in range(len(Population)):\n",
    "        print(\"Pop: \",i+1,'/',len(Population),'\\n')\n",
    "        Population[i].Score = Evaluation(Population[i],Frames,Targets)"
   ]
  },
  {
   "cell_type": "code",
   "execution_count": 173,
   "id": "82b5e9ef",
   "metadata": {},
   "outputs": [],
   "source": [
    "def Read2Binary(path):\n",
    "    T = read_images(path)\n",
    "    T = [cv2.cvtColor(t,cv2.COLOR_RGB2GRAY) for t in T]\n",
    "    for t in T:\n",
    "        t[t>=150]=255\n",
    "        t[t<150]=0\n",
    "    return T"
   ]
  },
  {
   "cell_type": "code",
   "execution_count": 174,
   "id": "18b965f6",
   "metadata": {},
   "outputs": [],
   "source": [
    "def Selection(Population,NTop=10):\n",
    "    Scores = [P.Score for P in Popu]\n",
    "    Dictionary = dict(zip(Popu, Scores))\n",
    "    Sorted = sorted(Dictionary.items(), key=lambda x: x[1])\n",
    "    return [key for key, value in Sorted[:NTop]]"
   ]
  },
  {
   "cell_type": "code",
   "execution_count": 175,
   "id": "d0c61a6f",
   "metadata": {},
   "outputs": [],
   "source": [
    "def Cross(Indv1,Indv2):\n",
    "    N = (Indv1.NIdx+Indv2.NIdx)//2\n",
    "    Dic = dict(zip(Indv1.Idx+Indv2.Idx,Indv1.Weights+Indv2.Weights))\n",
    "    idx = random.sample(list(Dic.keys()), N)\n",
    "    W = [Dic[key] for key in idx]\n",
    "    M = [Indv1.Mode,Indv2.Mode][random.randint(0,1)]\n",
    "    return ParamInvividual(N,idx,W,M)"
   ]
  },
  {
   "cell_type": "code",
   "execution_count": 176,
   "id": "ab704ef6",
   "metadata": {},
   "outputs": [],
   "source": [
    "def Mutation(Indv):\n",
    "    I = CopyIndv(Indv)\n",
    "    I.Weights = [random.uniform(0.1, 10) for _ in range(Indv.NIdx)]\n",
    "    return I"
   ]
  },
  {
   "cell_type": "code",
   "execution_count": 177,
   "id": "7b886c89",
   "metadata": {},
   "outputs": [],
   "source": [
    "def Gen_From_Top(N,Top):\n",
    "    Population = []\n",
    "    for n in range(N):\n",
    "        Op = random.randint(0,1)\n",
    "        if Op==0:\n",
    "            I = Cross(Top[random.randint(0,len(Top)-1)],Top[random.randint(0,len(Top)-1)])\n",
    "        else:\n",
    "            I = Mutation(Top[random.randint(0,len(Top)-1)])\n",
    "        Population.append(I)\n",
    "    return Population"
   ]
  },
  {
   "cell_type": "code",
   "execution_count": 178,
   "id": "3c66bab4",
   "metadata": {},
   "outputs": [],
   "source": [
    "def Train(Frames,Targets,NPop=5,Generations=3,NTop=3):\n",
    "    Population = Gen_Population(NPop)\n",
    "    Evaluate_Population(Population,Frames,Targets)\n",
    "    for G in range(Generations):\n",
    "        print(\"Gen: \",G+1,\"/\",Generations,'\\n')\n",
    "        Top = Selection(Population,NTop)\n",
    "        Children = Gen_From_Top(NPop-NTop,Top)\n",
    "        Evaluate_Population(Children,Frames,Targets)\n",
    "        Population = Top+Children\n",
    "    Top = Selection(Population,NTop)\n",
    "    return Top[0]"
   ]
  },
  {
   "cell_type": "code",
   "execution_count": 179,
   "id": "f1b58b08",
   "metadata": {},
   "outputs": [],
   "source": [
    "Frames = read_images(\"saved_frames\")\n",
    "Frames[3] = Frames[3][:,:,:3]\n",
    "Frames[6] = Frames[6][:,:,:3]\n",
    "Frames[9] = Frames[9][:,:,:3]\n",
    "M = Read2Binary(\"Masks\")\n",
    "Masks = [np.zeros((M[0].shape[0],M[0].shape[1])) for _ in range(len(Frames)-1)]\n",
    "Masks[2] = M[0]\n",
    "Masks[5] = M[1]\n",
    "Masks[8] = M[2]"
   ]
  },
  {
   "cell_type": "code",
   "execution_count": 180,
   "id": "f9562474",
   "metadata": {},
   "outputs": [
    {
     "name": "stdout",
     "output_type": "stream",
     "text": [
      "Pop:  1 / 20 \n",
      "\n",
      "Pop:  2 / 20 \n",
      "\n",
      "Pop:  3 / 20 \n",
      "\n",
      "Pop:  4 / 20 \n",
      "\n",
      "Pop:  5 / 20 \n",
      "\n",
      "Pop:  6 / 20 \n",
      "\n",
      "Pop:  7 / 20 \n",
      "\n",
      "Pop:  8 / 20 \n",
      "\n",
      "Pop:  9 / 20 \n",
      "\n",
      "Pop:  10 / 20 \n",
      "\n",
      "Pop:  11 / 20 \n",
      "\n",
      "Pop:  12 / 20 \n",
      "\n",
      "Pop:  13 / 20 \n",
      "\n",
      "Pop:  14 / 20 \n",
      "\n",
      "Pop:  15 / 20 \n",
      "\n",
      "Pop:  16 / 20 \n",
      "\n",
      "Pop:  17 / 20 \n",
      "\n",
      "Pop:  18 / 20 \n",
      "\n",
      "Pop:  19 / 20 \n",
      "\n",
      "Pop:  20 / 20 \n",
      "\n",
      "Gen:  1 / 10 \n",
      "\n",
      "Pop:  1 / 15 \n",
      "\n",
      "Pop:  2 / 15 \n",
      "\n",
      "Pop:  3 / 15 \n",
      "\n",
      "Pop:  4 / 15 \n",
      "\n",
      "Pop:  5 / 15 \n",
      "\n",
      "Pop:  6 / 15 \n",
      "\n",
      "Pop:  7 / 15 \n",
      "\n",
      "Pop:  8 / 15 \n",
      "\n",
      "Pop:  9 / 15 \n",
      "\n",
      "Pop:  10 / 15 \n",
      "\n",
      "Pop:  11 / 15 \n",
      "\n",
      "Pop:  12 / 15 \n",
      "\n",
      "Pop:  13 / 15 \n",
      "\n",
      "Pop:  14 / 15 \n",
      "\n",
      "Pop:  15 / 15 \n",
      "\n",
      "Gen:  2 / 10 \n",
      "\n",
      "Pop:  1 / 15 \n",
      "\n",
      "Pop:  2 / 15 \n",
      "\n",
      "Pop:  3 / 15 \n",
      "\n",
      "Pop:  4 / 15 \n",
      "\n",
      "Pop:  5 / 15 \n",
      "\n",
      "Pop:  6 / 15 \n",
      "\n",
      "Pop:  7 / 15 \n",
      "\n",
      "Pop:  8 / 15 \n",
      "\n",
      "Pop:  9 / 15 \n",
      "\n",
      "Pop:  10 / 15 \n",
      "\n",
      "Pop:  11 / 15 \n",
      "\n",
      "Pop:  12 / 15 \n",
      "\n",
      "Pop:  13 / 15 \n",
      "\n",
      "Pop:  14 / 15 \n",
      "\n",
      "Pop:  15 / 15 \n",
      "\n",
      "Gen:  3 / 10 \n",
      "\n",
      "Pop:  1 / 15 \n",
      "\n",
      "Pop:  2 / 15 \n",
      "\n",
      "Pop:  3 / 15 \n",
      "\n",
      "Pop:  4 / 15 \n",
      "\n",
      "Pop:  5 / 15 \n",
      "\n",
      "Pop:  6 / 15 \n",
      "\n",
      "Pop:  7 / 15 \n",
      "\n",
      "Pop:  8 / 15 \n",
      "\n",
      "Pop:  9 / 15 \n",
      "\n",
      "Pop:  10 / 15 \n",
      "\n",
      "Pop:  11 / 15 \n",
      "\n",
      "Pop:  12 / 15 \n",
      "\n",
      "Pop:  13 / 15 \n",
      "\n",
      "Pop:  14 / 15 \n",
      "\n",
      "Pop:  15 / 15 \n",
      "\n",
      "Gen:  4 / 10 \n",
      "\n",
      "Pop:  1 / 15 \n",
      "\n",
      "Pop:  2 / 15 \n",
      "\n",
      "Pop:  3 / 15 \n",
      "\n",
      "Pop:  4 / 15 \n",
      "\n",
      "Pop:  5 / 15 \n",
      "\n",
      "Pop:  6 / 15 \n",
      "\n",
      "Pop:  7 / 15 \n",
      "\n",
      "Pop:  8 / 15 \n",
      "\n",
      "Pop:  9 / 15 \n",
      "\n",
      "Pop:  10 / 15 \n",
      "\n",
      "Pop:  11 / 15 \n",
      "\n",
      "Pop:  12 / 15 \n",
      "\n",
      "Pop:  13 / 15 \n",
      "\n",
      "Frame:  6 / 9\r"
     ]
    },
    {
     "ename": "KeyboardInterrupt",
     "evalue": "",
     "output_type": "error",
     "traceback": [
      "\u001b[1;31m---------------------------------------------------------------------------\u001b[0m",
      "\u001b[1;31mKeyboardInterrupt\u001b[0m                         Traceback (most recent call last)",
      "\u001b[1;32m<ipython-input-180-ad963d71234b>\u001b[0m in \u001b[0;36m<module>\u001b[1;34m\u001b[0m\n\u001b[1;32m----> 1\u001b[1;33m \u001b[0mBest\u001b[0m \u001b[1;33m=\u001b[0m \u001b[0mTrain\u001b[0m\u001b[1;33m(\u001b[0m\u001b[0mFrames\u001b[0m\u001b[1;33m[\u001b[0m\u001b[1;33m:\u001b[0m\u001b[1;36m10\u001b[0m\u001b[1;33m]\u001b[0m\u001b[1;33m,\u001b[0m\u001b[0mMasks\u001b[0m\u001b[1;33m[\u001b[0m\u001b[1;33m:\u001b[0m\u001b[1;36m9\u001b[0m\u001b[1;33m]\u001b[0m\u001b[1;33m,\u001b[0m\u001b[1;36m20\u001b[0m\u001b[1;33m,\u001b[0m\u001b[1;36m10\u001b[0m\u001b[1;33m,\u001b[0m\u001b[1;36m5\u001b[0m\u001b[1;33m)\u001b[0m\u001b[1;33m\u001b[0m\u001b[1;33m\u001b[0m\u001b[0m\n\u001b[0m",
      "\u001b[1;32m<ipython-input-178-0b2f6d616e4f>\u001b[0m in \u001b[0;36mTrain\u001b[1;34m(Frames, Targets, NPop, Generations, NTop)\u001b[0m\n\u001b[0;32m      6\u001b[0m         \u001b[0mTop\u001b[0m \u001b[1;33m=\u001b[0m \u001b[0mSelection\u001b[0m\u001b[1;33m(\u001b[0m\u001b[0mPopulation\u001b[0m\u001b[1;33m,\u001b[0m\u001b[0mNTop\u001b[0m\u001b[1;33m)\u001b[0m\u001b[1;33m\u001b[0m\u001b[1;33m\u001b[0m\u001b[0m\n\u001b[0;32m      7\u001b[0m         \u001b[0mChildren\u001b[0m \u001b[1;33m=\u001b[0m \u001b[0mGen_From_Top\u001b[0m\u001b[1;33m(\u001b[0m\u001b[0mNPop\u001b[0m\u001b[1;33m-\u001b[0m\u001b[0mNTop\u001b[0m\u001b[1;33m,\u001b[0m\u001b[0mTop\u001b[0m\u001b[1;33m)\u001b[0m\u001b[1;33m\u001b[0m\u001b[1;33m\u001b[0m\u001b[0m\n\u001b[1;32m----> 8\u001b[1;33m         \u001b[0mEvaluate_Population\u001b[0m\u001b[1;33m(\u001b[0m\u001b[0mChildren\u001b[0m\u001b[1;33m,\u001b[0m\u001b[0mFrames\u001b[0m\u001b[1;33m,\u001b[0m\u001b[0mTargets\u001b[0m\u001b[1;33m)\u001b[0m\u001b[1;33m\u001b[0m\u001b[1;33m\u001b[0m\u001b[0m\n\u001b[0m\u001b[0;32m      9\u001b[0m         \u001b[0mPopulation\u001b[0m \u001b[1;33m=\u001b[0m \u001b[0mTop\u001b[0m\u001b[1;33m+\u001b[0m\u001b[0mChildren\u001b[0m\u001b[1;33m\u001b[0m\u001b[1;33m\u001b[0m\u001b[0m\n\u001b[0;32m     10\u001b[0m     \u001b[0mTop\u001b[0m \u001b[1;33m=\u001b[0m \u001b[0mSelection\u001b[0m\u001b[1;33m(\u001b[0m\u001b[0mPopulation\u001b[0m\u001b[1;33m,\u001b[0m\u001b[0mNTop\u001b[0m\u001b[1;33m)\u001b[0m\u001b[1;33m\u001b[0m\u001b[1;33m\u001b[0m\u001b[0m\n",
      "\u001b[1;32m<ipython-input-172-b592ce458412>\u001b[0m in \u001b[0;36mEvaluate_Population\u001b[1;34m(Population, Frames, Targets)\u001b[0m\n\u001b[0;32m      2\u001b[0m     \u001b[1;32mfor\u001b[0m \u001b[0mi\u001b[0m \u001b[1;32min\u001b[0m \u001b[0mrange\u001b[0m\u001b[1;33m(\u001b[0m\u001b[0mlen\u001b[0m\u001b[1;33m(\u001b[0m\u001b[0mPopulation\u001b[0m\u001b[1;33m)\u001b[0m\u001b[1;33m)\u001b[0m\u001b[1;33m:\u001b[0m\u001b[1;33m\u001b[0m\u001b[1;33m\u001b[0m\u001b[0m\n\u001b[0;32m      3\u001b[0m         \u001b[0mprint\u001b[0m\u001b[1;33m(\u001b[0m\u001b[1;34m\"Pop: \"\u001b[0m\u001b[1;33m,\u001b[0m\u001b[0mi\u001b[0m\u001b[1;33m+\u001b[0m\u001b[1;36m1\u001b[0m\u001b[1;33m,\u001b[0m\u001b[1;34m'/'\u001b[0m\u001b[1;33m,\u001b[0m\u001b[0mlen\u001b[0m\u001b[1;33m(\u001b[0m\u001b[0mPopulation\u001b[0m\u001b[1;33m)\u001b[0m\u001b[1;33m,\u001b[0m\u001b[1;34m'\\n'\u001b[0m\u001b[1;33m)\u001b[0m\u001b[1;33m\u001b[0m\u001b[1;33m\u001b[0m\u001b[0m\n\u001b[1;32m----> 4\u001b[1;33m         \u001b[0mPopulation\u001b[0m\u001b[1;33m[\u001b[0m\u001b[0mi\u001b[0m\u001b[1;33m]\u001b[0m\u001b[1;33m.\u001b[0m\u001b[0mScore\u001b[0m \u001b[1;33m=\u001b[0m \u001b[0mEvaluation\u001b[0m\u001b[1;33m(\u001b[0m\u001b[0mPopulation\u001b[0m\u001b[1;33m[\u001b[0m\u001b[0mi\u001b[0m\u001b[1;33m]\u001b[0m\u001b[1;33m,\u001b[0m\u001b[0mFrames\u001b[0m\u001b[1;33m,\u001b[0m\u001b[0mTargets\u001b[0m\u001b[1;33m)\u001b[0m\u001b[1;33m\u001b[0m\u001b[1;33m\u001b[0m\u001b[0m\n\u001b[0m",
      "\u001b[1;32m<ipython-input-171-80698a4fc847>\u001b[0m in \u001b[0;36mEvaluation\u001b[1;34m(Individual, Frames, Targets)\u001b[0m\n\u001b[0;32m      1\u001b[0m \u001b[1;32mdef\u001b[0m \u001b[0mEvaluation\u001b[0m\u001b[1;33m(\u001b[0m\u001b[0mIndividual\u001b[0m\u001b[1;33m,\u001b[0m\u001b[0mFrames\u001b[0m\u001b[1;33m,\u001b[0m\u001b[0mTargets\u001b[0m\u001b[1;33m)\u001b[0m\u001b[1;33m:\u001b[0m\u001b[1;33m\u001b[0m\u001b[1;33m\u001b[0m\u001b[0m\n\u001b[1;32m----> 2\u001b[1;33m     \u001b[0mInc\u001b[0m\u001b[1;33m,\u001b[0m\u001b[0mMetric\u001b[0m \u001b[1;33m=\u001b[0m \u001b[0mInconsistentRegion\u001b[0m\u001b[1;33m(\u001b[0m\u001b[0mFrames\u001b[0m\u001b[1;33m,\u001b[0m\u001b[0mMix_Metrics\u001b[0m\u001b[1;33m,\u001b[0m\u001b[0mIndividual\u001b[0m\u001b[1;33m.\u001b[0m\u001b[0mMode\u001b[0m\u001b[1;33m,\u001b[0m\u001b[0mIndividual\u001b[0m\u001b[1;33m.\u001b[0m\u001b[0mIdx\u001b[0m\u001b[1;33m,\u001b[0m\u001b[0mIndividual\u001b[0m\u001b[1;33m.\u001b[0m\u001b[0mWeights\u001b[0m\u001b[1;33m)\u001b[0m\u001b[1;33m\u001b[0m\u001b[1;33m\u001b[0m\u001b[0m\n\u001b[0m\u001b[0;32m      3\u001b[0m     \u001b[0mInc\u001b[0m \u001b[1;33m=\u001b[0m \u001b[0mInc\u001b[0m\u001b[1;33m[\u001b[0m\u001b[1;36m1\u001b[0m\u001b[1;33m:\u001b[0m\u001b[1;33m]\u001b[0m\u001b[1;33m\u001b[0m\u001b[1;33m\u001b[0m\u001b[0m\n\u001b[0;32m      4\u001b[0m     \u001b[0mDif\u001b[0m \u001b[1;33m=\u001b[0m \u001b[1;33m[\u001b[0m\u001b[0mabs\u001b[0m\u001b[1;33m(\u001b[0m\u001b[0mInc\u001b[0m\u001b[1;33m[\u001b[0m\u001b[0mi\u001b[0m\u001b[1;33m]\u001b[0m\u001b[1;33m-\u001b[0m\u001b[0mTargets\u001b[0m\u001b[1;33m[\u001b[0m\u001b[0mi\u001b[0m\u001b[1;33m]\u001b[0m\u001b[1;33m)\u001b[0m \u001b[1;32mfor\u001b[0m \u001b[0mi\u001b[0m \u001b[1;32min\u001b[0m \u001b[0mrange\u001b[0m\u001b[1;33m(\u001b[0m\u001b[0mlen\u001b[0m\u001b[1;33m(\u001b[0m\u001b[0mInc\u001b[0m\u001b[1;33m)\u001b[0m\u001b[1;33m)\u001b[0m\u001b[1;33m]\u001b[0m\u001b[1;33m\u001b[0m\u001b[1;33m\u001b[0m\u001b[0m\n\u001b[0;32m      5\u001b[0m     \u001b[1;32mreturn\u001b[0m \u001b[0mnp\u001b[0m\u001b[1;33m.\u001b[0m\u001b[0mmean\u001b[0m\u001b[1;33m(\u001b[0m\u001b[0msum\u001b[0m\u001b[1;33m(\u001b[0m\u001b[0mDif\u001b[0m\u001b[1;33m)\u001b[0m\u001b[1;33m/\u001b[0m\u001b[0mlen\u001b[0m\u001b[1;33m(\u001b[0m\u001b[0mDif\u001b[0m\u001b[1;33m)\u001b[0m\u001b[1;33m)\u001b[0m\u001b[1;31m# + Metric)\u001b[0m\u001b[1;33m\u001b[0m\u001b[1;33m\u001b[0m\u001b[0m\n",
      "\u001b[1;32m~\\Desktop\\Video Processing\\ConsistencyIndexes.ipynb\u001b[0m in \u001b[0;36mInconsistentRegion\u001b[1;34m(F, Func, op, M, W)\u001b[0m\n",
      "\u001b[1;32m~\\Desktop\\Video Processing\\ConsistencyIndexes.ipynb\u001b[0m in \u001b[0;36mWMax_Inconsistency\u001b[1;34m(img1, img2, wsize, step, Func, op, M, Weights)\u001b[0m\n",
      "\u001b[1;32m~\\Desktop\\Video Processing\\ConsistencyIndexes.ipynb\u001b[0m in \u001b[0;36mMix_Metrics\u001b[1;34m(image1, image2, op, M, W)\u001b[0m\n",
      "\u001b[1;32m~\\Desktop\\Video Processing\\ConsistencyIndexes.ipynb\u001b[0m in \u001b[0;36mTSSIM\u001b[1;34m(image1, image2)\u001b[0m\n",
      "\u001b[1;32m~\\anaconda3\\lib\\site-packages\\skimage\\metrics\\_structural_similarity.py\u001b[0m in \u001b[0;36mstructural_similarity\u001b[1;34m(im1, im2, win_size, gradient, data_range, multichannel, gaussian_weights, full, **kwargs)\u001b[0m\n\u001b[0;32m    106\u001b[0m         \u001b[1;32mfor\u001b[0m \u001b[0mch\u001b[0m \u001b[1;32min\u001b[0m \u001b[0mrange\u001b[0m\u001b[1;33m(\u001b[0m\u001b[0mnch\u001b[0m\u001b[1;33m)\u001b[0m\u001b[1;33m:\u001b[0m\u001b[1;33m\u001b[0m\u001b[1;33m\u001b[0m\u001b[0m\n\u001b[0;32m    107\u001b[0m             ch_result = structural_similarity(im1[..., ch],\n\u001b[1;32m--> 108\u001b[1;33m                                               im2[..., ch], **args)\n\u001b[0m\u001b[0;32m    109\u001b[0m             \u001b[1;32mif\u001b[0m \u001b[0mgradient\u001b[0m \u001b[1;32mand\u001b[0m \u001b[0mfull\u001b[0m\u001b[1;33m:\u001b[0m\u001b[1;33m\u001b[0m\u001b[1;33m\u001b[0m\u001b[0m\n\u001b[0;32m    110\u001b[0m                 \u001b[0mmssim\u001b[0m\u001b[1;33m[\u001b[0m\u001b[1;33m...\u001b[0m\u001b[1;33m,\u001b[0m \u001b[0mch\u001b[0m\u001b[1;33m]\u001b[0m\u001b[1;33m,\u001b[0m \u001b[0mG\u001b[0m\u001b[1;33m[\u001b[0m\u001b[1;33m...\u001b[0m\u001b[1;33m,\u001b[0m \u001b[0mch\u001b[0m\u001b[1;33m]\u001b[0m\u001b[1;33m,\u001b[0m \u001b[0mS\u001b[0m\u001b[1;33m[\u001b[0m\u001b[1;33m...\u001b[0m\u001b[1;33m,\u001b[0m \u001b[0mch\u001b[0m\u001b[1;33m]\u001b[0m \u001b[1;33m=\u001b[0m \u001b[0mch_result\u001b[0m\u001b[1;33m\u001b[0m\u001b[1;33m\u001b[0m\u001b[0m\n",
      "\u001b[1;32m~\\anaconda3\\lib\\site-packages\\skimage\\metrics\\_structural_similarity.py\u001b[0m in \u001b[0;36mstructural_similarity\u001b[1;34m(im1, im2, win_size, gradient, data_range, multichannel, gaussian_weights, full, **kwargs)\u001b[0m\n\u001b[0;32m    187\u001b[0m     \u001b[1;31m# compute (weighted) means\u001b[0m\u001b[1;33m\u001b[0m\u001b[1;33m\u001b[0m\u001b[1;33m\u001b[0m\u001b[0m\n\u001b[0;32m    188\u001b[0m     \u001b[0mux\u001b[0m \u001b[1;33m=\u001b[0m \u001b[0mfilter_func\u001b[0m\u001b[1;33m(\u001b[0m\u001b[0mim1\u001b[0m\u001b[1;33m,\u001b[0m \u001b[1;33m**\u001b[0m\u001b[0mfilter_args\u001b[0m\u001b[1;33m)\u001b[0m\u001b[1;33m\u001b[0m\u001b[1;33m\u001b[0m\u001b[0m\n\u001b[1;32m--> 189\u001b[1;33m     \u001b[0muy\u001b[0m \u001b[1;33m=\u001b[0m \u001b[0mfilter_func\u001b[0m\u001b[1;33m(\u001b[0m\u001b[0mim2\u001b[0m\u001b[1;33m,\u001b[0m \u001b[1;33m**\u001b[0m\u001b[0mfilter_args\u001b[0m\u001b[1;33m)\u001b[0m\u001b[1;33m\u001b[0m\u001b[1;33m\u001b[0m\u001b[0m\n\u001b[0m\u001b[0;32m    190\u001b[0m \u001b[1;33m\u001b[0m\u001b[0m\n\u001b[0;32m    191\u001b[0m     \u001b[1;31m# compute (weighted) variances and covariances\u001b[0m\u001b[1;33m\u001b[0m\u001b[1;33m\u001b[0m\u001b[1;33m\u001b[0m\u001b[0m\n",
      "\u001b[1;32m~\\anaconda3\\lib\\site-packages\\scipy\\ndimage\\filters.py\u001b[0m in \u001b[0;36muniform_filter\u001b[1;34m(input, size, output, mode, cval, origin)\u001b[0m\n\u001b[0;32m    851\u001b[0m         \u001b[1;32mfor\u001b[0m \u001b[0maxis\u001b[0m\u001b[1;33m,\u001b[0m \u001b[0msize\u001b[0m\u001b[1;33m,\u001b[0m \u001b[0morigin\u001b[0m\u001b[1;33m,\u001b[0m \u001b[0mmode\u001b[0m \u001b[1;32min\u001b[0m \u001b[0maxes\u001b[0m\u001b[1;33m:\u001b[0m\u001b[1;33m\u001b[0m\u001b[1;33m\u001b[0m\u001b[0m\n\u001b[0;32m    852\u001b[0m             uniform_filter1d(input, int(size), axis, output, mode,\n\u001b[1;32m--> 853\u001b[1;33m                              cval, origin)\n\u001b[0m\u001b[0;32m    854\u001b[0m             \u001b[0minput\u001b[0m \u001b[1;33m=\u001b[0m \u001b[0moutput\u001b[0m\u001b[1;33m\u001b[0m\u001b[1;33m\u001b[0m\u001b[0m\n\u001b[0;32m    855\u001b[0m     \u001b[1;32melse\u001b[0m\u001b[1;33m:\u001b[0m\u001b[1;33m\u001b[0m\u001b[1;33m\u001b[0m\u001b[0m\n",
      "\u001b[1;32m~\\anaconda3\\lib\\site-packages\\scipy\\ndimage\\filters.py\u001b[0m in \u001b[0;36muniform_filter1d\u001b[1;34m(input, size, axis, output, mode, cval, origin)\u001b[0m\n\u001b[0;32m    792\u001b[0m     \u001b[0mmode\u001b[0m \u001b[1;33m=\u001b[0m \u001b[0m_ni_support\u001b[0m\u001b[1;33m.\u001b[0m\u001b[0m_extend_mode_to_code\u001b[0m\u001b[1;33m(\u001b[0m\u001b[0mmode\u001b[0m\u001b[1;33m)\u001b[0m\u001b[1;33m\u001b[0m\u001b[1;33m\u001b[0m\u001b[0m\n\u001b[0;32m    793\u001b[0m     _nd_image.uniform_filter1d(input, size, axis, output, mode, cval,\n\u001b[1;32m--> 794\u001b[1;33m                                origin)\n\u001b[0m\u001b[0;32m    795\u001b[0m     \u001b[1;32mreturn\u001b[0m \u001b[0moutput\u001b[0m\u001b[1;33m\u001b[0m\u001b[1;33m\u001b[0m\u001b[0m\n\u001b[0;32m    796\u001b[0m \u001b[1;33m\u001b[0m\u001b[0m\n",
      "\u001b[1;31mKeyboardInterrupt\u001b[0m: "
     ]
    }
   ],
   "source": [
    "Best = Train(Frames[:10],Masks[:9],20,10,5)"
   ]
  },
  {
   "cell_type": "code",
   "execution_count": null,
   "id": "52140202",
   "metadata": {},
   "outputs": [],
   "source": [
    " Img = DrawInconsistancy1(Frames[:13],Mix_Metrics,Best.Mode,Best.Idx,Best.Weights)"
   ]
  },
  {
   "cell_type": "code",
   "execution_count": null,
   "id": "51861dca",
   "metadata": {},
   "outputs": [],
   "source": [
    "ThroughFrames(Img)"
   ]
  },
  {
   "cell_type": "code",
   "execution_count": null,
   "id": "a6728585",
   "metadata": {},
   "outputs": [],
   "source": []
  }
 ],
 "metadata": {
  "kernelspec": {
   "display_name": "Python 3",
   "language": "python",
   "name": "python3"
  },
  "language_info": {
   "codemirror_mode": {
    "name": "ipython",
    "version": 3
   },
   "file_extension": ".py",
   "mimetype": "text/x-python",
   "name": "python",
   "nbconvert_exporter": "python",
   "pygments_lexer": "ipython3",
   "version": "3.7.6"
  }
 },
 "nbformat": 4,
 "nbformat_minor": 5
}
