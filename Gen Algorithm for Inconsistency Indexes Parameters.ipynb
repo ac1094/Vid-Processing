{
 "cells": [
  {
   "cell_type": "code",
   "execution_count": 92,
   "id": "20d09879",
   "metadata": {},
   "outputs": [],
   "source": [
    "import import_ipynb\n",
    "from ConsistencyIndexes import *"
   ]
  },
  {
   "cell_type": "code",
   "execution_count": 93,
   "id": "ae0bad7e",
   "metadata": {},
   "outputs": [],
   "source": [
    "class ParamInvividual:\n",
    "    def __init__(self,N=2,idx=[CRC,Border_Err],W=[1,1],M=\"mean\"):\n",
    "        self.NIdx = N\n",
    "        self.Idx = idx\n",
    "        self.Weights = W\n",
    "        self.Mode = M\n",
    "        self.Score = 0"
   ]
  },
  {
   "cell_type": "code",
   "execution_count": 94,
   "id": "8cac2b10",
   "metadata": {},
   "outputs": [],
   "source": [
    "def CopyIndv(Inv):\n",
    "    return ParamInvividual(Inv.NIdx,Inv.Idx,Inv.Weights,Inv.Mode)"
   ]
  },
  {
   "cell_type": "code",
   "execution_count": 95,
   "id": "a242c9fd",
   "metadata": {},
   "outputs": [],
   "source": [
    "def Generator():\n",
    "    Indexes = [Abs_Dif,Gray_Dif,MSE,Border_Err,CRC]#,Entopy_Dif,TSNR,TSSIM,OF_EPE,OF_AE]\n",
    "    Modes = [\"mean\",\"log\",\"norm\",\"Z\"]\n",
    "    Nindex = random.sample(range(0,len(Indexes)),2)#random.randint(2,len(Indexes)))\n",
    "    Idx = [Indexes[i] for i in Nindex]\n",
    "    W = [random.uniform(0.1, 1) for _ in range(len(Nindex))]\n",
    "    M = Modes[random.randint(0,len(Modes)-1)]\n",
    "    return ParamInvividual(len(Nindex),Idx,W,M)"
   ]
  },
  {
   "cell_type": "code",
   "execution_count": 96,
   "id": "568a8e01",
   "metadata": {},
   "outputs": [],
   "source": [
    "def Gen_Population(N=100):\n",
    "    return [Generator() for _ in range(N)]"
   ]
  },
  {
   "cell_type": "code",
   "execution_count": 97,
   "id": "ad24716c",
   "metadata": {},
   "outputs": [],
   "source": [
    "def Evaluation(Individual,Frames,Targets):\n",
    "    Inc,Metric = InconsistentRegion(Frames,Mix_Metrics,Individual.Mode,Individual.Idx,Individual.Weights)\n",
    "    Inc = Inc[1:]\n",
    "    Dif = [abs(Inc[i]-Targets[i]) for i in range(len(Inc))]\n",
    "    return np.mean(sum(Dif)/len(Dif))# + Metric)"
   ]
  },
  {
   "cell_type": "code",
   "execution_count": 98,
   "id": "927c951d",
   "metadata": {},
   "outputs": [],
   "source": [
    "def Evaluate_Population(Population,Frames,Targets):\n",
    "    for i in range(len(Population)):\n",
    "        print(\"Pop: \",i+1,'/',len(Population),'\\n')\n",
    "        Population[i].Score = Evaluation(Population[i],Frames,Targets)"
   ]
  },
  {
   "cell_type": "code",
   "execution_count": 99,
   "id": "d7815c73",
   "metadata": {},
   "outputs": [],
   "source": [
    "def Read2Binary(path):\n",
    "    T = read_images(path)\n",
    "    T = [cv2.cvtColor(t,cv2.COLOR_RGB2GRAY) for t in T]\n",
    "    for t in T:\n",
    "        t[t>=150]=255\n",
    "        t[t<150]=0\n",
    "    return T"
   ]
  },
  {
   "cell_type": "code",
   "execution_count": 100,
   "id": "84fdfe26",
   "metadata": {},
   "outputs": [],
   "source": [
    "def Selection(Population,NTop=10):\n",
    "    Scores = [P.Score for P in Population]\n",
    "    Dictionary = dict(zip(Population, Scores))\n",
    "    Sorted = sorted(Dictionary.items(), key=lambda x: x[1])\n",
    "    return [key for key, value in Sorted[:NTop]]"
   ]
  },
  {
   "cell_type": "code",
   "execution_count": 101,
   "id": "6e5fae6f",
   "metadata": {},
   "outputs": [],
   "source": [
    "def Cross(Indv1,Indv2):\n",
    "    N = (Indv1.NIdx+Indv2.NIdx)//2\n",
    "    Dic = dict(zip(Indv1.Idx+Indv2.Idx,Indv1.Weights+Indv2.Weights))\n",
    "    idx = random.sample(list(Dic.keys()), N)\n",
    "    W = [Dic[key] for key in idx]\n",
    "    M = [Indv1.Mode,Indv2.Mode][random.randint(0,1)]\n",
    "    return ParamInvividual(N,idx,W,M)"
   ]
  },
  {
   "cell_type": "code",
   "execution_count": 102,
   "id": "7bc67126",
   "metadata": {},
   "outputs": [],
   "source": [
    "def Mutation(Indv):\n",
    "    I = CopyIndv(Indv)\n",
    "    I.Weights = [random.uniform(0.1, 10) for _ in range(Indv.NIdx)]\n",
    "    return I"
   ]
  },
  {
   "cell_type": "code",
   "execution_count": 103,
   "id": "c5cd0fc7",
   "metadata": {},
   "outputs": [],
   "source": [
    "def Gen_From_Top(N,Top):\n",
    "    Population = []\n",
    "    for n in range(N):\n",
    "        Op = random.randint(0,1)\n",
    "        if Op==0:\n",
    "            I = Cross(Top[random.randint(0,len(Top)-1)],Top[random.randint(0,len(Top)-1)])\n",
    "        else:\n",
    "            I = Mutation(Top[random.randint(0,len(Top)-1)])\n",
    "        Population.append(I)\n",
    "    return Population"
   ]
  },
  {
   "cell_type": "code",
   "execution_count": 104,
   "id": "95a40760",
   "metadata": {},
   "outputs": [],
   "source": [
    "def Train(Frames,Targets,NPop=5,Generations=3,NTop=3):\n",
    "    Population = Gen_Population(NPop)\n",
    "    Evaluate_Population(Population,Frames,Targets)\n",
    "    for G in range(Generations):\n",
    "        print(\"Gen: \",G+1,\"/\",Generations,'\\n')\n",
    "        Top = Selection(Population,NTop)\n",
    "        Children = Gen_From_Top(NPop-NTop,Top)\n",
    "        Evaluate_Population(Children,Frames,Targets)\n",
    "        Population = Top+Children\n",
    "    Top = Selection(Population,NTop)\n",
    "    return Top[0]"
   ]
  },
  {
   "cell_type": "code",
   "execution_count": 105,
   "id": "a29808d5",
   "metadata": {},
   "outputs": [],
   "source": [
    "Frames = read_images(\"saved_frames\")\n",
    "Frames[3] = Frames[3][:,:,:3]\n",
    "Frames[6] = Frames[6][:,:,:3]\n",
    "Frames[9] = Frames[9][:,:,:3]\n",
    "M = Read2Binary(\"Masks\")\n",
    "Masks = [np.zeros((M[0].shape[0],M[0].shape[1])) for _ in range(len(Frames)-1)]\n",
    "Masks[2] = M[0]\n",
    "Masks[5] = M[1]\n",
    "Masks[8] = M[2]"
   ]
  },
  {
   "cell_type": "code",
   "execution_count": 106,
   "id": "27982af0",
   "metadata": {},
   "outputs": [],
   "source": [
    "#Best = Train(Frames[:10],Masks[:9],50,10,15)"
   ]
  },
  {
   "cell_type": "code",
   "execution_count": 108,
   "id": "77ce4a1c",
   "metadata": {},
   "outputs": [
    {
     "name": "stdout",
     "output_type": "stream",
     "text": [
      "Pop:  1 / 10 \n",
      "\n",
      "Pop:  2 / 10 \n",
      "\n",
      "Pop:  3 / 10 \n",
      "\n",
      "Pop:  4 / 10 \n",
      "\n",
      "Pop:  5 / 10 \n",
      "\n",
      "Pop:  6 / 10 \n",
      "\n",
      "Pop:  7 / 10 \n",
      "\n",
      "Pop:  8 / 10 \n",
      "\n",
      "Pop:  9 / 10 \n",
      "\n",
      "Pop:  10 / 10 \n",
      "\n",
      "Gen:  1 / 10 \n",
      "\n",
      "Pop:  1 / 5 \n",
      "\n",
      "Pop:  2 / 5 9\n",
      "\n",
      "Pop:  3 / 5 9\n",
      "\n",
      "Pop:  4 / 5 9\n",
      "\n",
      "Pop:  5 / 5 9\n",
      "\n",
      "Gen:  2 / 10 \n",
      "\n",
      "Pop:  1 / 5 \n",
      "\n",
      "Pop:  2 / 5 9\n",
      "\n",
      "Pop:  3 / 5 9\n",
      "\n",
      "Pop:  4 / 5 9\n",
      "\n",
      "Pop:  5 / 5 9\n",
      "\n",
      "Gen:  3 / 10 \n",
      "\n",
      "Pop:  1 / 5 \n",
      "\n",
      "Pop:  2 / 5 9\n",
      "\n",
      "Pop:  3 / 5 9\n",
      "\n",
      "Pop:  4 / 5 9\n",
      "\n",
      "Pop:  5 / 5 9\n",
      "\n",
      "Gen:  4 / 10 \n",
      "\n",
      "Pop:  1 / 5 \n",
      "\n",
      "Pop:  2 / 5 9\n",
      "\n",
      "Frame:  5 / 9\r"
     ]
    },
    {
     "ename": "KeyboardInterrupt",
     "evalue": "",
     "output_type": "error",
     "traceback": [
      "\u001b[1;31m---------------------------------------------------------------------------\u001b[0m",
      "\u001b[1;31mKeyboardInterrupt\u001b[0m                         Traceback (most recent call last)",
      "\u001b[1;32m<ipython-input-108-6718c049a70a>\u001b[0m in \u001b[0;36m<module>\u001b[1;34m\u001b[0m\n\u001b[0;32m     10\u001b[0m     \u001b[0mTop\u001b[0m \u001b[1;33m=\u001b[0m \u001b[0mSelection\u001b[0m\u001b[1;33m(\u001b[0m\u001b[0mPopulation\u001b[0m\u001b[1;33m,\u001b[0m\u001b[0mNTop\u001b[0m\u001b[1;33m)\u001b[0m\u001b[1;33m\u001b[0m\u001b[1;33m\u001b[0m\u001b[0m\n\u001b[0;32m     11\u001b[0m     \u001b[0mChildren\u001b[0m \u001b[1;33m=\u001b[0m \u001b[0mGen_From_Top\u001b[0m\u001b[1;33m(\u001b[0m\u001b[0mNPop\u001b[0m\u001b[1;33m-\u001b[0m\u001b[0mNTop\u001b[0m\u001b[1;33m,\u001b[0m\u001b[0mTop\u001b[0m\u001b[1;33m)\u001b[0m\u001b[1;33m\u001b[0m\u001b[1;33m\u001b[0m\u001b[0m\n\u001b[1;32m---> 12\u001b[1;33m     \u001b[0mEvaluate_Population\u001b[0m\u001b[1;33m(\u001b[0m\u001b[0mChildren\u001b[0m\u001b[1;33m,\u001b[0m\u001b[0mFrames\u001b[0m\u001b[1;33m,\u001b[0m\u001b[0mTargets\u001b[0m\u001b[1;33m)\u001b[0m\u001b[1;33m\u001b[0m\u001b[1;33m\u001b[0m\u001b[0m\n\u001b[0m\u001b[0;32m     13\u001b[0m     \u001b[0mPopulation\u001b[0m \u001b[1;33m=\u001b[0m \u001b[0mTop\u001b[0m\u001b[1;33m+\u001b[0m\u001b[0mChildren\u001b[0m\u001b[1;33m\u001b[0m\u001b[1;33m\u001b[0m\u001b[0m\n\u001b[0;32m     14\u001b[0m \u001b[0mTop\u001b[0m \u001b[1;33m=\u001b[0m \u001b[0mSelection\u001b[0m\u001b[1;33m(\u001b[0m\u001b[0mPopulation\u001b[0m\u001b[1;33m,\u001b[0m\u001b[0mNTop\u001b[0m\u001b[1;33m)\u001b[0m\u001b[1;33m\u001b[0m\u001b[1;33m\u001b[0m\u001b[0m\n",
      "\u001b[1;32m<ipython-input-98-b592ce458412>\u001b[0m in \u001b[0;36mEvaluate_Population\u001b[1;34m(Population, Frames, Targets)\u001b[0m\n\u001b[0;32m      2\u001b[0m     \u001b[1;32mfor\u001b[0m \u001b[0mi\u001b[0m \u001b[1;32min\u001b[0m \u001b[0mrange\u001b[0m\u001b[1;33m(\u001b[0m\u001b[0mlen\u001b[0m\u001b[1;33m(\u001b[0m\u001b[0mPopulation\u001b[0m\u001b[1;33m)\u001b[0m\u001b[1;33m)\u001b[0m\u001b[1;33m:\u001b[0m\u001b[1;33m\u001b[0m\u001b[1;33m\u001b[0m\u001b[0m\n\u001b[0;32m      3\u001b[0m         \u001b[0mprint\u001b[0m\u001b[1;33m(\u001b[0m\u001b[1;34m\"Pop: \"\u001b[0m\u001b[1;33m,\u001b[0m\u001b[0mi\u001b[0m\u001b[1;33m+\u001b[0m\u001b[1;36m1\u001b[0m\u001b[1;33m,\u001b[0m\u001b[1;34m'/'\u001b[0m\u001b[1;33m,\u001b[0m\u001b[0mlen\u001b[0m\u001b[1;33m(\u001b[0m\u001b[0mPopulation\u001b[0m\u001b[1;33m)\u001b[0m\u001b[1;33m,\u001b[0m\u001b[1;34m'\\n'\u001b[0m\u001b[1;33m)\u001b[0m\u001b[1;33m\u001b[0m\u001b[1;33m\u001b[0m\u001b[0m\n\u001b[1;32m----> 4\u001b[1;33m         \u001b[0mPopulation\u001b[0m\u001b[1;33m[\u001b[0m\u001b[0mi\u001b[0m\u001b[1;33m]\u001b[0m\u001b[1;33m.\u001b[0m\u001b[0mScore\u001b[0m \u001b[1;33m=\u001b[0m \u001b[0mEvaluation\u001b[0m\u001b[1;33m(\u001b[0m\u001b[0mPopulation\u001b[0m\u001b[1;33m[\u001b[0m\u001b[0mi\u001b[0m\u001b[1;33m]\u001b[0m\u001b[1;33m,\u001b[0m\u001b[0mFrames\u001b[0m\u001b[1;33m,\u001b[0m\u001b[0mTargets\u001b[0m\u001b[1;33m)\u001b[0m\u001b[1;33m\u001b[0m\u001b[1;33m\u001b[0m\u001b[0m\n\u001b[0m",
      "\u001b[1;32m<ipython-input-97-80698a4fc847>\u001b[0m in \u001b[0;36mEvaluation\u001b[1;34m(Individual, Frames, Targets)\u001b[0m\n\u001b[0;32m      1\u001b[0m \u001b[1;32mdef\u001b[0m \u001b[0mEvaluation\u001b[0m\u001b[1;33m(\u001b[0m\u001b[0mIndividual\u001b[0m\u001b[1;33m,\u001b[0m\u001b[0mFrames\u001b[0m\u001b[1;33m,\u001b[0m\u001b[0mTargets\u001b[0m\u001b[1;33m)\u001b[0m\u001b[1;33m:\u001b[0m\u001b[1;33m\u001b[0m\u001b[1;33m\u001b[0m\u001b[0m\n\u001b[1;32m----> 2\u001b[1;33m     \u001b[0mInc\u001b[0m\u001b[1;33m,\u001b[0m\u001b[0mMetric\u001b[0m \u001b[1;33m=\u001b[0m \u001b[0mInconsistentRegion\u001b[0m\u001b[1;33m(\u001b[0m\u001b[0mFrames\u001b[0m\u001b[1;33m,\u001b[0m\u001b[0mMix_Metrics\u001b[0m\u001b[1;33m,\u001b[0m\u001b[0mIndividual\u001b[0m\u001b[1;33m.\u001b[0m\u001b[0mMode\u001b[0m\u001b[1;33m,\u001b[0m\u001b[0mIndividual\u001b[0m\u001b[1;33m.\u001b[0m\u001b[0mIdx\u001b[0m\u001b[1;33m,\u001b[0m\u001b[0mIndividual\u001b[0m\u001b[1;33m.\u001b[0m\u001b[0mWeights\u001b[0m\u001b[1;33m)\u001b[0m\u001b[1;33m\u001b[0m\u001b[1;33m\u001b[0m\u001b[0m\n\u001b[0m\u001b[0;32m      3\u001b[0m     \u001b[0mInc\u001b[0m \u001b[1;33m=\u001b[0m \u001b[0mInc\u001b[0m\u001b[1;33m[\u001b[0m\u001b[1;36m1\u001b[0m\u001b[1;33m:\u001b[0m\u001b[1;33m]\u001b[0m\u001b[1;33m\u001b[0m\u001b[1;33m\u001b[0m\u001b[0m\n\u001b[0;32m      4\u001b[0m     \u001b[0mDif\u001b[0m \u001b[1;33m=\u001b[0m \u001b[1;33m[\u001b[0m\u001b[0mabs\u001b[0m\u001b[1;33m(\u001b[0m\u001b[0mInc\u001b[0m\u001b[1;33m[\u001b[0m\u001b[0mi\u001b[0m\u001b[1;33m]\u001b[0m\u001b[1;33m-\u001b[0m\u001b[0mTargets\u001b[0m\u001b[1;33m[\u001b[0m\u001b[0mi\u001b[0m\u001b[1;33m]\u001b[0m\u001b[1;33m)\u001b[0m \u001b[1;32mfor\u001b[0m \u001b[0mi\u001b[0m \u001b[1;32min\u001b[0m \u001b[0mrange\u001b[0m\u001b[1;33m(\u001b[0m\u001b[0mlen\u001b[0m\u001b[1;33m(\u001b[0m\u001b[0mInc\u001b[0m\u001b[1;33m)\u001b[0m\u001b[1;33m)\u001b[0m\u001b[1;33m]\u001b[0m\u001b[1;33m\u001b[0m\u001b[1;33m\u001b[0m\u001b[0m\n\u001b[0;32m      5\u001b[0m     \u001b[1;32mreturn\u001b[0m \u001b[0mnp\u001b[0m\u001b[1;33m.\u001b[0m\u001b[0mmean\u001b[0m\u001b[1;33m(\u001b[0m\u001b[0msum\u001b[0m\u001b[1;33m(\u001b[0m\u001b[0mDif\u001b[0m\u001b[1;33m)\u001b[0m\u001b[1;33m/\u001b[0m\u001b[0mlen\u001b[0m\u001b[1;33m(\u001b[0m\u001b[0mDif\u001b[0m\u001b[1;33m)\u001b[0m\u001b[1;33m)\u001b[0m\u001b[1;31m# + Metric)\u001b[0m\u001b[1;33m\u001b[0m\u001b[1;33m\u001b[0m\u001b[0m\n",
      "\u001b[1;32m~\\Desktop\\Video Processing\\ConsistencyIndexes.ipynb\u001b[0m in \u001b[0;36mInconsistentRegion\u001b[1;34m(F, Func, op, M, W)\u001b[0m\n",
      "\u001b[1;32m~\\Desktop\\Video Processing\\ConsistencyIndexes.ipynb\u001b[0m in \u001b[0;36mWMax_Inconsistency\u001b[1;34m(img1, img2, wsize, step, Func, op, M, Weights)\u001b[0m\n",
      "\u001b[1;32m~\\Desktop\\Video Processing\\ConsistencyIndexes.ipynb\u001b[0m in \u001b[0;36mMix_Metrics\u001b[1;34m(image1, image2, op, M, W)\u001b[0m\n",
      "\u001b[1;32m~\\Desktop\\Video Processing\\ConsistencyIndexes.ipynb\u001b[0m in \u001b[0;36mCRC\u001b[1;34m(image1, image2)\u001b[0m\n",
      "\u001b[1;31mKeyboardInterrupt\u001b[0m: "
     ]
    }
   ],
   "source": [
    "NPop = 10\n",
    "Targets = Masks[:9]\n",
    "Frames = Frames[:10]\n",
    "Generations = 10\n",
    "NTop = 5\n",
    "Population = Gen_Population(NPop)\n",
    "Evaluate_Population(Population,Frames,Targets)\n",
    "for G in range(Generations):\n",
    "    print(\"Gen: \",G+1,\"/\",Generations,'\\n')\n",
    "    Top = Selection(Population,NTop)\n",
    "    Children = Gen_From_Top(NPop-NTop,Top)\n",
    "    Evaluate_Population(Children,Frames,Targets)\n",
    "    Population = Top+Children\n",
    "Top = Selection(Population,NTop)"
   ]
  },
  {
   "cell_type": "code",
   "execution_count": 109,
   "id": "25111f18",
   "metadata": {},
   "outputs": [],
   "source": [
    "Best = Top[0]"
   ]
  },
  {
   "cell_type": "code",
   "execution_count": 110,
   "id": "8812f610",
   "metadata": {},
   "outputs": [
    {
     "name": "stdout",
     "output_type": "stream",
     "text": [
      "Frame:  9 / 9\r"
     ]
    }
   ],
   "source": [
    " Img = DrawInconsistancy1(Frames[:13],Mix_Metrics,Best.Mode,Best.Idx,Best.Weights)"
   ]
  },
  {
   "cell_type": "code",
   "execution_count": 111,
   "id": "2634acda",
   "metadata": {},
   "outputs": [],
   "source": [
    "ThroughFrames(Img)"
   ]
  },
  {
   "cell_type": "code",
   "execution_count": 112,
   "id": "f351b070",
   "metadata": {},
   "outputs": [
    {
     "data": {
      "text/plain": [
       "('mean',\n",
       " [<function ConsistencyIndexes.Gray_Dif(image1, image2)>,\n",
       "  <function ConsistencyIndexes.CRC(image1, image2)>],\n",
       " [0.22467344683611584, 0.5673037121649521])"
      ]
     },
     "execution_count": 112,
     "metadata": {},
     "output_type": "execute_result"
    }
   ],
   "source": [
    "Best.Mode,Best.Idx,Best.Weights"
   ]
  },
  {
   "cell_type": "markdown",
   "id": "72823989",
   "metadata": {},
   "source": [
    "('mean',\n",
    " [<function ConsistencyIndexes.CRC(image1, image2)>,\n",
    "  <function ConsistencyIndexes.Gray_Dif(image1, image2)>],\n",
    " [0.6206048025607019, 0.508216164936656])"
   ]
  },
  {
   "cell_type": "markdown",
   "id": "f40606e9",
   "metadata": {},
   "source": [
    "('log',\n",
    " [<function ConsistencyIndexes.MSE(image1, image2)>,\n",
    "  <function ConsistencyIndexes.Entopy_Dif(image1, image2)>,\n",
    "  <function ConsistencyIndexes.CRC(image1, image2)>],\n",
    " [0.6795718573404556, 0.3460195810616382, 0.9312673477407468])"
   ]
  },
  {
   "cell_type": "markdown",
   "id": "89387583",
   "metadata": {},
   "source": [
    "('mean',\n",
    " [<function ConsistencyIndexes.Gray_Dif(image1, image2)>,\n",
    "  <function ConsistencyIndexes.CRC(image1, image2)>],\n",
    " [0.22467344683611584, 0.5673037121649521])"
   ]
  },
  {
   "cell_type": "code",
   "execution_count": null,
   "id": "234973a7",
   "metadata": {},
   "outputs": [],
   "source": [
    "# If Mask is zeros add to diff"
   ]
  }
 ],
 "metadata": {
  "kernelspec": {
   "display_name": "Python 3",
   "language": "python",
   "name": "python3"
  },
  "language_info": {
   "codemirror_mode": {
    "name": "ipython",
    "version": 3
   },
   "file_extension": ".py",
   "mimetype": "text/x-python",
   "name": "python",
   "nbconvert_exporter": "python",
   "pygments_lexer": "ipython3",
   "version": "3.7.6"
  }
 },
 "nbformat": 4,
 "nbformat_minor": 5
}
