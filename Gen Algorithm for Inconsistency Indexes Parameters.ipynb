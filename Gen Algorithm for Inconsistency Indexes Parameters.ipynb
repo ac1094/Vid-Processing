{
 "cells": [
  {
   "cell_type": "code",
   "execution_count": 1,
   "id": "6f8400c6",
   "metadata": {},
   "outputs": [
    {
     "name": "stdout",
     "output_type": "stream",
     "text": [
      "importing Jupyter notebook from ConsistencyIndexes.ipynb\n",
      "importing Jupyter notebook from Functions.ipynb\n"
     ]
    }
   ],
   "source": [
    "import import_ipynb\n",
    "from ConsistencyIndexes import *"
   ]
  },
  {
   "cell_type": "code",
   "execution_count": 2,
   "id": "42dcd7ba",
   "metadata": {},
   "outputs": [],
   "source": [
    "class ParamInvividual:\n",
    "    def __init__(self,N=2,idx=[CRC,Border_Err],W=[1,1],M=\"mean\"):\n",
    "        self.NIdx = N\n",
    "        self.Idx = idx\n",
    "        self.Weights = W\n",
    "        self.Mode = M\n",
    "        self.Score = 0"
   ]
  },
  {
   "cell_type": "code",
   "execution_count": 3,
   "id": "2ddafcd5",
   "metadata": {},
   "outputs": [],
   "source": [
    "@numba.jit\n",
    "def CopyIndv(Inv):\n",
    "    return ParamInvividual(Inv.NIdx,Inv.Idx,Inv.Weights,Inv.Mode)"
   ]
  },
  {
   "cell_type": "code",
   "execution_count": 7,
   "id": "b1d9f324",
   "metadata": {},
   "outputs": [],
   "source": [
    "@numba.jit\n",
    "def Generator():\n",
    "    Indexes = [Abs_Dif,Gray_Dif,MSE,Border_Err,CRC,Entropy_Dif,Freq_Dif,TSNR,TSSIM,OF_EPE,OF_AE]\n",
    "    Modes = [\"mean\",\"log\",\"norm\",\"Z\"]\n",
    "    Nindex = random.sample(range(0,len(Indexes)),random.randint(2,3))\n",
    "    Idx = [Indexes[i] for i in Nindex]\n",
    "    W = [random.uniform(0.1, 1) for _ in range(len(Nindex))]\n",
    "    M = Modes[random.randint(0,len(Modes)-1)]\n",
    "    return ParamInvividual(len(Nindex),Idx,W,M)"
   ]
  },
  {
   "cell_type": "code",
   "execution_count": 8,
   "id": "81b4480b",
   "metadata": {},
   "outputs": [],
   "source": [
    "@numba.jit\n",
    "def Gen_Population(N=100):\n",
    "    return [Generator() for _ in range(N)]"
   ]
  },
  {
   "cell_type": "code",
   "execution_count": 9,
   "id": "817a08eb",
   "metadata": {},
   "outputs": [],
   "source": [
    "@numba.jit\n",
    "def Evaluation(Individual,Frames,Targets):\n",
    "    Inc,Metric = InconsistentRegion(Frames,Mix_Metrics,Individual.Mode,Individual.Idx,Individual.Weights)\n",
    "    Inc = Inc[1:]\n",
    "    Dif = [abs(Inc[i]-Targets[i]) for i in range(len(Inc))]\n",
    "    return np.mean(sum(Dif)/len(Dif)) #+ sum([0 if d.all()==np.zeros_like(Targets[0]).all() else 1 for d in Targets])# + Metric)"
   ]
  },
  {
   "cell_type": "code",
   "execution_count": 10,
   "id": "8a66f2e8",
   "metadata": {},
   "outputs": [],
   "source": [
    "@numba.jit\n",
    "def Evaluate_Population(Population,Frames,Targets):\n",
    "    for i in range(len(Population)):\n",
    "        print(\"Pop: \",i+1,'/',len(Population),end='\\r')\n",
    "        Population[i].Score = Evaluation(Population[i],Frames,Targets)"
   ]
  },
  {
   "cell_type": "code",
   "execution_count": 11,
   "id": "f16ed92b",
   "metadata": {},
   "outputs": [],
   "source": [
    "@numba.jit\n",
    "def Read2Binary(path):\n",
    "    T = read_images(path)\n",
    "    T = [cv2.cvtColor(t,cv2.COLOR_RGB2GRAY) for t in T]\n",
    "    for t in T:\n",
    "        t[t>=150]=255\n",
    "        t[t<150]=0\n",
    "    return T"
   ]
  },
  {
   "cell_type": "code",
   "execution_count": 12,
   "id": "fc74fc58",
   "metadata": {},
   "outputs": [],
   "source": [
    "def Selection(Population,NTop=10):\n",
    "    Scores = [P.Score for P in Population]\n",
    "    Dictionary = dict(zip(Population, Scores))\n",
    "    Sorted = sorted(Dictionary.items(), key=lambda x: x[1])\n",
    "    return [key for key, value in Sorted[:NTop]]"
   ]
  },
  {
   "cell_type": "code",
   "execution_count": 13,
   "id": "b0795012",
   "metadata": {},
   "outputs": [],
   "source": [
    "@numba.jit\n",
    "def Cross(Indv1,Indv2):\n",
    "    N = (Indv1.NIdx+Indv2.NIdx)//2\n",
    "    Dic = dict(zip(Indv1.Idx+Indv2.Idx,Indv1.Weights+Indv2.Weights))\n",
    "    idx = random.sample(list(Dic.keys()), N)\n",
    "    W = [Dic[key] for key in idx]\n",
    "    M = [Indv1.Mode,Indv2.Mode][random.randint(0,1)]\n",
    "    return ParamInvividual(N,idx,W,M)"
   ]
  },
  {
   "cell_type": "code",
   "execution_count": 14,
   "id": "61050a58",
   "metadata": {},
   "outputs": [],
   "source": [
    "@numba.jit\n",
    "def Mutation(Indv):\n",
    "    I = CopyIndv(Indv)\n",
    "    if random.randint(0,1)==0:\n",
    "        I.Weights = [random.uniform(0.1, 10) for _ in range(Indv.NIdx)]\n",
    "        return I\n",
    "    else:\n",
    "        return Generator()"
   ]
  },
  {
   "cell_type": "code",
   "execution_count": 15,
   "id": "5e15a24b",
   "metadata": {},
   "outputs": [],
   "source": [
    "@numba.jit\n",
    "def Gen_From_Top(N,Top):\n",
    "    Population = []\n",
    "    for n in range(N):\n",
    "        Op = random.randint(0,1)\n",
    "        if Op==0:\n",
    "            I = Cross(Top[random.randint(0,len(Top)-1)],Top[random.randint(0,len(Top)-1)])\n",
    "        else:\n",
    "            I = Mutation(Top[random.randint(0,len(Top)-1)])\n",
    "        Population.append(I)\n",
    "    return Population"
   ]
  },
  {
   "cell_type": "code",
   "execution_count": 16,
   "id": "a6732516",
   "metadata": {},
   "outputs": [],
   "source": [
    "@numba.jit\n",
    "def Train(Frames,Targets,NPop=5,Generations=3,NTop=3):\n",
    "    Population = Gen_Population(NPop)\n",
    "    Evaluate_Population(Population,Frames,Targets)\n",
    "    for G in range(Generations):\n",
    "        print(\"Gen: \",G+1,\"/\",Generations,'\\n')\n",
    "        Top = Selection(Population,NTop)\n",
    "        Children = Gen_From_Top(NPop-NTop,Top)\n",
    "        Evaluate_Population(Children,Frames,Targets)\n",
    "        Population = Top+Children\n",
    "    Top = Selection(Population,NTop)\n",
    "    return Top[0]"
   ]
  },
  {
   "cell_type": "code",
   "execution_count": 17,
   "id": "22812f05",
   "metadata": {},
   "outputs": [],
   "source": [
    "# If Mask is zeros add to diff"
   ]
  },
  {
   "cell_type": "code",
   "execution_count": 18,
   "id": "93bdcaf4",
   "metadata": {},
   "outputs": [],
   "source": [
    "Frames = read_images(\"saved_frames\")"
   ]
  },
  {
   "cell_type": "code",
   "execution_count": 19,
   "id": "2c9e6027",
   "metadata": {},
   "outputs": [],
   "source": [
    "I,B = AddInc(Frames)"
   ]
  },
  {
   "cell_type": "code",
   "execution_count": 20,
   "id": "655c3847",
   "metadata": {},
   "outputs": [
    {
     "data": {
      "text/plain": [
       "69"
      ]
     },
     "execution_count": 20,
     "metadata": {},
     "output_type": "execute_result"
    }
   ],
   "source": [
    "len(I)"
   ]
  },
  {
   "cell_type": "code",
   "execution_count": 21,
   "id": "9c78d3db",
   "metadata": {},
   "outputs": [
    {
     "name": "stdout",
     "output_type": "stream",
     "text": [
      "Gen:  1 / 15 \n",
      "\n",
      "Pop:  4 / 10\r"
     ]
    },
    {
     "ename": "KeyboardInterrupt",
     "evalue": "",
     "output_type": "error",
     "traceback": [
      "\u001b[1;31m---------------------------------------------------------------------------\u001b[0m",
      "\u001b[1;31mKeyboardInterrupt\u001b[0m                         Traceback (most recent call last)",
      "\u001b[1;32m<ipython-input-21-7650feb0a3d0>\u001b[0m in \u001b[0;36m<module>\u001b[1;34m\u001b[0m\n\u001b[1;32m----> 1\u001b[1;33m \u001b[0mBest\u001b[0m \u001b[1;33m=\u001b[0m \u001b[0mTrain\u001b[0m\u001b[1;33m(\u001b[0m\u001b[0mI\u001b[0m\u001b[1;33m[\u001b[0m\u001b[1;33m:\u001b[0m\u001b[1;36m15\u001b[0m\u001b[1;33m]\u001b[0m\u001b[1;33m,\u001b[0m\u001b[0mB\u001b[0m\u001b[1;33m[\u001b[0m\u001b[1;33m:\u001b[0m\u001b[1;36m14\u001b[0m\u001b[1;33m]\u001b[0m\u001b[1;33m,\u001b[0m\u001b[1;36m20\u001b[0m\u001b[1;33m,\u001b[0m\u001b[1;36m15\u001b[0m\u001b[1;33m,\u001b[0m\u001b[1;36m10\u001b[0m\u001b[1;33m)\u001b[0m\u001b[1;33m\u001b[0m\u001b[1;33m\u001b[0m\u001b[0m\n\u001b[0m",
      "\u001b[1;32m<__array_function__ internals>\u001b[0m in \u001b[0;36mhistogram\u001b[1;34m(*args, **kwargs)\u001b[0m\n",
      "\u001b[1;32m~\\anaconda3\\lib\\site-packages\\numpy\\lib\\histograms.py\u001b[0m in \u001b[0;36mhistogram\u001b[1;34m(a, bins, range, normed, weights, density)\u001b[0m\n\u001b[0;32m    870\u001b[0m             \u001b[1;32melse\u001b[0m\u001b[1;33m:\u001b[0m\u001b[1;33m\u001b[0m\u001b[1;33m\u001b[0m\u001b[0m\n\u001b[0;32m    871\u001b[0m                 n += np.bincount(indices, weights=tmp_w,\n\u001b[1;32m--> 872\u001b[1;33m                                  minlength=n_equal_bins).astype(ntype)\n\u001b[0m\u001b[0;32m    873\u001b[0m     \u001b[1;32melse\u001b[0m\u001b[1;33m:\u001b[0m\u001b[1;33m\u001b[0m\u001b[1;33m\u001b[0m\u001b[0m\n\u001b[0;32m    874\u001b[0m         \u001b[1;31m# Compute via cumulative histogram\u001b[0m\u001b[1;33m\u001b[0m\u001b[1;33m\u001b[0m\u001b[1;33m\u001b[0m\u001b[0m\n",
      "\u001b[1;32m<__array_function__ internals>\u001b[0m in \u001b[0;36mbincount\u001b[1;34m(*args, **kwargs)\u001b[0m\n",
      "\u001b[1;31mKeyboardInterrupt\u001b[0m: "
     ]
    }
   ],
   "source": [
    "Best = Train(I[:15],B[:14],20,15,10)"
   ]
  },
  {
   "cell_type": "code",
   "execution_count": null,
   "id": "adb4a7a5",
   "metadata": {},
   "outputs": [],
   "source": [
    "Best.Mode,Best.Idx,Best.Weights"
   ]
  },
  {
   "cell_type": "code",
   "execution_count": null,
   "id": "d534ce0b",
   "metadata": {},
   "outputs": [],
   "source": [
    "Img = DrawInconsistancy1(I[:25],Mix_Metrics,Best.Mode,Best.Idx,Best.Weights)\n",
    "ThroughFrames(Img)"
   ]
  },
  {
   "cell_type": "code",
   "execution_count": null,
   "id": "958ef1da",
   "metadata": {},
   "outputs": [],
   "source": [
    "Img = DrawInconsistancy1(I[:25],Mix_Metrics,\"mean\",[CRC,Gray_Dif],[0.6206048025607019, 0.508216164936656])\n",
    "ThroughFrames(Img)"
   ]
  },
  {
   "cell_type": "code",
   "execution_count": null,
   "id": "4e4b5236",
   "metadata": {},
   "outputs": [],
   "source": [
    "Img = DrawInconsistancy1(I[:25],Mix_Metrics,\"log\",[MSE,Entopy_Dif,CRC], [0.6795718573404556, 0.3460195810616382, 0.9312673477407468])\n",
    "ThroughFrames(Img)"
   ]
  },
  {
   "cell_type": "code",
   "execution_count": null,
   "id": "0a15c801",
   "metadata": {},
   "outputs": [],
   "source": [
    "Img = DrawInconsistancy1(I[:25],Mix_Metrics,\"log\",[Entopy_Dif,CRC],  [0.7347384902639871, 0.3513275883482687])\n",
    "ThroughFrames(Img)"
   ]
  },
  {
   "cell_type": "markdown",
   "id": "d29d5d24",
   "metadata": {},
   "source": [
    "('mean',\n",
    " [<function ConsistencyIndexes.CRC(image1, image2)>,\n",
    "  <function ConsistencyIndexes.Gray_Dif(image1, image2)>],\n",
    " [0.6206048025607019, 0.508216164936656])"
   ]
  },
  {
   "cell_type": "markdown",
   "id": "b1650ae6",
   "metadata": {},
   "source": [
    "('log',\n",
    " [<function ConsistencyIndexes.MSE(image1, image2)>,\n",
    "  <function ConsistencyIndexes.Entopy_Dif(image1, image2)>,\n",
    "  <function ConsistencyIndexes.CRC(image1, image2)>],\n",
    " [0.6795718573404556, 0.3460195810616382, 0.9312673477407468])"
   ]
  },
  {
   "cell_type": "markdown",
   "id": "db573090",
   "metadata": {},
   "source": [
    "('mean',\n",
    " [<function ConsistencyIndexes.Gray_Dif(image1, image2)>,\n",
    "  <function ConsistencyIndexes.CRC(image1, image2)>],\n",
    " [0.22467344683611584, 0.5673037121649521])"
   ]
  },
  {
   "cell_type": "markdown",
   "id": "0eaef60c",
   "metadata": {},
   "source": [
    "('log',\n",
    " [<function ConsistencyIndexes.Entopy_Dif(image1, image2)>,\n",
    "  <function ConsistencyIndexes.CRC(image1, image2)>],\n",
    " [0.7347384902639871, 0.3513275883482687])"
   ]
  },
  {
   "cell_type": "markdown",
   "id": "493a1b60",
   "metadata": {},
   "source": [
    "Seguimiento de error en frames consecutivos<br>\n",
    "Filtros diferentes de cartoonization<br>\n",
    "OF en bordes<br>\n",
    "Fracuencias en Imagenes<br>\n",
    "Diferencia en imagen real y caricaturizada<br>\n"
   ]
  },
  {
   "cell_type": "code",
   "execution_count": 26,
   "id": "0f99b57f",
   "metadata": {},
   "outputs": [],
   "source": [
    "@numba.jit\n",
    "def calculate_optical_flow_difference(img1, img2, img3):\n",
    "    # Check if images are the same size\n",
    "    if img1.shape != img2.shape or img2.shape != img3.shape:\n",
    "        raise ValueError(\"All images must be of the same size\")\n",
    "\n",
    "    # Apply Canny edge detection\n",
    "    edges1 = cv2.Canny(img1, 100, 200)\n",
    "    edges2 = cv2.Canny(img2, 100, 200)\n",
    "    edges3 = cv2.Canny(img3, 100, 200)\n",
    "\n",
    "    # Compute optical flow between the first and second images\n",
    "    flow1 = cv2.calcOpticalFlowFarneback(edges1, edges2, None, 0.5, 3, 15, 3, 5, 1.2, 0)\n",
    "\n",
    "    # Compute optical flow between the second and third images\n",
    "    flow2 = cv2.calcOpticalFlowFarneback(edges2, edges3, None, 0.5, 3, 15, 3, 5, 1.2, 0)\n",
    "\n",
    "    # Compute the magnitude and angle of the optical flow vectors for both flows\n",
    "    magnitude1 = np.sqrt(flow1[..., 0]**2 + flow1[..., 1]**2)\n",
    "    angle1 = np.arctan2(flow1[..., 1], flow1[..., 0])\n",
    "    \n",
    "    magnitude2 = np.sqrt(flow2[..., 0]**2 + flow2[..., 1]**2)\n",
    "    angle2 = np.arctan2(flow2[..., 1], flow2[..., 0])\n",
    "\n",
    "    # Compute the difference between the two optical flows\n",
    "    magnitude_diff = np.abs(magnitude1 - magnitude2)\n",
    "    angle_diff = np.abs(angle1 - angle2)\n",
    "\n",
    "    # Normalize differences\n",
    "    magnitude_index = np.sum(magnitude_diff) / (magnitude1.size + 1e-6)  # Avoid division by zero\n",
    "    angle_index = np.sum(angle_diff) / (angle1.size + 1e-6)  # Avoid division by zero\n",
    "\n",
    "    # Combine magnitude and angle differences\n",
    "    difference_index = magnitude_index + angle_index\n",
    "\n",
    "    return difference_index"
   ]
  },
  {
   "cell_type": "code",
   "execution_count": null,
   "id": "ae615a74",
   "metadata": {},
   "outputs": [],
   "source": []
  }
 ],
 "metadata": {
  "kernelspec": {
   "display_name": "Python 3",
   "language": "python",
   "name": "python3"
  },
  "language_info": {
   "codemirror_mode": {
    "name": "ipython",
    "version": 3
   },
   "file_extension": ".py",
   "mimetype": "text/x-python",
   "name": "python",
   "nbconvert_exporter": "python",
   "pygments_lexer": "ipython3",
   "version": "3.7.6"
  }
 },
 "nbformat": 4,
 "nbformat_minor": 5
}
