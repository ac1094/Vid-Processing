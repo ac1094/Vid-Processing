{
 "cells": [
  {
   "cell_type": "code",
   "execution_count": 1,
   "id": "2b28baf4",
   "metadata": {},
   "outputs": [
    {
     "name": "stdout",
     "output_type": "stream",
     "text": [
      "importing Jupyter notebook from ConsistencyIndexes.ipynb\n",
      "importing Jupyter notebook from Functions.ipynb\n"
     ]
    }
   ],
   "source": [
    "import import_ipynb\n",
    "from ConsistencyIndexes import *"
   ]
  },
  {
   "cell_type": "code",
   "execution_count": 2,
   "id": "c973ff86",
   "metadata": {},
   "outputs": [],
   "source": [
    "class ParamInvividual:\n",
    "    def __init__(self,N=2,idx=[CRC,Border_Err],W=[1,1],M=\"mean\"):\n",
    "        self.NIdx = N\n",
    "        self.Idx = idx\n",
    "        self.Weights = W\n",
    "        self.Mode = M\n",
    "        self.Score = 0"
   ]
  },
  {
   "cell_type": "code",
   "execution_count": 3,
   "id": "1e9e9017",
   "metadata": {},
   "outputs": [],
   "source": [
    "def Generator():\n",
    "    Indexes = [TSNR,Abs_Dif,OF_EPE,OF_AE,Gray_Dif,TSSIM,MSE,Border_Err,CRC,Entopy_Dif]\n",
    "    Modes = [\"mean\",\"log\",\"norm\",\"Z\"]\n",
    "    Nindex = random.sample(range(0,len(Indexes)),random.randint(2,len(Indexes)))\n",
    "    Idx = [Indexes[i] for i in range(len(Nindex))]\n",
    "    W = [random.uniform(0.1, 10) for _ in range(len(Nindex))]\n",
    "    M = Modes[random.randint(0,len(Modes)-1)]\n",
    "    return ParamInvividual(len(Nindex),Idx,W,M)"
   ]
  },
  {
   "cell_type": "code",
   "execution_count": 4,
   "id": "dc04192c",
   "metadata": {},
   "outputs": [],
   "source": [
    "def Gen_Population(N=100):\n",
    "    return [Generator() for _ in range(N)]"
   ]
  },
  {
   "cell_type": "code",
   "execution_count": 15,
   "id": "5ee36acb",
   "metadata": {},
   "outputs": [],
   "source": [
    "def Evaluation(Individual,Frames,Targets):\n",
    "    Inc,Metric = InconsistentRegion(Frames,Mix_Metrics,Individual.Mode,Individual.Idx,Individual.Weights)\n",
    "    Inc = Inc[1:]\n",
    "    Dif = [abs(Inc[i]-Targets[i]) for i in range(len(Inc))]\n",
    "    return np.mean(sum(Dif)/len(Dif))# + Metric)"
   ]
  },
  {
   "cell_type": "code",
   "execution_count": 21,
   "id": "e73b8cec",
   "metadata": {},
   "outputs": [],
   "source": [
    "def Evaluate_Population(Population,Frames,Targets):\n",
    "    for P in Population:\n",
    "        P.Score = Evaluation(P,Frames,Targets)"
   ]
  },
  {
   "cell_type": "code",
   "execution_count": 6,
   "id": "48dec037",
   "metadata": {},
   "outputs": [],
   "source": [
    "def Read2Binary(path):\n",
    "    T = read_images(path)\n",
    "    T = [cv2.cvtColor(t,cv2.COLOR_RGB2GRAY) for t in T]\n",
    "    for t in T:\n",
    "        t[t>=150]=255\n",
    "        t[t<150]=0\n",
    "    return T"
   ]
  },
  {
   "cell_type": "code",
   "execution_count": 9,
   "id": "e9481127",
   "metadata": {},
   "outputs": [],
   "source": [
    "def Selection(Population,NTop=10):\n",
    "    Scores = [P.Score for P in Popu]\n",
    "    Dictionary = dict(zip(Popu, Scores))\n",
    "    Sorted = sorted(Dictionary.items(), key=lambda x: x[1], reverse=True)\n",
    "    return [key for key, value in Sorted[:NTop]]"
   ]
  },
  {
   "cell_type": "code",
   "execution_count": 10,
   "id": "3462a4aa",
   "metadata": {},
   "outputs": [],
   "source": [
    "def Cross(Indv1,Indv2):\n",
    "    return"
   ]
  },
  {
   "cell_type": "code",
   "execution_count": 11,
   "id": "a39fabe3",
   "metadata": {},
   "outputs": [],
   "source": [
    "def Mutation(Indv):\n",
    "    return"
   ]
  },
  {
   "cell_type": "code",
   "execution_count": 12,
   "id": "ebfa07a6",
   "metadata": {},
   "outputs": [],
   "source": [
    "def Train(Population=10):\n",
    "    return"
   ]
  },
  {
   "cell_type": "code",
   "execution_count": 7,
   "id": "b54271f4",
   "metadata": {},
   "outputs": [],
   "source": [
    "Frames = read_images(\"saved_frames\")\n",
    "Frames[3] = Frames[3][:,:,:3]\n",
    "Frames[6] = Frames[6][:,:,:3]\n",
    "Frames[9] = Frames[9][:,:,:3]\n",
    "M = Read2Binary(\"Masks\")\n",
    "Masks = [np.zeros((M[0].shape[0],M[0].shape[1])) for _ in range(len(Frames)-1)]\n",
    "Masks[2] = M[0]\n",
    "Masks[5] = M[1]\n",
    "Masks[8] = M[2]"
   ]
  },
  {
   "cell_type": "code",
   "execution_count": 20,
   "id": "b697bf7e",
   "metadata": {},
   "outputs": [],
   "source": [
    "Popu = Gen_Population(3)"
   ]
  },
  {
   "cell_type": "code",
   "execution_count": 24,
   "id": "8f21f734",
   "metadata": {},
   "outputs": [
    {
     "name": "stdout",
     "output_type": "stream",
     "text": [
      "Frame:  1 / 1\r"
     ]
    }
   ],
   "source": [
    "Evaluate_Population(Popu,Frames[:2],Masks[:1])"
   ]
  }
 ],
 "metadata": {
  "kernelspec": {
   "display_name": "Python 3",
   "language": "python",
   "name": "python3"
  },
  "language_info": {
   "codemirror_mode": {
    "name": "ipython",
    "version": 3
   },
   "file_extension": ".py",
   "mimetype": "text/x-python",
   "name": "python",
   "nbconvert_exporter": "python",
   "pygments_lexer": "ipython3",
   "version": "3.7.6"
  }
 },
 "nbformat": 4,
 "nbformat_minor": 5
}
