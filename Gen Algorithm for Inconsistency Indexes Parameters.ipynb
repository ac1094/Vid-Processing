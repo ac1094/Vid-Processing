{
 "cells": [
  {
   "cell_type": "code",
   "execution_count": 2,
   "id": "3977a237",
   "metadata": {},
   "outputs": [],
   "source": [
    "import import_ipynb\n",
    "from ConsistencyIndexes import *"
   ]
  },
  {
   "cell_type": "code",
   "execution_count": 2,
   "id": "c02b34fc",
   "metadata": {},
   "outputs": [],
   "source": [
    "class ParamInvividual:\n",
    "    def __init__(self,N=2,idx=[CRC,Border_Err],W=[1,1],M=\"mean\"):\n",
    "        self.NIdx = N\n",
    "        self.Idx = idx\n",
    "        self.Weights = W\n",
    "        self.Mode = M\n",
    "        self.Score = 0"
   ]
  },
  {
   "cell_type": "code",
   "execution_count": 3,
   "id": "8d9e6e26",
   "metadata": {},
   "outputs": [],
   "source": [
    "def CopyIndv(Inv):\n",
    "    return ParamInvividual(Inv.NIdx,Inv.Idx,Inv.Weights,Inv.Mode)"
   ]
  },
  {
   "cell_type": "code",
   "execution_count": 4,
   "id": "3450c037",
   "metadata": {},
   "outputs": [],
   "source": [
    "def Generator():\n",
    "    Indexes = [Abs_Dif,Gray_Dif,MSE,Border_Err,CRC,Entropy_Dif,Freq_Dif,TSNR,TSSIM,OF,OF_B]\n",
    "    Modes = [\"mean\",\"log\",\"norm\",\"Z\"]\n",
    "    Nindex = random.sample(range(0,len(Indexes)),2)#random.randint(2,3))\n",
    "    Idx = [Indexes[i] for i in Nindex]\n",
    "    W = [random.uniform(0.1, 1) for _ in range(len(Nindex))]\n",
    "    M = Modes[random.randint(0,len(Modes)-1)]\n",
    "    return ParamInvividual(len(Nindex),Idx,W,M)"
   ]
  },
  {
   "cell_type": "code",
   "execution_count": 5,
   "id": "10a988a9",
   "metadata": {},
   "outputs": [],
   "source": [
    "def Gen_Population(N=100):\n",
    "    return [Generator() for _ in range(N)]"
   ]
  },
  {
   "cell_type": "code",
   "execution_count": 6,
   "id": "e0ef06da",
   "metadata": {},
   "outputs": [],
   "source": [
    "def Evaluation(Individual,Frames,Targets):\n",
    "    Inc,Metric = InconsistentRegion(Frames,Mix_Metrics,Individual.Mode,Individual.Idx,Individual.Weights)\n",
    "    Inc = Inc[1:]\n",
    "    Dif = [abs(Inc[i]-Targets[i]) for i in range(len(Inc))]\n",
    "    return np.mean(sum(Dif)/len(Dif)) #+ sum([0 if d.all()==np.zeros_like(Targets[0]).all() else 1 for d in Targets])# + Metric)"
   ]
  },
  {
   "cell_type": "code",
   "execution_count": 7,
   "id": "bba0eb23",
   "metadata": {},
   "outputs": [],
   "source": [
    "def Evaluate_Population(Population,Frames,Targets):\n",
    "    for i in range(len(Population)):\n",
    "        print(\"Pop: \",i+1,'/',len(Population),end='\\r')\n",
    "        Population[i].Score = Evaluation(Population[i],Frames,Targets)"
   ]
  },
  {
   "cell_type": "code",
   "execution_count": 8,
   "id": "1f431df7",
   "metadata": {},
   "outputs": [],
   "source": [
    "@numba.jit\n",
    "def threshold_image(image):\n",
    "    binary_image = np.where(image >= 150, 255, 0).astype(np.uint8)\n",
    "    return binary_image\n",
    "\n",
    "def Read2Binary(path):\n",
    "    T = read_images(path)\n",
    "    T_gray = [cv2.cvtColor(t, cv2.COLOR_RGB2GRAY) for t in T]\n",
    "    T_binary = [threshold_image(t) for t in T_gray]\n",
    "    return T_binary"
   ]
  },
  {
   "cell_type": "code",
   "execution_count": 9,
   "id": "6d5e0740",
   "metadata": {},
   "outputs": [],
   "source": [
    "def Selection(Population,NTop=10):\n",
    "    Scores = [P.Score for P in Population]\n",
    "    Dictionary = dict(zip(Population, Scores))\n",
    "    Sorted = sorted(Dictionary.items(), key=lambda x: x[1])\n",
    "    return [key for key, value in Sorted[:NTop]]"
   ]
  },
  {
   "cell_type": "code",
   "execution_count": 10,
   "id": "993e9c2c",
   "metadata": {},
   "outputs": [],
   "source": [
    "#@numba.jit\n",
    "def Cross(Indv1,Indv2):\n",
    "    N = (Indv1.NIdx+Indv2.NIdx)//2\n",
    "    Dic = dict(zip(Indv1.Idx+Indv2.Idx,Indv1.Weights+Indv2.Weights))\n",
    "    idx = random.sample(list(Dic.keys()), N)\n",
    "    W = [Dic[key] for key in idx]\n",
    "    M = [Indv1.Mode,Indv2.Mode][random.randint(0,1)]\n",
    "    return ParamInvividual(N,idx,W,M)"
   ]
  },
  {
   "cell_type": "code",
   "execution_count": 11,
   "id": "858dd6ec",
   "metadata": {},
   "outputs": [],
   "source": [
    "#@numba.jit\n",
    "def Mutation(Indv):\n",
    "    I = CopyIndv(Indv)\n",
    "    if random.randint(0,1)==0:\n",
    "        I.Weights = [random.uniform(0.1, 10) for _ in range(Indv.NIdx)]\n",
    "        return I\n",
    "    else:\n",
    "        return Generator()"
   ]
  },
  {
   "cell_type": "code",
   "execution_count": 12,
   "id": "9812d2ce",
   "metadata": {},
   "outputs": [],
   "source": [
    "#@numba.jit\n",
    "def Gen_From_Top(N,Top):\n",
    "    Population = []\n",
    "    for n in range(N):\n",
    "        Op = random.randint(0,1)\n",
    "        if Op==0:\n",
    "            I = Cross(Top[random.randint(0,len(Top)-1)],Top[random.randint(0,len(Top)-1)])\n",
    "        else:\n",
    "            I = Mutation(Top[random.randint(0,len(Top)-1)])\n",
    "        Population.append(I)\n",
    "    return Population"
   ]
  },
  {
   "cell_type": "code",
   "execution_count": 13,
   "id": "70643780",
   "metadata": {},
   "outputs": [],
   "source": [
    "#@numba.jit\n",
    "def Train(Frames,Targets,NPop=5,Generations=3,NTop=3):\n",
    "    Population = Gen_Population(NPop)\n",
    "    Evaluate_Population(Population,Frames,Targets)\n",
    "    for G in range(Generations):\n",
    "        print(\"Gen: \",G+1,\"/\",Generations,'\\n')\n",
    "        Top = Selection(Population,NTop)\n",
    "        Children = Gen_From_Top(NPop-NTop,Top)\n",
    "        Evaluate_Population(Children,Frames,Targets)\n",
    "        Population = Top+Children\n",
    "    Top = Selection(Population,NTop)\n",
    "    return Top[0]"
   ]
  },
  {
   "cell_type": "code",
   "execution_count": 14,
   "id": "91d71f86",
   "metadata": {},
   "outputs": [],
   "source": [
    "# If Mask is zeros add to diff"
   ]
  },
  {
   "cell_type": "code",
   "execution_count": 2,
   "id": "e086dc28",
   "metadata": {},
   "outputs": [],
   "source": [
    "Frames = read_images(\"saved_frames\")"
   ]
  },
  {
   "cell_type": "code",
   "execution_count": 3,
   "id": "ac5350ec",
   "metadata": {},
   "outputs": [],
   "source": [
    "I,B = AddInc(Frames)"
   ]
  },
  {
   "cell_type": "code",
   "execution_count": 4,
   "id": "1dcad6fd",
   "metadata": {},
   "outputs": [
    {
     "data": {
      "text/plain": [
       "69"
      ]
     },
     "execution_count": 4,
     "metadata": {},
     "output_type": "execute_result"
    }
   ],
   "source": [
    "len(I)"
   ]
  },
  {
   "cell_type": "code",
   "execution_count": 18,
   "id": "b683bf99",
   "metadata": {},
   "outputs": [
    {
     "name": "stdout",
     "output_type": "stream",
     "text": [
      "Pop:  2 / 20\r"
     ]
    },
    {
     "ename": "KeyboardInterrupt",
     "evalue": "",
     "output_type": "error",
     "traceback": [
      "\u001b[1;31m---------------------------------------------------------------------------\u001b[0m",
      "\u001b[1;31mKeyboardInterrupt\u001b[0m                         Traceback (most recent call last)",
      "\u001b[1;32m<ipython-input-18-df39fe9d9f54>\u001b[0m in \u001b[0;36m<module>\u001b[1;34m\u001b[0m\n\u001b[1;32m----> 1\u001b[1;33m \u001b[0mBest\u001b[0m \u001b[1;33m=\u001b[0m \u001b[0mTrain\u001b[0m\u001b[1;33m(\u001b[0m\u001b[0mI\u001b[0m\u001b[1;33m[\u001b[0m\u001b[1;33m:\u001b[0m\u001b[1;36m25\u001b[0m\u001b[1;33m]\u001b[0m\u001b[1;33m,\u001b[0m\u001b[0mB\u001b[0m\u001b[1;33m[\u001b[0m\u001b[1;33m:\u001b[0m\u001b[1;36m24\u001b[0m\u001b[1;33m]\u001b[0m\u001b[1;33m,\u001b[0m\u001b[1;36m20\u001b[0m\u001b[1;33m,\u001b[0m\u001b[1;36m15\u001b[0m\u001b[1;33m,\u001b[0m\u001b[1;36m10\u001b[0m\u001b[1;33m)\u001b[0m\u001b[1;33m\u001b[0m\u001b[1;33m\u001b[0m\u001b[0m\n\u001b[0m",
      "\u001b[1;32m<ipython-input-13-53f204e022bd>\u001b[0m in \u001b[0;36mTrain\u001b[1;34m(Frames, Targets, NPop, Generations, NTop)\u001b[0m\n\u001b[0;32m      2\u001b[0m \u001b[1;32mdef\u001b[0m \u001b[0mTrain\u001b[0m\u001b[1;33m(\u001b[0m\u001b[0mFrames\u001b[0m\u001b[1;33m,\u001b[0m\u001b[0mTargets\u001b[0m\u001b[1;33m,\u001b[0m\u001b[0mNPop\u001b[0m\u001b[1;33m=\u001b[0m\u001b[1;36m5\u001b[0m\u001b[1;33m,\u001b[0m\u001b[0mGenerations\u001b[0m\u001b[1;33m=\u001b[0m\u001b[1;36m3\u001b[0m\u001b[1;33m,\u001b[0m\u001b[0mNTop\u001b[0m\u001b[1;33m=\u001b[0m\u001b[1;36m3\u001b[0m\u001b[1;33m)\u001b[0m\u001b[1;33m:\u001b[0m\u001b[1;33m\u001b[0m\u001b[1;33m\u001b[0m\u001b[0m\n\u001b[0;32m      3\u001b[0m     \u001b[0mPopulation\u001b[0m \u001b[1;33m=\u001b[0m \u001b[0mGen_Population\u001b[0m\u001b[1;33m(\u001b[0m\u001b[0mNPop\u001b[0m\u001b[1;33m)\u001b[0m\u001b[1;33m\u001b[0m\u001b[1;33m\u001b[0m\u001b[0m\n\u001b[1;32m----> 4\u001b[1;33m     \u001b[0mEvaluate_Population\u001b[0m\u001b[1;33m(\u001b[0m\u001b[0mPopulation\u001b[0m\u001b[1;33m,\u001b[0m\u001b[0mFrames\u001b[0m\u001b[1;33m,\u001b[0m\u001b[0mTargets\u001b[0m\u001b[1;33m)\u001b[0m\u001b[1;33m\u001b[0m\u001b[1;33m\u001b[0m\u001b[0m\n\u001b[0m\u001b[0;32m      5\u001b[0m     \u001b[1;32mfor\u001b[0m \u001b[0mG\u001b[0m \u001b[1;32min\u001b[0m \u001b[0mrange\u001b[0m\u001b[1;33m(\u001b[0m\u001b[0mGenerations\u001b[0m\u001b[1;33m)\u001b[0m\u001b[1;33m:\u001b[0m\u001b[1;33m\u001b[0m\u001b[1;33m\u001b[0m\u001b[0m\n\u001b[0;32m      6\u001b[0m         \u001b[0mprint\u001b[0m\u001b[1;33m(\u001b[0m\u001b[1;34m\"Gen: \"\u001b[0m\u001b[1;33m,\u001b[0m\u001b[0mG\u001b[0m\u001b[1;33m+\u001b[0m\u001b[1;36m1\u001b[0m\u001b[1;33m,\u001b[0m\u001b[1;34m\"/\"\u001b[0m\u001b[1;33m,\u001b[0m\u001b[0mGenerations\u001b[0m\u001b[1;33m,\u001b[0m\u001b[1;34m'\\n'\u001b[0m\u001b[1;33m)\u001b[0m\u001b[1;33m\u001b[0m\u001b[1;33m\u001b[0m\u001b[0m\n",
      "\u001b[1;32m<ipython-input-7-9f4d2a31eeb5>\u001b[0m in \u001b[0;36mEvaluate_Population\u001b[1;34m(Population, Frames, Targets)\u001b[0m\n\u001b[0;32m      2\u001b[0m     \u001b[1;32mfor\u001b[0m \u001b[0mi\u001b[0m \u001b[1;32min\u001b[0m \u001b[0mrange\u001b[0m\u001b[1;33m(\u001b[0m\u001b[0mlen\u001b[0m\u001b[1;33m(\u001b[0m\u001b[0mPopulation\u001b[0m\u001b[1;33m)\u001b[0m\u001b[1;33m)\u001b[0m\u001b[1;33m:\u001b[0m\u001b[1;33m\u001b[0m\u001b[1;33m\u001b[0m\u001b[0m\n\u001b[0;32m      3\u001b[0m         \u001b[0mprint\u001b[0m\u001b[1;33m(\u001b[0m\u001b[1;34m\"Pop: \"\u001b[0m\u001b[1;33m,\u001b[0m\u001b[0mi\u001b[0m\u001b[1;33m+\u001b[0m\u001b[1;36m1\u001b[0m\u001b[1;33m,\u001b[0m\u001b[1;34m'/'\u001b[0m\u001b[1;33m,\u001b[0m\u001b[0mlen\u001b[0m\u001b[1;33m(\u001b[0m\u001b[0mPopulation\u001b[0m\u001b[1;33m)\u001b[0m\u001b[1;33m,\u001b[0m\u001b[0mend\u001b[0m\u001b[1;33m=\u001b[0m\u001b[1;34m'\\r'\u001b[0m\u001b[1;33m)\u001b[0m\u001b[1;33m\u001b[0m\u001b[1;33m\u001b[0m\u001b[0m\n\u001b[1;32m----> 4\u001b[1;33m         \u001b[0mPopulation\u001b[0m\u001b[1;33m[\u001b[0m\u001b[0mi\u001b[0m\u001b[1;33m]\u001b[0m\u001b[1;33m.\u001b[0m\u001b[0mScore\u001b[0m \u001b[1;33m=\u001b[0m \u001b[0mEvaluation\u001b[0m\u001b[1;33m(\u001b[0m\u001b[0mPopulation\u001b[0m\u001b[1;33m[\u001b[0m\u001b[0mi\u001b[0m\u001b[1;33m]\u001b[0m\u001b[1;33m,\u001b[0m\u001b[0mFrames\u001b[0m\u001b[1;33m,\u001b[0m\u001b[0mTargets\u001b[0m\u001b[1;33m)\u001b[0m\u001b[1;33m\u001b[0m\u001b[1;33m\u001b[0m\u001b[0m\n\u001b[0m",
      "\u001b[1;32m<ipython-input-6-a72a58265366>\u001b[0m in \u001b[0;36mEvaluation\u001b[1;34m(Individual, Frames, Targets)\u001b[0m\n\u001b[0;32m      1\u001b[0m \u001b[1;32mdef\u001b[0m \u001b[0mEvaluation\u001b[0m\u001b[1;33m(\u001b[0m\u001b[0mIndividual\u001b[0m\u001b[1;33m,\u001b[0m\u001b[0mFrames\u001b[0m\u001b[1;33m,\u001b[0m\u001b[0mTargets\u001b[0m\u001b[1;33m)\u001b[0m\u001b[1;33m:\u001b[0m\u001b[1;33m\u001b[0m\u001b[1;33m\u001b[0m\u001b[0m\n\u001b[1;32m----> 2\u001b[1;33m     \u001b[0mInc\u001b[0m\u001b[1;33m,\u001b[0m\u001b[0mMetric\u001b[0m \u001b[1;33m=\u001b[0m \u001b[0mInconsistentRegion\u001b[0m\u001b[1;33m(\u001b[0m\u001b[0mFrames\u001b[0m\u001b[1;33m,\u001b[0m\u001b[0mMix_Metrics\u001b[0m\u001b[1;33m,\u001b[0m\u001b[0mIndividual\u001b[0m\u001b[1;33m.\u001b[0m\u001b[0mMode\u001b[0m\u001b[1;33m,\u001b[0m\u001b[0mIndividual\u001b[0m\u001b[1;33m.\u001b[0m\u001b[0mIdx\u001b[0m\u001b[1;33m,\u001b[0m\u001b[0mIndividual\u001b[0m\u001b[1;33m.\u001b[0m\u001b[0mWeights\u001b[0m\u001b[1;33m)\u001b[0m\u001b[1;33m\u001b[0m\u001b[1;33m\u001b[0m\u001b[0m\n\u001b[0m\u001b[0;32m      3\u001b[0m     \u001b[0mInc\u001b[0m \u001b[1;33m=\u001b[0m \u001b[0mInc\u001b[0m\u001b[1;33m[\u001b[0m\u001b[1;36m1\u001b[0m\u001b[1;33m:\u001b[0m\u001b[1;33m]\u001b[0m\u001b[1;33m\u001b[0m\u001b[1;33m\u001b[0m\u001b[0m\n\u001b[0;32m      4\u001b[0m     \u001b[0mDif\u001b[0m \u001b[1;33m=\u001b[0m \u001b[1;33m[\u001b[0m\u001b[0mabs\u001b[0m\u001b[1;33m(\u001b[0m\u001b[0mInc\u001b[0m\u001b[1;33m[\u001b[0m\u001b[0mi\u001b[0m\u001b[1;33m]\u001b[0m\u001b[1;33m-\u001b[0m\u001b[0mTargets\u001b[0m\u001b[1;33m[\u001b[0m\u001b[0mi\u001b[0m\u001b[1;33m]\u001b[0m\u001b[1;33m)\u001b[0m \u001b[1;32mfor\u001b[0m \u001b[0mi\u001b[0m \u001b[1;32min\u001b[0m \u001b[0mrange\u001b[0m\u001b[1;33m(\u001b[0m\u001b[0mlen\u001b[0m\u001b[1;33m(\u001b[0m\u001b[0mInc\u001b[0m\u001b[1;33m)\u001b[0m\u001b[1;33m)\u001b[0m\u001b[1;33m]\u001b[0m\u001b[1;33m\u001b[0m\u001b[1;33m\u001b[0m\u001b[0m\n\u001b[0;32m      5\u001b[0m     \u001b[1;32mreturn\u001b[0m \u001b[0mnp\u001b[0m\u001b[1;33m.\u001b[0m\u001b[0mmean\u001b[0m\u001b[1;33m(\u001b[0m\u001b[0msum\u001b[0m\u001b[1;33m(\u001b[0m\u001b[0mDif\u001b[0m\u001b[1;33m)\u001b[0m\u001b[1;33m/\u001b[0m\u001b[0mlen\u001b[0m\u001b[1;33m(\u001b[0m\u001b[0mDif\u001b[0m\u001b[1;33m)\u001b[0m\u001b[1;33m)\u001b[0m \u001b[1;31m#+ sum([0 if d.all()==np.zeros_like(Targets[0]).all() else 1 for d in Targets])# + Metric)\u001b[0m\u001b[1;33m\u001b[0m\u001b[1;33m\u001b[0m\u001b[0m\n",
      "\u001b[1;32m~\\Desktop\\Video Processing\\ConsistencyIndexes.ipynb\u001b[0m in \u001b[0;36mInconsistentRegion\u001b[1;34m(F, Func, op, M, W)\u001b[0m\n",
      "\u001b[1;32m~\\Desktop\\Video Processing\\ConsistencyIndexes.ipynb\u001b[0m in \u001b[0;36mWMax_Inconsistency\u001b[1;34m(img1, img2, img3, wsize, step, Func, op, M, Weights)\u001b[0m\n",
      "\u001b[1;32m<__array_function__ internals>\u001b[0m in \u001b[0;36mamin\u001b[1;34m(*args, **kwargs)\u001b[0m\n",
      "\u001b[1;31mKeyboardInterrupt\u001b[0m: "
     ]
    }
   ],
   "source": [
    "Best = Train(I[:25],B[:24],20,15,10)"
   ]
  },
  {
   "cell_type": "code",
   "execution_count": null,
   "id": "91503e99",
   "metadata": {},
   "outputs": [],
   "source": [
    "Best.Mode,Best.Idx,Best.Weights"
   ]
  },
  {
   "cell_type": "code",
   "execution_count": null,
   "id": "f5ef76ad",
   "metadata": {},
   "outputs": [],
   "source": [
    "Img = DrawInconsistancy1(I[:25],Mix_Metrics,Best.Mode,Best.Idx,Best.Weights)\n",
    "ThroughFrames(Img)"
   ]
  },
  {
   "cell_type": "code",
   "execution_count": 13,
   "id": "ed4cc77a",
   "metadata": {},
   "outputs": [
    {
     "name": "stdout",
     "output_type": "stream",
     "text": [
      "Frame:  23 / 24/ 24\r"
     ]
    }
   ],
   "source": [
    "Img = DrawInconsistancy1(I[:25],Mix_Metrics,\"mean\",[CRC,Gray_Dif],[0.6206048025607019, 0.508216164936656])\n",
    "ThroughFrames(Img)"
   ]
  },
  {
   "cell_type": "code",
   "execution_count": null,
   "id": "31818be0",
   "metadata": {},
   "outputs": [],
   "source": [
    "Img = DrawInconsistancy1(I[:25],Mix_Metrics,\"log\",[MSE,Entropy_Dif,CRC], [0.6795718573404556, 0.3460195810616382, 0.9312673477407468])\n",
    "ThroughFrames(Img)"
   ]
  },
  {
   "cell_type": "code",
   "execution_count": null,
   "id": "c3ab1664",
   "metadata": {},
   "outputs": [],
   "source": [
    "Img = DrawInconsistancy1(I[:25],Mix_Metrics,\"log\",[Entropy_Dif,CRC],  [0.7347384902639871, 0.3513275883482687])\n",
    "ThroughFrames(Img)"
   ]
  },
  {
   "cell_type": "code",
   "execution_count": null,
   "id": "2a385645",
   "metadata": {},
   "outputs": [],
   "source": [
    "Img = DrawInconsistancy1(I[:25],Mix_Metrics,\"log\",[CRC,Abs_Dif,Gray_Dif],  [0.3992279845080944, 0.9296664253181617, 0.7183341482172553])\n",
    "ThroughFrames(Img)"
   ]
  },
  {
   "cell_type": "markdown",
   "id": "3481f26d",
   "metadata": {},
   "source": [
    "('mean',\n",
    " [<function ConsistencyIndexes.CRC(image1, image2)>,\n",
    "  <function ConsistencyIndexes.Gray_Dif(image1, image2)>],\n",
    " [0.6206048025607019, 0.508216164936656])"
   ]
  },
  {
   "cell_type": "markdown",
   "id": "7b79f86a",
   "metadata": {},
   "source": [
    "('log',\n",
    " [<function ConsistencyIndexes.MSE(image1, image2)>,\n",
    "  <function ConsistencyIndexes.Entopy_Dif(image1, image2)>,\n",
    "  <function ConsistencyIndexes.CRC(image1, image2)>],\n",
    " [0.6795718573404556, 0.3460195810616382, 0.9312673477407468])"
   ]
  },
  {
   "cell_type": "markdown",
   "id": "3986d018",
   "metadata": {},
   "source": [
    "('mean',\n",
    " [<function ConsistencyIndexes.Gray_Dif(image1, image2)>,\n",
    "  <function ConsistencyIndexes.CRC(image1, image2)>],\n",
    " [0.22467344683611584, 0.5673037121649521])"
   ]
  },
  {
   "cell_type": "markdown",
   "id": "0221d98a",
   "metadata": {},
   "source": [
    "('log',\n",
    " [<function ConsistencyIndexes.Entopy_Dif(image1, image2)>,\n",
    "  <function ConsistencyIndexes.CRC(image1, image2)>],\n",
    " [0.7347384902639871, 0.3513275883482687])"
   ]
  },
  {
   "cell_type": "markdown",
   "id": "12d77e0d",
   "metadata": {},
   "source": [
    "('log',\n",
    " [CPUDispatcher(<function CRC at 0x0000023531086CA8>),\n",
    "  CPUDispatcher(<function Abs_Dif at 0x0000023531065B88>),\n",
    "  CPUDispatcher(<function Gray_Dif at 0x000002353106AEE8>)],\n",
    " [0.3992279845080944, 0.9296664253181617, 0.7183341482172553])"
   ]
  },
  {
   "cell_type": "markdown",
   "id": "4de97c46",
   "metadata": {},
   "source": [
    "('mean',\n",
    " [CPUDispatcher(<function Border_Err at 0x000002058DA6DB88>),\n",
    "  CPUDispatcher(<function TSSIM at 0x000002058DA6D4C8>)],\n",
    " [0.5311124470843562, 0.9750046438951553])"
   ]
  },
  {
   "cell_type": "markdown",
   "id": "b5a5ee72",
   "metadata": {},
   "source": [
    "Seguimiento de error en frames consecutivos<br>\n",
    "Filtros diferentes de cartoonization<br>\n",
    "OF en bordes<br>\n",
    "Fracuencias en Imagenes<br>\n",
    "Diferencia en imagen real y caricaturizada<br>\n"
   ]
  },
  {
   "cell_type": "code",
   "execution_count": 15,
   "id": "ff0d8f6b",
   "metadata": {},
   "outputs": [
    {
     "name": "stdout",
     "output_type": "stream",
     "text": [
      "Frame:  23 / 24\r"
     ]
    }
   ],
   "source": [
    "Img = DrawInconsistancy1(I[:25],Mix_Metrics,\"mean\",[Border_Err,CRC],[1,0.5])\n",
    "ThroughFrames(Img)"
   ]
  },
  {
   "cell_type": "code",
   "execution_count": null,
   "id": "587a4b37",
   "metadata": {},
   "outputs": [],
   "source": []
  }
 ],
 "metadata": {
  "kernelspec": {
   "display_name": "Python 3",
   "language": "python",
   "name": "python3"
  },
  "language_info": {
   "codemirror_mode": {
    "name": "ipython",
    "version": 3
   },
   "file_extension": ".py",
   "mimetype": "text/x-python",
   "name": "python",
   "nbconvert_exporter": "python",
   "pygments_lexer": "ipython3",
   "version": "3.7.6"
  }
 },
 "nbformat": 4,
 "nbformat_minor": 5
}
