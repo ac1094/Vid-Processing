{
 "cells": [
  {
   "cell_type": "code",
   "execution_count": 7,
   "id": "0fa6a6fb",
   "metadata": {},
   "outputs": [],
   "source": [
    "import import_ipynb\n",
    "from ConsistencyIndexes import *"
   ]
  },
  {
   "cell_type": "code",
   "execution_count": 8,
   "id": "cb27512c",
   "metadata": {},
   "outputs": [],
   "source": [
    "class ParamInvividual:\n",
    "    def __init__(self,N=2,idx=[CRC,Border_Err],W=[1,1],M=\"mean\"):\n",
    "        self.NIdx = N\n",
    "        self.Idx = idx\n",
    "        self.Weights = W\n",
    "        self.Mode = M\n",
    "        self.Score = 0"
   ]
  },
  {
   "cell_type": "code",
   "execution_count": 9,
   "id": "9615f967",
   "metadata": {},
   "outputs": [],
   "source": [
    "@numba.jit\n",
    "def CopyIndv(Inv):\n",
    "    return ParamInvividual(Inv.NIdx,Inv.Idx,Inv.Weights,Inv.Mode)"
   ]
  },
  {
   "cell_type": "code",
   "execution_count": 10,
   "id": "c7c20496",
   "metadata": {},
   "outputs": [],
   "source": [
    "@numba.jit\n",
    "def Generator():\n",
    "    Indexes = [Abs_Dif,Gray_Dif,MSE,Border_Err,CRC,Entropy_Dif,Freq_Dif,TSNR,TSSIM,OF,OF_B]\n",
    "    Modes = [\"mean\",\"log\",\"norm\",\"Z\"]\n",
    "    Nindex = random.sample(range(0,len(Indexes)),random.randint(2,3))\n",
    "    Idx = [Indexes[i] for i in Nindex]\n",
    "    W = [random.uniform(0.1, 1) for _ in range(len(Nindex))]\n",
    "    M = Modes[random.randint(0,len(Modes)-1)]\n",
    "    return ParamInvividual(len(Nindex),Idx,W,M)"
   ]
  },
  {
   "cell_type": "code",
   "execution_count": 11,
   "id": "ebcfddb8",
   "metadata": {},
   "outputs": [],
   "source": [
    "@numba.jit\n",
    "def Gen_Population(N=100):\n",
    "    return [Generator() for _ in range(N)]"
   ]
  },
  {
   "cell_type": "code",
   "execution_count": 12,
   "id": "a9c092e8",
   "metadata": {},
   "outputs": [],
   "source": [
    "@numba.jit\n",
    "def Evaluation(Individual,Frames,Targets):\n",
    "    Inc,Metric = InconsistentRegion(Frames,Mix_Metrics,Individual.Mode,Individual.Idx,Individual.Weights)\n",
    "    Inc = Inc[1:]\n",
    "    Dif = [abs(Inc[i]-Targets[i]) for i in range(len(Inc))]\n",
    "    return np.mean(sum(Dif)/len(Dif)) #+ sum([0 if d.all()==np.zeros_like(Targets[0]).all() else 1 for d in Targets])# + Metric)"
   ]
  },
  {
   "cell_type": "code",
   "execution_count": 13,
   "id": "b0010eea",
   "metadata": {},
   "outputs": [],
   "source": [
    "@numba.jit\n",
    "def Evaluate_Population(Population,Frames,Targets):\n",
    "    for i in range(len(Population)):\n",
    "        print(\"Pop: \",i+1,'/',len(Population),end='\\r')\n",
    "        Population[i].Score = Evaluation(Population[i],Frames,Targets)"
   ]
  },
  {
   "cell_type": "code",
   "execution_count": 14,
   "id": "513872d2",
   "metadata": {},
   "outputs": [],
   "source": [
    "@numba.jit\n",
    "def Read2Binary(path):\n",
    "    T = read_images(path)\n",
    "    T = [cv2.cvtColor(t,cv2.COLOR_RGB2GRAY) for t in T]\n",
    "    for t in T:\n",
    "        t[t>=150]=255\n",
    "        t[t<150]=0\n",
    "    return T"
   ]
  },
  {
   "cell_type": "code",
   "execution_count": 15,
   "id": "35322f02",
   "metadata": {},
   "outputs": [],
   "source": [
    "def Selection(Population,NTop=10):\n",
    "    Scores = [P.Score for P in Population]\n",
    "    Dictionary = dict(zip(Population, Scores))\n",
    "    Sorted = sorted(Dictionary.items(), key=lambda x: x[1])\n",
    "    return [key for key, value in Sorted[:NTop]]"
   ]
  },
  {
   "cell_type": "code",
   "execution_count": 16,
   "id": "627847fe",
   "metadata": {},
   "outputs": [],
   "source": [
    "@numba.jit\n",
    "def Cross(Indv1,Indv2):\n",
    "    N = (Indv1.NIdx+Indv2.NIdx)//2\n",
    "    Dic = dict(zip(Indv1.Idx+Indv2.Idx,Indv1.Weights+Indv2.Weights))\n",
    "    idx = random.sample(list(Dic.keys()), N)\n",
    "    W = [Dic[key] for key in idx]\n",
    "    M = [Indv1.Mode,Indv2.Mode][random.randint(0,1)]\n",
    "    return ParamInvividual(N,idx,W,M)"
   ]
  },
  {
   "cell_type": "code",
   "execution_count": 17,
   "id": "fed63c04",
   "metadata": {},
   "outputs": [],
   "source": [
    "@numba.jit\n",
    "def Mutation(Indv):\n",
    "    I = CopyIndv(Indv)\n",
    "    if random.randint(0,1)==0:\n",
    "        I.Weights = [random.uniform(0.1, 10) for _ in range(Indv.NIdx)]\n",
    "        return I\n",
    "    else:\n",
    "        return Generator()"
   ]
  },
  {
   "cell_type": "code",
   "execution_count": 18,
   "id": "88721f38",
   "metadata": {},
   "outputs": [],
   "source": [
    "@numba.jit\n",
    "def Gen_From_Top(N,Top):\n",
    "    Population = []\n",
    "    for n in range(N):\n",
    "        Op = random.randint(0,1)\n",
    "        if Op==0:\n",
    "            I = Cross(Top[random.randint(0,len(Top)-1)],Top[random.randint(0,len(Top)-1)])\n",
    "        else:\n",
    "            I = Mutation(Top[random.randint(0,len(Top)-1)])\n",
    "        Population.append(I)\n",
    "    return Population"
   ]
  },
  {
   "cell_type": "code",
   "execution_count": 19,
   "id": "52c0abc6",
   "metadata": {},
   "outputs": [],
   "source": [
    "@numba.jit\n",
    "def Train(Frames,Targets,NPop=5,Generations=3,NTop=3):\n",
    "    Population = Gen_Population(NPop)\n",
    "    Evaluate_Population(Population,Frames,Targets)\n",
    "    for G in range(Generations):\n",
    "        print(\"Gen: \",G+1,\"/\",Generations,'\\n')\n",
    "        Top = Selection(Population,NTop)\n",
    "        Children = Gen_From_Top(NPop-NTop,Top)\n",
    "        Evaluate_Population(Children,Frames,Targets)\n",
    "        Population = Top+Children\n",
    "    Top = Selection(Population,NTop)\n",
    "    return Top[0]"
   ]
  },
  {
   "cell_type": "code",
   "execution_count": 20,
   "id": "f2da680d",
   "metadata": {},
   "outputs": [],
   "source": [
    "# If Mask is zeros add to diff"
   ]
  },
  {
   "cell_type": "code",
   "execution_count": 21,
   "id": "8ecee66f",
   "metadata": {},
   "outputs": [],
   "source": [
    "Frames = read_images(\"saved_frames\")"
   ]
  },
  {
   "cell_type": "code",
   "execution_count": 22,
   "id": "d37b4d37",
   "metadata": {},
   "outputs": [],
   "source": [
    "I,B = AddInc(Frames)"
   ]
  },
  {
   "cell_type": "code",
   "execution_count": 23,
   "id": "db40f081",
   "metadata": {},
   "outputs": [
    {
     "data": {
      "text/plain": [
       "69"
      ]
     },
     "execution_count": 23,
     "metadata": {},
     "output_type": "execute_result"
    }
   ],
   "source": [
    "len(I)"
   ]
  },
  {
   "cell_type": "code",
   "execution_count": 24,
   "id": "ccf206f1",
   "metadata": {},
   "outputs": [
    {
     "name": "stdout",
     "output_type": "stream",
     "text": [
      "Gen:  1 / 25 \n",
      "\n",
      "Gen:  2 / 25 \n",
      "\n",
      "Gen:  3 / 25 \n",
      "\n",
      "Gen:  4 / 25 \n",
      "\n",
      "Gen:  5 / 25 \n",
      "\n",
      "Gen:  6 / 25 \n",
      "\n",
      "Gen:  7 / 25 \n",
      "\n",
      "Gen:  8 / 25 \n",
      "\n",
      "Gen:  9 / 25 \n",
      "\n",
      "Gen:  10 / 25 \n",
      "\n",
      "Gen:  11 / 25 \n",
      "\n",
      "Gen:  12 / 25 \n",
      "\n",
      "Gen:  13 / 25 \n",
      "\n",
      "Gen:  14 / 25 \n",
      "\n",
      "Gen:  15 / 25 \n",
      "\n",
      "Gen:  16 / 25 \n",
      "\n",
      "Gen:  17 / 25 \n",
      "\n",
      "Gen:  18 / 25 \n",
      "\n",
      "Gen:  19 / 25 \n",
      "\n",
      "Gen:  20 / 25 \n",
      "\n",
      "Gen:  21 / 25 \n",
      "\n",
      "Gen:  22 / 25 \n",
      "\n",
      "Gen:  23 / 25 \n",
      "\n",
      "Gen:  24 / 25 \n",
      "\n",
      "Gen:  25 / 25 \n",
      "\n",
      "Pop:  30 / 30\r"
     ]
    }
   ],
   "source": [
    "Best = Train(I[:15],B[:14],50,25,20)"
   ]
  },
  {
   "cell_type": "code",
   "execution_count": 25,
   "id": "a912ea11",
   "metadata": {},
   "outputs": [
    {
     "data": {
      "text/plain": [
       "('mean',\n",
       " [CPUDispatcher(<function Border_Err at 0x000002058DA6DB88>),\n",
       "  CPUDispatcher(<function TSSIM at 0x000002058DA6D4C8>)],\n",
       " [0.5311124470843562, 0.9750046438951553])"
      ]
     },
     "execution_count": 25,
     "metadata": {},
     "output_type": "execute_result"
    }
   ],
   "source": [
    "Best.Mode,Best.Idx,Best.Weights"
   ]
  },
  {
   "cell_type": "code",
   "execution_count": 27,
   "id": "80371898",
   "metadata": {},
   "outputs": [
    {
     "name": "stdout",
     "output_type": "stream",
     "text": [
      "Frame:  1 / 24\r"
     ]
    },
    {
     "ename": "KeyboardInterrupt",
     "evalue": "",
     "output_type": "error",
     "traceback": [
      "\u001b[1;31m---------------------------------------------------------------------------\u001b[0m",
      "\u001b[1;31mKeyboardInterrupt\u001b[0m                         Traceback (most recent call last)",
      "\u001b[1;32m<ipython-input-27-4f4c16aa5594>\u001b[0m in \u001b[0;36m<module>\u001b[1;34m\u001b[0m\n\u001b[1;32m----> 1\u001b[1;33m \u001b[0mImg\u001b[0m \u001b[1;33m=\u001b[0m \u001b[0mDrawInconsistancy1\u001b[0m\u001b[1;33m(\u001b[0m\u001b[0mI\u001b[0m\u001b[1;33m[\u001b[0m\u001b[1;33m:\u001b[0m\u001b[1;36m25\u001b[0m\u001b[1;33m]\u001b[0m\u001b[1;33m,\u001b[0m\u001b[0mMix_Metrics\u001b[0m\u001b[1;33m,\u001b[0m\u001b[0mBest\u001b[0m\u001b[1;33m.\u001b[0m\u001b[0mMode\u001b[0m\u001b[1;33m,\u001b[0m\u001b[0mBest\u001b[0m\u001b[1;33m.\u001b[0m\u001b[0mIdx\u001b[0m\u001b[1;33m,\u001b[0m\u001b[0mBest\u001b[0m\u001b[1;33m.\u001b[0m\u001b[0mWeights\u001b[0m\u001b[1;33m)\u001b[0m\u001b[1;33m\u001b[0m\u001b[1;33m\u001b[0m\u001b[0m\n\u001b[0m\u001b[0;32m      2\u001b[0m \u001b[0mThroughFrames\u001b[0m\u001b[1;33m(\u001b[0m\u001b[0mImg\u001b[0m\u001b[1;33m)\u001b[0m\u001b[1;33m\u001b[0m\u001b[1;33m\u001b[0m\u001b[0m\n",
      "\u001b[1;32m~\\Desktop\\Video Processing\\ConsistencyIndexes.ipynb\u001b[0m in \u001b[0;36mDrawInconsistancy1\u001b[1;34m(F, Func, op, M, W)\u001b[0m\n",
      "\u001b[1;32m~\\anaconda3\\lib\\site-packages\\skimage\\metrics\\_structural_similarity.py\u001b[0m in \u001b[0;36mstructural_similarity\u001b[1;34m(im1, im2, win_size, gradient, data_range, multichannel, gaussian_weights, full, **kwargs)\u001b[0m\n\u001b[0;32m    106\u001b[0m         \u001b[1;32mfor\u001b[0m \u001b[0mch\u001b[0m \u001b[1;32min\u001b[0m \u001b[0mrange\u001b[0m\u001b[1;33m(\u001b[0m\u001b[0mnch\u001b[0m\u001b[1;33m)\u001b[0m\u001b[1;33m:\u001b[0m\u001b[1;33m\u001b[0m\u001b[1;33m\u001b[0m\u001b[0m\n\u001b[0;32m    107\u001b[0m             ch_result = structural_similarity(im1[..., ch],\n\u001b[1;32m--> 108\u001b[1;33m                                               im2[..., ch], **args)\n\u001b[0m\u001b[0;32m    109\u001b[0m             \u001b[1;32mif\u001b[0m \u001b[0mgradient\u001b[0m \u001b[1;32mand\u001b[0m \u001b[0mfull\u001b[0m\u001b[1;33m:\u001b[0m\u001b[1;33m\u001b[0m\u001b[1;33m\u001b[0m\u001b[0m\n\u001b[0;32m    110\u001b[0m                 \u001b[0mmssim\u001b[0m\u001b[1;33m[\u001b[0m\u001b[1;33m...\u001b[0m\u001b[1;33m,\u001b[0m \u001b[0mch\u001b[0m\u001b[1;33m]\u001b[0m\u001b[1;33m,\u001b[0m \u001b[0mG\u001b[0m\u001b[1;33m[\u001b[0m\u001b[1;33m...\u001b[0m\u001b[1;33m,\u001b[0m \u001b[0mch\u001b[0m\u001b[1;33m]\u001b[0m\u001b[1;33m,\u001b[0m \u001b[0mS\u001b[0m\u001b[1;33m[\u001b[0m\u001b[1;33m...\u001b[0m\u001b[1;33m,\u001b[0m \u001b[0mch\u001b[0m\u001b[1;33m]\u001b[0m \u001b[1;33m=\u001b[0m \u001b[0mch_result\u001b[0m\u001b[1;33m\u001b[0m\u001b[1;33m\u001b[0m\u001b[0m\n",
      "\u001b[1;32m~\\anaconda3\\lib\\site-packages\\skimage\\metrics\\_structural_similarity.py\u001b[0m in \u001b[0;36mstructural_similarity\u001b[1;34m(im1, im2, win_size, gradient, data_range, multichannel, gaussian_weights, full, **kwargs)\u001b[0m\n\u001b[0;32m    174\u001b[0m \u001b[1;33m\u001b[0m\u001b[0m\n\u001b[0;32m    175\u001b[0m     \u001b[1;31m# ndimage filters need floating point data\u001b[0m\u001b[1;33m\u001b[0m\u001b[1;33m\u001b[0m\u001b[1;33m\u001b[0m\u001b[0m\n\u001b[1;32m--> 176\u001b[1;33m     \u001b[0mim1\u001b[0m \u001b[1;33m=\u001b[0m \u001b[0mim1\u001b[0m\u001b[1;33m.\u001b[0m\u001b[0mastype\u001b[0m\u001b[1;33m(\u001b[0m\u001b[0mnp\u001b[0m\u001b[1;33m.\u001b[0m\u001b[0mfloat64\u001b[0m\u001b[1;33m)\u001b[0m\u001b[1;33m\u001b[0m\u001b[1;33m\u001b[0m\u001b[0m\n\u001b[0m\u001b[0;32m    177\u001b[0m     \u001b[0mim2\u001b[0m \u001b[1;33m=\u001b[0m \u001b[0mim2\u001b[0m\u001b[1;33m.\u001b[0m\u001b[0mastype\u001b[0m\u001b[1;33m(\u001b[0m\u001b[0mnp\u001b[0m\u001b[1;33m.\u001b[0m\u001b[0mfloat64\u001b[0m\u001b[1;33m)\u001b[0m\u001b[1;33m\u001b[0m\u001b[1;33m\u001b[0m\u001b[0m\n\u001b[0;32m    178\u001b[0m \u001b[1;33m\u001b[0m\u001b[0m\n",
      "\u001b[1;31mKeyboardInterrupt\u001b[0m: "
     ]
    }
   ],
   "source": [
    "Img = DrawInconsistancy1(I[:25],Mix_Metrics,Best.Mode,Best.Idx,Best.Weights)\n",
    "ThroughFrames(Img)"
   ]
  },
  {
   "cell_type": "code",
   "execution_count": null,
   "id": "64652578",
   "metadata": {},
   "outputs": [],
   "source": [
    "Img = DrawInconsistancy1(I[:25],Mix_Metrics,\"mean\",[CRC,Gray_Dif],[0.6206048025607019, 0.508216164936656])\n",
    "ThroughFrames(Img)"
   ]
  },
  {
   "cell_type": "code",
   "execution_count": null,
   "id": "de2fccc1",
   "metadata": {},
   "outputs": [],
   "source": [
    "Img = DrawInconsistancy1(I[:25],Mix_Metrics,\"log\",[MSE,Entropy_Dif,CRC], [0.6795718573404556, 0.3460195810616382, 0.9312673477407468])\n",
    "ThroughFrames(Img)"
   ]
  },
  {
   "cell_type": "code",
   "execution_count": null,
   "id": "2af45db0",
   "metadata": {},
   "outputs": [],
   "source": [
    "Img = DrawInconsistancy1(I[:25],Mix_Metrics,\"log\",[Entropy_Dif,CRC],  [0.7347384902639871, 0.3513275883482687])\n",
    "ThroughFrames(Img)"
   ]
  },
  {
   "cell_type": "code",
   "execution_count": null,
   "id": "91ce690c",
   "metadata": {},
   "outputs": [],
   "source": [
    "Img = DrawInconsistancy1(I[:25],Mix_Metrics,\"log\",[CRC,Abs_Dif,Gray_Dif],  [0.3992279845080944, 0.9296664253181617, 0.7183341482172553])\n",
    "ThroughFrames(Img)"
   ]
  },
  {
   "cell_type": "markdown",
   "id": "85033f10",
   "metadata": {},
   "source": [
    "('mean',\n",
    " [<function ConsistencyIndexes.CRC(image1, image2)>,\n",
    "  <function ConsistencyIndexes.Gray_Dif(image1, image2)>],\n",
    " [0.6206048025607019, 0.508216164936656])"
   ]
  },
  {
   "cell_type": "markdown",
   "id": "69f970a7",
   "metadata": {},
   "source": [
    "('log',\n",
    " [<function ConsistencyIndexes.MSE(image1, image2)>,\n",
    "  <function ConsistencyIndexes.Entopy_Dif(image1, image2)>,\n",
    "  <function ConsistencyIndexes.CRC(image1, image2)>],\n",
    " [0.6795718573404556, 0.3460195810616382, 0.9312673477407468])"
   ]
  },
  {
   "cell_type": "markdown",
   "id": "14b69c72",
   "metadata": {},
   "source": [
    "('mean',\n",
    " [<function ConsistencyIndexes.Gray_Dif(image1, image2)>,\n",
    "  <function ConsistencyIndexes.CRC(image1, image2)>],\n",
    " [0.22467344683611584, 0.5673037121649521])"
   ]
  },
  {
   "cell_type": "markdown",
   "id": "46f3ea2b",
   "metadata": {},
   "source": [
    "('log',\n",
    " [<function ConsistencyIndexes.Entopy_Dif(image1, image2)>,\n",
    "  <function ConsistencyIndexes.CRC(image1, image2)>],\n",
    " [0.7347384902639871, 0.3513275883482687])"
   ]
  },
  {
   "cell_type": "markdown",
   "id": "b3d0e687",
   "metadata": {},
   "source": [
    "('log',\n",
    " [CPUDispatcher(<function CRC at 0x0000023531086CA8>),\n",
    "  CPUDispatcher(<function Abs_Dif at 0x0000023531065B88>),\n",
    "  CPUDispatcher(<function Gray_Dif at 0x000002353106AEE8>)],\n",
    " [0.3992279845080944, 0.9296664253181617, 0.7183341482172553])"
   ]
  },
  {
   "cell_type": "markdown",
   "id": "107e382b",
   "metadata": {},
   "source": [
    "('mean',\n",
    " [CPUDispatcher(<function Border_Err at 0x000002058DA6DB88>),\n",
    "  CPUDispatcher(<function TSSIM at 0x000002058DA6D4C8>)],\n",
    " [0.5311124470843562, 0.9750046438951553])"
   ]
  },
  {
   "cell_type": "markdown",
   "id": "1c44e15c",
   "metadata": {},
   "source": [
    "Seguimiento de error en frames consecutivos<br>\n",
    "Filtros diferentes de cartoonization<br>\n",
    "OF en bordes<br>\n",
    "Fracuencias en Imagenes<br>\n",
    "Diferencia en imagen real y caricaturizada<br>\n"
   ]
  },
  {
   "cell_type": "code",
   "execution_count": null,
   "id": "90e6005a",
   "metadata": {},
   "outputs": [],
   "source": []
  },
  {
   "cell_type": "code",
   "execution_count": null,
   "id": "3ee2f34c",
   "metadata": {},
   "outputs": [],
   "source": []
  }
 ],
 "metadata": {
  "kernelspec": {
   "display_name": "Python 3",
   "language": "python",
   "name": "python3"
  },
  "language_info": {
   "codemirror_mode": {
    "name": "ipython",
    "version": 3
   },
   "file_extension": ".py",
   "mimetype": "text/x-python",
   "name": "python",
   "nbconvert_exporter": "python",
   "pygments_lexer": "ipython3",
   "version": "3.7.6"
  }
 },
 "nbformat": 4,
 "nbformat_minor": 5
}
