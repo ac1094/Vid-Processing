{
 "cells": [
  {
   "cell_type": "code",
   "execution_count": 92,
   "id": "4be8ed37",
   "metadata": {},
   "outputs": [],
   "source": [
    "import import_ipynb\n",
    "from ConsistencyIndexes import *"
   ]
  },
  {
   "cell_type": "code",
   "execution_count": 93,
   "id": "b25e9a9c",
   "metadata": {},
   "outputs": [],
   "source": [
    "class ParamInvividual:\n",
    "    def __init__(self,N=2,idx=[CRC,Border_Err],W=[1,1],M=\"mean\"):\n",
    "        self.NIdx = N\n",
    "        self.Idx = idx\n",
    "        self.Weights = W\n",
    "        self.Mode = M\n",
    "        self.Score = 0"
   ]
  },
  {
   "cell_type": "code",
   "execution_count": 94,
   "id": "c0435d23",
   "metadata": {},
   "outputs": [],
   "source": [
    "def CopyIndv(Inv):\n",
    "    return ParamInvividual(Inv.NIdx,Inv.Idx,Inv.Weights,Inv.Mode)"
   ]
  },
  {
   "cell_type": "code",
   "execution_count": 95,
   "id": "83d98b2f",
   "metadata": {},
   "outputs": [],
   "source": [
    "def Generator():\n",
    "    Indexes = [Abs_Dif,Gray_Dif,MSE,Border_Err,CRC]#,Entopy_Dif,TSNR,TSSIM,OF_EPE,OF_AE]\n",
    "    Modes = [\"mean\",\"log\",\"norm\",\"Z\"]\n",
    "    Nindex = random.sample(range(0,len(Indexes)),2)#random.randint(2,len(Indexes)))\n",
    "    Idx = [Indexes[i] for i in Nindex]\n",
    "    W = [random.uniform(0.1, 1) for _ in range(len(Nindex))]\n",
    "    M = Modes[random.randint(0,len(Modes)-1)]\n",
    "    return ParamInvividual(len(Nindex),Idx,W,M)"
   ]
  },
  {
   "cell_type": "code",
   "execution_count": 96,
   "id": "35ba5ef9",
   "metadata": {},
   "outputs": [],
   "source": [
    "def Gen_Population(N=100):\n",
    "    return [Generator() for _ in range(N)]"
   ]
  },
  {
   "cell_type": "code",
   "execution_count": 97,
   "id": "6be6a8b7",
   "metadata": {},
   "outputs": [],
   "source": [
    "def Evaluation(Individual,Frames,Targets):\n",
    "    Inc,Metric = InconsistentRegion(Frames,Mix_Metrics,Individual.Mode,Individual.Idx,Individual.Weights)\n",
    "    Inc = Inc[1:]\n",
    "    Dif = [abs(Inc[i]-Targets[i]) for i in range(len(Inc))]\n",
    "    return np.mean(sum(Dif)/len(Dif))# + Metric)"
   ]
  },
  {
   "cell_type": "code",
   "execution_count": 98,
   "id": "a4c56324",
   "metadata": {},
   "outputs": [],
   "source": [
    "def Evaluate_Population(Population,Frames,Targets):\n",
    "    for i in range(len(Population)):\n",
    "        print(\"Pop: \",i+1,'/',len(Population),'\\n')\n",
    "        Population[i].Score = Evaluation(Population[i],Frames,Targets)"
   ]
  },
  {
   "cell_type": "code",
   "execution_count": 99,
   "id": "cb0cea28",
   "metadata": {},
   "outputs": [],
   "source": [
    "def Read2Binary(path):\n",
    "    T = read_images(path)\n",
    "    T = [cv2.cvtColor(t,cv2.COLOR_RGB2GRAY) for t in T]\n",
    "    for t in T:\n",
    "        t[t>=150]=255\n",
    "        t[t<150]=0\n",
    "    return T"
   ]
  },
  {
   "cell_type": "code",
   "execution_count": 100,
   "id": "9c652f6d",
   "metadata": {},
   "outputs": [],
   "source": [
    "def Selection(Population,NTop=10):\n",
    "    Scores = [P.Score for P in Population]\n",
    "    Dictionary = dict(zip(Population, Scores))\n",
    "    Sorted = sorted(Dictionary.items(), key=lambda x: x[1])\n",
    "    return [key for key, value in Sorted[:NTop]]"
   ]
  },
  {
   "cell_type": "code",
   "execution_count": 101,
   "id": "3a9f5624",
   "metadata": {},
   "outputs": [],
   "source": [
    "def Cross(Indv1,Indv2):\n",
    "    N = (Indv1.NIdx+Indv2.NIdx)//2\n",
    "    Dic = dict(zip(Indv1.Idx+Indv2.Idx,Indv1.Weights+Indv2.Weights))\n",
    "    idx = random.sample(list(Dic.keys()), N)\n",
    "    W = [Dic[key] for key in idx]\n",
    "    M = [Indv1.Mode,Indv2.Mode][random.randint(0,1)]\n",
    "    return ParamInvividual(N,idx,W,M)"
   ]
  },
  {
   "cell_type": "code",
   "execution_count": 102,
   "id": "6d270258",
   "metadata": {},
   "outputs": [],
   "source": [
    "def Mutation(Indv):\n",
    "    I = CopyIndv(Indv)\n",
    "    I.Weights = [random.uniform(0.1, 10) for _ in range(Indv.NIdx)]\n",
    "    return I"
   ]
  },
  {
   "cell_type": "code",
   "execution_count": 103,
   "id": "5ea67b5d",
   "metadata": {},
   "outputs": [],
   "source": [
    "def Gen_From_Top(N,Top):\n",
    "    Population = []\n",
    "    for n in range(N):\n",
    "        Op = random.randint(0,1)\n",
    "        if Op==0:\n",
    "            I = Cross(Top[random.randint(0,len(Top)-1)],Top[random.randint(0,len(Top)-1)])\n",
    "        else:\n",
    "            I = Mutation(Top[random.randint(0,len(Top)-1)])\n",
    "        Population.append(I)\n",
    "    return Population"
   ]
  },
  {
   "cell_type": "code",
   "execution_count": 104,
   "id": "5c0948a7",
   "metadata": {},
   "outputs": [],
   "source": [
    "def Train(Frames,Targets,NPop=5,Generations=3,NTop=3):\n",
    "    Population = Gen_Population(NPop)\n",
    "    Evaluate_Population(Population,Frames,Targets)\n",
    "    for G in range(Generations):\n",
    "        print(\"Gen: \",G+1,\"/\",Generations,'\\n')\n",
    "        Top = Selection(Population,NTop)\n",
    "        Children = Gen_From_Top(NPop-NTop,Top)\n",
    "        Evaluate_Population(Children,Frames,Targets)\n",
    "        Population = Top+Children\n",
    "    Top = Selection(Population,NTop)\n",
    "    return Top[0]"
   ]
  },
  {
   "cell_type": "code",
   "execution_count": 105,
   "id": "286d9e74",
   "metadata": {},
   "outputs": [],
   "source": [
    "Frames = read_images(\"saved_frames\")\n",
    "Frames[3] = Frames[3][:,:,:3]\n",
    "Frames[6] = Frames[6][:,:,:3]\n",
    "Frames[9] = Frames[9][:,:,:3]\n",
    "M = Read2Binary(\"Masks\")\n",
    "Masks = [np.zeros((M[0].shape[0],M[0].shape[1])) for _ in range(len(Frames)-1)]\n",
    "Masks[2] = M[0]\n",
    "Masks[5] = M[1]\n",
    "Masks[8] = M[2]"
   ]
  },
  {
   "cell_type": "code",
   "execution_count": 106,
   "id": "bf87c57a",
   "metadata": {},
   "outputs": [],
   "source": [
    "#Best = Train(Frames[:10],Masks[:9],50,10,15)"
   ]
  },
  {
   "cell_type": "code",
   "execution_count": null,
   "id": "45aa69b4",
   "metadata": {},
   "outputs": [
    {
     "name": "stdout",
     "output_type": "stream",
     "text": [
      "Pop:  1 / 30 \n",
      "\n",
      "Pop:  2 / 30 \n",
      "\n",
      "Pop:  3 / 30 \n",
      "\n",
      "Pop:  4 / 30 \n",
      "\n",
      "Pop:  5 / 30 \n",
      "\n",
      "Pop:  6 / 30 \n",
      "\n",
      "Pop:  7 / 30 \n",
      "\n",
      "Pop:  8 / 30 \n",
      "\n",
      "Pop:  9 / 30 \n",
      "\n",
      "Pop:  10 / 30 \n",
      "\n",
      "Pop:  11 / 30 \n",
      "\n",
      "Pop:  12 / 30 \n",
      "\n",
      "Pop:  13 / 30 \n",
      "\n",
      "Pop:  14 / 30 \n",
      "\n",
      "Pop:  15 / 30 \n",
      "\n",
      "Pop:  16 / 30 \n",
      "\n",
      "Pop:  17 / 30 \n",
      "\n",
      "Frame:  7 / 9\r"
     ]
    }
   ],
   "source": [
    "NPop = 30\n",
    "Targets = Masks[:9]\n",
    "Frames = Frames[:10]\n",
    "Generations = 10\n",
    "Ntop = 15\n",
    "Population = Gen_Population(NPop)\n",
    "Evaluate_Population(Population,Frames,Targets)\n",
    "for G in range(Generations):\n",
    "    print(\"Gen: \",G+1,\"/\",Generations,'\\n')\n",
    "    Top = Selection(Population,NTop)\n",
    "    Children = Gen_From_Top(NPop-NTop,Top)\n",
    "    Evaluate_Population(Children,Frames,Targets)\n",
    "    Population = Top+Children\n",
    "Top = Selection(Population,NTop)"
   ]
  },
  {
   "cell_type": "code",
   "execution_count": null,
   "id": "c8114ceb",
   "metadata": {},
   "outputs": [],
   "source": [
    "Best = Top[0]"
   ]
  },
  {
   "cell_type": "code",
   "execution_count": null,
   "id": "f8ccbd70",
   "metadata": {},
   "outputs": [],
   "source": [
    " Img = DrawInconsistancy1(Frames[:13],Mix_Metrics,Best.Mode,Best.Idx,Best.Weights)"
   ]
  },
  {
   "cell_type": "code",
   "execution_count": null,
   "id": "263a5c82",
   "metadata": {},
   "outputs": [],
   "source": [
    "ThroughFrames(Img)"
   ]
  },
  {
   "cell_type": "code",
   "execution_count": null,
   "id": "4c3fe643",
   "metadata": {},
   "outputs": [],
   "source": [
    "Best.Mode,Best.Idx,Best.Weights"
   ]
  },
  {
   "cell_type": "markdown",
   "id": "7c2a1aec",
   "metadata": {},
   "source": [
    "('mean',\n",
    " [<function ConsistencyIndexes.CRC(image1, image2)>,\n",
    "  <function ConsistencyIndexes.Gray_Dif(image1, image2)>],\n",
    " [0.6206048025607019, 0.508216164936656])"
   ]
  },
  {
   "cell_type": "markdown",
   "id": "1496e51b",
   "metadata": {},
   "source": [
    "('log',\n",
    " [<function ConsistencyIndexes.MSE(image1, image2)>,\n",
    "  <function ConsistencyIndexes.Entopy_Dif(image1, image2)>,\n",
    "  <function ConsistencyIndexes.CRC(image1, image2)>],\n",
    " [0.6795718573404556, 0.3460195810616382, 0.9312673477407468])"
   ]
  },
  {
   "cell_type": "code",
   "execution_count": null,
   "id": "7033c8ea",
   "metadata": {},
   "outputs": [],
   "source": [
    "# If Mask is zeros add to diff"
   ]
  }
 ],
 "metadata": {
  "kernelspec": {
   "display_name": "Python 3",
   "language": "python",
   "name": "python3"
  },
  "language_info": {
   "codemirror_mode": {
    "name": "ipython",
    "version": 3
   },
   "file_extension": ".py",
   "mimetype": "text/x-python",
   "name": "python",
   "nbconvert_exporter": "python",
   "pygments_lexer": "ipython3",
   "version": "3.7.6"
  }
 },
 "nbformat": 4,
 "nbformat_minor": 5
}
