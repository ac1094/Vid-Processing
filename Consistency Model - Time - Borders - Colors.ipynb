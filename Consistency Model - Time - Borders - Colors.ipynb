{
 "cells": [
  {
   "cell_type": "code",
   "execution_count": 106,
   "id": "80832b5d",
   "metadata": {},
   "outputs": [],
   "source": [
    "import import_ipynb\n",
    "from ConsistencyIndexes import *\n",
    "import torch.nn.functional as Fun\n",
    "import torch\n",
    "from torch import optim\n",
    "import matplotlib.pyplot as plt\n",
    "import time"
   ]
  },
  {
   "cell_type": "code",
   "execution_count": 107,
   "id": "b8dfcc20",
   "metadata": {},
   "outputs": [],
   "source": [
    "#Extract kernels and weights from Parameters\n",
    "def Extract(Params):\n",
    "    k = Params['k']\n",
    "    kt = Params['kt']\n",
    "    kb = Params['kb']\n",
    "    return k,kt,kb"
   ]
  },
  {
   "cell_type": "code",
   "execution_count": 108,
   "id": "7c20b249",
   "metadata": {},
   "outputs": [],
   "source": [
    "def Gen_Params(N):\n",
    "    # Current\n",
    "    k = [torch.rand(3,3,k_size,k_size,requires_grad=True) for k_size in range(3,4,12)]     \n",
    "    # Kernels for Temporal Consistency\n",
    "    kt = [[torch.rand(3,3,k_size,k_size,requires_grad=True) for k_size in range(3,4,12)]  for _ in range(2*N)]\n",
    "    kb = [torch.rand(3,3,k_size,k_size,requires_grad=True) for k_size in range(3,4,12)]\n",
    "    return k,kt,kb"
   ]
  },
  {
   "cell_type": "code",
   "execution_count": 109,
   "id": "172e5706",
   "metadata": {},
   "outputs": [],
   "source": [
    "def ObjFun(encodes,x,k,kt,kb):\n",
    "    N = len(kt)\n",
    "    N_k = len(k[0])\n",
    "    encodes = encodes[:N//2]+encodes[N//2+1:]\n",
    "    # Encoder\n",
    "    for i in k:\n",
    "        sp = i.shape[-1]//2\n",
    "        x = Fun.leaky_relu(Fun.conv2d(x,i,stride=1,padding=sp))\n",
    "    # Temporal Encoder\n",
    "    for i in range(len(encodes)):\n",
    "         for j in kt[i]:  \n",
    "            sp = j.shape[-1]//2\n",
    "            encodes[i] = Fun.leaky_relu(Fun.conv2d(encodes[i],j,stride=1,padding=sp))\n",
    "            \n",
    "    # Add latent values\n",
    "    for i in range(len(encodes)):\n",
    "        x = x + encodes[i]\n",
    "    \n",
    "    for i in kb:\n",
    "        sp = i.shape[-1]//2\n",
    "        x = Fun.leaky_relu(Fun.conv2d(x,i,stride=1,padding=sp))\n",
    "        \n",
    "    return x"
   ]
  },
  {
   "cell_type": "code",
   "execution_count": 110,
   "id": "4541f696",
   "metadata": {},
   "outputs": [],
   "source": [
    "#Add a random inconsistency\n",
    "def AddOneInc1(F):\n",
    "    # Convert to NumPy Array\n",
    "    F = F.squeeze(0).permute(1, 2, 0).cpu().numpy() * 255\n",
    "    # Copy of original array\n",
    "    I = F.astype(np.uint8).copy()\n",
    "    # Random location\n",
    "    x, y = random.randint(0, 2 * I.shape[0] // 3), random.randint(0, 2 * I.shape[1] // 3)\n",
    "    # Random size\n",
    "    l = random.randint(5,I.shape[1]//20)\n",
    "    # Random option\n",
    "    Op = random.randint(0, 5)\n",
    "    if Op == 0:\n",
    "        I[x:x + l, y:y + l] = change_range_colors(I[x:x + l, y:y + l], (random.randint(30, 140), random.randint(30, 140), random.randint(30, 140)), (random.randint(150, 255), random.randint(150, 255), random.randint(150, 255)))\n",
    "    elif Op == 1:\n",
    "        R, G, B = random.randint(0, 255), random.randint(0, 255), random.randint(0, 255)\n",
    "        I[x:x + l, y:y + l] = change_range_colors(I[x:x + l, y:y + l], (R, G, B), (R, G, B))\n",
    "    elif Op == 2:\n",
    "        Thick = random.randint(1, 10)\n",
    "        l2 = random.randint(5, I.shape[1]//15)\n",
    "        I = cv2.line(I, (x, y), (x + l, y + l2), (random.randint(0, 255), random.randint(0, 255), random.randint(0, 255)), Thick)\n",
    "    elif Op == 3:\n",
    "        Thick = random.randint(1, 5)\n",
    "        l2 = random.randint(5, I.shape[1]//20)\n",
    "        I = cv2.line(I, (x, y), (x + l, y + l2), (0, 0, 0), Thick)  \n",
    "    elif Op == 4:\n",
    "        I[x:x+l,y:y+l] = I[x:x+l,y:y+l] + np.random.random_integers(-10,10,I[x:x+l,y:y+l].shape)\n",
    "    else:\n",
    "        kernel = np.random.rand(3,3)\n",
    "        I[x:x+l,y:y+l] = cv2.filter2D(I[x:x+l,y:y+l],-1,kernel)\n",
    "    # Convert back to tensor\n",
    "    I_tensor = torch.tensor(I, dtype=torch.float32).permute(2, 0, 1).unsqueeze(0)/255.0\n",
    "    return I_tensor"
   ]
  },
  {
   "cell_type": "code",
   "execution_count": 111,
   "id": "56b85dba",
   "metadata": {},
   "outputs": [],
   "source": [
    "def OF(img1: torch.Tensor, img2: torch.Tensor, alpha: float = 1.0, iterations: int = 100):\n",
    "    assert img1.shape == img2.shape, \"Images must have the same shape\"\n",
    "    # Convert to grayscale to simplify optical flow calculation\n",
    "    def rgb_to_grayscale(img):\n",
    "        return 0.2989 * img[0, :, :] + 0.5870 * img[1, :, :] + 0.1140 * img[2, :, :]\n",
    "\n",
    "    I1 = rgb_to_grayscale(img1)\n",
    "    I2 = rgb_to_grayscale(img2)\n",
    "\n",
    "    # Initialize optical flow vectors (u for x direction, v for y direction)\n",
    "    u = torch.zeros_like(I1, requires_grad=True)\n",
    "    v = torch.zeros_like(I1, requires_grad=True)\n",
    "    \n",
    "    # Define convolution kernels for gradients\n",
    "    kernel_x = torch.tensor([[[[-1, 1], [-1, 1]]]], dtype=torch.float32)\n",
    "    kernel_y = torch.tensor([[[[-1, -1], [1, 1]]]], dtype=torch.float32)\n",
    "\n",
    "    # Compute gradients with padding that maintains the original image size\n",
    "    Ix = Fun.conv2d(I1.unsqueeze(0).unsqueeze(0), kernel_x, padding=(0, 1)).squeeze(0).squeeze(0)\n",
    "    Iy = Fun.conv2d(I1.unsqueeze(0).unsqueeze(0), kernel_y, padding=(1, 0)).squeeze(0).squeeze(0)\n",
    "    It = I2 - I1  # Temporal gradient\n",
    "\n",
    "    # Ensure all tensors have matching dimensions by cropping to the smallest dimensions\n",
    "    min_h = min(Ix.shape[-2], Iy.shape[-2], It.shape[-2], I1.shape[-2])\n",
    "    min_w = min(Ix.shape[-1], Iy.shape[-1], It.shape[-1], I1.shape[-1])\n",
    "\n",
    "    # No additional indexing needed here\n",
    "    Ix = Ix[:min_h, :min_w]\n",
    "    Iy = Iy[:min_h, :min_w]\n",
    "    It = It[:min_h, :min_w]\n",
    "    u = u[:min_h, :min_w]\n",
    "    v = v[:min_h, :min_w]\n",
    "\n",
    "    # Iteratively update the optical flow\n",
    "    for _ in range(iterations):\n",
    "        # Average flow in the neighborhood\n",
    "        u_avg = Fun.avg_pool2d(u.unsqueeze(0).unsqueeze(0), 3, stride=1, padding=1).squeeze(0).squeeze(0)\n",
    "        v_avg = Fun.avg_pool2d(v.unsqueeze(0).unsqueeze(0), 3, stride=1, padding=1).squeeze(0).squeeze(0)\n",
    "        \n",
    "        # Optical flow update step based on Horn-Schunck method\n",
    "        P = Ix * u_avg + Iy * v_avg + It\n",
    "        D = alpha ** 2 + Ix ** 2 + Iy ** 2\n",
    "        \n",
    "        u = u_avg - (Ix * P) / D\n",
    "        v = v_avg - (Iy * P) / D\n",
    "\n",
    "    # Stack u and v to form the flow tensor\n",
    "    flow = torch.stack((u, v), dim=0)\n",
    "    return flow"
   ]
  },
  {
   "cell_type": "code",
   "execution_count": 112,
   "id": "96a9ff93",
   "metadata": {},
   "outputs": [],
   "source": [
    "def draw_OF(img1: torch.Tensor, flow: torch.Tensor, Size=(320,320),step: int = 8):\n",
    "    # Convert images from Torch tensor to NumPy arrays and to uint8\n",
    "    img1_np = img1.permute(1, 2, 0).detach().numpy() * 255.0\n",
    "    img1_np = img1_np.astype(np.uint8)\n",
    "\n",
    "    # Create a copy of the first image to draw the flow\n",
    "    img_flow = img1_np.copy()\n",
    "\n",
    "    # Prepare the grid for the starting points of the arrows\n",
    "    h, w = flow.shape[1], flow.shape[2]\n",
    "    y, x = np.mgrid[step // 2:h:step, step // 2:w:step]\n",
    "    \n",
    "    # Get the flow vectors\n",
    "    fx = flow[0].detach().numpy()\n",
    "    fy = flow[1].detach().numpy()\n",
    "    \n",
    "    # Draw arrows for the flow vectors\n",
    "    for i in range(y.shape[0]):\n",
    "        for j in range(y.shape[1]):\n",
    "            start_point = (x[i, j], y[i, j])\n",
    "            end_point = (int(x[i, j] + fx[y[i, j], x[i, j]]), int(y[i, j] + fy[y[i, j], x[i, j]]))\n",
    "            cv2.arrowedLine(img_flow, start_point, end_point, (0, 255, 0), 1, tipLength=0.3)\n",
    "\n",
    "    return cv2.resize(img_flow,Size,interpolation=cv2.INTER_AREA)"
   ]
  },
  {
   "cell_type": "code",
   "execution_count": 113,
   "id": "de6c3bd1",
   "metadata": {},
   "outputs": [],
   "source": [
    "import torch\n",
    "\n",
    "def dif_hist(image, num_bins=256, min_val=0.0, max_val=1.0):\n",
    "    # Rescale the image to the range [0, num_bins]\n",
    "    image_scaled = (image - min_val) / (max_val - min_val) * (num_bins - 1)\n",
    "    # Create bin centers\n",
    "    bin_centers = torch.linspace(0, num_bins - 1, num_bins, device=image.device)\n",
    "    # Expand bin centers for broadcasting\n",
    "    bin_centers = bin_centers.view(1, 1, 1, -1)\n",
    "    # Compute the soft assignment (weights) to each bin using Gaussian kernel\n",
    "    histograms = torch.exp(-(image_scaled.unsqueeze(-1) - bin_centers) ** 2)\n",
    "    # Sum over all pixels to get the histogram\n",
    "    histograms = histograms.sum(dim=[2, 3])  # Sum over height and width\n",
    "    # Normalize the histogram to sum to 1\n",
    "    histograms = histograms / histograms.sum(dim=-1, keepdim=True)\n",
    "    return histograms\n",
    "\n",
    "def histogram_loss(image_gen, image_target, num_bins=256):\n",
    "    # Ensure images are in the range [0, 1]\n",
    "    image_gen = torch.clamp(image_gen, 0.0, 1.0)\n",
    "    image_target = torch.clamp(image_target, 0.0, 1.0)\n",
    "    # Calculate differentiable histograms for generated and target images\n",
    "    hist_gen = dif_hist(image_gen, num_bins=num_bins)\n",
    "    hist_target = dif_hist(image_target, num_bins=num_bins)\n",
    "    # Calculate the histogram difference (L2 norm for histogram loss)\n",
    "    loss = torch.sum((hist_gen - hist_target) ** 2, dim=-1).mean()\n",
    "    return loss"
   ]
  },
  {
   "cell_type": "code",
   "execution_count": 114,
   "id": "ab23eb3a",
   "metadata": {},
   "outputs": [],
   "source": [
    "def train(In,Edges,EdgesX,EdgesY,ke,kX,kY,Params=None,N=1,Epochs=10,Steps=5,LR=1e-3):\n",
    "    # Ensure inputs are float32 and have correct shape (batch_size, channels, height, width)\n",
    "    if Params is None:\n",
    "        k, kt, kb = Gen_Params(N)\n",
    "    else:\n",
    "        k, kt, kb = Extract(Params)\n",
    "        N = len(kt)//2\n",
    "    \n",
    "    if N > len(In[0]) // 2:\n",
    "        print(\"Not enough frames for size\", N)\n",
    "        return None, None, None\n",
    "    \n",
    "    # Ensure the optimizer is handling float32 parameters\n",
    "    optimizer = optim.NAdam([p for p in k] + [j for p in kt for j in p], lr=LR)\n",
    "\n",
    "    Loss = []\n",
    "    LossAll = []   \n",
    "\n",
    "    total_steps = Epochs * len(In) * (len(In[0]) - 2 * N)\n",
    "    step_count = 0\n",
    "    start_time = time.time()\n",
    "\n",
    "    for epoch in range(Epochs):\n",
    "        total_loss = 0.0\n",
    "        random.shuffle(In)\n",
    "        for v in range(len(In)):\n",
    "            for f in range(len(In[v]) - 2 * N):\n",
    "                step_count += 1\n",
    "                first, current, last = f, f + N // 2, f + N\n",
    "                Inc = In[v][current].clone()\n",
    "\n",
    "                optimizer.zero_grad()\n",
    "\n",
    "                if random.randint(0, 2)>= 1:\n",
    "                    steps = random.randint(1, Steps)\n",
    "                    for s in range(steps):\n",
    "                        Inc = AddOneInc1(Inc)\n",
    "\n",
    "                # Perform forward pass\n",
    "                Pred = ObjFun(In[v][first:last], Inc, k, kt, kb)\n",
    "                ed = Fun.conv2d(Pred, ke, stride=1, padding=1)\n",
    "                edX = Fun.conv2d(Pred, kX, stride=1, padding=1)\n",
    "                edY = Fun.conv2d(Pred, kY, stride=1, padding=1)\n",
    "                \n",
    "\n",
    "                # Optical Flow Loss\n",
    "                original_flow_past = OF(In[v][current-1].squeeze(0), In[v][current].squeeze(0))\n",
    "                predicted_flow_past = OF(In[v][current-1].squeeze(0), Pred.squeeze(0))\n",
    "                original_flow_future = OF(In[v][current].squeeze(0), In[v][current+1].squeeze(0))\n",
    "                predicted_flow_future = OF(Pred.squeeze(0),In[v][current+1].squeeze(0))\n",
    "\n",
    "                # Compute losses (reconstruction + edge + optical flow loss)\n",
    "                reconstruction_loss = Fun.mse_loss(Pred*255,In[v][current]*255)\n",
    "                edge_loss = (Fun.mse_loss(ed*255,Edges[v][current]*255)+Fun.mse_loss(edX*255,EdgesX[v][current]*255)+Fun.mse_loss(edY*255,EdgesY[v][current]*255))/3\n",
    "                flow_loss_p = Fun.mse_loss(original_flow_past*255,predicted_flow_past*255)\n",
    "                flow_loss_f = Fun.mse_loss(original_flow_future*255,predicted_flow_future*255)\n",
    "                hist_loss = histogram_loss(In[v][current]*255,Pred*255)\n",
    "\n",
    "                # Total loss\n",
    "                loss = reconstruction_loss + edge_loss + flow_loss_p + flow_loss_f + hist_loss\n",
    "\n",
    "                # Backpropagation\n",
    "                loss.backward()\n",
    "                optimizer.step()\n",
    "\n",
    "                LossAll.append(loss.item())\n",
    "                total_loss += loss.item()\n",
    "\n",
    "                # Visualization\n",
    "                cv2.imshow(\"Inconsistent\",(Inc[0]*255).squeeze(0).permute(1,2,0).detach().cpu().numpy().astype(np.uint8))\n",
    "                cv2.imshow(\"Predicted\",(Pred[0]*255).squeeze(0).permute(1,2,0).detach().cpu().numpy().astype(np.uint8))\n",
    "                cv2.waitKey(1)\n",
    "\n",
    "                # Time estimation\n",
    "                current_time = time.time()\n",
    "                elapsed_time = current_time - start_time\n",
    "                avg_time_per_step = elapsed_time / step_count\n",
    "                estimated_remaining_time = avg_time_per_step * (total_steps - step_count)\n",
    "\n",
    "                hrs = int(estimated_remaining_time // 3600)\n",
    "                mins = int((estimated_remaining_time % 3600) // 60)\n",
    "                secs = int(estimated_remaining_time % 60)\n",
    "                print(f'Epoch[{epoch+1}/{Epochs}] Video[{v+1}/{len(In)}] Frame[{f+1}/{len(In[v])-2*N}] '\n",
    "                      f'Loss:{loss.item():.0f} Time Remaining: {hrs:02}:{mins:02}:{secs:02}', end='\\r')\n",
    "\n",
    "        Loss.append(total_loss/len(In)/(len(In[v])-2*N))\n",
    "        print(f'\\nEpoch [{epoch + 1}/{Epochs}], Loss: {Loss[-1]:.0f}')\n",
    "\n",
    "        if epoch >= 1 and Loss[-1] < Loss[-2]:\n",
    "            P = {'k': k, 'kt': kt, 'kb': kb}\n",
    "        elif epoch > 1 and Loss[-1] > Loss[-2]:\n",
    "            k, kt, kb = Extract(P)\n",
    "        elif epoch < 1:\n",
    "            P = {'k': k, 'kt': kt, 'kb': kb}\n",
    "\n",
    "    cv2.destroyAllWindows()\n",
    "    return P, Loss, LossAll\n"
   ]
  },
  {
   "cell_type": "code",
   "execution_count": 127,
   "id": "d41e244a",
   "metadata": {},
   "outputs": [],
   "source": [
    "Consec = 3\n",
    "Frames = read_first_frames(\"VDB\",Consec)\n",
    "Vids = [[Frames[j*Consec+i] for i in range(Consec)] for j in range(len(Frames)//Consec)]\n",
    "In = [[torch.tensor(cv2.resize(i, (320, 320), interpolation=cv2.INTER_AREA),\n",
    "                    dtype=torch.float32).permute(2, 0, 1).unsqueeze(0) / 255.0 for i in v] for v in Vids]\n",
    "k = torch.tensor([[[[0, -1, 0], [-1, 4, -1], [0, -1, 0]]]*3]*3, dtype=torch.float32)\n",
    "Edges = [[Fun.conv2d(i, k, stride=1, padding=1) for i in v] for v in In]\n",
    "kX = torch.tensor([[[[0, 0, 0], [-1, 0, 1], [0, 0, 0]]]*3]*3, dtype=torch.float32)\n",
    "EdgesX = [[Fun.conv2d(i, kX, stride=1, padding=1) for i in v] for v in In]\n",
    "kY = torch.tensor([[[[0, -1, 0], [0, 0, 0], [0, 1, 0]]]*3]*3, dtype=torch.float32)\n",
    "EdgesY = [[Fun.conv2d(i, kY, stride=1, padding=1) for i in v] for v in In]"
   ]
  },
  {
   "cell_type": "code",
   "execution_count": 116,
   "id": "b3156019",
   "metadata": {},
   "outputs": [],
   "source": [
    "cv2.destroyAllWindows()"
   ]
  },
  {
   "cell_type": "code",
   "execution_count": 117,
   "id": "9f0de713",
   "metadata": {},
   "outputs": [],
   "source": [
    "Parameters = None#torch.load(\"paramstimedof3.pth\")"
   ]
  },
  {
   "cell_type": "code",
   "execution_count": 129,
   "id": "d92a58e5",
   "metadata": {},
   "outputs": [],
   "source": [
    "torch.save(Parameters,'par.pth')"
   ]
  },
  {
   "cell_type": "code",
   "execution_count": 128,
   "id": "cee74f52",
   "metadata": {
    "scrolled": false
   },
   "outputs": [
    {
     "name": "stdout",
     "output_type": "stream",
     "text": [
      "Epoch[1/10] Video[17/34] Frame[1/1] Loss:681153984 Time Remaining: 00:53:198\r"
     ]
    },
    {
     "ename": "KeyboardInterrupt",
     "evalue": "",
     "output_type": "error",
     "traceback": [
      "\u001b[1;31m---------------------------------------------------------------------------\u001b[0m",
      "\u001b[1;31mKeyboardInterrupt\u001b[0m                         Traceback (most recent call last)",
      "\u001b[1;32m<ipython-input-128-683b803660ff>\u001b[0m in \u001b[0;36m<module>\u001b[1;34m\u001b[0m\n\u001b[1;32m----> 1\u001b[1;33m \u001b[0mParameters\u001b[0m\u001b[1;33m,\u001b[0m\u001b[0mL\u001b[0m\u001b[1;33m,\u001b[0m\u001b[0mLA\u001b[0m \u001b[1;33m=\u001b[0m \u001b[0mtrain\u001b[0m\u001b[1;33m(\u001b[0m\u001b[0mIn\u001b[0m\u001b[1;33m,\u001b[0m\u001b[0mEdges\u001b[0m\u001b[1;33m,\u001b[0m\u001b[0mEdgesX\u001b[0m\u001b[1;33m,\u001b[0m\u001b[0mEdgesY\u001b[0m\u001b[1;33m,\u001b[0m\u001b[0mk\u001b[0m\u001b[1;33m,\u001b[0m\u001b[0mkX\u001b[0m\u001b[1;33m,\u001b[0m\u001b[0mkY\u001b[0m\u001b[1;33m,\u001b[0m\u001b[0mParams\u001b[0m\u001b[1;33m=\u001b[0m\u001b[0mParameters\u001b[0m\u001b[1;33m,\u001b[0m\u001b[0mN\u001b[0m\u001b[1;33m=\u001b[0m\u001b[1;36m1\u001b[0m\u001b[1;33m,\u001b[0m\u001b[0mEpochs\u001b[0m\u001b[1;33m=\u001b[0m\u001b[1;36m10\u001b[0m\u001b[1;33m,\u001b[0m\u001b[0mSteps\u001b[0m\u001b[1;33m=\u001b[0m\u001b[1;36m10\u001b[0m\u001b[1;33m,\u001b[0m\u001b[0mLR\u001b[0m\u001b[1;33m=\u001b[0m\u001b[1;36m1e-2\u001b[0m\u001b[1;33m)\u001b[0m\u001b[1;33m\u001b[0m\u001b[1;33m\u001b[0m\u001b[0m\n\u001b[0m",
      "\u001b[1;32m<ipython-input-114-7e880b117e1d>\u001b[0m in \u001b[0;36mtrain\u001b[1;34m(In, Edges, EdgesX, EdgesY, ke, kX, kY, Params, N, Epochs, Steps, LR)\u001b[0m\n\u001b[0;32m     55\u001b[0m                 \u001b[0mflow_loss_p\u001b[0m \u001b[1;33m=\u001b[0m \u001b[0mFun\u001b[0m\u001b[1;33m.\u001b[0m\u001b[0mmse_loss\u001b[0m\u001b[1;33m(\u001b[0m\u001b[0moriginal_flow_past\u001b[0m\u001b[1;33m*\u001b[0m\u001b[1;36m255\u001b[0m\u001b[1;33m,\u001b[0m\u001b[0mpredicted_flow_past\u001b[0m\u001b[1;33m*\u001b[0m\u001b[1;36m255\u001b[0m\u001b[1;33m)\u001b[0m\u001b[1;33m\u001b[0m\u001b[1;33m\u001b[0m\u001b[0m\n\u001b[0;32m     56\u001b[0m                 \u001b[0mflow_loss_f\u001b[0m \u001b[1;33m=\u001b[0m \u001b[0mFun\u001b[0m\u001b[1;33m.\u001b[0m\u001b[0mmse_loss\u001b[0m\u001b[1;33m(\u001b[0m\u001b[0moriginal_flow_future\u001b[0m\u001b[1;33m*\u001b[0m\u001b[1;36m255\u001b[0m\u001b[1;33m,\u001b[0m\u001b[0mpredicted_flow_future\u001b[0m\u001b[1;33m*\u001b[0m\u001b[1;36m255\u001b[0m\u001b[1;33m)\u001b[0m\u001b[1;33m\u001b[0m\u001b[1;33m\u001b[0m\u001b[0m\n\u001b[1;32m---> 57\u001b[1;33m                 \u001b[0mhist_loss\u001b[0m \u001b[1;33m=\u001b[0m \u001b[0mhistogram_loss\u001b[0m\u001b[1;33m(\u001b[0m\u001b[0mIn\u001b[0m\u001b[1;33m[\u001b[0m\u001b[0mv\u001b[0m\u001b[1;33m]\u001b[0m\u001b[1;33m[\u001b[0m\u001b[0mcurrent\u001b[0m\u001b[1;33m]\u001b[0m\u001b[1;33m*\u001b[0m\u001b[1;36m255\u001b[0m\u001b[1;33m,\u001b[0m\u001b[0mPred\u001b[0m\u001b[1;33m*\u001b[0m\u001b[1;36m255\u001b[0m\u001b[1;33m)\u001b[0m\u001b[1;33m\u001b[0m\u001b[1;33m\u001b[0m\u001b[0m\n\u001b[0m\u001b[0;32m     58\u001b[0m \u001b[1;33m\u001b[0m\u001b[0m\n\u001b[0;32m     59\u001b[0m                 \u001b[1;31m# Total loss\u001b[0m\u001b[1;33m\u001b[0m\u001b[1;33m\u001b[0m\u001b[1;33m\u001b[0m\u001b[0m\n",
      "\u001b[1;32m<ipython-input-113-1bf678a4e567>\u001b[0m in \u001b[0;36mhistogram_loss\u001b[1;34m(image_gen, image_target, num_bins)\u001b[0m\n\u001b[0;32m     21\u001b[0m     \u001b[0mimage_target\u001b[0m \u001b[1;33m=\u001b[0m \u001b[0mtorch\u001b[0m\u001b[1;33m.\u001b[0m\u001b[0mclamp\u001b[0m\u001b[1;33m(\u001b[0m\u001b[0mimage_target\u001b[0m\u001b[1;33m,\u001b[0m \u001b[1;36m0.0\u001b[0m\u001b[1;33m,\u001b[0m \u001b[1;36m1.0\u001b[0m\u001b[1;33m)\u001b[0m\u001b[1;33m\u001b[0m\u001b[1;33m\u001b[0m\u001b[0m\n\u001b[0;32m     22\u001b[0m     \u001b[1;31m# Calculate differentiable histograms for generated and target images\u001b[0m\u001b[1;33m\u001b[0m\u001b[1;33m\u001b[0m\u001b[1;33m\u001b[0m\u001b[0m\n\u001b[1;32m---> 23\u001b[1;33m     \u001b[0mhist_gen\u001b[0m \u001b[1;33m=\u001b[0m \u001b[0mdif_hist\u001b[0m\u001b[1;33m(\u001b[0m\u001b[0mimage_gen\u001b[0m\u001b[1;33m,\u001b[0m \u001b[0mnum_bins\u001b[0m\u001b[1;33m=\u001b[0m\u001b[0mnum_bins\u001b[0m\u001b[1;33m)\u001b[0m\u001b[1;33m\u001b[0m\u001b[1;33m\u001b[0m\u001b[0m\n\u001b[0m\u001b[0;32m     24\u001b[0m     \u001b[0mhist_target\u001b[0m \u001b[1;33m=\u001b[0m \u001b[0mdif_hist\u001b[0m\u001b[1;33m(\u001b[0m\u001b[0mimage_target\u001b[0m\u001b[1;33m,\u001b[0m \u001b[0mnum_bins\u001b[0m\u001b[1;33m=\u001b[0m\u001b[0mnum_bins\u001b[0m\u001b[1;33m)\u001b[0m\u001b[1;33m\u001b[0m\u001b[1;33m\u001b[0m\u001b[0m\n\u001b[0;32m     25\u001b[0m     \u001b[1;31m# Calculate the histogram difference (L2 norm for histogram loss)\u001b[0m\u001b[1;33m\u001b[0m\u001b[1;33m\u001b[0m\u001b[1;33m\u001b[0m\u001b[0m\n",
      "\u001b[1;32m<ipython-input-113-1bf678a4e567>\u001b[0m in \u001b[0;36mdif_hist\u001b[1;34m(image, num_bins, min_val, max_val)\u001b[0m\n\u001b[0;32m      3\u001b[0m \u001b[1;32mdef\u001b[0m \u001b[0mdif_hist\u001b[0m\u001b[1;33m(\u001b[0m\u001b[0mimage\u001b[0m\u001b[1;33m,\u001b[0m \u001b[0mnum_bins\u001b[0m\u001b[1;33m=\u001b[0m\u001b[1;36m256\u001b[0m\u001b[1;33m,\u001b[0m \u001b[0mmin_val\u001b[0m\u001b[1;33m=\u001b[0m\u001b[1;36m0.0\u001b[0m\u001b[1;33m,\u001b[0m \u001b[0mmax_val\u001b[0m\u001b[1;33m=\u001b[0m\u001b[1;36m1.0\u001b[0m\u001b[1;33m)\u001b[0m\u001b[1;33m:\u001b[0m\u001b[1;33m\u001b[0m\u001b[1;33m\u001b[0m\u001b[0m\n\u001b[0;32m      4\u001b[0m     \u001b[1;31m# Rescale the image to the range [0, num_bins]\u001b[0m\u001b[1;33m\u001b[0m\u001b[1;33m\u001b[0m\u001b[1;33m\u001b[0m\u001b[0m\n\u001b[1;32m----> 5\u001b[1;33m     \u001b[0mimage_scaled\u001b[0m \u001b[1;33m=\u001b[0m \u001b[1;33m(\u001b[0m\u001b[0mimage\u001b[0m \u001b[1;33m-\u001b[0m \u001b[0mmin_val\u001b[0m\u001b[1;33m)\u001b[0m \u001b[1;33m/\u001b[0m \u001b[1;33m(\u001b[0m\u001b[0mmax_val\u001b[0m \u001b[1;33m-\u001b[0m \u001b[0mmin_val\u001b[0m\u001b[1;33m)\u001b[0m \u001b[1;33m*\u001b[0m \u001b[1;33m(\u001b[0m\u001b[0mnum_bins\u001b[0m \u001b[1;33m-\u001b[0m \u001b[1;36m1\u001b[0m\u001b[1;33m)\u001b[0m\u001b[1;33m\u001b[0m\u001b[1;33m\u001b[0m\u001b[0m\n\u001b[0m\u001b[0;32m      6\u001b[0m     \u001b[1;31m# Create bin centers\u001b[0m\u001b[1;33m\u001b[0m\u001b[1;33m\u001b[0m\u001b[1;33m\u001b[0m\u001b[0m\n\u001b[0;32m      7\u001b[0m     \u001b[0mbin_centers\u001b[0m \u001b[1;33m=\u001b[0m \u001b[0mtorch\u001b[0m\u001b[1;33m.\u001b[0m\u001b[0mlinspace\u001b[0m\u001b[1;33m(\u001b[0m\u001b[1;36m0\u001b[0m\u001b[1;33m,\u001b[0m \u001b[0mnum_bins\u001b[0m \u001b[1;33m-\u001b[0m \u001b[1;36m1\u001b[0m\u001b[1;33m,\u001b[0m \u001b[0mnum_bins\u001b[0m\u001b[1;33m,\u001b[0m \u001b[0mdevice\u001b[0m\u001b[1;33m=\u001b[0m\u001b[0mimage\u001b[0m\u001b[1;33m.\u001b[0m\u001b[0mdevice\u001b[0m\u001b[1;33m)\u001b[0m\u001b[1;33m\u001b[0m\u001b[1;33m\u001b[0m\u001b[0m\n",
      "\u001b[1;31mKeyboardInterrupt\u001b[0m: "
     ]
    }
   ],
   "source": [
    "Parameters,L,LA = train(In,Edges,EdgesX,EdgesY,k,kX,kY,Params=Parameters,N=1,Epochs=10,Steps=10,LR=1e-2)"
   ]
  },
  {
   "cell_type": "code",
   "execution_count": 119,
   "id": "37f0fa62",
   "metadata": {},
   "outputs": [
    {
     "data": {
      "image/png": "[encoded data removed]",
      "text/plain": [
       "<Figure size 432x288 with 1 Axes>"
      ]
     },
     "metadata": {
      "needs_background": "light"
     },
     "output_type": "display_data"
    }
   ],
   "source": [
    "plt.plot(L)\n",
    "plt.yscale('log')"
   ]
  },
  {
   "cell_type": "code",
   "execution_count": 120,
   "id": "2e2b3276",
   "metadata": {},
   "outputs": [
    {
     "data": {
      "image/png": "[encoded data removed]",
      "text/plain": [
       "<Figure size 432x288 with 1 Axes>"
      ]
     },
     "metadata": {
      "needs_background": "light"
     },
     "output_type": "display_data"
    }
   ],
   "source": [
    "r = 1\n",
    "plt.plot([sum(LA[i:i+r])/r for i in range(0,len(LA),r)])\n",
    "plt.yscale('log')"
   ]
  },
  {
   "cell_type": "code",
   "execution_count": 121,
   "id": "7457e2cd",
   "metadata": {},
   "outputs": [],
   "source": [
    "##Add detail error, MSE of full image only minimizes general pixel distribution\n",
    "##Add more training examples\n",
    "##Add N previous and N post current inconsistence image\n",
    "##Add optical flow, frequencies or other features for temporal consistency\n",
    "##Different kernel sizes\n",
    "##Add Gaisian Noise\n",
    "##Reconstruct image with kernel middle between encoder and decofer\n",
    "##Use data with less loss value, selection\n",
    "##How to combine data with less error and with more error?\n",
    "##Localize area and correct error"
   ]
  },
  {
   "cell_type": "code",
   "execution_count": 122,
   "id": "c3a4887f",
   "metadata": {},
   "outputs": [],
   "source": [
    "def Prediction(Vid,Params):\n",
    "    P = []\n",
    "    V = [torch.tensor(cv2.resize(i,(320,320),interpolation=cv2.INTER_AREA),\n",
    "                              dtype=torch.float32).permute(2,0,1).unsqueeze(0)/255.0 for i in Vid]\n",
    "    k,kt,kb = Extract(Params)\n",
    "    N = len(kt)//2\n",
    "    for f in range(len(V) - 2 * N):\n",
    "        first, current, last = f, f + N // 2, f + N\n",
    "        Pred = ObjFun(V[first:last], V[current], k, kt, kb)\n",
    "        P.append(cv2.resize((Pred[0] * 255).squeeze(0).permute(1, 2, 0).detach().cpu().numpy().astype(np.uint8),\n",
    "                                           (Vid[f].shape[1], Vid[f].shape[0]), interpolation=cv2.INTER_AREA))\n",
    "    return P"
   ]
  },
  {
   "cell_type": "code",
   "execution_count": 123,
   "id": "c14cd35e",
   "metadata": {},
   "outputs": [],
   "source": [
    "Parameters = torch.load(\"par.pth\")\n",
    "cap = open_vid(\"AI Gen/movie(31).mp4\")\n",
    "Video = get_frames(cap)"
   ]
  },
  {
   "cell_type": "code",
   "execution_count": 124,
   "id": "12b83974",
   "metadata": {},
   "outputs": [],
   "source": [
    "PVid = Prediction(Video,Parameters)"
   ]
  },
  {
   "cell_type": "code",
   "execution_count": 125,
   "id": "8881ae45",
   "metadata": {},
   "outputs": [],
   "source": [
    "ThroughFrames(PVid)"
   ]
  },
  {
   "cell_type": "code",
   "execution_count": null,
   "id": "1f68202b",
   "metadata": {},
   "outputs": [],
   "source": []
  }
 ],
 "metadata": {
  "kernelspec": {
   "display_name": "Python 3",
   "language": "python",
   "name": "python3"
  },
  "language_info": {
   "codemirror_mode": {
    "name": "ipython",
    "version": 3
   },
   "file_extension": ".py",
   "mimetype": "text/x-python",
   "name": "python",
   "nbconvert_exporter": "python",
   "pygments_lexer": "ipython3",
   "version": "3.7.6"
  }
 },
 "nbformat": 4,
 "nbformat_minor": 5
}
