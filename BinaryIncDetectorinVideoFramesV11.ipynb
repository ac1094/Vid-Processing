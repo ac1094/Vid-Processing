{
 "cells": [
  {
   "cell_type": "code",
   "execution_count": 2,
   "id": "3ee80d8c",
   "metadata": {},
   "outputs": [
    {
     "name": "stdout",
     "output_type": "stream",
     "text": [
      "importing Jupyter notebook from Functions.ipynb\n"
     ]
    }
   ],
   "source": [
    "import import_ipynb\n",
    "from Functions import *"
   ]
  },
  {
   "cell_type": "markdown",
   "id": "ea5667ef",
   "metadata": {},
   "source": [
    "# Main Model"
   ]
  },
  {
   "cell_type": "code",
   "execution_count": 31,
   "id": "f0bcedde",
   "metadata": {},
   "outputs": [],
   "source": [
    "class ImageStackDNN(nn.Module):\n",
    "    def __init__(self, input_channels):\n",
    "        super(ImageStackDNN, self).__init__()\n",
    "\n",
    "        # Convolutional layers\n",
    "        self.conv1 = nn.Conv2d(input_channels, 64, kernel_size=3, padding=1)\n",
    "        self.conv2 = nn.Conv2d(64, 128, kernel_size=3, padding=1)\n",
    "        self.conv3 = nn.Conv2d(128, 256, kernel_size=3, padding=1)\n",
    "        self.pool = nn.MaxPool2d(2, 2)\n",
    "\n",
    "        # Fully connected layers\n",
    "        self.fc1 = nn.Linear(256 * 50 * 50, 1024)\n",
    "        self.fc2 = nn.Linear(1024, 256 * 50 * 50)\n",
    "\n",
    "        # Final conv to reduce to 1 channel\n",
    "        self.final_conv = nn.Conv2d(256, 1, kernel_size=1)\n",
    "\n",
    "    def forward(self, x):\n",
    "        # x shape: (1, N*3, 400, 400)\n",
    "        x = Fun.relu(self.conv1(x))      # -> (1, 64, 400, 400)\n",
    "        x = self.pool(x)               # -> (1, 64, 200, 200)\n",
    "        x = Fun.relu(self.conv2(x))      # -> (1, 128, 200, 200)\n",
    "        x = self.pool(x)               # -> (1, 128, 100, 100)\n",
    "        x = Fun.relu(self.conv3(x))      # -> (1, 256, 100, 100)\n",
    "        x = self.pool(x)               # -> (1, 256, 50, 50)\n",
    "\n",
    "        # Flatten for fully connected layers\n",
    "        x_flat = x.view(x.size(0), -1)           # -> (1, 256*50*50)\n",
    "        x_fc = Fun.relu(self.fc1(x_flat))          # -> (1, 1024)\n",
    "        x_fc = Fun.relu(self.fc2(x_fc))            # -> (1, 256*50*50)\n",
    "\n",
    "        # Reshape back to conv feature map\n",
    "        x_reshaped = x_fc.view(x.size(0), 256, 50, 50)\n",
    "\n",
    "        # Upsample back to original size\n",
    "        x_up = Fun.interpolate(x_reshaped, size=(400, 400), mode='bilinear', align_corners=False)\n",
    "\n",
    "        # Final conv to get single channel output\n",
    "        output = self.final_conv(x_up)           # -> (1, 1, 400, 400)\n",
    "        return Fun.sigmoid(output)\n"
   ]
  },
  {
   "cell_type": "code",
   "execution_count": 34,
   "id": "1cb7dbaa",
   "metadata": {},
   "outputs": [
    {
     "name": "stdout",
     "output_type": "stream",
     "text": [
      "torch.Size([1, 1, 400, 400])\n"
     ]
    }
   ],
   "source": [
    "N=1\n",
    "model = ImageStackDNN(input_channels=3 * N)  # If you have N RGB images\n",
    "input_tensor = torch.randn(1, 3*N, 400, 400)  # Your image stack\n",
    "output = model(input_tensor)\n",
    "print(output.shape)  # Expected: torch.Size([1, 1, 400, 400])"
   ]
  },
  {
   "cell_type": "code",
   "execution_count": 18,
   "id": "654bc9f6",
   "metadata": {},
   "outputs": [],
   "source": [
    "def load_models(N,path=None):\n",
    "    # Initialize Model Shapes\n",
    "    modelsFrames = [FramesModel() for _ in range(N)]\n",
    "    #modelsDiff = [DiffModel() for _ in range(N)]\n",
    "    #modelsOF = [OFModel() for _ in range(N)]\n",
    "    #modelsEdges = [EdgesModel() for _ in range(N)]\n",
    "    #modelsSSIM = [SSIMModel() for _ in range(N)]\n",
    "    #modelsWarp = [WarpModel() for _ in range(N)]\n",
    "    #modelsClusterG = [ClusterGModel() for _ in range(N)]\n",
    "    #modelsClusterRGB = [ClusterRGBModel() for _ in range(N)]\n",
    "    #modelsWarpCluster = [WarpClusterModel() for _ in range(N)]\n",
    "    \n",
    "    # Load the state_dicts\n",
    "    if path is not None:\n",
    "        checkpoint = torch.load(state_path)\n",
    "        for model, state_dict in zip(modelsFrames, checkpoint[\"frames\"]):\n",
    "            model.load_state_dict(state_dict)\n",
    "        for model, state_dict in zip(modelsDiff, checkpoint[\"diff\"]):\n",
    "            model.load_state_dict(state_dict)\n",
    "        for model, state_dict in zip(modelsOF, checkpoint[\"optical_flow\"]):\n",
    "            model.load_state_dict(state_dict)\n",
    "        for model, state_dict in zip(modelsEdges, checkpoint[\"edges\"]):\n",
    "            model.load_state_dict(state_dict)\n",
    "        for model, state_dict in zip(modelsSSIM, checkpoint[\"ssim\"]):\n",
    "            model.load_state_dict(state_dict)\n",
    "        for model, state_dict in zip(modelsWarp, checkpoint[\"warp\"]):\n",
    "            model.load_state_dict(state_dict)\n",
    "        for model, state_dict in zip(modelsClusterG, checkpoint[\"clusterG\"]):\n",
    "            model.load_state_dict(state_dict)\n",
    "        for model, state_dict in zip(modelsClusterRGB, checkpoint[\"clusterRGB\"]):\n",
    "            model.load_state_dict(state_dict)\n",
    "        for model, state_dict in zip(modelsWarpCluster, checkpoint[\"warpcluster\"]):\n",
    "            model.load_state_dict(state_dict)\n",
    "    return modelsFrames#,modelsDiff,modelsOF,modelsEdges,modelsSSIM,modelsWarp,modelsClusterG,modelsWarpCluster"
   ]
  },
  {
   "cell_type": "code",
   "execution_count": 19,
   "id": "372e4e04",
   "metadata": {},
   "outputs": [],
   "source": [
    "def AddInconsistencies(Frames,steps,Size,N):\n",
    "    IncFrames = Frames.copy()\n",
    "            \n",
    "    IncGrid = torch.zeros(Size[0]//25, Size[1]//25)\n",
    "    BinImg = np.zeros(Size)\n",
    "    Bin = torch.tensor(np.zeros(Frames[0].shape[1:]).astype(np.float32))\n",
    "            \n",
    "    steps = random.randint(1, Steps)\n",
    "    for s in range(steps):\n",
    "        x = random.randint(0, 5 * Size[0] // 6)\n",
    "        y = random.randint(0, 5 * Size[1] // 6)\n",
    "        xl = random.randint(10, Size[0] // 10)\n",
    "        yl = random.randint(10, Size[1] // 10)\n",
    "                \n",
    "        for p in range(N):\n",
    "            if random.random() >= 0.5 and p != N // 2:\n",
    "                IncFrames[p], _ = AddOneInc2(torch.tensor(np.zeros(Frames[0].shape[:2]).astype(np.float32)), IncFrames[p], x=x, y=y, xl=xl, yl=yl)\n",
    "        IncFrames[N // 2], Bin = AddOneInc2(Bin, IncFrames[N // 2], x=x, y=y, xl=xl, yl=yl)\n",
    "                \n",
    "    PredGrid = torch.zeros(1, 1, Size[0], Size[1])\n",
    "    Bin = Bin.unsqueeze(0).unsqueeze(0)\n",
    "    return PredGrid,Bin,IncFrames"
   ]
  },
  {
   "cell_type": "markdown",
   "id": "21b9b457",
   "metadata": {},
   "source": [
    "# Training Function"
   ]
  },
  {
   "cell_type": "code",
   "execution_count": 20,
   "id": "9d94467d",
   "metadata": {},
   "outputs": [],
   "source": [
    "def train(Path, state_path=None, N=7, Batch=10, Epochs=10, Steps=5, LR=1e-3,Stride=10):\n",
    "    Size = (400, 400)  # Size of Frames\n",
    "    \n",
    "    #Load Models\n",
    "    #modelsFrames,modelsDiff,modelsOF,modelsEdges,modelsSSIM,modelsWarp,modelsClusterG,modelsWarpCluster\n",
    "    modelsFrames=load_models(N,state_path)\n",
    "    \n",
    "    #Initialize Optimizer\n",
    "    all_parameters = []\n",
    "    for model_list in [modelsFrames,modelsDiff,modelsOF,modelsEdges,modelsSSIM,modelsWarp,modelsClusterG,modelsClusterRGB,modelsWarpCluster]:\n",
    "        for model in model_list:\n",
    "            all_parameters += list(model.parameters())\n",
    "    optimizer = optim.Adam(all_parameters, lr=LR)\n",
    "    \n",
    "    # Loss function\n",
    "    criterion = nn.MSELoss()\n",
    "    criterion1 = nn.BCELoss()\n",
    "    \n",
    "    Loss = []\n",
    "    start_time = time.time()  # Track the start time of training\n",
    "    \n",
    "    total_batches = Epochs * Batch\n",
    "    \n",
    "    for epoch in range(Epochs):\n",
    "        total_loss = 0.0\n",
    "        epoch_start_time = time.time()\n",
    "        \n",
    "        for batch in range(Batch):\n",
    "            batch_start_time = time.time()\n",
    "            \n",
    "            # Get Frames\n",
    "            Frames = get_video_frames(Path, N, Size)\n",
    "            \n",
    "            PredGrid,Bin,IncFrames = AddInconsistencies(Frames,steps,Size,N)\n",
    "            \n",
    "            for v in range(Size[0]//Stride):\n",
    "                for h in range(Size[1]//Stride):\n",
    "                    if Stride*v+50<=300 and Stride*h+50<=300:\n",
    "                        feat = features[:, :, v * Stride:v * Stride + 50, h * Stride:h * Stride + 50].clone().detach()\n",
    "                        optimizer.zero_grad()\n",
    "                        Pred = model(feat)\n",
    "                        PredGrid[:, :, v * Stride:v * Stride + 50, h * Stride:h * Stride + 50] = Pred\n",
    "                        b = Bin[:, :, v * Stride:v * Stride + 50, h * Stride:h * Stride + 50].clone().detach()\n",
    "                        if Bin.max()>1:\n",
    "                            print(Bin.max(),v,h)\n",
    "                            \n",
    "                        loss = criterion(Pred, b)+ \\\n",
    "                               criterion(Bin,torch.tensor(BinImg,dtype=torch.float32).unsqueeze(0).unsqueeze(0))+ \\\n",
    "                               criterion1(Pred,b)+ \\\n",
    "                               criterion1(Bin,torch.tensor(BinImg,dtype=torch.float32).unsqueeze(0).unsqueeze(0))\n",
    "                        loss.backward()\n",
    "                        optimizer.step()\n",
    "\n",
    "                        bi = Frame2Numpy(Pred.squeeze(0).squeeze(0))\n",
    "                        BinImg[v * Stride:v * Stride + 50, h * Stride:h * Stride + 50] = bi\n",
    "\n",
    "                        elapsed_time = time.time() - start_time\n",
    "                        processed_batches = epoch * Batch + batch + 1\n",
    "                        remaining_batches = total_batches - processed_batches\n",
    "\n",
    "                        if processed_batches > 0:\n",
    "                            avg_time_per_batch = elapsed_time / processed_batches\n",
    "                            estimated_remaining_time = avg_time_per_batch * remaining_batches\n",
    "                        else:\n",
    "                            estimated_remaining_time = 0\n",
    "\n",
    "                        est_hours = int(estimated_remaining_time // 3600)\n",
    "                        est_mins = int((estimated_remaining_time % 3600) // 60)\n",
    "                        est_secs = int(estimated_remaining_time % 60)\n",
    "\n",
    "                        print(f'Batch [{batch+1}/{Batch}], Loss: {loss.item():.4f}, '\n",
    "                              f'ETA: {est_hours:02d}:{est_mins:02d}:{est_secs:02d}', end='\\r')\n",
    "\n",
    "                        f = Frame2Numpy(features[0, N * 3 // 2:N * 3 // 2 + 3])\n",
    "                        cv2.imshow(\"Predicted Inconsistencies\", BinImg)\n",
    "                        cv2.imshow(\"Thresholded Prediction\",(BinImg>0.5).astype(np.float32))\n",
    "                        cv2.imshow(\"Ground Truth\", Frame2Numpy(Bin.squeeze(0).squeeze(0)))\n",
    "                        cv2.imshow(\"Inconsistencies Frame\", f)\n",
    "                        cv2.waitKey(10)  # Check for key press every frame\n",
    "\n",
    "                        key = cv2.waitKey(1) & 0xFF\n",
    "                        if key == 27:\n",
    "                            print(\"Training stopped by user.\")\n",
    "                            cv2.destroyAllWindows()\n",
    "                            return Loss, model.state_dict()\n",
    "\n",
    "                        total_loss += loss.item()\n",
    "                    \n",
    "        epoch_time = time.time() - epoch_start_time\n",
    "        print(f'\\nEpoch [{epoch + 1}/{Epochs}], Loss: {total_loss / (Batch * 11 * 11):.6f}')\n",
    "        \n",
    "        LR *= 0.9\n",
    "        Loss.append(total_loss)\n",
    "    \n",
    "    states = model.state_dict()\n",
    "    cv2.destroyAllWindows()\n",
    "    return Loss, states\n"
   ]
  },
  {
   "cell_type": "markdown",
   "id": "f3c8369f",
   "metadata": {},
   "source": [
    "# Training"
   ]
  },
  {
   "cell_type": "code",
   "execution_count": 21,
   "id": "5787bc85",
   "metadata": {},
   "outputs": [],
   "source": [
    "cv2.destroyAllWindows()"
   ]
  },
  {
   "cell_type": "code",
   "execution_count": 22,
   "id": "8cf5198e",
   "metadata": {},
   "outputs": [],
   "source": [
    "State = None#torch.load(\"StatesBID3N300x300V10.pth\")"
   ]
  },
  {
   "cell_type": "code",
   "execution_count": 23,
   "id": "eebebaf2",
   "metadata": {},
   "outputs": [
    {
     "ename": "NameError",
     "evalue": "name 'FramesModel' is not defined",
     "output_type": "error",
     "traceback": [
      "\u001b[1;31m---------------------------------------------------------------------------\u001b[0m",
      "\u001b[1;31mNameError\u001b[0m                                 Traceback (most recent call last)",
      "\u001b[1;32m<ipython-input-23-6177d3cf5536>\u001b[0m in \u001b[0;36m<module>\u001b[1;34m\u001b[0m\n\u001b[1;32m----> 1\u001b[1;33m \u001b[0mL\u001b[0m\u001b[1;33m,\u001b[0m\u001b[0mState\u001b[0m \u001b[1;33m=\u001b[0m \u001b[0mtrain\u001b[0m\u001b[1;33m(\u001b[0m\u001b[1;34m'VDB/Toons'\u001b[0m\u001b[1;33m,\u001b[0m\u001b[0mBatch\u001b[0m\u001b[1;33m=\u001b[0m\u001b[1;36m50\u001b[0m\u001b[1;33m,\u001b[0m\u001b[0mstate_path\u001b[0m\u001b[1;33m=\u001b[0m\u001b[0mState\u001b[0m\u001b[1;33m,\u001b[0m\u001b[0mN\u001b[0m\u001b[1;33m=\u001b[0m\u001b[1;36m3\u001b[0m\u001b[1;33m,\u001b[0m\u001b[0mEpochs\u001b[0m\u001b[1;33m=\u001b[0m\u001b[1;36m20\u001b[0m\u001b[1;33m,\u001b[0m\u001b[0mSteps\u001b[0m\u001b[1;33m=\u001b[0m\u001b[1;36m25\u001b[0m\u001b[1;33m,\u001b[0m\u001b[0mLR\u001b[0m\u001b[1;33m=\u001b[0m\u001b[1;36m1e-4\u001b[0m\u001b[1;33m,\u001b[0m\u001b[0mStride\u001b[0m\u001b[1;33m=\u001b[0m\u001b[1;36m50\u001b[0m\u001b[1;33m)\u001b[0m\u001b[1;33m\u001b[0m\u001b[1;33m\u001b[0m\u001b[0m\n\u001b[0m",
      "\u001b[1;32m<ipython-input-20-8c9b7d53c818>\u001b[0m in \u001b[0;36mtrain\u001b[1;34m(Path, state_path, N, Batch, Epochs, Steps, LR, Stride)\u001b[0m\n\u001b[0;32m      3\u001b[0m \u001b[1;33m\u001b[0m\u001b[0m\n\u001b[0;32m      4\u001b[0m     \u001b[1;31m#Load Models\u001b[0m\u001b[1;33m\u001b[0m\u001b[1;33m\u001b[0m\u001b[1;33m\u001b[0m\u001b[0m\n\u001b[1;32m----> 5\u001b[1;33m     \u001b[0mmodelsFrames\u001b[0m\u001b[1;33m,\u001b[0m\u001b[0mmodelsDiff\u001b[0m\u001b[1;33m,\u001b[0m\u001b[0mmodelsOF\u001b[0m\u001b[1;33m,\u001b[0m\u001b[0mmodelsEdges\u001b[0m\u001b[1;33m,\u001b[0m\u001b[0mmodelsSSIM\u001b[0m\u001b[1;33m,\u001b[0m\u001b[0mmodelsWarp\u001b[0m\u001b[1;33m,\u001b[0m\u001b[0mmodelsClusterG\u001b[0m\u001b[1;33m,\u001b[0m\u001b[0mmodelsWarpCluster\u001b[0m\u001b[1;33m=\u001b[0m\u001b[0mload_models\u001b[0m\u001b[1;33m(\u001b[0m\u001b[0mN\u001b[0m\u001b[1;33m,\u001b[0m\u001b[0mstate_path\u001b[0m\u001b[1;33m)\u001b[0m\u001b[1;33m\u001b[0m\u001b[1;33m\u001b[0m\u001b[0m\n\u001b[0m\u001b[0;32m      6\u001b[0m \u001b[1;33m\u001b[0m\u001b[0m\n\u001b[0;32m      7\u001b[0m     \u001b[1;31m#Initialize Optimizer\u001b[0m\u001b[1;33m\u001b[0m\u001b[1;33m\u001b[0m\u001b[1;33m\u001b[0m\u001b[0m\n",
      "\u001b[1;32m<ipython-input-18-453986607e0a>\u001b[0m in \u001b[0;36mload_models\u001b[1;34m(N, path)\u001b[0m\n\u001b[0;32m      1\u001b[0m \u001b[1;32mdef\u001b[0m \u001b[0mload_models\u001b[0m\u001b[1;33m(\u001b[0m\u001b[0mN\u001b[0m\u001b[1;33m,\u001b[0m\u001b[0mpath\u001b[0m\u001b[1;33m=\u001b[0m\u001b[1;32mNone\u001b[0m\u001b[1;33m)\u001b[0m\u001b[1;33m:\u001b[0m\u001b[1;33m\u001b[0m\u001b[1;33m\u001b[0m\u001b[0m\n\u001b[0;32m      2\u001b[0m     \u001b[1;31m# Initialize Model Shapes\u001b[0m\u001b[1;33m\u001b[0m\u001b[1;33m\u001b[0m\u001b[1;33m\u001b[0m\u001b[0m\n\u001b[1;32m----> 3\u001b[1;33m     \u001b[0mmodelsFrames\u001b[0m \u001b[1;33m=\u001b[0m \u001b[1;33m[\u001b[0m\u001b[0mFramesModel\u001b[0m\u001b[1;33m(\u001b[0m\u001b[1;33m)\u001b[0m \u001b[1;32mfor\u001b[0m \u001b[0m_\u001b[0m \u001b[1;32min\u001b[0m \u001b[0mrange\u001b[0m\u001b[1;33m(\u001b[0m\u001b[0mN\u001b[0m\u001b[1;33m)\u001b[0m\u001b[1;33m]\u001b[0m\u001b[1;33m\u001b[0m\u001b[1;33m\u001b[0m\u001b[0m\n\u001b[0m\u001b[0;32m      4\u001b[0m     \u001b[1;31m#modelsDiff = [DiffModel() for _ in range(N)]\u001b[0m\u001b[1;33m\u001b[0m\u001b[1;33m\u001b[0m\u001b[1;33m\u001b[0m\u001b[0m\n\u001b[0;32m      5\u001b[0m     \u001b[1;31m#modelsOF = [OFModel() for _ in range(N)]\u001b[0m\u001b[1;33m\u001b[0m\u001b[1;33m\u001b[0m\u001b[1;33m\u001b[0m\u001b[0m\n",
      "\u001b[1;32m<ipython-input-18-453986607e0a>\u001b[0m in \u001b[0;36m<listcomp>\u001b[1;34m(.0)\u001b[0m\n\u001b[0;32m      1\u001b[0m \u001b[1;32mdef\u001b[0m \u001b[0mload_models\u001b[0m\u001b[1;33m(\u001b[0m\u001b[0mN\u001b[0m\u001b[1;33m,\u001b[0m\u001b[0mpath\u001b[0m\u001b[1;33m=\u001b[0m\u001b[1;32mNone\u001b[0m\u001b[1;33m)\u001b[0m\u001b[1;33m:\u001b[0m\u001b[1;33m\u001b[0m\u001b[1;33m\u001b[0m\u001b[0m\n\u001b[0;32m      2\u001b[0m     \u001b[1;31m# Initialize Model Shapes\u001b[0m\u001b[1;33m\u001b[0m\u001b[1;33m\u001b[0m\u001b[1;33m\u001b[0m\u001b[0m\n\u001b[1;32m----> 3\u001b[1;33m     \u001b[0mmodelsFrames\u001b[0m \u001b[1;33m=\u001b[0m \u001b[1;33m[\u001b[0m\u001b[0mFramesModel\u001b[0m\u001b[1;33m(\u001b[0m\u001b[1;33m)\u001b[0m \u001b[1;32mfor\u001b[0m \u001b[0m_\u001b[0m \u001b[1;32min\u001b[0m \u001b[0mrange\u001b[0m\u001b[1;33m(\u001b[0m\u001b[0mN\u001b[0m\u001b[1;33m)\u001b[0m\u001b[1;33m]\u001b[0m\u001b[1;33m\u001b[0m\u001b[1;33m\u001b[0m\u001b[0m\n\u001b[0m\u001b[0;32m      4\u001b[0m     \u001b[1;31m#modelsDiff = [DiffModel() for _ in range(N)]\u001b[0m\u001b[1;33m\u001b[0m\u001b[1;33m\u001b[0m\u001b[1;33m\u001b[0m\u001b[0m\n\u001b[0;32m      5\u001b[0m     \u001b[1;31m#modelsOF = [OFModel() for _ in range(N)]\u001b[0m\u001b[1;33m\u001b[0m\u001b[1;33m\u001b[0m\u001b[1;33m\u001b[0m\u001b[0m\n",
      "\u001b[1;31mNameError\u001b[0m: name 'FramesModel' is not defined"
     ]
    }
   ],
   "source": [
    "L,State = train('VDB/Toons',Batch=50,state_path=State,N=3,Epochs=20,Steps=25,LR=1e-4,Stride=50)"
   ]
  },
  {
   "cell_type": "code",
   "execution_count": 126,
   "id": "527dfc9e",
   "metadata": {},
   "outputs": [
    {
     "data": {
      "text/plain": [
       "[<matplotlib.lines.Line2D at 0x1d43f9cb548>]"
      ]
     },
     "execution_count": 126,
     "metadata": {},
     "output_type": "execute_result"
    },
    {
     "data": {
      "image/png": "[encoded data removed]",
      "text/plain": [
       "<Figure size 432x288 with 1 Axes>"
      ]
     },
     "metadata": {
      "needs_background": "light"
     },
     "output_type": "display_data"
    }
   ],
   "source": [
    "plt.plot(L) ##Cambios de Escenas"
   ]
  },
  {
   "cell_type": "code",
   "execution_count": 5,
   "id": "d15f0c75",
   "metadata": {},
   "outputs": [
    {
     "ename": "NameError",
     "evalue": "name 'State' is not defined",
     "output_type": "error",
     "traceback": [
      "\u001b[1;31m---------------------------------------------------------------------------\u001b[0m",
      "\u001b[1;31mNameError\u001b[0m                                 Traceback (most recent call last)",
      "\u001b[1;32m<ipython-input-5-e2cbb3a67bb0>\u001b[0m in \u001b[0;36m<module>\u001b[1;34m\u001b[0m\n\u001b[1;32m----> 1\u001b[1;33m \u001b[0mtorch\u001b[0m\u001b[1;33m.\u001b[0m\u001b[0msave\u001b[0m\u001b[1;33m(\u001b[0m\u001b[0mState\u001b[0m\u001b[1;33m,\u001b[0m\u001b[1;34m\"StatesBID3N300x300V10.pth\"\u001b[0m\u001b[1;33m)\u001b[0m\u001b[1;33m\u001b[0m\u001b[1;33m\u001b[0m\u001b[0m\n\u001b[0m",
      "\u001b[1;31mNameError\u001b[0m: name 'State' is not defined"
     ]
    }
   ],
   "source": [
    "torch.save(State,\"StatesBID3N300x300V11.pth\")"
   ]
  },
  {
   "cell_type": "markdown",
   "id": "df51e8a8",
   "metadata": {},
   "source": [
    "# Load and Predict"
   ]
  },
  {
   "cell_type": "code",
   "execution_count": 6,
   "id": "c043d5aa",
   "metadata": {},
   "outputs": [],
   "source": [
    "States = torch.load(\"StatesBID3N300x300V11.pth\")"
   ]
  },
  {
   "cell_type": "code",
   "execution_count": 7,
   "id": "3604691a",
   "metadata": {},
   "outputs": [],
   "source": [
    "Size = (300,300)\n",
    "Model = DNNModel()\n",
    "Model.load_state_dict(States)\n",
    "Model.eval();"
   ]
  },
  {
   "cell_type": "code",
   "execution_count": 8,
   "id": "3e16e2cf",
   "metadata": {},
   "outputs": [],
   "source": [
    "Frames = get_video_frames(\"AI Gen\",3,Size)\n",
    "Frames_Np = [cv2.cvtColor(Frames[n].permute(1, 2, 0).numpy(), cv2.COLOR_BGR2RGB) for n in range(len(Frames))]"
   ]
  },
  {
   "cell_type": "code",
   "execution_count": 9,
   "id": "ccf49278",
   "metadata": {},
   "outputs": [],
   "source": [
    "ThroughFrames(Frames_Np)"
   ]
  },
  {
   "cell_type": "code",
   "execution_count": 11,
   "id": "e2224e1e",
   "metadata": {},
   "outputs": [
    {
     "ename": "TypeError",
     "evalue": "not enough arguments: expected 3, got 2",
     "output_type": "error",
     "traceback": [
      "\u001b[1;31m---------------------------------------------------------------------------\u001b[0m",
      "\u001b[1;31mTypeError\u001b[0m                                 Traceback (most recent call last)",
      "\u001b[1;32m<ipython-input-11-6a9e30b18426>\u001b[0m in \u001b[0;36m<module>\u001b[1;34m\u001b[0m\n\u001b[1;32m----> 1\u001b[1;33m \u001b[0mfeatures\u001b[0m \u001b[1;33m=\u001b[0m \u001b[0mextract_features\u001b[0m\u001b[1;33m(\u001b[0m\u001b[0mFrames\u001b[0m\u001b[1;33m)\u001b[0m\u001b[1;33m.\u001b[0m\u001b[0munsqueeze\u001b[0m\u001b[1;33m(\u001b[0m\u001b[1;36m0\u001b[0m\u001b[1;33m)\u001b[0m\u001b[1;33m\u001b[0m\u001b[1;33m\u001b[0m\u001b[0m\n\u001b[0m",
      "\u001b[1;32m<ipython-input-2-049a0aeb054a>\u001b[0m in \u001b[0;36mextract_features\u001b[1;34m(Frames)\u001b[0m\n\u001b[0;32m     13\u001b[0m \u001b[1;33m\u001b[0m\u001b[0m\n\u001b[0;32m     14\u001b[0m     \u001b[1;31m#SSIM\u001b[0m\u001b[1;33m\u001b[0m\u001b[1;33m\u001b[0m\u001b[1;33m\u001b[0m\u001b[0m\n\u001b[1;32m---> 15\u001b[1;33m     \u001b[0mScores\u001b[0m \u001b[1;33m=\u001b[0m \u001b[1;33m[\u001b[0m\u001b[0mTSSIM\u001b[0m\u001b[1;33m(\u001b[0m\u001b[0mFrames\u001b[0m\u001b[1;33m[\u001b[0m\u001b[0mi\u001b[0m\u001b[1;33m]\u001b[0m\u001b[1;33m.\u001b[0m\u001b[0munsqueeze\u001b[0m\u001b[1;33m(\u001b[0m\u001b[1;36m0\u001b[0m\u001b[1;33m)\u001b[0m\u001b[1;33m,\u001b[0m\u001b[0mFrames\u001b[0m\u001b[1;33m[\u001b[0m\u001b[0mi\u001b[0m\u001b[1;33m+\u001b[0m\u001b[1;36m1\u001b[0m\u001b[1;33m]\u001b[0m\u001b[1;33m.\u001b[0m\u001b[0munsqueeze\u001b[0m\u001b[1;33m(\u001b[0m\u001b[1;36m0\u001b[0m\u001b[1;33m)\u001b[0m\u001b[1;33m)\u001b[0m \u001b[1;32mfor\u001b[0m \u001b[0mi\u001b[0m \u001b[1;32min\u001b[0m \u001b[0mrange\u001b[0m\u001b[1;33m(\u001b[0m\u001b[0mlen\u001b[0m\u001b[1;33m(\u001b[0m\u001b[0mFrames\u001b[0m\u001b[1;33m)\u001b[0m\u001b[1;33m-\u001b[0m\u001b[1;36m1\u001b[0m\u001b[1;33m)\u001b[0m\u001b[1;33m]\u001b[0m\u001b[1;33m\u001b[0m\u001b[1;33m\u001b[0m\u001b[0m\n\u001b[0m\u001b[0;32m     16\u001b[0m     \u001b[0mScore\u001b[0m \u001b[1;33m=\u001b[0m \u001b[1;33m[\u001b[0m\u001b[0mt\u001b[0m\u001b[1;33m[\u001b[0m\u001b[1;36m0\u001b[0m\u001b[1;33m]\u001b[0m\u001b[1;33m.\u001b[0m\u001b[0mitem\u001b[0m\u001b[1;33m(\u001b[0m\u001b[1;33m)\u001b[0m \u001b[1;32mfor\u001b[0m \u001b[0mt\u001b[0m \u001b[1;32min\u001b[0m \u001b[0mScores\u001b[0m\u001b[1;33m]\u001b[0m\u001b[1;33m\u001b[0m\u001b[1;33m\u001b[0m\u001b[0m\n\u001b[0;32m     17\u001b[0m     \u001b[0mSimScores\u001b[0m \u001b[1;33m=\u001b[0m \u001b[0mtorch\u001b[0m\u001b[1;33m.\u001b[0m\u001b[0mcat\u001b[0m\u001b[1;33m(\u001b[0m\u001b[1;33m[\u001b[0m\u001b[0mt\u001b[0m\u001b[1;33m[\u001b[0m\u001b[1;36m1\u001b[0m\u001b[1;33m]\u001b[0m\u001b[1;33m.\u001b[0m\u001b[0msqueeze\u001b[0m\u001b[1;33m(\u001b[0m\u001b[1;36m0\u001b[0m\u001b[1;33m)\u001b[0m \u001b[1;32mfor\u001b[0m \u001b[0mt\u001b[0m \u001b[1;32min\u001b[0m \u001b[0mScores\u001b[0m\u001b[1;33m]\u001b[0m\u001b[1;33m)\u001b[0m\u001b[1;33m\u001b[0m\u001b[1;33m\u001b[0m\u001b[0m\n",
      "\u001b[1;32m<ipython-input-2-049a0aeb054a>\u001b[0m in \u001b[0;36m<listcomp>\u001b[1;34m(.0)\u001b[0m\n\u001b[0;32m     13\u001b[0m \u001b[1;33m\u001b[0m\u001b[0m\n\u001b[0;32m     14\u001b[0m     \u001b[1;31m#SSIM\u001b[0m\u001b[1;33m\u001b[0m\u001b[1;33m\u001b[0m\u001b[1;33m\u001b[0m\u001b[0m\n\u001b[1;32m---> 15\u001b[1;33m     \u001b[0mScores\u001b[0m \u001b[1;33m=\u001b[0m \u001b[1;33m[\u001b[0m\u001b[0mTSSIM\u001b[0m\u001b[1;33m(\u001b[0m\u001b[0mFrames\u001b[0m\u001b[1;33m[\u001b[0m\u001b[0mi\u001b[0m\u001b[1;33m]\u001b[0m\u001b[1;33m.\u001b[0m\u001b[0munsqueeze\u001b[0m\u001b[1;33m(\u001b[0m\u001b[1;36m0\u001b[0m\u001b[1;33m)\u001b[0m\u001b[1;33m,\u001b[0m\u001b[0mFrames\u001b[0m\u001b[1;33m[\u001b[0m\u001b[0mi\u001b[0m\u001b[1;33m+\u001b[0m\u001b[1;36m1\u001b[0m\u001b[1;33m]\u001b[0m\u001b[1;33m.\u001b[0m\u001b[0munsqueeze\u001b[0m\u001b[1;33m(\u001b[0m\u001b[1;36m0\u001b[0m\u001b[1;33m)\u001b[0m\u001b[1;33m)\u001b[0m \u001b[1;32mfor\u001b[0m \u001b[0mi\u001b[0m \u001b[1;32min\u001b[0m \u001b[0mrange\u001b[0m\u001b[1;33m(\u001b[0m\u001b[0mlen\u001b[0m\u001b[1;33m(\u001b[0m\u001b[0mFrames\u001b[0m\u001b[1;33m)\u001b[0m\u001b[1;33m-\u001b[0m\u001b[1;36m1\u001b[0m\u001b[1;33m)\u001b[0m\u001b[1;33m]\u001b[0m\u001b[1;33m\u001b[0m\u001b[1;33m\u001b[0m\u001b[0m\n\u001b[0m\u001b[0;32m     16\u001b[0m     \u001b[0mScore\u001b[0m \u001b[1;33m=\u001b[0m \u001b[1;33m[\u001b[0m\u001b[0mt\u001b[0m\u001b[1;33m[\u001b[0m\u001b[1;36m0\u001b[0m\u001b[1;33m]\u001b[0m\u001b[1;33m.\u001b[0m\u001b[0mitem\u001b[0m\u001b[1;33m(\u001b[0m\u001b[1;33m)\u001b[0m \u001b[1;32mfor\u001b[0m \u001b[0mt\u001b[0m \u001b[1;32min\u001b[0m \u001b[0mScores\u001b[0m\u001b[1;33m]\u001b[0m\u001b[1;33m\u001b[0m\u001b[1;33m\u001b[0m\u001b[0m\n\u001b[0;32m     17\u001b[0m     \u001b[0mSimScores\u001b[0m \u001b[1;33m=\u001b[0m \u001b[0mtorch\u001b[0m\u001b[1;33m.\u001b[0m\u001b[0mcat\u001b[0m\u001b[1;33m(\u001b[0m\u001b[1;33m[\u001b[0m\u001b[0mt\u001b[0m\u001b[1;33m[\u001b[0m\u001b[1;36m1\u001b[0m\u001b[1;33m]\u001b[0m\u001b[1;33m.\u001b[0m\u001b[0msqueeze\u001b[0m\u001b[1;33m(\u001b[0m\u001b[1;36m0\u001b[0m\u001b[1;33m)\u001b[0m \u001b[1;32mfor\u001b[0m \u001b[0mt\u001b[0m \u001b[1;32min\u001b[0m \u001b[0mScores\u001b[0m\u001b[1;33m]\u001b[0m\u001b[1;33m)\u001b[0m\u001b[1;33m\u001b[0m\u001b[1;33m\u001b[0m\u001b[0m\n",
      "\u001b[1;31mTypeError\u001b[0m: not enough arguments: expected 3, got 2"
     ]
    }
   ],
   "source": [
    "features = extract_features(Frames).unsqueeze(0)"
   ]
  },
  {
   "cell_type": "code",
   "execution_count": 139,
   "id": "89cf786f",
   "metadata": {},
   "outputs": [],
   "source": [
    "PredImg = np.zeros((300,300))\n",
    "for v in range(0, 6):\n",
    "    for h in range(0, 6):\n",
    "        feat = features[:, :, v * 50:(v + 1) * 50, h * 50:(h + 1) * 50].clone().detach()\n",
    "        Pred = Model(feat)\n",
    "        PredImg[v * 50:(v + 1) * 50, h * 50:(h + 1) * 50] = Frame2Numpy(Pred.squeeze(0).squeeze(0))"
   ]
  },
  {
   "cell_type": "code",
   "execution_count": 140,
   "id": "02ffa3bd",
   "metadata": {},
   "outputs": [],
   "source": [
    "TPred = (PredImg>0.5).astype(np.float32)\n",
    "NF = [cv2.cvtColor(Frame2Numpy(f),cv2.COLOR_BGR2RGB) for f in Frames]\n",
    "IFrame = NF[1].copy()\n",
    "IFrame[TPred == 1] = np.array([0, 255, 0], dtype=np.uint8)"
   ]
  },
  {
   "cell_type": "code",
   "execution_count": 141,
   "id": "b1154892",
   "metadata": {},
   "outputs": [],
   "source": [
    "display_images([PredImg,TPred]+NF+[IFrame])"
   ]
  },
  {
   "cell_type": "code",
   "execution_count": null,
   "id": "a29c8f24",
   "metadata": {},
   "outputs": [],
   "source": [
    "### Add OF and more frames\n",
    "### "
   ]
  },
  {
   "cell_type": "code",
   "execution_count": 12,
   "id": "2aded677",
   "metadata": {},
   "outputs": [],
   "source": [
    "B, C, H, W = 2, 3, 128, 128  # Batch size, channels, height, width\n",
    "image = torch.randn(B, C, H, W, requires_grad=True)  # Input image\n",
    "flow = torch.randn(B, 2, H, W, requires_grad=True)  # Optical flow\n",
    "\n",
    "# Target image (for loss calculation)\n",
    "target_image = torch.randn(B, C, H, W)  \n",
    "\n",
    "# Compute the warped image\n",
    "warped_image = warp_image_tensor(image, flow)\n",
    "\n",
    "# Define a loss function (e.g., MSE loss with the target image)\n",
    "loss = Fun.mse_loss(warped_image, target_image)\n",
    "\n",
    "# Backpropagate\n",
    "loss.backward()"
   ]
  },
  {
   "cell_type": "code",
   "execution_count": 38,
   "id": "fd3744a0",
   "metadata": {},
   "outputs": [],
   "source": [
    "Imgs = get_video_frames(\"VDB/Toons\",2,(400,400))\n",
    "ThroughFrames([Frame2Numpy(f) for f in Imgs])"
   ]
  },
  {
   "cell_type": "code",
   "execution_count": 39,
   "id": "f3881476",
   "metadata": {},
   "outputs": [],
   "source": [
    "img0 = Frame2Numpy(Imgs[0])\n",
    "img1 = Frame2Numpy(Imgs[1])\n",
    "Imgs[0].requires_grad_()\n",
    "Imgs[1].requires_grad_()\n",
    "flow = pyramid_optical_flow(Imgs[0],Imgs[1],1)\n",
    "flow1 = pyramid_optical_flow(Imgs[0],Imgs[1],2)\n",
    "flow2 = pyramid_optical_flow(Imgs[0],Imgs[1],3)############\n",
    "flow3 = pyramid_optical_flow(Imgs[0],Imgs[1],4)\n",
    "Wimg = warp_image_tensor(Imgs[0].unsqueeze(0),flow.unsqueeze(0))\n",
    "wimg1 = Frame2Numpy(Wimg.squeeze(0))\n",
    "Wimg1 = warp_image_tensor(Imgs[0].unsqueeze(0),flow1.unsqueeze(0))\n",
    "wimg2 = Frame2Numpy(Wimg1.squeeze(0))\n",
    "Wimg2 = warp_image_tensor(Imgs[0].unsqueeze(0),flow2.unsqueeze(0))\n",
    "wimg3 = Frame2Numpy(Wimg2.squeeze(0))\n",
    "Wimg3 = warp_image_tensor(Imgs[0].unsqueeze(0),flow3.unsqueeze(0))\n",
    "wimg4 = Frame2Numpy(Wimg3.squeeze(0))\n",
    "criterion = nn.MSELoss()\n",
    "loss = criterion(Wimg,Wimg1)\n",
    "loss.backward()"
   ]
  },
  {
   "cell_type": "code",
   "execution_count": 40,
   "id": "a34df7bf",
   "metadata": {},
   "outputs": [
    {
     "data": {
      "text/plain": [
       "(44.512917, 26.41956, 22.198652, 108.6468)"
      ]
     },
     "execution_count": 40,
     "metadata": {},
     "output_type": "execute_result"
    }
   ],
   "source": [
    "ThroughFrames([img0,wimg1,wimg2,wimg3,wimg4])\n",
    "((img1-wimg1)**2).sum(),((img1-wimg2)**2).sum(),((img1-wimg3)**2).sum(),((img1-wimg4)**2).sum()"
   ]
  },
  {
   "cell_type": "code",
   "execution_count": 10,
   "id": "2f0ed782",
   "metadata": {},
   "outputs": [],
   "source": [
    "# Example usage:\n",
    "image_tensor = get_video_frames(\"VDB\\Toons\",1,(500,500))[0].requires_grad_()  # Example RGB image\n",
    "segmented_image = differentiable_segmentation(image_tensor, num_clusters=5,sigma=0.1)\n",
    "\n",
    "# Display using OpenCV\n",
    "display_images([Frame2Numpy(image_tensor),Frame2Numpy(segmented_image)])\n",
    "\n",
    "crit = nn.MSELoss()\n",
    "loss = crit(image_tensor,segmented_image)\n",
    "loss.backward()"
   ]
  },
  {
   "cell_type": "code",
   "execution_count": 11,
   "id": "bd9c9c08",
   "metadata": {},
   "outputs": [],
   "source": [
    "# Example usage:\n",
    "image_tensor = get_video_frames(\"VDB\\Toons\",1,(500,500))[0].requires_grad_()\n",
    "\n",
    "# Apply differentiable segmentation\n",
    "num_clusters = 2  # Change the number of clusters as needed\n",
    "segmented_rgb = differentiable_segmentationRGB(image_tensor, num_clusters)\n",
    "\n",
    "display_images([Frame2Numpy(image_tensor),Frame2Numpy(segmented_rgb),Frame2Numpy(image_tensor)-Frame2Numpy(segmented_rgb),Frame2Numpy(segmented_rgb)-Frame2Numpy(image_tensor)])\n",
    "crit = nn.MSELoss()\n",
    "loss = crit(image_tensor,segmented_rgb)\n",
    "loss.backward()"
   ]
  },
  {
   "cell_type": "code",
   "execution_count": 5,
   "id": "c5602d56",
   "metadata": {},
   "outputs": [
    {
     "data": {
      "text/plain": [
       "(31566.203, 32562.615)"
      ]
     },
     "execution_count": 5,
     "metadata": {},
     "output_type": "execute_result"
    }
   ],
   "source": [
    "# Example usage:\n",
    "image_tensor = get_video_frames(\"VDB\\Toons\",2,(500,500))\n",
    "img1 = image_tensor[0].requires_grad_()\n",
    "img2 = image_tensor[1]\n",
    "# Apply differentiable segmentation\n",
    "num_clusters = 2  # Change the number of clusters as needed\n",
    "segmented_rgb1 = differentiable_segmentationRGB(img1, num_clusters)\n",
    "segmented_rgb2 = differentiable_segmentationRGB(img2, num_clusters)\n",
    "\n",
    "flow = pyramid_optical_flow(segmented_rgb1,segmented_rgb2,alpha=5.0)\n",
    "flow1 = pyramid_optical_flow(segmented_rgb1,segmented_rgb2,alpha=10.0)\n",
    "wimg = warp_image_tensor(segmented_rgb1.unsqueeze(0),flow.unsqueeze(0)).squeeze(0)\n",
    "wimg1 = warp_image_tensor(segmented_rgb1.unsqueeze(0),flow1.unsqueeze(0)).squeeze(0)\n",
    "ThroughFrames([Frame2Numpy(segmented_rgb1),Frame2Numpy(segmented_rgb2),Frame2Numpy(segmented_rgb1),Frame2Numpy(wimg),Frame2Numpy(segmented_rgb1),Frame2Numpy(wimg1)])\n",
    "display_images([Frame2Numpy(segmented_rgb1),Frame2Numpy(segmented_rgb2),Frame2Numpy(wimg),Frame2Numpy(wimg1),Frame2Numpy(segmented_rgb2)-Frame2Numpy(wimg),Frame2Numpy(segmented_rgb2)-Frame2Numpy(wimg1)])\n",
    "crit = nn.MSELoss()\n",
    "loss = crit(segmented_rgb2,wimg)\n",
    "loss.backward()\n",
    "((Frame2Numpy(segmented_rgb2)-Frame2Numpy(wimg))**2).sum(),((Frame2Numpy(segmented_rgb2)-Frame2Numpy(wimg1))**2).sum()"
   ]
  },
  {
   "cell_type": "code",
   "execution_count": 83,
   "id": "7510ee8c",
   "metadata": {},
   "outputs": [
    {
     "name": "stdout",
     "output_type": "stream",
     "text": [
      "torch.Size([1, 3, 125, 125])\n",
      "torch.Size([1, 3, 500, 500])\n",
      "26387.504 13193.752\n"
     ]
    }
   ],
   "source": [
    "image_tensor = get_video_frames(\"VDB\\Toons\",1,(500,500))\n",
    "img1 = image_tensor[0].requires_grad_()\n",
    "display_frame(Frame2Numpy(img1))\n",
    "downimg = recursive_downsample(img1.unsqueeze(0),2)\n",
    "display_frame(Frame2Numpy(downimg.squeeze(0)))\n",
    "print(downimg.shape)\n",
    "upimg = recursive_upsample(downimg,2)\n",
    "display_frame(Frame2Numpy(upimg.squeeze(0)))\n",
    "print(upimg.shape)\n",
    "display_frame(abs(Frame2Numpy(img1)-(Frame2Numpy(upimg.squeeze(0)))))\n",
    "meanimg = (img1+upimg.squeeze(0))/2\n",
    "display_frame(Frame2Numpy(meanimg))\n",
    "print((abs(Frame2Numpy(img1)-(Frame2Numpy(upimg.squeeze(0))))).sum(),(abs(Frame2Numpy(img1)-(Frame2Numpy(meanimg.squeeze(0))))).sum())"
   ]
  },
  {
   "cell_type": "code",
   "execution_count": 8,
   "id": "2a41ba46",
   "metadata": {},
   "outputs": [
    {
     "name": "stdout",
     "output_type": "stream",
     "text": [
      "torch.Size([1, 3, 100, 100])\n",
      "torch.Size([1, 3, 400, 400])\n"
     ]
    },
    {
     "data": {
      "text/plain": [
       "tensor([[[0., 0., 0.,  ..., 0., 0., 0.],\n",
       "         [0., 0., 0.,  ..., 0., 0., 0.],\n",
       "         [0., 0., 0.,  ..., 0., 0., 0.],\n",
       "         ...,\n",
       "         [0., 0., 0.,  ..., 0., 0., 0.],\n",
       "         [0., 0., 0.,  ..., 0., 0., 0.],\n",
       "         [0., 0., 0.,  ..., 0., 0., 0.]],\n",
       "\n",
       "        [[0., 0., 0.,  ..., 0., 0., 0.],\n",
       "         [0., 0., 0.,  ..., 0., 0., 0.],\n",
       "         [0., 0., 0.,  ..., 0., 0., 0.],\n",
       "         ...,\n",
       "         [0., 0., 0.,  ..., 0., 0., 0.],\n",
       "         [0., 0., 0.,  ..., 0., 0., 0.],\n",
       "         [0., 0., 0.,  ..., 0., 0., 0.]],\n",
       "\n",
       "        [[0., 0., 0.,  ..., 0., 0., 0.],\n",
       "         [0., 0., 0.,  ..., 0., 0., 0.],\n",
       "         [0., 0., 0.,  ..., 0., 0., 0.],\n",
       "         ...,\n",
       "         [0., 0., 0.,  ..., 0., 0., 0.],\n",
       "         [0., 0., 0.,  ..., 0., 0., 0.],\n",
       "         [0., 0., 0.,  ..., 0., 0., 0.]]])"
      ]
     },
     "execution_count": 8,
     "metadata": {},
     "output_type": "execute_result"
    }
   ],
   "source": [
    "image_tensor = get_video_frames(\"VDB\\Toons\",1,(400,400))\n",
    "img1 = image_tensor[0].requires_grad_()\n",
    "display_frame(Frame2Numpy(img1))\n",
    "downimg,res = laplacian_downsample(img1.unsqueeze(0),2)\n",
    "display_frame(Frame2Numpy(downimg.squeeze(0)))\n",
    "print(downimg.shape)\n",
    "upimg = laplacian_upsample(downimg,res)\n",
    "display_frame(Frame2Numpy(upimg.squeeze(0)))\n",
    "print(upimg.shape)\n",
    "crit = nn.MSELoss()\n",
    "loss = crit(img1,upimg)\n",
    "loss.backward()\n",
    "img1.grad"
   ]
  },
  {
   "cell_type": "code",
   "execution_count": null,
   "id": "fc49e51d",
   "metadata": {},
   "outputs": [],
   "source": []
  }
 ],
 "metadata": {
  "kernelspec": {
   "display_name": "Python 3",
   "language": "python",
   "name": "python3"
  },
  "language_info": {
   "codemirror_mode": {
    "name": "ipython",
    "version": 3
   },
   "file_extension": ".py",
   "mimetype": "text/x-python",
   "name": "python",
   "nbconvert_exporter": "python",
   "pygments_lexer": "ipython3",
   "version": "3.7.6"
  }
 },
 "nbformat": 4,
 "nbformat_minor": 5
}
