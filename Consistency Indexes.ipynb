{
 "cells": [
  {
   "cell_type": "code",
   "execution_count": 1,
   "id": "1e9da251",
   "metadata": {},
   "outputs": [
    {
     "name": "stdout",
     "output_type": "stream",
     "text": [
      "importing Jupyter notebook from Functions.ipynb\n"
     ]
    }
   ],
   "source": [
    "import import_ipynb\n",
    "from Functions import *\n",
    "from skimage.metrics import structural_similarity as ssim\n",
    "from scipy.stats import entropy"
   ]
  },
  {
   "cell_type": "markdown",
   "id": "1603426f",
   "metadata": {},
   "source": [
    "## Display Frames in List"
   ]
  },
  {
   "cell_type": "code",
   "execution_count": 2,
   "id": "367115a9",
   "metadata": {},
   "outputs": [],
   "source": [
    "def ThroughFrames(frames):\n",
    "    i = 0\n",
    "    while True:\n",
    "        cv2.imshow('Frame', frames[i])\n",
    "         # Wait for a key press to move to the next frame\n",
    "        key = cv2.waitKeyEx(0)\n",
    "        if key == ord('q'):\n",
    "            break\n",
    "        if key == 2424832:  # Left arrow key\n",
    "            i = i - 1\n",
    "            if i<0:\n",
    "                i = 0\n",
    "        if key == 2555904:  # Right arrow key\n",
    "            i = i + 1\n",
    "            if i>(len(frames)-1):\n",
    "                i = len(frames)-1\n",
    "    # Release the video capture object\n",
    "    cv2.destroyAllWindows()"
   ]
  },
  {
   "cell_type": "markdown",
   "id": "3fc6d24d",
   "metadata": {},
   "source": [
    "##  Entropy"
   ]
  },
  {
   "cell_type": "code",
   "execution_count": 3,
   "id": "7da6e33a",
   "metadata": {},
   "outputs": [],
   "source": [
    "def Entropy(image):\n",
    "    # Convert the image to grayscale\n",
    "    gray_image = cv2.cvtColor(image, cv2.COLOR_BGR2GRAY)\n",
    "    # Calculate the histogram of the grayscale image\n",
    "    hist, _ = np.histogram(gray_image, bins=256, range=(0, 256), density=True)\n",
    "    # Calculate the entropy\n",
    "    hist_entropy = entropy(hist, base=2)\n",
    "    return hist_entropy"
   ]
  },
  {
   "cell_type": "markdown",
   "id": "1805a95d",
   "metadata": {},
   "source": [
    "## Temporal Signal to Noise Ratio for Inconsistency"
   ]
  },
  {
   "cell_type": "code",
   "execution_count": 4,
   "id": "faba3c8a",
   "metadata": {},
   "outputs": [],
   "source": [
    "def TSNR(image1, image2):  \n",
    "    if image1 is None or image2 is None:\n",
    "        raise ValueError(\"One or both image paths are invalid\")\n",
    "    frame_diff = cv2.absdiff(image1, image2)\n",
    "    mean_diff = np.mean(frame_diff)\n",
    "    std_diff = np.std(frame_diff)\n",
    "    tsnr = mean_diff / (std_diff + 1e-10)\n",
    "    return abs(1-tsnr)"
   ]
  },
  {
   "cell_type": "markdown",
   "id": "245cfdb3",
   "metadata": {},
   "source": [
    "## Absolute Difference"
   ]
  },
  {
   "cell_type": "code",
   "execution_count": 5,
   "id": "46bb39a9",
   "metadata": {},
   "outputs": [],
   "source": [
    "def Abs_Dif(image1, image2):\n",
    "    if image1 is None or image2 is None:\n",
    "        raise ValueError(\"One or both image paths are invalid\")\n",
    "    frame_diff = cv2.absdiff(image1, image2)\n",
    "    tci = np.mean(frame_diff)\n",
    "    return tci"
   ]
  },
  {
   "cell_type": "markdown",
   "id": "383cf803",
   "metadata": {},
   "source": [
    "## Optical Flow End Point Error"
   ]
  },
  {
   "cell_type": "code",
   "execution_count": 6,
   "id": "ef1e5bde",
   "metadata": {},
   "outputs": [],
   "source": [
    "def OF_EPE(image1, image2):\n",
    "    if image1 is None or image2 is None:\n",
    "        raise ValueError(\"One or both image paths are invalid\")\n",
    "    gray1 = cv2.cvtColor(image1, cv2.COLOR_BGR2GRAY)\n",
    "    gray2 = cv2.cvtColor(image2, cv2.COLOR_BGR2GRAY)\n",
    "    flow = cv2.calcOpticalFlowFarneback(gray1, gray2, None, 0.5, 3, 15, 3, 5, 1.2, 0)\n",
    "    # EPE (End Point Error)\n",
    "    epe = np.linalg.norm(flow, axis=2).mean()\n",
    "    return epe"
   ]
  },
  {
   "cell_type": "markdown",
   "id": "4b175114",
   "metadata": {},
   "source": [
    "## Oprical Flow Angular Error"
   ]
  },
  {
   "cell_type": "code",
   "execution_count": 7,
   "id": "7a41f215",
   "metadata": {},
   "outputs": [],
   "source": [
    "def OF_AE(image1, image2):\n",
    "    if image1 is None or image2 is None:\n",
    "        raise ValueError(\"One or both image paths are invalid\")\n",
    "    gray1 = cv2.cvtColor(image1, cv2.COLOR_BGR2GRAY)\n",
    "    gray2 = cv2.cvtColor(image2, cv2.COLOR_BGR2GRAY)\n",
    "    flow = cv2.calcOpticalFlowFarneback(gray1, gray2, None, 0.5, 3, 15, 3, 5, 1.2, 0)\n",
    "    # AE (Angular Error)\n",
    "    u, v = flow[:,:,0], flow[:,:,1]\n",
    "    magnitude, angle = cv2.cartToPolar(u, v)\n",
    "    ae = np.mean(angle)\n",
    "    return ae"
   ]
  },
  {
   "cell_type": "markdown",
   "id": "f33d3a58",
   "metadata": {},
   "source": [
    "## Gray Scale Absolute Difference"
   ]
  },
  {
   "cell_type": "code",
   "execution_count": 8,
   "id": "92523b13",
   "metadata": {},
   "outputs": [],
   "source": [
    "def Gray_Dif(image1, image2):\n",
    "    if image1 is None or image2 is None:\n",
    "        raise ValueError(\"One or both image paths are invalid\")\n",
    "    gray1 = cv2.cvtColor(image1, cv2.COLOR_BGR2GRAY)\n",
    "    gray2 = cv2.cvtColor(image2, cv2.COLOR_BGR2GRAY)\n",
    "    diff = cv2.absdiff(gray1, gray2)\n",
    "    return np.mean(diff)"
   ]
  },
  {
   "cell_type": "markdown",
   "id": "c8ff564b",
   "metadata": {},
   "source": [
    "## Temporal Structural Similarity Index Measure for Inconsistency"
   ]
  },
  {
   "cell_type": "code",
   "execution_count": 9,
   "id": "6d820c2a",
   "metadata": {},
   "outputs": [],
   "source": [
    "def TSSIM(image1, image2):\n",
    "    if image1 is None or image2 is None:\n",
    "        raise ValueError(\"One or both image paths are invalid\")\n",
    "    gray1 = cv2.cvtColor(image1, cv2.COLOR_BGR2GRAY)\n",
    "    gray2 = cv2.cvtColor(image2, cv2.COLOR_BGR2GRAY)\n",
    "    ssim_value = ssim(gray1, gray2,multichannel=True,win_size=3)\n",
    "    return abs(1-ssim_value)"
   ]
  },
  {
   "cell_type": "markdown",
   "id": "fa1114ca",
   "metadata": {},
   "source": [
    "## Mean Squared Error"
   ]
  },
  {
   "cell_type": "code",
   "execution_count": 10,
   "id": "8314ee78",
   "metadata": {},
   "outputs": [],
   "source": [
    "def MSE(image1, image2):\n",
    "    if image1 is None or image2 is None:\n",
    "        raise ValueError(\"One or both image paths are invalid\")\n",
    "    gray1 = cv2.cvtColor(image1, cv2.COLOR_BGR2GRAY)\n",
    "    gray2 = cv2.cvtColor(image2, cv2.COLOR_BGR2GRAY)\n",
    "    mse = np.mean((gray1 - gray2) ** 2)\n",
    "    return mse"
   ]
  },
  {
   "cell_type": "markdown",
   "id": "c7cc7e7d",
   "metadata": {},
   "source": [
    "## Border Error"
   ]
  },
  {
   "cell_type": "code",
   "execution_count": 11,
   "id": "200a59fc",
   "metadata": {},
   "outputs": [],
   "source": [
    "def Border_Err(image1, image2):\n",
    "    lower_threshold = 100\n",
    "    upper_threshold = 200\n",
    "    if len(image1.shape) > 1:\n",
    "        image1 = cv2.cvtColor(image1, cv2.COLOR_BGR2GRAY)\n",
    "    if len(image2.shape) > 1:\n",
    "        image2 = cv2.cvtColor(image2, cv2.COLOR_BGR2GRAY)\n",
    "    # Apply Canny edge detection\n",
    "    canny1 = cv2.Canny(image1, lower_threshold, upper_threshold)\n",
    "    canny2 = cv2.Canny(image2, lower_threshold, upper_threshold)\n",
    "    # Calculate the absolute difference between the two Canny images\n",
    "    abs_diff = cv2.absdiff(canny1, canny2)\n",
    "    return np.mean(abs_diff)"
   ]
  },
  {
   "cell_type": "markdown",
   "id": "6c630774",
   "metadata": {},
   "source": [
    "## Color Range Consistency"
   ]
  },
  {
   "cell_type": "code",
   "execution_count": 12,
   "id": "59666a5e",
   "metadata": {},
   "outputs": [],
   "source": [
    "def CRC(image1, image2):\n",
    "    if image1 is None or image2 is None:\n",
    "        raise ValueError(\"One or both image paths are invalid\")\n",
    "    image1 = image1.astype(np.float64)\n",
    "    image2 = image2.astype(np.float64)\n",
    "    diff_r_min = abs(np.min(image1[:,:,2]) - np.min(image2[:,:,2]))  # Red channel min\n",
    "    diff_r_max = abs(np.max(image1[:,:,2]) - np.max(image2[:,:,2]))  # Red channel max\n",
    "    diff_g_min = abs(np.min(image1[:,:,1]) - np.min(image2[:,:,1]))  # Green channel min\n",
    "    diff_g_max = abs(np.max(image1[:,:,1]) - np.max(image2[:,:,1]))  # Green channel max\n",
    "    diff_b_min = abs(np.min(image1[:,:,0]) - np.min(image2[:,:,0]))  # Blue channel min\n",
    "    diff_b_max = abs(np.max(image1[:,:,0]) - np.max(image2[:,:,0]))  # Blue channel max\n",
    "    crci = (np.mean(diff_r_min) + np.mean(diff_r_max) + np.mean(diff_g_min) + np.mean(diff_g_max) + np.mean(diff_b_min) + np.mean(diff_b_max)) / 6\n",
    "    return crci"
   ]
  },
  {
   "cell_type": "markdown",
   "id": "60e7aa68",
   "metadata": {},
   "source": [
    "## Entropy Difference"
   ]
  },
  {
   "cell_type": "code",
   "execution_count": 13,
   "id": "cc19115d",
   "metadata": {},
   "outputs": [],
   "source": [
    "def Entopy_Dif(image1,image2):\n",
    "    return abs(Entropy(image1)-Entropy(image2))"
   ]
  },
  {
   "cell_type": "markdown",
   "id": "0a6812e8",
   "metadata": {},
   "source": [
    "## Combined Metrics"
   ]
  },
  {
   "cell_type": "code",
   "execution_count": 28,
   "id": "5806c473",
   "metadata": {},
   "outputs": [],
   "source": [
    "def Combined_Metrics(image1, image2,op):\n",
    "    if image1 is None or image2 is None:\n",
    "        raise ValueError(\"One or both image paths are invalid\")\n",
    "    tsnr = TSNR(image1,image2)\n",
    "    adif = Abs_Dif(image1,image2)\n",
    "    epe = OF_EPE(image1,image2)\n",
    "    ae = OF_AE(image1,image2)\n",
    "    gray = Gray_Dif(image1,image2)\n",
    "    ssim_value = TSSIM(image1,image2)\n",
    "    mse_value = MSE(image1,image2)\n",
    "    border_consistency_value = Border_Err(image1,image2)\n",
    "    crci_value = CRC(image1,image2)\n",
    "    ent = Entopy_Dif(image1,image2)\n",
    "    # Normalize and combine the metrics into a single consistency index\n",
    "    metrics = np.array([tsnr,adif, epe, ae, gray,ssim_value, mse_value, border_consistency_value, crci_value, ent])\n",
    "    normalized_metrics = (metrics - np.min(metrics)) / (np.max(metrics) - np.min(metrics))\n",
    "    combined_consistency_index = np.mean(normalized_metrics)\n",
    "    #print(metrics)\n",
    "    # Z-score normalization\n",
    "    mean = np.mean(metrics)\n",
    "    std = np.std(metrics)\n",
    "    Z_metrics = (metrics - mean) / std\n",
    "    \n",
    "    if op==\"norm\":\n",
    "        return combined_consistency_index\n",
    "    if op==\"mean\":\n",
    "        return np.mean(metrics)\n",
    "    if op==\"log\":\n",
    "        metrics[metrics <= 0] = 1e-10\n",
    "        return np.sum(np.log(metrics))\n",
    "    if op==\"Z\":\n",
    "        return np.mean(Z_metrics)"
   ]
  },
  {
   "cell_type": "markdown",
   "id": "cd67281c",
   "metadata": {},
   "source": [
    "## Mixed Metrix of Optical Flow, Color and Borders"
   ]
  },
  {
   "cell_type": "code",
   "execution_count": 33,
   "id": "412dafe7",
   "metadata": {},
   "outputs": [],
   "source": [
    "def Mix_Metrics(image1, image2,op):\n",
    "    if image1 is None or image2 is None:\n",
    "        raise ValueError(\"One or both image paths are invalid\")\n",
    "    epe = OF_EPE(image1,image2)\n",
    "    ae = OF_AE(image1,image2)\n",
    "    border_consistency_value = Border_Err(image1,image2)\n",
    "    crci_value = CRC(image1,image2)\n",
    "    # Normalize and combine the metrics into a single consistency index\n",
    "    metrics = np.array([epe, ae, border_consistency_value, crci_value])\n",
    "    normalized_metrics = (metrics - np.min(metrics)) / (np.max(metrics) - np.min(metrics))\n",
    "    combined_consistency_index = np.mean(normalized_metrics)\n",
    "    #print(metrics)\n",
    "    # Z-score normalization\n",
    "    mean = np.mean(metrics)\n",
    "    std = np.std(metrics)\n",
    "    Z_metrics = (metrics - mean) / std\n",
    "    \n",
    "    if op==\"norm\":\n",
    "        return combined_consistency_index\n",
    "    if op==\"mean\":\n",
    "        return np.mean(metrics)\n",
    "    if op==\"log\":\n",
    "        metrics[metrics <= 0] = 1e-10\n",
    "        return np.sum(np.log(metrics))\n",
    "    if op==\"Z\":\n",
    "        return np.mean(Z_metrics)"
   ]
  },
  {
   "cell_type": "markdown",
   "id": "e32b1531",
   "metadata": {},
   "source": [
    "## Metrics of a Pair of Consecutive Frames"
   ]
  },
  {
   "cell_type": "code",
   "execution_count": 35,
   "id": "23d88c9c",
   "metadata": {},
   "outputs": [
    {
     "name": "stdout",
     "output_type": "stream",
     "text": [
      "TSNR: 0.5205012566547174\n",
      "Absolute Difference: 17.080079752604167\n",
      "Optical Flow End Point Error: 3.3800318241119385\n",
      "Optical Flow Angular Error: 2.7365612983703613\n",
      "Gray Difference: 16.867626953125\n",
      "TSSIM: 0.24342770617183818\n",
      "MSE: 53.19716796875\n",
      "Border Consistency: 17.9981689453125\n",
      "Color Range Consistency: 2.6666666666666665\n",
      "Entropy Difference: 0.11616697711229929\n",
      "Combined Metrics Norm: 0.21409680950752966\n",
      "Combined Metrics Mean: 11.48063993488795\n",
      "Combined Metrics Log: 11.514375859166364\n",
      "Combined Metrics Z: -5.551115123125783e-17\n",
      "Mix Metrics Norm: 0.2627720652372063\n",
      "Mix Metrics Mean: 6.695357183615367\n",
      "Mix Metrics Log: 6.095686536973911\n",
      "Mix Metrics Z: -1.1102230246251565e-16\n"
     ]
    }
   ],
   "source": [
    "Vid = get_frames(open_vid('Cartoonized/U_toon.mp4'))\n",
    "tsnr = TSNR(Vid[0],Vid[1])\n",
    "adif = Abs_Dif(Vid[0],Vid[1])\n",
    "epe = OF_EPE(Vid[0],Vid[1])\n",
    "ae = OF_AE(Vid[0],Vid[1])\n",
    "gray = Gray_Dif(Vid[0],Vid[1])\n",
    "ssim_value = TSSIM(Vid[0],Vid[1])\n",
    "mse_value = MSE(Vid[0],Vid[1])\n",
    "border_consistency_value = Border_Err(Vid[0],Vid[1])\n",
    "crci_value = CRC(Vid[0],Vid[1])\n",
    "ent = Entopy_Dif(Vid[0],Vid[1])\n",
    "combined = Combined_Metrics(Vid[0],Vid[1],\"norm\")\n",
    "combinedm = Combined_Metrics(Vid[0],Vid[1],\"mean\")\n",
    "combinedl = Combined_Metrics(Vid[0],Vid[1],\"log\")\n",
    "combinedz = Combined_Metrics(Vid[0],Vid[1],\"Z\")\n",
    "mix = Mix_Metrics(Vid[0],Vid[1],\"norm\")\n",
    "mixm = Mix_Metrics(Vid[0],Vid[1],\"mean\")\n",
    "mixl = Mix_Metrics(Vid[0],Vid[1],\"log\")\n",
    "mixz = Mix_Metrics(Vid[0],Vid[1],\"Z\")\n",
    "\n",
    "print(f\"TSNR: {tsnr}\")\n",
    "print(f\"Absolute Difference: {adif}\")\n",
    "print(f\"Optical Flow End Point Error: {epe}\")\n",
    "print(f\"Optical Flow Angular Error: {ae}\")\n",
    "print(f\"Gray Difference: {gray}\")\n",
    "print(f\"TSSIM: {ssim_value}\")\n",
    "print(f\"MSE: {mse_value}\")\n",
    "print(f\"Border Consistency: {border_consistency_value}\")\n",
    "print(f\"Color Range Consistency: {crci_value}\")\n",
    "print(f\"Entropy Difference: {ent}\")\n",
    "print(f\"Combined Metrics Norm: {combined}\")\n",
    "print(f\"Combined Metrics Mean: {combinedm}\")\n",
    "print(f\"Combined Metrics Log: {combinedl}\")\n",
    "print(f\"Combined Metrics Z: {combinedz}\")\n",
    "print(f\"Mix Metrics Norm: {mix}\")\n",
    "print(f\"Mix Metrics Mean: {mixm}\")\n",
    "print(f\"Mix Metrics Log: {mixl}\")\n",
    "print(f\"Mix Metrics Z: {mixz}\")\n",
    "\n",
    "display_images([Vid[0],Vid[1]])"
   ]
  },
  {
   "cell_type": "markdown",
   "id": "0b78c97e",
   "metadata": {},
   "source": [
    "## WIndowed Max Inconsistency"
   ]
  },
  {
   "cell_type": "code",
   "execution_count": 36,
   "id": "5f6ebfbe",
   "metadata": {},
   "outputs": [],
   "source": [
    "def WMax_Inconsistency(img1, img2, wsize=(3,3), step=(3,3), Func=Combined_Metrics, op=\"norm\"):\n",
    "    kw,kh = wsize\n",
    "    H,W,_ = img1.shape\n",
    "    sw,sh = step\n",
    "    maxC = 0\n",
    "    maxR = [0,0,kw,kh]\n",
    "    # Calculate the output dimensions\n",
    "    output_height = (H - kh) // sh + 1\n",
    "    output_width = (W - kw) // sw + 1\n",
    "    # Initialize the output array\n",
    "    result = np.zeros((output_height, output_width))\n",
    "    # Perform the convolution\n",
    "    for i in range(0, output_height*sh, sh):\n",
    "        #print('Row: ',i,'/',output_height*sh,end='\\r')\n",
    "        for j in range(0, output_width*sw, sw):\n",
    "            # Extract the region of interest\n",
    "            region1 = img1[i:i + kh, j:j + kw]\n",
    "            region2 = img2[i:i + kh, j:j + kw]\n",
    "            # Perform element-wise multiplication and sum the result\n",
    "            if Func==Combined_Metrics or Func==Mix_Metrics:\n",
    "                result[i // sh, j // sw] = Func(region1, region2,op)\n",
    "            else:\n",
    "                result[i // sh, j // sw] = Func(region1, region2)\n",
    "            if result[i//sh,j//sw]>=maxC:\n",
    "                maxR = [i,i+kh,j,j+kw] \n",
    "                maxC = result[i//sh,j//sw]\n",
    "            if (j+sw+kw)>W:\n",
    "                break\n",
    "        if (i+sh+kh)>H:\n",
    "            break\n",
    "    #print('')\n",
    "    return result,maxR"
   ]
  },
  {
   "cell_type": "code",
   "execution_count": 7,
   "id": "b3b43b65",
   "metadata": {},
   "outputs": [],
   "source": [
    "def Vid_consistency(F,Func=Combined_Metrics,op=\"norm\"):\n",
    "    C = []\n",
    "    for i in range(len(F)-1):\n",
    "        if Func==Combined_Metrics or Func==Mix_Metrics:\n",
    "            C.append(Func(F[i],F[i+1],op))\n",
    "        else:\n",
    "            C.append(Func(F[i],F[i+1]))\n",
    "    return np.mean(np.asarray(C))\n",
    "\n",
    "def Vid_consistency_W(F,wsize=(3,3),step=(3,3)):\n",
    "    C = []\n",
    "    for i in range(len(F)-1):\n",
    "        print('Frame: ',i+1,'/',len(F)-1,end='\\r')\n",
    "        Metrics,Region = PairFrame_Consistency(F[i],F[i+1],wsize,step)\n",
    "        C.append(np.mean(Metrics))\n",
    "    return np.mean(np.asarray(C))\n",
    "\n",
    "def DrawInconsistancy(F,wsize=(3,3),step=(3,3),Func=calculate_combined_consistency_index):\n",
    "    L = 3\n",
    "    DI = np.copy(F)\n",
    "    for i in range(len(F)-1):\n",
    "        print('Frame: ',i+1,'/',len(F)-1,end='\\r')\n",
    "        Metrics,Region = PairFrame_Consistency(F[i],F[i+1],wsize,step,Func)\n",
    "        #print((Region[0],Region[2]),(Region[1],Region[3]))\n",
    "        DI[i+1][Region[0]:Region[0]+L,Region[2]:Region[3]] = [0,255,0] \n",
    "        DI[i+1][Region[0]:Region[1],Region[2]:Region[2]+L] = [0,255,0] \n",
    "        DI[i+1][Region[1]:Region[1]+L,Region[2]:Region[3]] = [0,255,0] \n",
    "        DI[i+1][Region[0]:Region[1],Region[3]:Region[3]+L] = [0,255,0] \n",
    "        DI[i+1] = cv2.putText(DI[i+1],str(np.mean(Metrics)),(10,20),cv2.FONT_HERSHEY_SIMPLEX,0.25,(0,0,255),1,cv2.LINE_AA) \n",
    "    return DI"
   ]
  },
  {
   "cell_type": "code",
   "execution_count": 78,
   "id": "7e8471c4",
   "metadata": {},
   "outputs": [
    {
     "data": {
      "text/plain": [
       "12.060408642037515"
      ]
     },
     "execution_count": 78,
     "metadata": {},
     "output_type": "execute_result"
    }
   ],
   "source": [
    "Vid = get_frames(open_vid('VDB/U.mp4'))\n",
    "Vid_consistency(Vid)"
   ]
  },
  {
   "cell_type": "code",
   "execution_count": 79,
   "id": "b6397c28",
   "metadata": {},
   "outputs": [
    {
     "data": {
      "text/plain": [
       "17.42248061416886"
      ]
     },
     "execution_count": 79,
     "metadata": {},
     "output_type": "execute_result"
    }
   ],
   "source": [
    "Vid = get_frames(open_vid('Cartoonized/U_toon.mp4'))\n",
    "Vid_consistency(Vid)"
   ]
  },
  {
   "cell_type": "code",
   "execution_count": 80,
   "id": "ffd99f55",
   "metadata": {},
   "outputs": [
    {
     "data": {
      "text/plain": [
       "(320, 640, 3)"
      ]
     },
     "execution_count": 80,
     "metadata": {},
     "output_type": "execute_result"
    }
   ],
   "source": [
    "Vid[0].shape"
   ]
  },
  {
   "cell_type": "code",
   "execution_count": 81,
   "id": "f9bcbd49",
   "metadata": {},
   "outputs": [
    {
     "name": "stdout",
     "output_type": "stream",
     "text": [
      "Frame:  68 / 68\r"
     ]
    }
   ],
   "source": [
    "Vid = get_frames(open_vid('VDB/U.mp4'))\n",
    "Vid_consistency_W(Vid,(100,100),(100,100));"
   ]
  },
  {
   "cell_type": "code",
   "execution_count": 82,
   "id": "39b8a71e",
   "metadata": {},
   "outputs": [
    {
     "name": "stdout",
     "output_type": "stream",
     "text": [
      "Frame:  68 / 68\r"
     ]
    }
   ],
   "source": [
    "Vid = get_frames(open_vid('VDB/U.mp4'))\n",
    "VidI = DrawInconsistancy(Vid,(100,100),(100,100))"
   ]
  },
  {
   "cell_type": "code",
   "execution_count": 83,
   "id": "d3baff6a",
   "metadata": {},
   "outputs": [],
   "source": [
    "ThroughFrames(VidI)"
   ]
  },
  {
   "cell_type": "code",
   "execution_count": 8,
   "id": "7e648276",
   "metadata": {},
   "outputs": [
    {
     "name": "stdout",
     "output_type": "stream",
     "text": [
      "Frame:  9 / 9\r"
     ]
    }
   ],
   "source": [
    "Vid1 = get_frames(open_vid('VDB/M.mp4'))\n",
    "VidI1 = DrawInconsistancy(Vid1[10:20],(100,100),(100,100))"
   ]
  },
  {
   "cell_type": "code",
   "execution_count": 9,
   "id": "e5c9d5a7",
   "metadata": {},
   "outputs": [],
   "source": [
    "ThroughFrames(VidI1)"
   ]
  },
  {
   "cell_type": "code",
   "execution_count": 86,
   "id": "186d6a3e",
   "metadata": {},
   "outputs": [],
   "source": [
    "#Check which values with min mean consistency and which max mean consistency. Ex: 1-ssim\n",
    "#Weights of each metric\n",
    "#Which metrics are the best?\n",
    "#Look for change in entropy too"
   ]
  }
 ],
 "metadata": {
  "kernelspec": {
   "display_name": "Python 3",
   "language": "python",
   "name": "python3"
  },
  "language_info": {
   "codemirror_mode": {
    "name": "ipython",
    "version": 3
   },
   "file_extension": ".py",
   "mimetype": "text/x-python",
   "name": "python",
   "nbconvert_exporter": "python",
   "pygments_lexer": "ipython3",
   "version": "3.7.6"
  }
 },
 "nbformat": 4,
 "nbformat_minor": 5
}
