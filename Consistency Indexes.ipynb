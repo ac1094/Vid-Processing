{
 "cells": [
  {
   "cell_type": "code",
   "execution_count": 144,
   "id": "bdf42f47",
   "metadata": {},
   "outputs": [],
   "source": [
    "import import_ipynb\n",
    "from Functions import *"
   ]
  },
  {
   "cell_type": "code",
   "execution_count": 145,
   "id": "0c5cac3f",
   "metadata": {},
   "outputs": [],
   "source": [
    "import cv2\n",
    "import numpy as np\n",
    "from skimage.metrics import structural_similarity as ssim\n",
    "\n",
    "def calculate_tsnr(image1, image2):  \n",
    "    if image1 is None or image2 is None:\n",
    "        raise ValueError(\"One or both image paths are invalid\")\n",
    "\n",
    "    frame_diff = cv2.absdiff(image1, image2)\n",
    "    mean_diff = np.mean(frame_diff)\n",
    "    std_diff = np.std(frame_diff)\n",
    "\n",
    "    tsnr = mean_diff / (std_diff + 1e-10)\n",
    "    return tsnr\n",
    "\n",
    "def calculate_tci(image1, image2):\n",
    "    if image1 is None or image2 is None:\n",
    "        raise ValueError(\"One or both image paths are invalid\")\n",
    "\n",
    "    frame_diff = cv2.absdiff(image1, image2)\n",
    "    tci = np.mean(frame_diff)\n",
    "    return tci\n",
    "\n",
    "def calculate_optical_flow_consistency(image1, image2):\n",
    "    if image1 is None or image2 is None:\n",
    "        raise ValueError(\"One or both image paths are invalid\")\n",
    "\n",
    "    gray1 = cv2.cvtColor(image1, cv2.COLOR_BGR2GRAY)\n",
    "    gray2 = cv2.cvtColor(image2, cv2.COLOR_BGR2GRAY)\n",
    "\n",
    "    flow = cv2.calcOpticalFlowFarneback(gray1, gray2, None, 0.5, 3, 15, 3, 5, 1.2, 0)\n",
    "    \n",
    "    # EPE (End Point Error)\n",
    "    epe = np.linalg.norm(flow, axis=2).mean()\n",
    "    \n",
    "    # AE (Angular Error)\n",
    "    u, v = flow[:,:,0], flow[:,:,1]\n",
    "    magnitude, angle = cv2.cartToPolar(u, v)\n",
    "    ae = np.mean(angle)\n",
    "\n",
    "    return epe, ae\n",
    "\n",
    "def calculate_frame_difference_metrics(image1, image2):\n",
    "    if image1 is None or image2 is None:\n",
    "        raise ValueError(\"One or both image paths are invalid\")\n",
    "\n",
    "    gray1 = cv2.cvtColor(image1, cv2.COLOR_BGR2GRAY)\n",
    "    gray2 = cv2.cvtColor(image2, cv2.COLOR_BGR2GRAY)\n",
    "    diff = cv2.absdiff(gray1, gray2)\n",
    "    return np.mean(diff)\n",
    "\n",
    "def calculate_ssim_over_time(image1, image2):\n",
    "    if image1 is None or image2 is None:\n",
    "        raise ValueError(\"One or both image paths are invalid\")\n",
    "\n",
    "    gray1 = cv2.cvtColor(image1, cv2.COLOR_BGR2GRAY)\n",
    "    gray2 = cv2.cvtColor(image2, cv2.COLOR_BGR2GRAY)\n",
    "    ssim_value = ssim(gray1, gray2,multichannel=True,win_size=3)\n",
    "    return ssim_value\n",
    "\n",
    "def calculate_temporal_smoothness(image1, image2):\n",
    "    if image1 is None or image2 is None:\n",
    "        raise ValueError(\"One or both image paths are invalid\")\n",
    "\n",
    "    gray1 = cv2.cvtColor(image1, cv2.COLOR_BGR2GRAY)\n",
    "    gray2 = cv2.cvtColor(image2, cv2.COLOR_BGR2GRAY)\n",
    "    diff = cv2.absdiff(gray1, gray2)\n",
    "    return np.mean(diff)\n",
    "\n",
    "def calculate_mse(image1, image2):\n",
    "    if image1 is None or image2 is None:\n",
    "        raise ValueError(\"One or both image paths are invalid\")\n",
    "\n",
    "    gray1 = cv2.cvtColor(image1, cv2.COLOR_BGR2GRAY)\n",
    "    gray2 = cv2.cvtColor(image2, cv2.COLOR_BGR2GRAY)\n",
    "    mse = np.mean((gray1 - gray2) ** 2)\n",
    "    return mse\n",
    "\n",
    "def calculate_cde(image1, image2):\n",
    "    if image1 is None or image2 is None:\n",
    "        raise ValueError(\"One or both image paths are invalid\")\n",
    "\n",
    "    diff = cv2.absdiff(image1, image2)\n",
    "    cde = np.mean(diff)\n",
    "    return cde\n",
    "\n",
    "def calculate_border_consistency(image1, image2):\n",
    "    if image1 is None or image2 is None:\n",
    "        raise ValueError(\"One or both image paths are invalid\")\n",
    "\n",
    "    gray1 = cv2.cvtColor(image1, cv2.COLOR_BGR2GRAY)\n",
    "    gray2 = cv2.cvtColor(image2, cv2.COLOR_BGR2GRAY)\n",
    "    borders1 = gray1[:, :10].flatten()  # Example: left border\n",
    "    borders2 = gray2[:, :10].flatten()  # Example: left border\n",
    "\n",
    "    diff = cv2.absdiff(borders1, borders2)\n",
    "    return np.mean(diff)\n",
    "\n",
    "def calculate_color_range_consistency(image1, image2):\n",
    "    if image1 is None or image2 is None:\n",
    "        raise ValueError(\"One or both image paths are invalid\")\n",
    "\n",
    "    image1 = image1.astype(np.float64)\n",
    "    image2 = image2.astype(np.float64)\n",
    "\n",
    "    diff_r_min = abs(np.min(image1[:,:,2]) - np.min(image2[:,:,2]))  # Red channel min\n",
    "    diff_r_max = abs(np.max(image1[:,:,2]) - np.max(image2[:,:,2]))  # Red channel max\n",
    "    diff_g_min = abs(np.min(image1[:,:,1]) - np.min(image2[:,:,1]))  # Green channel min\n",
    "    diff_g_max = abs(np.max(image1[:,:,1]) - np.max(image2[:,:,1]))  # Green channel max\n",
    "    diff_b_min = abs(np.min(image1[:,:,0]) - np.min(image2[:,:,0]))  # Blue channel min\n",
    "    diff_b_max = abs(np.max(image1[:,:,0]) - np.max(image2[:,:,0]))  # Blue channel max\n",
    "\n",
    "    crci = (np.mean(diff_r_min) + np.mean(diff_r_max) + np.mean(diff_g_min) + np.mean(diff_g_max) + np.mean(diff_b_min) + np.mean(diff_b_max)) / 6\n",
    "    return crci"
   ]
  },
  {
   "cell_type": "code",
   "execution_count": 146,
   "id": "0a6bfeb9",
   "metadata": {},
   "outputs": [
    {
     "name": "stdout",
     "output_type": "stream",
     "text": [
      "TSNR: 0.4794987433452826\n",
      "TCI: 17.080079752604167\n",
      "Optical Flow Consistency EPE: 3.3800318241119385\n",
      "Optical Flow Consistency AE: 2.7365612983703613\n",
      "Frame Difference Metric: 16.867626953125\n",
      "SSIM Over Time: 0.7565722938281618\n",
      "Temporal Smoothness: 16.867626953125\n",
      "MSE: 53.19716796875\n",
      "CDE: 17.080079752604167\n",
      "Border Consistency: 5.85125\n",
      "Color Range Consistency Index (CRCI): 2.6666666666666665\n"
     ]
    }
   ],
   "source": [
    "Vid = get_frames(open_vid('Cartoonized/U_toon.mp4'))\n",
    "tsnr = calculate_tsnr(Vid[0],Vid[1])\n",
    "tci = calculate_tci(Vid[0],Vid[1])\n",
    "epe, ae = calculate_optical_flow_consistency(Vid[0],Vid[1])\n",
    "frame_diff_metric = calculate_frame_difference_metrics(Vid[0],Vid[1])\n",
    "ssim_value = calculate_ssim_over_time(Vid[0],Vid[1])\n",
    "temporal_smoothness_value = calculate_temporal_smoothness(Vid[0],Vid[1])\n",
    "mse_value = calculate_mse(Vid[0],Vid[1])\n",
    "cde_value = calculate_cde(Vid[0],Vid[1])\n",
    "border_consistency_value = calculate_border_consistency(Vid[0],Vid[1])\n",
    "crci_value = calculate_color_range_consistency(Vid[0],Vid[1])\n",
    "\n",
    "print(f\"TSNR: {tsnr}\")\n",
    "print(f\"TCI: {tci}\")\n",
    "print(f\"Optical Flow Consistency EPE: {epe}\")\n",
    "print(f\"Optical Flow Consistency AE: {ae}\")\n",
    "print(f\"Frame Difference Metric: {frame_diff_metric}\")\n",
    "print(f\"SSIM Over Time: {ssim_value}\")\n",
    "print(f\"Temporal Smoothness: {temporal_smoothness_value}\")\n",
    "print(f\"MSE: {mse_value}\")\n",
    "print(f\"CDE: {cde_value}\")\n",
    "print(f\"Border Consistency: {border_consistency_value}\")\n",
    "print(f\"Color Range Consistency Index (CRCI): {crci_value}\")"
   ]
  },
  {
   "cell_type": "code",
   "execution_count": 235,
   "id": "76d1255b",
   "metadata": {},
   "outputs": [],
   "source": [
    "# Define the function to compute the combined consistency index\n",
    "def calculate_combined_consistency_index(image1, image2):\n",
    "    if image1 is None or image2 is None:\n",
    "        raise ValueError(\"One or both image paths are invalid\")\n",
    "\n",
    "    tsnr = calculate_tsnr(image1, image2)\n",
    "    tci = calculate_tci(image1, image2)\n",
    "    epe, ae = calculate_optical_flow_consistency(image1, image2)\n",
    "    frame_diff_metric = calculate_frame_difference_metrics(image1, image2)\n",
    "    ssim_value = calculate_ssim_over_time(image1, image2)\n",
    "    temporal_smoothness = calculate_temporal_smoothness(image1, image2)\n",
    "    mse = calculate_mse(image1, image2)\n",
    "    cde = calculate_cde(image1, image2)\n",
    "    border_consistency = calculate_border_consistency(image1, image2)\n",
    "    crci = calculate_color_range_consistency(image1, image2)\n",
    "\n",
    "    # Normalize and combine the metrics into a single consistency index\n",
    "    metrics = np.array([1-tsnr,tci, epe, ae, frame_diff_metric,1-ssim_value, temporal_smoothness, mse, cde, border_consistency, crci])\n",
    "    normalized_metrics = (metrics - np.min(metrics)) / (np.max(metrics) - np.min(metrics))\n",
    "    combined_consistency_index = np.mean(normalized_metrics)\n",
    "    \n",
    "    # Z-score normalization\n",
    "    mean = np.mean(metrics)\n",
    "    std = np.std(metrics)\n",
    "    Z_metrics = (metrics - mean) / std\n",
    "\n",
    "    #return combined_consistency_index\n",
    "    #return np.mean(metrics)\n",
    "    metrics[metrics <= 0] = 1e-6\n",
    "    return np.sum(np.log(metrics))\n",
    "    #return np.mean(Z_metrics)"
   ]
  },
  {
   "cell_type": "code",
   "execution_count": 255,
   "id": "96ef702c",
   "metadata": {},
   "outputs": [],
   "source": [
    "def PairFrame_Consistency(img1, img2, wsize=(3,3), step=(3,3)):\n",
    "    kw,kh = wsize\n",
    "    H,W,_ = img1.shape\n",
    "    sw,sh = step\n",
    "    maxC = 0\n",
    "    maxR = [0,0,kw,kh]\n",
    "    # Calculate the output dimensions\n",
    "    output_height = (H - kh) // sh + 1\n",
    "    output_width = (W - kw) // sw + 1\n",
    "    # Initialize the output array\n",
    "    result = np.zeros((output_height, output_width))\n",
    "    # Perform the convolution\n",
    "    for i in range(0, output_height*sh, sh):\n",
    "        #print('Row: ',i,'/',output_height*sh,end='\\r')\n",
    "        for j in range(0, output_width*sw, sw):\n",
    "            # Extract the region of interest\n",
    "            region1 = img1[i:i + kh, j:j + kw]\n",
    "            region2 = img2[i:i + kh, j:j + kw]\n",
    "            # Perform element-wise multiplication and sum the result\n",
    "            result[i // sh, j // sw] = calculate_combined_consistency_index(region1, region2)\n",
    "            if result[i//sh,j//sw]>=maxC:\n",
    "                maxR = [i,i+kh,j,j+kw] \n",
    "                maxC = result[i//sh,j//sw]\n",
    "            #if (j+sw+kw)>W:\n",
    "             #   break\n",
    "        #if (i+sh+kh)>H:\n",
    "            #break\n",
    "    #print('')\n",
    "    return result,maxR"
   ]
  },
  {
   "cell_type": "code",
   "execution_count": 248,
   "id": "01ae91a2",
   "metadata": {},
   "outputs": [],
   "source": [
    "def Vid_consistency(F):\n",
    "    C = []\n",
    "    for i in range(len(F)-1):\n",
    "        C.append(calculate_combined_consistency_index(F[i],F[i+1]))\n",
    "    return np.mean(np.asarray(C))\n",
    "\n",
    "def Vid_consistency_W(F,wsize=(3,3),step=(3,3)):\n",
    "    C = []\n",
    "    for i in range(len(F)-1):\n",
    "        print('Frame: ',i+1,'/',len(F)-1,end='\\r')\n",
    "        Metrics,Region = PairFrame_Consistency(F[i],F[i+1],wsize,step)\n",
    "        C.append(np.mean(Metrics))\n",
    "    return np.mean(np.asarray(C))\n",
    "\n",
    "def DrawInconsistancy(F,wsize=(3,3),step=(3,3)):\n",
    "    DI = np.copy(F)\n",
    "    for i in range(len(F)-1):\n",
    "        print('Frame: ',i+1,'/',len(F)-1,end='\\r')\n",
    "        Metrics,Region = PairFrame_Consistency(F[i],F[i+1],wsize,step)\n",
    "        DI[i+1] = cv2.rectangle(DI[i+1], (Region[0],Region[2]), (Region[1],Region[3]), (255,0,0), 3)\n",
    "    return DI"
   ]
  },
  {
   "cell_type": "code",
   "execution_count": 150,
   "id": "484a5d2b",
   "metadata": {},
   "outputs": [
    {
     "data": {
      "text/plain": [
       "11.383177732333385"
      ]
     },
     "execution_count": 150,
     "metadata": {},
     "output_type": "execute_result"
    }
   ],
   "source": [
    "Vid = get_frames(open_vid('VDB/U.mp4'))\n",
    "Vid_consistency(Vid)"
   ]
  },
  {
   "cell_type": "code",
   "execution_count": 151,
   "id": "9cbaecc5",
   "metadata": {},
   "outputs": [
    {
     "data": {
      "text/plain": [
       "17.287034432228037"
      ]
     },
     "execution_count": 151,
     "metadata": {},
     "output_type": "execute_result"
    }
   ],
   "source": [
    "Vid = get_frames(open_vid('Cartoonized/U_toon.mp4'))\n",
    "Vid_consistency(Vid)"
   ]
  },
  {
   "cell_type": "code",
   "execution_count": 152,
   "id": "8a26dae6",
   "metadata": {},
   "outputs": [
    {
     "data": {
      "text/plain": [
       "(320, 640, 3)"
      ]
     },
     "execution_count": 152,
     "metadata": {},
     "output_type": "execute_result"
    }
   ],
   "source": [
    "Vid[0].shape"
   ]
  },
  {
   "cell_type": "code",
   "execution_count": 163,
   "id": "38a45c77",
   "metadata": {},
   "outputs": [
    {
     "name": "stdout",
     "output_type": "stream",
     "text": [
      "Frame:  68 / 68\r"
     ]
    }
   ],
   "source": [
    "Vid = get_frames(open_vid('VDB/U.mp4'))\n",
    "Vid_consistency_W(Vid,(100,100),(100,100));"
   ]
  },
  {
   "cell_type": "code",
   "execution_count": 256,
   "id": "fd7d2458",
   "metadata": {},
   "outputs": [
    {
     "name": "stdout",
     "output_type": "stream",
     "text": [
      "7.69030192291331\n",
      "10.201530163412782\n",
      "9.974525863312813\n",
      "10.691127459436974\n",
      "9.900644144170672\n",
      "7.674683670772948\n",
      "7.7089924211427565\n",
      "7.464635731442022\n",
      "5.729042394483151\n"
     ]
    }
   ],
   "source": [
    "Vid = get_frames(open_vid('VDB/U.mp4'))\n",
    "VidI = DrawInconsistancy(Vid[:10],(100,100),(100,100))"
   ]
  },
  {
   "cell_type": "code",
   "execution_count": 257,
   "id": "8a1175c7",
   "metadata": {},
   "outputs": [
    {
     "name": "stdout",
     "output_type": "stream",
     "text": [
      "Delay:  1000\n"
     ]
    }
   ],
   "source": [
    "play_frames(VidI[:10],1)"
   ]
  },
  {
   "cell_type": "code",
   "execution_count": 156,
   "id": "da9dc7aa",
   "metadata": {},
   "outputs": [],
   "source": [
    "#Check which values with min mean consistency and which max mean consistency. Ex: 1-ssim\n",
    "#What is the max inconistancy window and min inconsistancy\n",
    "#Look for change in entropy too\n",
    "#Check window inside image"
   ]
  }
 ],
 "metadata": {
  "kernelspec": {
   "display_name": "Python 3",
   "language": "python",
   "name": "python3"
  },
  "language_info": {
   "codemirror_mode": {
    "name": "ipython",
    "version": 3
   },
   "file_extension": ".py",
   "mimetype": "text/x-python",
   "name": "python",
   "nbconvert_exporter": "python",
   "pygments_lexer": "ipython3",
   "version": "3.7.6"
  }
 },
 "nbformat": 4,
 "nbformat_minor": 5
}
