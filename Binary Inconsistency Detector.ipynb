{
 "cells": [
  {
   "cell_type": "code",
   "execution_count": 247,
   "id": "48f85731",
   "metadata": {},
   "outputs": [],
   "source": [
    "import import_ipynb\n",
    "from Functions import *\n",
    "import torch.nn.functional as Fun\n",
    "import torch\n",
    "from torch import optim\n",
    "import matplotlib.pyplot as plt\n",
    "import time\n",
    "from torch import nn\n",
    "from torchvision import transforms"
   ]
  },
  {
   "cell_type": "markdown",
   "id": "17b627a7",
   "metadata": {},
   "source": [
    "# Add Inconsistency"
   ]
  },
  {
   "cell_type": "code",
   "execution_count": 248,
   "id": "c86ad46e",
   "metadata": {},
   "outputs": [],
   "source": [
    "#Add a random inconsistency\n",
    "def AddOneInc1(F):\n",
    "    # Convert to NumPy Array\n",
    "    F = F.squeeze(0).permute(1, 2, 0).cpu().numpy() * 255\n",
    "    # Copy of original array\n",
    "    I = F.astype(np.uint8).copy()\n",
    "    # Random location\n",
    "    x, y = random.randint(0, 2 * I.shape[0] // 3), random.randint(0, 2 * I.shape[1] // 3)\n",
    "    # Random size\n",
    "    l = random.randint(5,I.shape[1]//20)\n",
    "    # Random option\n",
    "    Op = random.randint(0, 5)\n",
    "    if Op == 0:\n",
    "        I[x:x + l, y:y + l] = change_range_colors(I[x:x + l, y:y + l], (random.randint(30, 140), random.randint(30, 140), random.randint(30, 140)), (random.randint(150, 255), random.randint(150, 255), random.randint(150, 255)))\n",
    "    elif Op == 1:\n",
    "        R, G, B = random.randint(0, 255), random.randint(0, 255), random.randint(0, 255)\n",
    "        I[x:x + l, y:y + l] = change_range_colors(I[x:x + l, y:y + l], (R, G, B), (R, G, B))\n",
    "    elif Op == 2:\n",
    "        Thick = random.randint(1, 10)\n",
    "        l2 = random.randint(5, I.shape[1]//15)\n",
    "        I = cv2.line(I, (x, y), (x + l, y + l2), (random.randint(0, 255), random.randint(0, 255), random.randint(0, 255)), Thick)\n",
    "    elif Op == 3:\n",
    "        Thick = random.randint(1, 5)\n",
    "        l2 = random.randint(5, I.shape[1]//20)\n",
    "        I = cv2.line(I, (x, y), (x + l, y + l2), (0, 0, 0), Thick)  \n",
    "    elif Op == 4:\n",
    "        I[x:x+l,y:y+l] = I[x:x+l,y:y+l] + np.random.random_integers(-10,10,I[x:x+l,y:y+l].shape)\n",
    "    else:\n",
    "        kernel = np.random.rand(3,3)\n",
    "        I[x:x+l,y:y+l] = cv2.filter2D(I[x:x+l,y:y+l],-1,kernel)\n",
    "    # Convert back to tensor\n",
    "    I_tensor = torch.tensor(I, dtype=torch.float32).permute(2, 0, 1)/255.0\n",
    "    return I_tensor"
   ]
  },
  {
   "cell_type": "markdown",
   "id": "3fd7a9a9",
   "metadata": {},
   "source": [
    "# Calculate OF"
   ]
  },
  {
   "cell_type": "code",
   "execution_count": 249,
   "id": "340a1209",
   "metadata": {},
   "outputs": [],
   "source": [
    "def OF(img1: torch.Tensor, img2: torch.Tensor, alpha: float = 1.0, iterations: int = 100):\n",
    "    assert img1.shape == img2.shape, \"Images must have the same shape\"\n",
    "    # Convert to grayscale to simplify optical flow calculation\n",
    "    def rgb_to_grayscale(img):\n",
    "        return 0.2989 * img[0, :, :] + 0.5870 * img[1, :, :] + 0.1140 * img[2, :, :]\n",
    "\n",
    "    I1 = rgb_to_grayscale(img1)\n",
    "    I2 = rgb_to_grayscale(img2)\n",
    "\n",
    "    # Initialize optical flow vectors (u for x direction, v for y direction)\n",
    "    u = torch.zeros_like(I1, requires_grad=True)\n",
    "    v = torch.zeros_like(I1, requires_grad=True)\n",
    "    \n",
    "    # Define convolution kernels for gradients\n",
    "    kernel_x = torch.tensor([[[[-1, 1], [-1, 1]]]], dtype=torch.float32)\n",
    "    kernel_y = torch.tensor([[[[-1, -1], [1, 1]]]], dtype=torch.float32)\n",
    "\n",
    "    # Compute gradients with padding that maintains the original image size\n",
    "    Ix = Fun.conv2d(I1.unsqueeze(0).unsqueeze(0), kernel_x, padding=(0, 1)).squeeze(0).squeeze(0)\n",
    "    Iy = Fun.conv2d(I1.unsqueeze(0).unsqueeze(0), kernel_y, padding=(1, 0)).squeeze(0).squeeze(0)\n",
    "    It = I2 - I1  # Temporal gradient\n",
    "\n",
    "    # Ensure all tensors have matching dimensions by cropping to the smallest dimensions\n",
    "    min_h = min(Ix.shape[-2], Iy.shape[-2], It.shape[-2], I1.shape[-2])\n",
    "    min_w = min(Ix.shape[-1], Iy.shape[-1], It.shape[-1], I1.shape[-1])\n",
    "\n",
    "    # No additional indexing needed here\n",
    "    Ix = Ix[:min_h, :min_w]\n",
    "    Iy = Iy[:min_h, :min_w]\n",
    "    It = It[:min_h, :min_w]\n",
    "    u = u[:min_h, :min_w]\n",
    "    v = v[:min_h, :min_w]\n",
    "\n",
    "    # Iteratively update the optical flow\n",
    "    for _ in range(iterations):\n",
    "        # Average flow in the neighborhood\n",
    "        u_avg = Fun.avg_pool2d(u.unsqueeze(0).unsqueeze(0), 3, stride=1, padding=1).squeeze(0).squeeze(0)\n",
    "        v_avg = Fun.avg_pool2d(v.unsqueeze(0).unsqueeze(0), 3, stride=1, padding=1).squeeze(0).squeeze(0)\n",
    "        \n",
    "        # Optical flow update step based on Horn-Schunck method\n",
    "        P = Ix * u_avg + Iy * v_avg + It\n",
    "        D = alpha ** 2 + Ix ** 2 + Iy ** 2\n",
    "        \n",
    "        u = u_avg - (Ix * P) / D\n",
    "        v = v_avg - (Iy * P) / D\n",
    "\n",
    "    # Stack u and v to form the flow tensor\n",
    "    flow = torch.stack((u, v), dim=0)\n",
    "    return flow"
   ]
  },
  {
   "cell_type": "markdown",
   "id": "ba2976e7",
   "metadata": {},
   "source": [
    "# Calculate Histogram"
   ]
  },
  {
   "cell_type": "code",
   "execution_count": 250,
   "id": "35698527",
   "metadata": {},
   "outputs": [],
   "source": [
    "def hist(image, num_bins=256, min_val=0.0, max_val=1.0):\n",
    "    # Rescale the image to the range [0, num_bins]\n",
    "    image_scaled = (image - min_val) / (max_val - min_val) * (num_bins - 1)\n",
    "    # Create bin centers\n",
    "    bin_centers = torch.linspace(0, num_bins - 1, num_bins, device=image.device)\n",
    "    # Expand bin centers for broadcasting\n",
    "    bin_centers = bin_centers.view(1, 1, 1, -1)\n",
    "    # Compute the soft assignment (weights) to each bin using Gaussian kernel\n",
    "    histograms = torch.exp(-(image_scaled.unsqueeze(-1) - bin_centers) ** 2)\n",
    "    # Sum over all pixels to get the histogram\n",
    "    histograms = histograms.sum(dim=[2, 3])  # Sum over height and width\n",
    "    # Normalize the histogram to sum to 1\n",
    "    histograms = histograms / histograms.sum(dim=-1, keepdim=True)\n",
    "    return histograms\n",
    "\n",
    "def histogram_loss(image_gen, image_target, num_bins=256):\n",
    "    # Ensure images are in the range [0, 1]\n",
    "    image_gen = torch.clamp(image_gen, 0.0, 1.0)\n",
    "    image_target = torch.clamp(image_target, 0.0, 1.0)\n",
    "    # Calculate differentiable histograms for generated and target images\n",
    "    hist_gen = hist(image_gen, num_bins=num_bins)\n",
    "    hist_target = hist(image_target, num_bins=num_bins)\n",
    "    # Calculate the histogram difference (L2 norm for histogram loss)\n",
    "    loss = torch.sum((hist_gen - hist_target) ** 2, dim=-1).mean()\n",
    "    return loss"
   ]
  },
  {
   "cell_type": "markdown",
   "id": "a2ed644e",
   "metadata": {},
   "source": [
    "# Calculate Difference in Frequency"
   ]
  },
  {
   "cell_type": "code",
   "execution_count": 251,
   "id": "00e5bd37",
   "metadata": {},
   "outputs": [],
   "source": [
    "def frequency_loss(image1, image2):\n",
    "    # Apply 2D Fourier Transform to the images along the height and width dimensions\n",
    "    freq_image1 = torch.fft.fft2(image1*255, dim=(-2, -1))\n",
    "    freq_image2 = torch.fft.fft2(image2*255, dim=(-2, -1))\n",
    "    # Compute the magnitude of the frequencies (ignore the phase for this loss)\n",
    "    mag_image1 = torch.abs(freq_image1)\n",
    "    mag_image2 = torch.abs(freq_image2)\n",
    "    # Compute the loss between the magnitudes of the frequency components\n",
    "    loss = Fun.mse_loss(mag_image1, mag_image2)\n",
    "    return loss"
   ]
  },
  {
   "cell_type": "markdown",
   "id": "56c13d48",
   "metadata": {},
   "source": [
    "# Main Model"
   ]
  },
  {
   "cell_type": "code",
   "execution_count": 252,
   "id": "99d89524",
   "metadata": {},
   "outputs": [],
   "source": [
    "class BinIncModel(nn.Module):\n",
    "    def __init__(self, N, H, W):\n",
    "        super(BinIncModel, self).__init__()\n",
    "        self.N, self.H, self.W = N, H, W\n",
    "        \n",
    "        # Convolutional layers with dilated convolutions and batch normalization\n",
    "        self.conv1 = nn.Conv3d(in_channels=3, out_channels=16, kernel_size=(1, 3, 3), padding=(0, 1, 1))\n",
    "        self.pool1 = nn.MaxPool3d(kernel_size=(1, 2, 2))\n",
    "        self.bn1 = nn.BatchNorm3d(16)\n",
    "        \n",
    "        self.conv2 = nn.Conv3d(in_channels=16, out_channels=32, kernel_size=(1, 3, 3), dilation=(1, 2, 2), padding=(0, 2, 2))\n",
    "        self.pool2 = nn.MaxPool3d(kernel_size=(1, 2, 2))\n",
    "        self.bn2 = nn.BatchNorm3d(32)\n",
    "        \n",
    "        self.conv3 = nn.Conv3d(in_channels=32, out_channels=64, kernel_size=(1, 3, 3), padding=(0, 1, 1))\n",
    "        self.pool3 = nn.MaxPool3d(kernel_size=(1, 2, 2))\n",
    "        self.bn3 = nn.BatchNorm3d(64)\n",
    "\n",
    "        # Spatial Pyramid Pooling to handle varying sizes\n",
    "        self.spp = SpatialPyramidPooling(output_sizes=[(1, 1), (2, 2), (4, 4)])\n",
    "\n",
    "        # LSTM layer for temporal dependence\n",
    "        self.lstm_input_size = 0  # Initialize dynamically\n",
    "        self.lstm = nn.LSTM(input_size=self.lstm_input_size, hidden_size=128, batch_first=True)\n",
    "        \n",
    "        # Fully connected layers\n",
    "        self.fc1 = nn.Linear(128, 64)\n",
    "        self.fc2 = nn.Linear(64, 1)\n",
    "    \n",
    "    def forward(self, x):\n",
    "        # Permute input for 3D convolutions and calculate difference frames\n",
    "        x = x.permute(0, 2, 1, 3, 4)\n",
    "        \n",
    "        # Convolutional layers with BatchNorm, ReLU, and Max Pooling\n",
    "        x = self.bn1(Fun.relu(self.conv1(x)))\n",
    "        x = self.pool1(x)\n",
    "        \n",
    "        x = self.bn2(Fun.relu(self.conv2(x)))\n",
    "        x = self.pool2(x)\n",
    "        \n",
    "        x = self.bn3(Fun.relu(self.conv3(x)))\n",
    "        x = self.pool3(x)\n",
    "\n",
    "        # Spatial Pyramid Pooling\n",
    "        x = self.spp(x)\n",
    "\n",
    "        # Update the LSTM input size dynamically based on the output of SPP\n",
    "        self.lstm_input_size = x.size(1)  # The size after SPP flattening\n",
    "\n",
    "        # Now reinitialize the LSTM layer with the correct input size\n",
    "        self.lstm = nn.LSTM(input_size=self.lstm_input_size, hidden_size=128, batch_first=True)\n",
    "\n",
    "        # Pass through LSTM to capture temporal dependencies\n",
    "        x = x.unsqueeze(1)  # Add time dimension\n",
    "        x, _ = self.lstm(x)\n",
    "        x = x[:, -1, :]  # Take the output of the last LSTM step\n",
    "\n",
    "        # Fully connected layers with Dropout for regularization\n",
    "        x = Fun.relu(self.fc1(x))\n",
    "        x = torch.sigmoid(self.fc2(x))\n",
    "        \n",
    "        return x"
   ]
  },
  {
   "cell_type": "markdown",
   "id": "efc569b9",
   "metadata": {},
   "source": [
    "# Get Training Data"
   ]
  },
  {
   "cell_type": "code",
   "execution_count": 253,
   "id": "beea5a4d",
   "metadata": {},
   "outputs": [],
   "source": [
    "def get_video_frames(path, N, size):\n",
    "    # Find all video files in the specified path\n",
    "    video_files = [f for f in os.listdir(path) if f.endswith(('.mp4', '.avi', '.mov', '.mkv'))]\n",
    "    if not video_files:\n",
    "        raise ValueError(\"No video files found in the specified path.\")\n",
    "    \n",
    "    # Choose a random video file\n",
    "    video_file = random.choice(video_files)\n",
    "    video_path = os.path.join(path, video_file)\n",
    "    \n",
    "    # Initialize the video capture\n",
    "    cap = cv2.VideoCapture(video_path)\n",
    "    total_frames = int(cap.get(cv2.CAP_PROP_FRAME_COUNT))\n",
    "    \n",
    "    # If N is larger than the number of frames in the video, adjust it\n",
    "    if N > total_frames:\n",
    "        raise ValueError(f\"The video has only {total_frames} frames, but {N} frames were requested.\")\n",
    "    \n",
    "    # Select a random starting frame index such that we can capture N consecutive frames\n",
    "    start_frame = random.randint(0, total_frames - N)\n",
    "    cap.set(cv2.CAP_PROP_POS_FRAMES, start_frame)\n",
    "    \n",
    "    # Resize transformation\n",
    "    transform = transforms.Compose([\n",
    "        transforms.ToPILImage(),\n",
    "        transforms.Resize(size),\n",
    "        transforms.ToTensor()\n",
    "    ])\n",
    "    \n",
    "    frames = []\n",
    "    for _ in range(N):\n",
    "        ret, frame = cap.read()\n",
    "        if not ret:\n",
    "            break\n",
    "        # Convert the frame (BGR to RGB) and apply the resize transform\n",
    "        frame_rgb = cv2.cvtColor(frame, cv2.COLOR_BGR2RGB)\n",
    "        frame_tensor = transform(frame_rgb)\n",
    "        frames.append(frame_tensor)\n",
    "    \n",
    "    cap.release()\n",
    "    \n",
    "    # Stack frames and reshape to the desired output shape\n",
    "    frames_tensor = torch.stack(frames).unsqueeze(0)  # Shape (1, N, 3, H, W)\n",
    "    \n",
    "    return frames#_tensor"
   ]
  },
  {
   "cell_type": "markdown",
   "id": "00538316",
   "metadata": {},
   "source": [
    "# Convert Tensor to Numpy List"
   ]
  },
  {
   "cell_type": "code",
   "execution_count": 254,
   "id": "4964b45c",
   "metadata": {},
   "outputs": [],
   "source": [
    "def t2nl(frames_tensor):\n",
    "    # Remove the batch dimension (1, N, 3, H, W) -> (N, 3, H, W)\n",
    "    frames_tensor = frames_tensor.squeeze(0)\n",
    "    \n",
    "    # Convert each frame tensor to a NumPy array\n",
    "    frame_list = [cv2.cvtColor(frame.permute(1, 2, 0).numpy(),cv2.COLOR_BGR2RGB) for frame in frames_tensor]\n",
    "    \n",
    "    return frame_list"
   ]
  },
  {
   "cell_type": "markdown",
   "id": "e3a98406",
   "metadata": {},
   "source": [
    "# Training Function"
   ]
  },
  {
   "cell_type": "code",
   "execution_count": 255,
   "id": "827b83a9",
   "metadata": {},
   "outputs": [],
   "source": [
    "def train(Path, State=None, N=3, Size=(100, 100), Batch=10, Epochs=10, Steps=5, LR=1e-3):\n",
    "    model = BinIncModel(N, Size[0], Size[1])\n",
    "    if State is not None:\n",
    "        model.load_state_dict(State)\n",
    "\n",
    "    optimizer = optim.Adam(model.parameters(), lr=LR)\n",
    "    Loss, LossAll = [], [] \n",
    "    LMin = 1e20\n",
    "\n",
    "    for epoch in range(Epochs):\n",
    "        total_loss = 0.0\n",
    "        for batch in range(Batch):\n",
    "            optimizer.zero_grad()\n",
    "            \n",
    "            Frames = get_video_frames(Path, N, Size)\n",
    "            Target = torch.tensor([0.0]) if random.random() >= 0.5 else torch.tensor([1.0])\n",
    "\n",
    "            if Target.item() == 1.0:\n",
    "                steps = random.randint(1, Steps)\n",
    "                for s in range(steps):\n",
    "                    Frames[N // 2] = AddOneInc1(Frames[N // 2])\n",
    "            \n",
    "            # Difference Frames\n",
    "            diff_frames = [Frames[i+1] - Frames[i] for i in range(len(Frames) - 1)]\n",
    "            In = torch.stack(diff_frames).unsqueeze(0)  # Shape [1, N-1, C, H, W]\n",
    "\n",
    "            # Forward pass\n",
    "            Pred = model(In).squeeze(0)\n",
    "\n",
    "            # Calculate loss\n",
    "            loss = Fun.binary_cross_entropy(Pred, Target)\n",
    "            loss.backward()\n",
    "            optimizer.step()\n",
    "\n",
    "            LossAll.append(loss.item())\n",
    "            total_loss += loss.item()\n",
    "            print(f'Batch [{batch+1}/{Batch}], Loss: {loss.item():.6f}', end='\\r')\n",
    "\n",
    "            # Display predictions on the frame\n",
    "            Frame = cv2.cvtColor(Frames[N // 2].permute(1,2,0).numpy(), cv2.COLOR_BGR2RGB)\n",
    "            Frame = cv2.putText(Frame, f'P: {round(Pred.item())}', (0, 60), cv2.FONT_HERSHEY_SIMPLEX, 1, (0, 255, 0), 1)\n",
    "            Frame = cv2.putText(Frame, f'T: {int(Target.item())}', (0, 30), cv2.FONT_HERSHEY_SIMPLEX, 1, (255, 0, 0), 1)\n",
    "            cv2.imshow(\"Frame\", Frame)\n",
    "            cv2.waitKey(1)\n",
    "\n",
    "        Loss.append(total_loss)\n",
    "        print(f'\\nEpoch [{epoch + 1}/{Epochs}], Loss: {total_loss / Batch:.6f}\\n')\n",
    "        \n",
    "        if total_loss < LMin:\n",
    "            LMin = total_loss\n",
    "            State = model.state_dict()\n",
    "        else:\n",
    "            model.load_state_dict(State)\n",
    "        LR *= 0.9\n",
    "    \n",
    "    cv2.destroyAllWindows()\n",
    "            \n",
    "    return State,model,Loss"
   ]
  },
  {
   "cell_type": "markdown",
   "id": "6bbff028",
   "metadata": {},
   "source": [
    "# Training"
   ]
  },
  {
   "cell_type": "code",
   "execution_count": 264,
   "id": "0a144bec",
   "metadata": {},
   "outputs": [],
   "source": [
    "cv2.destroyAllWindows()"
   ]
  },
  {
   "cell_type": "code",
   "execution_count": 270,
   "id": "ab6f0295",
   "metadata": {},
   "outputs": [],
   "source": [
    "State = None"
   ]
  },
  {
   "cell_type": "code",
   "execution_count": 271,
   "id": "24e5233b",
   "metadata": {
    "scrolled": false
   },
   "outputs": [
    {
     "name": "stdout",
     "output_type": "stream",
     "text": [
      "Batch [20/20], Loss: 0.746668\n",
      "Epoch [1/10], Loss: 0.714408\n",
      "\n",
      "Batch [20/20], Loss: 0.675669\n",
      "Epoch [2/10], Loss: 0.685888\n",
      "\n",
      "Batch [20/20], Loss: 0.702868\n",
      "Epoch [3/10], Loss: 0.673241\n",
      "\n",
      "Batch [20/20], Loss: 0.739484\n",
      "Epoch [4/10], Loss: 0.679568\n",
      "\n",
      "Batch [20/20], Loss: 0.726143\n",
      "Epoch [5/10], Loss: 0.695576\n",
      "\n",
      "Batch [20/20], Loss: 0.622998\n",
      "Epoch [6/10], Loss: 0.664638\n",
      "\n",
      "Batch [20/20], Loss: 0.565636\n",
      "Epoch [7/10], Loss: 0.684871\n",
      "\n",
      "Batch [20/20], Loss: 0.793584\n",
      "Epoch [8/10], Loss: 0.720809\n",
      "\n",
      "Batch [20/20], Loss: 0.570150\n",
      "Epoch [9/10], Loss: 0.699210\n",
      "\n",
      "Batch [20/20], Loss: 0.763766\n",
      "Epoch [10/10], Loss: 0.727409\n",
      "\n"
     ]
    }
   ],
   "source": [
    "State,Model,L = train('VDB',Batch=20,State=State,Size=(100,100),N=3,Epochs=10,Steps=5,LR=1e-3)"
   ]
  },
  {
   "cell_type": "code",
   "execution_count": 272,
   "id": "84335404",
   "metadata": {},
   "outputs": [
    {
     "data": {
      "text/plain": [
       "[<matplotlib.lines.Line2D at 0x1d791575dc8>]"
      ]
     },
     "execution_count": 272,
     "metadata": {},
     "output_type": "execute_result"
    },
    {
     "data": {
      "image/png": "[encoded data removed]",
      "text/plain": [
       "<Figure size 432x288 with 1 Axes>"
      ]
     },
     "metadata": {
      "needs_background": "light"
     },
     "output_type": "display_data"
    }
   ],
   "source": [
    "plt.plot(L)"
   ]
  },
  {
   "cell_type": "code",
   "execution_count": 282,
   "id": "361d99dc",
   "metadata": {},
   "outputs": [],
   "source": [
    "def Prediction(video, model, model_state, N, H, W):\n",
    "    # Load the model state\n",
    "    model.load_state_dict(model_state)\n",
    "    model.eval()  # Set model to evaluation mode\n",
    "    outputs = []\n",
    "    # Iterate over the video in steps of N frames\n",
    "    num_frames = len(video)\n",
    "    for i in range(0, num_frames - N + 1):\n",
    "        # Extract the stack of frames\n",
    "        frame_stack = video[i:i + N]  # Shape: (N, H, W, C)\n",
    "        # Convert to numpy array and add batch dimension\n",
    "        frame_stack = np.array(frame_stack)  # Shape: (N, H, W, C)\n",
    "        # Rearrange to match the model's expected input shape: (batch, N, C, H, W)\n",
    "        # In our case, the frame_stack shape should be (1, N, 3, H, W) where 3 is the number of channels (RGB)\n",
    "        frame_stack = np.transpose(frame_stack, (0, 3, 1, 2))  # Shape: (N, C, H, W)\n",
    "        frame_stack = np.expand_dims(frame_stack, axis=0)  # Shape: (1, N, C, H, W)\n",
    "        # Convert to a PyTorch tensor\n",
    "        frame_stack = torch.tensor(frame_stack, dtype=torch.float32)\n",
    "        # Forward pass through the model\n",
    "        with torch.no_grad():\n",
    "            output = model(frame_stack)\n",
    "        # Append the output to the list\n",
    "        outputs.append(int(round(output.item())))\n",
    "    return outputs"
   ]
  },
  {
   "cell_type": "code",
   "execution_count": 302,
   "id": "0571b5c2",
   "metadata": {},
   "outputs": [],
   "source": [
    "cap = open_vid(\"AI Gen/movie.mp4\")\n",
    "Video = get_frames(cap)\n",
    "VI = torch.from_numpy(Video[5]).permute(2,0,1).unsqueeze(0)\n",
    "VI = AddOneInc1(VI)\n",
    "Video[5] = cv2.cvtColor(VI.permute(1, 2, 0).numpy(),cv2.COLOR_BGR2RGB)\n",
    "display_frame(Video[5])"
   ]
  },
  {
   "cell_type": "code",
   "execution_count": 295,
   "id": "922b12a5",
   "metadata": {},
   "outputs": [
    {
     "data": {
      "text/plain": [
       "[1, 1, 0, 1, 1, 1, 1, 1, 1, 1, 0, 1, 0]"
      ]
     },
     "execution_count": 295,
     "metadata": {},
     "output_type": "execute_result"
    }
   ],
   "source": [
    "Video = [cv2.resize(i,(100,100)) for i in Video[:15]]\n",
    "Preds = process_video(Video,Model,State,3,100,100)\n",
    "Preds"
   ]
  },
  {
   "cell_type": "code",
   "execution_count": 260,
   "id": "17afa431",
   "metadata": {},
   "outputs": [],
   "source": [
    "def Prediction(Vid,Model,State,N,Size):\n",
    "    model = BinIncModel(N,Size(0),Size(1))\n",
    "    P = []\n",
    "    V = [torch.tensor(cv2.resize(i,(320,320),interpolation=cv2.INTER_AREA),\n",
    "                              dtype=torch.float32).permute(2,0,1).unsqueeze(0)/255.0 for i in Vid]\n",
    "    \n",
    "    N = len(kt)//2\n",
    "    for f in range(len(V) - 2 * N):\n",
    "        first, current, last = f, f + N // 2, f + N\n",
    "        Pred = ObjFun(V[first:last], V[current], k, kt, kb)\n",
    "        P.append(cv2.resize((Pred[0] * 255).squeeze(0).permute(1, 2, 0).detach().cpu().numpy().astype(np.uint8),\n",
    "                                           (Vid[f].shape[1], Vid[f].shape[0]), interpolation=cv2.INTER_AREA))\n",
    "    return P"
   ]
  },
  {
   "cell_type": "code",
   "execution_count": null,
   "id": "b736367b",
   "metadata": {},
   "outputs": [],
   "source": [
    "PVid = Prediction(Video,Parameters)"
   ]
  },
  {
   "cell_type": "code",
   "execution_count": null,
   "id": "20db1859",
   "metadata": {},
   "outputs": [],
   "source": [
    "ThroughFrames(Video)"
   ]
  },
  {
   "cell_type": "code",
   "execution_count": null,
   "id": "12865008",
   "metadata": {},
   "outputs": [],
   "source": [
    "ThroughFrames(PVid)"
   ]
  },
  {
   "cell_type": "code",
   "execution_count": null,
   "id": "dc3cb2dc",
   "metadata": {},
   "outputs": [],
   "source": [
    "##Add detail error, MSE of full image only minimizes general pixel distribution\n",
    "##Add more training examples\n",
    "##Add N previous and N post current inconsistence image\n",
    "##Add optical flow, frequencies or other features for temporal consistency\n",
    "##Different kernel sizes\n",
    "##Add Gaisian Noise\n",
    "##Reconstruct image with kernel middle between encoder and decofer\n",
    "##Use data with less loss value, selection\n",
    "##How to combine data with less error and with more error?\n",
    "##Localize area and correct error"
   ]
  },
  {
   "cell_type": "code",
   "execution_count": null,
   "id": "5d6aa679",
   "metadata": {},
   "outputs": [],
   "source": [
    "#deformaciones\n",
    "#parches de colores, OF ventana\n",
    "#self attention mechanism\n",
    "#image processing transformer"
   ]
  },
  {
   "cell_type": "code",
   "execution_count": null,
   "id": "d97e2da6",
   "metadata": {},
   "outputs": [],
   "source": []
  }
 ],
 "metadata": {
  "kernelspec": {
   "display_name": "Python 3",
   "language": "python",
   "name": "python3"
  },
  "language_info": {
   "codemirror_mode": {
    "name": "ipython",
    "version": 3
   },
   "file_extension": ".py",
   "mimetype": "text/x-python",
   "name": "python",
   "nbconvert_exporter": "python",
   "pygments_lexer": "ipython3",
   "version": "3.7.6"
  }
 },
 "nbformat": 4,
 "nbformat_minor": 5
}
