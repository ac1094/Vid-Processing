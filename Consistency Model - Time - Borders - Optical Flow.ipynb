{
 "cells": [
  {
   "cell_type": "code",
   "execution_count": 1,
   "id": "0592d275",
   "metadata": {},
   "outputs": [
    {
     "name": "stdout",
     "output_type": "stream",
     "text": [
      "importing Jupyter notebook from ConsistencyIndexes.ipynb\n",
      "importing Jupyter notebook from Functions.ipynb\n"
     ]
    }
   ],
   "source": [
    "import import_ipynb\n",
    "from ConsistencyIndexes import *\n",
    "import torch.nn.functional as Fun\n",
    "import torch\n",
    "from torch import optim\n",
    "import matplotlib.pyplot as plt\n",
    "import time"
   ]
  },
  {
   "cell_type": "markdown",
   "id": "470794f8",
   "metadata": {},
   "source": [
    "## Extract Parameters from Dictionary"
   ]
  },
  {
   "cell_type": "code",
   "execution_count": 2,
   "id": "251795a2",
   "metadata": {},
   "outputs": [],
   "source": [
    "#Extract kernels and weights from Parameters\n",
    "def Extract(Params):\n",
    "    k = Params['k']\n",
    "    kt = Params['kt']\n",
    "    kb = Params['kb']\n",
    "    return k,kt,kb"
   ]
  },
  {
   "cell_type": "markdown",
   "id": "339c7f71",
   "metadata": {},
   "source": [
    "## Generate Random Values for Parameters"
   ]
  },
  {
   "cell_type": "code",
   "execution_count": 3,
   "id": "2a630e43",
   "metadata": {},
   "outputs": [],
   "source": [
    "def Gen_Params(k_size,N,N_k):\n",
    "    # Kernels for Current Frame\n",
    "    k = [torch.rand(3,3,k_size,k_size,requires_grad=True) for _ in range(N_k)]     \n",
    "    # Kernels for Temporal Consistency\n",
    "    kt = [[torch.rand(3,3,k_size,k_size,requires_grad=True) for _ in range(N_k)]  for _ in range(2*N)]\n",
    "    kb = [[torch.rand(3,3,k_size,k_size,requires_grad=True) for _ in range(N_k)]  for _ in range(2*N)]\n",
    "    return k,kt,kb"
   ]
  },
  {
   "cell_type": "markdown",
   "id": "74cbadb1",
   "metadata": {},
   "source": [
    "## Objective Function"
   ]
  },
  {
   "cell_type": "markdown",
   "id": "0040f498",
   "metadata": {},
   "source": [
    "$$ F_{objective}(V,x,k_{x},k_{time},w_{time})= LeakyReLu(FeatureExtraction(V[\\lfloor N/2 \\rfloor],k_{x}) + \\sum_{i=0}^{\\lfloor \\frac{N}{2}\\rfloor-1} FeatureExtraction(V[i],k_{time}[i]) + \\sum_{i=\\lfloor \\frac{N}{2}\\rfloor+1}^{N} FeatureExtraction(V[i],k_{time}[i])) $$\n",
    "<br>Where $V$ is a sequence of frames in a video of length $N$ and $V[\\lfloor N/2 \\rfloor]$ is the current frame. Also, $k_{x}$ is a list of kernels to exctract the current frame features and $k_{time}$ is lists of lists of kernels used to extract the features of the adjacent frames. The FeatureExtraction function is a function of consecutive convolutions with a LeakyReLu function."
   ]
  },
  {
   "cell_type": "code",
   "execution_count": 4,
   "id": "841d40cb",
   "metadata": {},
   "outputs": [],
   "source": [
    "def ObjFun(V,x,k,kt,kb):\n",
    "    N = len(kt) #Number of adjacent frames\n",
    "    k_size = k[0].shape[-1] # kernel size\n",
    "    N_k = len(k[0]) #Number of kernels\n",
    "    encodes = V[:N//2]+V[N//2+1:]\n",
    "    sp = k_size//2 #stride\n",
    "    # Encoder\n",
    "    for i in k:\n",
    "        x = Fun.leaky_relu(Fun.conv2d(x,i,stride=1,padding=sp))\n",
    "    # Temporal Encoder\n",
    "    for i in range(len(encodes)):\n",
    "         for j in kt[i]:  \n",
    "            encodes[i] = Fun.leaky_relu(Fun.conv2d(encodes[i],j,stride=1,padding=sp))\n",
    "            \n",
    "    # Add latent values\n",
    "    for i in range(len(encodes)):\n",
    "        x = x + encodes[i]\n",
    "\n",
    "    return Fun.leaky_relu(x)"
   ]
  },
  {
   "cell_type": "markdown",
   "id": "a722c940",
   "metadata": {},
   "source": [
    "## Draw Inconsistencies and noise to frame"
   ]
  },
  {
   "cell_type": "code",
   "execution_count": 5,
   "id": "e0e7247e",
   "metadata": {},
   "outputs": [],
   "source": [
    "def AddOneInc1(F):\n",
    "    # Convert to NumPy Array\n",
    "    F = F.squeeze(0).permute(1, 2, 0).cpu().numpy() * 255\n",
    "    # Copy of original array\n",
    "    I = F.astype(np.uint8).copy()\n",
    "    # Random location\n",
    "    x, y = random.randint(0, 2 * I.shape[0] // 3), random.randint(0, 2 * I.shape[1] // 3)\n",
    "    # Random size\n",
    "    l = random.randint(5,I.shape[1]//20)\n",
    "    # Random option\n",
    "    Op = random.randint(0, 5)\n",
    "    if Op == 0: #Draw square with changes color ranges\n",
    "        I[x:x + l, y:y + l] = change_range_colors(I[x:x + l, y:y + l], (random.randint(30, 140), random.randint(30, 140), random.randint(30, 140)), (random.randint(150, 255), random.randint(150, 255), random.randint(150, 255)))\n",
    "    elif Op == 1: #Draw square with random color\n",
    "        R, G, B = random.randint(0, 255), random.randint(0, 255), random.randint(0, 255)\n",
    "        I[x:x + l, y:y + l] = change_range_colors(I[x:x + l, y:y + l], (R, G, B), (R, G, B))\n",
    "    elif Op == 2: #Draw line with random color\n",
    "        Thick = random.randint(1, 10)\n",
    "        l2 = random.randint(5, I.shape[1]//15)\n",
    "        I = cv2.line(I, (x, y), (x + l, y + l2), (random.randint(0, 255), random.randint(0, 255), random.randint(0, 255)), Thick)\n",
    "    elif Op == 3: #Draw black line\n",
    "        Thick = random.randint(1, 5)\n",
    "        l2 = random.randint(5, I.shape[1]//20)\n",
    "        I = cv2.line(I, (x, y), (x + l, y + l2), (0, 0, 0), Thick)  \n",
    "    elif Op == 4: #Add a square of noise\n",
    "        I[x:x+l,y:y+l] = I[x:x+l,y:y+l] + np.random.random_integers(-10,10,I[x:x+l,y:y+l].shape)\n",
    "    else: #Convolution with a random kernel\n",
    "        kernel = np.random.rand(3,3)\n",
    "        I[x:x+l,y:y+l] = cv2.filter2D(I[x:x+l,y:y+l],-1,kernel)\n",
    "    # Convert back to tensor\n",
    "    I_tensor = torch.tensor(I, dtype=torch.float32).permute(2, 0, 1).unsqueeze(0)/255.0\n",
    "    return I_tensor"
   ]
  },
  {
   "cell_type": "markdown",
   "id": "7e3a500a",
   "metadata": {},
   "source": [
    "## Optical Flow Function"
   ]
  },
  {
   "cell_type": "code",
   "execution_count": 6,
   "id": "5c3bc621",
   "metadata": {},
   "outputs": [],
   "source": [
    "def OF(img1,img2,iterations=100):\n",
    "    def rgb_to_grayscale(img): #NTSC Formula (National Television System Committee)\n",
    "        return 0.2989 * img[0, :, :] + 0.5870 * img[1, :, :] + 0.1140 * img[2, :, :] #Coeficients add to one\n",
    "    #Convert to Gray Scale\n",
    "    I1 = rgb_to_grayscale(img1)\n",
    "    I2 = rgb_to_grayscale(img2)\n",
    "    # Initialize optical flow vectors\n",
    "    x = torch.zeros_like(I1, requires_grad=True)\n",
    "    y = torch.zeros_like(I1, requires_grad=True)\n",
    "    # Define convolution kernels for gradients\n",
    "    kernel_x = torch.tensor([[[[-1, 1], [-1, 1]]]], dtype=torch.float32)\n",
    "    kernel_y = torch.tensor([[[[-1, -1], [1, 1]]]], dtype=torch.float32)\n",
    "    # Compute gradients with padding that maintains the original image size\n",
    "    Ix = Fun.conv2d(I1.unsqueeze(0).unsqueeze(0),kernel_x,padding=(0,1)).squeeze(0).squeeze(0)\n",
    "    Iy = Fun.conv2d(I1.unsqueeze(0).unsqueeze(0),kernel_y,padding=(1,0)).squeeze(0).squeeze(0)\n",
    "    It = I2 - I1  # Temporal gradient\n",
    "    # Ensure all tensors have matching dimensions by cropping to the smallest dimensions\n",
    "    min_h = min(Ix.shape[-2],Iy.shape[-2],It.shape[-2],I1.shape[-2])\n",
    "    min_w = min(Ix.shape[-1],Iy.shape[-1],It.shape[-1],I1.shape[-1])\n",
    "    Ix = Ix[:min_h, :min_w]\n",
    "    Iy = Iy[:min_h, :min_w]\n",
    "    It = It[:min_h, :min_w]\n",
    "    x = x[:min_h, :min_w]\n",
    "    y = y[:min_h, :min_w]\n",
    "    # Iteratively update the optical flow\n",
    "    for _ in range(iterations):\n",
    "        # Average flow in the neighborhood\n",
    "        x_avg = Fun.avg_pool2d(x.unsqueeze(0).unsqueeze(0),3,stride=1,padding=1).squeeze(0).squeeze(0)\n",
    "        y_avg = Fun.avg_pool2d(y.unsqueeze(0).unsqueeze(0),3,stride=1,padding=1).squeeze(0).squeeze(0)\n",
    "        # Optical flow update step based on Horn-Schunck method\n",
    "        P = Ix * x_avg + Iy * y_avg + It\n",
    "        D = Ix ** 2 + Iy ** 2\n",
    "        x = x_avg - (Ix * P) / D\n",
    "        y = y_avg - (Iy * P) / D\n",
    "    # Stack x and y to form the flow tensor\n",
    "    flow = torch.stack((x, y), dim=0)\n",
    "    return flow"
   ]
  },
  {
   "cell_type": "markdown",
   "id": "564c4194",
   "metadata": {},
   "source": [
    "## Training Function"
   ]
  },
  {
   "cell_type": "code",
   "execution_count": 8,
   "id": "d7f1d93a",
   "metadata": {},
   "outputs": [],
   "source": [
    "def train(Input, Params=None, N=1, k_size=1, N_k=1, Epochs=10, Steps=5, LR=1e-3):\n",
    "    if Params is None: #If parameters are not given\n",
    "        k, kt, kb = Gen_Params(k_size, N, N_k) #Generate Starting Parameters\n",
    "    else:\n",
    "        k, kt, kb = Extract(Params) #Load Parameters\n",
    "        k_size = k[0][-1].shape[-1]\n",
    "        N = len(kt)//2\n",
    "        N_k = len(k)\n",
    "    sp = k_size // 2 #Stride\n",
    "    if N > len(Input[0]) // 2: #Ensure Videoclips have enough frames\n",
    "        print(\"Not enough frames for size\", N)\n",
    "        return None, None, None\n",
    "    # Set optimizer parameters\n",
    "    optimizer = optim.NAdam([p for p in k] + [j for p in kt for j in p], lr=LR)\n",
    "    Loss = [] #Epochs loss\n",
    "    LossAll = [] #Frames loss\n",
    "    #Set videos to correct format\n",
    "    In = [[torch.tensor(cv2.resize(i, (320, 320), interpolation=cv2.INTER_AREA),\n",
    "                        dtype=torch.float32).permute(2, 0, 1).unsqueeze(0) / 255.0 for i in v] for v in Input]\n",
    "    #Edges kernel\n",
    "    ke = torch.tensor([[[[0, -1, 0], [-1, 4, -1], [0, -1, 0]]]*3]*3, dtype=torch.float32)\n",
    "    #Calculate edges for each videoclip\n",
    "    Edges = [[F.conv2d(i, ke, stride=sp, padding=sp) for i in v] for v in In]\n",
    "    #Steps and time for time estimation\n",
    "    total_steps = Epochs * len(In) * (len(In[0]) - 2 * N)\n",
    "    step_count = 0\n",
    "    start_time = time.time()\n",
    "    for epoch in range(Epochs):\n",
    "        total_loss = 0.0\n",
    "        random.shuffle(In) #Shuffle Videoclips\n",
    "        for v in range(len(In)): #For each video\n",
    "            for f in range(len(In[v]) - 2 * N): #For each frame in video\n",
    "                step_count += 1 #step count for time estimation\n",
    "                first, current, last = f, f + N // 2, f + N #Set indexes\n",
    "                Inc = In[v][current].clone() #Copy current frame\n",
    "                optimizer.zero_grad() #Reset gradients\n",
    "                if random.randint(0, 2)>= 1: #2/3 probability to add noise\n",
    "                    steps = random.randint(1, Steps)\n",
    "                    for s in range(steps):\n",
    "                        Inc = AddOneInc1(Inc)\n",
    "                # Perform forward pass\n",
    "                Pred = ObjFun(In[v][first:last], Inc, k, kt, kb)\n",
    "                ed = F.conv2d(Pred, ke, stride=sp, padding=sp)\n",
    "                # Optical Flow Loss\n",
    "                original_flow = OF(In[v][current-1].squeeze(0), In[v][current].squeeze(0))\n",
    "                predicted_flow = OF(In[v][current-1].squeeze(0), Pred.squeeze(0))\n",
    "                # Compute losses (reconstruction + edge + optical flow loss)\n",
    "                reconstruction_loss = 0.3 * F.mse_loss(Pred * 255, In[v][current] * 255)\n",
    "                edge_loss = 0.3 * F.mse_loss(ed * 255, Edges[v][current] * 255)\n",
    "                flow_loss = 0.3*F.mse_loss(original_flow*255, predicted_flow*255)\n",
    "                # Total loss\n",
    "                loss = reconstruction_loss + edge_loss + flow_loss\n",
    "                # Backpropagation\n",
    "                loss.backward()\n",
    "                optimizer.step()\n",
    "                #Append losses\n",
    "                LossAll.append(loss.item())\n",
    "                total_loss += loss.item()\n",
    "                # Visualization\n",
    "                cv2.imshow(\"Inconsistent\", cv2.resize((Inc[0] * 255).squeeze(0).permute(1, 2, 0).detach().cpu().numpy().astype(np.uint8),\n",
    "                                                      (Input[v][0].shape[1], Input[v][0].shape[0]), interpolation=cv2.INTER_AREA))\n",
    "                cv2.imshow(\"Predicted\", cv2.resize((Pred[0] * 255).squeeze(0).permute(1, 2, 0).detach().cpu().numpy().astype(np.uint8),\n",
    "                                                   (Input[v][0].shape[1], Input[v][0].shape[0]), interpolation=cv2.INTER_AREA))\n",
    "                cv2.waitKey(1)\n",
    "                # Time estimation\n",
    "                current_time = time.time()\n",
    "                elapsed_time = current_time - start_time\n",
    "                avg_time_per_step = elapsed_time / step_count\n",
    "                estimated_remaining_time = avg_time_per_step * (total_steps - step_count)\n",
    "                hrs = int(estimated_remaining_time // 3600)\n",
    "                mins = int((estimated_remaining_time % 3600) // 60)\n",
    "                secs = int(estimated_remaining_time % 60)\n",
    "                print(f'Epoch[{epoch+1}/{Epochs}] Video[{v+1}/{len(In)}] Frame[{f+1}/{len(In[v]) - 2*N}] '\n",
    "                      f'Loss:{loss.item():.6f} Time Remaining: {hrs:02}:{mins:02}:{secs:02}', end='\\r')\n",
    "        Loss.append(total_loss / len(Input))\n",
    "        print(f'\\nEpoch [{epoch + 1}/{Epochs}], Loss: {total_loss / len(Input):.6f}')\n",
    "        if epoch > 1 and Loss[-1] < Loss[-2]:\n",
    "            P = {'k': k, 'kt': kt, 'kb': kb}\n",
    "        elif epoch > 1 and Loss[-1] > Loss[-2]:\n",
    "            k, kt, kb = Extract(P)\n",
    "        elif epoch <= 1:\n",
    "            P = {'k': k, 'kt': kt, 'kb': kb}\n",
    "    cv2.destroyAllWindows()\n",
    "    return P, Loss, LossAll"
   ]
  },
  {
   "cell_type": "markdown",
   "id": "fc17c609",
   "metadata": {},
   "source": [
    "## Load Training Data"
   ]
  },
  {
   "cell_type": "code",
   "execution_count": 9,
   "id": "48db784b",
   "metadata": {},
   "outputs": [
    {
     "data": {
      "text/plain": [
       "(34, 7)"
      ]
     },
     "execution_count": 9,
     "metadata": {},
     "output_type": "execute_result"
    }
   ],
   "source": [
    "Consec = 7\n",
    "Frames = read_first_frames(\"VDB\",Consec)\n",
    "Vids = [[Frames[j*Consec+i] for i in range(Consec)] for j in range(len(Frames)//Consec)]\n",
    "len(Vids),len(Vids[0])"
   ]
  },
  {
   "cell_type": "markdown",
   "id": "a788ce0b",
   "metadata": {},
   "source": [
    "## Load Parameters"
   ]
  },
  {
   "cell_type": "code",
   "execution_count": 11,
   "id": "566c76da",
   "metadata": {},
   "outputs": [],
   "source": [
    "Parameters = torch.load(\"paramstimedof.pth\")"
   ]
  },
  {
   "cell_type": "markdown",
   "id": "657518d6",
   "metadata": {},
   "source": [
    "## Training"
   ]
  },
  {
   "cell_type": "code",
   "execution_count": 115,
   "id": "3b6075b2",
   "metadata": {
    "scrolled": false
   },
   "outputs": [
    {
     "name": "stdout",
     "output_type": "stream",
     "text": [
      "Epoch[1/3] Video[2/34] Frame[1/1] Loss:6364.400391 Time Remaining: 00:04:14\r"
     ]
    },
    {
     "ename": "KeyboardInterrupt",
     "evalue": "",
     "output_type": "error",
     "traceback": [
      "\u001b[1;31m---------------------------------------------------------------------------\u001b[0m",
      "\u001b[1;31mKeyboardInterrupt\u001b[0m                         Traceback (most recent call last)",
      "\u001b[1;32m<ipython-input-115-ddad2914c88e>\u001b[0m in \u001b[0;36m<module>\u001b[1;34m\u001b[0m\n\u001b[1;32m----> 1\u001b[1;33m \u001b[0mParameters\u001b[0m\u001b[1;33m,\u001b[0m\u001b[0ml\u001b[0m\u001b[1;33m,\u001b[0m\u001b[0mla\u001b[0m \u001b[1;33m=\u001b[0m \u001b[0mtrain\u001b[0m\u001b[1;33m(\u001b[0m\u001b[0mVids\u001b[0m\u001b[1;33m,\u001b[0m\u001b[0mParams\u001b[0m\u001b[1;33m=\u001b[0m\u001b[0mParameters\u001b[0m\u001b[1;33m,\u001b[0m\u001b[0mN\u001b[0m\u001b[1;33m=\u001b[0m\u001b[1;36m3\u001b[0m\u001b[1;33m,\u001b[0m\u001b[0mk_size\u001b[0m\u001b[1;33m=\u001b[0m\u001b[1;36m3\u001b[0m\u001b[1;33m,\u001b[0m\u001b[0mN_k\u001b[0m\u001b[1;33m=\u001b[0m\u001b[1;36m3\u001b[0m\u001b[1;33m,\u001b[0m\u001b[0mEpochs\u001b[0m\u001b[1;33m=\u001b[0m\u001b[1;36m3\u001b[0m\u001b[1;33m,\u001b[0m\u001b[0mSteps\u001b[0m\u001b[1;33m=\u001b[0m\u001b[1;36m5\u001b[0m\u001b[1;33m,\u001b[0m\u001b[0mLR\u001b[0m\u001b[1;33m=\u001b[0m\u001b[1;36m1e-6\u001b[0m\u001b[1;33m)\u001b[0m\u001b[1;33m\u001b[0m\u001b[1;33m\u001b[0m\u001b[0m\n\u001b[0m",
      "\u001b[1;32m<ipython-input-80-25a5e7f58170>\u001b[0m in \u001b[0;36mtrain\u001b[1;34m(Input, Params, N, k_size, N_k, Epochs, Steps, LR)\u001b[0m\n\u001b[0;32m     62\u001b[0m \u001b[1;33m\u001b[0m\u001b[0m\n\u001b[0;32m     63\u001b[0m                 \u001b[1;31m# Backpropagation\u001b[0m\u001b[1;33m\u001b[0m\u001b[1;33m\u001b[0m\u001b[1;33m\u001b[0m\u001b[0m\n\u001b[1;32m---> 64\u001b[1;33m                 \u001b[0mloss\u001b[0m\u001b[1;33m.\u001b[0m\u001b[0mbackward\u001b[0m\u001b[1;33m(\u001b[0m\u001b[1;33m)\u001b[0m\u001b[1;33m\u001b[0m\u001b[1;33m\u001b[0m\u001b[0m\n\u001b[0m\u001b[0;32m     65\u001b[0m                 \u001b[0moptimizer\u001b[0m\u001b[1;33m.\u001b[0m\u001b[0mstep\u001b[0m\u001b[1;33m(\u001b[0m\u001b[1;33m)\u001b[0m\u001b[1;33m\u001b[0m\u001b[1;33m\u001b[0m\u001b[0m\n\u001b[0;32m     66\u001b[0m \u001b[1;33m\u001b[0m\u001b[0m\n",
      "\u001b[1;32m~\\anaconda3\\lib\\site-packages\\torch\\_tensor.py\u001b[0m in \u001b[0;36mbackward\u001b[1;34m(self, gradient, retain_graph, create_graph, inputs)\u001b[0m\n\u001b[0;32m    487\u001b[0m             )\n\u001b[0;32m    488\u001b[0m         torch.autograd.backward(\n\u001b[1;32m--> 489\u001b[1;33m             \u001b[0mself\u001b[0m\u001b[1;33m,\u001b[0m \u001b[0mgradient\u001b[0m\u001b[1;33m,\u001b[0m \u001b[0mretain_graph\u001b[0m\u001b[1;33m,\u001b[0m \u001b[0mcreate_graph\u001b[0m\u001b[1;33m,\u001b[0m \u001b[0minputs\u001b[0m\u001b[1;33m=\u001b[0m\u001b[0minputs\u001b[0m\u001b[1;33m\u001b[0m\u001b[1;33m\u001b[0m\u001b[0m\n\u001b[0m\u001b[0;32m    490\u001b[0m         )\n\u001b[0;32m    491\u001b[0m \u001b[1;33m\u001b[0m\u001b[0m\n",
      "\u001b[1;32m~\\anaconda3\\lib\\site-packages\\torch\\autograd\\__init__.py\u001b[0m in \u001b[0;36mbackward\u001b[1;34m(tensors, grad_tensors, retain_graph, create_graph, grad_variables, inputs)\u001b[0m\n\u001b[0;32m    197\u001b[0m     Variable._execution_engine.run_backward(  # Calls into the C++ engine to run the backward pass\n\u001b[0;32m    198\u001b[0m         \u001b[0mtensors\u001b[0m\u001b[1;33m,\u001b[0m \u001b[0mgrad_tensors_\u001b[0m\u001b[1;33m,\u001b[0m \u001b[0mretain_graph\u001b[0m\u001b[1;33m,\u001b[0m \u001b[0mcreate_graph\u001b[0m\u001b[1;33m,\u001b[0m \u001b[0minputs\u001b[0m\u001b[1;33m,\u001b[0m\u001b[1;33m\u001b[0m\u001b[1;33m\u001b[0m\u001b[0m\n\u001b[1;32m--> 199\u001b[1;33m         allow_unreachable=True, accumulate_grad=True)  # Calls into the C++ engine to run the backward pass\n\u001b[0m\u001b[0;32m    200\u001b[0m \u001b[1;33m\u001b[0m\u001b[0m\n\u001b[0;32m    201\u001b[0m def grad(\n",
      "\u001b[1;31mKeyboardInterrupt\u001b[0m: "
     ]
    }
   ],
   "source": [
    "Parameters,l,la = train(Vids,Params=Parameters,N=3,k_size=3,N_k=3,Epochs=3,Steps=5,LR=1e-6)"
   ]
  },
  {
   "cell_type": "markdown",
   "id": "31beabf4",
   "metadata": {},
   "source": [
    "## Save Parameters"
   ]
  },
  {
   "cell_type": "code",
   "execution_count": 103,
   "id": "d9860132",
   "metadata": {},
   "outputs": [],
   "source": [
    "torch.save(Parameters,\"paramstimedof.pth\")\n",
    "Parameters = torch.load(\"paramstimedof.pth\")"
   ]
  },
  {
   "cell_type": "markdown",
   "id": "cdaca59e",
   "metadata": {},
   "source": [
    "## Plot Epoch's Loss"
   ]
  },
  {
   "cell_type": "code",
   "execution_count": 104,
   "id": "7de50117",
   "metadata": {},
   "outputs": [
    {
     "data": {
      "image/png": "[encoded data removed]",
      "text/plain": [
       "<Figure size 432x288 with 1 Axes>"
      ]
     },
     "metadata": {
      "needs_background": "light"
     },
     "output_type": "display_data"
    }
   ],
   "source": [
    "plt.plot(l)\n",
    "plt.yscale('log')"
   ]
  },
  {
   "cell_type": "markdown",
   "id": "f9c28048",
   "metadata": {},
   "source": [
    "## Plot Frames Loss"
   ]
  },
  {
   "cell_type": "code",
   "execution_count": 105,
   "id": "5b980947",
   "metadata": {},
   "outputs": [
    {
     "data": {
      "image/png": "[encoded data removed]",
      "text/plain": [
       "<Figure size 432x288 with 1 Axes>"
      ]
     },
     "metadata": {
      "needs_background": "light"
     },
     "output_type": "display_data"
    }
   ],
   "source": [
    "r = 1\n",
    "plt.plot([sum(la[i:i+r])/r for i in range(0,len(la),r)])\n",
    "plt.yscale('log')"
   ]
  },
  {
   "cell_type": "markdown",
   "id": "fb5aa550",
   "metadata": {},
   "source": [
    "## Prediction"
   ]
  },
  {
   "cell_type": "code",
   "execution_count": 12,
   "id": "89b3e098",
   "metadata": {},
   "outputs": [],
   "source": [
    "def Prediction(Vid,Params):\n",
    "    P = []\n",
    "    V = [torch.tensor(cv2.resize(i,(320,320),interpolation=cv2.INTER_AREA),\n",
    "                              dtype=torch.float32).permute(2,0,1).unsqueeze(0)/255.0 for i in Vid]\n",
    "    k,kt,kb = Extract(Params)\n",
    "    N = len(kt)//2\n",
    "    for f in range(len(V) - 2 * N):\n",
    "        first, current, last = f, f + N // 2, f + N\n",
    "        Pred = ObjFun(V[first:last], V[current], k, kt, kb)\n",
    "        P.append(cv2.resize((Pred[0] * 255).squeeze(0).permute(1, 2, 0).detach().cpu().numpy().astype(np.uint8),\n",
    "                                           (Vid[f].shape[1], Vid[f].shape[0]), interpolation=cv2.INTER_AREA))\n",
    "    return P"
   ]
  },
  {
   "cell_type": "code",
   "execution_count": 30,
   "id": "92de0df8",
   "metadata": {},
   "outputs": [],
   "source": [
    "Parameters = torch.load(\"paramstimedof.pth\")\n",
    "cap = open_vid(\"AI Gen/movie(17).mp4\")\n",
    "Video = get_frames(cap)"
   ]
  },
  {
   "cell_type": "code",
   "execution_count": 31,
   "id": "e43faac8",
   "metadata": {},
   "outputs": [],
   "source": [
    "PVid = Prediction(Video[:30],Parameters)"
   ]
  },
  {
   "cell_type": "code",
   "execution_count": 32,
   "id": "6632a0df",
   "metadata": {},
   "outputs": [],
   "source": [
    "ThroughFrames(PVid)"
   ]
  },
  {
   "cell_type": "code",
   "execution_count": null,
   "id": "976faa23",
   "metadata": {},
   "outputs": [],
   "source": []
  }
 ],
 "metadata": {
  "kernelspec": {
   "display_name": "Python 3",
   "language": "python",
   "name": "python3"
  },
  "language_info": {
   "codemirror_mode": {
    "name": "ipython",
    "version": 3
   },
   "file_extension": ".py",
   "mimetype": "text/x-python",
   "name": "python",
   "nbconvert_exporter": "python",
   "pygments_lexer": "ipython3",
   "version": "3.7.6"
  }
 },
 "nbformat": 4,
 "nbformat_minor": 5
}
