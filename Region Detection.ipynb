{
 "cells": [
  {
   "cell_type": "code",
   "execution_count": 205,
   "id": "26796c33",
   "metadata": {},
   "outputs": [],
   "source": [
    "import import_ipynb\n",
    "from Functions import *\n",
    "import torch.nn.functional as Fun\n",
    "import torch\n",
    "from torch import optim\n",
    "import matplotlib.pyplot as plt\n",
    "import time\n",
    "import torch.nn as nn"
   ]
  },
  {
   "cell_type": "code",
   "execution_count": 206,
   "id": "e9b6fbf4",
   "metadata": {},
   "outputs": [],
   "source": [
    "def Extract(Params):\n",
    "    return "
   ]
  },
  {
   "cell_type": "markdown",
   "id": "1408fae1",
   "metadata": {},
   "source": [
    "## Model"
   ]
  },
  {
   "cell_type": "code",
   "execution_count": 207,
   "id": "e66937aa",
   "metadata": {},
   "outputs": [],
   "source": [
    "class RModel(nn.Module):\n",
    "    def __init__(self, T):\n",
    "        super(RModel, self).__init__()\n",
    "        self.conv1 = nn.Conv3d(3, 16, kernel_size=(3, 3, 3), padding=(1, 1, 1))\n",
    "        self.pool = nn.MaxPool3d(kernel_size=(1, 2, 2))\n",
    "        self.conv2 = nn.Conv3d(16, 32, kernel_size=(3, 3, 3), padding=(1, 1, 1))\n",
    "        self.fc1 = nn.Linear(32 * T * 6 * 6, 128)\n",
    "        self.fc2 = nn.Linear(128, 2 * 2)\n",
    "        self.T = T"
   ]
  },
  {
   "cell_type": "markdown",
   "id": "a73ec2f3",
   "metadata": {},
   "source": [
    "## Objective Function"
   ]
  },
  {
   "cell_type": "code",
   "execution_count": 208,
   "id": "475b5bb0",
   "metadata": {},
   "outputs": [],
   "source": [
    "def Forward(input_tensor, T, model):\n",
    "    # First Convolutional Layer\n",
    "    x = model.conv1(input_tensor)\n",
    "    x = torch.relu(x)\n",
    "    x = model.pool(x)  # Max pooling over spatial dimensions\n",
    "\n",
    "    # Second Convolutional Layer\n",
    "    x = model.conv2(x)\n",
    "    x = torch.relu(x)\n",
    "    x = model.pool(x)  # Max pooling over spatial dimensions\n",
    "\n",
    "    # Adaptive Average Pooling\n",
    "    x = nn.AdaptiveAvgPool3d((T, 6, 6))(x)\n",
    "\n",
    "    # Flatten and Fully Connected Layers\n",
    "    x = x.view(x.size(0), -1)  # Flatten\n",
    "    x = model.fc1(x)\n",
    "    x = torch.relu(x)\n",
    "    x = model.fc2(x)  # Output size of (2, 2)\n",
    "    \n",
    "    return x.view(x.size(0), 2, 2)  # Reshape to (2, 2)"
   ]
  },
  {
   "cell_type": "markdown",
   "id": "05a97662",
   "metadata": {},
   "source": [
    "## Draw Inconsistencies and noise to frame"
   ]
  },
  {
   "cell_type": "code",
   "execution_count": 209,
   "id": "bd6c7d6a",
   "metadata": {},
   "outputs": [],
   "source": [
    "def AddOneInc1(F,Op,x,y,xl,yl):\n",
    "    if isinstance(F, torch.Tensor):\n",
    "        # Convert to NumPy Array\n",
    "        F = F.squeeze(0).permute(1, 2, 0).cpu().numpy() * 255\n",
    "    # Copy of original array\n",
    "    I = F.astype(np.uint8).copy()\n",
    "\n",
    "    if Op == 0: #Draw square with changes color ranges\n",
    "        I[x:xl, y:yl] = change_range_colors(I[x:xl,y:yl], (random.randint(30, 140), random.randint(30, 140), random.randint(30, 140)), (random.randint(150, 255), random.randint(150, 255), random.randint(150, 255)))\n",
    "    elif Op == 1: #Draw square with random color\n",
    "        R, G, B = random.randint(0, 255), random.randint(0, 255), random.randint(0, 255)\n",
    "        I[x:xl,y:yl] = change_range_colors(I[x:xl,y:yl], (R, G, B), (R, G, B))\n",
    "    elif Op == 2: #Draw line with random color\n",
    "        Thick = random.randint(1, 10)\n",
    "        l2 = random.randint(5, I.shape[1]//10)\n",
    "        I = cv2.line(I, (x, y), (xl,yl), (random.randint(0, 255), random.randint(0, 255), random.randint(0, 255)), Thick)\n",
    "    elif Op == 3: #Draw black line\n",
    "        Thick = random.randint(1, 5)\n",
    "        l2 = random.randint(5, I.shape[1]//10)\n",
    "        I = cv2.line(I, (x, y), (xl, yl), (0, 0, 0), Thick)  \n",
    "    elif Op == 4: #Add a square of noise\n",
    "        I[x:xl,y:yl] = I[x:xl,y:yl] + np.random.random_integers(-10,10,I[x:xl,y:yl].shape)\n",
    "    elif Op == 5: #Convolution with a random kernel\n",
    "        kernel = np.random.rand(3,3)\n",
    "        I[x:xl,y:yl] = cv2.filter2D(I[x:xl,y:yl],-1,kernel)\n",
    "    elif Op == 6:\n",
    "        I[x:xl,y:yl] = img_deformation(I[x:xl,y:yl],random.randint(10,50),random.randint(10,100))\n",
    "    else:# Op == 7:\n",
    "        I[x:xl,y:yl] = random_point_warp(I[x:xl,y:yl],random.randint(1,5))\n",
    "\n",
    "    I_tensor = torch.tensor(I,dtype=torch.float32).permute(2, 0, 1).unsqueeze(0)/255.0\n",
    "    return I_tensor"
   ]
  },
  {
   "cell_type": "code",
   "execution_count": 210,
   "id": "66e4b8be",
   "metadata": {},
   "outputs": [],
   "source": [
    "def read_random_video(directory, N):\n",
    "    # Get a random video from the directory\n",
    "    videos = [f for f in os.listdir(directory) if f.endswith(('.mp4', '.avi', '.mov'))]\n",
    "    if not videos:\n",
    "        raise ValueError(\"No video files found in the directory\")\n",
    "    \n",
    "    video_path = os.path.join(directory, random.choice(videos))\n",
    "    \n",
    "    # Open the video file\n",
    "    cap = cv2.VideoCapture(video_path)\n",
    "    if not cap.isOpened():\n",
    "        raise ValueError(f\"Could not open video file {video_path}\")\n",
    "    \n",
    "    # Get total number of frames in the video\n",
    "    total_frames = int(cap.get(cv2.CAP_PROP_FRAME_COUNT))\n",
    "    \n",
    "    # Ensure N sequential frames and next N frames can be fetched\n",
    "    if total_frames < 2 * N + 1:\n",
    "        raise ValueError(f\"Video does not have enough frames for N={N} sequential frames.\")\n",
    "    \n",
    "    # Randomly select a start frame ensuring there are enough remaining frames\n",
    "    start_frame = random.randint(0, total_frames - (2 * N + 1))\n",
    "    \n",
    "    # Read the first N sequential frames\n",
    "    sequential_frames = []\n",
    "    cap.set(cv2.CAP_PROP_POS_FRAMES, start_frame)\n",
    "    for _ in range(N):\n",
    "        ret, frame = cap.read()\n",
    "        if not ret:\n",
    "            raise ValueError(\"Error reading frame from video\")\n",
    "        sequential_frames.append(frame)\n",
    "\n",
    "    # Read the next single frame\n",
    "    ret, next_frame = cap.read()\n",
    "    if not ret:\n",
    "        raise ValueError(\"Error reading next frame from video\")\n",
    "    \n",
    "    # Read the next N sequential frames after the next frame\n",
    "    next_sequential_frames = []\n",
    "    for _ in range(N):\n",
    "        ret, frame = cap.read()\n",
    "        if not ret:\n",
    "            raise ValueError(\"Error reading next sequential frame from video\")\n",
    "        next_sequential_frames.append(frame)\n",
    "    \n",
    "    # Convert lists to numpy arrays and tensors\n",
    "    sequential_frames = [np.array(frame) for frame in sequential_frames]\n",
    "    next_frame = np.array(next_frame)\n",
    "    next_sequential_frames = [np.array(frame) for frame in next_sequential_frames]\n",
    "    \n",
    "    cap.release()\n",
    "    \n",
    "    return sequential_frames, next_frame, next_sequential_frames"
   ]
  },
  {
   "cell_type": "markdown",
   "id": "7db0a9d4",
   "metadata": {},
   "source": [
    "## Training Function"
   ]
  },
  {
   "cell_type": "code",
   "execution_count": 211,
   "id": "30ac330d",
   "metadata": {},
   "outputs": [],
   "source": [
    "def train(Path, N_Samples=3, state=None, N=1, Epochs=10, Steps=5, LR=1e-3, Size=(320,320)):\n",
    "    model  = RModel(N)\n",
    "    if state is not None:\n",
    "        state = model.load_state_dict(state)\n",
    "    \n",
    "    L_Min = 1e20\n",
    "    Loss = []  # Loss per epoch\n",
    "    LossAll = []  # Loss for each sample\n",
    "    \n",
    "    # Start time for total time estimation\n",
    "    total_steps = Epochs * N_Samples\n",
    "    step_count = 0\n",
    "    start_time = time.time()\n",
    "    \n",
    "    for epoch in range(Epochs):\n",
    "        optimizer = optim.NAdam(model.parameters(), lr=LR)\n",
    "        total_loss = 0.0\n",
    "        epoch_start_time = time.time()  # Start time for the current epoch\n",
    "        \n",
    "        for sample in range(N_Samples):\n",
    "            step_count += 1  # Increment step count for time estimation\n",
    "            optimizer.zero_grad()  # Reset gradients\n",
    "            \n",
    "            past, current, future = read_random_video(Path, N) #Numpy Frames\n",
    "            #Normalize Torch Tensors \n",
    "            Past = [Frame2Torch(p, Size, Normalize=True).float() for p in past]\n",
    "            Current = Frame2Torch(current, Size, Normalize=True).float()\n",
    "            Future = [Frame2Torch(f, Size, Normalize=True).float() for f in future]\n",
    "            #Copies of Tensors\n",
    "            Past_C = [p.clone() for p in Past]\n",
    "            Current_C = Current.clone()\n",
    "            Future_C = [f.clone() for f in Future]\n",
    "            #Coordinates of Inconsistency\n",
    "            x, y = random.randint(0, 4 * Current.shape[2] // 5), random.randint(0, 4 * Current.shape[3] // 5)\n",
    "            xl,yl = random.randint(x+1,x+int(Current.shape[2]*0.2)),random.randint(y+1,y+int(Current.shape[3]*0.2))\n",
    "            \n",
    "            # Apply noise\n",
    "            if random.randint(0, 100) < 75:\n",
    "                steps = random.randint(1, Steps)\n",
    "                for s in range(steps):\n",
    "                    Op = random.randint(0, 8)\n",
    "                    Current_C = AddOneInc1(Current_C,Op,x,y,xl,yl)\n",
    "\n",
    "                for n in range(len(Past_C)):\n",
    "                    if random.randint(0, 100) < 30 :\n",
    "                        steps = random.randint(1, Steps)\n",
    "                        for s in range(steps):\n",
    "                            Op = random.randint(0, 8)\n",
    "                            Past_C[n] = AddOneInc1(Past_C[n],Op,x,y,xl,yl)\n",
    "\n",
    "                for n in range(len(Future_C)):\n",
    "                    if random.randint(0, 100) < 30:\n",
    "                        steps = random.randint(1, Steps)\n",
    "                        for s in range(steps):\n",
    "                            Op = random.randint(0, 8)\n",
    "                            Future_C[n] = AddOneInc1(Future_C[n],Op,x,y,xl,yl)\n",
    "            else:\n",
    "                x,y,xl,yl = -10,-10,-10,-10\n",
    "\n",
    "            In = torch.stack(Past_C+[Current_C]+Future_C,dim=2)\n",
    "            Target = torch.tensor([[x,y],[x+xl,y+yl]]).unsqueeze(0).float()\n",
    "            \n",
    "            # Forward pass\n",
    "            Pred = Forward(In,N,model)\n",
    "\n",
    "            # Compute loss\n",
    "            loss = Fun.mse_loss(Pred,Target)\n",
    "            # Backpropagation\n",
    "            loss.backward()\n",
    "            optimizer.step()\n",
    "\n",
    "            # Append sample loss\n",
    "            LossAll.append(loss.item())\n",
    "            total_loss += loss.item()\n",
    "\n",
    "            # Sample-wise time estimation\n",
    "            current_time = time.time()\n",
    "            elapsed_time = current_time - start_time\n",
    "            avg_time_per_step = elapsed_time / step_count\n",
    "            estimated_remaining_time = avg_time_per_step * (total_steps - step_count)\n",
    "            hrs = int(estimated_remaining_time // 3600)\n",
    "            mins = int((estimated_remaining_time % 3600) // 60)\n",
    "            secs = int(estimated_remaining_time % 60)\n",
    "            \n",
    "            cv2.imshow('Inconsistent',Frame2Numpy(Current_C,(current.shape[1],current.shape[0]),Denormalize=True))\n",
    "            #print((Pred[0,0,0].item(),Pred[0,0,1].item()), (Pred[0,1,0].item(),Pred[0,1,1].item()),(x,y),(x+xl,y+yl))\n",
    "            P_img = Frame2Numpy(Current_C,Denormalize=True)\n",
    "            P_img = cv2.rectangle(P_img, (Pred[0,0,0],Pred[0,0,1]), (Pred[0,1,0],Pred[0,1,1]), (255,0,0), 1)\n",
    "            cv2.imshow('Predicted',cv2.resize(P_img,(current.shape[1],current.shape[0])))\n",
    "            cv2.waitKey(1)\n",
    "\n",
    "            # Display sample loss and time estimation\n",
    "            print(f'Epoch[{epoch+1}/{Epochs}] Sample[{sample+1}/{N_Samples}]'\n",
    "                  f' Loss: {loss.item():.6f} Time Remaining: {hrs:02}:{mins:02}:{secs:02}', end='\\r')\n",
    "\n",
    "        # End of epoch: print the total loss for the epoch\n",
    "        avg_epoch_loss = total_loss / N_Samples\n",
    "        Loss.append(avg_epoch_loss)\n",
    "        print(f'\\nEpoch [{epoch+1}/{Epochs}], Average Loss: {avg_epoch_loss:.6f}')\n",
    "\n",
    "        # Update parameters based on loss\n",
    "        if Loss[-1] < L_Min:\n",
    "            state = model.state_dict()\n",
    "            L_Min = Loss[-1]\n",
    "            print('-',LR)\n",
    "        else:\n",
    "            model.load_state_dict(state)\n",
    "            print('+',LR)\n",
    "        \n",
    "        LR = LR*0.9\n",
    "    cv2.destroyAllWindows()\n",
    "    return state,model,Loss, LossAll"
   ]
  },
  {
   "cell_type": "markdown",
   "id": "96c7f128",
   "metadata": {},
   "source": [
    "## Load Parameters"
   ]
  },
  {
   "cell_type": "code",
   "execution_count": 212,
   "id": "5a94e16d",
   "metadata": {},
   "outputs": [],
   "source": [
    "State = torch.load(\"RegionModelParams.pth\")"
   ]
  },
  {
   "cell_type": "markdown",
   "id": "246927d2",
   "metadata": {},
   "source": [
    "## Training"
   ]
  },
  {
   "cell_type": "code",
   "execution_count": 213,
   "id": "7544a4b7",
   "metadata": {},
   "outputs": [],
   "source": [
    "cv2.destroyAllWindows()"
   ]
  },
  {
   "cell_type": "code",
   "execution_count": 214,
   "id": "d1d93494",
   "metadata": {
    "scrolled": false
   },
   "outputs": [
    {
     "name": "stdout",
     "output_type": "stream",
     "text": [
      "Epoch[1/10] Sample[20/20] Loss: 7724.215332 Time Remaining: 00:02:467\n",
      "Epoch [1/10], Average Loss: 7845.486890\n",
      "- 0.1\n",
      "Epoch[2/10] Sample[20/20] Loss: 12242.997070 Time Remaining: 00:02:32\n",
      "Epoch [2/10], Average Loss: 9719.548083\n",
      "+ 0.09000000000000001\n",
      "Epoch[3/10] Sample[20/20] Loss: 7033.043457 Time Remaining: 00:02:146\n",
      "Epoch [3/10], Average Loss: 9918.492979\n",
      "+ 0.08100000000000002\n",
      "Epoch[4/10] Sample[4/20] Loss: 10327.843750 Time Remaining: 00:02:11\r"
     ]
    },
    {
     "ename": "KeyboardInterrupt",
     "evalue": "",
     "output_type": "error",
     "traceback": [
      "\u001b[1;31m---------------------------------------------------------------------------\u001b[0m",
      "\u001b[1;31mKeyboardInterrupt\u001b[0m                         Traceback (most recent call last)",
      "\u001b[1;32m<ipython-input-214-14865a3a9006>\u001b[0m in \u001b[0;36m<module>\u001b[1;34m\u001b[0m\n\u001b[1;32m----> 1\u001b[1;33m \u001b[0mState\u001b[0m\u001b[1;33m,\u001b[0m\u001b[0mModel\u001b[0m\u001b[1;33m,\u001b[0m\u001b[0ml\u001b[0m\u001b[1;33m,\u001b[0m\u001b[0mla\u001b[0m \u001b[1;33m=\u001b[0m \u001b[0mtrain\u001b[0m\u001b[1;33m(\u001b[0m\u001b[1;34m'VDB'\u001b[0m\u001b[1;33m,\u001b[0m\u001b[0mN_Samples\u001b[0m\u001b[1;33m=\u001b[0m\u001b[1;36m20\u001b[0m\u001b[1;33m,\u001b[0m\u001b[0mstate\u001b[0m\u001b[1;33m=\u001b[0m\u001b[0mState\u001b[0m\u001b[1;33m,\u001b[0m\u001b[0mN\u001b[0m\u001b[1;33m=\u001b[0m\u001b[1;36m5\u001b[0m\u001b[1;33m,\u001b[0m\u001b[0mEpochs\u001b[0m\u001b[1;33m=\u001b[0m\u001b[1;36m10\u001b[0m\u001b[1;33m,\u001b[0m\u001b[0mSteps\u001b[0m\u001b[1;33m=\u001b[0m\u001b[1;36m10\u001b[0m\u001b[1;33m,\u001b[0m\u001b[0mLR\u001b[0m\u001b[1;33m=\u001b[0m\u001b[1;36m1e-1\u001b[0m\u001b[1;33m,\u001b[0m\u001b[0mSize\u001b[0m\u001b[1;33m=\u001b[0m\u001b[1;33m(\u001b[0m\u001b[1;36m200\u001b[0m\u001b[1;33m,\u001b[0m\u001b[1;36m200\u001b[0m\u001b[1;33m)\u001b[0m\u001b[1;33m)\u001b[0m\u001b[1;33m\u001b[0m\u001b[1;33m\u001b[0m\u001b[0m\n\u001b[0m",
      "\u001b[1;32m<ipython-input-211-0a44fb9272d8>\u001b[0m in \u001b[0;36mtrain\u001b[1;34m(Path, N_Samples, state, N, Epochs, Steps, LR, Size)\u001b[0m\n\u001b[0;32m     62\u001b[0m \u001b[1;33m\u001b[0m\u001b[0m\n\u001b[0;32m     63\u001b[0m             \u001b[1;31m# Forward pass\u001b[0m\u001b[1;33m\u001b[0m\u001b[1;33m\u001b[0m\u001b[1;33m\u001b[0m\u001b[0m\n\u001b[1;32m---> 64\u001b[1;33m             \u001b[0mPred\u001b[0m \u001b[1;33m=\u001b[0m \u001b[0mForward\u001b[0m\u001b[1;33m(\u001b[0m\u001b[0mIn\u001b[0m\u001b[1;33m,\u001b[0m\u001b[0mN\u001b[0m\u001b[1;33m,\u001b[0m\u001b[0mmodel\u001b[0m\u001b[1;33m)\u001b[0m\u001b[1;33m\u001b[0m\u001b[1;33m\u001b[0m\u001b[0m\n\u001b[0m\u001b[0;32m     65\u001b[0m \u001b[1;33m\u001b[0m\u001b[0m\n\u001b[0;32m     66\u001b[0m             \u001b[1;31m# Compute loss\u001b[0m\u001b[1;33m\u001b[0m\u001b[1;33m\u001b[0m\u001b[1;33m\u001b[0m\u001b[0m\n",
      "\u001b[1;32m<ipython-input-208-8161046b5715>\u001b[0m in \u001b[0;36mForward\u001b[1;34m(input_tensor, T, model)\u001b[0m\n\u001b[0;32m      1\u001b[0m \u001b[1;32mdef\u001b[0m \u001b[0mForward\u001b[0m\u001b[1;33m(\u001b[0m\u001b[0minput_tensor\u001b[0m\u001b[1;33m,\u001b[0m \u001b[0mT\u001b[0m\u001b[1;33m,\u001b[0m \u001b[0mmodel\u001b[0m\u001b[1;33m)\u001b[0m\u001b[1;33m:\u001b[0m\u001b[1;33m\u001b[0m\u001b[1;33m\u001b[0m\u001b[0m\n\u001b[0;32m      2\u001b[0m     \u001b[1;31m# First Convolutional Layer\u001b[0m\u001b[1;33m\u001b[0m\u001b[1;33m\u001b[0m\u001b[1;33m\u001b[0m\u001b[0m\n\u001b[1;32m----> 3\u001b[1;33m     \u001b[0mx\u001b[0m \u001b[1;33m=\u001b[0m \u001b[0mmodel\u001b[0m\u001b[1;33m.\u001b[0m\u001b[0mconv1\u001b[0m\u001b[1;33m(\u001b[0m\u001b[0minput_tensor\u001b[0m\u001b[1;33m)\u001b[0m\u001b[1;33m\u001b[0m\u001b[1;33m\u001b[0m\u001b[0m\n\u001b[0m\u001b[0;32m      4\u001b[0m     \u001b[0mx\u001b[0m \u001b[1;33m=\u001b[0m \u001b[0mtorch\u001b[0m\u001b[1;33m.\u001b[0m\u001b[0mrelu\u001b[0m\u001b[1;33m(\u001b[0m\u001b[0mx\u001b[0m\u001b[1;33m)\u001b[0m\u001b[1;33m\u001b[0m\u001b[1;33m\u001b[0m\u001b[0m\n\u001b[0;32m      5\u001b[0m     \u001b[0mx\u001b[0m \u001b[1;33m=\u001b[0m \u001b[0mmodel\u001b[0m\u001b[1;33m.\u001b[0m\u001b[0mpool\u001b[0m\u001b[1;33m(\u001b[0m\u001b[0mx\u001b[0m\u001b[1;33m)\u001b[0m  \u001b[1;31m# Max pooling over spatial dimensions\u001b[0m\u001b[1;33m\u001b[0m\u001b[1;33m\u001b[0m\u001b[0m\n",
      "\u001b[1;32m~\\anaconda3\\lib\\site-packages\\torch\\nn\\modules\\module.py\u001b[0m in \u001b[0;36m_call_impl\u001b[1;34m(self, *input, **kwargs)\u001b[0m\n\u001b[0;32m   1192\u001b[0m         if not (self._backward_hooks or self._forward_hooks or self._forward_pre_hooks or _global_backward_hooks\n\u001b[0;32m   1193\u001b[0m                 or _global_forward_hooks or _global_forward_pre_hooks):\n\u001b[1;32m-> 1194\u001b[1;33m             \u001b[1;32mreturn\u001b[0m \u001b[0mforward_call\u001b[0m\u001b[1;33m(\u001b[0m\u001b[1;33m*\u001b[0m\u001b[0minput\u001b[0m\u001b[1;33m,\u001b[0m \u001b[1;33m**\u001b[0m\u001b[0mkwargs\u001b[0m\u001b[1;33m)\u001b[0m\u001b[1;33m\u001b[0m\u001b[1;33m\u001b[0m\u001b[0m\n\u001b[0m\u001b[0;32m   1195\u001b[0m         \u001b[1;31m# Do not call functions when jit is used\u001b[0m\u001b[1;33m\u001b[0m\u001b[1;33m\u001b[0m\u001b[1;33m\u001b[0m\u001b[0m\n\u001b[0;32m   1196\u001b[0m         \u001b[0mfull_backward_hooks\u001b[0m\u001b[1;33m,\u001b[0m \u001b[0mnon_full_backward_hooks\u001b[0m \u001b[1;33m=\u001b[0m \u001b[1;33m[\u001b[0m\u001b[1;33m]\u001b[0m\u001b[1;33m,\u001b[0m \u001b[1;33m[\u001b[0m\u001b[1;33m]\u001b[0m\u001b[1;33m\u001b[0m\u001b[1;33m\u001b[0m\u001b[0m\n",
      "\u001b[1;32m~\\anaconda3\\lib\\site-packages\\torch\\nn\\modules\\conv.py\u001b[0m in \u001b[0;36mforward\u001b[1;34m(self, input)\u001b[0m\n\u001b[0;32m    611\u001b[0m \u001b[1;33m\u001b[0m\u001b[0m\n\u001b[0;32m    612\u001b[0m     \u001b[1;32mdef\u001b[0m \u001b[0mforward\u001b[0m\u001b[1;33m(\u001b[0m\u001b[0mself\u001b[0m\u001b[1;33m,\u001b[0m \u001b[0minput\u001b[0m\u001b[1;33m:\u001b[0m \u001b[0mTensor\u001b[0m\u001b[1;33m)\u001b[0m \u001b[1;33m->\u001b[0m \u001b[0mTensor\u001b[0m\u001b[1;33m:\u001b[0m\u001b[1;33m\u001b[0m\u001b[1;33m\u001b[0m\u001b[0m\n\u001b[1;32m--> 613\u001b[1;33m         \u001b[1;32mreturn\u001b[0m \u001b[0mself\u001b[0m\u001b[1;33m.\u001b[0m\u001b[0m_conv_forward\u001b[0m\u001b[1;33m(\u001b[0m\u001b[0minput\u001b[0m\u001b[1;33m,\u001b[0m \u001b[0mself\u001b[0m\u001b[1;33m.\u001b[0m\u001b[0mweight\u001b[0m\u001b[1;33m,\u001b[0m \u001b[0mself\u001b[0m\u001b[1;33m.\u001b[0m\u001b[0mbias\u001b[0m\u001b[1;33m)\u001b[0m\u001b[1;33m\u001b[0m\u001b[1;33m\u001b[0m\u001b[0m\n\u001b[0m\u001b[0;32m    614\u001b[0m \u001b[1;33m\u001b[0m\u001b[0m\n\u001b[0;32m    615\u001b[0m \u001b[1;33m\u001b[0m\u001b[0m\n",
      "\u001b[1;32m~\\anaconda3\\lib\\site-packages\\torch\\nn\\modules\\conv.py\u001b[0m in \u001b[0;36m_conv_forward\u001b[1;34m(self, input, weight, bias)\u001b[0m\n\u001b[0;32m    607\u001b[0m             )\n\u001b[0;32m    608\u001b[0m         return F.conv3d(\n\u001b[1;32m--> 609\u001b[1;33m             \u001b[0minput\u001b[0m\u001b[1;33m,\u001b[0m \u001b[0mweight\u001b[0m\u001b[1;33m,\u001b[0m \u001b[0mbias\u001b[0m\u001b[1;33m,\u001b[0m \u001b[0mself\u001b[0m\u001b[1;33m.\u001b[0m\u001b[0mstride\u001b[0m\u001b[1;33m,\u001b[0m \u001b[0mself\u001b[0m\u001b[1;33m.\u001b[0m\u001b[0mpadding\u001b[0m\u001b[1;33m,\u001b[0m \u001b[0mself\u001b[0m\u001b[1;33m.\u001b[0m\u001b[0mdilation\u001b[0m\u001b[1;33m,\u001b[0m \u001b[0mself\u001b[0m\u001b[1;33m.\u001b[0m\u001b[0mgroups\u001b[0m\u001b[1;33m\u001b[0m\u001b[1;33m\u001b[0m\u001b[0m\n\u001b[0m\u001b[0;32m    610\u001b[0m         )\n\u001b[0;32m    611\u001b[0m \u001b[1;33m\u001b[0m\u001b[0m\n",
      "\u001b[1;31mKeyboardInterrupt\u001b[0m: "
     ]
    }
   ],
   "source": [
    "State,Model,l,la = train('VDB',N_Samples=20,state=State,N=5,Epochs=10,Steps=10,LR=1e-1,Size=(200,200))"
   ]
  },
  {
   "cell_type": "markdown",
   "id": "d6b9db80",
   "metadata": {},
   "source": [
    "## Save Parameters"
   ]
  },
  {
   "cell_type": "code",
   "execution_count": 200,
   "id": "dccc9d92",
   "metadata": {},
   "outputs": [],
   "source": [
    "torch.save(State,\"RegionModelParams.pth\")\n",
    "State = torch.load(\"RegionModelParams.pth\")"
   ]
  },
  {
   "cell_type": "markdown",
   "id": "e23ff51d",
   "metadata": {},
   "source": [
    "## Plot Epoch's Loss"
   ]
  },
  {
   "cell_type": "code",
   "execution_count": 201,
   "id": "c2a0c1c9",
   "metadata": {},
   "outputs": [
    {
     "data": {
      "image/png": "[encoded data removed]",
      "text/plain": [
       "<Figure size 432x288 with 1 Axes>"
      ]
     },
     "metadata": {
      "needs_background": "light"
     },
     "output_type": "display_data"
    }
   ],
   "source": [
    "plt.plot(l)\n",
    "plt.yscale('log')"
   ]
  },
  {
   "cell_type": "markdown",
   "id": "60dc96f6",
   "metadata": {},
   "source": [
    "## Plot Frames Loss"
   ]
  },
  {
   "cell_type": "code",
   "execution_count": 202,
   "id": "dc076240",
   "metadata": {},
   "outputs": [
    {
     "data": {
      "image/png": "[encoded data removed]",
      "text/plain": [
       "<Figure size 432x288 with 1 Axes>"
      ]
     },
     "metadata": {
      "needs_background": "light"
     },
     "output_type": "display_data"
    }
   ],
   "source": [
    "r = 1\n",
    "plt.plot([sum(la[i:i+r])/r for i in range(0,len(la),r)])\n",
    "plt.yscale('log')"
   ]
  },
  {
   "cell_type": "markdown",
   "id": "8f1d3756",
   "metadata": {},
   "source": [
    "## Prediction"
   ]
  },
  {
   "cell_type": "code",
   "execution_count": 203,
   "id": "d44b0bde",
   "metadata": {},
   "outputs": [],
   "source": [
    "State = torch.load(\"RegionModelParams.pth\")\n",
    "cap = open_vid(\"VDB/L.mp4\")\n",
    "Video = get_frames(cap)"
   ]
  },
  {
   "cell_type": "code",
   "execution_count": 204,
   "id": "9b993ac1",
   "metadata": {},
   "outputs": [],
   "source": [
    "N = 10\n",
    "for _ in range(15):\n",
    "    Video[N] = Frame2Numpy(AddOneInc1(Frame2Torch(Video[N],Normalize=True),random.randint(0,8),20,60,80,100),Denormalize=True)"
   ]
  },
  {
   "cell_type": "code",
   "execution_count": null,
   "id": "981c3b87",
   "metadata": {},
   "outputs": [],
   "source": [
    "def GenerateFrames(images, State, frame_size=(320, 320)):\n",
    "    \n",
    "    PRED = []\n",
    "    # Extract parameters from the dictionary\n",
    "    model = RModel()\n",
    "     = Extract(Params)\n",
    "\n",
    "    \n",
    "    N = len(images)  # Total number of frames\n",
    "    N_past = len(P)  # Number of past frames\n",
    "    N_future = len(F)  # Number of future frames\n",
    "    \n",
    "    # Convert all frames to torch tensors\n",
    "    torch_images = [Frame2Torch(img,frame_size,Normalize=True).float() for img in images]\n",
    "    \n",
    "    # Iterate through all the frames of the video\n",
    "    for i in range(N - N_future):\n",
    "        current = i + N_past\n",
    "        first = i\n",
    "        last = current + N_future\n",
    "        # Select past, current, and future frames\n",
    "        Past = torch_images[first:current]\n",
    "        Current = torch_images[current]\n",
    "        Future = torch_images[current+1:last]\n",
    "        \n",
    "        # Apply ObjFun to generate a new frame\n",
    "        Pred = ObjFun(Current, Past, Future,)\n",
    "        \n",
    "        # Convert the predicted frame back to numpy array and rescale to [0, 255]\n",
    "        Pred_np = Frame2Numpy(Pred,(images[0].shape[1],images[0].shape[0]),Denormalize=True)\n",
    "        \n",
    "        PRED.append(Pred_np)\n",
    "         \n",
    "    return PRED"
   ]
  },
  {
   "cell_type": "code",
   "execution_count": null,
   "id": "cc002465",
   "metadata": {},
   "outputs": [],
   "source": [
    "PRED = GenerateFrames(Video[:25],Parameters,(50,50))"
   ]
  },
  {
   "cell_type": "code",
   "execution_count": null,
   "id": "18bc7af6",
   "metadata": {},
   "outputs": [],
   "source": [
    "[display_images([Video[b+5],PRED[b]]) for b in range(20)];"
   ]
  },
  {
   "cell_type": "code",
   "execution_count": null,
   "id": "ca6276f1",
   "metadata": {},
   "outputs": [],
   "source": [
    "# Define the dimensions for 5 frames\n",
    "N = 1   # Batch size\n",
    "C = 3   # Number of channels (RGB)\n",
    "T = 15   # Number of frames\n",
    "H = 200 # Height\n",
    "W = 300 # Width\n",
    "\n",
    "# Create 5 individual tensors of shape (1, 3, 200, 300)\n",
    "tensors = [torch.randn(1, 3, H, W) for _ in range(T)]\n",
    "\n",
    "# Stack the individual tensors to create a single tensor of shape (1, 3, 5, 200, 300)\n",
    "sample_input = torch.stack(tensors, dim=2)  # Stack along the T dimension\n",
    "\n",
    "# Check the shape\n",
    "print(sample_input.shape)  # Should print torch.Size([1, 3, 5, 200, 300])\n",
    "\n",
    "\n",
    "# Testing the network with a sample input tensor of arbitrary height and width\n",
    "model = TemporalConsistencyCNN(T=T)  # You can change T to other values if needed\n",
    "output = model(sample_input)\n",
    "print(output.shape)  # Should print torch.Size([1, 2, 2])\n"
   ]
  },
  {
   "cell_type": "code",
   "execution_count": null,
   "id": "d0a3de3d",
   "metadata": {},
   "outputs": [],
   "source": []
  }
 ],
 "metadata": {
  "kernelspec": {
   "display_name": "Python 3",
   "language": "python",
   "name": "python3"
  },
  "language_info": {
   "codemirror_mode": {
    "name": "ipython",
    "version": 3
   },
   "file_extension": ".py",
   "mimetype": "text/x-python",
   "name": "python",
   "nbconvert_exporter": "python",
   "pygments_lexer": "ipython3",
   "version": "3.7.6"
  }
 },
 "nbformat": 4,
 "nbformat_minor": 5
}
