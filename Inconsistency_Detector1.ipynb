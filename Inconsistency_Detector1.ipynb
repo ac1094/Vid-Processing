{
  "cells": [
    {
      "cell_type": "markdown",
      "metadata": {
        "id": "view-in-github",
        "colab_type": "text"
      },
      "source": [
        "<a href=\"https://colab.research.google.com/github/ac1094/Vid-Processing/blob/main/Inconsistency_Detector1.ipynb\" target=\"_parent\"><img src=\"https://colab.research.google.com/assets/colab-badge.svg\" alt=\"Open In Colab\"/></a>"
      ]
    },
    {
      "cell_type": "code",
      "execution_count": 286,
      "id": "a48ed841",
      "metadata": {
        "id": "a48ed841"
      },
      "outputs": [],
      "source": [
        "import import_ipynb\n",
        "from Functions import *"
      ]
    },
    {
      "cell_type": "code",
      "execution_count": 287,
      "id": "6fcb9d30",
      "metadata": {
        "id": "6fcb9d30"
      },
      "outputs": [],
      "source": [
        "import torch\n",
        "import torch.nn as nn\n",
        "import torch.optim as optim\n",
        "import torch.nn.functional as F\n",
        "from torch.utils.data import DataLoader, Dataset\n",
        "\n",
        "# Define the Optimized Transformer Model with Convolutional Layers\n",
        "class OptimizedTransformer(nn.Module):\n",
        "    def __init__(self):\n",
        "        super(OptimizedTransformer, self).__init__()\n",
        "        self.conv1 = nn.Conv2d(9, 32, kernel_size=3, stride=1, padding=1)\n",
        "        self.conv2 = nn.Conv2d(32, 64, kernel_size=3, stride=1, padding=1)\n",
        "        self.pool = nn.MaxPool2d(kernel_size=2, stride=2)\n",
        "        self.pool1 = nn.MaxPool2d(kernel_size=2, stride=2)\n",
        "        self.fc1 = nn.Linear(64 * 12 * 25, 512)  # Adjusted size\n",
        "        self.fc2 = nn.Linear(512, 50 * 100)\n",
        "        self.sigmoid = nn.Sigmoid()\n",
        "\n",
        "    def forward(self, x):\n",
        "        #print(\"conv1_in: \", x.size())\n",
        "        x = self.conv1(x)  # (N, 32, 50, 100)\n",
        "        #print(\"pool_in: \", x.size())\n",
        "        x = self.pool(x)  # (N, 32, 25, 50)\n",
        "        #print(\"conv2_in: \", x.size())\n",
        "        x = self.conv2(x) # (N, 64, 25, 50)\n",
        "        #print(\"pool1_in: \", x.size())\n",
        "        x = self.pool1(x) # (N, 64, 12, 25)\n",
        "        #print(\"fc1_in: \", x.size())\n",
        "        x = x.view(-1, 64 * 12 * 25)  # Flatten\n",
        "        x = self.fc1(x)  # (N, 512)\n",
        "        #print(\"fc2_in: \", x.size())\n",
        "        x = self.fc2(x)  # (N, 50 * 100)\n",
        "        #print(\"sig_in: \", x.size())\n",
        "        x = self.sigmoid(x)  # (N, 50 * 100)\n",
        "        #print(\"view_in: \", x.size())\n",
        "        x = x.view(2, 50, 100)  # Reshape to the desired output size\n",
        "        return x\n",
        "\n",
        "# Custom Dataset to handle lists of tensors\n",
        "class TensorListDataset(Dataset):\n",
        "    def __init__(self, inputs, targets):\n",
        "        self.inputs = [torch.tensor(i) if isinstance(i, np.ndarray) else i for i in inputs]\n",
        "        self.targets = [torch.tensor(t) if isinstance(t, np.ndarray) else t for t in targets]\n",
        "\n",
        "    def __len__(self):\n",
        "        return len(self.inputs)\n",
        "\n",
        "    def __getitem__(self, idx):\n",
        "        return self.inputs[idx], self.targets[idx]\n",
        "\n",
        "# Training function\n",
        "def train_model(model, train_loader, num_epochs=10, learning_rate=0.001):\n",
        "    criterion = nn.BCELoss()\n",
        "    optimizer = optim.Adam(model.parameters(), lr=learning_rate)\n",
        "    model.train()\n",
        "\n",
        "    for epoch in range(num_epochs):\n",
        "        epoch_loss = 0\n",
        "        for data, target in train_loader:\n",
        "            optimizer.zero_grad()\n",
        "            output = model(data)\n",
        "            target = target.squeeze(1)\n",
        "            loss = criterion(output, target)\n",
        "            loss.backward()\n",
        "            optimizer.step()\n",
        "            epoch_loss += loss.item()\n",
        "        print(f'Epoch {epoch+1}/{num_epochs}, Loss: {epoch_loss/len(train_loader)}')\n",
        "\n",
        "# Prediction function\n",
        "def predict(model, input_tensor):\n",
        "    model.eval()\n",
        "    with torch.no_grad():\n",
        "        output = model(input_tensor)\n",
        "        binary_output = (output > 0.5).float()\n",
        "    return binary_output\n"
      ]
    },
    {
      "cell_type": "code",
      "execution_count": 288,
      "id": "f68c1bc4",
      "metadata": {
        "id": "f68c1bc4"
      },
      "outputs": [],
      "source": [
        "F = read_images(\"saved_frames\")\n",
        "F = [cv2.resize(f,(50,100)) for f in F]\n",
        "F[3] = F[3][:,:,:3]\n",
        "F[6] = F[6][:,:,:3]\n",
        "F[9] = F[9][:,:,:3]\n",
        "F[13] = F[13][:,:,:3]\n",
        "F = F[:15]\n",
        "D = np.asarray([abs(F[i]-F[i+1]) for i in range(len(F)-1)],dtype=np.uint8)\n",
        "D0 = np.asarray(D[:-1],dtype=np.uint8)\n",
        "D2 = np.asarray(D[1:],dtype=np.uint8)\n",
        "down = 0\n",
        "up = 255\n",
        "B = np.asarray([abs(cv2.Canny(cv2.cvtColor(F[i],cv2.COLOR_BGR2GRAY),down,up)-cv2.Canny(cv2.cvtColor(F[i+1],cv2.COLOR_BGR2GRAY),down,up)) for i in range(len(F)-1)],dtype=np.uint8)\n",
        "B0 = np.asarray(B[:-1],dtype=np.uint8)\n",
        "B2 = np.asarray(B[1:],dtype=np.uint8)\n",
        "F0 = np.asarray(F[:-2],dtype=np.uint8)\n",
        "F2 = np.asarray(F[2:],dtype=np.uint8)\n",
        "F = np.asarray(F[1:-1],dtype=np.uint8)"
      ]
    },
    {
      "cell_type": "code",
      "execution_count": 289,
      "id": "4781bcc8",
      "metadata": {
        "id": "4781bcc8"
      },
      "outputs": [],
      "source": [
        "Input = [np.asarray((F0[i][:,:,0],F0[i][:,:,1],F0[i][:,:,2],\n",
        "                    F[i][:,:,0],F[i][:,:,1],F[i][:,:,2],\n",
        "                    F2[i][:,:,0],F2[i][:,:,1],F2[i][:,:,2],\n",
        "                    #D0[i][:,:,0],D0[i][:,:,1],D0[i][:,:,2],\n",
        "                    #D2[i][:,:,0],D2[i][:,:,1],D2[i][:,:,2],\n",
        "                    #B0[i],\n",
        "                    #B2[i]\n",
        "                     )) for i in range(len(F))]"
      ]
    },
    {
      "cell_type": "code",
      "execution_count": 290,
      "id": "0b7b05c3",
      "metadata": {
        "colab": {
          "base_uri": "https://localhost:8080/"
        },
        "id": "0b7b05c3",
        "outputId": "c3113465-9644-4040-9631-fe4c03fada05"
      },
      "outputs": [
        {
          "output_type": "stream",
          "name": "stdout",
          "text": [
            "(9, 100, 50)\n",
            "13\n"
          ]
        }
      ],
      "source": [
        "print(Input[0].shape)\n",
        "print(len(Input))"
      ]
    },
    {
      "cell_type": "code",
      "execution_count": 291,
      "id": "cf8a9813",
      "metadata": {
        "colab": {
          "base_uri": "https://localhost:8080/"
        },
        "id": "cf8a9813",
        "outputId": "3b55daf3-386d-4d1f-dc3c-eac72d6da673"
      },
      "outputs": [
        {
          "output_type": "stream",
          "name": "stdout",
          "text": [
            "12 torch.Size([9, 100, 50])\n"
          ]
        }
      ],
      "source": [
        "input_arrays = [torch.tensor(i,dtype=torch.float32) for i in Input[:-1]]\n",
        "print(len(input_arrays),input_arrays[0].shape)"
      ]
    },
    {
      "cell_type": "code",
      "execution_count": 292,
      "id": "5a1aa97f",
      "metadata": {
        "colab": {
          "base_uri": "https://localhost:8080/"
        },
        "id": "5a1aa97f",
        "outputId": "468f8980-8bc1-4c91-d5bb-674256cfa4a9"
      },
      "outputs": [
        {
          "output_type": "stream",
          "name": "stdout",
          "text": [
            "12 torch.Size([1, 50, 100])\n"
          ]
        }
      ],
      "source": [
        "target_arrays = [torch.zeros(1,50,100,dtype=torch.float32) for _ in range(len(Input[:-1]))]\n",
        "print(len(target_arrays),target_arrays[0].shape)"
      ]
    },
    {
      "cell_type": "code",
      "execution_count": 293,
      "id": "1dbcdec2",
      "metadata": {
        "id": "1dbcdec2"
      },
      "outputs": [],
      "source": [
        "Masks = read_images(\"Masks\")\n",
        "Masks = [cv2.cvtColor(m[:,:,:3],cv2.COLOR_RGB2GRAY) for m in Masks]\n",
        "Masks = [cv2.resize(m,(50,100)) for m in Masks] # Resize before normalization\n",
        "Masks = [torch.tensor(m / 255.0, dtype=torch.float32) for m in Masks] # Normalize pixel values to [0, 1]\n",
        "target_arrays[3] = Masks[0].reshape((1,50,100))\n",
        "target_arrays[6] = Masks[1].reshape((1,50,100))\n",
        "target_arrays[9] = Masks[2].reshape((1,50,100))"
      ]
    },
    {
      "cell_type": "code",
      "source": [
        "dataset = TensorListDataset(input_arrays, target_arrays)"
      ],
      "metadata": {
        "id": "uGkA3eMS3Bdu"
      },
      "id": "uGkA3eMS3Bdu",
      "execution_count": 294,
      "outputs": []
    },
    {
      "cell_type": "code",
      "source": [
        "train_loader = DataLoader(dataset, batch_size=2, shuffle=True)"
      ],
      "metadata": {
        "id": "lgraoJuj3Ec9"
      },
      "id": "lgraoJuj3Ec9",
      "execution_count": 295,
      "outputs": []
    },
    {
      "cell_type": "code",
      "execution_count": 296,
      "id": "a1e3367e",
      "metadata": {
        "id": "a1e3367e"
      },
      "outputs": [],
      "source": [
        "# Instantiate the model\n",
        "model = OptimizedTransformer()"
      ]
    },
    {
      "cell_type": "code",
      "execution_count": 297,
      "id": "a7a858cf",
      "metadata": {
        "colab": {
          "base_uri": "https://localhost:8080/"
        },
        "id": "a7a858cf",
        "outputId": "5e67054c-125a-4782-9cd2-4aaac482fb18"
      },
      "outputs": [
        {
          "output_type": "stream",
          "name": "stdout",
          "text": [
            "Epoch 1/5, Loss: 26.287648518880207\n",
            "Epoch 2/5, Loss: 8.166882197062174\n",
            "Epoch 3/5, Loss: 5.113840977350871\n",
            "Epoch 4/5, Loss: 4.118620991706848\n",
            "Epoch 5/5, Loss: 4.126690308252971\n"
          ]
        }
      ],
      "source": [
        "# Train the model on the random data\n",
        "train_model(model, train_loader, num_epochs=5)"
      ]
    },
    {
      "cell_type": "code",
      "execution_count": 302,
      "id": "a4bd6eeb",
      "metadata": {
        "colab": {
          "base_uri": "https://localhost:8080/"
        },
        "id": "a4bd6eeb",
        "outputId": "9dc266e6-baaa-4d6c-e6e6-719c0a989a33"
      },
      "outputs": [
        {
          "output_type": "stream",
          "name": "stdout",
          "text": [
            "torch.Size([2, 50, 100])\n",
            "tensor([[[1., 1., 1.,  ..., 1., 1., 1.],\n",
            "         [1., 1., 1.,  ..., 1., 0., 1.],\n",
            "         [1., 1., 1.,  ..., 1., 1., 0.],\n",
            "         ...,\n",
            "         [1., 1., 1.,  ..., 1., 1., 1.],\n",
            "         [1., 1., 1.,  ..., 1., 1., 0.],\n",
            "         [0., 0., 1.,  ..., 0., 1., 1.]],\n",
            "\n",
            "        [[1., 1., 1.,  ..., 1., 1., 1.],\n",
            "         [1., 1., 1.,  ..., 1., 0., 1.],\n",
            "         [1., 1., 1.,  ..., 1., 1., 0.],\n",
            "         ...,\n",
            "         [1., 1., 1.,  ..., 1., 1., 1.],\n",
            "         [1., 1., 1.,  ..., 1., 1., 0.],\n",
            "         [0., 0., 1.,  ..., 0., 1., 1.]]])\n"
          ]
        }
      ],
      "source": [
        "# Create a new random input tensor for prediction\n",
        "new_input = torch.randn(2, 9, 100, 50)\n",
        "\n",
        "# Predict using the trained model\n",
        "predicted_output = predict(model, new_input)\n",
        "\n",
        "# Print the shape of the predicted output\n",
        "print(predicted_output.size())  # Should output torch.Size([1, 320, 640])\n",
        "\n",
        "# Optionally, print the predicted binary output (0s and 1s)\n",
        "print(predicted_output)"
      ]
    },
    {
      "cell_type": "code",
      "execution_count": null,
      "id": "0286c78d",
      "metadata": {
        "id": "0286c78d"
      },
      "outputs": [],
      "source": [
        "display_frame(predicted_output.reshape(320,640).astype(np.uint8))"
      ]
    },
    {
      "cell_type": "code",
      "execution_count": null,
      "id": "b1747827",
      "metadata": {
        "id": "b1747827"
      },
      "outputs": [],
      "source": [
        "# Create a custom dataset and DataLoader\n",
        "dataset = TensorListDataset(inputs, targets)\n",
        "train_loader = DataLoader(dataset, batch_size=4, shuffle=True)\n",
        "\n",
        "# Instantiate the model\n",
        "model = SimpleTransformer()\n",
        "\n",
        "# Train the model on the random data\n",
        "train_model(model, train_loader, num_epochs=5)\n",
        "\n",
        "# Create a new random input tensor for prediction\n",
        "new_input = torch.randn(1, 17, 320, 640)\n",
        "\n",
        "# Predict using the trained model\n",
        "predicted_output = predict(model, new_input)\n",
        "\n",
        "# Print the shape of the predicted output\n",
        "print(predicted_output.size())  # Should output torch.Size([1, 320, 640])\n",
        "\n",
        "# Optionally, print the predicted binary output (0s and 1s)\n",
        "print(predicted_output)"
      ]
    }
  ],
  "metadata": {
    "kernelspec": {
      "display_name": "Python 3",
      "language": "python",
      "name": "python3"
    },
    "language_info": {
      "codemirror_mode": {
        "name": "ipython",
        "version": 3
      },
      "file_extension": ".py",
      "mimetype": "text/x-python",
      "name": "python",
      "nbconvert_exporter": "python",
      "pygments_lexer": "ipython3",
      "version": "3.7.6"
    },
    "colab": {
      "provenance": [],
      "include_colab_link": true
    }
  },
  "nbformat": 4,
  "nbformat_minor": 5
}