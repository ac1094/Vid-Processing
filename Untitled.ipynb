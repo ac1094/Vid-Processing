{
 "cells": [
  {
   "cell_type": "code",
   "execution_count": 10,
   "id": "485b437e",
   "metadata": {},
   "outputs": [],
   "source": [
    "import import_ipynb\n",
    "from Functions import *\n",
    "import torch.nn.functional as Fun\n",
    "import torch\n",
    "from torch import optim\n",
    "import matplotlib.pyplot as plt\n",
    "import time"
   ]
  },
  {
   "cell_type": "code",
   "execution_count": 11,
   "id": "a0cd22f8",
   "metadata": {},
   "outputs": [],
   "source": [
    "def generate_gaussian_histogram(mean=128, std_dev=30, num_bins=256, num_samples=100000):\n",
    "    # Generate samples from a Gaussian distribution and clip them to the 0-255 range\n",
    "    samples = torch.normal(mean=mean, std=std_dev, size=(num_samples,)).clamp(0, 255)\n",
    "    # Generate histogram by counting occurrences in each bin (0 to 255)\n",
    "    histogram = torch.histc(samples, bins=num_bins, min=0, max=255).int()\n",
    "    return histogram"
   ]
  },
  {
   "cell_type": "code",
   "execution_count": 12,
   "id": "f9c43309",
   "metadata": {},
   "outputs": [],
   "source": [
    "def generate_rgb_image_from_histograms(red_hist, green_hist, blue_hist, image_size=(256, 256)):\n",
    "    # Normalize each histogram to create probability distributions\n",
    "    red_prob_dist = red_hist.float() / red_hist.sum().float()\n",
    "    green_prob_dist = green_hist.float() / green_hist.sum().float()\n",
    "    blue_prob_dist = blue_hist.float() / blue_hist.sum().float()\n",
    "\n",
    "    # Generate random pixels for each channel from the respective histogram distributions\n",
    "    red_channel = torch.multinomial(red_prob_dist, image_size[0] * image_size[1], replacement=True)\n",
    "    green_channel = torch.multinomial(green_prob_dist, image_size[0] * image_size[1], replacement=True)\n",
    "    blue_channel = torch.multinomial(blue_prob_dist, image_size[0] * image_size[1], replacement=True)\n",
    "\n",
    "    # Stack channels and reshape to form the final RGB image\n",
    "    rgb_image = torch.stack([red_channel, green_channel, blue_channel], dim=-1)\n",
    "    rgb_image = rgb_image.view(*image_size, 3).to(torch.uint8)\n",
    "\n",
    "    return rgb_image"
   ]
  },
  {
   "cell_type": "code",
   "execution_count": 29,
   "id": "77815f67",
   "metadata": {},
   "outputs": [],
   "source": [
    "def differentiable_histogram(tensor, bins=256, min_val=0.0, max_val=255.0):\n",
    "    # Ensure tensor values are within the specified range\n",
    "    tensor = tensor.clamp(min=min_val, max=max_val)\n",
    "    \n",
    "    # Get the bin width for each histogram bin\n",
    "    bin_width = (max_val - min_val) / bins\n",
    "\n",
    "    # Separate channels and flatten each to get (H*W) shape per channel\n",
    "    red_channel = tensor[:, :, 0].flatten()\n",
    "    green_channel = tensor[:, :, 1].flatten()\n",
    "    blue_channel = tensor[:, :, 2].flatten()\n",
    "\n",
    "    # Initialize histograms for each channel\n",
    "    red_hist = torch.zeros(bins, dtype=torch.int32, device=tensor.device)\n",
    "    green_hist = torch.zeros(bins, dtype=torch.int32, device=tensor.device)\n",
    "    blue_hist = torch.zeros(bins, dtype=torch.int32, device=tensor.device)\n",
    "\n",
    "    # Populate the histograms for each channel\n",
    "    for i in range(bins):\n",
    "        lower_bound = min_val + i * bin_width\n",
    "        upper_bound = lower_bound + bin_width\n",
    "        red_hist[i] = ((red_channel >= lower_bound) & (red_channel < upper_bound)).sum()\n",
    "        green_hist[i] = ((green_channel >= lower_bound) & (green_channel < upper_bound)).sum()\n",
    "        blue_hist[i] = ((blue_channel >= lower_bound) & (blue_channel < upper_bound)).sum()\n",
    "\n",
    "    return red_hist,green_hist,blue_hist"
   ]
  },
  {
   "cell_type": "code",
   "execution_count": 30,
   "id": "4bf13592",
   "metadata": {},
   "outputs": [],
   "source": [
    "# Example usage:\n",
    "red_hist = generate_gaussian_histogram(mean=100, std_dev=30)   # Random histogram for red channel\n",
    "green_hist =  generate_gaussian_histogram(mean=100, std_dev=25) # Random histogram for green channel\n",
    "blue_hist = generate_gaussian_histogram(mean=200, std_dev=20)  # Random histogram for blue channel\n",
    "rgb_image = generate_rgb_image_from_histograms(red_hist, green_hist, blue_hist, image_size=(256, 256))\n",
    "\n",
    "# Display the image using OpenCV\n",
    "cv2.imshow('Generated RGB Image', np.asarray(rgb_image))\n",
    "cv2.waitKey(0)\n",
    "cv2.destroyAllWindows()"
   ]
  },
  {
   "cell_type": "code",
   "execution_count": 31,
   "id": "e4aa6af8",
   "metadata": {},
   "outputs": [],
   "source": [
    "H = differentiable_histogram(rgb_image,bins=256,min_val=0,max_val=255)\n",
    "rgb_image = generate_rgb_image_from_histograms(H[0],H[1],H[2], image_size=(256, 256))\n",
    "# Display the image using OpenCVq\n",
    "cv2.imshow('Generated RGB Image', np.asarray(rgb_image))\n",
    "cv2.waitKey(0)\n",
    "cv2.destroyAllWindows()"
   ]
  },
  {
   "cell_type": "code",
   "execution_count": 32,
   "id": "a272a501",
   "metadata": {},
   "outputs": [],
   "source": [
    "I = cv2.imread('IDB/bear.jpg')\n",
    "H = differentiable_histogram(torch.from_numpy(I),bins=256, min_val=0.0, max_val=255.0)\n",
    "Img = generate_rgb_image_from_histograms(H[0],H[1],H[2], image_size=(256, 256))\n",
    "# Display the image using OpenCV\n",
    "cv2.imshow('Generated RGB Image', np.asarray(Img))\n",
    "cv2.waitKey(0)\n",
    "cv2.destroyAllWindows()"
   ]
  },
  {
   "cell_type": "code",
   "execution_count": null,
   "id": "a81e4fd3",
   "metadata": {},
   "outputs": [],
   "source": []
  },
  {
   "cell_type": "code",
   "execution_count": 28,
   "id": "93a9c7aa",
   "metadata": {},
   "outputs": [],
   "source": []
  },
  {
   "cell_type": "code",
   "execution_count": null,
   "id": "07464c2d",
   "metadata": {},
   "outputs": [],
   "source": []
  }
 ],
 "metadata": {
  "kernelspec": {
   "display_name": "Python 3",
   "language": "python",
   "name": "python3"
  },
  "language_info": {
   "codemirror_mode": {
    "name": "ipython",
    "version": 3
   },
   "file_extension": ".py",
   "mimetype": "text/x-python",
   "name": "python",
   "nbconvert_exporter": "python",
   "pygments_lexer": "ipython3",
   "version": "3.7.6"
  }
 },
 "nbformat": 4,
 "nbformat_minor": 5
}
