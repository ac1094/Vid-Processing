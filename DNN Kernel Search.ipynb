{
 "cells": [
  {
   "cell_type": "code",
   "execution_count": 1,
   "id": "11e7e485",
   "metadata": {},
   "outputs": [
    {
     "name": "stdout",
     "output_type": "stream",
     "text": [
      "importing Jupyter notebook from ConsistencyIndexes.ipynb\n",
      "importing Jupyter notebook from Functions.ipynb\n"
     ]
    }
   ],
   "source": [
    "import import_ipynb\n",
    "from ConsistencyIndexes import *\n",
    "import torch\n",
    "import torch.nn.functional as F\n",
    "from matplotlib import pyplot as plt\n",
    "from IPython.display import clear_output"
   ]
  },
  {
   "cell_type": "markdown",
   "id": "139ca77d",
   "metadata": {},
   "source": [
    "### Get Original Frames"
   ]
  },
  {
   "cell_type": "code",
   "execution_count": 8,
   "id": "6b2b858a",
   "metadata": {},
   "outputs": [
    {
     "name": "stdout",
     "output_type": "stream",
     "text": [
      "Width:  640\n",
      "Height:  296\n",
      "FPS:  23.976023976023978\n",
      "Frame Count:  133\n"
     ]
    }
   ],
   "source": [
    "cap = open_vid(\"VDB/WID.mp4\")\n",
    "org = get_frames(cap)\n",
    "_,_,fps,_ = get_props(cap)"
   ]
  },
  {
   "cell_type": "markdown",
   "id": "ffc96cfa",
   "metadata": {},
   "source": [
    "### Get Cartoonized Frames"
   ]
  },
  {
   "cell_type": "code",
   "execution_count": 9,
   "id": "a204e15f",
   "metadata": {},
   "outputs": [
    {
     "name": "stdout",
     "output_type": "stream",
     "text": [
      "Width:  640\n",
      "Height:  296\n",
      "FPS:  23.976\n",
      "Frame Count:  133\n"
     ]
    }
   ],
   "source": [
    "cap = open_vid(\"Cartoonized/WID_toon.mp4\")\n",
    "car = get_frames(cap)\n",
    "_,_,fps,_ = get_props(cap)"
   ]
  },
  {
   "cell_type": "markdown",
   "id": "a50f7bfb",
   "metadata": {},
   "source": [
    "### Calculate 2D Kernel"
   ]
  },
  {
   "cell_type": "code",
   "execution_count": 2,
   "id": "96c1ff3b",
   "metadata": {},
   "outputs": [],
   "source": [
    "def find_2Dkernel(input_images, target_images, kernel=None, kernel_size=3, epochs=1000, lr=1e-3):  \n",
    "    # Normalize input and target images (to 0-1)\n",
    "    input_images = [img / 255.0 for img in input_images]\n",
    "    target_images = [img / 255.0 for img in target_images]    \n",
    "    # Convert input and target images to tensors\n",
    "    input_images = torch.stack([torch.tensor(img, dtype=torch.float32) for img in input_images])\n",
    "    target_images = torch.stack([torch.tensor(img, dtype=torch.float32) for img in target_images])       \n",
    "    # Image Size\n",
    "    height, width = input_images[0].shape[0], input_images[0].shape[1]      \n",
    "    # Initialize the kernel\n",
    "    if kernel is None:\n",
    "        kernel = torch.rand(1, 1, kernel_size, kernel_size, requires_grad=True)\n",
    "    else:\n",
    "        kh,kw = (kernel.shape[0],kernel.shape[1]) if len(kernel.shape)==2 else (kernel.shape[2],kernel.shape[3])\n",
    "        kernel = torch.tensor(kernel, dtype=torch.float32).view(1, 1, kh, kw)  # Ensure it's a tensor\n",
    "        kernel.requires_grad_(True)  # Set requires_grad=True for the leaf tensor \n",
    "    # Use an optimizer to update the kernel\n",
    "    optimizer = torch.optim.SGD([kernel], lr=lr)        \n",
    "    # List of loss over time\n",
    "    L = []       \n",
    "    padding = kernel.shape[2] // 2    \n",
    "    # Iterate over epochs\n",
    "    for epoch in range(epochs):\n",
    "        total_loss = 0      \n",
    "        # Iterate through each image and calculate the total loss\n",
    "        for i in range(len(input_images)):\n",
    "            optimizer.zero_grad()  # Clear the gradients from the previous iteration             \n",
    "            # Separate each color channel\n",
    "            r = input_images[i][:,:,0].view(1, 1, height, width)\n",
    "            g = input_images[i][:,:,1].view(1, 1, height, width)\n",
    "            b = input_images[i][:,:,2].view(1, 1, height, width)                \n",
    "            # Apply convolution to each channel\n",
    "            cr = F.conv2d(r, kernel, padding=padding)\n",
    "            cg = F.conv2d(g, kernel, padding=padding)\n",
    "            cb = F.conv2d(b, kernel, padding=padding)                \n",
    "                # Calculate the loss\n",
    "            loss = (F.mse_loss(cr, target_images[i][:,:,0].unsqueeze(0).unsqueeze(0)) +\n",
    "                        F.mse_loss(cg, target_images[i][:,:,1].unsqueeze(0).unsqueeze(0)) +\n",
    "                        F.mse_loss(cb, target_images[i][:,:,2].unsqueeze(0).unsqueeze(0)))            \n",
    "            # Add to total loss\n",
    "            total_loss += loss.item()\n",
    "            loss.backward()  # Compute gradients        \n",
    "            optimizer.step()  # Update the kernel with the computed gradients               \n",
    "        # Add total loss to list over epochs\n",
    "        L.append(total_loss)               \n",
    "        # Print loss every epoch\n",
    "        print(f\"Epoch {epoch+1}/{epochs}, Total Loss: {total_loss}\")\n",
    "        print(kernel)\n",
    "        clear_output(wait=True)\n",
    "    # Return the optimized kernel and list of loss over epochs\n",
    "    return kernel.detach().numpy(), L"
   ]
  },
  {
   "cell_type": "markdown",
   "id": "6bc00308",
   "metadata": {},
   "source": [
    "#### Train DNN and get Kernel "
   ]
  },
  {
   "cell_type": "code",
   "execution_count": 16,
   "id": "26a64d8d",
   "metadata": {},
   "outputs": [
    {
     "name": "stdout",
     "output_type": "stream",
     "text": [
      "Epoch 2000/2000, Total Loss: 2.113974087871611\n",
      "tensor([[[[-0.0410,  0.0251,  0.0843],\n",
      "          [ 0.1690,  0.5430, -0.0165],\n",
      "          [ 0.0143,  0.1099,  0.0719]]]], requires_grad=True)\n"
     ]
    }
   ],
   "source": [
    "k,l = find_2Dkernel(org,car,epochs=2000,lr=1e-3)"
   ]
  },
  {
   "cell_type": "markdown",
   "id": "0f966db8",
   "metadata": {},
   "source": [
    "#### Loss Over Epochs"
   ]
  },
  {
   "cell_type": "code",
   "execution_count": 17,
   "id": "cd11e71a",
   "metadata": {},
   "outputs": [
    {
     "data": {
      "text/plain": [
       "[<matplotlib.lines.Line2D at 0x2a29f10d3c8>]"
      ]
     },
     "execution_count": 17,
     "metadata": {},
     "output_type": "execute_result"
    },
    {
     "data": {
      "image/png": "[encoded data removed]",
      "text/plain": [
       "<Figure size 432x288 with 1 Axes>"
      ]
     },
     "metadata": {
      "needs_background": "light"
     },
     "output_type": "display_data"
    }
   ],
   "source": [
    "plt.plot(l)"
   ]
  },
  {
   "cell_type": "markdown",
   "id": "a8df34f6",
   "metadata": {},
   "source": [
    "### Apply Calculated Karnel to image"
   ]
  },
  {
   "cell_type": "code",
   "execution_count": 3,
   "id": "a69139be",
   "metadata": {},
   "outputs": [],
   "source": [
    "def apply_2dkernel(input_image, kernel):\n",
    "    # Ensure input image is a float tensor and normalize it\n",
    "    input_image = torch.tensor(input_image, dtype=torch.float32) / 255.0\n",
    "    # Convert the kernel to a PyTorch tensor if it is not already\n",
    "    kh,kw = (kernel.shape[0],kernel.shape[1]) if len(kernel.shape)==2 else (kernel.shape[2],kernel.shape[3])\n",
    "    kernel = torch.tensor(kernel, dtype=torch.float32).view(1, 1, kh, kw)  # Ensure it's a tensor\n",
    "    # Get the dimensions of the input image\n",
    "    height, width, channels = input_image.shape\n",
    "    padding = kernel.shape[-1]//2\n",
    "    # Ensure size of image for convolution\n",
    "    r = input_image[:,:,0].view(1, 1, height, width)\n",
    "    g = input_image[:,:,1].view(1, 1, height, width)\n",
    "    b = input_image[:,:,2].view(1, 1, height, width)\n",
    "    # Apply the kernel to each channel\n",
    "    cr = F.conv2d(r, kernel, padding=padding)\n",
    "    cg = F.conv2d(g, kernel, padding=padding)\n",
    "    cb = F.conv2d(b, kernel, padding=padding)\n",
    "    # Stack the channels back together\n",
    "    output_image = torch.cat([cr, cg, cb], dim=1).squeeze(0).permute(1, 2, 0).detach().numpy()\n",
    "    # Denormalize the output image (from 0-1 back to 0-255) and clip values to valid range\n",
    "    output_image = (output_image * 255.0).clip(0, 255).astype('uint8')\n",
    "    return output_image"
   ]
  },
  {
   "cell_type": "markdown",
   "id": "417cc2d0",
   "metadata": {},
   "source": [
    "### Apply Kernel to Video used in training"
   ]
  },
  {
   "cell_type": "code",
   "execution_count": 14,
   "id": "47d644b7",
   "metadata": {},
   "outputs": [],
   "source": [
    "k = np.array([[-0.0410,  0.0251,  0.0843],\n",
    "          [ 0.1690,  0.5430, -0.0165],\n",
    "          [ 0.0143,  0.1099,  0.0719]])"
   ]
  },
  {
   "cell_type": "code",
   "execution_count": 8,
   "id": "eeba3995",
   "metadata": {},
   "outputs": [],
   "source": [
    "C = [apply_2dkernel(o,k) for o in org]"
   ]
  },
  {
   "cell_type": "code",
   "execution_count": 9,
   "id": "403918b3",
   "metadata": {},
   "outputs": [],
   "source": [
    "ThroughFrames(C)"
   ]
  },
  {
   "cell_type": "markdown",
   "id": "d75b208f",
   "metadata": {},
   "source": [
    "#### Differences (Black is zero difference)"
   ]
  },
  {
   "cell_type": "code",
   "execution_count": 10,
   "id": "0053bac4",
   "metadata": {},
   "outputs": [],
   "source": [
    "D = [(car[i]-apply_2dkernel(org[i],k))**2 for i in range(len(car))]"
   ]
  },
  {
   "cell_type": "code",
   "execution_count": 11,
   "id": "98740890",
   "metadata": {},
   "outputs": [],
   "source": [
    "ThroughFrames(D)"
   ]
  },
  {
   "cell_type": "markdown",
   "id": "f8ffa506",
   "metadata": {},
   "source": [
    "### Kernel Applied to other video"
   ]
  },
  {
   "cell_type": "code",
   "execution_count": 15,
   "id": "4d37bb5c",
   "metadata": {},
   "outputs": [],
   "source": [
    "org1 = get_frames(open_vid(\"VDB/Y.mp4\"))\n",
    "car1 = get_frames(open_vid(\"Cartoonized/Ytoon.mp4\"))\n",
    "C1 = [apply_2dkernel(o,k) for o in org1]\n",
    "D1 = [(car1[i]-apply_2dkernel(org1[i],k))**2 for i in range(len(car1))]\n",
    "c1 = [cv2.filter2D(o, ddepth=-1, kernel=np.asarray(k[0][0])) for o in org1]"
   ]
  },
  {
   "cell_type": "code",
   "execution_count": 16,
   "id": "cfc42b25",
   "metadata": {},
   "outputs": [],
   "source": [
    "ThroughFrames(c1)"
   ]
  },
  {
   "cell_type": "code",
   "execution_count": 17,
   "id": "8a25aee2",
   "metadata": {},
   "outputs": [],
   "source": [
    "ThroughFrames(C1)"
   ]
  },
  {
   "cell_type": "code",
   "execution_count": 18,
   "id": "bf993a73",
   "metadata": {},
   "outputs": [],
   "source": [
    "ThroughFrames(D1)"
   ]
  },
  {
   "cell_type": "markdown",
   "id": "c3ef5f35",
   "metadata": {},
   "source": [
    "### DNN for 3D Kernel"
   ]
  },
  {
   "cell_type": "code",
   "execution_count": 4,
   "id": "1bd5aeae",
   "metadata": {},
   "outputs": [],
   "source": [
    "def find_3Dkernel(input_images, target_images, kernel_size=3, epochs=1000, learning_rate=1e-3):\n",
    "    # Normalize input and target images (to 0-1)\n",
    "    input_images = [img / 255.0 for img in input_images]\n",
    "    target_images = [img / 255.0 for img in target_images]\n",
    "    # Convert input and target images to tensors\n",
    "    input_images = torch.stack([torch.tensor(img, dtype=torch.float32) for img in input_images])\n",
    "    target_images = torch.stack([torch.tensor(img, dtype=torch.float32) for img in target_images])   \n",
    "    # Image Size\n",
    "    height, width = input_images[0].shape[0], input_images[0].shape[1]        \n",
    "    # Initialize the kernel\n",
    "    kernelr = torch.rand(1, 1, kernel_size, kernel_size, requires_grad=True)  \n",
    "    kernelg = torch.rand(1, 1, kernel_size, kernel_size, requires_grad=True)  \n",
    "    kernelb = torch.rand(1, 1, kernel_size, kernel_size, requires_grad=True)  \n",
    "    # Use an optimizer to update the kernel\n",
    "    optimizer = torch.optim.SGD([kernelr,kernelg,kernelb], lr=learning_rate)    \n",
    "    # List of loss over time\n",
    "    L = []    \n",
    "    padding = kernelr.shape[2] // 2 \n",
    "    # Iterate over epochs\n",
    "    for epoch in range(epochs):\n",
    "        total_loss = 0      \n",
    "        # Iterate through each image and calculate the total loss\n",
    "        for i in range(len(input_images)):\n",
    "            optimizer.zero_grad()  # Clear the gradients from the previous iteration  \n",
    "            # Separate each color channel\n",
    "            r = input_images[i][:,:,0].view(1, 1, height, width)\n",
    "            g = input_images[i][:,:,1].view(1, 1, height, width)\n",
    "            b = input_images[i][:,:,2].view(1, 1, height, width)            \n",
    "            # Apply convolution to each channel\n",
    "            cr = F.conv2d(r, kernelr, padding=padding)\n",
    "            cg = F.conv2d(g, kernelg, padding=padding)\n",
    "            cb = F.conv2d(b, kernelb, padding=padding)            \n",
    "            # Calculate the loss\n",
    "            loss = (F.mse_loss(cr, target_images[i][:,:,0].unsqueeze(0).unsqueeze(0)) +\n",
    "                    F.mse_loss(cg, target_images[i][:,:,1].unsqueeze(0).unsqueeze(0)) +\n",
    "                    F.mse_loss(cb, target_images[i][:,:,2].unsqueeze(0).unsqueeze(0)))            \n",
    "            # Add to total loss\n",
    "            total_loss += loss.item()\n",
    "            loss.backward()  # Compute gradients        \n",
    "            optimizer.step()  # Update the kernel with the computed gradients        \n",
    "        # Add total loss to list over epochs\n",
    "        L.append(total_loss)        \n",
    "        # Print loss every 10 iterations\n",
    "        if epoch % 1 == 0:\n",
    "            print(f\"Epoch {epoch+1}/{epochs}, Total Loss: {total_loss}\")\n",
    "            print(kernelr)\n",
    "            print(kernelg)\n",
    "            print(kernelb)\n",
    "            clear_output(wait=True)\n",
    "    # Return the optimized kernel and list of loss over epochs\n",
    "    return [kernelr.detach().numpy(),kernelg.detach().numpy(),kernelb.detach().numpy()], L"
   ]
  },
  {
   "cell_type": "markdown",
   "id": "ed25b77a",
   "metadata": {},
   "source": [
    "### Train DNN for 3D Kernel"
   ]
  },
  {
   "cell_type": "code",
   "execution_count": 26,
   "id": "2f1f82b3",
   "metadata": {},
   "outputs": [
    {
     "name": "stdout",
     "output_type": "stream",
     "text": [
      "Epoch 100/100, Total Loss: 2.4593991488218307\n",
      "tensor([[[[ 0.2747,  0.4451, -0.0337],\n",
      "          [-0.2289, -0.2592,  0.4575],\n",
      "          [ 0.0960, -0.2493,  0.4591]]]], requires_grad=True)\n",
      "tensor([[[[ 0.0213, -0.0961,  0.0710],\n",
      "          [ 0.4151, -0.2674,  0.2799],\n",
      "          [ 0.2611,  0.0392,  0.2421]]]], requires_grad=True)\n",
      "tensor([[[[ 0.4671, -0.0767, -0.0505],\n",
      "          [-0.1127,  0.2575,  0.3471],\n",
      "          [-0.2220, -0.1409,  0.4888]]]], requires_grad=True)\n"
     ]
    }
   ],
   "source": [
    "k3d,l3d = find_3Dkernel(org,car,3,100,1e-3)"
   ]
  },
  {
   "cell_type": "markdown",
   "id": "e80e3278",
   "metadata": {},
   "source": [
    "### Loss Over Epochs"
   ]
  },
  {
   "cell_type": "code",
   "execution_count": 28,
   "id": "89b22f0d",
   "metadata": {},
   "outputs": [
    {
     "data": {
      "text/plain": [
       "[<matplotlib.lines.Line2D at 0x1f18fb9e588>]"
      ]
     },
     "execution_count": 28,
     "metadata": {},
     "output_type": "execute_result"
    },
    {
     "data": {
      "image/png": "[encoded data removed]",
      "text/plain": [
       "<Figure size 432x288 with 1 Axes>"
      ]
     },
     "metadata": {
      "needs_background": "light"
     },
     "output_type": "display_data"
    }
   ],
   "source": [
    "plt.plot(l3d)"
   ]
  },
  {
   "cell_type": "markdown",
   "id": "f8cb4573",
   "metadata": {},
   "source": [
    "### Apply 3D Kernel"
   ]
  },
  {
   "cell_type": "code",
   "execution_count": 12,
   "id": "06bdf446",
   "metadata": {},
   "outputs": [],
   "source": [
    "def apply_3dkernel(input_image, kernel):\n",
    "    # Ensure input image is a float tensor and normalize it\n",
    "    input_image = torch.tensor(input_image, dtype=torch.float32) / 255.0\n",
    "    # Convert the kernel to a PyTorch tensor if it is not already\n",
    "    kh,kw = (kernel[0].shape[0],kernel[0].shape[1]) if len(kernel[0].shape)==2 else (kernel[0].shape[2],kernel[0].shape[3])\n",
    "    kernel = [torch.tensor(k, dtype=torch.float32).view(1, 1, kh, kw) for k in kernel]  # Ensure it's a tensor\n",
    "    # Get the dimensions of the input image\n",
    "    height, width, channels = input_image.shape\n",
    "    # Ensure size of image for convolution\n",
    "    r = input_image[:,:,0].view(1, 1, height, width)\n",
    "    g = input_image[:,:,1].view(1, 1, height, width)\n",
    "    b = input_image[:,:,2].view(1, 1, height, width)\n",
    "    # Apply the kernel to each channel\n",
    "    cr = F.conv2d(r, kernel[0], padding=1)\n",
    "    cg = F.conv2d(g, kernel[1], padding=1)\n",
    "    cb = F.conv2d(b, kernel[2], padding=1)\n",
    "    # Stack the channels back together\n",
    "    output_image = torch.cat([cr, cg, cb], dim=1).squeeze(0).permute(1, 2, 0).detach().numpy()\n",
    "    # Denormalize the output image (from 0-1 back to 0-255) and clip values to valid range\n",
    "    output_image = (output_image * 255.0).clip(0, 255).astype('uint8')\n",
    "    return output_image"
   ]
  },
  {
   "cell_type": "code",
   "execution_count": 13,
   "id": "cfbcf7d1",
   "metadata": {},
   "outputs": [],
   "source": [
    "k3d = [np.asarray([[ 0.2747,  0.4451, -0.0337],\n",
    "          [-0.2289, -0.2592,  0.4575],\n",
    "          [ 0.0960, -0.2493,  0.4591]]),\n",
    "      np.asarray([[ 0.0213, -0.0961,  0.0710],\n",
    "          [ 0.4151, -0.2674,  0.2799],\n",
    "          [ 0.2611,  0.0392,  0.2421]]),\n",
    "      np.asarray([[ 0.4671, -0.0767, -0.0505],\n",
    "          [-0.1127,  0.2575,  0.3471],\n",
    "          [-0.2220, -0.1409,  0.4888]])]"
   ]
  },
  {
   "cell_type": "markdown",
   "id": "36e60e57",
   "metadata": {},
   "source": [
    "### 3D Kernel applied to original video"
   ]
  },
  {
   "cell_type": "code",
   "execution_count": 15,
   "id": "fa1ad078",
   "metadata": {},
   "outputs": [],
   "source": [
    "C3d = [apply_3dkernel(o,k3d) for o in org]\n",
    "ThroughFrames(C3d)"
   ]
  },
  {
   "cell_type": "markdown",
   "id": "7dfa1969",
   "metadata": {},
   "source": [
    "### Difference with target"
   ]
  },
  {
   "cell_type": "code",
   "execution_count": 16,
   "id": "220b5863",
   "metadata": {},
   "outputs": [],
   "source": [
    "D3d = [(car[i]-apply_3dkernel(org[i],k3d))**2 for i in range(len(car))]\n",
    "ThroughFrames(D3d)"
   ]
  },
  {
   "cell_type": "markdown",
   "id": "4194bc92",
   "metadata": {},
   "source": [
    "### Using another video"
   ]
  },
  {
   "cell_type": "code",
   "execution_count": 17,
   "id": "4e33eacb",
   "metadata": {},
   "outputs": [],
   "source": [
    "org13d = get_frames(open_vid(\"VDB/puppies.mp4\"))\n",
    "car13d = get_frames(open_vid(\"Cartoonized/puppiestoon.mp4\"))\n",
    "C13d = [apply_3dkernel(o,k3d) for o in org13d]\n",
    "D13d = [(car13d[i]-apply_3dkernel(org13d[i],k3d))**2 for i in range(len(car13d))]"
   ]
  },
  {
   "cell_type": "code",
   "execution_count": 18,
   "id": "a1d38406",
   "metadata": {},
   "outputs": [],
   "source": [
    "ThroughFrames(C13d)"
   ]
  },
  {
   "cell_type": "code",
   "execution_count": 19,
   "id": "a8ca7c35",
   "metadata": {},
   "outputs": [],
   "source": [
    "ThroughFrames(D13d)"
   ]
  },
  {
   "cell_type": "markdown",
   "id": "60bf89b1",
   "metadata": {},
   "source": [
    "### Calculate 2D Kernel for Edge Detection"
   ]
  },
  {
   "cell_type": "code",
   "execution_count": 20,
   "id": "48f639f2",
   "metadata": {},
   "outputs": [
    {
     "name": "stdout",
     "output_type": "stream",
     "text": [
      "Width:  640\n",
      "Height:  296\n",
      "FPS:  23.976023976023978\n",
      "Frame Count:  133\n"
     ]
    }
   ],
   "source": [
    "cap = open_vid(\"VDB/WID.mp4\")\n",
    "orgE = get_frames(cap)\n",
    "w,h,fps,cnt = get_props(cap)"
   ]
  },
  {
   "cell_type": "code",
   "execution_count": 21,
   "id": "3d700e40",
   "metadata": {},
   "outputs": [],
   "source": [
    "ed = [np.stack([canny_edge(o,0,inverted=False)]*3,axis=-1) for o in orgE]\n",
    "ThroughFrames(ed)"
   ]
  },
  {
   "cell_type": "markdown",
   "id": "420e64ef",
   "metadata": {},
   "source": [
    "##### Propose Starting Point"
   ]
  },
  {
   "cell_type": "code",
   "execution_count": null,
   "id": "b0966f6c",
   "metadata": {},
   "outputs": [],
   "source": [
    "#ked = np.asarray([[0,-1,0],\n",
    "#                 [-1,4,-1],\n",
    "#                 [0,-1,0]])\n",
    "#PredE = [apply_2dkernel(o,ked) for o in orgE]\n",
    "#ThroughFrames(PredE)"
   ]
  },
  {
   "cell_type": "code",
   "execution_count": 22,
   "id": "36e889eb",
   "metadata": {},
   "outputs": [
    {
     "name": "stdout",
     "output_type": "stream",
     "text": [
      "Epoch 100/100, Total Loss: 1.9081725608557463\n",
      "tensor([[[[-0.2686, -0.1063,  0.4709],\n",
      "          [-0.1697,  0.4103, -0.3849],\n",
      "          [-0.1166,  0.4479, -0.1568]]]], requires_grad=True)\n"
     ]
    }
   ],
   "source": [
    "limit = 20\n",
    "ked,led = find_2Dkernel(orgE[:limit],ed[:limit],epochs=100,lr=1e-3)"
   ]
  },
  {
   "cell_type": "code",
   "execution_count": 23,
   "id": "3cf33df8",
   "metadata": {},
   "outputs": [
    {
     "data": {
      "text/plain": [
       "[<matplotlib.lines.Line2D at 0x28454cc7b08>]"
      ]
     },
     "execution_count": 23,
     "metadata": {},
     "output_type": "execute_result"
    },
    {
     "data": {
      "image/png": "[encoded data removed]",
      "text/plain": [
       "<Figure size 432x288 with 1 Axes>"
      ]
     },
     "metadata": {
      "needs_background": "light"
     },
     "output_type": "display_data"
    }
   ],
   "source": [
    "plt.plot(led)"
   ]
  },
  {
   "cell_type": "code",
   "execution_count": 25,
   "id": "c235a447",
   "metadata": {},
   "outputs": [],
   "source": [
    "PredE = [apply_2dkernel(o,ked) for o in orgE]\n",
    "ThroughFrames(PredE)"
   ]
  },
  {
   "cell_type": "code",
   "execution_count": 26,
   "id": "7f34dca9",
   "metadata": {},
   "outputs": [],
   "source": [
    "PredE = [(ed[i]-apply_2dkernel(orgE[i],ked))**2 for i in range(len(ed))]\n",
    "ThroughFrames(PredE)"
   ]
  },
  {
   "cell_type": "markdown",
   "id": "34f46f75",
   "metadata": {},
   "source": [
    "### For another Video"
   ]
  },
  {
   "cell_type": "code",
   "execution_count": 35,
   "id": "3b143a0f",
   "metadata": {},
   "outputs": [
    {
     "name": "stdout",
     "output_type": "stream",
     "text": [
      "Width:  640\n",
      "Height:  360\n",
      "FPS:  29.97002997002997\n",
      "Frame Count:  1152\n"
     ]
    }
   ],
   "source": [
    "cap = open_vid(\"VDB/puppies.mp4\")\n",
    "orgE1 = get_frames(cap)\n",
    "w,h,fps,cnt = get_props(cap)"
   ]
  },
  {
   "cell_type": "code",
   "execution_count": 36,
   "id": "b052e8b9",
   "metadata": {},
   "outputs": [],
   "source": [
    "ed1 = [np.stack([canny_edge(o,0,inverted=False)]*3,axis=-1) for o in orgE1]\n",
    "ThroughFrames(ed1)"
   ]
  },
  {
   "cell_type": "code",
   "execution_count": 37,
   "id": "c5a18054",
   "metadata": {},
   "outputs": [],
   "source": [
    "PredE = [apply_2dkernel(o,ked) for o in orgE1]\n",
    "ThroughFrames(PredE)"
   ]
  },
  {
   "cell_type": "code",
   "execution_count": 38,
   "id": "977e07fb",
   "metadata": {},
   "outputs": [],
   "source": [
    "PredE = [(ed1[i]-apply_2dkernel(orgE1[i],ked))**2 for i in range(len(ed1))]\n",
    "ThroughFrames(PredE)"
   ]
  },
  {
   "cell_type": "markdown",
   "id": "a8157850",
   "metadata": {},
   "source": [
    "### Calculate 3D kernel for Edge Detection"
   ]
  },
  {
   "cell_type": "code",
   "execution_count": 20,
   "id": "76812a2d",
   "metadata": {},
   "outputs": [
    {
     "name": "stdout",
     "output_type": "stream",
     "text": [
      "Width:  640\n",
      "Height:  296\n",
      "FPS:  23.976023976023978\n",
      "Frame Count:  133\n"
     ]
    }
   ],
   "source": [
    "cap = open_vid(\"VDB/WID.mp4\")\n",
    "orgE = get_frames(cap)\n",
    "w,h,fps,cnt = get_props(cap)"
   ]
  },
  {
   "cell_type": "code",
   "execution_count": 21,
   "id": "0cc06924",
   "metadata": {},
   "outputs": [],
   "source": [
    "ed = [np.stack([canny_edge(o,0,inverted=False)]*3,axis=-1) for o in orgE]\n",
    "ThroughFrames(ed)"
   ]
  },
  {
   "cell_type": "markdown",
   "id": "b5b14932",
   "metadata": {},
   "source": [
    "##### Propose Starting Point"
   ]
  },
  {
   "cell_type": "code",
   "execution_count": null,
   "id": "fb5a9a43",
   "metadata": {},
   "outputs": [],
   "source": [
    "#ked = np.asarray([[0,-1,0],\n",
    "#                 [-1,4,-1],\n",
    "#                 [0,-1,0]])\n",
    "#PredE = [apply_2dkernel(o,ked) for o in orgE]\n",
    "#ThroughFrames(PredE)"
   ]
  },
  {
   "cell_type": "code",
   "execution_count": 22,
   "id": "86fcee82",
   "metadata": {},
   "outputs": [
    {
     "name": "stdout",
     "output_type": "stream",
     "text": [
      "Epoch 100/100, Total Loss: 1.9081725608557463\n",
      "tensor([[[[-0.2686, -0.1063,  0.4709],\n",
      "          [-0.1697,  0.4103, -0.3849],\n",
      "          [-0.1166,  0.4479, -0.1568]]]], requires_grad=True)\n"
     ]
    }
   ],
   "source": [
    "limit = 20\n",
    "ked,led = find_2Dkernel(orgE[:limit],ed[:limit],epochs=100,lr=1e-3)"
   ]
  },
  {
   "cell_type": "code",
   "execution_count": 23,
   "id": "60649b93",
   "metadata": {},
   "outputs": [
    {
     "data": {
      "text/plain": [
       "[<matplotlib.lines.Line2D at 0x28454cc7b08>]"
      ]
     },
     "execution_count": 23,
     "metadata": {},
     "output_type": "execute_result"
    },
    {
     "data": {
      "image/png": "[encoded data removed]",
      "text/plain": [
       "<Figure size 432x288 with 1 Axes>"
      ]
     },
     "metadata": {
      "needs_background": "light"
     },
     "output_type": "display_data"
    }
   ],
   "source": [
    "plt.plot(led)"
   ]
  },
  {
   "cell_type": "code",
   "execution_count": 25,
   "id": "d2363a5f",
   "metadata": {},
   "outputs": [],
   "source": [
    "PredE = [apply_2dkernel(o,ked) for o in orgE]\n",
    "ThroughFrames(PredE)"
   ]
  },
  {
   "cell_type": "code",
   "execution_count": 26,
   "id": "4848d721",
   "metadata": {},
   "outputs": [],
   "source": [
    "PredE = [(ed[i]-apply_2dkernel(orgE[i],ked))**2 for i in range(len(ed))]\n",
    "ThroughFrames(PredE)"
   ]
  },
  {
   "cell_type": "markdown",
   "id": "7c05d41b",
   "metadata": {},
   "source": [
    "### For another Video"
   ]
  },
  {
   "cell_type": "code",
   "execution_count": 35,
   "id": "0399946b",
   "metadata": {},
   "outputs": [
    {
     "name": "stdout",
     "output_type": "stream",
     "text": [
      "Width:  640\n",
      "Height:  360\n",
      "FPS:  29.97002997002997\n",
      "Frame Count:  1152\n"
     ]
    }
   ],
   "source": [
    "cap = open_vid(\"VDB/puppies.mp4\")\n",
    "orgE1 = get_frames(cap)\n",
    "w,h,fps,cnt = get_props(cap)"
   ]
  },
  {
   "cell_type": "code",
   "execution_count": 36,
   "id": "4017533b",
   "metadata": {},
   "outputs": [],
   "source": [
    "ed1 = [np.stack([canny_edge(o,0,inverted=False)]*3,axis=-1) for o in orgE1]\n",
    "ThroughFrames(ed1)"
   ]
  },
  {
   "cell_type": "code",
   "execution_count": 37,
   "id": "f486322f",
   "metadata": {},
   "outputs": [],
   "source": [
    "PredE = [apply_2dkernel(o,ked) for o in orgE1]\n",
    "ThroughFrames(PredE)"
   ]
  },
  {
   "cell_type": "code",
   "execution_count": 38,
   "id": "aaaa89af",
   "metadata": {},
   "outputs": [],
   "source": [
    "PredE = [(ed1[i]-apply_2dkernel(orgE1[i],ked))**2 for i in range(len(ed1))]\n",
    "ThroughFrames(PredE)"
   ]
  },
  {
   "cell_type": "code",
   "execution_count": null,
   "id": "6ad5de1e",
   "metadata": {},
   "outputs": [],
   "source": []
  }
 ],
 "metadata": {
  "kernelspec": {
   "display_name": "Python 3",
   "language": "python",
   "name": "python3"
  },
  "language_info": {
   "codemirror_mode": {
    "name": "ipython",
    "version": 3
   },
   "file_extension": ".py",
   "mimetype": "text/x-python",
   "name": "python",
   "nbconvert_exporter": "python",
   "pygments_lexer": "ipython3",
   "version": "3.7.6"
  }
 },
 "nbformat": 4,
 "nbformat_minor": 5
}
