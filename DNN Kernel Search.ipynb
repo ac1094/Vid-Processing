{
 "cells": [
  {
   "cell_type": "code",
   "execution_count": 1,
   "id": "3842a975",
   "metadata": {},
   "outputs": [
    {
     "name": "stdout",
     "output_type": "stream",
     "text": [
      "importing Jupyter notebook from ConsistencyIndexes.ipynb\n",
      "importing Jupyter notebook from Functions.ipynb\n"
     ]
    }
   ],
   "source": [
    "import import_ipynb\n",
    "from ConsistencyIndexes import *\n",
    "import torch\n",
    "import torch.nn.functional as F\n",
    "from matplotlib import pyplot as plt"
   ]
  },
  {
   "cell_type": "markdown",
   "id": "21e67bd8",
   "metadata": {},
   "source": [
    "### Get Original Frames"
   ]
  },
  {
   "cell_type": "code",
   "execution_count": 3,
   "id": "c522caba",
   "metadata": {},
   "outputs": [
    {
     "name": "stdout",
     "output_type": "stream",
     "text": [
      "Width:  640\n",
      "Height:  320\n",
      "FPS:  24.0\n",
      "Frame Count:  36\n"
     ]
    }
   ],
   "source": [
    "cap = open_vid(\"VDB/X.mp4\")\n",
    "org = get_frames(cap)\n",
    "_,_,fps,_ = get_props(cap)"
   ]
  },
  {
   "cell_type": "markdown",
   "id": "ccd84a7f",
   "metadata": {},
   "source": [
    "### Get Cartoonized Frames"
   ]
  },
  {
   "cell_type": "code",
   "execution_count": 4,
   "id": "2a2e064b",
   "metadata": {},
   "outputs": [
    {
     "name": "stdout",
     "output_type": "stream",
     "text": [
      "Width:  640\n",
      "Height:  320\n",
      "FPS:  24.0\n",
      "Frame Count:  36\n"
     ]
    }
   ],
   "source": [
    "cap = open_vid(\"Cartoonized/Xtoon.mp4\")\n",
    "car = get_frames(cap)\n",
    "_,_,fps,_ = get_props(cap)"
   ]
  },
  {
   "cell_type": "markdown",
   "id": "79aecc4a",
   "metadata": {},
   "source": [
    "### Calculate 2D Kernel"
   ]
  },
  {
   "cell_type": "code",
   "execution_count": 83,
   "id": "3c1d02fa",
   "metadata": {},
   "outputs": [],
   "source": [
    "def find_2Dkernel(input_images, target_images, kernel_size=3, epochs=1000, learning_rate=1e-3):\n",
    "    # Normalize input and target images (to 0-1)\n",
    "    input_images = [img / 255.0 for img in input_images]\n",
    "    target_images = [img / 255.0 for img in target_images]\n",
    "    # Convert input and target images to tensors\n",
    "    input_images = torch.stack([torch.tensor(img, dtype=torch.float32) for img in input_images])\n",
    "    target_images = torch.stack([torch.tensor(img, dtype=torch.float32) for img in target_images])   \n",
    "    # Image Size\n",
    "    height, width = input_images[0].shape[0], input_images[0].shape[1]    \n",
    "    # Initialize the kernel\n",
    "    kernel = torch.rand(1, 1, kernel_size, kernel_size, requires_grad=True)    \n",
    "    # Use an optimizer to update the kernel\n",
    "    optimizer = torch.optim.SGD([kernel], lr=learning_rate)    \n",
    "    # List of loss over time\n",
    "    L = []    \n",
    "    # Iterate over epochs\n",
    "    for epoch in range(epochs):\n",
    "        total_loss = 0      \n",
    "        # Iterate through each image and calculate the total loss\n",
    "        for i in range(len(input_images)):\n",
    "            optimizer.zero_grad()  # Clear the gradients from the previous iteration  \n",
    "            # Separate each color channel\n",
    "            r = input_images[i][:,:,0].view(1, 1, height, width)\n",
    "            g = input_images[i][:,:,1].view(1, 1, height, width)\n",
    "            b = input_images[i][:,:,2].view(1, 1, height, width)            \n",
    "            # Apply convolution to each channel\n",
    "            cr = F.conv2d(r, kernel, padding=1)\n",
    "            cg = F.conv2d(g, kernel, padding=1)\n",
    "            cb = F.conv2d(b, kernel, padding=1)            \n",
    "            # Calculate the loss\n",
    "            loss = (F.mse_loss(cr, target_images[i][:,:,0].unsqueeze(0).unsqueeze(0)) +\n",
    "                    F.mse_loss(cg, target_images[i][:,:,1].unsqueeze(0).unsqueeze(0)) +\n",
    "                    F.mse_loss(cb, target_images[i][:,:,2].unsqueeze(0).unsqueeze(0)))            \n",
    "            # Add to total loss\n",
    "            total_loss += loss.item()\n",
    "            loss.backward()  # Compute gradients        \n",
    "            optimizer.step()  # Update the kernel with the computed gradients        \n",
    "        # Add total loss to list over epochs\n",
    "        L.append(total_loss)        \n",
    "        # Print loss every 10 iterations\n",
    "        if epoch % 1 == 0:\n",
    "            print(f\"Epoch {epoch+1}/{epochs}, Total Loss: {total_loss}\", end='\\r')    \n",
    "    # Return the optimized kernel and list of loss over epochs\n",
    "    return kernel.detach().numpy(), L"
   ]
  },
  {
   "cell_type": "markdown",
   "id": "48a1c622",
   "metadata": {},
   "source": [
    "#### Train DNN and get Kernel "
   ]
  },
  {
   "cell_type": "code",
   "execution_count": 142,
   "id": "2965dcca",
   "metadata": {},
   "outputs": [
    {
     "name": "stdout",
     "output_type": "stream",
     "text": [
      "Epoch 2000/2000, Total Loss: 1.8912924006581306\r"
     ]
    }
   ],
   "source": [
    "k,l = find_2Dkernel(org,car,3,2000,1e-3)"
   ]
  },
  {
   "cell_type": "markdown",
   "id": "41235b00",
   "metadata": {},
   "source": [
    "#### Calculated Kernel"
   ]
  },
  {
   "cell_type": "code",
   "execution_count": 143,
   "id": "9f5e40c1",
   "metadata": {},
   "outputs": [
    {
     "name": "stdout",
     "output_type": "stream",
     "text": [
      "[[[[-0.11707728  0.17420238  0.11876266]\n",
      "   [ 0.08345454  0.4771772  -0.03955662]\n",
      "   [ 0.12558264  0.1051952   0.01119323]]]]\n"
     ]
    }
   ],
   "source": [
    "print(k)"
   ]
  },
  {
   "cell_type": "markdown",
   "id": "b7e629d2",
   "metadata": {},
   "source": [
    "#### Loss Over Epochs"
   ]
  },
  {
   "cell_type": "code",
   "execution_count": 160,
   "id": "257fa364",
   "metadata": {},
   "outputs": [
    {
     "data": {
      "text/plain": [
       "[<matplotlib.lines.Line2D at 0x25c881b1148>]"
      ]
     },
     "execution_count": 160,
     "metadata": {},
     "output_type": "execute_result"
    },
    {
     "data": {
      "image/png": "[encoded data removed]",
      "text/plain": [
       "<Figure size 432x288 with 1 Axes>"
      ]
     },
     "metadata": {
      "needs_background": "light"
     },
     "output_type": "display_data"
    }
   ],
   "source": [
    "plt.plot(l)"
   ]
  },
  {
   "cell_type": "markdown",
   "id": "e4bd76b5",
   "metadata": {},
   "source": [
    "### Apply Calculated Karnel to image"
   ]
  },
  {
   "cell_type": "code",
   "execution_count": 84,
   "id": "1f7fc1dc",
   "metadata": {},
   "outputs": [],
   "source": [
    "def apply_2dkernel(input_image, kernel):\n",
    "    # Ensure input image is a float tensor and normalize it\n",
    "    input_image = torch.tensor(input_image, dtype=torch.float32) / 255.0\n",
    "    # Convert the kernel to a PyTorch tensor if it is not already\n",
    "    if not isinstance(kernel, torch.Tensor):\n",
    "        kernel = torch.tensor(kernel, dtype=torch.float32)\n",
    "    # Get the dimensions of the input image\n",
    "    height, width, channels = input_image.shape\n",
    "    # Ensure size of image for convolution\n",
    "    r = input_image[:,:,0].view(1, 1, height, width)\n",
    "    g = input_image[:,:,1].view(1, 1, height, width)\n",
    "    b = input_image[:,:,2].view(1, 1, height, width)\n",
    "    # Apply the kernel to each channel\n",
    "    cr = F.conv2d(r, kernel, padding=1)\n",
    "    cg = F.conv2d(g, kernel, padding=1)\n",
    "    cb = F.conv2d(b, kernel, padding=1)\n",
    "    # Stack the channels back together\n",
    "    output_image = torch.cat([cr, cg, cb], dim=1).squeeze(0).permute(1, 2, 0).detach().numpy()\n",
    "    # Denormalize the output image (from 0-1 back to 0-255) and clip values to valid range\n",
    "    output_image = (output_image * 255.0).clip(0, 255).astype('uint8')\n",
    "    return output_image"
   ]
  },
  {
   "cell_type": "markdown",
   "id": "a143b2b0",
   "metadata": {},
   "source": [
    "### Apply Kernel to Video used in training"
   ]
  },
  {
   "cell_type": "code",
   "execution_count": 148,
   "id": "bc500125",
   "metadata": {},
   "outputs": [],
   "source": [
    "C = [apply_2dkernel(o,k) for o in org]"
   ]
  },
  {
   "cell_type": "code",
   "execution_count": 161,
   "id": "c4b0d03b",
   "metadata": {},
   "outputs": [],
   "source": [
    "ThroughFrames(C)"
   ]
  },
  {
   "cell_type": "markdown",
   "id": "10f945b5",
   "metadata": {},
   "source": [
    "#### Differences (Black is zero difference)"
   ]
  },
  {
   "cell_type": "code",
   "execution_count": 162,
   "id": "d72a27a3",
   "metadata": {},
   "outputs": [],
   "source": [
    "D = [np.abs(car[i]-apply_2dkernel(org[i],k)) for i in range(len(car))]"
   ]
  },
  {
   "cell_type": "code",
   "execution_count": 163,
   "id": "86f812ca",
   "metadata": {},
   "outputs": [],
   "source": [
    "ThroughFrames(D)"
   ]
  },
  {
   "cell_type": "markdown",
   "id": "68f2862f",
   "metadata": {},
   "source": [
    "### Kernel Applied to other video"
   ]
  },
  {
   "cell_type": "code",
   "execution_count": 152,
   "id": "bffeeead",
   "metadata": {},
   "outputs": [],
   "source": [
    "org1 = get_frames(open_vid(\"VDB/Y.mp4\"))\n",
    "car1 = get_frames(open_vid(\"Cartoonized/Ytoon.mp4\"))\n",
    "C1 = [apply_2dkernel(o,k) for o in org1]\n",
    "D1 = [np.abs(car1[i]-apply_2dkernel(org1[i],k)) for i in range(len(car1))]\n",
    "c1 = [cv2.filter2D(o, ddepth=-1, kernel=np.asarray(k[0][0])) for o in org1]"
   ]
  },
  {
   "cell_type": "code",
   "execution_count": 164,
   "id": "787565f5",
   "metadata": {},
   "outputs": [],
   "source": [
    "ThroughFrames(c1)"
   ]
  },
  {
   "cell_type": "code",
   "execution_count": 165,
   "id": "7e511c76",
   "metadata": {},
   "outputs": [],
   "source": [
    "ThroughFrames(C1)"
   ]
  },
  {
   "cell_type": "code",
   "execution_count": 166,
   "id": "6a0bea52",
   "metadata": {},
   "outputs": [],
   "source": [
    "ThroughFrames(D1)"
   ]
  },
  {
   "cell_type": "markdown",
   "id": "2ee26540",
   "metadata": {},
   "source": [
    "### DNN for 3D Kernel"
   ]
  },
  {
   "cell_type": "code",
   "execution_count": 85,
   "id": "e39fc850",
   "metadata": {},
   "outputs": [],
   "source": [
    "def find_3Dkernel(input_images, target_images, kernel_size=3, epochs=1000, learning_rate=1e-3):\n",
    "    # Normalize input and target images (to 0-1)\n",
    "    input_images = [img / 255.0 for img in input_images]\n",
    "    target_images = [img / 255.0 for img in target_images]\n",
    "    # Convert input and target images to tensors\n",
    "    input_images = torch.stack([torch.tensor(img, dtype=torch.float32) for img in input_images])\n",
    "    target_images = torch.stack([torch.tensor(img, dtype=torch.float32) for img in target_images])   \n",
    "    # Image Size\n",
    "    height, width = input_images[0].shape[0], input_images[0].shape[1]    \n",
    "    # Initialize the kernel\n",
    "    kernelr = torch.rand(1, 1, kernel_size, kernel_size, requires_grad=True)  \n",
    "    kernelg = torch.rand(1, 1, kernel_size, kernel_size, requires_grad=True)  \n",
    "    kernelb = torch.rand(1, 1, kernel_size, kernel_size, requires_grad=True)  \n",
    "    # Use an optimizer to update the kernel\n",
    "    optimizer = torch.optim.SGD([kernelr,kernelg,kernelb], lr=learning_rate)    \n",
    "    # List of loss over time\n",
    "    L = []    \n",
    "    # Iterate over epochs\n",
    "    for epoch in range(epochs):\n",
    "        total_loss = 0      \n",
    "        # Iterate through each image and calculate the total loss\n",
    "        for i in range(len(input_images)):\n",
    "            optimizer.zero_grad()  # Clear the gradients from the previous iteration  \n",
    "            # Separate each color channel\n",
    "            r = input_images[i][:,:,0].view(1, 1, height, width)\n",
    "            g = input_images[i][:,:,1].view(1, 1, height, width)\n",
    "            b = input_images[i][:,:,2].view(1, 1, height, width)            \n",
    "            # Apply convolution to each channel\n",
    "            cr = F.conv2d(r, kernelr, padding=1)\n",
    "            cg = F.conv2d(g, kernelg, padding=1)\n",
    "            cb = F.conv2d(b, kernelb, padding=1)            \n",
    "            # Calculate the loss\n",
    "            loss = (F.mse_loss(cr, target_images[i][:,:,0].unsqueeze(0).unsqueeze(0)) +\n",
    "                    F.mse_loss(cg, target_images[i][:,:,1].unsqueeze(0).unsqueeze(0)) +\n",
    "                    F.mse_loss(cb, target_images[i][:,:,2].unsqueeze(0).unsqueeze(0)))            \n",
    "            # Add to total loss\n",
    "            total_loss += loss.item()\n",
    "            loss.backward()  # Compute gradients        \n",
    "            optimizer.step()  # Update the kernel with the computed gradients        \n",
    "        # Add total loss to list over epochs\n",
    "        L.append(total_loss)        \n",
    "        # Print loss every 10 iterations\n",
    "        if epoch % 1 == 0:\n",
    "            print(f\"Epoch {epoch+1}/{epochs}, Total Loss: {total_loss}\", end='\\r')    \n",
    "    # Return the optimized kernel and list of loss over epochs\n",
    "    return [kernelr.detach().numpy(),kernelg.detach().numpy(),kernelb.detach().numpy()], L"
   ]
  },
  {
   "cell_type": "markdown",
   "id": "d3a872fc",
   "metadata": {},
   "source": [
    "### Train DNN for 3D Kernel"
   ]
  },
  {
   "cell_type": "code",
   "execution_count": 167,
   "id": "5f345e73",
   "metadata": {},
   "outputs": [
    {
     "name": "stdout",
     "output_type": "stream",
     "text": [
      "Epoch 100/100, Total Loss: 2.0367302671074867\r"
     ]
    }
   ],
   "source": [
    "k3d,l3d = find_3Dkernel(org,car,3,100,1e-3)"
   ]
  },
  {
   "cell_type": "markdown",
   "id": "b84342e9",
   "metadata": {},
   "source": [
    "### Calculated Kernels"
   ]
  },
  {
   "cell_type": "code",
   "execution_count": 168,
   "id": "ff18c5dd",
   "metadata": {},
   "outputs": [
    {
     "name": "stdout",
     "output_type": "stream",
     "text": [
      "[[[[-0.12880068 -0.31311655  0.148783  ]\n",
      "   [ 0.4606632   0.4521125   0.3544668 ]\n",
      "   [ 0.01233711  0.35646823 -0.39860234]]]]\n",
      "[[[[ 0.22344309  0.26510024  0.23608764]\n",
      "   [-0.07694138  0.46053693 -0.05531402]\n",
      "   [-0.18870662 -0.15387362  0.2372263 ]]]]\n",
      "[[[[-0.02202662  0.5744075  -0.10779057]\n",
      "   [-0.11189078  0.3386241  -0.09678408]\n",
      "   [-0.08710568  0.5889042  -0.15465868]]]]\n"
     ]
    }
   ],
   "source": [
    "print(k3d[0])\n",
    "print(k3d[1])\n",
    "print(k3d[2])"
   ]
  },
  {
   "cell_type": "markdown",
   "id": "ad65d482",
   "metadata": {},
   "source": [
    "### Loss Over Epochs"
   ]
  },
  {
   "cell_type": "code",
   "execution_count": 169,
   "id": "d5b2fa96",
   "metadata": {},
   "outputs": [
    {
     "data": {
      "text/plain": [
       "[<matplotlib.lines.Line2D at 0x25c8823c788>]"
      ]
     },
     "execution_count": 169,
     "metadata": {},
     "output_type": "execute_result"
    },
    {
     "data": {
      "image/png": "[encoded data removed]",
      "text/plain": [
       "<Figure size 432x288 with 1 Axes>"
      ]
     },
     "metadata": {
      "needs_background": "light"
     },
     "output_type": "display_data"
    }
   ],
   "source": [
    "plt.plot(l3d)"
   ]
  },
  {
   "cell_type": "markdown",
   "id": "569ec66d",
   "metadata": {},
   "source": [
    "### Apply 3D Kernel"
   ]
  },
  {
   "cell_type": "code",
   "execution_count": 86,
   "id": "af5b5a53",
   "metadata": {},
   "outputs": [],
   "source": [
    "def apply_3dkernel(input_image, kernel):\n",
    "    # Ensure input image is a float tensor and normalize it\n",
    "    input_image = torch.tensor(input_image, dtype=torch.float32) / 255.0\n",
    "    # Convert the kernel to a PyTorch tensor if it is not already\n",
    "    if not isinstance(kernel, torch.Tensor):\n",
    "        kernel = torch.tensor(kernel, dtype=torch.float32)\n",
    "    # Get the dimensions of the input image\n",
    "    height, width, channels = input_image.shape\n",
    "    # Ensure size of image for convolution\n",
    "    r = input_image[:,:,0].view(1, 1, height, width)\n",
    "    g = input_image[:,:,1].view(1, 1, height, width)\n",
    "    b = input_image[:,:,2].view(1, 1, height, width)\n",
    "    # Apply the kernel to each channel\n",
    "    cr = F.conv2d(r, kernel[0], padding=1)\n",
    "    cg = F.conv2d(g, kernel[1], padding=1)\n",
    "    cb = F.conv2d(b, kernel[2], padding=1)\n",
    "    # Stack the channels back together\n",
    "    output_image = torch.cat([cr, cg, cb], dim=1).squeeze(0).permute(1, 2, 0).detach().numpy()\n",
    "    # Denormalize the output image (from 0-1 back to 0-255) and clip values to valid range\n",
    "    output_image = (output_image * 255.0).clip(0, 255).astype('uint8')\n",
    "    return output_image"
   ]
  },
  {
   "cell_type": "markdown",
   "id": "f5ea84de",
   "metadata": {},
   "source": [
    "### 3D Kernel applied to original video"
   ]
  },
  {
   "cell_type": "code",
   "execution_count": 172,
   "id": "0fed920a",
   "metadata": {},
   "outputs": [],
   "source": [
    "C3d = [apply_3dkernel(o,k3d) for o in org]\n",
    "ThroughFrames(C3d)"
   ]
  },
  {
   "cell_type": "markdown",
   "id": "ba06762b",
   "metadata": {},
   "source": [
    "### Difference with target"
   ]
  },
  {
   "cell_type": "code",
   "execution_count": 173,
   "id": "5de34752",
   "metadata": {},
   "outputs": [],
   "source": [
    "D3d = [np.abs(car[i]-apply_3dkernel(org[i],k3d)) for i in range(len(car))]\n",
    "ThroughFrames(D3d)"
   ]
  },
  {
   "cell_type": "markdown",
   "id": "f2fe3ecf",
   "metadata": {},
   "source": [
    "### Using another video"
   ]
  },
  {
   "cell_type": "code",
   "execution_count": 183,
   "id": "e85133db",
   "metadata": {},
   "outputs": [],
   "source": [
    "org13d = get_frames(open_vid(\"VDB/puppies.mp4\"))\n",
    "car13d = get_frames(open_vid(\"Cartoonized/puppiestoon.mp4\"))\n",
    "C13d = [apply_3dkernel(o,k3d) for o in org13d]\n",
    "D13d = [np.abs(car13d[i]-apply_3dkernel(org13d[i],k3d)) for i in range(len(car13d))]"
   ]
  },
  {
   "cell_type": "code",
   "execution_count": 181,
   "id": "93a04735",
   "metadata": {},
   "outputs": [],
   "source": [
    "ThroughFrames(C13d)"
   ]
  },
  {
   "cell_type": "code",
   "execution_count": 184,
   "id": "cfe44ea4",
   "metadata": {},
   "outputs": [],
   "source": [
    "ThroughFrames(D13d)"
   ]
  },
  {
   "cell_type": "markdown",
   "id": "f6ca2602",
   "metadata": {},
   "source": [
    "### Calculate Kernel for Edge Detection"
   ]
  },
  {
   "cell_type": "code",
   "execution_count": 80,
   "id": "46b319eb",
   "metadata": {},
   "outputs": [
    {
     "name": "stdout",
     "output_type": "stream",
     "text": [
      "Width:  640\n",
      "Height:  320\n",
      "FPS:  24.0\n",
      "Frame Count:  36\n"
     ]
    }
   ],
   "source": [
    "cap = open_vid(\"VDB/X.mp4\")\n",
    "orgE = get_frames(cap)\n",
    "get_props(cap);"
   ]
  },
  {
   "cell_type": "code",
   "execution_count": 82,
   "id": "567f5e51",
   "metadata": {},
   "outputs": [],
   "source": [
    "ed = [canny_edge(o) for o in orgE[:50]]\n",
    "ThroughFrames(ed)"
   ]
  },
  {
   "cell_type": "code",
   "execution_count": 125,
   "id": "35ba4e21",
   "metadata": {},
   "outputs": [],
   "source": [
    "def find_2DkernelC(input_images, target_images, kernel=None, kernel_size=3, epochs=1000, lr=1e-3):\n",
    "    # Normalize input and target images (to 0-1)\n",
    "    input_images = [img / 255.0 for img in input_images]\n",
    "    target_images = [img / 255.0 for img in target_images]\n",
    "    \n",
    "    # Convert input and target images to tensors\n",
    "    input_images = torch.stack([torch.tensor(img, dtype=torch.float32) for img in input_images])\n",
    "    target_images = torch.stack([torch.tensor(img, dtype=torch.float32) for img in target_images])   \n",
    "    \n",
    "    # Image Size\n",
    "    height, width = input_images[0].shape[0], input_images[0].shape[1]    \n",
    "    \n",
    "    # Initialize the kernel\n",
    "    if kernel is None:\n",
    "        kernel = torch.rand(1, 1, kernel_size, kernel_size, requires_grad=True)\n",
    "    else:\n",
    "        kernel = torch.tensor(kernel, dtype=torch.float32).view(1,1,kernel.shape[0],kernel.shape[1])  # Ensure it's a tensor\n",
    "        kernel.requires_grad_(True)  # Set requires_grad=True for the leaf tensor\n",
    "        \n",
    "    # Use an optimizer to update the kernel\n",
    "    optimizer = torch.optim.SGD([kernel], lr=lr)    \n",
    "    \n",
    "    # List of loss over time\n",
    "    L = []    \n",
    "    \n",
    "    padding = kernel[0][0].shape[0]//2\n",
    "    \n",
    "    # Iterate over epochs\n",
    "    for epoch in range(epochs):\n",
    "        total_loss = 0      \n",
    "        # Iterate through each image and calculate the total loss\n",
    "        for i in range(len(input_images)):\n",
    "            optimizer.zero_grad()  # Clear the gradients from the previous iteration \n",
    "            \n",
    "            # Separate each color channel\n",
    "            r = input_images[i][:,:,0].view(1, 1, height, width)\n",
    "            g = input_images[i][:,:,1].view(1, 1, height, width)\n",
    "            b = input_images[i][:,:,2].view(1, 1, height, width)            \n",
    "            \n",
    "            # Apply convolution to each channel\n",
    "            cr = F.conv2d(r, kernel, padding=padding)\n",
    "            cg = F.conv2d(g, kernel, padding=padding)\n",
    "            cb = F.conv2d(b, kernel, padding=padding)            \n",
    "            \n",
    "            # Calculate the loss\n",
    "            loss = (F.mse_loss(cr, target_images[i][:,:,0].unsqueeze(0).unsqueeze(0)) +\n",
    "                    F.mse_loss(cg, target_images[i][:,:,1].unsqueeze(0).unsqueeze(0)) +\n",
    "                    F.mse_loss(cb, target_images[i][:,:,2].unsqueeze(0).unsqueeze(0)))            \n",
    "            \n",
    "            # Add to total loss\n",
    "            total_loss += loss.item()\n",
    "            loss.backward()  # Compute gradients        \n",
    "            optimizer.step()  # Update the kernel with the computed gradients        \n",
    "        \n",
    "        # Add total loss to list over epochs\n",
    "        L.append(total_loss)        \n",
    "        \n",
    "        # Print loss every epoch\n",
    "        if epoch % 1 == 0:\n",
    "            print(f\"Epoch {epoch+1}/{epochs}, Total Loss: {total_loss}\", end='\\r')    \n",
    "    \n",
    "    # Return the optimized kernel and list of loss over epochs\n",
    "    return kernel.detach().numpy(), L"
   ]
  },
  {
   "cell_type": "code",
   "execution_count": 134,
   "id": "a1338f05",
   "metadata": {},
   "outputs": [
    {
     "name": "stdout",
     "output_type": "stream",
     "text": [
      "Epoch 2/2, Total Loss: 38.213367953896524\r"
     ]
    }
   ],
   "source": [
    "ked,led = find_2DkernelC(orgE,orgE,epochs=2,lr=1e-3)"
   ]
  },
  {
   "cell_type": "code",
   "execution_count": 135,
   "id": "ca0d7825",
   "metadata": {},
   "outputs": [
    {
     "name": "stdout",
     "output_type": "stream",
     "text": [
      "[[[[ 0.34859854 -0.05776078  0.27837604  0.04321105 -0.40997612]\n",
      "   [ 0.333263    0.5017552   0.3312931   0.48203894 -0.3639986 ]\n",
      "   [-0.3033903   0.25969505 -0.40633988 -0.20842764  0.1559517 ]\n",
      "   [ 0.04213686 -0.3442806  -0.05506739  0.50000596 -0.33135495]\n",
      "   [ 0.41912013 -0.10673925 -0.45176157  0.36731735  0.28507236]]]]\n"
     ]
    }
   ],
   "source": [
    "print(ked)"
   ]
  },
  {
   "cell_type": "code",
   "execution_count": null,
   "id": "e7a12f0f",
   "metadata": {},
   "outputs": [],
   "source": [
    "# Now for each step in the process:\n",
    "# -edges\n",
    "# -cluster"
   ]
  },
  {
   "cell_type": "code",
   "execution_count": null,
   "id": "227ee93b",
   "metadata": {},
   "outputs": [],
   "source": []
  }
 ],
 "metadata": {
  "kernelspec": {
   "display_name": "Python 3",
   "language": "python",
   "name": "python3"
  },
  "language_info": {
   "codemirror_mode": {
    "name": "ipython",
    "version": 3
   },
   "file_extension": ".py",
   "mimetype": "text/x-python",
   "name": "python",
   "nbconvert_exporter": "python",
   "pygments_lexer": "ipython3",
   "version": "3.7.6"
  }
 },
 "nbformat": 4,
 "nbformat_minor": 5
}
