{
 "cells": [
  {
   "cell_type": "code",
   "execution_count": 1,
   "id": "fac4bacb",
   "metadata": {},
   "outputs": [
    {
     "name": "stdout",
     "output_type": "stream",
     "text": [
      "importing Jupyter notebook from ConsistencyIndexes.ipynb\n",
      "importing Jupyter notebook from Functions.ipynb\n"
     ]
    }
   ],
   "source": [
    "import import_ipynb\n",
    "from ConsistencyIndexes import *\n",
    "import torch\n",
    "import torch.nn.functional as F\n",
    "from matplotlib import pyplot as plt"
   ]
  },
  {
   "cell_type": "markdown",
   "id": "1fe48d47",
   "metadata": {},
   "source": [
    "### Get Original Frames"
   ]
  },
  {
   "cell_type": "code",
   "execution_count": 2,
   "id": "35809236",
   "metadata": {},
   "outputs": [
    {
     "name": "stdout",
     "output_type": "stream",
     "text": [
      "Width:  640\n",
      "Height:  320\n",
      "FPS:  24.0\n",
      "Frame Count:  36\n"
     ]
    }
   ],
   "source": [
    "cap = open_vid(\"VDB/X.mp4\")\n",
    "org = get_frames(cap)\n",
    "_,_,fps,_ = get_props(cap)"
   ]
  },
  {
   "cell_type": "markdown",
   "id": "250bb800",
   "metadata": {},
   "source": [
    "### Get Cartoonized Frames"
   ]
  },
  {
   "cell_type": "code",
   "execution_count": 3,
   "id": "102711ca",
   "metadata": {},
   "outputs": [
    {
     "name": "stdout",
     "output_type": "stream",
     "text": [
      "Width:  640\n",
      "Height:  320\n",
      "FPS:  24.0\n",
      "Frame Count:  36\n"
     ]
    }
   ],
   "source": [
    "cap = open_vid(\"Cartoonized/Xtoon.mp4\")\n",
    "car = get_frames(cap)\n",
    "_,_,fps,_ = get_props(cap)"
   ]
  },
  {
   "cell_type": "markdown",
   "id": "8bd7a556",
   "metadata": {},
   "source": [
    "### Calculate 2D Kernel"
   ]
  },
  {
   "cell_type": "code",
   "execution_count": 113,
   "id": "7d7aa132",
   "metadata": {},
   "outputs": [],
   "source": [
    "def find_2Dkernel(input_images, target_images, kernel_size=3, epochs=1000, learning_rate=1e-3):\n",
    "    # Normalize input and target images (to 0-1)\n",
    "    input_images = [img / 255.0 for img in input_images]\n",
    "    target_images = [img / 255.0 for img in target_images]\n",
    "    # Convert input and target images to tensors\n",
    "    input_images = torch.stack([torch.tensor(img, dtype=torch.float32) for img in input_images])\n",
    "    target_images = torch.stack([torch.tensor(img, dtype=torch.float32) for img in target_images])\n",
    "    # Image Size\n",
    "    height = input_images[0].shape[0]\n",
    "    width = input_images[0].shape[1]\n",
    "    # Use an optimizer to update the kernel\n",
    "    optimizer = torch.optim.SGD([kernel], lr=learning_rate)\n",
    "    # List of Loss over time\n",
    "    L = []\n",
    "    # Iterate over epochs\n",
    "    for epoch in range(epochs):\n",
    "        total_loss = 0\n",
    "        optimizer.zero_grad()  # Clear the gradients from the previous iteration\n",
    "        # Iterate through each image and calculate the total loss\n",
    "        for i in range(len(input_images)):\n",
    "            # Separate each color channel\n",
    "            r = input_images[i][:,:,0].view(1, 1, height, width)\n",
    "            g = input_images[i][:,:,1].view(1, 1, height, width)\n",
    "            b = input_images[i][:,:,2].view(1, 1, height, width)\n",
    "            # Apply convolution to each channel\n",
    "            cr = F.conv2d(r, kernel, padding=1)\n",
    "            cg = F.conv2d(g, kernel, padding=1)\n",
    "            cb = F.conv2d(b, kernel, padding=1)\n",
    "            # Calculate the loss\n",
    "            loss = (F.mse_loss(cr, target_images[i][:,:,0].unsqueeze(0).unsqueeze(0)) +\n",
    "                    F.mse_loss(cg, target_images[i][:,:,1].unsqueeze(0).unsqueeze(0)) +\n",
    "                    F.mse_loss(cb, target_images[i][:,:,2].unsqueeze(0).unsqueeze(0)))\n",
    "            # Add to total loss\n",
    "            total_loss += loss.item()\n",
    "            loss.backward()  # Compute gradients\n",
    "        optimizer.step()  # Update the kernel with the computed gradients\n",
    "        # Add total loss to list over ecpochs\n",
    "        L.append(total_loss)\n",
    "        # Print loss every 10 iterations\n",
    "        if iteration % 1 == 0:\n",
    "            print(f\"Iteration {epoch+1}/{epochs}, Total Loss: {total_loss}\",end='\\r')\n",
    "    # Return the optimized kernel and list of loss over epochs\n",
    "    return kernel.detach().numpy(),L"
   ]
  },
  {
   "cell_type": "code",
   "execution_count": 92,
   "id": "d9ab331b",
   "metadata": {},
   "outputs": [
    {
     "name": "stdout",
     "output_type": "stream",
     "text": [
      "Iteration 1000/1000, Total Loss: 1.9789092317223549\r"
     ]
    }
   ],
   "source": [
    "k,l = find_2Dkernel(org,car,3,1000,1e-3)"
   ]
  },
  {
   "cell_type": "code",
   "execution_count": 93,
   "id": "4ad6f56b",
   "metadata": {},
   "outputs": [
    {
     "name": "stdout",
     "output_type": "stream",
     "text": [
      "[[[[ 0.4491005  -0.34302577  0.20977691]\n",
      "   [ 0.11876388 -0.21754417  0.28502595]\n",
      "   [-0.3968136   1.1985881  -0.36275345]]]]\n"
     ]
    }
   ],
   "source": [
    "print(k)"
   ]
  },
  {
   "cell_type": "markdown",
   "id": "6e2423ba",
   "metadata": {},
   "source": [
    "[[[[ 0.4491005  -0.34302577  0.20977691]\n",
    "   [ 0.11876388 -0.21754417  0.28502595]\n",
    "   [-0.3968136   1.1985881  -0.36275345]]]]\n",
    "<br>\n",
    "For X.mp4 and Xtoon.mp4 with 3x3 kernel, 1000 epochs and 1e-3 learning rate"
   ]
  },
  {
   "cell_type": "code",
   "execution_count": 106,
   "id": "a7c51487",
   "metadata": {},
   "outputs": [
    {
     "data": {
      "text/plain": [
       "[<matplotlib.lines.Line2D at 0x1f004e5c2c8>]"
      ]
     },
     "execution_count": 106,
     "metadata": {},
     "output_type": "execute_result"
    },
    {
     "data": {
      "image/png": "[encoded data removed]",
      "text/plain": [
       "<Figure size 432x288 with 1 Axes>"
      ]
     },
     "metadata": {
      "needs_background": "light"
     },
     "output_type": "display_data"
    }
   ],
   "source": [
    "plt.plot(l[200:])"
   ]
  },
  {
   "cell_type": "markdown",
   "id": "0bc7c0b5",
   "metadata": {},
   "source": [
    "### Apply Calculated Karnel to image"
   ]
  },
  {
   "cell_type": "code",
   "execution_count": 57,
   "id": "64c89bfb",
   "metadata": {},
   "outputs": [],
   "source": [
    "def apply_kernel(input_image, kernel):\n",
    "    # Ensure input image is a float tensor and normalize it\n",
    "    input_image = torch.tensor(input_image, dtype=torch.float32) / 255.0\n",
    "    # Convert the kernel to a PyTorch tensor if it is not already\n",
    "    if not isinstance(kernel, torch.Tensor):\n",
    "        kernel = torch.tensor(kernel, dtype=torch.float32)\n",
    "    # Get the dimensions of the input image\n",
    "    height, width, channels = input_image.shape\n",
    "    # Ensure size of image for convolution\n",
    "    r = input_image[:,:,0].view(1, 1, height, width)\n",
    "    g = input_image[:,:,1].view(1, 1, height, width)\n",
    "    b = input_image[:,:,2].view(1, 1, height, width)\n",
    "    # Apply the kernel to each channel\n",
    "    cr = F.conv2d(r, kernel, padding=1)\n",
    "    cg = F.conv2d(g, kernel, padding=1)\n",
    "    cb = F.conv2d(b, kernel, padding=1)\n",
    "    # Stack the channels back together\n",
    "    output_image = torch.cat([cr, cg, cb], dim=1).squeeze(0).permute(1, 2, 0).detach().numpy()\n",
    "    # Denormalize the output image (from 0-1 back to 0-255) and clip values to valid range\n",
    "    output_image = (output_image * 255.0).clip(0, 255).astype('uint8')\n",
    "    return output_image"
   ]
  },
  {
   "cell_type": "code",
   "execution_count": 116,
   "id": "9f7d5a57",
   "metadata": {},
   "outputs": [],
   "source": [
    "C = [apply_kernel(o,k) for o in org]"
   ]
  },
  {
   "cell_type": "code",
   "execution_count": 117,
   "id": "4d773164",
   "metadata": {},
   "outputs": [],
   "source": [
    "ThroughFrames(C)"
   ]
  },
  {
   "cell_type": "markdown",
   "id": "117bb40e",
   "metadata": {},
   "source": [
    "#### Differences (Black is zero difference)"
   ]
  },
  {
   "cell_type": "code",
   "execution_count": null,
   "id": "8ec8ffff",
   "metadata": {},
   "outputs": [],
   "source": [
    "D = [np.abs(car[i]-apply_kernel(org[i],k)) for i in range(len(car))]"
   ]
  },
  {
   "cell_type": "code",
   "execution_count": 122,
   "id": "74a11fb8",
   "metadata": {},
   "outputs": [
    {
     "ename": "KeyboardInterrupt",
     "evalue": "",
     "output_type": "error",
     "traceback": [
      "\u001b[1;31m---------------------------------------------------------------------------\u001b[0m",
      "\u001b[1;31mKeyboardInterrupt\u001b[0m                         Traceback (most recent call last)",
      "\u001b[1;32m<ipython-input-122-8301cf484a04>\u001b[0m in \u001b[0;36m<module>\u001b[1;34m\u001b[0m\n\u001b[1;32m----> 1\u001b[1;33m \u001b[0mThroughFrames\u001b[0m\u001b[1;33m(\u001b[0m\u001b[0mD\u001b[0m\u001b[1;33m)\u001b[0m\u001b[1;33m\u001b[0m\u001b[1;33m\u001b[0m\u001b[0m\n\u001b[0m",
      "\u001b[1;32m~\\Desktop\\Video Processing\\ConsistencyIndexes.ipynb\u001b[0m in \u001b[0;36mThroughFrames\u001b[1;34m(frames)\u001b[0m\n",
      "\u001b[1;31mKeyboardInterrupt\u001b[0m: "
     ]
    }
   ],
   "source": [
    "ThroughFrames(D)"
   ]
  },
  {
   "cell_type": "code",
   "execution_count": null,
   "id": "c757d505",
   "metadata": {},
   "outputs": [],
   "source": [
    "def find_2Dkernel(input_images, target_images, kernel_size=3, epochs=1000, learning_rate=1e-3):\n",
    "    # Normalize input and target images (to 0-1)\n",
    "    input_images = [img / 255.0 for img in input_images]\n",
    "    target_images = [img / 255.0 for img in target_images]\n",
    "    # Convert input and target images to tensors\n",
    "    input_images = torch.stack([torch.tensor(img, dtype=torch.float32) for img in input_images])\n",
    "    target_images = torch.stack([torch.tensor(img, dtype=torch.float32) for img in target_images])\n",
    "    # Image Size\n",
    "    height = input_images[0].shape[0]\n",
    "    width = input_images[0].shape[1]\n",
    "    # Use an optimizer to update the kernel\n",
    "    optimizer = torch.optim.SGD([kernel], lr=learning_rate)\n",
    "    # List of Loss over time\n",
    "    L = []\n",
    "    # Iterate over epochs\n",
    "    for epoch in range(epochs):\n",
    "        total_loss = 0\n",
    "        optimizer.zero_grad()  # Clear the gradients from the previous iteration\n",
    "        # Iterate through each image and calculate the total loss\n",
    "        for i in range(len(input_images)):\n",
    "            # Separate each color channel\n",
    "            r = input_images[i][:,:,0].view(1, 1, height, width)\n",
    "            g = input_images[i][:,:,1].view(1, 1, height, width)\n",
    "            b = input_images[i][:,:,2].view(1, 1, height, width)\n",
    "            # Apply convolution to each channel\n",
    "            cr = F.conv2d(r, kernel, padding=1)\n",
    "            cg = F.conv2d(g, kernel, padding=1)\n",
    "            cb = F.conv2d(b, kernel, padding=1)\n",
    "            # Calculate the loss\n",
    "            loss = (F.mse_loss(cr, target_images[i][:,:,0].unsqueeze(0).unsqueeze(0)) +\n",
    "                    F.mse_loss(cg, target_images[i][:,:,1].unsqueeze(0).unsqueeze(0)) +\n",
    "                    F.mse_loss(cb, target_images[i][:,:,2].unsqueeze(0).unsqueeze(0)))\n",
    "            # Add to total loss\n",
    "            total_loss += loss.item()\n",
    "            loss.backward()  # Compute gradients\n",
    "        optimizer.step()  # Update the kernel with the computed gradients\n",
    "        # Add total loss to list over ecpochs\n",
    "        L.append(total_loss)\n",
    "        # Print loss every 10 iterations\n",
    "        if iteration % 1 == 0:\n",
    "            print(f\"Iteration {epoch+1}/{epochs}, Total Loss: {total_loss}\",end='\\r')\n",
    "    # Return the optimized kernel and list of loss over epochs\n",
    "    return kernel.detach().numpy(),L"
   ]
  },
  {
   "cell_type": "code",
   "execution_count": null,
   "id": "fd06e86c",
   "metadata": {},
   "outputs": [],
   "source": [
    "# Kernel for each channel"
   ]
  }
 ],
 "metadata": {
  "kernelspec": {
   "display_name": "Python 3",
   "language": "python",
   "name": "python3"
  },
  "language_info": {
   "codemirror_mode": {
    "name": "ipython",
    "version": 3
   },
   "file_extension": ".py",
   "mimetype": "text/x-python",
   "name": "python",
   "nbconvert_exporter": "python",
   "pygments_lexer": "ipython3",
   "version": "3.7.6"
  }
 },
 "nbformat": 4,
 "nbformat_minor": 5
}
