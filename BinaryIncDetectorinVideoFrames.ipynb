{
 "cells": [
  {
   "cell_type": "code",
   "execution_count": 2,
   "id": "da96e563",
   "metadata": {},
   "outputs": [
    {
     "name": "stdout",
     "output_type": "stream",
     "text": [
      "importing Jupyter notebook from Functions.ipynb\n"
     ]
    }
   ],
   "source": [
    "import import_ipynb\n",
    "from Functions import *"
   ]
  },
  {
   "cell_type": "markdown",
   "id": "58604bc7",
   "metadata": {},
   "source": [
    "# Main Model"
   ]
  },
  {
   "cell_type": "code",
   "execution_count": 3,
   "id": "b7ca4cad",
   "metadata": {},
   "outputs": [],
   "source": [
    "class CNN(nn.Module):\n",
    "    def __init__(self, num_classes=2):\n",
    "        super(CNN, self).__init__()\n",
    "        self.features = nn.Sequential(\n",
    "            nn.Conv2d(3, 64, kernel_size=11, stride=4, padding=2),\n",
    "            nn.ReLU(inplace=True),\n",
    "            nn.MaxPool2d(kernel_size=3, stride=2),\n",
    "            nn.Conv2d(64, 192, kernel_size=5, padding=2),\n",
    "            nn.ReLU(inplace=True),\n",
    "            nn.MaxPool2d(kernel_size=3, stride=2),\n",
    "            nn.Conv2d(192, 384, kernel_size=3, padding=1),\n",
    "            nn.ReLU(inplace=True),\n",
    "            nn.Conv2d(384, 256, kernel_size=3, padding=1),\n",
    "            nn.ReLU(inplace=True),\n",
    "            nn.Conv2d(256, 256, kernel_size=3, padding=1),\n",
    "            nn.ReLU(inplace=True),\n",
    "            nn.MaxPool2d(kernel_size=3, stride=2),\n",
    "        )\n",
    "        \n",
    "        # Placeholder for the classifier; initialized later dynamically\n",
    "        self.classifier = None\n",
    "        self.num_classes = num_classes\n",
    "\n",
    "    def initialize_classifier(self, input_shape):\n",
    "        # Pass a dummy tensor to the features to get the output size\n",
    "        with torch.no_grad():\n",
    "            dummy_input = torch.zeros(1, *input_shape)  # Batch size of 1\n",
    "            feature_map = self.features(dummy_input)\n",
    "            flattened_size = feature_map.numel()\n",
    "        \n",
    "        self.classifier = nn.Sequential(\n",
    "            nn.Dropout(),\n",
    "            nn.Linear(flattened_size, 4096),\n",
    "            nn.ReLU(inplace=True),\n",
    "            nn.Dropout(),\n",
    "            nn.Linear(4096, 4096),\n",
    "            nn.ReLU(inplace=True),\n",
    "            nn.Linear(4096, self.num_classes),\n",
    "        )\n",
    "\n",
    "    def forward(self, x):\n",
    "        if self.classifier is None:\n",
    "            self.initialize_classifier(x.shape[1:])  # Dynamically initialize based on input shape\n",
    "        x = self.features(x)\n",
    "        x = torch.flatten(x, 1)  # Flatten the feature map\n",
    "        x = self.classifier(x)\n",
    "        return Fun.softmax(torch.sum(x,dim=0))"
   ]
  },
  {
   "cell_type": "markdown",
   "id": "8c15dc8a",
   "metadata": {},
   "source": [
    "# Get Training Data"
   ]
  },
  {
   "cell_type": "code",
   "execution_count": 4,
   "id": "d90e9ee3",
   "metadata": {},
   "outputs": [],
   "source": [
    "def get_video_frames(path, N, size):\n",
    "    # Find all video files in the specified path\n",
    "    video_files = [f for f in os.listdir(path) if f.endswith(('.mp4', '.avi', '.mov', '.mkv'))]\n",
    "    if not video_files:\n",
    "        raise ValueError(\"No video files found in the specified path.\")\n",
    "    \n",
    "    # Choose a random video file\n",
    "    video_file = random.choice(video_files)\n",
    "    video_path = os.path.join(path, video_file)\n",
    "    \n",
    "    # Initialize the video capture\n",
    "    cap = cv2.VideoCapture(video_path)\n",
    "    total_frames = int(cap.get(cv2.CAP_PROP_FRAME_COUNT))\n",
    "    \n",
    "    # If N is larger than the number of frames in the video, adjust it\n",
    "    if N > total_frames:\n",
    "        raise ValueError(f\"The video has only {total_frames} frames, but {N} frames were requested.\")\n",
    "    \n",
    "    # Select a random starting frame index such that we can capture N consecutive frames\n",
    "    start_frame = random.randint(0, total_frames - N)\n",
    "    cap.set(cv2.CAP_PROP_POS_FRAMES, start_frame)\n",
    "    \n",
    "    # Resize transformation\n",
    "    transform = transforms.Compose([\n",
    "        transforms.ToPILImage(),\n",
    "        transforms.Resize(size),\n",
    "        transforms.ToTensor()\n",
    "    ])\n",
    "    \n",
    "    frames = []\n",
    "    for _ in range(N):\n",
    "        ret, frame = cap.read()\n",
    "        if not ret:\n",
    "            break\n",
    "        # Convert the frame (BGR to RGB) and apply the resize transform\n",
    "        frame_rgb = cv2.cvtColor(frame, cv2.COLOR_BGR2RGB)\n",
    "        frame_tensor = transform(frame_rgb)\n",
    "        frames.append(frame_tensor)\n",
    "    \n",
    "    cap.release()\n",
    "    \n",
    "    # Stack frames and reshape to the desired output shape\n",
    "    frames_tensor = torch.stack(frames).unsqueeze(0)  # Shape (1, N, 3, H, W)\n",
    "    \n",
    "    return frames#_tensor"
   ]
  },
  {
   "cell_type": "markdown",
   "id": "6dfbcf7c",
   "metadata": {},
   "source": [
    "# Convert Tensor to Numpy List"
   ]
  },
  {
   "cell_type": "code",
   "execution_count": 5,
   "id": "45e9aa5d",
   "metadata": {},
   "outputs": [],
   "source": [
    "def t2nl(frames_tensor):\n",
    "    # Remove the batch dimension (1, N, 3, H, W) -> (N, 3, H, W)\n",
    "    frames_tensor = frames_tensor.squeeze(0)\n",
    "    \n",
    "    # Conve\n",
    "    #rt each frame tensor to a NumPy array\n",
    "    frame_list = [cv2.cvtColor(frame.permute(1, 2, 0).numpy(),cv2.COLOR_BGR2RGB) for frame in frames_tensor]\n",
    "    \n",
    "    return frame_list"
   ]
  },
  {
   "cell_type": "markdown",
   "id": "4e9c32a2",
   "metadata": {},
   "source": [
    "# Training Function"
   ]
  },
  {
   "cell_type": "code",
   "execution_count": 6,
   "id": "b1bb5850",
   "metadata": {},
   "outputs": [],
   "source": [
    "def train(Path, State=None, N=3, Batch=10, Epochs=10, Steps=5, LR=1e-3):\n",
    "    Model = CNN(2)\n",
    "    Size = (300,300)\n",
    "    \n",
    "    if State is not None:\n",
    "        Model.load_state_dict(States)\n",
    "        Model.eval();\n",
    "        \n",
    "    Loss = []\n",
    "    Accuracy = []\n",
    "    LMin = 1e20\n",
    "\n",
    "    start_time = time.time()  # Start timer\n",
    "\n",
    "    for epoch in range(Epochs):\n",
    "        epoch_start_time = time.time()  # Timer for each epoch\n",
    "        optimizer = optim.Adam(Model.parameters(), lr=LR)\n",
    "        total_loss = 0.0\n",
    "        Correct0 = 0\n",
    "        Correct1 = 0\n",
    "        Total0 = 0\n",
    "        Total1 = 0\n",
    "        for batch in range(Batch):\n",
    "            optimizer.zero_grad()\n",
    "            \n",
    "            Frames = get_video_frames(Path, N, Size)\n",
    "            Frames = torch.stack(Frames)\n",
    "    \n",
    "            Target = torch.tensor([0.0,1.0]) if batch%2==0 else torch.tensor([1.0,0.0])\n",
    "        \n",
    "            if torch.equal(Target,torch.tensor([1.0,0.0])):\n",
    "                steps = random.randint(1, Steps)\n",
    "                for s in range(steps):\n",
    "                    x,y,l = random.randint(0,3*Size[0]//4),random.randint(0,3*Size[1]//4),random.randint(10,Size[0]//5)\n",
    "                    #print(x,y,l,x+l,y+l)\n",
    "                    for p in range(N):\n",
    "                        if random.random()>=0.5:\n",
    "                            Frames[p] = AddOneInc1(Frames[p],x=x,y=y,l=l)\n",
    "                    Frames[N // 2] = AddOneInc1(Frames[N // 2],x=x,y=y,l=l)\n",
    "                       \n",
    "            # Pixel Differences \n",
    "            diff_pix = [Frames[i]-Frames[i+1] for i in range(len(Frames)-1)]\n",
    "            diff_pix = torch.stack(diff_pix)\n",
    "            #print(diff_pix.shape)\n",
    "            \n",
    "            # Edges Frames\n",
    "            edge_frames = [Edges_tensor(Frames[i])-Edges_tensor(Frames[i+1]) for i in range(len(Frames)-1)]\n",
    "            edge_frames = torch.stack(edge_frames)\n",
    "            #print(edge_frames.shape)\n",
    "            \n",
    "            Scores = [TSSIM(Frames[i].unsqueeze(0),Frames[i+1].unsqueeze(0)) for i in range(len(Frames)-1)]\n",
    "            Score = [t[0].item() for t in Scores]\n",
    "            SimScores = [t[1].squeeze(0) for t in Scores]\n",
    "            SimScores = torch.stack(SimScores)\n",
    "            #print(SimScores.shape)\n",
    "            \n",
    "            All = torch.cat((diff_pix,edge_frames,SimScores),dim=0)\n",
    "            #print(All.shape)\n",
    "            \n",
    "            # Forward pass\n",
    "            Pred = Model(All)\n",
    "            \n",
    "            if torch.equal(Target,torch.tensor([1.0,0.0])):\n",
    "                Total1 += 1\n",
    "                if torch.equal(Target,torch.round(Pred)):\n",
    "                    Correct1 += 1\n",
    "            else:\n",
    "                Total0 += 1\n",
    "                if torch.equal(Target,torch.round(Pred)):\n",
    "                    Correct0 += 1\n",
    "            \n",
    "            # Calculate loss\n",
    "            criterion = nn.BCELoss()\n",
    "            loss = criterion(Pred, Target)\n",
    "            loss.backward()\n",
    "            optimizer.step()\n",
    "\n",
    "            total_loss += loss.item()\n",
    "            elapsed_time = time.time() - start_time\n",
    "            avg_time_per_iter = elapsed_time / ((epoch * Batch) + batch + 1)\n",
    "            remaining_iters = (Epochs * Batch) - ((epoch * Batch) + batch + 1)\n",
    "            remaining_time = avg_time_per_iter * remaining_iters\n",
    "            Mins = int(remaining_time//60)\n",
    "            Secs = int(remaining_time%60)\n",
    "            print(f'LR: {LR:0.4} Batch [{batch+1}/{Batch}], Loss: {loss.item():.4f} Time:{Mins}:{Secs}, Correct0: {Correct0}/{Total0}, Correct1: {Correct1}/{Total1},  [{Pred[0]:.2f},{Pred[1]:.2f}]', end='\\r')\n",
    "\n",
    "            # Display predictions on the frame\n",
    "            Frame = cv2.cvtColor(Frames[N // 2].permute(1, 2, 0).numpy(), cv2.COLOR_BGR2RGB)\n",
    "            Frame = cv2.putText(Frame, f'P: {int(torch.round(Pred[0]))}', (0, 60), cv2.FONT_HERSHEY_SIMPLEX, 1, (0, 255, 0), 1)\n",
    "            Frame = cv2.putText(Frame, f'T: {int(Target[0])}', (0, 30), cv2.FONT_HERSHEY_SIMPLEX, 1, (255, 0, 0), 1)\n",
    "            cv2.imshow(\"Frame\", Frame)\n",
    "            cv2.waitKey(1)\n",
    "\n",
    "        Loss.append(total_loss)\n",
    "        Accuracy.append((Correct0+Correct1)/(Total0+Total1))\n",
    "        print(f'\\nEpoch [{epoch + 1}/{Epochs}], Loss: {total_loss / Batch:.6f}, Accuracy: {(Correct0+Correct1)/(Total0+Total1):.2f}, Correct1: {Correct1}/{Total1}')\n",
    "        \n",
    "        LR *= 0.75\n",
    "    \n",
    "    States = Model.state_dict()\n",
    "    \n",
    "    cv2.destroyAllWindows()\n",
    "    return Loss,States,Accuracy"
   ]
  },
  {
   "cell_type": "markdown",
   "id": "a1060b02",
   "metadata": {},
   "source": [
    "# Training"
   ]
  },
  {
   "cell_type": "code",
   "execution_count": 14,
   "id": "172e2e92",
   "metadata": {},
   "outputs": [],
   "source": [
    "cv2.destroyAllWindows()"
   ]
  },
  {
   "cell_type": "code",
   "execution_count": 15,
   "id": "e590378b",
   "metadata": {},
   "outputs": [],
   "source": [
    "State = None"
   ]
  },
  {
   "cell_type": "code",
   "execution_count": 16,
   "id": "de3cfc5a",
   "metadata": {},
   "outputs": [
    {
     "name": "stdout",
     "output_type": "stream",
     "text": [
      "LR: 1e-05 Batch [30/30], Loss: 0.6819 Time:27:13, Correct0: 0/15, Correct1: 13/15,  [0.51,0.49]\n",
      "Epoch [1/10], Loss: 0.694629, Accuracy: 0.43, Correct1: 13/15\n",
      "LR: 7.5e-06 Batch [30/30], Loss: 0.6274 Time:26:35, Correct0: 8/15, Correct1: 7/15,  [0.53,0.47]\n",
      "Epoch [2/10], Loss: 0.706119, Accuracy: 0.50, Correct1: 7/15\n",
      "LR: 5.625e-06 Batch [30/30], Loss: 0.6220 Time:24:11, Correct0: 8/15, Correct1: 5/15,  [0.54,0.46]\n",
      "Epoch [3/10], Loss: 0.708331, Accuracy: 0.43, Correct1: 5/15\n",
      "LR: 4.219e-06 Batch [30/30], Loss: 0.6881 Time:21:11, Correct0: 8/15, Correct1: 7/15,  [0.50,0.50]\n",
      "Epoch [4/10], Loss: 0.699221, Accuracy: 0.50, Correct1: 7/15\n",
      "LR: 3.164e-06 Batch [30/30], Loss: 0.6839 Time:17:47, Correct0: 12/15, Correct1: 7/15,  [0.50,0.50]\n",
      "Epoch [5/10], Loss: 0.681606, Accuracy: 0.63, Correct1: 7/15\n",
      "LR: 2.373e-06 Batch [30/30], Loss: 0.6884 Time:14:54, Correct0: 9/15, Correct1: 5/15,  [0.50,0.50]\n",
      "Epoch [6/10], Loss: 0.688539, Accuracy: 0.47, Correct1: 5/15\n",
      "LR: 1.78e-06 Batch [30/30], Loss: 0.5343 Time:11:19, Correct0: 10/15, Correct1: 5/15,  [0.59,0.41]\n",
      "Epoch [7/10], Loss: 0.677511, Accuracy: 0.50, Correct1: 5/15\n",
      "LR: 1.335e-06 Batch [30/30], Loss: 0.7296 Time:7:35, Correct0: 9/15, Correct1: 7/15,  [0.48,0.52]\n",
      "Epoch [8/10], Loss: 0.699229, Accuracy: 0.53, Correct1: 7/15\n",
      "LR: 1.001e-06 Batch [30/30], Loss: 0.7222 Time:3:45, Correct0: 12/15, Correct1: 7/15,  [0.49,0.51]\n",
      "Epoch [9/10], Loss: 0.680999, Accuracy: 0.63, Correct1: 7/15\n",
      "LR: 7.508e-07 Batch [30/30], Loss: 0.7691 Time:0:0, Correct0: 11/15, Correct1: 4/15,  [0.46,0.54]]\n",
      "Epoch [10/10], Loss: 0.701932, Accuracy: 0.50, Correct1: 4/15\n"
     ]
    }
   ],
   "source": [
    "L,States,Accuracy = train('VDB',Batch=30,State=State,N=13,Epochs=10,Steps=5,LR=1e-5)"
   ]
  },
  {
   "cell_type": "code",
   "execution_count": 17,
   "id": "5d48a5e0",
   "metadata": {},
   "outputs": [
    {
     "data": {
      "text/plain": [
       "[<matplotlib.lines.Line2D at 0x2996d186c88>]"
      ]
     },
     "execution_count": 17,
     "metadata": {},
     "output_type": "execute_result"
    },
    {
     "data": {
      "image/png": "[encoded data removed]",
      "text/plain": [
       "<Figure size 432x288 with 1 Axes>"
      ]
     },
     "metadata": {
      "needs_background": "light"
     },
     "output_type": "display_data"
    }
   ],
   "source": [
    "plt.plot(L[1:]) ##Cambios de Escenas"
   ]
  },
  {
   "cell_type": "code",
   "execution_count": 19,
   "id": "82d921e1",
   "metadata": {},
   "outputs": [
    {
     "data": {
      "text/plain": [
       "[<matplotlib.lines.Line2D at 0x2991e9ca188>]"
      ]
     },
     "execution_count": 19,
     "metadata": {},
     "output_type": "execute_result"
    },
    {
     "data": {
      "image/png": "[encoded data removed]",
      "text/plain": [
       "<Figure size 432x288 with 1 Axes>"
      ]
     },
     "metadata": {
      "needs_background": "light"
     },
     "output_type": "display_data"
    }
   ],
   "source": [
    "plt.plot(Accuracy)"
   ]
  },
  {
   "cell_type": "code",
   "execution_count": 20,
   "id": "46fdaa5a",
   "metadata": {},
   "outputs": [],
   "source": [
    "torch.save(States,\"StatesBID13N300x300.pth\")"
   ]
  },
  {
   "cell_type": "markdown",
   "id": "4630e411",
   "metadata": {},
   "source": [
    "# Load and Predict"
   ]
  },
  {
   "cell_type": "code",
   "execution_count": 7,
   "id": "820399d0",
   "metadata": {},
   "outputs": [],
   "source": [
    "States = torch.load(\"StatesBID3N300x300.pth\")"
   ]
  },
  {
   "cell_type": "code",
   "execution_count": 8,
   "id": "52065b3a",
   "metadata": {},
   "outputs": [],
   "source": [
    "Size = (300,300)\n",
    "N = 9\n",
    "Model = CNN(2)\n",
    "dummy = torch.rand((N-1)*3,3,Size[0],Size[1])\n",
    "Model(dummy)\n",
    "Model.load_state_dict(States)\n",
    "Model.eval();"
   ]
  },
  {
   "cell_type": "code",
   "execution_count": 21,
   "id": "25a38bc7",
   "metadata": {},
   "outputs": [],
   "source": [
    "Frames = get_video_frames(\"AI Gen\",N,(300,300))\n",
    "diff_pix = [Frames[i]-Frames[i+1] for i in range(len(Frames)-1)]\n",
    "diff_pix = torch.stack(diff_pix)\n",
    "edge_frames = [Edges_tensor(Frames[i])-Edges_tensor(Frames[i+1]) for i in range(len(Frames)-1)]\n",
    "edge_frames = torch.stack(edge_frames)\n",
    "Scores = [TSSIM(Frames[i].unsqueeze(0),Frames[i+1].unsqueeze(0)) for i in range(len(Frames)-1)]\n",
    "Score = [t[0].item() for t in Scores]\n",
    "SimScores = [t[1].squeeze(0) for t in Scores]\n",
    "SimScores = torch.stack(SimScores)\n",
    "All = torch.cat((diff_pix,edge_frames,SimScores),dim=0)"
   ]
  },
  {
   "cell_type": "code",
   "execution_count": 22,
   "id": "3a2ed3df",
   "metadata": {},
   "outputs": [
    {
     "name": "stdout",
     "output_type": "stream",
     "text": [
      "Probability of Inconsistency: 0.0007\n",
      "Prediction: 0\n"
     ]
    }
   ],
   "source": [
    "Pred = Model(All)\n",
    "print(f'Probability of Inconsistency: {Pred[0].item():.4f}')\n",
    "print(f'Prediction: {round(Pred[0].item())}')"
   ]
  },
  {
   "cell_type": "code",
   "execution_count": 23,
   "id": "fa612ad3",
   "metadata": {},
   "outputs": [],
   "source": [
    "Frames_Np = [cv2.cvtColor(Frames[n].permute(1, 2, 0).numpy(), cv2.COLOR_BGR2RGB) for n in range(len(Frames))]"
   ]
  },
  {
   "cell_type": "code",
   "execution_count": 24,
   "id": "7a36f500",
   "metadata": {},
   "outputs": [],
   "source": [
    "ThroughFrames(Frames_Np)"
   ]
  },
  {
   "cell_type": "code",
   "execution_count": null,
   "id": "c4d18ca3",
   "metadata": {},
   "outputs": [],
   "source": [
    "#Inconsistencia entrada y salida en cada secuencia\n",
    "#Redes de diferentes tamanos de entrada para cada caja de inconsistencia"
   ]
  },
  {
   "cell_type": "code",
   "execution_count": null,
   "id": "3846101d",
   "metadata": {},
   "outputs": [],
   "source": []
  }
 ],
 "metadata": {
  "kernelspec": {
   "display_name": "Python 3",
   "language": "python",
   "name": "python3"
  },
  "language_info": {
   "codemirror_mode": {
    "name": "ipython",
    "version": 3
   },
   "file_extension": ".py",
   "mimetype": "text/x-python",
   "name": "python",
   "nbconvert_exporter": "python",
   "pygments_lexer": "ipython3",
   "version": "3.7.6"
  }
 },
 "nbformat": 4,
 "nbformat_minor": 5
}
