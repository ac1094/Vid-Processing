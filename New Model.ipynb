{
 "cells": [
  {
   "cell_type": "code",
   "execution_count": 229,
   "id": "7e805329",
   "metadata": {},
   "outputs": [],
   "source": [
    "import import_ipynb\n",
    "from Functions import *\n",
    "import torch.nn.functional as Fun\n",
    "import torch\n",
    "from torch import optim\n",
    "import matplotlib.pyplot as plt\n",
    "import time"
   ]
  },
  {
   "cell_type": "code",
   "execution_count": 230,
   "id": "97429c8e",
   "metadata": {},
   "outputs": [],
   "source": [
    "def Extract(Params):\n",
    "    C = Params['C']\n",
    "    P = Params['P']\n",
    "    F = Params['F']\n",
    "    B = Params['B']\n",
    "    K = Params['K']\n",
    "    KP = Params['KP']\n",
    "    KPast = Params['KPast']\n",
    "    KFuture = Params['KFuture']\n",
    "    return C,P,F,B,K,KP,KPast,KFuture"
   ]
  },
  {
   "cell_type": "markdown",
   "id": "dcc60dbc",
   "metadata": {},
   "source": [
    "## Generate Random Values for Parameters"
   ]
  },
  {
   "cell_type": "code",
   "execution_count": 231,
   "id": "6737216a",
   "metadata": {},
   "outputs": [],
   "source": [
    "def Gen_Params(Size,N):\n",
    "    C = torch.rand((1,3,Size[0],Size[1]),requires_grad=True)\n",
    "    P = [torch.rand((1,3,Size[0],Size[1]),requires_grad=True) for _ in range(N)]\n",
    "    F = [torch.rand((1,3,Size[0],Size[1]),requires_grad=True) for _ in range(N)]\n",
    "    B = torch.rand((1,3,Size[0],Size[1]),requires_grad=True)\n",
    "    K = torch.rand((3,3,3,3),requires_grad=True)\n",
    "    KP = torch.rand((3,3,3,3),requires_grad=True)\n",
    "    KPast = [torch.rand((3,3,3,3),requires_grad=True) for _ in range(N)]\n",
    "    KFuture = [torch.rand((3,3,3,3),requires_grad=True) for _ in range(N)]\n",
    "    return C,P,F,B,K,KP,KPast,KFuture"
   ]
  },
  {
   "cell_type": "markdown",
   "id": "66e0a601",
   "metadata": {},
   "source": [
    "## Objective Function"
   ]
  },
  {
   "cell_type": "code",
   "execution_count": 232,
   "id": "e460222d",
   "metadata": {},
   "outputs": [],
   "source": [
    "def ObjFun(Current,Past,Future,C,P,F,B,K,KP,KPast,KFuture):\n",
    "    #currentF = torch.fft.fft2(Current)\n",
    "    #pastF = [torch.fft.fft2(p) for p in Past]\n",
    "    #futureF = [torch.fft.fft2(f) for f in Future]\n",
    "    #sumF = C*currentF\n",
    "    #for pf,p in zip(pastF,P):\n",
    "    #    sumF = sumF + pf*p\n",
    "    #for ff,f in zip(futureF,F):\n",
    "    #    sumF = sumF + ff*f\n",
    "    #sumF = sumF + B\n",
    "    #SumP = torch.fft.ifft2(sumF).real\n",
    "    #Pred = Fun.relu(Fun.conv2d(SumP,KP,stride=1,padding=1))\n",
    "    Pred = Fun.relu(Fun.conv2d(Current,K,stride=1,padding=1))# + Pred\n",
    "    for kp,p in zip(KPast,Past):\n",
    "        Pred = Pred + Fun.relu(Fun.conv2d(p,kp,stride=1,padding=1))\n",
    "    for kf,f in zip(KFuture,Future):\n",
    "        Pred = Pred + Fun.relu(Fun.conv2d(f,kf,stride=1,padding=1))\n",
    "    return Pred"
   ]
  },
  {
   "cell_type": "markdown",
   "id": "694e9228",
   "metadata": {},
   "source": [
    "## Draw Inconsistencies and noise to frame"
   ]
  },
  {
   "cell_type": "code",
   "execution_count": 233,
   "id": "3459220a",
   "metadata": {},
   "outputs": [],
   "source": [
    "def AddOneInc1(F,Op,x,y,xl,yl):\n",
    "    if isinstance(F, torch.Tensor):\n",
    "        # Convert to NumPy Array\n",
    "        F = F.squeeze(0).permute(1, 2, 0).cpu().numpy() * 255\n",
    "    # Copy of original array\n",
    "    I = F.astype(np.uint8).copy()\n",
    "    # Random location\n",
    "    #x, y = random.randint(0, 4 * I.shape[0] // 5), random.randint(0, 4 * I.shape[1] // 5)\n",
    "    # Random size\n",
    "    #xl,yl = random.randint(x+1,x+int(F.shape[1]*0.2)),random.randint(y+1,y+int(F.shape[0]*0.2))\n",
    "    # Random option\n",
    "    #Op = random.randint(0, 8)\n",
    "    if Op == 0: #Draw square with changes color ranges\n",
    "        I[x:xl, y:yl] = change_range_colors(I[x:xl,y:yl], (random.randint(30, 140), random.randint(30, 140), random.randint(30, 140)), (random.randint(150, 255), random.randint(150, 255), random.randint(150, 255)))\n",
    "    elif Op == 1: #Draw square with random color\n",
    "        R, G, B = random.randint(0, 255), random.randint(0, 255), random.randint(0, 255)\n",
    "        I[x:xl,y:yl] = change_range_colors(I[x:xl,y:yl], (R, G, B), (R, G, B))\n",
    "    elif Op == 2: #Draw line with random color\n",
    "        Thick = random.randint(1, 10)\n",
    "        l2 = random.randint(5, I.shape[1]//15)\n",
    "        I = cv2.line(I, (x, y), (xl,yl), (random.randint(0, 255), random.randint(0, 255), random.randint(0, 255)), Thick)\n",
    "    elif Op == 3: #Draw black line\n",
    "        Thick = random.randint(1, 5)\n",
    "        l2 = random.randint(5, I.shape[1]//20)\n",
    "        I = cv2.line(I, (x, y), (xl, yl), (0, 0, 0), Thick)  \n",
    "    elif Op == 4: #Add a square of noise\n",
    "        I[x:xl,y:yl] = I[x:xl,y:yl] + np.random.random_integers(-10,10,I[x:xl,y:yl].shape)\n",
    "    elif Op == 5: #Convolution with a random kernel\n",
    "        kernel = np.random.rand(3,3)\n",
    "        I[x:xl,y:yl] = cv2.filter2D(I[x:xl,y:yl],-1,kernel)\n",
    "    elif Op == 6:\n",
    "        I[x:xl,y:yl] = img_deformation(I[x:xl,y:yl],random.randint(10,50),random.randint(10,100))\n",
    "    else:# Op == 7:\n",
    "        I[x:xl,y:yl] = random_point_warp(I[x:xl,y:yl],random.randint(1,5))\n",
    "    #else:\n",
    "         #I[x:xl,y:yl] = random_PRR(I[x:xl,y:yl])\n",
    "    # Convert back to tensor\n",
    "    I_tensor = torch.tensor(I,dtype=torch.float32).permute(2, 0, 1).unsqueeze(0)/255.0\n",
    "    return I_tensor"
   ]
  },
  {
   "cell_type": "markdown",
   "id": "300f375c",
   "metadata": {},
   "source": [
    "## Optical Flow Function"
   ]
  },
  {
   "cell_type": "code",
   "execution_count": 234,
   "id": "5204070f",
   "metadata": {},
   "outputs": [],
   "source": [
    "def OF(img1: torch.Tensor, img2: torch.Tensor, alpha: float = 1.0, iterations: int = 100):\n",
    "    assert img1.shape == img2.shape, \"Images must have the same shape\"\n",
    "    # Convert to grayscale to simplify optical flow calculation\n",
    "    def rgb_to_grayscale(img):\n",
    "        return 0.2989 * img[0,0, :, :] + 0.5870 * img[0,1, :, :] + 0.1140 * img[0,2, :, :]\n",
    "\n",
    "    I1 = rgb_to_grayscale(img1)\n",
    "    I2 = rgb_to_grayscale(img2)\n",
    "\n",
    "    # Initialize optical flow vectors (u for x direction, v for y direction)\n",
    "    u = torch.zeros_like(I1, requires_grad=True)\n",
    "    v = torch.zeros_like(I1, requires_grad=True)\n",
    "    \n",
    "    # Define convolution kernels for gradients\n",
    "    kernel_x = torch.tensor([[[[-1, 1], [-1, 1]]]], dtype=torch.float32)\n",
    "    kernel_y = torch.tensor([[[[-1, -1], [1, 1]]]], dtype=torch.float32)\n",
    "\n",
    "    # Compute gradients with padding that maintains the original image size\n",
    "    Ix = Fun.conv2d(I1.unsqueeze(0).unsqueeze(0), kernel_x, padding=(0, 1)).squeeze(0).squeeze(0)\n",
    "    Iy = Fun.conv2d(I1.unsqueeze(0).unsqueeze(0), kernel_y, padding=(1, 0)).squeeze(0).squeeze(0)\n",
    "    It = I2 - I1  # Temporal gradient\n",
    "\n",
    "    # Ensure all tensors have matching dimensions by cropping to the smallest dimensions\n",
    "    min_h = min(Ix.shape[-2], Iy.shape[-2], It.shape[-2], I1.shape[-2])\n",
    "    min_w = min(Ix.shape[-1], Iy.shape[-1], It.shape[-1], I1.shape[-1])\n",
    "\n",
    "    # No additional indexing needed here\n",
    "    Ix = Ix[:min_h, :min_w]\n",
    "    Iy = Iy[:min_h, :min_w]\n",
    "    It = It[:min_h, :min_w]\n",
    "    u = u[:min_h, :min_w]\n",
    "    v = v[:min_h, :min_w]\n",
    "\n",
    "    # Iteratively update the optical flow\n",
    "    for _ in range(iterations):\n",
    "        # Average flow in the neighborhood\n",
    "        u_avg = Fun.avg_pool2d(u.unsqueeze(0).unsqueeze(0), 3, stride=1, padding=1).squeeze(0).squeeze(0)\n",
    "        v_avg = Fun.avg_pool2d(v.unsqueeze(0).unsqueeze(0), 3, stride=1, padding=1).squeeze(0).squeeze(0)\n",
    "        \n",
    "        # Optical flow update step based on Horn-Schunck method\n",
    "        P = Ix * u_avg + Iy * v_avg + It\n",
    "        D = alpha ** 2 + Ix ** 2 + Iy ** 2\n",
    "        \n",
    "        u = u_avg - (Ix * P) / D\n",
    "        v = v_avg - (Iy * P) / D\n",
    "\n",
    "    # Stack u and v to form the flow tensor\n",
    "    flow = torch.stack((u, v), dim=0)\n",
    "    return flow"
   ]
  },
  {
   "cell_type": "code",
   "execution_count": 235,
   "id": "4d61c82b",
   "metadata": {},
   "outputs": [],
   "source": [
    "def frequency_loss(image1, image2):\n",
    "    # Apply 2D Fourier Transform to the images along the height and width dimensions\n",
    "    freq_image1 = torch.fft.fft2(image1*255, dim=(-2, -1))\n",
    "    freq_image2 = torch.fft.fft2(image2*255, dim=(-2, -1))\n",
    "    # Compute the magnitude of the frequencies (ignore the phase for this loss)\n",
    "    mag_image1 = torch.abs(freq_image1)\n",
    "    mag_image2 = torch.abs(freq_image2)\n",
    "    # Compute the loss between the magnitudes of the frequency components\n",
    "    loss = Fun.mse_loss(mag_image1, mag_image2)\n",
    "    return loss"
   ]
  },
  {
   "cell_type": "code",
   "execution_count": 236,
   "id": "9402f7ce",
   "metadata": {},
   "outputs": [],
   "source": [
    "def read_random_video(directory, N):\n",
    "    # Get a random video from the directory\n",
    "    videos = [f for f in os.listdir(directory) if f.endswith(('.mp4', '.avi', '.mov'))]\n",
    "    if not videos:\n",
    "        raise ValueError(\"No video files found in the directory\")\n",
    "    \n",
    "    video_path = os.path.join(directory, random.choice(videos))\n",
    "    \n",
    "    # Open the video file\n",
    "    cap = cv2.VideoCapture(video_path)\n",
    "    if not cap.isOpened():\n",
    "        raise ValueError(f\"Could not open video file {video_path}\")\n",
    "    \n",
    "    # Get total number of frames in the video\n",
    "    total_frames = int(cap.get(cv2.CAP_PROP_FRAME_COUNT))\n",
    "    \n",
    "    # Ensure N sequential frames and next N frames can be fetched\n",
    "    if total_frames < 2 * N + 1:\n",
    "        raise ValueError(f\"Video does not have enough frames for N={N} sequential frames.\")\n",
    "    \n",
    "    # Randomly select a start frame ensuring there are enough remaining frames\n",
    "    start_frame = random.randint(0, total_frames - (2 * N + 1))\n",
    "    \n",
    "    # Read the first N sequential frames\n",
    "    sequential_frames = []\n",
    "    cap.set(cv2.CAP_PROP_POS_FRAMES, start_frame)\n",
    "    for _ in range(N):\n",
    "        ret, frame = cap.read()\n",
    "        if not ret:\n",
    "            raise ValueError(\"Error reading frame from video\")\n",
    "        sequential_frames.append(frame)\n",
    "\n",
    "    # Read the next single frame\n",
    "    ret, next_frame = cap.read()\n",
    "    if not ret:\n",
    "        raise ValueError(\"Error reading next frame from video\")\n",
    "    \n",
    "    # Read the next N sequential frames after the next frame\n",
    "    next_sequential_frames = []\n",
    "    for _ in range(N):\n",
    "        ret, frame = cap.read()\n",
    "        if not ret:\n",
    "            raise ValueError(\"Error reading next sequential frame from video\")\n",
    "        next_sequential_frames.append(frame)\n",
    "    \n",
    "    # Convert lists to numpy arrays and tensors\n",
    "    sequential_frames = [np.array(frame) for frame in sequential_frames]\n",
    "    next_frame = np.array(next_frame)\n",
    "    next_sequential_frames = [np.array(frame) for frame in next_sequential_frames]\n",
    "    \n",
    "    cap.release()\n",
    "    \n",
    "    return sequential_frames, next_frame, next_sequential_frames"
   ]
  },
  {
   "cell_type": "code",
   "execution_count": 237,
   "id": "f1e08596",
   "metadata": {},
   "outputs": [],
   "source": [
    "def warp_image(img: torch.Tensor, flow: torch.Tensor) -> torch.Tensor:\n",
    "\n",
    "    # Convert image to float32 and normalize to [0.0, 1.0] if it's not already\n",
    "    if img.dtype == torch.uint8:\n",
    "        img = img.float() / 255.0\n",
    "    \n",
    "    # Image dimensions\n",
    "    B, C, H, W = img.shape  # B = 1 for this case\n",
    "    _, Hf, Wf = flow.shape  # Flow dimensions (2, Hf, Wf)\n",
    "    \n",
    "    # Crop the image and flow to the smallest common size\n",
    "    min_H = min(H, Hf)\n",
    "    min_W = min(W, Wf)\n",
    "    \n",
    "    img = img[:, :, :min_H, :min_W]  # Crop image\n",
    "    flow = flow[:, :min_H, :min_W]   # Crop flow\n",
    "    \n",
    "    # Create a meshgrid for pixel coordinates (x, y)\n",
    "    y_coords, x_coords = torch.meshgrid(torch.arange(min_H), torch.arange(min_W), indexing='ij')\n",
    "    y_coords = y_coords.to(flow.device).float()\n",
    "    x_coords = x_coords.to(flow.device).float()\n",
    "    \n",
    "    # Add flow vectors to the pixel coordinates\n",
    "    u, v = flow[0], flow[1]  # Assuming flow is of shape (2, min_H, min_W)\n",
    "    x_coords_warp = x_coords + u\n",
    "    y_coords_warp = y_coords + v\n",
    "    \n",
    "    # Normalize coordinates to [-1, 1] for grid_sample\n",
    "    x_coords_warp = 2 * (x_coords_warp / (min_W - 1)) - 1\n",
    "    y_coords_warp = 2 * (y_coords_warp / (min_H - 1)) - 1\n",
    "\n",
    "    # Stack x and y coordinates into a flow field grid\n",
    "    grid = torch.stack((x_coords_warp, y_coords_warp), dim=-1).unsqueeze(0)  # Shape (1, min_H, min_W, 2)\n",
    "\n",
    "    # Use grid_sample to warp the image\n",
    "    warped_img = Fun.grid_sample(img, grid, mode='bilinear', padding_mode='border', align_corners=True)\n",
    "\n",
    "    return warped_img"
   ]
  },
  {
   "cell_type": "markdown",
   "id": "43775d61",
   "metadata": {},
   "source": [
    "## Training Function"
   ]
  },
  {
   "cell_type": "code",
   "execution_count": 238,
   "id": "0f2ee165",
   "metadata": {},
   "outputs": [],
   "source": [
    "def train(Path, N_Samples=3, Params=None, N=1, Epochs=10, Steps=5, LR=1e-3, Size=(320,320)):\n",
    "    if Params is None:\n",
    "        C, P, F, B, K, KP, KPast, KFuture = Gen_Params(Size, N)\n",
    "    else:\n",
    "        C, P, F, B, K, KP, KPast, KFuture = Extract(Params)\n",
    "        N = len(P)\n",
    "    \n",
    "    optimizer = optim.NAdam([C, B, KP, K] + F + P + KPast + KFuture, lr=LR)\n",
    "    Loss = []  # Loss per epoch\n",
    "    LossAll = []  # Loss for each sample\n",
    "    \n",
    "    # Start time for total time estimation\n",
    "    total_steps = Epochs * N_Samples\n",
    "    step_count = 0\n",
    "    start_time = time.time()\n",
    "    \n",
    "    for epoch in range(Epochs):\n",
    "        total_loss = 0.0\n",
    "        epoch_start_time = time.time()  # Start time for the current epoch\n",
    "        \n",
    "        for sample in range(N_Samples):\n",
    "            step_count += 1  # Increment step count for time estimation\n",
    "            optimizer.zero_grad()  # Reset gradients\n",
    "            \n",
    "            past, current, future = read_random_video(Path, N)\n",
    "            Past = [Frame2Torch(p, Size, Normalize=True).float() for p in past]\n",
    "            Current = Frame2Torch(current, Size, Normalize=True).float()\n",
    "            Future = [Frame2Torch(f, Size, Normalize=True).float() for f in future]\n",
    "            Past_C = [p.clone() for p in Past]\n",
    "            Current_C = Current.clone()\n",
    "            Future_C = [f.clone() for f in Future]\n",
    "\n",
    "            x, y = random.randint(0, 4 * Current.shape[2] // 5), random.randint(0, 4 * Current.shape[3] // 5)\n",
    "            xl,yl = random.randint(x+1,x+int(Current.shape[2]*0.2)),random.randint(y+1,y+int(Current.shape[3]*0.2))\n",
    "            \n",
    "            # Apply noise\n",
    "            if random.randint(0, 100) < 75:\n",
    "                steps = random.randint(1, Steps)\n",
    "                for s in range(steps):\n",
    "                    Op = random.randint(0, 8)\n",
    "                    Current_C = AddOneInc1(Current_C,Op,x,y,xl,yl)\n",
    "\n",
    "            for n in range(len(Past_C)):\n",
    "                if random.randint(0, 100) < 20 :\n",
    "                    steps = random.randint(1, Steps)\n",
    "                    for s in range(steps):\n",
    "                        Op = random.randint(0, 8)\n",
    "                        Past_C[n] = AddOneInc1(Past_C[n],Op,x,y,xl,yl)\n",
    "\n",
    "            for n in range(len(Future_C)):\n",
    "                if random.randint(0, 100) < 20:\n",
    "                    steps = random.randint(1, Steps)\n",
    "                    for s in range(steps):\n",
    "                        Op = random.randint(0, 8)\n",
    "                        Future_C[n] = AddOneInc1(Future_C[n],Op,x,y,xl,yl)\n",
    "\n",
    "            # Forward pass\n",
    "            Pred = ObjFun(Current_C, Past_C, Future_C, C, P, F, B, K, KP, KPast, KFuture)\n",
    "            k = torch.tensor([[[[0, -1, 0], [-1, 4, -1], [0, -1, 0]]]*3]*3, dtype=torch.float32)\n",
    "            ed = Fun.conv2d(Current, k, stride=1, padding=1)\n",
    "            edPred = Fun.conv2d(Pred, k, stride=1, padding=1)\n",
    "\n",
    "            # Compute losses\n",
    "            freq_loss = frequency_loss(Pred,Current)\n",
    "            #flow_loss_past = Fun.mse_loss(OF(Past[-1] * 255, Current * 255), OF(Past[-1] * 255, Pred * 255))\n",
    "            #flow_loss_future = Fun.mse_loss(OF(Current * 255, Future[-1] * 255), OF(Pred * 255, Future[-1] * 255))\n",
    "            edge_loss = Fun.mse_loss(edPred * 255, ed)\n",
    "            reconstruction_loss = Fun.mse_loss(Pred * 255, Current * 255)\n",
    "            loss = reconstruction_loss + edge_loss + freq_loss#+ flow_loss_past + flow_loss_future\n",
    "            # Backpropagation\n",
    "            loss.backward()\n",
    "            optimizer.step()\n",
    "\n",
    "            # Append sample loss\n",
    "            LossAll.append(loss.item())\n",
    "            total_loss += loss.item()\n",
    "\n",
    "            # Sample-wise time estimation\n",
    "            current_time = time.time()\n",
    "            elapsed_time = current_time - start_time\n",
    "            avg_time_per_step = elapsed_time / step_count\n",
    "            estimated_remaining_time = avg_time_per_step * (total_steps - step_count)\n",
    "            hrs = int(estimated_remaining_time // 3600)\n",
    "            mins = int((estimated_remaining_time % 3600) // 60)\n",
    "            secs = int(estimated_remaining_time % 60)\n",
    "            \n",
    "            cv2.imshow('Inconsistent',Frame2Numpy(Current_C,(current.shape[1],current.shape[0]),Denormalize=True))\n",
    "            cv2.imshow('Predicted',Frame2Numpy(Pred,(current.shape[1],current.shape[0]),Denormalize=True))\n",
    "            cv2.waitKey(1)\n",
    "\n",
    "            # Display sample loss and time estimation\n",
    "            print(f'Epoch[{epoch+1}/{Epochs}] Sample[{sample+1}/{N_Samples}]'\n",
    "                  f' Loss: {loss.item():.6f} Time Remaining: {hrs:02}:{mins:02}:{secs:02}', end='\\r')\n",
    "\n",
    "        # End of epoch: print the total loss for the epoch\n",
    "        avg_epoch_loss = total_loss / N_Samples\n",
    "        Loss.append(avg_epoch_loss)\n",
    "        print(f'\\nEpoch [{epoch+1}/{Epochs}], Average Loss: {avg_epoch_loss:.6f}')\n",
    "\n",
    "        # Update parameters based on loss\n",
    "        if epoch > 1 and Loss[-1] < Loss[-2]:\n",
    "            Par = {'C': C, 'P': P, 'F': F, 'B': B, 'K': K, 'KP': KP, 'KPast': KPast, 'KFuture': KFuture}\n",
    "        elif epoch > 1 and Loss[-1] > Loss[-2]:\n",
    "            C, P, F, B, K, KP, KPast, KFuture = Extract(Par)\n",
    "        elif epoch <= 1:\n",
    "            Par = {'C': C, 'P': P, 'F': F, 'B': B, 'K': K, 'KP': KP, 'KPast': KPast, 'KFuture': KFuture}\n",
    "    \n",
    "    cv2.destroyAllWindows()\n",
    "    return Par, Loss, LossAll\n"
   ]
  },
  {
   "cell_type": "markdown",
   "id": "c3f575fc",
   "metadata": {},
   "source": [
    "## Load Parameters"
   ]
  },
  {
   "cell_type": "code",
   "execution_count": 239,
   "id": "4ae5eeab",
   "metadata": {},
   "outputs": [],
   "source": [
    "Parameters = None#torch.load(\"NewModelParamsS.pth\")"
   ]
  },
  {
   "cell_type": "markdown",
   "id": "248560cb",
   "metadata": {},
   "source": [
    "## Training"
   ]
  },
  {
   "cell_type": "code",
   "execution_count": 240,
   "id": "a99edcba",
   "metadata": {},
   "outputs": [],
   "source": [
    "cv2.destroyAllWindows()"
   ]
  },
  {
   "cell_type": "code",
   "execution_count": null,
   "id": "a6a063eb",
   "metadata": {
    "scrolled": false
   },
   "outputs": [
    {
     "name": "stdout",
     "output_type": "stream",
     "text": [
      "Epoch[1/20] Sample[200/200] Loss: 11240033.000000 Time Remaining: 00:14:47\n",
      "Epoch [1/20], Average Loss: 15520868.710938\n",
      "Epoch[2/20] Sample[200/200] Loss: 1885079.375000 Time Remaining: 00:14:166\n",
      "Epoch [2/20], Average Loss: 7843252.778437\n",
      "Epoch[3/20] Sample[200/200] Loss: 7035667.000000 Time Remaining: 00:12:545\n",
      "Epoch [3/20], Average Loss: 5850186.744844\n",
      "Epoch[4/20] Sample[200/200] Loss: 1370909.250000 Time Remaining: 00:11:499\n",
      "Epoch [4/20], Average Loss: 6485557.178359\n",
      "Epoch[5/20] Sample[155/200] Loss: 1463291.875000 Time Remaining: 00:11:1445\r"
     ]
    }
   ],
   "source": [
    "Parameters,l,la = train('VDB',N_Samples=200,Params=Parameters,N=10,Epochs=20,Steps=10,LR=1e-3,Size=(100,100))"
   ]
  },
  {
   "cell_type": "markdown",
   "id": "5363eff2",
   "metadata": {},
   "source": [
    "## Save Parameters"
   ]
  },
  {
   "cell_type": "code",
   "execution_count": 36,
   "id": "6d328f2a",
   "metadata": {},
   "outputs": [],
   "source": [
    "torch.save(Parameters,\"NewModelParams.pth\")\n",
    "Parameters = torch.load(\"NewModelParams.pth\")\n",
    "18155.915842"
   ]
  },
  {
   "cell_type": "markdown",
   "id": "4b014f7a",
   "metadata": {},
   "source": [
    "## Plot Epoch's Loss"
   ]
  },
  {
   "cell_type": "code",
   "execution_count": 242,
   "id": "5177d16a",
   "metadata": {},
   "outputs": [
    {
     "data": {
      "image/png": "[encoded data removed]",
      "text/plain": [
       "<Figure size 432x288 with 1 Axes>"
      ]
     },
     "metadata": {
      "needs_background": "light"
     },
     "output_type": "display_data"
    }
   ],
   "source": [
    "plt.plot(l)\n",
    "plt.yscale('log')"
   ]
  },
  {
   "cell_type": "markdown",
   "id": "9d05faea",
   "metadata": {},
   "source": [
    "## Plot Frames Loss"
   ]
  },
  {
   "cell_type": "code",
   "execution_count": 243,
   "id": "578e4012",
   "metadata": {},
   "outputs": [
    {
     "data": {
      "image/png": "[encoded data removed]",
      "text/plain": [
       "<Figure size 432x288 with 1 Axes>"
      ]
     },
     "metadata": {
      "needs_background": "light"
     },
     "output_type": "display_data"
    }
   ],
   "source": [
    "r = 1\n",
    "plt.plot([sum(la[i:i+r])/r for i in range(0,len(la),r)])\n",
    "plt.yscale('log')"
   ]
  },
  {
   "cell_type": "markdown",
   "id": "2e50e38b",
   "metadata": {},
   "source": [
    "## Prediction"
   ]
  },
  {
   "cell_type": "code",
   "execution_count": null,
   "id": "aa0589b9",
   "metadata": {},
   "outputs": [],
   "source": [
    "Parameters = torch.load(\"NewModelParams.pth\")\n",
    "cap = open_vid(\"VDB/G.mp4\")\n",
    "Video = get_frames(cap)"
   ]
  },
  {
   "cell_type": "code",
   "execution_count": null,
   "id": "32af9073",
   "metadata": {},
   "outputs": [],
   "source": [
    "for _ in range(5):\n",
    "    Video[3] = Frame2Numpy(AddOneInc1(Frame2Torch(Video[3],Normalize=True)),Denormalize=True)"
   ]
  },
  {
   "cell_type": "code",
   "execution_count": null,
   "id": "0ada170c",
   "metadata": {},
   "outputs": [],
   "source": [
    "ThroughFrames(Video)"
   ]
  },
  {
   "cell_type": "code",
   "execution_count": null,
   "id": "e4c8dea6",
   "metadata": {},
   "outputs": [],
   "source": [
    "def GenerateFrames(frames, Params):\n",
    "    C, P, F, B, KP = Extract(Params)\n",
    "    N = len(P)\n",
    "    Size = (320,320)\n",
    "    generated_frames = []\n",
    "    H,W = frames[0].shape[0],frames[0].shape[1]\n",
    "    # Convert frames to Torch tensors, process them, and convert back to NumPy arrays\n",
    "    for i in range(len(frames) - 2 * N):\n",
    "        first, current, last = i, i + N // 2, i + N\n",
    "        \n",
    "        # Convert the current frame and surrounding frames to tensors\n",
    "        current_frame_tensor = Frame2Torch(frames[current], Size,True)\n",
    "        past_frames_tensors = [Frame2Torch(frames[first + j], Size,True) for j in range(N)]\n",
    "        future_frames_tensors = [Frame2Torch(frames[current + 1 + j], Size,True) for j in range(N)]\n",
    "        \n",
    "        # Perform the forward pass to generate the new frame\n",
    "        Pred = ObjFun(current_frame_tensor, past_frames_tensors, future_frames_tensors, C, P, F, B, KP)\n",
    "        \n",
    "        # Convert the predicted frame back to a NumPy array\n",
    "        generated_frame = Frame2Numpy(Pred,Size=(W,H),Denormalize=True)\n",
    "        generated_frames.append(generated_frame)\n",
    "        \n",
    "    return generated_frames"
   ]
  },
  {
   "cell_type": "code",
   "execution_count": null,
   "id": "c3a82990",
   "metadata": {},
   "outputs": [],
   "source": [
    "PRED = GenerateFrames(Video[:20],Parameters)"
   ]
  },
  {
   "cell_type": "code",
   "execution_count": null,
   "id": "77d9907a",
   "metadata": {},
   "outputs": [],
   "source": [
    "ThroughFrames(PRED)"
   ]
  },
  {
   "cell_type": "code",
   "execution_count": null,
   "id": "8438e0a6",
   "metadata": {},
   "outputs": [],
   "source": []
  }
 ],
 "metadata": {
  "kernelspec": {
   "display_name": "Python 3",
   "language": "python",
   "name": "python3"
  },
  "language_info": {
   "codemirror_mode": {
    "name": "ipython",
    "version": 3
   },
   "file_extension": ".py",
   "mimetype": "text/x-python",
   "name": "python",
   "nbconvert_exporter": "python",
   "pygments_lexer": "ipython3",
   "version": "3.7.6"
  }
 },
 "nbformat": 4,
 "nbformat_minor": 5
}
