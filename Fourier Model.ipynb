{
 "cells": [
  {
   "cell_type": "code",
   "execution_count": 225,
   "id": "a0170a2f",
   "metadata": {},
   "outputs": [],
   "source": [
    "import import_ipynb\n",
    "from Functions import *\n",
    "import torch.nn.functional as Fun\n",
    "import torch\n",
    "from torch import optim\n",
    "import matplotlib.pyplot as plt\n",
    "import time"
   ]
  },
  {
   "cell_type": "code",
   "execution_count": 226,
   "id": "cd43d98c",
   "metadata": {},
   "outputs": [],
   "source": [
    "def Extract(Params):\n",
    "    C = Params['C']\n",
    "    P = Params['P']\n",
    "    F = Params['F']\n",
    "    B = Params['B']\n",
    "    WPP = Params['WPP']\n",
    "    WPF = Params['WPF']\n",
    "    K = Params['K']\n",
    "    KP = Params['KP']\n",
    "    KPast = Params['KPast']\n",
    "    KFuture = Params['KFuture']\n",
    "    return C,P,F,B,K,KP,KPast,KFuture,WPP,WPF"
   ]
  },
  {
   "cell_type": "markdown",
   "id": "66bb6e6a",
   "metadata": {},
   "source": [
    "## Generate Random Values for Parameters"
   ]
  },
  {
   "cell_type": "code",
   "execution_count": 227,
   "id": "cd1751bd",
   "metadata": {},
   "outputs": [],
   "source": [
    "def Gen_Params(Size,N):\n",
    "    C = torch.rand((1,3,Size[0],Size[1]),requires_grad=True)\n",
    "    P = [torch.rand((1,3,Size[0],Size[1]),requires_grad=True) for _ in range(N)]\n",
    "    F = [torch.rand((1,3,Size[0],Size[1]),requires_grad=True) for _ in range(N)]\n",
    "    B = torch.rand((1,3,Size[0],Size[1]),requires_grad=True)\n",
    "    K = torch.rand((3,3,3,3),requires_grad=True)\n",
    "    KP = torch.rand((3,3,3,3),requires_grad=True)\n",
    "    KPast = [torch.rand((3,3,3,3),requires_grad=True) for _ in range(N)]\n",
    "    KFuture = [torch.rand((3,3,3,3),requires_grad=True) for _ in range(N)]\n",
    "    WPP = [torch.rand((1,3,Size[0],Size[1]),requires_grad=True) for _ in range(N)]\n",
    "    WPF = [torch.rand((1,3,Size[0],Size[1]),requires_grad=True) for _ in range(N)]\n",
    "    return C,P,F,B,K,KP,KPast,KFuture,WPP,WPF"
   ]
  },
  {
   "cell_type": "markdown",
   "id": "ae39c053",
   "metadata": {},
   "source": [
    "## Objective Function"
   ]
  },
  {
   "cell_type": "markdown",
   "id": "0b117370",
   "metadata": {},
   "source": [
    "$$F(I,P,F,M_{Current},M_{PastFreq},M_{FutureFreq},M_{Bias}) = \\sqrt{IFT\\left(M_{Current}*FT(I)+M_{Bias}+\\sum^N_{i=0} M_{PastFreq}[i]*FT(P[i])+M_{FutureFreq}[i]*FT(F[i])\\right)^2}$$<br>\n",
    "Where $F$ is the function that generates the new frame, $I$ is the current frame in the video, $P$ and $F$ are lists of past and future frames respectively of size $N$, $M_{Current}$ is a mask of weights for the pixel frequencies in $I$, $M_{PastFreq}$ and $M_{FutureFreq}$ are lists of weight masks for the pixel frequencies in for each frame of $P$ and $F$ respectively, and $M_{Bias}$ is a mask of the bias for the frequencies.<br>\n",
    "$FT()$ is the Fourier Transform and $IFT()$ is the Inverse Fourier Transform. "
   ]
  },
  {
   "cell_type": "code",
   "execution_count": 228,
   "id": "dcd16ae9",
   "metadata": {},
   "outputs": [],
   "source": [
    "def ObjFun(Current,Past,Future,C,P,F,B,K,KP,KPast,KFuture,WPP,WPF):\n",
    "    currentF = torch.fft.fft2(Current)\n",
    "    pastF = [torch.fft.fft2(p) for p in Past]\n",
    "    futureF = [torch.fft.fft2(f) for f in Future]\n",
    "    \n",
    "    sumF = C*currentF\n",
    "    \n",
    "    for pf,p in zip(pastF,P):\n",
    "        sumF = sumF + pf*p\n",
    "        \n",
    "    for ff,f in zip(futureF,F):\n",
    "        sumF = sumF + ff*f\n",
    "        \n",
    "    sumF = sumF + B\n",
    "    \n",
    "    #for pf,wp in zip(pastF,WPP):\n",
    "     #   sumF = sumF + pf*currentF*wp\n",
    "    \n",
    "    #for ff,wf in zip(futureF,WPF):\n",
    "     #   sumF = sumF + ff*currentF*wf\n",
    "    \n",
    "    SumP = torch.fft.ifft2(sumF)\n",
    "    Pred = torch.sqrt(SumP**2).real\n",
    "    #Pred = Fun.relu(Fun.conv2d(SumP,KP,stride=1,padding=1))\n",
    "    #Pred = Fun.relu(Fun.conv2d(Current,K,stride=1,padding=1)) #+ Pred\n",
    "    #for kp,p in zip(KPast,Past):\n",
    "     #   Pred = Pred + Fun.relu(Fun.conv2d(p,kp,stride=1,padding=1))\n",
    "    #for kf,f in zip(KFuture,Future):\n",
    "     #   Pred = Pred + Fun.relu(Fun.conv2d(f,kf,stride=1,padding=1))\n",
    "    \n",
    "    return Pred"
   ]
  },
  {
   "cell_type": "markdown",
   "id": "dd9e2d80",
   "metadata": {},
   "source": [
    "## Draw Inconsistencies and noise to frame"
   ]
  },
  {
   "cell_type": "code",
   "execution_count": 229,
   "id": "286ad7e3",
   "metadata": {},
   "outputs": [],
   "source": [
    "def AddOneInc1(F,Op,x,y,xl,yl):\n",
    "    if isinstance(F, torch.Tensor):\n",
    "        # Convert to NumPy Array\n",
    "        F = F.squeeze(0).permute(1, 2, 0).cpu().numpy() * 255\n",
    "    # Copy of original array\n",
    "    I = F.astype(np.uint8).copy()\n",
    "    # Random location\n",
    "    #x, y = random.randint(0, 4 * I.shape[0] // 5), random.randint(0, 4 * I.shape[1] // 5)\n",
    "    # Random size\n",
    "    #xl,yl = random.randint(x+1,x+int(F.shape[1]*0.2)),random.randint(y+1,y+int(F.shape[0]*0.2))\n",
    "    # Random option\n",
    "    #Op = random.randint(0, 8)\n",
    "    if Op == 0: #Draw square with changes color ranges\n",
    "        I[x:xl, y:yl] = change_range_colors(I[x:xl,y:yl], (random.randint(30, 140), random.randint(30, 140), random.randint(30, 140)), (random.randint(150, 255), random.randint(150, 255), random.randint(150, 255)))\n",
    "    elif Op == 1: #Draw square with random color\n",
    "        R, G, B = random.randint(0, 255), random.randint(0, 255), random.randint(0, 255)\n",
    "        I[x:xl,y:yl] = change_range_colors(I[x:xl,y:yl], (R, G, B), (R, G, B))\n",
    "    elif Op == 2: #Draw line with random color\n",
    "        Thick = random.randint(1, 10)\n",
    "        l2 = random.randint(5, I.shape[1]//10)\n",
    "        I = cv2.line(I, (x, y), (xl,yl), (random.randint(0, 255), random.randint(0, 255), random.randint(0, 255)), Thick)\n",
    "    elif Op == 3: #Draw black line\n",
    "        Thick = random.randint(1, 5)\n",
    "        l2 = random.randint(5, I.shape[1]//10)\n",
    "        I = cv2.line(I, (x, y), (xl, yl), (0, 0, 0), Thick)  \n",
    "    elif Op == 4: #Add a square of noise\n",
    "        I[x:xl,y:yl] = I[x:xl,y:yl] + np.random.random_integers(-10,10,I[x:xl,y:yl].shape)\n",
    "    elif Op == 5: #Convolution with a random kernel\n",
    "        kernel = np.random.rand(3,3)\n",
    "        I[x:xl,y:yl] = cv2.filter2D(I[x:xl,y:yl],-1,kernel)\n",
    "    elif Op == 6:\n",
    "        I[x:xl,y:yl] = img_deformation(I[x:xl,y:yl],random.randint(10,50),random.randint(10,100))\n",
    "    else:# Op == 7:\n",
    "        I[x:xl,y:yl] = random_point_warp(I[x:xl,y:yl],random.randint(1,5))\n",
    "    #else:\n",
    "         #I[x:xl,y:yl] = random_PRR(I[x:xl,y:yl])\n",
    "    # Convert back to tensor\n",
    "    I_tensor = torch.tensor(I,dtype=torch.float32).permute(2, 0, 1).unsqueeze(0)/255.0\n",
    "    return I_tensor"
   ]
  },
  {
   "cell_type": "markdown",
   "id": "aeed41b1",
   "metadata": {},
   "source": [
    "## Optical Flow Function"
   ]
  },
  {
   "cell_type": "code",
   "execution_count": 230,
   "id": "63a38df7",
   "metadata": {},
   "outputs": [],
   "source": [
    "def OF(img1: torch.Tensor, img2: torch.Tensor, alpha: float = 1.0, iterations: int = 100, kernel_size: int = 2):\n",
    "    assert img1.shape == img2.shape, \"Images must have the same shape\"\n",
    "    \n",
    "    # Convert to grayscale to simplify optical flow calculation\n",
    "    def rgb_to_grayscale(img):\n",
    "        return 0.2989 * img[0,0, :, :] + 0.5870 * img[0,1, :, :] + 0.1140 * img[0,2, :, :]\n",
    "    \n",
    "    I1 = rgb_to_grayscale(img1)\n",
    "    I2 = rgb_to_grayscale(img2)\n",
    "    \n",
    "    # Initialize optical flow vectors (u for x direction, v for y direction)\n",
    "    u = torch.zeros_like(I1, requires_grad=True)\n",
    "    v = torch.zeros_like(I1, requires_grad=True)\n",
    "    \n",
    "    # Define convolution kernels for gradients\n",
    "    kernel_x = torch.ones((1, 1, kernel_size, kernel_size), dtype=torch.float32)\n",
    "    kernel_x[0, 0, :, :kernel_size//2] = -1  # Set left half to -1\n",
    "    kernel_y = kernel_x.transpose(2, 3)  # Transpose for y-direction\n",
    "\n",
    "    # Compute gradients with consistent padding\n",
    "    Ix = Fun.conv2d(I1.unsqueeze(0).unsqueeze(0), kernel_x, padding=kernel_size//2).squeeze(0).squeeze(0)\n",
    "    Iy = Fun.conv2d(I1.unsqueeze(0).unsqueeze(0), kernel_y, padding=kernel_size//2).squeeze(0).squeeze(0)\n",
    "    It = I2 - I1  # Temporal gradient\n",
    "\n",
    "    # Ensure all tensors have matching dimensions by cropping to the smallest dimensions\n",
    "    min_h = min(Ix.shape[-2], Iy.shape[-2], It.shape[-2], I1.shape[-2])\n",
    "    min_w = min(Ix.shape[-1], Iy.shape[-1], It.shape[-1], I1.shape[-1])\n",
    "    Ix, Iy, It = Ix[:min_h, :min_w], Iy[:min_h, :min_w], It[:min_h, :min_w]\n",
    "    u, v = u[:min_h, :min_w], v[:min_h, :min_w]\n",
    "    \n",
    "    # Iteratively update the optical flow\n",
    "    for _ in range(iterations):\n",
    "        # Average flow in the neighborhood using the specified kernel size\n",
    "        u_avg = Fun.avg_pool2d(u.unsqueeze(0).unsqueeze(0), kernel_size, stride=1, padding=kernel_size//2).squeeze(0).squeeze(0)\n",
    "        v_avg = Fun.avg_pool2d(v.unsqueeze(0).unsqueeze(0), kernel_size, stride=1, padding=kernel_size//2).squeeze(0).squeeze(0)\n",
    "        \n",
    "        # Ensure u_avg and v_avg are also cropped to the smallest dimensions\n",
    "        u_avg, v_avg = u_avg[:min_h, :min_w], v_avg[:min_h, :min_w]\n",
    "        \n",
    "        # Optical flow update step based on Horn-Schunck method\n",
    "        P = Ix * u_avg + Iy * v_avg + It\n",
    "        D = alpha ** 2 + Ix ** 2 + Iy ** 2\n",
    "        \n",
    "        u = u_avg - (Ix * P) / D\n",
    "        v = v_avg - (Iy * P) / D\n",
    "\n",
    "    # Stack u and v to form the flow tensor\n",
    "    flow = torch.stack((u, v), dim=0)\n",
    "    return flow\n"
   ]
  },
  {
   "cell_type": "code",
   "execution_count": 231,
   "id": "85fab976",
   "metadata": {},
   "outputs": [],
   "source": [
    "def frequency_loss(image1, image2):\n",
    "    # Apply 2D Fourier Transform to the images along the height and width dimensions\n",
    "    freq_image1 = torch.fft.fft2(image1*255, dim=(-2, -1))\n",
    "    freq_image2 = torch.fft.fft2(image2*255, dim=(-2, -1))\n",
    "    # Compute the magnitude of the frequencies (ignore the phase for this loss)\n",
    "    mag_image1 = torch.abs(freq_image1)\n",
    "    mag_image2 = torch.abs(freq_image2)\n",
    "    # Compute the loss between the magnitudes of the frequency components\n",
    "    loss = Fun.mse_loss(mag_image1, mag_image2)\n",
    "    return loss"
   ]
  },
  {
   "cell_type": "code",
   "execution_count": 232,
   "id": "dd6895a2",
   "metadata": {},
   "outputs": [],
   "source": [
    "def read_random_video(directory, N):\n",
    "    # Get a random video from the directory\n",
    "    videos = [f for f in os.listdir(directory) if f.endswith(('.mp4', '.avi', '.mov'))]\n",
    "    if not videos:\n",
    "        raise ValueError(\"No video files found in the directory\")\n",
    "    \n",
    "    video_path = os.path.join(directory, random.choice(videos))\n",
    "    \n",
    "    # Open the video file\n",
    "    cap = cv2.VideoCapture(video_path)\n",
    "    if not cap.isOpened():\n",
    "        raise ValueError(f\"Could not open video file {video_path}\")\n",
    "    \n",
    "    # Get total number of frames in the video\n",
    "    total_frames = int(cap.get(cv2.CAP_PROP_FRAME_COUNT))\n",
    "    \n",
    "    # Ensure N sequential frames and next N frames can be fetched\n",
    "    if total_frames < 2 * N + 1:\n",
    "        raise ValueError(f\"Video does not have enough frames for N={N} sequential frames.\")\n",
    "    \n",
    "    # Randomly select a start frame ensuring there are enough remaining frames\n",
    "    start_frame = random.randint(0, total_frames - (2 * N + 1))\n",
    "    \n",
    "    # Read the first N sequential frames\n",
    "    sequential_frames = []\n",
    "    cap.set(cv2.CAP_PROP_POS_FRAMES, start_frame)\n",
    "    for _ in range(N):\n",
    "        ret, frame = cap.read()\n",
    "        if not ret:\n",
    "            raise ValueError(\"Error reading frame from video\")\n",
    "        sequential_frames.append(frame)\n",
    "\n",
    "    # Read the next single frame\n",
    "    ret, next_frame = cap.read()\n",
    "    if not ret:\n",
    "        raise ValueError(\"Error reading next frame from video\")\n",
    "    \n",
    "    # Read the next N sequential frames after the next frame\n",
    "    next_sequential_frames = []\n",
    "    for _ in range(N):\n",
    "        ret, frame = cap.read()\n",
    "        if not ret:\n",
    "            raise ValueError(\"Error reading next sequential frame from video\")\n",
    "        next_sequential_frames.append(frame)\n",
    "    \n",
    "    # Convert lists to numpy arrays and tensors\n",
    "    sequential_frames = [np.array(frame) for frame in sequential_frames]\n",
    "    next_frame = np.array(next_frame)\n",
    "    next_sequential_frames = [np.array(frame) for frame in next_sequential_frames]\n",
    "    \n",
    "    cap.release()\n",
    "    \n",
    "    return sequential_frames, next_frame, next_sequential_frames"
   ]
  },
  {
   "cell_type": "code",
   "execution_count": 233,
   "id": "e92fffe6",
   "metadata": {},
   "outputs": [],
   "source": [
    "def warp_image(img: torch.Tensor, flow: torch.Tensor) -> torch.Tensor:\n",
    "\n",
    "    # Convert image to float32 and normalize to [0.0, 1.0] if it's not already\n",
    "    if img.dtype == torch.uint8:\n",
    "        img = img.float() / 255.0\n",
    "    \n",
    "    # Image dimensions\n",
    "    B, C, H, W = img.shape  # B = 1 for this case\n",
    "    _, Hf, Wf = flow.shape  # Flow dimensions (2, Hf, Wf)\n",
    "    \n",
    "    # Crop the image and flow to the smallest common size\n",
    "    min_H = min(H, Hf)\n",
    "    min_W = min(W, Wf)\n",
    "    \n",
    "    img = img[:, :, :min_H, :min_W]  # Crop image\n",
    "    flow = flow[:, :min_H, :min_W]   # Crop flow\n",
    "    \n",
    "    # Create a meshgrid for pixel coordinates (x, y)\n",
    "    y_coords, x_coords = torch.meshgrid(torch.arange(min_H), torch.arange(min_W), indexing='ij')\n",
    "    y_coords = y_coords.to(flow.device).float()\n",
    "    x_coords = x_coords.to(flow.device).float()\n",
    "    \n",
    "    # Add flow vectors to the pixel coordinates\n",
    "    u, v = flow[0], flow[1]  # Assuming flow is of shape (2, min_H, min_W)\n",
    "    x_coords_warp = x_coords + u\n",
    "    y_coords_warp = y_coords + v\n",
    "    \n",
    "    # Normalize coordinates to [-1, 1] for grid_sample\n",
    "    x_coords_warp = 2 * (x_coords_warp / (min_W - 1)) - 1\n",
    "    y_coords_warp = 2 * (y_coords_warp / (min_H - 1)) - 1\n",
    "\n",
    "    # Stack x and y coordinates into a flow field grid\n",
    "    grid = torch.stack((x_coords_warp, y_coords_warp), dim=-1).unsqueeze(0)  # Shape (1, min_H, min_W, 2)\n",
    "\n",
    "    # Use grid_sample to warp the image\n",
    "    warped_img = Fun.grid_sample(img, grid, mode='bilinear', padding_mode='border', align_corners=True)\n",
    "\n",
    "    return warped_img"
   ]
  },
  {
   "cell_type": "markdown",
   "id": "7cf115c7",
   "metadata": {},
   "source": [
    "## Training Function"
   ]
  },
  {
   "cell_type": "code",
   "execution_count": 234,
   "id": "01ebf51d",
   "metadata": {},
   "outputs": [],
   "source": [
    "def train(Path, N_Samples=3, Params=None, N=1, Epochs=10, Steps=5, LR=1e-3, Size=(320,320)):\n",
    "    if Params is None:\n",
    "        C, P, F, B, K, KP, KPast, KFuture, WPP, WPF = Gen_Params(Size, N)\n",
    "    else:\n",
    "        C, P, F, B, K, KP, KPast, KFuture, WPP, WPF = Extract(Params)\n",
    "        N = len(P)\n",
    "    \n",
    "    L_Min = 1e20\n",
    "    Loss = []  # Loss per epoch\n",
    "    LossAll = []  # Loss for each sample\n",
    "    \n",
    "    # Start time for total time estimation\n",
    "    total_steps = Epochs * N_Samples\n",
    "    step_count = 0\n",
    "    start_time = time.time()\n",
    "    \n",
    "    for epoch in range(Epochs):\n",
    "        optimizer = optim.NAdam([C, B, KP, K] + F + P + KPast + KFuture + WPP + WPF, lr=LR)\n",
    "        total_loss = 0.0\n",
    "        epoch_start_time = time.time()  # Start time for the current epoch\n",
    "        \n",
    "        for sample in range(N_Samples):\n",
    "            step_count += 1  # Increment step count for time estimation\n",
    "            optimizer.zero_grad()  # Reset gradients\n",
    "            \n",
    "            past, current, future = read_random_video(Path, N)\n",
    "            Past = [Frame2Torch(p, Size, Normalize=True).float() for p in past]\n",
    "            Current = Frame2Torch(current, Size, Normalize=True).float()\n",
    "            Future = [Frame2Torch(f, Size, Normalize=True).float() for f in future]\n",
    "            Past_C = [p.clone() for p in Past]\n",
    "            Current_C = Current.clone()\n",
    "            Future_C = [f.clone() for f in Future]\n",
    "\n",
    "            x, y = random.randint(0, 4 * Current.shape[2] // 5), random.randint(0, 4 * Current.shape[3] // 5)\n",
    "            xl,yl = random.randint(x+1,x+int(Current.shape[2]*0.2)),random.randint(y+1,y+int(Current.shape[3]*0.2))\n",
    "            \n",
    "            # Apply noise\n",
    "            if random.randint(0, 100) < 75:\n",
    "                steps = random.randint(1, Steps)\n",
    "                for s in range(steps):\n",
    "                    Op = random.randint(0, 8)\n",
    "                    Current_C = AddOneInc1(Current_C,Op,x,y,xl,yl)\n",
    "\n",
    "                for n in range(len(Past_C)):\n",
    "                    if random.randint(0, 100) < 30 :\n",
    "                        steps = random.randint(1, Steps)\n",
    "                        for s in range(steps):\n",
    "                            Op = random.randint(0, 8)\n",
    "                            Past_C[n] = AddOneInc1(Past_C[n],Op,x,y,xl,yl)\n",
    "\n",
    "                for n in range(len(Future_C)):\n",
    "                    if random.randint(0, 100) < 30:\n",
    "                        steps = random.randint(1, Steps)\n",
    "                        for s in range(steps):\n",
    "                            Op = random.randint(0, 8)\n",
    "                            Future_C[n] = AddOneInc1(Future_C[n],Op,x,y,xl,yl)\n",
    "\n",
    "            # Forward pass\n",
    "            Pred = ObjFun(Current_C, Past_C, Future_C, C, P, F, B, K, KP, KPast, KFuture,WPP, WPF)\n",
    "            k = torch.tensor([[[[0, -1, 0], [-1, 4, -1], [0, -1, 0]]]*3]*3, dtype=torch.float32)\n",
    "            ed = Fun.conv2d(Current, k, stride=1, padding=1)\n",
    "            edPred = Fun.conv2d(Pred, k, stride=1, padding=1)\n",
    "\n",
    "            # Compute losses\n",
    "            freq_loss = frequency_loss(Pred,Current)\n",
    "            flow_loss_past = Fun.mse_loss(OF(Past[-1] * 255, Current * 255,kernel_size=4), OF(Past[-1] * 255, Pred * 255,kernel_size=4))\n",
    "            flow_loss_future = Fun.mse_loss(OF(Current * 255, Future[-1] * 255,kernel_size=4), OF(Pred * 255, Future[-1] * 255,kernel_size=4))\n",
    "            edge_loss = Fun.mse_loss(edPred * 255, ed)\n",
    "            reconstruction_loss = Fun.mse_loss(Pred * 255, Current * 255)\n",
    "            loss = reconstruction_loss + edge_loss + freq_loss+ flow_loss_past + flow_loss_future\n",
    "            # Backpropagation\n",
    "            loss.backward()\n",
    "            optimizer.step()\n",
    "\n",
    "            # Append sample loss\n",
    "            LossAll.append(loss.item())\n",
    "            total_loss += loss.item()\n",
    "\n",
    "            # Sample-wise time estimation\n",
    "            current_time = time.time()\n",
    "            elapsed_time = current_time - start_time\n",
    "            avg_time_per_step = elapsed_time / step_count\n",
    "            estimated_remaining_time = avg_time_per_step * (total_steps - step_count)\n",
    "            hrs = int(estimated_remaining_time // 3600)\n",
    "            mins = int((estimated_remaining_time % 3600) // 60)\n",
    "            secs = int(estimated_remaining_time % 60)\n",
    "            \n",
    "            cv2.imshow('Inconsistent',Frame2Numpy(Current_C,(current.shape[1],current.shape[0]),Denormalize=True))\n",
    "            cv2.imshow('Predicted',Frame2Numpy(Pred,(current.shape[1],current.shape[0]),Denormalize=True))\n",
    "            cv2.waitKey(1)\n",
    "\n",
    "            # Display sample loss and time estimation\n",
    "            print(f'Epoch[{epoch+1}/{Epochs}] Sample[{sample+1}/{N_Samples}]'\n",
    "                  f' Loss: {loss.item():.6f} Time Remaining: {hrs:02}:{mins:02}:{secs:02}', end='\\r')\n",
    "\n",
    "        # End of epoch: print the total loss for the epoch\n",
    "        avg_epoch_loss = total_loss / N_Samples\n",
    "        Loss.append(avg_epoch_loss)\n",
    "        print(f'\\nEpoch [{epoch+1}/{Epochs}], Average Loss: {avg_epoch_loss:.6f}')\n",
    "\n",
    "        # Update parameters based on loss\n",
    "        if Loss[-1] < L_Min:\n",
    "            Par = {'C': C, 'P': P, 'F': F, 'B': B, 'K': K, 'KP': KP, 'KPast': KPast, 'KFuture': KFuture,'WPP':WPP,'WPF':WPF}\n",
    "            L_Min = Loss[-1]\n",
    "            print('-',LR)\n",
    "        else:\n",
    "            C, P, F, B, K, KP, KPast, KFuture,WPP,WPF = Extract(Par)\n",
    "            print('+',LR)\n",
    "        \n",
    "        LR = LR*0.9\n",
    "    cv2.destroyAllWindows()\n",
    "    return Par, Loss, LossAll\n"
   ]
  },
  {
   "cell_type": "markdown",
   "id": "5a267d6e",
   "metadata": {},
   "source": [
    "## Load Parameters"
   ]
  },
  {
   "cell_type": "code",
   "execution_count": 235,
   "id": "1b6e1b34",
   "metadata": {},
   "outputs": [],
   "source": [
    "Parameters = None#torch.load(\"NewModelParams.pth\")"
   ]
  },
  {
   "cell_type": "markdown",
   "id": "bcc80bf9",
   "metadata": {},
   "source": [
    "## Training"
   ]
  },
  {
   "cell_type": "code",
   "execution_count": 236,
   "id": "ec3ff7be",
   "metadata": {},
   "outputs": [],
   "source": [
    "cv2.destroyAllWindows()"
   ]
  },
  {
   "cell_type": "code",
   "execution_count": 276,
   "id": "113f5aca",
   "metadata": {
    "scrolled": false
   },
   "outputs": [
    {
     "name": "stdout",
     "output_type": "stream",
     "text": [
      "Epoch[1/10] Sample[20/20] Loss: 62585.730469 Time Remaining: 00:01:155\n",
      "Epoch [1/10], Average Loss: 486606.106592\n",
      "- 0.0001\n",
      "Epoch[2/10] Sample[20/20] Loss: 212983.703125 Time Remaining: 00:01:068\n",
      "Epoch [2/10], Average Loss: 375621.980859\n",
      "- 9e-05\n",
      "Epoch[3/10] Sample[20/20] Loss: 189885.078125 Time Remaining: 00:00:589\n",
      "Epoch [3/10], Average Loss: 528177.385254\n",
      "+ 8.1e-05\n",
      "Epoch[4/10] Sample[20/20] Loss: 393663.125000 Time Remaining: 00:00:512\n",
      "Epoch [4/10], Average Loss: 499899.476562\n",
      "+ 7.290000000000001e-05\n",
      "Epoch[5/10] Sample[20/20] Loss: 91112.312500 Time Remaining: 00:00:4234\n",
      "Epoch [5/10], Average Loss: 283973.233020\n",
      "- 6.561000000000002e-05\n",
      "Epoch[6/10] Sample[20/20] Loss: 472766.625000 Time Remaining: 00:00:345\n",
      "Epoch [6/10], Average Loss: 250908.708936\n",
      "- 5.904900000000002e-05\n",
      "Epoch[7/10] Sample[20/20] Loss: 95416.859375 Time Remaining: 00:00:255\n",
      "Epoch [7/10], Average Loss: 191856.124023\n",
      "- 5.314410000000002e-05\n",
      "Epoch[8/10] Sample[20/20] Loss: 359591.250000 Time Remaining: 00:00:177\n",
      "Epoch [8/10], Average Loss: 1657516.749902\n",
      "+ 4.782969000000002e-05\n",
      "Epoch[9/10] Sample[20/20] Loss: 115306.765625 Time Remaining: 00:00:089\n",
      "Epoch [9/10], Average Loss: 586074.846094\n",
      "+ 4.304672100000002e-05\n",
      "Epoch[10/10] Sample[20/20] Loss: 102297.328125 Time Remaining: 00:00:00\n",
      "Epoch [10/10], Average Loss: 134571.711523\n",
      "- 3.874204890000002e-05\n"
     ]
    }
   ],
   "source": [
    "Parameters,l,la = train('VDB',N_Samples=20,Params=Parameters,N=5,Epochs=10,Steps=10,LR=1e-4,Size=(50,50))"
   ]
  },
  {
   "cell_type": "markdown",
   "id": "def13b54",
   "metadata": {},
   "source": [
    "## Save Parameters"
   ]
  },
  {
   "cell_type": "code",
   "execution_count": 277,
   "id": "7dd08d70",
   "metadata": {},
   "outputs": [],
   "source": [
    "torch.save(Parameters,\"NewModelParams.pth\")\n",
    "#Parameters = torch.load(\"NewModelParams.pth\")"
   ]
  },
  {
   "cell_type": "markdown",
   "id": "13e162d3",
   "metadata": {},
   "source": [
    "## Plot Epoch's Loss"
   ]
  },
  {
   "cell_type": "code",
   "execution_count": 278,
   "id": "77778b78",
   "metadata": {},
   "outputs": [
    {
     "data": {
      "image/png": "[encoded data removed]",
      "text/plain": [
       "<Figure size 432x288 with 1 Axes>"
      ]
     },
     "metadata": {
      "needs_background": "light"
     },
     "output_type": "display_data"
    }
   ],
   "source": [
    "plt.plot(l)\n",
    "plt.yscale('log')"
   ]
  },
  {
   "cell_type": "markdown",
   "id": "11f8d428",
   "metadata": {},
   "source": [
    "## Plot Frames Loss"
   ]
  },
  {
   "cell_type": "code",
   "execution_count": 279,
   "id": "e496ec55",
   "metadata": {},
   "outputs": [
    {
     "data": {
      "image/png": "[encoded data removed]",
      "text/plain": [
       "<Figure size 432x288 with 1 Axes>"
      ]
     },
     "metadata": {
      "needs_background": "light"
     },
     "output_type": "display_data"
    }
   ],
   "source": [
    "r = 1\n",
    "plt.plot([sum(la[i:i+r])/r for i in range(0,len(la),r)])\n",
    "plt.yscale('log')"
   ]
  },
  {
   "cell_type": "markdown",
   "id": "7a6b0f6b",
   "metadata": {},
   "source": [
    "## Prediction"
   ]
  },
  {
   "cell_type": "code",
   "execution_count": 280,
   "id": "c63c85b2",
   "metadata": {},
   "outputs": [],
   "source": [
    "Parameters = torch.load(\"NewModelParams.pth\")\n",
    "cap = open_vid(\"VDB/L.mp4\")\n",
    "Video = get_frames(cap)"
   ]
  },
  {
   "cell_type": "code",
   "execution_count": 288,
   "id": "4a3da9ee",
   "metadata": {},
   "outputs": [],
   "source": [
    "N = 10\n",
    "for _ in range(15):\n",
    "    Video[N] = Frame2Numpy(AddOneInc1(Frame2Torch(Video[N],Normalize=True),random.randint(0,8),20,60,80,100),Denormalize=True)"
   ]
  },
  {
   "cell_type": "code",
   "execution_count": 282,
   "id": "78ca5792",
   "metadata": {},
   "outputs": [],
   "source": [
    "def GenerateFrames(images, Params, frame_size=(320, 320)):\n",
    "\n",
    "    PRED = []\n",
    "    # Extract parameters from the dictionary\n",
    "    C, P, F, B, K, KP, KPast, KFuture, WPP, WPF = Extract(Params)\n",
    "\n",
    "    \n",
    "    N = len(images)  # Total number of frames\n",
    "    N_past = len(P)  # Number of past frames\n",
    "    N_future = len(F)  # Number of future frames\n",
    "    \n",
    "    # Convert all frames to torch tensors\n",
    "    torch_images = [Frame2Torch(img,frame_size,Normalize=True).float() for img in images]\n",
    "    \n",
    "    # Iterate through all the frames of the video\n",
    "    for i in range(N - N_future):\n",
    "        current = i + N_past\n",
    "        first = i\n",
    "        last = current + N_future\n",
    "        # Select past, current, and future frames\n",
    "        Past = torch_images[first:current]\n",
    "        Current = torch_images[current]\n",
    "        Future = torch_images[current+1:last]\n",
    "        \n",
    "        # Apply ObjFun to generate a new frame\n",
    "        Pred = ObjFun(Current, Past, Future, C, P, F, B, K, KP, KPast, KFuture, WPP,WPF)\n",
    "        \n",
    "        # Convert the predicted frame back to numpy array and rescale to [0, 255]\n",
    "        Pred_np = Frame2Numpy(Pred,(images[0].shape[1],images[0].shape[0]),Denormalize=True)\n",
    "        \n",
    "        PRED.append(Pred_np)\n",
    "         \n",
    "    return PRED"
   ]
  },
  {
   "cell_type": "code",
   "execution_count": 289,
   "id": "06ec83af",
   "metadata": {},
   "outputs": [],
   "source": [
    "PRED = GenerateFrames(Video[:25],Parameters,(50,50))"
   ]
  },
  {
   "cell_type": "code",
   "execution_count": 290,
   "id": "837b8599",
   "metadata": {},
   "outputs": [],
   "source": [
    "[display_images([Video[b+5],PRED[b]]) for b in range(20)];"
   ]
  },
  {
   "cell_type": "code",
   "execution_count": null,
   "id": "b412eb50",
   "metadata": {},
   "outputs": [],
   "source": []
  }
 ],
 "metadata": {
  "kernelspec": {
   "display_name": "Python 3",
   "language": "python",
   "name": "python3"
  },
  "language_info": {
   "codemirror_mode": {
    "name": "ipython",
    "version": 3
   },
   "file_extension": ".py",
   "mimetype": "text/x-python",
   "name": "python",
   "nbconvert_exporter": "python",
   "pygments_lexer": "ipython3",
   "version": "3.7.6"
  }
 },
 "nbformat": 4,
 "nbformat_minor": 5
}
