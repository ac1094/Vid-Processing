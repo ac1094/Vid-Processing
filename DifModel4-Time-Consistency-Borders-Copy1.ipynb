{
 "cells": [
  {
   "cell_type": "code",
   "execution_count": 117,
   "id": "3cd5c294",
   "metadata": {},
   "outputs": [],
   "source": [
    "import import_ipynb\n",
    "from ConsistencyIndexes import *\n",
    "import torch.nn.functional as Fun\n",
    "import torch\n",
    "from torch import optim\n",
    "import matplotlib.pyplot as plt\n",
    "import time"
   ]
  },
  {
   "cell_type": "code",
   "execution_count": 118,
   "id": "ca59bca1",
   "metadata": {},
   "outputs": [],
   "source": [
    "#Extract kernels and weights from Parameters\n",
    "def Extract(Params):\n",
    "    k = Params['k']\n",
    "    kt = Params['kt']\n",
    "    kb = Params['kb']\n",
    "    return k,kt,kb"
   ]
  },
  {
   "cell_type": "code",
   "execution_count": 119,
   "id": "ffa1e4fa",
   "metadata": {},
   "outputs": [],
   "source": [
    "def Gen_Params(k_size,N,N_k):\n",
    "    # Current\n",
    "    k = [torch.rand(3,3,k_size,k_size,requires_grad=True) for _ in range(N_k)]     \n",
    "    # Kernels for Temporal Consistency\n",
    "    kt = [[torch.rand(3,3,k_size,k_size,requires_grad=True) for _ in range(N_k)]  for _ in range(2*N)]\n",
    "    kb = torch.rand(3,3,k_size,k_size,requires_grad=True)\n",
    "    return k,kt,kb"
   ]
  },
  {
   "cell_type": "code",
   "execution_count": 120,
   "id": "46c02cfb",
   "metadata": {},
   "outputs": [],
   "source": [
    "def ObjFun(encodes,x,k,kt,kb):\n",
    "    N = len(kt)\n",
    "    k_size = k[0].shape[-1]\n",
    "    N_k = len(k[0])\n",
    "    encodes = encodes[:N//2]+encodes[N//2+1:]\n",
    "    sp = k_size//2\n",
    "    # Encoder\n",
    "    for i in k:\n",
    "        x = Fun.leaky_relu(Fun.conv2d(x,i,stride=1,padding=sp))\n",
    "    # Temporal Encoder\n",
    "    for i in range(len(encodes)):\n",
    "         for j in kt[i]:  \n",
    "            encodes[i] = Fun.leaky_relu(Fun.conv2d(encodes[i],j,stride=1,padding=sp))\n",
    "            \n",
    "    # Add latent values\n",
    "    for i in range(len(encodes)):\n",
    "        x = x + encodes[i]\n",
    "        \n",
    "    x = Fun.leaky_relu(Fun.conv2d(x,kb,stride=1,padding=sp))\n",
    "        \n",
    "    return x"
   ]
  },
  {
   "cell_type": "code",
   "execution_count": 121,
   "id": "4e3064ed",
   "metadata": {},
   "outputs": [],
   "source": [
    "#Add a random inconsistency\n",
    "def AddOneInc1(F):\n",
    "    # Convert to NumPy Array\n",
    "    F = F.squeeze(0).permute(1, 2, 0).cpu().numpy() * 255\n",
    "    # Copy of original array\n",
    "    I = F.astype(np.uint8).copy()\n",
    "    # Random location\n",
    "    x, y = random.randint(0, 2 * I.shape[0] // 3), random.randint(0, 2 * I.shape[1] // 3)\n",
    "    # Random size\n",
    "    l = random.randint(5,I.shape[1]//20)\n",
    "    # Random option\n",
    "    Op = random.randint(0, 5)\n",
    "    if Op == 0:\n",
    "        I[x:x + l, y:y + l] = change_range_colors(I[x:x + l, y:y + l], (random.randint(30, 140), random.randint(30, 140), random.randint(30, 140)), (random.randint(150, 255), random.randint(150, 255), random.randint(150, 255)))\n",
    "    elif Op == 1:\n",
    "        R, G, B = random.randint(0, 255), random.randint(0, 255), random.randint(0, 255)\n",
    "        I[x:x + l, y:y + l] = change_range_colors(I[x:x + l, y:y + l], (R, G, B), (R, G, B))\n",
    "    elif Op == 2:\n",
    "        Thick = random.randint(1, 10)\n",
    "        l2 = random.randint(5, I.shape[1]//15)\n",
    "        I = cv2.line(I, (x, y), (x + l, y + l2), (random.randint(0, 255), random.randint(0, 255), random.randint(0, 255)), Thick)\n",
    "    elif Op == 3:\n",
    "        Thick = random.randint(1, 5)\n",
    "        l2 = random.randint(5, I.shape[1]//20)\n",
    "        I = cv2.line(I, (x, y), (x + l, y + l2), (0, 0, 0), Thick)  \n",
    "    elif Op == 4:\n",
    "        I[x:x+l,y:y+l] = I[x:x+l,y:y+l] + np.random.random_integers(-10,10,I[x:x+l,y:y+l].shape)\n",
    "    else:\n",
    "        kernel = np.random.rand(3,3)\n",
    "        I[x:x+l,y:y+l] = cv2.filter2D(I[x:x+l,y:y+l],-1,kernel)\n",
    "    # Convert back to tensor\n",
    "    I_tensor = torch.tensor(I, dtype=torch.float32).permute(2, 0, 1).unsqueeze(0)/255.0\n",
    "    return I_tensor"
   ]
  },
  {
   "cell_type": "code",
   "execution_count": 122,
   "id": "c6867ada",
   "metadata": {},
   "outputs": [],
   "source": [
    "def OF(img1: torch.Tensor, img2: torch.Tensor, alpha: float = 1.0, iterations: int = 100):\n",
    "    assert img1.shape == img2.shape, \"Images must have the same shape\"\n",
    "    # Convert to grayscale to simplify optical flow calculation\n",
    "    def rgb_to_grayscale(img):\n",
    "        return 0.2989 * img[0, :, :] + 0.5870 * img[1, :, :] + 0.1140 * img[2, :, :]\n",
    "\n",
    "    I1 = rgb_to_grayscale(img1)\n",
    "    I2 = rgb_to_grayscale(img2)\n",
    "\n",
    "    # Initialize optical flow vectors (u for x direction, v for y direction)\n",
    "    u = torch.zeros_like(I1, requires_grad=True)\n",
    "    v = torch.zeros_like(I1, requires_grad=True)\n",
    "    \n",
    "    # Define convolution kernels for gradients\n",
    "    kernel_x = torch.tensor([[[[-1, 1], [-1, 1]]]], dtype=torch.float32)\n",
    "    kernel_y = torch.tensor([[[[-1, -1], [1, 1]]]], dtype=torch.float32)\n",
    "\n",
    "    # Compute gradients with padding that maintains the original image size\n",
    "    Ix = Fun.conv2d(I1.unsqueeze(0).unsqueeze(0), kernel_x, padding=(0, 1)).squeeze(0).squeeze(0)\n",
    "    Iy = Fun.conv2d(I1.unsqueeze(0).unsqueeze(0), kernel_y, padding=(1, 0)).squeeze(0).squeeze(0)\n",
    "    It = I2 - I1  # Temporal gradient\n",
    "\n",
    "    # Ensure all tensors have matching dimensions by cropping to the smallest dimensions\n",
    "    min_h = min(Ix.shape[-2], Iy.shape[-2], It.shape[-2], I1.shape[-2])\n",
    "    min_w = min(Ix.shape[-1], Iy.shape[-1], It.shape[-1], I1.shape[-1])\n",
    "\n",
    "    # No additional indexing needed here\n",
    "    Ix = Ix[:min_h, :min_w]\n",
    "    Iy = Iy[:min_h, :min_w]\n",
    "    It = It[:min_h, :min_w]\n",
    "    u = u[:min_h, :min_w]\n",
    "    v = v[:min_h, :min_w]\n",
    "\n",
    "    # Iteratively update the optical flow\n",
    "    for _ in range(iterations):\n",
    "        # Average flow in the neighborhood\n",
    "        u_avg = Fun.avg_pool2d(u.unsqueeze(0).unsqueeze(0), 3, stride=1, padding=1).squeeze(0).squeeze(0)\n",
    "        v_avg = Fun.avg_pool2d(v.unsqueeze(0).unsqueeze(0), 3, stride=1, padding=1).squeeze(0).squeeze(0)\n",
    "        \n",
    "        # Optical flow update step based on Horn-Schunck method\n",
    "        P = Ix * u_avg + Iy * v_avg + It\n",
    "        D = alpha ** 2 + Ix ** 2 + Iy ** 2\n",
    "        \n",
    "        u = u_avg - (Ix * P) / D\n",
    "        v = v_avg - (Iy * P) / D\n",
    "\n",
    "    # Stack u and v to form the flow tensor\n",
    "    flow = torch.stack((u, v), dim=0)\n",
    "    return flow"
   ]
  },
  {
   "cell_type": "code",
   "execution_count": 123,
   "id": "5f09eabb",
   "metadata": {},
   "outputs": [],
   "source": [
    "def draw_OF(img1: torch.Tensor, flow: torch.Tensor, Size=(320,320),step: int = 8):\n",
    "    # Convert images from Torch tensor to NumPy arrays and to uint8\n",
    "    img1_np = img1.permute(1, 2, 0).detach().numpy() * 255.0\n",
    "    img1_np = img1_np.astype(np.uint8)\n",
    "\n",
    "    # Create a copy of the first image to draw the flow\n",
    "    img_flow = img1_np.copy()\n",
    "\n",
    "    # Prepare the grid for the starting points of the arrows\n",
    "    h, w = flow.shape[1], flow.shape[2]\n",
    "    y, x = np.mgrid[step // 2:h:step, step // 2:w:step]\n",
    "    \n",
    "    # Get the flow vectors\n",
    "    fx = flow[0].detach().numpy()\n",
    "    fy = flow[1].detach().numpy()\n",
    "    \n",
    "    # Draw arrows for the flow vectors\n",
    "    for i in range(y.shape[0]):\n",
    "        for j in range(y.shape[1]):\n",
    "            start_point = (x[i, j], y[i, j])\n",
    "            end_point = (int(x[i, j] + fx[y[i, j], x[i, j]]), int(y[i, j] + fy[y[i, j], x[i, j]]))\n",
    "            cv2.arrowedLine(img_flow, start_point, end_point, (0, 255, 0), 1, tipLength=0.3)\n",
    "\n",
    "    return cv2.resize(img_flow,Size,interpolation=cv2.INTER_AREA)"
   ]
  },
  {
   "cell_type": "code",
   "execution_count": 208,
   "id": "8ff29a8a",
   "metadata": {},
   "outputs": [],
   "source": [
    "def train(In,Edges,ke,Params=None,N=1,k_size=1,N_k=1,Epochs=10,Steps=5,LR=1e-3):\n",
    "    # Ensure inputs are float32 and have correct shape (batch_size, channels, height, width)\n",
    "    if Params is None:\n",
    "        k, kt, kb = Gen_Params(k_size, N, N_k)\n",
    "    else:\n",
    "        k, kt, kb = Extract(Params)\n",
    "        k_size = k[0][-1].shape[-1]\n",
    "        N = len(kt)//2\n",
    "        N_k = len(k)\n",
    "    \n",
    "    sp = k_size // 2\n",
    "    if N > len(In[0]) // 2:\n",
    "        print(\"Not enough frames for size\", N)\n",
    "        return None, None, None\n",
    "    \n",
    "    # Ensure the optimizer is handling float32 parameters\n",
    "    optimizer = optim.NAdam([p for p in k] + [j for p in kt for j in p], lr=LR)\n",
    "\n",
    "    Loss = []\n",
    "    LossAll = []   \n",
    "\n",
    "    total_steps = Epochs * len(In) * (len(In[0]) - 2 * N)\n",
    "    step_count = 0\n",
    "    start_time = time.time()\n",
    "\n",
    "    for epoch in range(Epochs):\n",
    "        total_loss = 0.0\n",
    "        random.shuffle(In)\n",
    "        for v in range(len(In)):\n",
    "            for f in range(len(In[v]) - 2 * N):\n",
    "                step_count += 1\n",
    "                first, current, last = f, f + N // 2, f + N\n",
    "                Inc = In[v][current].clone()\n",
    "\n",
    "                optimizer.zero_grad()\n",
    "\n",
    "                if random.randint(0, 2)>= 1:\n",
    "                    steps = random.randint(1, Steps)\n",
    "                    for s in range(steps):\n",
    "                        Inc = AddOneInc1(Inc)\n",
    "\n",
    "                # Perform forward pass\n",
    "                Pred = ObjFun(In[v][first:last], Inc, k, kt, kb)\n",
    "                ed = Fun.conv2d(Pred, ke, stride=sp, padding=sp)\n",
    "\n",
    "                # Optical Flow Loss\n",
    "                original_flow_past = OF(In[v][current-1].squeeze(0), In[v][current].squeeze(0))\n",
    "                predicted_flow_past = OF(In[v][current-1].squeeze(0), Pred.squeeze(0))\n",
    "                original_flow_future = OF(In[v][current].squeeze(0), In[v][current+1].squeeze(0))\n",
    "                predicted_flow_future = OF(Pred.squeeze(0),In[v][current+1].squeeze(0))\n",
    "\n",
    "                # Compute losses (reconstruction + edge + optical flow loss)\n",
    "                reconstruction_loss = Fun.mse_loss(Pred*255,In[v][current]*255)\n",
    "                edge_loss = Fun.mse_loss(ed*255,Edges[v][current]*255)\n",
    "                flow_loss_p = Fun.mse_loss(original_flow_past*255,predicted_flow_past*255)\n",
    "                flow_loss_f = Fun.mse_loss(original_flow_future*255,predicted_flow_future*255)\n",
    "\n",
    "                # Total loss\n",
    "                loss = reconstruction_loss + edge_loss + flow_loss_p + flow_loss_f\n",
    "\n",
    "                # Backpropagation\n",
    "                loss.backward()\n",
    "                optimizer.step()\n",
    "\n",
    "                LossAll.append(loss.item())\n",
    "                total_loss += loss.item()\n",
    "\n",
    "                # Visualization\n",
    "                cv2.imshow(\"Inconsistent\",(Inc[0]*255).squeeze(0).permute(1,2,0).detach().cpu().numpy().astype(np.uint8))\n",
    "                cv2.imshow(\"Predicted\",(Pred[0]*255).squeeze(0).permute(1,2,0).detach().cpu().numpy().astype(np.uint8))\n",
    "                cv2.waitKey(1)\n",
    "\n",
    "                # Time estimation\n",
    "                current_time = time.time()\n",
    "                elapsed_time = current_time - start_time\n",
    "                avg_time_per_step = elapsed_time / step_count\n",
    "                estimated_remaining_time = avg_time_per_step * (total_steps - step_count)\n",
    "\n",
    "                hrs = int(estimated_remaining_time // 3600)\n",
    "                mins = int((estimated_remaining_time % 3600) // 60)\n",
    "                secs = int(estimated_remaining_time % 60)\n",
    "                print(f'Epoch[{epoch+1}/{Epochs}] Video[{v+1}/{len(In)}] Frame[{f+1}/{len(In[v])-2*N}] '\n",
    "                      f'Loss:{loss.item():.0f} Time Remaining: {hrs:02}:{mins:02}:{secs:02}', end='\\r')\n",
    "\n",
    "        Loss.append(total_loss/len(In)/(len(In[v])-2*N))\n",
    "        print(f'\\nEpoch [{epoch + 1}/{Epochs}], Loss: {Loss[-1]:.0f}')\n",
    "\n",
    "        if epoch >= 1 and Loss[-1] < Loss[-2]:\n",
    "            P = {'k': k, 'kt': kt, 'kb': kb}\n",
    "        elif epoch > 1 and Loss[-1] > Loss[-2]:\n",
    "            k, kt, kb = Extract(P)\n",
    "        elif epoch < 1:\n",
    "            P = {'k': k, 'kt': kt, 'kb': kb}\n",
    "\n",
    "    cv2.destroyAllWindows()\n",
    "    return P, Loss, LossAll\n"
   ]
  },
  {
   "cell_type": "code",
   "execution_count": 209,
   "id": "5fc5e677",
   "metadata": {},
   "outputs": [],
   "source": [
    "Consec = 7\n",
    "Frames = read_first_frames(\"VDB\",Consec)\n",
    "Vids = [[Frames[j*Consec+i] for i in range(Consec)] for j in range(len(Frames)//Consec)]\n",
    "In = [[torch.tensor(cv2.resize(i, (320, 320), interpolation=cv2.INTER_AREA),\n",
    "                    dtype=torch.float32).permute(2, 0, 1).unsqueeze(0) / 255.0 for i in v] for v in Vids]\n",
    "ke = torch.tensor([[[[0, -1, 0], [-1, 4, -1], [0, -1, 0]]]*3]*3, dtype=torch.float32)\n",
    "Edges = [[Fun.conv2d(i, ke, stride=1, padding=1) for i in v] for v in In]"
   ]
  },
  {
   "cell_type": "code",
   "execution_count": 133,
   "id": "eb3c3175",
   "metadata": {},
   "outputs": [],
   "source": [
    "cv2.destroyAllWindows()"
   ]
  },
  {
   "cell_type": "code",
   "execution_count": 210,
   "id": "0cdfcb21",
   "metadata": {},
   "outputs": [],
   "source": [
    "Parameters = None#torch.load(\"paramstimedof3.pth\")\n",
    "MinL = 1e20"
   ]
  },
  {
   "cell_type": "code",
   "execution_count": 212,
   "id": "9e5e977a",
   "metadata": {},
   "outputs": [
    {
     "data": {
      "text/plain": [
       "1e+20"
      ]
     },
     "execution_count": 212,
     "metadata": {},
     "output_type": "execute_result"
    }
   ],
   "source": [
    "MinL"
   ]
  },
  {
   "cell_type": "code",
   "execution_count": 213,
   "id": "3e17d638",
   "metadata": {
    "scrolled": false
   },
   "outputs": [
    {
     "name": "stdout",
     "output_type": "stream",
     "text": [
      "---  1 / 10   lr:  0.1    ---\n",
      "Epoch[1/1] Video[34/34] Frame[1/1] Loss:858212781785088 Time Remaining: 00:00:004850\n",
      "Epoch [1/1], Loss: 1722829414794110464\n",
      "---  2 / 10   lr:  0.06666666666666667    ---\n",
      "Epoch[1/1] Video[34/34] Frame[1/1] Loss:18150736 Time Remaining: 00:00:00492:49\n",
      "Epoch [1/1], Loss: 9004173842314\n",
      "---  3 / 10   lr:  0.044444444444444446    ---\n",
      "Epoch[1/1] Video[34/34] Frame[1/1] Loss:6311234 Time Remaining: 00:00:0015\n",
      "Epoch [1/1], Loss: 27957479\n",
      "---  4 / 10   lr:  0.02962962962962963    ---\n",
      "Epoch[1/1] Video[34/34] Frame[1/1] Loss:206385 Time Remaining: 00:00:003\n",
      "Epoch [1/1], Loss: 329421\n",
      "---  5 / 10   lr:  0.019753086419753086    ---\n",
      "Epoch[1/1] Video[34/34] Frame[1/1] Loss:304179 Time Remaining: 00:00:009\n",
      "Epoch [1/1], Loss: 1154213\n",
      "---  6 / 10   lr:  0.01316872427983539    ---\n",
      "Epoch[1/1] Video[34/34] Frame[1/1] Loss:145913 Time Remaining: 00:00:0052\n",
      "Epoch [1/1], Loss: 562557\n",
      "---  7 / 10   lr:  0.008779149519890261    ---\n",
      "Epoch[1/1] Video[34/34] Frame[1/1] Loss:248935 Time Remaining: 00:00:008\n",
      "Epoch [1/1], Loss: 690291\n",
      "---  8 / 10   lr:  0.005852766346593507    ---\n",
      "Epoch[1/1] Video[34/34] Frame[1/1] Loss:438718 Time Remaining: 00:00:0080\n",
      "Epoch [1/1], Loss: 1835894\n",
      "---  9 / 10   lr:  0.003901844231062338    ---\n",
      "Epoch[1/1] Video[34/34] Frame[1/1] Loss:227788 Time Remaining: 00:00:0076\n",
      "Epoch [1/1], Loss: 3076979\n",
      "---  10 / 10   lr:  0.002601229487374892    ---\n",
      "Epoch[1/1] Video[34/34] Frame[1/1] Loss:201445 Time Remaining: 00:00:0075\n",
      "Epoch [1/1], Loss: 3780662\n"
     ]
    }
   ],
   "source": [
    "lr = 1e-1\n",
    "L = []\n",
    "LA = []\n",
    "Its = 10\n",
    "for i in range(Its):\n",
    "    print('--- ',i+1,'/',Its,'  lr: ',lr,'   ---')\n",
    "    Parameters,l,la = train(In,Edges,ke,Params=Parameters,N=3,k_size=3,N_k=5,Epochs=1,Steps=10,LR=lr)\n",
    "    if l[-1]<MinL:\n",
    "        torch.save(Parameters,\"paramstimedof3.pth\")\n",
    "        MinL = l[-1]\n",
    "    else:\n",
    "        Parameters = torch.load(\"paramstimedof3.pth\")\n",
    "    L += l\n",
    "    LA += la\n",
    "    lr /= 1.5"
   ]
  },
  {
   "cell_type": "code",
   "execution_count": 214,
   "id": "0d39fa06",
   "metadata": {},
   "outputs": [
    {
     "data": {
      "image/png": "[encoded data removed]",
      "text/plain": [
       "<Figure size 432x288 with 1 Axes>"
      ]
     },
     "metadata": {
      "needs_background": "light"
     },
     "output_type": "display_data"
    }
   ],
   "source": [
    "plt.plot(L)\n",
    "plt.yscale('log')"
   ]
  },
  {
   "cell_type": "code",
   "execution_count": 215,
   "id": "92359369",
   "metadata": {},
   "outputs": [
    {
     "data": {
      "image/png": "[encoded data removed]",
      "text/plain": [
       "<Figure size 432x288 with 1 Axes>"
      ]
     },
     "metadata": {
      "needs_background": "light"
     },
     "output_type": "display_data"
    }
   ],
   "source": [
    "r = 1\n",
    "plt.plot([sum(LA[i:i+r])/r for i in range(0,len(LA),r)])\n",
    "plt.yscale('log')"
   ]
  },
  {
   "cell_type": "code",
   "execution_count": null,
   "id": "05242a8a",
   "metadata": {},
   "outputs": [],
   "source": [
    "##Add with no inconsistencies in training\n",
    "##Add detail error, MSE of full image only minimizes general pixel distribution\n",
    "##Add more training examples\n",
    "##Add N previous and N post current inconsistence image\n",
    "##Add optical flow, frequencies or other features for temporal consistency\n",
    "##Different kernel sizes\n",
    "##Add Gaisian Noise\n",
    "##Reconstruct image with kernel middle between encoder and decofer\n",
    "##Use data with less loss value, selection\n",
    "##How to combine data with less error and with more error?\n",
    "##Localize area and correct error"
   ]
  },
  {
   "cell_type": "code",
   "execution_count": null,
   "id": "7f55beae",
   "metadata": {},
   "outputs": [],
   "source": [
    "def Prediction(Vid,Params):\n",
    "    P = []\n",
    "    V = [torch.tensor(cv2.resize(i,(320,320),interpolation=cv2.INTER_AREA),\n",
    "                              dtype=torch.float32).permute(2,0,1).unsqueeze(0)/255.0 for i in Vid]\n",
    "    k,kt,kb = Extract(Params)\n",
    "    N = len(kt)//2\n",
    "    for f in range(len(V) - 2 * N):\n",
    "        first, current, last = f, f + N // 2, f + N\n",
    "        Pred = ObjFun(V[first:last], V[current], k, kt, kb)\n",
    "        P.append(cv2.resize((Pred[0] * 255).squeeze(0).permute(1, 2, 0).detach().cpu().numpy().astype(np.uint8),\n",
    "                                           (Vid[f].shape[1], Vid[f].shape[0]), interpolation=cv2.INTER_AREA))\n",
    "    return P"
   ]
  },
  {
   "cell_type": "code",
   "execution_count": 141,
   "id": "5b23723e",
   "metadata": {},
   "outputs": [],
   "source": [
    "cap = open_vid(\"AI Gen/movie(1).mp4\")\n",
    "Video = get_frames(cap)"
   ]
  },
  {
   "cell_type": "code",
   "execution_count": 216,
   "id": "555110c6",
   "metadata": {},
   "outputs": [],
   "source": [
    "PVid = Prediction(Video,Parameters)"
   ]
  },
  {
   "cell_type": "code",
   "execution_count": 217,
   "id": "cf17b59f",
   "metadata": {},
   "outputs": [],
   "source": [
    "ThroughFrames(PVid)"
   ]
  },
  {
   "cell_type": "code",
   "execution_count": null,
   "id": "9fe6c345",
   "metadata": {},
   "outputs": [],
   "source": []
  }
 ],
 "metadata": {
  "kernelspec": {
   "display_name": "Python 3",
   "language": "python",
   "name": "python3"
  },
  "language_info": {
   "codemirror_mode": {
    "name": "ipython",
    "version": 3
   },
   "file_extension": ".py",
   "mimetype": "text/x-python",
   "name": "python",
   "nbconvert_exporter": "python",
   "pygments_lexer": "ipython3",
   "version": "3.7.6"
  }
 },
 "nbformat": 4,
 "nbformat_minor": 5
}
