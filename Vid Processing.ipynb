{
 "cells": [
  {
   "cell_type": "code",
   "execution_count": 2,
   "id": "8cc591b3",
   "metadata": {},
   "outputs": [],
   "source": [
    "import cv2\n",
    "import os\n",
    "import numpy as np\n",
    "import random\n",
    "\n",
    "input_file = 'VDB\\D.mp4'   "
   ]
  },
  {
   "cell_type": "markdown",
   "id": "7d140bba",
   "metadata": {},
   "source": [
    "# Open Video"
   ]
  },
  {
   "cell_type": "code",
   "execution_count": 108,
   "id": "82931257",
   "metadata": {},
   "outputs": [],
   "source": [
    "def open_vid(input_file):\n",
    "    cap = cv2.VideoCapture(input_file)\n",
    "    if not cap.isOpened():\n",
    "        print(\"Error: Could not open video.\")\n",
    "    return cap"
   ]
  },
  {
   "cell_type": "code",
   "execution_count": null,
   "id": "2ca5ece5",
   "metadata": {},
   "outputs": [],
   "source": [
    "cap = open_vid(input_file)"
   ]
  },
  {
   "cell_type": "markdown",
   "id": "0040ba43",
   "metadata": {},
   "source": [
    "# Get Video Properties"
   ]
  },
  {
   "cell_type": "code",
   "execution_count": 4,
   "id": "64448489",
   "metadata": {},
   "outputs": [
    {
     "name": "stdout",
     "output_type": "stream",
     "text": [
      "Width:  640\n",
      "Height:  358\n",
      "Original FPS:  30.0\n",
      "Frame Count:  2834\n"
     ]
    }
   ],
   "source": [
    "width = int(cap.get(cv2.CAP_PROP_FRAME_WIDTH))\n",
    "height = int(cap.get(cv2.CAP_PROP_FRAME_HEIGHT))\n",
    "original_fps = cap.get(cv2.CAP_PROP_FPS)\n",
    "frame_count = int(cap.get(cv2.CAP_PROP_FRAME_COUNT))\n",
    "print(\"Width: \",width)\n",
    "print(\"Height: \",height)\n",
    "print(\"Original FPS: \",original_fps)\n",
    "print(\"Frame Count: \",frame_count)"
   ]
  },
  {
   "cell_type": "code",
   "execution_count": 5,
   "id": "32ac3822",
   "metadata": {},
   "outputs": [],
   "source": [
    "def get_frames(cap):\n",
    "    frames = []\n",
    "    frame_count = int(cap.get(cv2.CAP_PROP_FRAME_COUNT))\n",
    "    for i in range(frame_count):\n",
    "        # Read a frame from the video\n",
    "        ret, frame = cap.read()\n",
    "        if not ret:\n",
    "            print(\"Error: Could not read frame.\")\n",
    "            return frames\n",
    "\n",
    "        # Save the frame to the list\n",
    "        frames.append(frame)\n",
    "        \n",
    "    if not frames:\n",
    "        print(\"No frames were saved.\")\n",
    "    \n",
    "    return frames"
   ]
  },
  {
   "cell_type": "code",
   "execution_count": 6,
   "id": "62042728",
   "metadata": {},
   "outputs": [],
   "source": [
    "cap.set(cv2.CAP_PROP_POS_FRAMES, 0)\n",
    "Frames = get_frames(cap)"
   ]
  },
  {
   "cell_type": "markdown",
   "id": "0262b48b",
   "metadata": {},
   "source": [
    "# Delete PNG Files in Directory"
   ]
  },
  {
   "cell_type": "code",
   "execution_count": 7,
   "id": "e6c20ff0",
   "metadata": {},
   "outputs": [],
   "source": [
    "def delete_png_files(directory_path):\n",
    "    # List all files in the specified directory\n",
    "    for filename in os.listdir(directory_path):\n",
    "        # Construct full file path\n",
    "        file_path = os.path.join(directory_path, filename)\n",
    "        try:\n",
    "            # Check if it's a PNG file and remove it\n",
    "            if os.path.isfile(file_path) and filename.lower().endswith('.png'):\n",
    "                os.remove(file_path)\n",
    "        except Exception as e:\n",
    "            print(f'Failed to delete {file_path}. Reason: {e}')"
   ]
  },
  {
   "cell_type": "markdown",
   "id": "4e52f72d",
   "metadata": {},
   "source": [
    "# Read and Save Frames in Interval"
   ]
  },
  {
   "cell_type": "code",
   "execution_count": 8,
   "id": "e28794e0",
   "metadata": {},
   "outputs": [],
   "source": [
    "def save_frames_as_vid(frames, frame_folder):\n",
    "    # Create the folder to save frames if it doesn't exist\n",
    "    if not os.path.exists(frame_folder):\n",
    "        os.makedirs(frame_folder)\n",
    "\n",
    "    frame_count = 0\n",
    "    for i in range(len(frames)):\n",
    "        # Save the frame as an image file\n",
    "        frame_filename = os.path.join(frame_folder, f'frame_{frame_count:03d}.png')\n",
    "        cv2.imwrite(frame_filename, frames[i])\n",
    "        frame_count += 1\n",
    "\n",
    "    #if not frames:\n",
    "         #print(\"No frames were saved.\")"
   ]
  },
  {
   "cell_type": "code",
   "execution_count": 9,
   "id": "b61dd283",
   "metadata": {},
   "outputs": [],
   "source": [
    "#delete_png_files('saved_frames')"
   ]
  },
  {
   "cell_type": "code",
   "execution_count": 10,
   "id": "6e16ed6d",
   "metadata": {},
   "outputs": [],
   "source": [
    "#save_frames_as_vid(Frames[50:100],\"saved_frames\")"
   ]
  },
  {
   "cell_type": "markdown",
   "id": "1cb42ea0",
   "metadata": {},
   "source": [
    "# Create Video with Set of Frames"
   ]
  },
  {
   "cell_type": "code",
   "execution_count": 11,
   "id": "0a31a3d4",
   "metadata": {},
   "outputs": [],
   "source": [
    "def save_vid(frames,output_file,fps):\n",
    "    # Get frame dimensions\n",
    "    height, width, _ = frames[0].shape\n",
    "\n",
    "    # Define the codec and create VideoWriter object\n",
    "    fourcc = cv2.VideoWriter_fourcc(*'mp4v')\n",
    "    out = cv2.VideoWriter(output_file, fourcc, fps, (width, height))\n",
    "\n",
    "    # Write the frames to the new video file\n",
    "    [out.write(frame) for frame in frames];\n",
    "\n",
    "    # Release the video writer object\n",
    "    out.release()"
   ]
  },
  {
   "cell_type": "code",
   "execution_count": 12,
   "id": "af85fc3f",
   "metadata": {},
   "outputs": [],
   "source": [
    "#save_vid(Frames[100:150], \"slice_vid.mp4\", original_fps)"
   ]
  },
  {
   "cell_type": "markdown",
   "id": "d5f03b12",
   "metadata": {},
   "source": [
    "# Change FPS"
   ]
  },
  {
   "cell_type": "code",
   "execution_count": 13,
   "id": "37840a10",
   "metadata": {},
   "outputs": [],
   "source": [
    "#save_vid(Frames[100:150],\"slice_vid_new_fps.mp4\",12)"
   ]
  },
  {
   "cell_type": "markdown",
   "id": "e8e2e322",
   "metadata": {},
   "source": [
    "# Play Frames"
   ]
  },
  {
   "cell_type": "code",
   "execution_count": 14,
   "id": "1fb2069a",
   "metadata": {},
   "outputs": [],
   "source": [
    "def play_frames(frames,fps):\n",
    "    \n",
    "    delay = int(1000/fps)\n",
    "    print(\"Delay: \",delay)\n",
    "\n",
    "    for frame in frames:\n",
    "        # Display the frame\n",
    "        cv2.imshow('Video Playback', frame)\n",
    "        # Exit the playback if 'q' is pressed\n",
    "        if cv2.waitKey(delay) & 0xFF == ord('q'):\n",
    "            break\n",
    "            \n",
    "    cv2.destroyAllWindows()"
   ]
  },
  {
   "cell_type": "code",
   "execution_count": 15,
   "id": "82968b58",
   "metadata": {},
   "outputs": [],
   "source": [
    "#play_frames(Frames[:100],24)"
   ]
  },
  {
   "cell_type": "markdown",
   "id": "9508bfbc",
   "metadata": {},
   "source": [
    "# Optical Flow"
   ]
  },
  {
   "cell_type": "markdown",
   "id": "5f736495",
   "metadata": {},
   "source": [
    "## Farneback Magnitude"
   ]
  },
  {
   "cell_type": "code",
   "execution_count": 16,
   "id": "8cf1dcec",
   "metadata": {},
   "outputs": [],
   "source": [
    "def OFM(frames):\n",
    "    \n",
    "    OF = [] \n",
    "    #Convert to Grayscale\n",
    "    prev_gray = cv2.cvtColor(frames[0], cv2.COLOR_BGR2GRAY)\n",
    "\n",
    "    for i in range(len(frames)-1):\n",
    "        #Convert the next frame to grayscale\n",
    "        next_gray = cv2.cvtColor(frames[i+1], cv2.COLOR_BGR2GRAY)\n",
    "\n",
    "        # Calculate the dense optical flow using Farneback method\n",
    "        flow = cv2.calcOpticalFlowFarneback(prev_gray, next_gray, None, 0.5,  3,  10,  10,    5,    1.2,   0)\n",
    "                                            #prev      next       flow  dist lvl  win  it  smooth  std   flag \n",
    " \n",
    "        # Visualize the optical flow\n",
    "        hsv = np.zeros_like(frames[i]) #[ch0,ch1,ch2]\n",
    "        hsv[..., 1] = 255 #ch1 Saturation (Full)\n",
    "\n",
    "        mag, ang = cv2.cartToPolar(flow[..., 0], flow[..., 1]) #Cartesian to Polar\n",
    "        hsv[..., 0] = ang * 180 / np.pi / 2  \n",
    "        hsv[..., 2] = cv2.normalize(mag, None, 0, 255, cv2.NORM_MINMAX) #Normalize from 0 to 255\n",
    "        flow_rgb = cv2.cvtColor(hsv, cv2.COLOR_HSV2BGR)   #Convert to RBG\n",
    "        OF.append(flow_rgb)\n",
    "        \n",
    "        flow_M  = flow[...,0]+flow[...,1]\n",
    "        \n",
    "        # Display the original frame and the optical flow\n",
    "        cv2.imshow('Prev Frame', frames[i])\n",
    "        cv2.imshow('Next Frame', frames[i+1])\n",
    "        cv2.imshow('Optical Flow', flow_rgb)\n",
    "        cv2.imshow('Optical Flow Mag',flow_M)\n",
    "\n",
    "        # Wait for a key press to move to the next frame\n",
    "        if cv2.waitKey(0) & 0xFF==ord('q'):\n",
    "            break\n",
    "\n",
    "        # Update the previous frame and grayscale image\n",
    "        prev_gray = next_gray\n",
    "\n",
    "    # Release the video capture object and close all OpenCV windows\n",
    "    cv2.destroyAllWindows()\n",
    "    return OF"
   ]
  },
  {
   "cell_type": "code",
   "execution_count": 17,
   "id": "79a2d6be",
   "metadata": {},
   "outputs": [],
   "source": [
    "Optical_R = OFM(Frames[100:150])"
   ]
  },
  {
   "cell_type": "markdown",
   "id": "1940090b",
   "metadata": {},
   "source": [
    "## Farneack with Vectors"
   ]
  },
  {
   "cell_type": "code",
   "execution_count": 18,
   "id": "f0bac284",
   "metadata": {},
   "outputs": [],
   "source": [
    "def draw_optical_flow_vectors(flow, frame, step):\n",
    "    h, w = frame.shape[:2]\n",
    "    y, x = np.mgrid[step/2:h:step, step/2:w:step].reshape(2, -1).astype(int)\n",
    "    fx, fy = flow[y, x].T\n",
    "\n",
    "    # Create a mask to draw the vectors\n",
    "    mask = np.zeros_like(frame)\n",
    "    \n",
    "    # Create line endpoints\n",
    "    lines = np.vstack([x, y, x+fx, y+fy]).T.reshape(-1, 2, 2)\n",
    "    lines = np.int32(lines + 0.5)\n",
    "\n",
    "    # Draw lines and circles\n",
    "    for (x1, y1), (x2, y2) in lines:\n",
    "        cv2.line(mask, (x1, y1), (x2, y2), (0, 255, 0), 1)\n",
    "        cv2.circle(frame, (x1, y1), 1, (0, 255, 0), -1)\n",
    "\n",
    "    return cv2.add(frame, mask)\n",
    "\n",
    "def OFV(frames,step):\n",
    "    OF = []\n",
    "    \n",
    "    #convert it to grayscale\n",
    "    prev_gray = cv2.cvtColor(np.copy(frames[0]), cv2.COLOR_BGR2GRAY)\n",
    "\n",
    "    for i in range(1,len(frames)):\n",
    "        # next frame convert it to grayscale\n",
    "        next_gray = cv2.cvtColor(np.copy(frames[i]), cv2.COLOR_BGR2GRAY)\n",
    "\n",
    "        # Calculate the dense optical flow using Farneback method\n",
    "        flow = cv2.calcOpticalFlowFarneback(prev_gray, next_gray, None, 0.5, 3, 15, 3, 5, 1.2, 0)\n",
    "\n",
    "        # Draw the optical flow vectors on the frame\n",
    "        flow_frame = draw_optical_flow_vectors(flow, np.copy(frames[i]),step)\n",
    "        OF.append(flow)\n",
    "        \n",
    "        # Display the original frame with optical flow vectors\n",
    "        cv2.imshow('Prev Frame',frames[i])\n",
    "        cv2.imshow('Next Frame',frames[i-1])\n",
    "        cv2.imshow('Optical Flow Vectors', flow_frame)\n",
    "\n",
    "        # Wait for a key press to move to the next frame\n",
    "        if cv2.waitKey(0) & 0xFF == ord('q'):\n",
    "            break\n",
    "\n",
    "        # Update the previous frame and grayscale image\n",
    "        prev_gray = next_gray\n",
    "\n",
    "    # Release the video capture object and close all OpenCV windows\n",
    "    cv2.destroyAllWindows()\n",
    "    return OF"
   ]
  },
  {
   "cell_type": "code",
   "execution_count": 19,
   "id": "81b0382a",
   "metadata": {},
   "outputs": [],
   "source": [
    "Optical_V = OFV(Frames[100:150],20)"
   ]
  },
  {
   "cell_type": "markdown",
   "id": "32fdce88",
   "metadata": {},
   "source": [
    "## Lucas-Kanade"
   ]
  },
  {
   "cell_type": "code",
   "execution_count": 20,
   "id": "c8fc4865",
   "metadata": {},
   "outputs": [],
   "source": [
    "def OFKL(frames):\n",
    "    # Parameters for the Lucas-Kanade optical flow\n",
    "    lk_params = dict(winSize=(10, 10), maxLevel=3, criteria=(cv2.TERM_CRITERIA_EPS | cv2.TERM_CRITERIA_COUNT, 10, 0.03))\n",
    "\n",
    "    # Take the first frame and convert it to grayscale\n",
    "    old_frame = np.copy(frames[0])\n",
    "    old_gray = cv2.cvtColor(old_frame, cv2.COLOR_BGR2GRAY)\n",
    "\n",
    "    # Create a grid of points to track\n",
    "    step_size = 10\n",
    "    grid_y, grid_x = np.mgrid[0:old_gray.shape[0]:step_size, 0:old_gray.shape[1]:step_size]\n",
    "    p0 = np.vstack((grid_x.ravel(), grid_y.ravel())).T.astype(np.float32).reshape(-1, 1, 2)\n",
    "\n",
    "\n",
    "    for i in range(1, len(frames)):\n",
    "        frame = np.copy(frames[i])\n",
    "        frame_gray = cv2.cvtColor(frame, cv2.COLOR_BGR2GRAY)\n",
    "\n",
    "        # Calculate optical flow\n",
    "        p1, st, err = cv2.calcOpticalFlowPyrLK(old_gray, frame_gray, p0, None, **lk_params)\n",
    "\n",
    "        # Select good points\n",
    "        good_new = p1[st == 1]\n",
    "        good_old = p0[st == 1]\n",
    "\n",
    "        # Draw the normalized vectors\n",
    "        for j, (new, old) in enumerate(zip(good_new, good_old)):\n",
    "            a, b = new.ravel()\n",
    "            c, d = old.ravel()\n",
    "            # Calculate vector components\n",
    "            dx = a - c\n",
    "            dy = b - d\n",
    "            # Normalize vector\n",
    "            magnitude = np.sqrt(dx**2 + dy**2)\n",
    "            if magnitude > 0:\n",
    "                dx /= magnitude\n",
    "                dy /= magnitude\n",
    "            # Scale vector for visualization\n",
    "            scale = 10  # Adjust this value for smaller or larger arrows\n",
    "            a = int(c + dx * scale)\n",
    "            b = int(d + dy * scale)\n",
    "            frame = cv2.arrowedLine(frame, (int(c), int(d)), (a, b), (0, 255, 0), 2, tipLength=0.5)\n",
    "        \n",
    "        cv2.imshow('Prev',frames[i-1])\n",
    "        cv2.imshow('Next',frames[i])\n",
    "        cv2.imshow('Optical Flow Vectors', frame)\n",
    "        \n",
    "        if cv2.waitKey(0) & 0xff == ord('q'):\n",
    "            break\n",
    "\n",
    "        # Update the previous frame and previous points\n",
    "        old_gray = frame_gray.copy()\n",
    "\n",
    "    cv2.destroyAllWindows()"
   ]
  },
  {
   "cell_type": "code",
   "execution_count": 21,
   "id": "6a638410",
   "metadata": {},
   "outputs": [],
   "source": [
    "OFKL(Frames[100:150])"
   ]
  },
  {
   "cell_type": "markdown",
   "id": "b31b2c67",
   "metadata": {},
   "source": [
    "## Phase Correlation"
   ]
  },
  {
   "cell_type": "code",
   "execution_count": 22,
   "id": "9ec317e3",
   "metadata": {},
   "outputs": [],
   "source": [
    "def PhaseC(frames):\n",
    "\n",
    "    for i in range(len(frames) - 1):\n",
    "        prev_frame = frames[i]\n",
    "        next_frame = frames[i + 1]\n",
    "\n",
    "        # Convert frames to grayscale\n",
    "        prev_gray = cv2.cvtColor(prev_frame, cv2.COLOR_BGR2GRAY)\n",
    "        next_gray = cv2.cvtColor(next_frame, cv2.COLOR_BGR2GRAY)\n",
    "\n",
    "        # Compute phase correlation\n",
    "        shift, _ = cv2.phaseCorrelate(prev_gray.astype(np.float32), next_gray.astype(np.float32))\n",
    "        \n",
    "        # Visualize the shift as a vector field\n",
    "        flow = np.zeros_like(prev_gray)\n",
    "        h, w = flow.shape\n",
    "        x, y = int(w/2), int(h/2)\n",
    "        dx, dy = shift\n",
    "\n",
    "        # Draw the vector on the flow image\n",
    "        flow_img = cv2.cvtColor(flow, cv2.COLOR_GRAY2BGR)\n",
    "        cv2.arrowedLine(flow_img, (x, y), (int(x + dx * 10), int(y + dy * 10)), (0, 255, 0), 2, tipLength=0.3)\n",
    "\n",
    "        # Display the frames and the flow\n",
    "        cv2.imshow('Previous Frame', prev_frame)\n",
    "        cv2.imshow('Next Frame', next_frame)\n",
    "        cv2.imshow('Optical Flow', flow_img)\n",
    "        \n",
    "        \n",
    "        # Wait for key press to proceed to the next frame\n",
    "        if cv2.waitKey(0) & 0xff == ord('q'):\n",
    "            break\n",
    "\n",
    "    cv2.destroyAllWindows()"
   ]
  },
  {
   "cell_type": "code",
   "execution_count": 23,
   "id": "b8b9d8a5",
   "metadata": {},
   "outputs": [],
   "source": [
    "PhaseC(Frames[100:150])"
   ]
  },
  {
   "cell_type": "markdown",
   "id": "23398347",
   "metadata": {},
   "source": [
    "# Frames Differences"
   ]
  },
  {
   "cell_type": "code",
   "execution_count": 24,
   "id": "ac509ac9",
   "metadata": {},
   "outputs": [],
   "source": [
    "def frame_dif(frames, threshold=30):\n",
    "    D = []\n",
    "    prev_frame = frames[0]\n",
    "\n",
    "    for i in range(1,len(frames)):\n",
    "\n",
    "        # Convert frames to grayscale\n",
    "        prev_gray = cv2.cvtColor(prev_frame, cv2.COLOR_BGR2GRAY)\n",
    "        curr_gray = cv2.cvtColor(frames[i], cv2.COLOR_BGR2GRAY)\n",
    "        # Compute absolute difference between frames\n",
    "        diff = cv2.absdiff(prev_gray, curr_gray)\n",
    "              \n",
    "        # Create a mask to highlight pixels with significant changes\n",
    "        mask = np.zeros_like(diff)\n",
    "        mask[diff > threshold] = 255\n",
    "        D.append(mask)\n",
    "        # Show original frame and mask\n",
    "        cv2.imshow('Original Frame', frames[i])\n",
    "        cv2.imshow('Pixels with Most Changes', mask)\n",
    "        if cv2.waitKey(0) & 0xff == ord('q'):\n",
    "            break\n",
    "\n",
    "        prev_frame = frames[i]\n",
    "\n",
    "    # Release the video capture object\n",
    "    cv2.destroyAllWindows()\n",
    "    return D"
   ]
  },
  {
   "cell_type": "code",
   "execution_count": 25,
   "id": "44184948",
   "metadata": {},
   "outputs": [],
   "source": [
    "Dif = frame_dif(Frames[200:250],20)"
   ]
  },
  {
   "cell_type": "markdown",
   "id": "fbc09573",
   "metadata": {},
   "source": [
    "# Change Color Channel's Ranges"
   ]
  },
  {
   "cell_type": "code",
   "execution_count": 30,
   "id": "4d86d0e1",
   "metadata": {},
   "outputs": [],
   "source": [
    "def change_range_colors(image, min_vals=(0, 0, 0), max_vals=(255, 255, 255)):\n",
    "    # Split the image into its BGR channels\n",
    "    b, g, r = cv2.split(image)\n",
    "    \n",
    "    # Clip each channel to its respective range\n",
    "    b = np.clip(b, min_vals[0], max_vals[0])\n",
    "    g = np.clip(g, min_vals[1], max_vals[1])\n",
    "    r = np.clip(r, min_vals[2], max_vals[2])\n",
    "    \n",
    "    # Merge the channels back together\n",
    "    new_image = cv2.merge((b, g, r))\n",
    "    \n",
    "    return new_image"
   ]
  },
  {
   "cell_type": "code",
   "execution_count": 43,
   "id": "db07a57f",
   "metadata": {},
   "outputs": [],
   "source": [
    "Nframe = change_range_colors(Frames[100],(0,50,100),(250,200,250))\n",
    "cv2.imshow('original',Frames[100])\n",
    "cv2.imshow('changed',Nframe)\n",
    "cv2.waitKey(0)\n",
    "cv2.destroyAllWindows()"
   ]
  },
  {
   "cell_type": "markdown",
   "id": "c285c89f",
   "metadata": {},
   "source": [
    "# Add Occlusions"
   ]
  },
  {
   "cell_type": "code",
   "execution_count": 158,
   "id": "7f6f2aef",
   "metadata": {},
   "outputs": [],
   "source": [
    "def occlusions(image, num_occlusions):    \n",
    "    output_image = np.copy(image)\n",
    "    \n",
    "    height, width = image.shape[:2]\n",
    "    \n",
    "    # Draw random occlusions on the image\n",
    "    for _ in range(num_occlusions):\n",
    "        shape_type = random.choice(['rectangle', 'circle'])\n",
    "        color = (random.randint(0, 255), random.randint(0, 255), random.randint(0, 255))  # Random color\n",
    "        \n",
    "        if shape_type == 'rectangle':\n",
    "            x = random.randint(0, width - 1)\n",
    "            y = random.randint(0, height - 1)\n",
    "            width_rect = random.randint(10, 100)\n",
    "            height_rect = random.randint(10, 100)\n",
    "            cv2.rectangle(output_image, (x, y), (x + width_rect, y + height_rect), color, -1)  # Filled rectangle\n",
    "        \n",
    "        elif shape_type == 'circle':\n",
    "            center = (random.randint(0, width - 1), random.randint(0, height - 1))\n",
    "            radius = random.randint(5, 50)\n",
    "            cv2.circle(output_image, center, radius, color, -1)  # Filled circle\n",
    "    \n",
    "    return output_image"
   ]
  },
  {
   "cell_type": "code",
   "execution_count": 159,
   "id": "5ff0c5f1",
   "metadata": {},
   "outputs": [],
   "source": [
    "New_img = draw_occlusions(Frames[100], 1)\n",
    "\n",
    "cv2.imshow('Original Image', Frames[100])\n",
    "cv2.imshow('Image with Occlusions', cv2.cvtColor(New_img,cv2.COLOR_BGR2RGB))\n",
    "cv2.imshow('Image with Occlusions1', New_img)\n",
    "cv2.waitKey(0)\n",
    "cv2.destroyAllWindows()"
   ]
  },
  {
   "cell_type": "markdown",
   "id": "694c4d9e",
   "metadata": {},
   "source": [
    "# Display Image"
   ]
  },
  {
   "cell_type": "code",
   "execution_count": 116,
   "id": "acb9a4b6",
   "metadata": {},
   "outputs": [],
   "source": [
    "def display_frame(I):\n",
    "    cv2.imshow('I', I)\n",
    "    cv2.waitKey(0)\n",
    "    cv2.destroyAllWindows()"
   ]
  },
  {
   "cell_type": "markdown",
   "id": "4a349343",
   "metadata": {},
   "source": [
    "# Experiments"
   ]
  },
  {
   "cell_type": "code",
   "execution_count": 181,
   "id": "14c227bf",
   "metadata": {},
   "outputs": [
    {
     "name": "stdout",
     "output_type": "stream",
     "text": [
      "Width:  640\n",
      "Height:  346\n",
      "Original FPS:  25.0\n",
      "Frame Count:  3946\n"
     ]
    }
   ],
   "source": [
    "file = 'VDB\\H.mp4'\n",
    "cap = open_vid(file)\n",
    "width = int(cap.get(cv2.CAP_PROP_FRAME_WIDTH))\n",
    "height = int(cap.get(cv2.CAP_PROP_FRAME_HEIGHT))\n",
    "original_fps = cap.get(cv2.CAP_PROP_FPS)\n",
    "frame_count = int(cap.get(cv2.CAP_PROP_FRAME_COUNT))\n",
    "print(\"Width: \",width)\n",
    "print(\"Height: \",height)\n",
    "print(\"Original FPS: \",original_fps)\n",
    "print(\"Frame Count: \",frame_count)\n",
    "Frames = get_frames(cap)"
   ]
  },
  {
   "cell_type": "code",
   "execution_count": 182,
   "id": "87352efa",
   "metadata": {},
   "outputs": [],
   "source": [
    "F = Frames.copy()\n",
    "F[115] = cv2.cvtColor(draw_occlusions(F[115],1),cv2.COLOR_BGR2RGB)\n",
    "display_frame(F[115])"
   ]
  },
  {
   "cell_type": "code",
   "execution_count": 184,
   "id": "2236a4bf",
   "metadata": {},
   "outputs": [
    {
     "name": "stdout",
     "output_type": "stream",
     "text": [
      "Delay:  40\n"
     ]
    }
   ],
   "source": [
    "play_frames(F[100:130],original_fps)"
   ]
  },
  {
   "cell_type": "code",
   "execution_count": 188,
   "id": "ad80adeb",
   "metadata": {},
   "outputs": [
    {
     "name": "stdout",
     "output_type": "stream",
     "text": [
      "Delay:  200\n"
     ]
    }
   ],
   "source": [
    "play_frames(F[100:130],10)"
   ]
  },
  {
   "cell_type": "code",
   "execution_count": 187,
   "id": "43719a48",
   "metadata": {},
   "outputs": [
    {
     "name": "stdout",
     "output_type": "stream",
     "text": [
      "Delay:  20\n"
     ]
    }
   ],
   "source": [
    "play_frames(F[100:130],50)"
   ]
  },
  {
   "cell_type": "code",
   "execution_count": 190,
   "id": "cd49e5c7",
   "metadata": {},
   "outputs": [],
   "source": [
    "F = Frames.copy()\n",
    "F[115] = change_range_colors(F[115],(0,50,100),(250,200,250))\n",
    "display_frame(F[115])"
   ]
  },
  {
   "cell_type": "code",
   "execution_count": 191,
   "id": "b3e2cb71",
   "metadata": {},
   "outputs": [
    {
     "name": "stdout",
     "output_type": "stream",
     "text": [
      "Delay:  40\n"
     ]
    }
   ],
   "source": [
    "play_frames(F[100:130],original_fps)"
   ]
  },
  {
   "cell_type": "code",
   "execution_count": 192,
   "id": "c9ef6fff",
   "metadata": {},
   "outputs": [
    {
     "name": "stdout",
     "output_type": "stream",
     "text": [
      "Delay:  100\n"
     ]
    }
   ],
   "source": [
    "play_frames(F[100:130],10)"
   ]
  },
  {
   "cell_type": "code",
   "execution_count": 193,
   "id": "f1bf34d6",
   "metadata": {},
   "outputs": [
    {
     "name": "stdout",
     "output_type": "stream",
     "text": [
      "Delay:  20\n"
     ]
    }
   ],
   "source": [
    "play_frames(F[100:130],50)"
   ]
  },
  {
   "cell_type": "code",
   "execution_count": null,
   "id": "6106a036",
   "metadata": {},
   "outputs": [],
   "source": []
  }
 ],
 "metadata": {
  "kernelspec": {
   "display_name": "Python 3",
   "language": "python",
   "name": "python3"
  },
  "language_info": {
   "codemirror_mode": {
    "name": "ipython",
    "version": 3
   },
   "file_extension": ".py",
   "mimetype": "text/x-python",
   "name": "python",
   "nbconvert_exporter": "python",
   "pygments_lexer": "ipython3",
   "version": "3.7.6"
  }
 },
 "nbformat": 4,
 "nbformat_minor": 5
}
