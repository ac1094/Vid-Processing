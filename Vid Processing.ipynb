{
 "cells": [
  {
   "cell_type": "code",
   "execution_count": 93,
   "id": "03b66de3",
   "metadata": {},
   "outputs": [],
   "source": [
    "import cv2\n",
    "import os\n",
    "import numpy as np\n",
    "\n",
    "input_file = 'VDB\\H.mp4'   "
   ]
  },
  {
   "cell_type": "markdown",
   "id": "dcb5474e",
   "metadata": {},
   "source": [
    "# Open Video"
   ]
  },
  {
   "cell_type": "code",
   "execution_count": 94,
   "id": "71171ed2",
   "metadata": {},
   "outputs": [],
   "source": [
    "cap = cv2.VideoCapture(input_file)\n",
    "if not cap.isOpened():\n",
    "    print(\"Error: Could not open video.\")"
   ]
  },
  {
   "cell_type": "markdown",
   "id": "a6e3ae6f",
   "metadata": {},
   "source": [
    "# Get Video Properties"
   ]
  },
  {
   "cell_type": "code",
   "execution_count": 95,
   "id": "cbe73dca",
   "metadata": {},
   "outputs": [
    {
     "name": "stdout",
     "output_type": "stream",
     "text": [
      "Width:  640\n",
      "Height:  346\n",
      "Original FPS:  25.0\n",
      "Frame Count:  3946\n"
     ]
    }
   ],
   "source": [
    "width = int(cap.get(cv2.CAP_PROP_FRAME_WIDTH))\n",
    "height = int(cap.get(cv2.CAP_PROP_FRAME_HEIGHT))\n",
    "original_fps = cap.get(cv2.CAP_PROP_FPS)\n",
    "frame_count = int(cap.get(cv2.CAP_PROP_FRAME_COUNT))\n",
    "print(\"Width: \",width)\n",
    "print(\"Height: \",height)\n",
    "print(\"Original FPS: \",original_fps)\n",
    "print(\"Frame Count: \",frame_count)"
   ]
  },
  {
   "cell_type": "code",
   "execution_count": 96,
   "id": "49aa6cca",
   "metadata": {},
   "outputs": [],
   "source": [
    "def get_frames(cap):\n",
    "    frames = []\n",
    "    frame_count = int(cap.get(cv2.CAP_PROP_FRAME_COUNT))\n",
    "    for i in range(frame_count):\n",
    "        # Read a frame from the video\n",
    "        ret, frame = cap.read()\n",
    "        if not ret:\n",
    "            print(\"Error: Could not read frame.\")\n",
    "            return frames\n",
    "\n",
    "        # Save the frame to the list\n",
    "        frames.append(frame)\n",
    "        \n",
    "    if not frames:\n",
    "        print(\"No frames were saved.\")\n",
    "    \n",
    "    return frames"
   ]
  },
  {
   "cell_type": "code",
   "execution_count": 97,
   "id": "cc705cce",
   "metadata": {},
   "outputs": [],
   "source": [
    "cap.set(cv2.CAP_PROP_POS_FRAMES, 0)\n",
    "Frames = get_frames(cap)"
   ]
  },
  {
   "cell_type": "markdown",
   "id": "64add007",
   "metadata": {},
   "source": [
    "# Delete PNG Files in Directory"
   ]
  },
  {
   "cell_type": "code",
   "execution_count": 98,
   "id": "624d846b",
   "metadata": {},
   "outputs": [],
   "source": [
    "def delete_png_files(directory_path):\n",
    "    # List all files in the specified directory\n",
    "    for filename in os.listdir(directory_path):\n",
    "        # Construct full file path\n",
    "        file_path = os.path.join(directory_path, filename)\n",
    "        try:\n",
    "            # Check if it's a PNG file and remove it\n",
    "            if os.path.isfile(file_path) and filename.lower().endswith('.png'):\n",
    "                os.remove(file_path)\n",
    "        except Exception as e:\n",
    "            print(f'Failed to delete {file_path}. Reason: {e}')"
   ]
  },
  {
   "cell_type": "markdown",
   "id": "9f3d158d",
   "metadata": {},
   "source": [
    "# Read and Save Frames in Interval"
   ]
  },
  {
   "cell_type": "code",
   "execution_count": 99,
   "id": "e82210bc",
   "metadata": {},
   "outputs": [],
   "source": [
    "def save_frames_as_vid(frames, frame_folder):\n",
    "    # Create the folder to save frames if it doesn't exist\n",
    "    if not os.path.exists(frame_folder):\n",
    "        os.makedirs(frame_folder)\n",
    "\n",
    "    frame_count = 0\n",
    "    for i in range(len(frames)):\n",
    "        # Save the frame as an image file\n",
    "        frame_filename = os.path.join(frame_folder, f'frame_{frame_count:03d}.png')\n",
    "        cv2.imwrite(frame_filename, frames[i])\n",
    "        frame_count += 1\n",
    "\n",
    "    #if not frames:\n",
    "         #print(\"No frames were saved.\")"
   ]
  },
  {
   "cell_type": "code",
   "execution_count": 100,
   "id": "889245fb",
   "metadata": {},
   "outputs": [],
   "source": [
    "#delete_png_files('saved_frames')"
   ]
  },
  {
   "cell_type": "code",
   "execution_count": 101,
   "id": "5eba3190",
   "metadata": {},
   "outputs": [],
   "source": [
    "#save_frames_as_vid(Frames[50:100],\"saved_frames\")"
   ]
  },
  {
   "cell_type": "markdown",
   "id": "a6873c86",
   "metadata": {},
   "source": [
    "# Create Video with Set of Frames"
   ]
  },
  {
   "cell_type": "code",
   "execution_count": 102,
   "id": "c43889a2",
   "metadata": {},
   "outputs": [],
   "source": [
    "def save_vid(frames,output_file,fps):\n",
    "    # Get frame dimensions\n",
    "    height, width, _ = frames[0].shape\n",
    "\n",
    "    # Define the codec and create VideoWriter object\n",
    "    fourcc = cv2.VideoWriter_fourcc(*'mp4v')\n",
    "    out = cv2.VideoWriter(output_file, fourcc, fps, (width, height))\n",
    "\n",
    "    # Write the frames to the new video file\n",
    "    [out.write(frame) for frame in frames];\n",
    "\n",
    "    # Release the video writer object\n",
    "    out.release()"
   ]
  },
  {
   "cell_type": "code",
   "execution_count": 103,
   "id": "372ff1ad",
   "metadata": {},
   "outputs": [],
   "source": [
    "#save_vid(Frames[100:150], \"slice_vid.mp4\", original_fps)"
   ]
  },
  {
   "cell_type": "markdown",
   "id": "58e93d15",
   "metadata": {},
   "source": [
    "# Change FPS"
   ]
  },
  {
   "cell_type": "code",
   "execution_count": 104,
   "id": "3f3c50a4",
   "metadata": {},
   "outputs": [],
   "source": [
    "#save_vid(Frames[100:150],\"slice_vid_new_fps.mp4\",12)"
   ]
  },
  {
   "cell_type": "markdown",
   "id": "f64a1a40",
   "metadata": {},
   "source": [
    "# Play Frames"
   ]
  },
  {
   "cell_type": "code",
   "execution_count": 105,
   "id": "1690e78e",
   "metadata": {},
   "outputs": [],
   "source": [
    "def play_frames(frames,fps):\n",
    "    \n",
    "    delay = int(1000/fps)\n",
    "    print(\"Delay: \",delay)\n",
    "\n",
    "    for frame in frames:\n",
    "        # Display the frame\n",
    "        cv2.imshow('Video Playback', frame)\n",
    "        # Exit the playback if 'q' is pressed\n",
    "        if cv2.waitKey(delay) & 0xFF == ord('q'):\n",
    "            break\n",
    "            \n",
    "    cv2.destroyAllWindows()"
   ]
  },
  {
   "cell_type": "code",
   "execution_count": 106,
   "id": "78bb50e1",
   "metadata": {},
   "outputs": [],
   "source": [
    "#play_frames(Frames[:100],24)"
   ]
  },
  {
   "cell_type": "markdown",
   "id": "6b4b0ecf",
   "metadata": {},
   "source": [
    "# Optical Flow"
   ]
  },
  {
   "cell_type": "markdown",
   "id": "454e4dd9",
   "metadata": {},
   "source": [
    "## Farneback Magnitude"
   ]
  },
  {
   "cell_type": "code",
   "execution_count": 107,
   "id": "43aa7633",
   "metadata": {},
   "outputs": [],
   "source": [
    "def OFM(frames):\n",
    "    \n",
    "    OF = [] \n",
    "    #Convert to Grayscale\n",
    "    prev_gray = cv2.cvtColor(frames[0], cv2.COLOR_BGR2GRAY)\n",
    "\n",
    "    for i in range(len(frames)-1):\n",
    "        #Convert the next frame to grayscale\n",
    "        next_gray = cv2.cvtColor(frames[i+1], cv2.COLOR_BGR2GRAY)\n",
    "\n",
    "        # Calculate the dense optical flow using Farneback method\n",
    "        flow = cv2.calcOpticalFlowFarneback(prev_gray, next_gray, None, 0.5,  3,  10,  10,    5,    1.2,   0)\n",
    "                                            #prev      next       flow  dist lvl  win  it  smooth  std   flag \n",
    " \n",
    "        # Visualize the optical flow\n",
    "        hsv = np.zeros_like(frames[i]) #[ch0,ch1,ch2]\n",
    "        hsv[..., 1] = 255 #ch1 Saturation (Full)\n",
    "\n",
    "        mag, ang = cv2.cartToPolar(flow[..., 0], flow[..., 1]) #Cartesian to Polar\n",
    "        hsv[..., 0] = ang * 180 / np.pi / 2  \n",
    "        hsv[..., 2] = cv2.normalize(mag, None, 0, 255, cv2.NORM_MINMAX) #Normalize from 0 to 255\n",
    "        flow_rgb = cv2.cvtColor(hsv, cv2.COLOR_HSV2BGR)   #Convert to RBG\n",
    "        OF.append(flow_rgb)\n",
    "        \n",
    "        flow_M  = flow[...,0]+flow[...,1]\n",
    "        \n",
    "        # Display the original frame and the optical flow\n",
    "        cv2.imshow('Prev Frame', frames[i])\n",
    "        cv2.imshow('Next Frame', frames[i+1])\n",
    "        cv2.imshow('Optical Flow', flow_rgb)\n",
    "        cv2.imshow('Optical Flow Mag',flow_M)\n",
    "\n",
    "        # Wait for a key press to move to the next frame\n",
    "        if cv2.waitKey(0) & 0xFF==ord('q'):\n",
    "            break\n",
    "\n",
    "        # Update the previous frame and grayscale image\n",
    "        prev_gray = next_gray\n",
    "\n",
    "    # Release the video capture object and close all OpenCV windows\n",
    "    cv2.destroyAllWindows()\n",
    "    return OF"
   ]
  },
  {
   "cell_type": "code",
   "execution_count": 108,
   "id": "efc5f2ae",
   "metadata": {},
   "outputs": [],
   "source": [
    "Optical_R = OFM(Frames[200:250])"
   ]
  },
  {
   "cell_type": "markdown",
   "id": "5d62d31d",
   "metadata": {},
   "source": [
    "## Farneack with Vectors"
   ]
  },
  {
   "cell_type": "code",
   "execution_count": 109,
   "id": "04370f35",
   "metadata": {},
   "outputs": [],
   "source": [
    "def draw_optical_flow_vectors(flow, frame, step):\n",
    "    h, w = frame.shape[:2]\n",
    "    y, x = np.mgrid[step/2:h:step, step/2:w:step].reshape(2, -1).astype(int)\n",
    "    fx, fy = flow[y, x].T\n",
    "\n",
    "    # Create a mask to draw the vectors\n",
    "    mask = np.zeros_like(frame)\n",
    "    \n",
    "    # Create line endpoints\n",
    "    lines = np.vstack([x, y, x+fx, y+fy]).T.reshape(-1, 2, 2)\n",
    "    lines = np.int32(lines + 0.5)\n",
    "\n",
    "    # Draw lines and circles\n",
    "    for (x1, y1), (x2, y2) in lines:\n",
    "        cv2.line(mask, (x1, y1), (x2, y2), (0, 255, 0), 1)\n",
    "        cv2.circle(frame, (x1, y1), 1, (0, 255, 0), -1)\n",
    "\n",
    "    return cv2.add(frame, mask)\n",
    "\n",
    "def OFV(frames,step):\n",
    "    OF = []\n",
    "    \n",
    "    #convert it to grayscale\n",
    "    prev_gray = cv2.cvtColor(np.copy(frames[0]), cv2.COLOR_BGR2GRAY)\n",
    "\n",
    "    for i in range(1,len(frames)):\n",
    "        # next frame convert it to grayscale\n",
    "        next_gray = cv2.cvtColor(np.copy(frames[i]), cv2.COLOR_BGR2GRAY)\n",
    "\n",
    "        # Calculate the dense optical flow using Farneback method\n",
    "        flow = cv2.calcOpticalFlowFarneback(prev_gray, next_gray, None, 0.5, 3, 15, 3, 5, 1.2, 0)\n",
    "\n",
    "        # Draw the optical flow vectors on the frame\n",
    "        flow_frame = draw_optical_flow_vectors(flow, np.copy(frames[i]),step)\n",
    "        OF.append(flow)\n",
    "        \n",
    "        # Display the original frame with optical flow vectors\n",
    "        cv2.imshow('Prev Frame',frames[i])\n",
    "        cv2.imshow('Next Frame',frames[i-1])\n",
    "        cv2.imshow('Optical Flow Vectors', flow_frame)\n",
    "\n",
    "        # Wait for a key press to move to the next frame\n",
    "        if cv2.waitKey(0) & 0xFF == ord('q'):\n",
    "            break\n",
    "\n",
    "        # Update the previous frame and grayscale image\n",
    "        prev_gray = next_gray\n",
    "\n",
    "    # Release the video capture object and close all OpenCV windows\n",
    "    cv2.destroyAllWindows()\n",
    "    return OF"
   ]
  },
  {
   "cell_type": "code",
   "execution_count": 110,
   "id": "d6f63c32",
   "metadata": {},
   "outputs": [],
   "source": [
    "Optical_V = OFV(Frames[200:250],20)"
   ]
  },
  {
   "cell_type": "markdown",
   "id": "2ca6fc82",
   "metadata": {},
   "source": [
    "## Lucas-Kanade"
   ]
  },
  {
   "cell_type": "code",
   "execution_count": 111,
   "id": "068ca502",
   "metadata": {},
   "outputs": [],
   "source": [
    "def OFKL(frames):\n",
    "    # Parameters for the Lucas-Kanade optical flow\n",
    "    lk_params = dict(winSize=(10,10),maxLevel=3,criteria=(cv2.TERM_CRITERIA_EPS | cv2.TERM_CRITERIA_COUNT, 10, 0.03))\n",
    "\n",
    "    # Parameters for ShiTomasi corner detection\n",
    "    feature_params = dict(maxCorners = 100,qualityLevel = 0.3,minDistance = 7,blockSize = 7)\n",
    "\n",
    "    # Take first frame and find corners in it\n",
    "    old_frame = np.copy(frames[0])\n",
    "    old_gray = cv2.cvtColor(old_frame, cv2.COLOR_BGR2GRAY)\n",
    "    p0 = cv2.goodFeaturesToTrack(old_gray, mask=None, **feature_params)\n",
    "\n",
    "    # Check if any points are detected\n",
    "    if p0 is None:\n",
    "        print(\"No points detected in the initial frame.\")\n",
    "        return\n",
    "\n",
    "    # Create a mask image for drawing purposes\n",
    "    mask = np.zeros_like(old_frame)\n",
    "\n",
    "    for i in range(1, len(frames)):\n",
    "        frame = np.copy(frames[i])\n",
    "        frame_gray = cv2.cvtColor(frame, cv2.COLOR_BGR2GRAY)\n",
    "\n",
    "        # Calculate optical flow\n",
    "        if p0 is not None and len(p0) > 0:\n",
    "            p1, st, err = cv2.calcOpticalFlowPyrLK(old_gray, frame_gray, p0, None, **lk_params)\n",
    "\n",
    "            # Select good points\n",
    "            good_new = p1[st == 1]\n",
    "            good_old = p0[st == 1]\n",
    "\n",
    "            # Draw the tracks\n",
    "            for j, (new, old) in enumerate(zip(good_new, good_old)):\n",
    "                a, b = new.ravel()\n",
    "                c, d = old.ravel()\n",
    "                mask = cv2.line(mask, (a, b), (c, d), (0, 255, 0), 2)\n",
    "                frame = cv2.circle(frame, (a, b), 5, (0, 0, 255), -1)\n",
    "\n",
    "            img = cv2.add(frame, mask)\n",
    "            \n",
    "            cv2.imshow('Prev Frame',frames[i-1])\n",
    "            cv2.imshow('Next Frame',frames[i])\n",
    "            cv2.imshow('Optical Flow', img)\n",
    "            \n",
    "            if cv2.waitKey(0) & 0xff==ord('q'):\n",
    "                break\n",
    "\n",
    "            # Update the previous frame and previous points\n",
    "            old_gray = frame_gray.copy()\n",
    "            p0 = good_new.reshape(-1, 1, 2)\n",
    "        else:\n",
    "            print(\"No good points to track.\")\n",
    "            break\n",
    "\n",
    "    cv2.destroyAllWindows()"
   ]
  },
  {
   "cell_type": "code",
   "execution_count": 116,
   "id": "85b11922",
   "metadata": {},
   "outputs": [],
   "source": [
    "OFKL(Frames[200:250])"
   ]
  },
  {
   "cell_type": "code",
   "execution_count": 119,
   "id": "41b954fc",
   "metadata": {},
   "outputs": [],
   "source": [
    "def LKV(frames):\n",
    "    if not frames:\n",
    "        print(\"The list of frames is empty.\")\n",
    "        return\n",
    "\n",
    "    # Parameters for the Lucas-Kanade optical flow\n",
    "    lk_params = dict(winSize=(15, 15),\n",
    "                     maxLevel=2,\n",
    "                     criteria=(cv2.TERM_CRITERIA_EPS | cv2.TERM_CRITERIA_COUNT, 10, 0.03))\n",
    "\n",
    "    # Parameters for ShiTomasi corner detection\n",
    "    feature_params = dict(maxCorners=100,\n",
    "                          qualityLevel=0.3,\n",
    "                          minDistance=7,\n",
    "                          blockSize=7)\n",
    "\n",
    "    # Take first frame and find corners in it\n",
    "    old_frame = frames[0]\n",
    "    old_gray = cv2.cvtColor(old_frame, cv2.COLOR_BGR2GRAY)\n",
    "    p0 = cv2.goodFeaturesToTrack(old_gray, mask=None, **feature_params)\n",
    "\n",
    "    # Check if any points are detected\n",
    "    if p0 is None:\n",
    "        print(\"No points detected in the initial frame.\")\n",
    "        return\n",
    "\n",
    "    for i in range(1, len(frames)):\n",
    "        frame = frames[i]\n",
    "        frame_gray = cv2.cvtColor(frame, cv2.COLOR_BGR2GRAY)\n",
    "\n",
    "        # Calculate optical flow\n",
    "        if p0 is not None and len(p0) > 0:\n",
    "            p1, st, err = cv2.calcOpticalFlowPyrLK(old_gray, frame_gray, p0, None, **lk_params)\n",
    "\n",
    "            # Select good points\n",
    "            good_new = p1[st == 1]\n",
    "            good_old = p0[st == 1]\n",
    "\n",
    "            # Draw the vectors\n",
    "            for j, (new, old) in enumerate(zip(good_new, good_old)):\n",
    "                a, b = new.ravel()\n",
    "                c, d = old.ravel()\n",
    "                frame = cv2.arrowedLine(frame, (c, d), (a, b), (0, 255, 0), 2, tipLength=0.5)\n",
    "\n",
    "            cv2.imshow('Optical Flow', frame)\n",
    "\n",
    "            k = cv2.waitKey(30) & 0xff\n",
    "            if k == 27:  # Press 'ESC' to exit\n",
    "                break\n",
    "\n",
    "            # Update the previous frame and previous points\n",
    "            old_gray = frame_gray.copy()\n",
    "            p0 = good_new.reshape(-1, 1, 2)\n",
    "        else:\n",
    "            print(\"No good points to track.\")\n",
    "            break\n",
    "\n",
    "    cv2.destroyAllWindows()"
   ]
  },
  {
   "cell_type": "code",
   "execution_count": 120,
   "id": "5104f428",
   "metadata": {},
   "outputs": [],
   "source": [
    "LKV(Frames[300:350])"
   ]
  },
  {
   "cell_type": "markdown",
   "id": "69b63dc5",
   "metadata": {},
   "source": [
    "# Frames Differences"
   ]
  },
  {
   "cell_type": "code",
   "execution_count": 113,
   "id": "e21772ad",
   "metadata": {},
   "outputs": [],
   "source": [
    "def frame_dif(frames, threshold=30):\n",
    "    D = []\n",
    "    prev_frame = frames[0]\n",
    "\n",
    "    for i in range(1,len(frames)):\n",
    "\n",
    "        # Convert frames to grayscale\n",
    "        prev_gray = cv2.cvtColor(prev_frame, cv2.COLOR_BGR2GRAY)\n",
    "        curr_gray = cv2.cvtColor(frames[i], cv2.COLOR_BGR2GRAY)\n",
    "        # Compute absolute difference between frames\n",
    "        diff = cv2.absdiff(prev_gray, curr_gray)\n",
    "              \n",
    "        # Create a mask to highlight pixels with significant changes\n",
    "        mask = np.zeros_like(diff)\n",
    "        mask[diff > threshold] = 255\n",
    "        D.append(mask)\n",
    "        # Show original frame and mask\n",
    "        cv2.imshow('Original Frame', frames[i])\n",
    "        cv2.imshow('Pixels with Most Changes', mask)\n",
    "        if cv2.waitKey(0) & 0xff == ord('q'):\n",
    "            break\n",
    "\n",
    "        prev_frame = frames[i]\n",
    "\n",
    "    # Release the video capture object\n",
    "    cv2.destroyAllWindows()\n",
    "    return D"
   ]
  },
  {
   "cell_type": "code",
   "execution_count": 114,
   "id": "d5f500a2",
   "metadata": {},
   "outputs": [],
   "source": [
    "Dif = frame_dif(Frames[200:250],30)"
   ]
  },
  {
   "cell_type": "code",
   "execution_count": null,
   "id": "8035f61e",
   "metadata": {},
   "outputs": [],
   "source": []
  }
 ],
 "metadata": {
  "kernelspec": {
   "display_name": "Python 3",
   "language": "python",
   "name": "python3"
  },
  "language_info": {
   "codemirror_mode": {
    "name": "ipython",
    "version": 3
   },
   "file_extension": ".py",
   "mimetype": "text/x-python",
   "name": "python",
   "nbconvert_exporter": "python",
   "pygments_lexer": "ipython3",
   "version": "3.7.6"
  }
 },
 "nbformat": 4,
 "nbformat_minor": 5
}
